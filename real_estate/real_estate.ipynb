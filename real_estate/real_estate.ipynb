{
 "cells": [
  {
   "cell_type": "markdown",
   "metadata": {},
   "source": [
    "### Откройте файл с данными и изучите общую информацию. "
   ]
  },
  {
   "cell_type": "code",
   "execution_count": 1,
   "metadata": {
    "scrolled": true
   },
   "outputs": [],
   "source": [
    "import pandas as pd\n",
    "import seaborn as sns\n",
    "import matplotlib.pyplot as plt"
   ]
  },
  {
   "cell_type": "code",
   "execution_count": 2,
   "metadata": {
    "scrolled": true
   },
   "outputs": [],
   "source": [
    "from plotly import graph_objects as go"
   ]
  },
  {
   "cell_type": "code",
   "execution_count": 3,
   "metadata": {
    "scrolled": true
   },
   "outputs": [],
   "source": [
    "from plotly import graph_objects as go\n",
    "import matplotlib.pyplot as plt"
   ]
  },
  {
   "cell_type": "code",
   "execution_count": 4,
   "metadata": {
    "scrolled": false
   },
   "outputs": [
    {
     "data": {
      "text/html": [
       "<div>\n",
       "<style scoped>\n",
       "    .dataframe tbody tr th:only-of-type {\n",
       "        vertical-align: middle;\n",
       "    }\n",
       "\n",
       "    .dataframe tbody tr th {\n",
       "        vertical-align: top;\n",
       "    }\n",
       "\n",
       "    .dataframe thead th {\n",
       "        text-align: right;\n",
       "    }\n",
       "</style>\n",
       "<table border=\"1\" class=\"dataframe\">\n",
       "  <thead>\n",
       "    <tr style=\"text-align: right;\">\n",
       "      <th></th>\n",
       "      <th>total_images</th>\n",
       "      <th>last_price</th>\n",
       "      <th>total_area</th>\n",
       "      <th>first_day_exposition</th>\n",
       "      <th>rooms</th>\n",
       "      <th>ceiling_height</th>\n",
       "      <th>floors_total</th>\n",
       "      <th>living_area</th>\n",
       "      <th>floor</th>\n",
       "      <th>is_apartment</th>\n",
       "      <th>...</th>\n",
       "      <th>kitchen_area</th>\n",
       "      <th>balcony</th>\n",
       "      <th>locality_name</th>\n",
       "      <th>airports_nearest</th>\n",
       "      <th>cityCenters_nearest</th>\n",
       "      <th>parks_around3000</th>\n",
       "      <th>parks_nearest</th>\n",
       "      <th>ponds_around3000</th>\n",
       "      <th>ponds_nearest</th>\n",
       "      <th>days_exposition</th>\n",
       "    </tr>\n",
       "  </thead>\n",
       "  <tbody>\n",
       "    <tr>\n",
       "      <th>0</th>\n",
       "      <td>20</td>\n",
       "      <td>13000000.0</td>\n",
       "      <td>108.00</td>\n",
       "      <td>2019-03-07T00:00:00</td>\n",
       "      <td>3</td>\n",
       "      <td>2.70</td>\n",
       "      <td>16.0</td>\n",
       "      <td>51.0</td>\n",
       "      <td>8</td>\n",
       "      <td>NaN</td>\n",
       "      <td>...</td>\n",
       "      <td>25.00</td>\n",
       "      <td>NaN</td>\n",
       "      <td>Санкт-Петербург</td>\n",
       "      <td>18863.0</td>\n",
       "      <td>16028.0</td>\n",
       "      <td>1.0</td>\n",
       "      <td>482.0</td>\n",
       "      <td>2.0</td>\n",
       "      <td>755.0</td>\n",
       "      <td>NaN</td>\n",
       "    </tr>\n",
       "    <tr>\n",
       "      <th>1</th>\n",
       "      <td>7</td>\n",
       "      <td>3350000.0</td>\n",
       "      <td>40.40</td>\n",
       "      <td>2018-12-04T00:00:00</td>\n",
       "      <td>1</td>\n",
       "      <td>NaN</td>\n",
       "      <td>11.0</td>\n",
       "      <td>18.6</td>\n",
       "      <td>1</td>\n",
       "      <td>NaN</td>\n",
       "      <td>...</td>\n",
       "      <td>11.00</td>\n",
       "      <td>2.0</td>\n",
       "      <td>посёлок Шушары</td>\n",
       "      <td>12817.0</td>\n",
       "      <td>18603.0</td>\n",
       "      <td>0.0</td>\n",
       "      <td>NaN</td>\n",
       "      <td>0.0</td>\n",
       "      <td>NaN</td>\n",
       "      <td>81.0</td>\n",
       "    </tr>\n",
       "    <tr>\n",
       "      <th>2</th>\n",
       "      <td>10</td>\n",
       "      <td>5196000.0</td>\n",
       "      <td>56.00</td>\n",
       "      <td>2015-08-20T00:00:00</td>\n",
       "      <td>2</td>\n",
       "      <td>NaN</td>\n",
       "      <td>5.0</td>\n",
       "      <td>34.3</td>\n",
       "      <td>4</td>\n",
       "      <td>NaN</td>\n",
       "      <td>...</td>\n",
       "      <td>8.30</td>\n",
       "      <td>0.0</td>\n",
       "      <td>Санкт-Петербург</td>\n",
       "      <td>21741.0</td>\n",
       "      <td>13933.0</td>\n",
       "      <td>1.0</td>\n",
       "      <td>90.0</td>\n",
       "      <td>2.0</td>\n",
       "      <td>574.0</td>\n",
       "      <td>558.0</td>\n",
       "    </tr>\n",
       "    <tr>\n",
       "      <th>3</th>\n",
       "      <td>0</td>\n",
       "      <td>64900000.0</td>\n",
       "      <td>159.00</td>\n",
       "      <td>2015-07-24T00:00:00</td>\n",
       "      <td>3</td>\n",
       "      <td>NaN</td>\n",
       "      <td>14.0</td>\n",
       "      <td>NaN</td>\n",
       "      <td>9</td>\n",
       "      <td>NaN</td>\n",
       "      <td>...</td>\n",
       "      <td>NaN</td>\n",
       "      <td>0.0</td>\n",
       "      <td>Санкт-Петербург</td>\n",
       "      <td>28098.0</td>\n",
       "      <td>6800.0</td>\n",
       "      <td>2.0</td>\n",
       "      <td>84.0</td>\n",
       "      <td>3.0</td>\n",
       "      <td>234.0</td>\n",
       "      <td>424.0</td>\n",
       "    </tr>\n",
       "    <tr>\n",
       "      <th>4</th>\n",
       "      <td>2</td>\n",
       "      <td>10000000.0</td>\n",
       "      <td>100.00</td>\n",
       "      <td>2018-06-19T00:00:00</td>\n",
       "      <td>2</td>\n",
       "      <td>3.03</td>\n",
       "      <td>14.0</td>\n",
       "      <td>32.0</td>\n",
       "      <td>13</td>\n",
       "      <td>NaN</td>\n",
       "      <td>...</td>\n",
       "      <td>41.00</td>\n",
       "      <td>NaN</td>\n",
       "      <td>Санкт-Петербург</td>\n",
       "      <td>31856.0</td>\n",
       "      <td>8098.0</td>\n",
       "      <td>2.0</td>\n",
       "      <td>112.0</td>\n",
       "      <td>1.0</td>\n",
       "      <td>48.0</td>\n",
       "      <td>121.0</td>\n",
       "    </tr>\n",
       "    <tr>\n",
       "      <th>...</th>\n",
       "      <td>...</td>\n",
       "      <td>...</td>\n",
       "      <td>...</td>\n",
       "      <td>...</td>\n",
       "      <td>...</td>\n",
       "      <td>...</td>\n",
       "      <td>...</td>\n",
       "      <td>...</td>\n",
       "      <td>...</td>\n",
       "      <td>...</td>\n",
       "      <td>...</td>\n",
       "      <td>...</td>\n",
       "      <td>...</td>\n",
       "      <td>...</td>\n",
       "      <td>...</td>\n",
       "      <td>...</td>\n",
       "      <td>...</td>\n",
       "      <td>...</td>\n",
       "      <td>...</td>\n",
       "      <td>...</td>\n",
       "      <td>...</td>\n",
       "    </tr>\n",
       "    <tr>\n",
       "      <th>23694</th>\n",
       "      <td>9</td>\n",
       "      <td>9700000.0</td>\n",
       "      <td>133.81</td>\n",
       "      <td>2017-03-21T00:00:00</td>\n",
       "      <td>3</td>\n",
       "      <td>3.70</td>\n",
       "      <td>5.0</td>\n",
       "      <td>73.3</td>\n",
       "      <td>3</td>\n",
       "      <td>NaN</td>\n",
       "      <td>...</td>\n",
       "      <td>13.83</td>\n",
       "      <td>NaN</td>\n",
       "      <td>Санкт-Петербург</td>\n",
       "      <td>24665.0</td>\n",
       "      <td>4232.0</td>\n",
       "      <td>1.0</td>\n",
       "      <td>796.0</td>\n",
       "      <td>3.0</td>\n",
       "      <td>381.0</td>\n",
       "      <td>NaN</td>\n",
       "    </tr>\n",
       "    <tr>\n",
       "      <th>23695</th>\n",
       "      <td>14</td>\n",
       "      <td>3100000.0</td>\n",
       "      <td>59.00</td>\n",
       "      <td>2018-01-15T00:00:00</td>\n",
       "      <td>3</td>\n",
       "      <td>NaN</td>\n",
       "      <td>5.0</td>\n",
       "      <td>38.0</td>\n",
       "      <td>4</td>\n",
       "      <td>NaN</td>\n",
       "      <td>...</td>\n",
       "      <td>8.50</td>\n",
       "      <td>NaN</td>\n",
       "      <td>Тосно</td>\n",
       "      <td>NaN</td>\n",
       "      <td>NaN</td>\n",
       "      <td>NaN</td>\n",
       "      <td>NaN</td>\n",
       "      <td>NaN</td>\n",
       "      <td>NaN</td>\n",
       "      <td>45.0</td>\n",
       "    </tr>\n",
       "    <tr>\n",
       "      <th>23696</th>\n",
       "      <td>18</td>\n",
       "      <td>2500000.0</td>\n",
       "      <td>56.70</td>\n",
       "      <td>2018-02-11T00:00:00</td>\n",
       "      <td>2</td>\n",
       "      <td>NaN</td>\n",
       "      <td>3.0</td>\n",
       "      <td>29.7</td>\n",
       "      <td>1</td>\n",
       "      <td>NaN</td>\n",
       "      <td>...</td>\n",
       "      <td>NaN</td>\n",
       "      <td>NaN</td>\n",
       "      <td>село Рождествено</td>\n",
       "      <td>NaN</td>\n",
       "      <td>NaN</td>\n",
       "      <td>NaN</td>\n",
       "      <td>NaN</td>\n",
       "      <td>NaN</td>\n",
       "      <td>NaN</td>\n",
       "      <td>NaN</td>\n",
       "    </tr>\n",
       "    <tr>\n",
       "      <th>23697</th>\n",
       "      <td>13</td>\n",
       "      <td>11475000.0</td>\n",
       "      <td>76.75</td>\n",
       "      <td>2017-03-28T00:00:00</td>\n",
       "      <td>2</td>\n",
       "      <td>3.00</td>\n",
       "      <td>17.0</td>\n",
       "      <td>NaN</td>\n",
       "      <td>12</td>\n",
       "      <td>NaN</td>\n",
       "      <td>...</td>\n",
       "      <td>23.30</td>\n",
       "      <td>2.0</td>\n",
       "      <td>Санкт-Петербург</td>\n",
       "      <td>39140.0</td>\n",
       "      <td>10364.0</td>\n",
       "      <td>2.0</td>\n",
       "      <td>173.0</td>\n",
       "      <td>3.0</td>\n",
       "      <td>196.0</td>\n",
       "      <td>602.0</td>\n",
       "    </tr>\n",
       "    <tr>\n",
       "      <th>23698</th>\n",
       "      <td>4</td>\n",
       "      <td>1350000.0</td>\n",
       "      <td>32.30</td>\n",
       "      <td>2017-07-21T00:00:00</td>\n",
       "      <td>1</td>\n",
       "      <td>2.50</td>\n",
       "      <td>5.0</td>\n",
       "      <td>12.3</td>\n",
       "      <td>1</td>\n",
       "      <td>NaN</td>\n",
       "      <td>...</td>\n",
       "      <td>9.00</td>\n",
       "      <td>NaN</td>\n",
       "      <td>поселок Новый Учхоз</td>\n",
       "      <td>NaN</td>\n",
       "      <td>NaN</td>\n",
       "      <td>NaN</td>\n",
       "      <td>NaN</td>\n",
       "      <td>NaN</td>\n",
       "      <td>NaN</td>\n",
       "      <td>NaN</td>\n",
       "    </tr>\n",
       "  </tbody>\n",
       "</table>\n",
       "<p>23699 rows × 22 columns</p>\n",
       "</div>"
      ],
      "text/plain": [
       "       total_images  last_price  total_area first_day_exposition  rooms  \\\n",
       "0                20  13000000.0      108.00  2019-03-07T00:00:00      3   \n",
       "1                 7   3350000.0       40.40  2018-12-04T00:00:00      1   \n",
       "2                10   5196000.0       56.00  2015-08-20T00:00:00      2   \n",
       "3                 0  64900000.0      159.00  2015-07-24T00:00:00      3   \n",
       "4                 2  10000000.0      100.00  2018-06-19T00:00:00      2   \n",
       "...             ...         ...         ...                  ...    ...   \n",
       "23694             9   9700000.0      133.81  2017-03-21T00:00:00      3   \n",
       "23695            14   3100000.0       59.00  2018-01-15T00:00:00      3   \n",
       "23696            18   2500000.0       56.70  2018-02-11T00:00:00      2   \n",
       "23697            13  11475000.0       76.75  2017-03-28T00:00:00      2   \n",
       "23698             4   1350000.0       32.30  2017-07-21T00:00:00      1   \n",
       "\n",
       "       ceiling_height  floors_total  living_area  floor is_apartment  ...  \\\n",
       "0                2.70          16.0         51.0      8          NaN  ...   \n",
       "1                 NaN          11.0         18.6      1          NaN  ...   \n",
       "2                 NaN           5.0         34.3      4          NaN  ...   \n",
       "3                 NaN          14.0          NaN      9          NaN  ...   \n",
       "4                3.03          14.0         32.0     13          NaN  ...   \n",
       "...               ...           ...          ...    ...          ...  ...   \n",
       "23694            3.70           5.0         73.3      3          NaN  ...   \n",
       "23695             NaN           5.0         38.0      4          NaN  ...   \n",
       "23696             NaN           3.0         29.7      1          NaN  ...   \n",
       "23697            3.00          17.0          NaN     12          NaN  ...   \n",
       "23698            2.50           5.0         12.3      1          NaN  ...   \n",
       "\n",
       "       kitchen_area  balcony        locality_name  airports_nearest  \\\n",
       "0             25.00      NaN      Санкт-Петербург           18863.0   \n",
       "1             11.00      2.0       посёлок Шушары           12817.0   \n",
       "2              8.30      0.0      Санкт-Петербург           21741.0   \n",
       "3               NaN      0.0      Санкт-Петербург           28098.0   \n",
       "4             41.00      NaN      Санкт-Петербург           31856.0   \n",
       "...             ...      ...                  ...               ...   \n",
       "23694         13.83      NaN      Санкт-Петербург           24665.0   \n",
       "23695          8.50      NaN                Тосно               NaN   \n",
       "23696           NaN      NaN     село Рождествено               NaN   \n",
       "23697         23.30      2.0      Санкт-Петербург           39140.0   \n",
       "23698          9.00      NaN  поселок Новый Учхоз               NaN   \n",
       "\n",
       "      cityCenters_nearest  parks_around3000  parks_nearest  ponds_around3000  \\\n",
       "0                 16028.0               1.0          482.0               2.0   \n",
       "1                 18603.0               0.0            NaN               0.0   \n",
       "2                 13933.0               1.0           90.0               2.0   \n",
       "3                  6800.0               2.0           84.0               3.0   \n",
       "4                  8098.0               2.0          112.0               1.0   \n",
       "...                   ...               ...            ...               ...   \n",
       "23694              4232.0               1.0          796.0               3.0   \n",
       "23695                 NaN               NaN            NaN               NaN   \n",
       "23696                 NaN               NaN            NaN               NaN   \n",
       "23697             10364.0               2.0          173.0               3.0   \n",
       "23698                 NaN               NaN            NaN               NaN   \n",
       "\n",
       "       ponds_nearest  days_exposition  \n",
       "0              755.0              NaN  \n",
       "1                NaN             81.0  \n",
       "2              574.0            558.0  \n",
       "3              234.0            424.0  \n",
       "4               48.0            121.0  \n",
       "...              ...              ...  \n",
       "23694          381.0              NaN  \n",
       "23695            NaN             45.0  \n",
       "23696            NaN              NaN  \n",
       "23697          196.0            602.0  \n",
       "23698            NaN              NaN  \n",
       "\n",
       "[23699 rows x 22 columns]"
      ]
     },
     "metadata": {},
     "output_type": "display_data"
    },
    {
     "name": "stdout",
     "output_type": "stream",
     "text": [
      "<class 'pandas.core.frame.DataFrame'>\n",
      "RangeIndex: 23699 entries, 0 to 23698\n",
      "Data columns (total 22 columns):\n",
      " #   Column                Non-Null Count  Dtype  \n",
      "---  ------                --------------  -----  \n",
      " 0   total_images          23699 non-null  int64  \n",
      " 1   last_price            23699 non-null  float64\n",
      " 2   total_area            23699 non-null  float64\n",
      " 3   first_day_exposition  23699 non-null  object \n",
      " 4   rooms                 23699 non-null  int64  \n",
      " 5   ceiling_height        14504 non-null  float64\n",
      " 6   floors_total          23613 non-null  float64\n",
      " 7   living_area           21796 non-null  float64\n",
      " 8   floor                 23699 non-null  int64  \n",
      " 9   is_apartment          2775 non-null   object \n",
      " 10  studio                23699 non-null  bool   \n",
      " 11  open_plan             23699 non-null  bool   \n",
      " 12  kitchen_area          21421 non-null  float64\n",
      " 13  balcony               12180 non-null  float64\n",
      " 14  locality_name         23650 non-null  object \n",
      " 15  airports_nearest      18157 non-null  float64\n",
      " 16  cityCenters_nearest   18180 non-null  float64\n",
      " 17  parks_around3000      18181 non-null  float64\n",
      " 18  parks_nearest         8079 non-null   float64\n",
      " 19  ponds_around3000      18181 non-null  float64\n",
      " 20  ponds_nearest         9110 non-null   float64\n",
      " 21  days_exposition       20518 non-null  float64\n",
      "dtypes: bool(2), float64(14), int64(3), object(3)\n",
      "memory usage: 3.7+ MB\n"
     ]
    },
    {
     "data": {
      "image/png": "[encoded data removed]",
      "text/plain": [
       "<Figure size 1080x1440 with 20 Axes>"
      ]
     },
     "metadata": {
      "needs_background": "light"
     },
     "output_type": "display_data"
    }
   ],
   "source": [
    "data = pd.read_csv('real_estate_data.csv', sep='\\t')\n",
    "display(data)\n",
    "data.info()\n",
    "data.hist(figsize=(15, 20));\n",
    "pd.set_option('display.float_format', lambda x: '%.2f' % x)"
   ]
  },
  {
   "cell_type": "code",
   "execution_count": 5,
   "metadata": {
    "scrolled": true
   },
   "outputs": [
    {
     "data": {
      "text/html": [
       "<div>\n",
       "<style scoped>\n",
       "    .dataframe tbody tr th:only-of-type {\n",
       "        vertical-align: middle;\n",
       "    }\n",
       "\n",
       "    .dataframe tbody tr th {\n",
       "        vertical-align: top;\n",
       "    }\n",
       "\n",
       "    .dataframe thead th {\n",
       "        text-align: right;\n",
       "    }\n",
       "</style>\n",
       "<table border=\"1\" class=\"dataframe\">\n",
       "  <thead>\n",
       "    <tr style=\"text-align: right;\">\n",
       "      <th></th>\n",
       "      <th>Unique values</th>\n",
       "    </tr>\n",
       "  </thead>\n",
       "  <tbody>\n",
       "    <tr>\n",
       "      <th>total_images</th>\n",
       "      <td>[20, 7, 10, 0, 2, 6, 5, 18, 9, 1, 16, 11, 8, 1...</td>\n",
       "    </tr>\n",
       "    <tr>\n",
       "      <th>last_price</th>\n",
       "      <td>[13000000.0, 3350000.0, 5196000.0, 64900000.0,...</td>\n",
       "    </tr>\n",
       "    <tr>\n",
       "      <th>total_area</th>\n",
       "      <td>[108.0, 40.4, 56.0, 159.0, 100.0, 30.4, 37.3, ...</td>\n",
       "    </tr>\n",
       "    <tr>\n",
       "      <th>first_day_exposition</th>\n",
       "      <td>[2019-03-07T00:00:00, 2018-12-04T00:00:00, 201...</td>\n",
       "    </tr>\n",
       "    <tr>\n",
       "      <th>rooms</th>\n",
       "      <td>[3, 1, 2, 4, 5, 6, 0, 7, 11, 8, 14, 10, 15, 9,...</td>\n",
       "    </tr>\n",
       "    <tr>\n",
       "      <th>ceiling_height</th>\n",
       "      <td>[2.7, nan, 3.03, 2.5, 2.67, 2.56, 3.05, 2.75, ...</td>\n",
       "    </tr>\n",
       "    <tr>\n",
       "      <th>floors_total</th>\n",
       "      <td>[16.0, 11.0, 5.0, 14.0, 12.0, 26.0, 24.0, 27.0...</td>\n",
       "    </tr>\n",
       "    <tr>\n",
       "      <th>living_area</th>\n",
       "      <td>[51.0, 18.6, 34.3, nan, 32.0, 14.4, 10.6, 15.4...</td>\n",
       "    </tr>\n",
       "    <tr>\n",
       "      <th>floor</th>\n",
       "      <td>[8, 1, 4, 9, 13, 5, 6, 22, 26, 7, 3, 2, 11, 15...</td>\n",
       "    </tr>\n",
       "    <tr>\n",
       "      <th>is_apartment</th>\n",
       "      <td>[nan, False, True]</td>\n",
       "    </tr>\n",
       "    <tr>\n",
       "      <th>studio</th>\n",
       "      <td>[False, True]</td>\n",
       "    </tr>\n",
       "    <tr>\n",
       "      <th>open_plan</th>\n",
       "      <td>[False, True]</td>\n",
       "    </tr>\n",
       "    <tr>\n",
       "      <th>kitchen_area</th>\n",
       "      <td>[25.0, 11.0, 8.3, nan, 41.0, 9.1, 14.4, 18.9, ...</td>\n",
       "    </tr>\n",
       "    <tr>\n",
       "      <th>balcony</th>\n",
       "      <td>[nan, 2.0, 0.0, 1.0, 5.0, 4.0, 3.0]</td>\n",
       "    </tr>\n",
       "    <tr>\n",
       "      <th>locality_name</th>\n",
       "      <td>[Санкт-Петербург, посёлок Шушары, городской по...</td>\n",
       "    </tr>\n",
       "    <tr>\n",
       "      <th>airports_nearest</th>\n",
       "      <td>[18863.0, 12817.0, 21741.0, 28098.0, 31856.0, ...</td>\n",
       "    </tr>\n",
       "    <tr>\n",
       "      <th>cityCenters_nearest</th>\n",
       "      <td>[16028.0, 18603.0, 13933.0, 6800.0, 8098.0, na...</td>\n",
       "    </tr>\n",
       "    <tr>\n",
       "      <th>parks_around3000</th>\n",
       "      <td>[1.0, 0.0, 2.0, nan, 3.0]</td>\n",
       "    </tr>\n",
       "    <tr>\n",
       "      <th>parks_nearest</th>\n",
       "      <td>[482.0, nan, 90.0, 84.0, 112.0, 310.0, 294.0, ...</td>\n",
       "    </tr>\n",
       "    <tr>\n",
       "      <th>ponds_around3000</th>\n",
       "      <td>[2.0, 0.0, 3.0, 1.0, nan]</td>\n",
       "    </tr>\n",
       "    <tr>\n",
       "      <th>ponds_nearest</th>\n",
       "      <td>[755.0, nan, 574.0, 234.0, 48.0, 553.0, 298.0,...</td>\n",
       "    </tr>\n",
       "    <tr>\n",
       "      <th>days_exposition</th>\n",
       "      <td>[nan, 81.0, 558.0, 424.0, 121.0, 55.0, 155.0, ...</td>\n",
       "    </tr>\n",
       "  </tbody>\n",
       "</table>\n",
       "</div>"
      ],
      "text/plain": [
       "                                                          Unique values\n",
       "total_images          [20, 7, 10, 0, 2, 6, 5, 18, 9, 1, 16, 11, 8, 1...\n",
       "last_price            [13000000.0, 3350000.0, 5196000.0, 64900000.0,...\n",
       "total_area            [108.0, 40.4, 56.0, 159.0, 100.0, 30.4, 37.3, ...\n",
       "first_day_exposition  [2019-03-07T00:00:00, 2018-12-04T00:00:00, 201...\n",
       "rooms                 [3, 1, 2, 4, 5, 6, 0, 7, 11, 8, 14, 10, 15, 9,...\n",
       "ceiling_height        [2.7, nan, 3.03, 2.5, 2.67, 2.56, 3.05, 2.75, ...\n",
       "floors_total          [16.0, 11.0, 5.0, 14.0, 12.0, 26.0, 24.0, 27.0...\n",
       "living_area           [51.0, 18.6, 34.3, nan, 32.0, 14.4, 10.6, 15.4...\n",
       "floor                 [8, 1, 4, 9, 13, 5, 6, 22, 26, 7, 3, 2, 11, 15...\n",
       "is_apartment                                         [nan, False, True]\n",
       "studio                                                    [False, True]\n",
       "open_plan                                                 [False, True]\n",
       "kitchen_area          [25.0, 11.0, 8.3, nan, 41.0, 9.1, 14.4, 18.9, ...\n",
       "balcony                             [nan, 2.0, 0.0, 1.0, 5.0, 4.0, 3.0]\n",
       "locality_name         [Санкт-Петербург, посёлок Шушары, городской по...\n",
       "airports_nearest      [18863.0, 12817.0, 21741.0, 28098.0, 31856.0, ...\n",
       "cityCenters_nearest   [16028.0, 18603.0, 13933.0, 6800.0, 8098.0, na...\n",
       "parks_around3000                              [1.0, 0.0, 2.0, nan, 3.0]\n",
       "parks_nearest         [482.0, nan, 90.0, 84.0, 112.0, 310.0, 294.0, ...\n",
       "ponds_around3000                              [2.0, 0.0, 3.0, 1.0, nan]\n",
       "ponds_nearest         [755.0, nan, 574.0, 234.0, 48.0, 553.0, 298.0,...\n",
       "days_exposition       [nan, 81.0, 558.0, 424.0, 121.0, 55.0, 155.0, ..."
      ]
     },
     "execution_count": 5,
     "metadata": {},
     "output_type": "execute_result"
    }
   ],
   "source": [
    "pd.DataFrame(data.apply(pd.unique)).rename(columns={0:'Unique values'})"
   ]
  },
  {
   "cell_type": "markdown",
   "metadata": {},
   "source": [
    "### Предобработка данных"
   ]
  },
  {
   "cell_type": "code",
   "execution_count": 6,
   "metadata": {},
   "outputs": [],
   "source": [
    "# check\n",
    "# пропущенные значения бары\n",
    "\n",
    "def pass_value_barh(df):\n",
    "    try:\n",
    "        (\n",
    "            (df.isna().mean()*100)\n",
    "            .to_frame()\n",
    "            .rename(columns = {0:'space'})\n",
    "            .query('space > 0')\n",
    "            .sort_values(by = 'space', ascending = True)\n",
    "            .plot(kind= 'barh', figsize=(19,6), legend = False, fontsize = 16)\n",
    "            .set_title('Пример' + \"\\n\", fontsize = 22, color = 'SteelBlue')    \n",
    "        );    \n",
    "    except:\n",
    "        print('пропусков не осталось :) ')"
   ]
  },
  {
   "cell_type": "code",
   "execution_count": 7,
   "metadata": {
    "scrolled": false
   },
   "outputs": [
    {
     "data": {
      "image/png": "[encoded data removed]",
      "text/plain": [
       "<Figure size 1368x432 with 1 Axes>"
      ]
     },
     "metadata": {
      "needs_background": "light"
     },
     "output_type": "display_data"
    }
   ],
   "source": [
    "pass_value_barh(data)"
   ]
  },
  {
   "cell_type": "code",
   "execution_count": 8,
   "metadata": {
    "scrolled": true
   },
   "outputs": [
    {
     "data": {
      "text/plain": [
       "total_images                0\n",
       "open_plan                   0\n",
       "floor                       0\n",
       "rooms                       0\n",
       "studio                      0\n",
       "total_area                  0\n",
       "last_price                  0\n",
       "first_day_exposition        0\n",
       "locality_name              49\n",
       "floors_total               86\n",
       "living_area              1903\n",
       "kitchen_area             2278\n",
       "days_exposition          3181\n",
       "ponds_around3000         5518\n",
       "parks_around3000         5518\n",
       "cityCenters_nearest      5519\n",
       "airports_nearest         5542\n",
       "ceiling_height           9195\n",
       "balcony                 11519\n",
       "ponds_nearest           14589\n",
       "parks_nearest           15620\n",
       "is_apartment            20924\n",
       "dtype: int64"
      ]
     },
     "execution_count": 8,
     "metadata": {},
     "output_type": "execute_result"
    }
   ],
   "source": [
    "data.isnull().sum().sort_values()"
   ]
  },
  {
   "cell_type": "code",
   "execution_count": 9,
   "metadata": {
    "scrolled": true
   },
   "outputs": [
    {
     "data": {
      "text/plain": [
       "total_images            0.00\n",
       "open_plan               0.00\n",
       "floor                   0.00\n",
       "rooms                   0.00\n",
       "studio                  0.00\n",
       "total_area              0.00\n",
       "last_price              0.00\n",
       "first_day_exposition    0.00\n",
       "locality_name           0.21\n",
       "floors_total            0.36\n",
       "living_area             8.03\n",
       "kitchen_area            9.61\n",
       "days_exposition        13.42\n",
       "ponds_around3000       23.28\n",
       "parks_around3000       23.28\n",
       "cityCenters_nearest    23.29\n",
       "airports_nearest       23.38\n",
       "ceiling_height         38.80\n",
       "balcony                48.61\n",
       "ponds_nearest          61.56\n",
       "parks_nearest          65.91\n",
       "is_apartment           88.29\n",
       "dtype: float64"
      ]
     },
     "execution_count": 9,
     "metadata": {},
     "output_type": "execute_result"
    }
   ],
   "source": [
    "data.isnull().sum().sort_values()/data.shape[0]*100"
   ]
  },
  {
   "cell_type": "code",
   "execution_count": 10,
   "metadata": {
    "scrolled": true
   },
   "outputs": [
    {
     "data": {
      "text/html": [
       "<div>\n",
       "<style scoped>\n",
       "    .dataframe tbody tr th:only-of-type {\n",
       "        vertical-align: middle;\n",
       "    }\n",
       "\n",
       "    .dataframe tbody tr th {\n",
       "        vertical-align: top;\n",
       "    }\n",
       "\n",
       "    .dataframe thead th {\n",
       "        text-align: right;\n",
       "    }\n",
       "</style>\n",
       "<table border=\"1\" class=\"dataframe\">\n",
       "  <thead>\n",
       "    <tr style=\"text-align: right;\">\n",
       "      <th></th>\n",
       "      <th>total_images</th>\n",
       "      <th>last_price</th>\n",
       "      <th>total_area</th>\n",
       "      <th>first_day_exposition</th>\n",
       "      <th>rooms</th>\n",
       "      <th>ceiling_height</th>\n",
       "      <th>floors_total</th>\n",
       "      <th>living_area</th>\n",
       "      <th>floor</th>\n",
       "      <th>is_apartment</th>\n",
       "      <th>...</th>\n",
       "      <th>kitchen_area</th>\n",
       "      <th>balcony</th>\n",
       "      <th>locality_name</th>\n",
       "      <th>airports_nearest</th>\n",
       "      <th>cityCenters_nearest</th>\n",
       "      <th>parks_around3000</th>\n",
       "      <th>parks_nearest</th>\n",
       "      <th>ponds_around3000</th>\n",
       "      <th>ponds_nearest</th>\n",
       "      <th>days_exposition</th>\n",
       "    </tr>\n",
       "  </thead>\n",
       "  <tbody>\n",
       "    <tr>\n",
       "      <th>0</th>\n",
       "      <td>20</td>\n",
       "      <td>13000000.00</td>\n",
       "      <td>108.00</td>\n",
       "      <td>2019-03-07T00:00:00</td>\n",
       "      <td>3</td>\n",
       "      <td>2.70</td>\n",
       "      <td>16.00</td>\n",
       "      <td>51.00</td>\n",
       "      <td>8</td>\n",
       "      <td>NaN</td>\n",
       "      <td>...</td>\n",
       "      <td>25.00</td>\n",
       "      <td>NaN</td>\n",
       "      <td>Санкт-Петербург</td>\n",
       "      <td>18863.00</td>\n",
       "      <td>16028.00</td>\n",
       "      <td>1.00</td>\n",
       "      <td>482.00</td>\n",
       "      <td>2.00</td>\n",
       "      <td>755.00</td>\n",
       "      <td>NaN</td>\n",
       "    </tr>\n",
       "    <tr>\n",
       "      <th>1</th>\n",
       "      <td>7</td>\n",
       "      <td>3350000.00</td>\n",
       "      <td>40.40</td>\n",
       "      <td>2018-12-04T00:00:00</td>\n",
       "      <td>1</td>\n",
       "      <td>NaN</td>\n",
       "      <td>11.00</td>\n",
       "      <td>18.60</td>\n",
       "      <td>1</td>\n",
       "      <td>NaN</td>\n",
       "      <td>...</td>\n",
       "      <td>11.00</td>\n",
       "      <td>2.00</td>\n",
       "      <td>посёлок Шушары</td>\n",
       "      <td>12817.00</td>\n",
       "      <td>18603.00</td>\n",
       "      <td>0.00</td>\n",
       "      <td>NaN</td>\n",
       "      <td>0.00</td>\n",
       "      <td>NaN</td>\n",
       "      <td>81.00</td>\n",
       "    </tr>\n",
       "    <tr>\n",
       "      <th>2</th>\n",
       "      <td>10</td>\n",
       "      <td>5196000.00</td>\n",
       "      <td>56.00</td>\n",
       "      <td>2015-08-20T00:00:00</td>\n",
       "      <td>2</td>\n",
       "      <td>NaN</td>\n",
       "      <td>5.00</td>\n",
       "      <td>34.30</td>\n",
       "      <td>4</td>\n",
       "      <td>NaN</td>\n",
       "      <td>...</td>\n",
       "      <td>8.30</td>\n",
       "      <td>0.00</td>\n",
       "      <td>Санкт-Петербург</td>\n",
       "      <td>21741.00</td>\n",
       "      <td>13933.00</td>\n",
       "      <td>1.00</td>\n",
       "      <td>90.00</td>\n",
       "      <td>2.00</td>\n",
       "      <td>574.00</td>\n",
       "      <td>558.00</td>\n",
       "    </tr>\n",
       "    <tr>\n",
       "      <th>3</th>\n",
       "      <td>0</td>\n",
       "      <td>64900000.00</td>\n",
       "      <td>159.00</td>\n",
       "      <td>2015-07-24T00:00:00</td>\n",
       "      <td>3</td>\n",
       "      <td>NaN</td>\n",
       "      <td>14.00</td>\n",
       "      <td>NaN</td>\n",
       "      <td>9</td>\n",
       "      <td>NaN</td>\n",
       "      <td>...</td>\n",
       "      <td>NaN</td>\n",
       "      <td>0.00</td>\n",
       "      <td>Санкт-Петербург</td>\n",
       "      <td>28098.00</td>\n",
       "      <td>6800.00</td>\n",
       "      <td>2.00</td>\n",
       "      <td>84.00</td>\n",
       "      <td>3.00</td>\n",
       "      <td>234.00</td>\n",
       "      <td>424.00</td>\n",
       "    </tr>\n",
       "    <tr>\n",
       "      <th>4</th>\n",
       "      <td>2</td>\n",
       "      <td>10000000.00</td>\n",
       "      <td>100.00</td>\n",
       "      <td>2018-06-19T00:00:00</td>\n",
       "      <td>2</td>\n",
       "      <td>3.03</td>\n",
       "      <td>14.00</td>\n",
       "      <td>32.00</td>\n",
       "      <td>13</td>\n",
       "      <td>NaN</td>\n",
       "      <td>...</td>\n",
       "      <td>41.00</td>\n",
       "      <td>NaN</td>\n",
       "      <td>Санкт-Петербург</td>\n",
       "      <td>31856.00</td>\n",
       "      <td>8098.00</td>\n",
       "      <td>2.00</td>\n",
       "      <td>112.00</td>\n",
       "      <td>1.00</td>\n",
       "      <td>48.00</td>\n",
       "      <td>121.00</td>\n",
       "    </tr>\n",
       "  </tbody>\n",
       "</table>\n",
       "<p>5 rows × 22 columns</p>\n",
       "</div>"
      ],
      "text/plain": [
       "   total_images  last_price  total_area first_day_exposition  rooms  \\\n",
       "0            20 13000000.00      108.00  2019-03-07T00:00:00      3   \n",
       "1             7  3350000.00       40.40  2018-12-04T00:00:00      1   \n",
       "2            10  5196000.00       56.00  2015-08-20T00:00:00      2   \n",
       "3             0 64900000.00      159.00  2015-07-24T00:00:00      3   \n",
       "4             2 10000000.00      100.00  2018-06-19T00:00:00      2   \n",
       "\n",
       "   ceiling_height  floors_total  living_area  floor is_apartment  ...  \\\n",
       "0            2.70         16.00        51.00      8          NaN  ...   \n",
       "1             NaN         11.00        18.60      1          NaN  ...   \n",
       "2             NaN          5.00        34.30      4          NaN  ...   \n",
       "3             NaN         14.00          NaN      9          NaN  ...   \n",
       "4            3.03         14.00        32.00     13          NaN  ...   \n",
       "\n",
       "   kitchen_area  balcony    locality_name  airports_nearest  \\\n",
       "0         25.00      NaN  Санкт-Петербург          18863.00   \n",
       "1         11.00     2.00   посёлок Шушары          12817.00   \n",
       "2          8.30     0.00  Санкт-Петербург          21741.00   \n",
       "3           NaN     0.00  Санкт-Петербург          28098.00   \n",
       "4         41.00      NaN  Санкт-Петербург          31856.00   \n",
       "\n",
       "  cityCenters_nearest  parks_around3000  parks_nearest  ponds_around3000  \\\n",
       "0            16028.00              1.00         482.00              2.00   \n",
       "1            18603.00              0.00            NaN              0.00   \n",
       "2            13933.00              1.00          90.00              2.00   \n",
       "3             6800.00              2.00          84.00              3.00   \n",
       "4             8098.00              2.00         112.00              1.00   \n",
       "\n",
       "   ponds_nearest  days_exposition  \n",
       "0         755.00              NaN  \n",
       "1            NaN            81.00  \n",
       "2         574.00           558.00  \n",
       "3         234.00           424.00  \n",
       "4          48.00           121.00  \n",
       "\n",
       "[5 rows x 22 columns]"
      ]
     },
     "execution_count": 10,
     "metadata": {},
     "output_type": "execute_result"
    }
   ],
   "source": [
    "data.head()"
   ]
  },
  {
   "cell_type": "code",
   "execution_count": 11,
   "metadata": {
    "scrolled": true
   },
   "outputs": [
    {
     "data": {
      "text/plain": [
       "array([0., 2., 1., 5., 4., 3.])"
      ]
     },
     "execution_count": 11,
     "metadata": {},
     "output_type": "execute_result"
    }
   ],
   "source": [
    "data['balcony'] = data['balcony'].fillna(0)\n",
    "data['balcony'].unique()"
   ]
  },
  {
   "cell_type": "code",
   "execution_count": 12,
   "metadata": {
    "scrolled": false
   },
   "outputs": [
    {
     "data": {
      "text/plain": [
       "array(['2019-03-07T00:00:00', '2018-12-04T00:00:00',\n",
       "       '2015-08-20T00:00:00', ..., '2014-12-29T00:00:00',\n",
       "       '2016-09-12T00:00:00', '2015-07-19T00:00:00'], dtype=object)"
      ]
     },
     "execution_count": 12,
     "metadata": {},
     "output_type": "execute_result"
    }
   ],
   "source": [
    "pd.to_datetime(data['first_day_exposition'], format='%Y.%m.%d %H:%M:%S') \n",
    "data['first_day_exposition'].unique()"
   ]
  },
  {
   "cell_type": "code",
   "execution_count": 13,
   "metadata": {
    "scrolled": true
   },
   "outputs": [
    {
     "data": {
      "text/plain": [
       "array([0., 1.])"
      ]
     },
     "execution_count": 13,
     "metadata": {},
     "output_type": "execute_result"
    }
   ],
   "source": [
    "data['is_apartment'] = data['is_apartment'].astype('float')\n",
    "data['is_apartment'] = data['is_apartment'].fillna(0)\n",
    "data['is_apartment'].unique()"
   ]
  },
  {
   "cell_type": "code",
   "execution_count": 14,
   "metadata": {
    "scrolled": true
   },
   "outputs": [
    {
     "data": {
      "text/plain": [
       "array(['Санкт-Петербург', 'Шушары', 'Янино-1', 'Парголово', 'Мурино',\n",
       "       'Ломоносов', 'Сертолово', 'Петергоф', 'Пушкин', 'Кудрово',\n",
       "       'Коммунар', 'Колпино', 'Красный Бор', 'Гатчина', 'Фёдоровское',\n",
       "       'Выборг', 'Кронштадт', 'Кировск', 'Новое Девяткино',\n",
       "       'Металлострой', 'Лебяжье', 'Сиверский', 'Молодцово',\n",
       "       'Кузьмоловский', 'Новая Ропша', 'Павловск', 'Пикколово',\n",
       "       'Всеволожск', 'Волхов', 'Кингисепп', 'Приозерск', 'Сестрорецк',\n",
       "       'Куттузи', 'Аннино', 'Ефимовский', 'Плодовое', 'Заклинье',\n",
       "       'Торковичи', 'Первомайское', 'Красное Село', 'Понтонный',\n",
       "       'Сясьстрой', 'Старая', 'Лесколово', 'Новый Свет', 'Сланцы',\n",
       "       'Путилово', 'Ивангород', 'Шлиссельбург', 'Никольское',\n",
       "       'Зеленогорск', 'Сосновый Бор', 'Оржицы', 'Кальтино', 'Романовка',\n",
       "       'Бугры', 'Рощино', 'Кириши', 'Луга', 'Волосово', 'Отрадное',\n",
       "       'Павлово', 'Оредеж', 'Копорье', 'Молодёжное', 'Тихвин', 'Победа',\n",
       "       'Нурма', 'Синявино', 'Тосно', 'Стрельна', 'Бокситогорск',\n",
       "       'Александровская', 'Лопухинка', 'Пикалёво', 'Терволово',\n",
       "       'Советский', 'Подпорожье', 'Петровское', 'Токсово', 'Сельцо',\n",
       "       'Вырица', 'Кипень', 'Келози', 'Вартемяги', 'Тельмана',\n",
       "       'Севастьяново', 'Большая Ижора', nan, 'Агалатово', 'Новогорелово',\n",
       "       'Лесогорский', 'Лаголово', 'Цвелодубово', 'Рахья', 'Белогорка',\n",
       "       'Заводской', 'Новоселье', 'Большие Колпаны', 'Горбунки', 'Батово',\n",
       "       'Заневка', 'Иссад', 'Приморск', 'Мистолово', 'Новая Ладога',\n",
       "       'Зимитицы', 'Барышево', 'Разметелево', 'имени Свердлова', 'Пеники',\n",
       "       'Рябово', 'Пудомяги', 'Корнево', 'Низино', 'Бегуницы', 'Поляны',\n",
       "       'Мга', 'Елизаветино', 'Кузнечное', 'Колтуши', 'Запорожское',\n",
       "       'Гостилицы', 'Малое Карлино', 'Мичуринское', 'имени Морозова',\n",
       "       'Песочный', 'Сосново', 'Аро', 'Ильичёво', 'Тайцы', 'Малое Верево',\n",
       "       'Извара', 'Вещево', 'Паша', 'Калитино', 'Ульяновка', 'Чудской Бор',\n",
       "       'Дубровка', 'Мины', 'Войсковицы', 'Коркино', 'Ропша',\n",
       "       'Приладожский', 'Щеглово', 'Гаврилово', 'Лодейное Поле',\n",
       "       'Рабитицы', 'Никольский', 'Кузьмолово', 'Малые Колпаны',\n",
       "       'Петро-Славянка', 'Назия', 'Репино', 'Углово', 'Старая Малукса',\n",
       "       'Меньково', 'Старые Бегуницы', 'Сапёрный', 'Семрино', 'Глажево',\n",
       "       'Кобринское', 'Гарболово', 'Юкки', 'Приветнинское', 'Мануйлово',\n",
       "       'Пчева', 'Цвылёво', 'Мельниково', 'Пудость', 'Усть-Луга',\n",
       "       'Светогорск', 'Любань', 'Селезнёво', 'Каменногорск', 'Кривко',\n",
       "       'Глебычево', 'Парицы', 'Жил', 'Войскорово', 'Стеклянный', 'Важины',\n",
       "       'Мыза-Ивановка', 'Русско-Высоцкое', 'Форносово', 'Старая Ладога',\n",
       "       'Житково', 'Виллози', 'Лампово', 'Шпаньково', 'Лаврики', 'Сумино',\n",
       "       'Возрождение', 'Старосиверская', 'Кикерино', 'Старое Хинколово',\n",
       "       'Пригородный', 'Торфяное', 'Будогощь', 'Суходолье',\n",
       "       'Красная Долина', 'Хапо-Ое', 'Дружная Горка', 'Лисий Нос',\n",
       "       'Яльгелево', 'Рождествено', 'Старополье', 'Левашово', 'Сяськелево',\n",
       "       'Камышовка',\n",
       "       'садоводческое некоммерческое товарищество Лесная Поляна',\n",
       "       'Хязельки', 'Жилгородок', 'Ялгино', 'Новый Учхоз', 'Гончарово',\n",
       "       'Почап', 'Сапёрное', 'Платформа 69-й километр', 'Каложицы',\n",
       "       'Фалилеево', 'Пельгора', 'Торошковичи', 'Белоостров', 'Алексеевка',\n",
       "       'Серебрянский', 'Лукаши', 'Тарасово', 'Кингисеппский', 'Ушаки',\n",
       "       'Котлы', 'Сижно', 'Торосово', 'Форт Красная Горка', 'Новолисино',\n",
       "       'Громово', 'Глинка', 'Старая Пустошь', 'Коммунары', 'Починок',\n",
       "       'Вознесенье', 'Разбегаево', 'Гладкое', 'Тёсово-4', 'Бор',\n",
       "       'Коробицыно', 'Большая Вруда', 'Курковицы', 'Кобралово',\n",
       "       'Суоранда', 'Кондратьево', 'Счастье', 'Реброво', 'Тойворово',\n",
       "       'Семиозерье', 'Лесное', 'Совхозный', 'Ленинское', 'Суйда',\n",
       "       'Нижние Осельки', 'Свирь', 'Перово', 'Высоцк', 'Шум', 'Котельский',\n",
       "       'Лужайка', 'Большая Пустомержа', 'Красносельское', 'Вахнова Кара',\n",
       "       'Пижма', 'Кивеннапа Север', 'Ромашки', 'Каськово', 'Куровицы',\n",
       "       'Плоское', 'Кирпичное', 'Ям-Тесово', 'Раздолье', 'Терпилицы',\n",
       "       'Шугозеро', 'Ваганово', 'Пушное', 'Садко', 'Усть-Ижора',\n",
       "       'Выскатка', 'Свирьстрой', 'Кисельня', 'Трубников Бор',\n",
       "       'Высокоключевой', 'Пансионат Зелёный Бор', 'Ненимяки',\n",
       "       'Снегирёвка', 'Рапполово', 'Пустынка', 'Большой Сабск', 'Русско',\n",
       "       'Лупполово', 'Большое Рейзино', 'Малая Романовка', 'Дружноселье',\n",
       "       'Пчевжа', 'Володарское', 'Нижняя', 'Тихковицы', 'Борисова Грива',\n",
       "       'Дзержинского'], dtype=object)"
      ]
     },
     "execution_count": 14,
     "metadata": {},
     "output_type": "execute_result"
    }
   ],
   "source": [
    "def replace_wrong_values(wrong_values, correct_value): \n",
    "    for wrong_value in wrong_values: \n",
    "        data['locality_name'] = data['locality_name'].str.replace(wrong_value, correct_value)\n",
    "duplicates = ['поселок', 'посёлок', 'городской поселок','городской посёлок', 'поселок городского типа', 'посёлок городского типа','деревня','село','станции','коттеджный посёлок','коттеджный','садовое товарищество','городского типа','городской','при железнодорожной'] #список заменяемых названий\n",
    "name = '' \n",
    "replace_wrong_values(duplicates, name) \n",
    "data['locality_name']=data['locality_name'].str.strip()\n",
    "data['locality_name'].unique()"
   ]
  },
  {
   "cell_type": "code",
   "execution_count": 15,
   "metadata": {},
   "outputs": [
    {
     "data": {
      "text/plain": [
       "305"
      ]
     },
     "execution_count": 15,
     "metadata": {},
     "output_type": "execute_result"
    }
   ],
   "source": [
    "# check\n",
    "data['locality_name'].nunique()"
   ]
  },
  {
   "cell_type": "code",
   "execution_count": 16,
   "metadata": {
    "scrolled": true
   },
   "outputs": [],
   "source": [
    "data['floors_total'] = data['floors_total'].fillna(0).astype('int')"
   ]
  },
  {
   "cell_type": "code",
   "execution_count": 17,
   "metadata": {
    "scrolled": false
   },
   "outputs": [
    {
     "name": "stdout",
     "output_type": "stream",
     "text": [
      "<class 'pandas.core.frame.DataFrame'>\n",
      "RangeIndex: 23699 entries, 0 to 23698\n",
      "Data columns (total 22 columns):\n",
      " #   Column                Non-Null Count  Dtype  \n",
      "---  ------                --------------  -----  \n",
      " 0   total_images          23699 non-null  int64  \n",
      " 1   last_price            23699 non-null  float64\n",
      " 2   total_area            23699 non-null  float64\n",
      " 3   first_day_exposition  23699 non-null  object \n",
      " 4   rooms                 23699 non-null  int64  \n",
      " 5   ceiling_height        14504 non-null  float64\n",
      " 6   floors_total          23699 non-null  int32  \n",
      " 7   living_area           21796 non-null  float64\n",
      " 8   floor                 23699 non-null  int64  \n",
      " 9   is_apartment          23699 non-null  float64\n",
      " 10  studio                23699 non-null  bool   \n",
      " 11  open_plan             23699 non-null  bool   \n",
      " 12  kitchen_area          21421 non-null  float64\n",
      " 13  balcony               23699 non-null  float64\n",
      " 14  locality_name         23650 non-null  object \n",
      " 15  airports_nearest      18157 non-null  float64\n",
      " 16  cityCenters_nearest   18180 non-null  float64\n",
      " 17  parks_around3000      18181 non-null  float64\n",
      " 18  parks_nearest         8079 non-null   float64\n",
      " 19  ponds_around3000      18181 non-null  float64\n",
      " 20  ponds_nearest         9110 non-null   float64\n",
      " 21  days_exposition       20518 non-null  float64\n",
      "dtypes: bool(2), float64(14), int32(1), int64(3), object(2)\n",
      "memory usage: 3.6+ MB\n"
     ]
    }
   ],
   "source": [
    "data.info()"
   ]
  },
  {
   "cell_type": "code",
   "execution_count": 18,
   "metadata": {
    "scrolled": true
   },
   "outputs": [],
   "source": [
    "data['total_living_area_ratio'] = data['living_area'] / data['total_area']\n",
    "data['total_kitchen_area_ratio'] = data['kitchen_area'] / data['total_area']"
   ]
  },
  {
   "cell_type": "code",
   "execution_count": 19,
   "metadata": {
    "scrolled": true
   },
   "outputs": [
    {
     "data": {
      "text/html": [
       "<div>\n",
       "<style scoped>\n",
       "    .dataframe tbody tr th:only-of-type {\n",
       "        vertical-align: middle;\n",
       "    }\n",
       "\n",
       "    .dataframe tbody tr th {\n",
       "        vertical-align: top;\n",
       "    }\n",
       "\n",
       "    .dataframe thead th {\n",
       "        text-align: right;\n",
       "    }\n",
       "</style>\n",
       "<table border=\"1\" class=\"dataframe\">\n",
       "  <thead>\n",
       "    <tr style=\"text-align: right;\">\n",
       "      <th></th>\n",
       "      <th>total_images</th>\n",
       "      <th>last_price</th>\n",
       "      <th>total_area</th>\n",
       "      <th>rooms</th>\n",
       "      <th>ceiling_height</th>\n",
       "      <th>floors_total</th>\n",
       "      <th>living_area</th>\n",
       "      <th>floor</th>\n",
       "      <th>is_apartment</th>\n",
       "      <th>kitchen_area</th>\n",
       "      <th>balcony</th>\n",
       "      <th>airports_nearest</th>\n",
       "      <th>cityCenters_nearest</th>\n",
       "      <th>parks_around3000</th>\n",
       "      <th>parks_nearest</th>\n",
       "      <th>ponds_around3000</th>\n",
       "      <th>ponds_nearest</th>\n",
       "      <th>days_exposition</th>\n",
       "      <th>total_living_area_ratio</th>\n",
       "      <th>total_kitchen_area_ratio</th>\n",
       "    </tr>\n",
       "  </thead>\n",
       "  <tbody>\n",
       "    <tr>\n",
       "      <th>count</th>\n",
       "      <td>23699.00</td>\n",
       "      <td>23699.00</td>\n",
       "      <td>23699.00</td>\n",
       "      <td>23699.00</td>\n",
       "      <td>14504.00</td>\n",
       "      <td>23699.00</td>\n",
       "      <td>21796.00</td>\n",
       "      <td>23699.00</td>\n",
       "      <td>23699.00</td>\n",
       "      <td>21421.00</td>\n",
       "      <td>23699.00</td>\n",
       "      <td>18157.00</td>\n",
       "      <td>18180.00</td>\n",
       "      <td>18181.00</td>\n",
       "      <td>8079.00</td>\n",
       "      <td>18181.00</td>\n",
       "      <td>9110.00</td>\n",
       "      <td>20518.00</td>\n",
       "      <td>21796.00</td>\n",
       "      <td>21421.00</td>\n",
       "    </tr>\n",
       "    <tr>\n",
       "      <th>mean</th>\n",
       "      <td>9.86</td>\n",
       "      <td>6541548.77</td>\n",
       "      <td>60.35</td>\n",
       "      <td>2.07</td>\n",
       "      <td>2.77</td>\n",
       "      <td>10.64</td>\n",
       "      <td>34.46</td>\n",
       "      <td>5.89</td>\n",
       "      <td>0.00</td>\n",
       "      <td>10.57</td>\n",
       "      <td>0.59</td>\n",
       "      <td>28793.67</td>\n",
       "      <td>14191.28</td>\n",
       "      <td>0.61</td>\n",
       "      <td>490.80</td>\n",
       "      <td>0.77</td>\n",
       "      <td>517.98</td>\n",
       "      <td>180.89</td>\n",
       "      <td>0.56</td>\n",
       "      <td>0.19</td>\n",
       "    </tr>\n",
       "    <tr>\n",
       "      <th>std</th>\n",
       "      <td>5.68</td>\n",
       "      <td>10887013.27</td>\n",
       "      <td>35.65</td>\n",
       "      <td>1.08</td>\n",
       "      <td>1.26</td>\n",
       "      <td>6.62</td>\n",
       "      <td>22.03</td>\n",
       "      <td>4.89</td>\n",
       "      <td>0.05</td>\n",
       "      <td>5.91</td>\n",
       "      <td>0.96</td>\n",
       "      <td>12630.88</td>\n",
       "      <td>8608.39</td>\n",
       "      <td>0.80</td>\n",
       "      <td>342.32</td>\n",
       "      <td>0.94</td>\n",
       "      <td>277.72</td>\n",
       "      <td>219.73</td>\n",
       "      <td>0.11</td>\n",
       "      <td>0.07</td>\n",
       "    </tr>\n",
       "    <tr>\n",
       "      <th>min</th>\n",
       "      <td>0.00</td>\n",
       "      <td>12190.00</td>\n",
       "      <td>12.00</td>\n",
       "      <td>0.00</td>\n",
       "      <td>1.00</td>\n",
       "      <td>0.00</td>\n",
       "      <td>2.00</td>\n",
       "      <td>1.00</td>\n",
       "      <td>0.00</td>\n",
       "      <td>1.30</td>\n",
       "      <td>0.00</td>\n",
       "      <td>0.00</td>\n",
       "      <td>181.00</td>\n",
       "      <td>0.00</td>\n",
       "      <td>1.00</td>\n",
       "      <td>0.00</td>\n",
       "      <td>13.00</td>\n",
       "      <td>1.00</td>\n",
       "      <td>0.02</td>\n",
       "      <td>0.03</td>\n",
       "    </tr>\n",
       "    <tr>\n",
       "      <th>25%</th>\n",
       "      <td>6.00</td>\n",
       "      <td>3400000.00</td>\n",
       "      <td>40.00</td>\n",
       "      <td>1.00</td>\n",
       "      <td>2.52</td>\n",
       "      <td>5.00</td>\n",
       "      <td>18.60</td>\n",
       "      <td>2.00</td>\n",
       "      <td>0.00</td>\n",
       "      <td>7.00</td>\n",
       "      <td>0.00</td>\n",
       "      <td>18585.00</td>\n",
       "      <td>9238.00</td>\n",
       "      <td>0.00</td>\n",
       "      <td>288.00</td>\n",
       "      <td>0.00</td>\n",
       "      <td>294.00</td>\n",
       "      <td>45.00</td>\n",
       "      <td>0.50</td>\n",
       "      <td>0.13</td>\n",
       "    </tr>\n",
       "    <tr>\n",
       "      <th>50%</th>\n",
       "      <td>9.00</td>\n",
       "      <td>4650000.00</td>\n",
       "      <td>52.00</td>\n",
       "      <td>2.00</td>\n",
       "      <td>2.65</td>\n",
       "      <td>9.00</td>\n",
       "      <td>30.00</td>\n",
       "      <td>4.00</td>\n",
       "      <td>0.00</td>\n",
       "      <td>9.10</td>\n",
       "      <td>0.00</td>\n",
       "      <td>26726.00</td>\n",
       "      <td>13098.50</td>\n",
       "      <td>0.00</td>\n",
       "      <td>455.00</td>\n",
       "      <td>1.00</td>\n",
       "      <td>502.00</td>\n",
       "      <td>95.00</td>\n",
       "      <td>0.57</td>\n",
       "      <td>0.17</td>\n",
       "    </tr>\n",
       "    <tr>\n",
       "      <th>75%</th>\n",
       "      <td>14.00</td>\n",
       "      <td>6800000.00</td>\n",
       "      <td>69.90</td>\n",
       "      <td>3.00</td>\n",
       "      <td>2.80</td>\n",
       "      <td>16.00</td>\n",
       "      <td>42.30</td>\n",
       "      <td>8.00</td>\n",
       "      <td>0.00</td>\n",
       "      <td>12.00</td>\n",
       "      <td>1.00</td>\n",
       "      <td>37273.00</td>\n",
       "      <td>16293.00</td>\n",
       "      <td>1.00</td>\n",
       "      <td>612.00</td>\n",
       "      <td>1.00</td>\n",
       "      <td>729.00</td>\n",
       "      <td>232.00</td>\n",
       "      <td>0.64</td>\n",
       "      <td>0.23</td>\n",
       "    </tr>\n",
       "    <tr>\n",
       "      <th>max</th>\n",
       "      <td>50.00</td>\n",
       "      <td>763000000.00</td>\n",
       "      <td>900.00</td>\n",
       "      <td>19.00</td>\n",
       "      <td>100.00</td>\n",
       "      <td>60.00</td>\n",
       "      <td>409.70</td>\n",
       "      <td>33.00</td>\n",
       "      <td>1.00</td>\n",
       "      <td>112.00</td>\n",
       "      <td>5.00</td>\n",
       "      <td>84869.00</td>\n",
       "      <td>65968.00</td>\n",
       "      <td>3.00</td>\n",
       "      <td>3190.00</td>\n",
       "      <td>3.00</td>\n",
       "      <td>1344.00</td>\n",
       "      <td>1580.00</td>\n",
       "      <td>1.00</td>\n",
       "      <td>0.79</td>\n",
       "    </tr>\n",
       "  </tbody>\n",
       "</table>\n",
       "</div>"
      ],
      "text/plain": [
       "       total_images   last_price  total_area    rooms  ceiling_height  \\\n",
       "count      23699.00     23699.00    23699.00 23699.00        14504.00   \n",
       "mean           9.86   6541548.77       60.35     2.07            2.77   \n",
       "std            5.68  10887013.27       35.65     1.08            1.26   \n",
       "min            0.00     12190.00       12.00     0.00            1.00   \n",
       "25%            6.00   3400000.00       40.00     1.00            2.52   \n",
       "50%            9.00   4650000.00       52.00     2.00            2.65   \n",
       "75%           14.00   6800000.00       69.90     3.00            2.80   \n",
       "max           50.00 763000000.00      900.00    19.00          100.00   \n",
       "\n",
       "       floors_total  living_area    floor  is_apartment  kitchen_area  \\\n",
       "count      23699.00     21796.00 23699.00      23699.00      21421.00   \n",
       "mean          10.64        34.46     5.89          0.00         10.57   \n",
       "std            6.62        22.03     4.89          0.05          5.91   \n",
       "min            0.00         2.00     1.00          0.00          1.30   \n",
       "25%            5.00        18.60     2.00          0.00          7.00   \n",
       "50%            9.00        30.00     4.00          0.00          9.10   \n",
       "75%           16.00        42.30     8.00          0.00         12.00   \n",
       "max           60.00       409.70    33.00          1.00        112.00   \n",
       "\n",
       "       balcony  airports_nearest  cityCenters_nearest  parks_around3000  \\\n",
       "count 23699.00          18157.00             18180.00          18181.00   \n",
       "mean      0.59          28793.67             14191.28              0.61   \n",
       "std       0.96          12630.88              8608.39              0.80   \n",
       "min       0.00              0.00               181.00              0.00   \n",
       "25%       0.00          18585.00              9238.00              0.00   \n",
       "50%       0.00          26726.00             13098.50              0.00   \n",
       "75%       1.00          37273.00             16293.00              1.00   \n",
       "max       5.00          84869.00             65968.00              3.00   \n",
       "\n",
       "       parks_nearest  ponds_around3000  ponds_nearest  days_exposition  \\\n",
       "count        8079.00          18181.00        9110.00         20518.00   \n",
       "mean          490.80              0.77         517.98           180.89   \n",
       "std           342.32              0.94         277.72           219.73   \n",
       "min             1.00              0.00          13.00             1.00   \n",
       "25%           288.00              0.00         294.00            45.00   \n",
       "50%           455.00              1.00         502.00            95.00   \n",
       "75%           612.00              1.00         729.00           232.00   \n",
       "max          3190.00              3.00        1344.00          1580.00   \n",
       "\n",
       "       total_living_area_ratio  total_kitchen_area_ratio  \n",
       "count                 21796.00                  21421.00  \n",
       "mean                      0.56                      0.19  \n",
       "std                       0.11                      0.07  \n",
       "min                       0.02                      0.03  \n",
       "25%                       0.50                      0.13  \n",
       "50%                       0.57                      0.17  \n",
       "75%                       0.64                      0.23  \n",
       "max                       1.00                      0.79  "
      ]
     },
     "execution_count": 19,
     "metadata": {},
     "output_type": "execute_result"
    }
   ],
   "source": [
    "data.describe()"
   ]
  },
  {
   "cell_type": "code",
   "execution_count": 20,
   "metadata": {
    "scrolled": true
   },
   "outputs": [
    {
     "data": {
      "text/html": [
       "<style type=\"text/css\">\n",
       "</style>\n",
       "<table id=\"T_f47a8\">\n",
       "  <thead>\n",
       "    <tr>\n",
       "      <th class=\"blank level0\" >&nbsp;</th>\n",
       "      <th id=\"T_f47a8_level0_col0\" class=\"col_heading level0 col0\" >locality_name</th>\n",
       "      <th id=\"T_f47a8_level0_col1\" class=\"col_heading level0 col1\" >count</th>\n",
       "      <th id=\"T_f47a8_level0_col2\" class=\"col_heading level0 col2\" >count_gap</th>\n",
       "    </tr>\n",
       "  </thead>\n",
       "  <tbody>\n",
       "    <tr>\n",
       "      <th id=\"T_f47a8_level0_row0\" class=\"row_heading level0 row0\" >0</th>\n",
       "      <td id=\"T_f47a8_row0_col0\" class=\"data row0 col0\" >Бугры</td>\n",
       "      <td id=\"T_f47a8_row0_col1\" class=\"data row0 col1\" >114</td>\n",
       "      <td id=\"T_f47a8_row0_col2\" class=\"data row0 col2\" >114</td>\n",
       "    </tr>\n",
       "    <tr>\n",
       "      <th id=\"T_f47a8_level0_row1\" class=\"row_heading level0 row1\" >1</th>\n",
       "      <td id=\"T_f47a8_row1_col0\" class=\"data row1 col0\" >Волхов</td>\n",
       "      <td id=\"T_f47a8_row1_col1\" class=\"data row1 col1\" >111</td>\n",
       "      <td id=\"T_f47a8_row1_col2\" class=\"data row1 col2\" >111</td>\n",
       "    </tr>\n",
       "    <tr>\n",
       "      <th id=\"T_f47a8_level0_row2\" class=\"row_heading level0 row2\" >2</th>\n",
       "      <td id=\"T_f47a8_row2_col0\" class=\"data row2 col0\" >Всеволожск</td>\n",
       "      <td id=\"T_f47a8_row2_col1\" class=\"data row2 col1\" >398</td>\n",
       "      <td id=\"T_f47a8_row2_col2\" class=\"data row2 col2\" >398</td>\n",
       "    </tr>\n",
       "    <tr>\n",
       "      <th id=\"T_f47a8_level0_row3\" class=\"row_heading level0 row3\" >3</th>\n",
       "      <td id=\"T_f47a8_row3_col0\" class=\"data row3 col0\" >Выборг</td>\n",
       "      <td id=\"T_f47a8_row3_col1\" class=\"data row3 col1\" >237</td>\n",
       "      <td id=\"T_f47a8_row3_col2\" class=\"data row3 col2\" >237</td>\n",
       "    </tr>\n",
       "    <tr>\n",
       "      <th id=\"T_f47a8_level0_row4\" class=\"row_heading level0 row4\" >4</th>\n",
       "      <td id=\"T_f47a8_row4_col0\" class=\"data row4 col0\" >Гатчина</td>\n",
       "      <td id=\"T_f47a8_row4_col1\" class=\"data row4 col1\" >307</td>\n",
       "      <td id=\"T_f47a8_row4_col2\" class=\"data row4 col2\" >307</td>\n",
       "    </tr>\n",
       "    <tr>\n",
       "      <th id=\"T_f47a8_level0_row5\" class=\"row_heading level0 row5\" >5</th>\n",
       "      <td id=\"T_f47a8_row5_col0\" class=\"data row5 col0\" >Кингисепп</td>\n",
       "      <td id=\"T_f47a8_row5_col1\" class=\"data row5 col1\" >104</td>\n",
       "      <td id=\"T_f47a8_row5_col2\" class=\"data row5 col2\" >104</td>\n",
       "    </tr>\n",
       "    <tr>\n",
       "      <th id=\"T_f47a8_level0_row6\" class=\"row_heading level0 row6\" >6</th>\n",
       "      <td id=\"T_f47a8_row6_col0\" class=\"data row6 col0\" >Кириши</td>\n",
       "      <td id=\"T_f47a8_row6_col1\" class=\"data row6 col1\" >125</td>\n",
       "      <td id=\"T_f47a8_row6_col2\" class=\"data row6 col2\" >125</td>\n",
       "    </tr>\n",
       "    <tr>\n",
       "      <th id=\"T_f47a8_level0_row7\" class=\"row_heading level0 row7\" >7</th>\n",
       "      <td id=\"T_f47a8_row7_col0\" class=\"data row7 col0\" >Кировск</td>\n",
       "      <td id=\"T_f47a8_row7_col1\" class=\"data row7 col1\" >nan</td>\n",
       "      <td id=\"T_f47a8_row7_col2\" class=\"data row7 col2\" >84</td>\n",
       "    </tr>\n",
       "    <tr>\n",
       "      <th id=\"T_f47a8_level0_row8\" class=\"row_heading level0 row8\" >8</th>\n",
       "      <td id=\"T_f47a8_row8_col0\" class=\"data row8 col0\" >Колпино</td>\n",
       "      <td id=\"T_f47a8_row8_col1\" class=\"data row8 col1\" >338</td>\n",
       "      <td id=\"T_f47a8_row8_col2\" class=\"data row8 col2\" >nan</td>\n",
       "    </tr>\n",
       "    <tr>\n",
       "      <th id=\"T_f47a8_level0_row9\" class=\"row_heading level0 row9\" >9</th>\n",
       "      <td id=\"T_f47a8_row9_col0\" class=\"data row9 col0\" >Коммунар</td>\n",
       "      <td id=\"T_f47a8_row9_col1\" class=\"data row9 col1\" >89</td>\n",
       "      <td id=\"T_f47a8_row9_col2\" class=\"data row9 col2\" >89</td>\n",
       "    </tr>\n",
       "    <tr>\n",
       "      <th id=\"T_f47a8_level0_row10\" class=\"row_heading level0 row10\" >10</th>\n",
       "      <td id=\"T_f47a8_row10_col0\" class=\"data row10 col0\" >Красное Село</td>\n",
       "      <td id=\"T_f47a8_row10_col1\" class=\"data row10 col1\" >178</td>\n",
       "      <td id=\"T_f47a8_row10_col2\" class=\"data row10 col2\" >nan</td>\n",
       "    </tr>\n",
       "    <tr>\n",
       "      <th id=\"T_f47a8_level0_row11\" class=\"row_heading level0 row11\" >11</th>\n",
       "      <td id=\"T_f47a8_row11_col0\" class=\"data row11 col0\" >Кронштадт</td>\n",
       "      <td id=\"T_f47a8_row11_col1\" class=\"data row11 col1\" >96</td>\n",
       "      <td id=\"T_f47a8_row11_col2\" class=\"data row11 col2\" >nan</td>\n",
       "    </tr>\n",
       "    <tr>\n",
       "      <th id=\"T_f47a8_level0_row12\" class=\"row_heading level0 row12\" >12</th>\n",
       "      <td id=\"T_f47a8_row12_col0\" class=\"data row12 col0\" >Кудрово</td>\n",
       "      <td id=\"T_f47a8_row12_col1\" class=\"data row12 col1\" >472</td>\n",
       "      <td id=\"T_f47a8_row12_col2\" class=\"data row12 col2\" >472</td>\n",
       "    </tr>\n",
       "    <tr>\n",
       "      <th id=\"T_f47a8_level0_row13\" class=\"row_heading level0 row13\" >13</th>\n",
       "      <td id=\"T_f47a8_row13_col0\" class=\"data row13 col0\" >Ломоносов</td>\n",
       "      <td id=\"T_f47a8_row13_col1\" class=\"data row13 col1\" >133</td>\n",
       "      <td id=\"T_f47a8_row13_col2\" class=\"data row13 col2\" >nan</td>\n",
       "    </tr>\n",
       "    <tr>\n",
       "      <th id=\"T_f47a8_level0_row14\" class=\"row_heading level0 row14\" >14</th>\n",
       "      <td id=\"T_f47a8_row14_col0\" class=\"data row14 col0\" >Луга</td>\n",
       "      <td id=\"T_f47a8_row14_col1\" class=\"data row14 col1\" >nan</td>\n",
       "      <td id=\"T_f47a8_row14_col2\" class=\"data row14 col2\" >56</td>\n",
       "    </tr>\n",
       "    <tr>\n",
       "      <th id=\"T_f47a8_level0_row15\" class=\"row_heading level0 row15\" >15</th>\n",
       "      <td id=\"T_f47a8_row15_col0\" class=\"data row15 col0\" >Мурино</td>\n",
       "      <td id=\"T_f47a8_row15_col1\" class=\"data row15 col1\" >590</td>\n",
       "      <td id=\"T_f47a8_row15_col2\" class=\"data row15 col2\" >588</td>\n",
       "    </tr>\n",
       "    <tr>\n",
       "      <th id=\"T_f47a8_level0_row16\" class=\"row_heading level0 row16\" >16</th>\n",
       "      <td id=\"T_f47a8_row16_col0\" class=\"data row16 col0\" >Никольское</td>\n",
       "      <td id=\"T_f47a8_row16_col1\" class=\"data row16 col1\" >94</td>\n",
       "      <td id=\"T_f47a8_row16_col2\" class=\"data row16 col2\" >94</td>\n",
       "    </tr>\n",
       "    <tr>\n",
       "      <th id=\"T_f47a8_level0_row17\" class=\"row_heading level0 row17\" >17</th>\n",
       "      <td id=\"T_f47a8_row17_col0\" class=\"data row17 col0\" >Новое Девяткино</td>\n",
       "      <td id=\"T_f47a8_row17_col1\" class=\"data row17 col1\" >144</td>\n",
       "      <td id=\"T_f47a8_row17_col2\" class=\"data row17 col2\" >144</td>\n",
       "    </tr>\n",
       "    <tr>\n",
       "      <th id=\"T_f47a8_level0_row18\" class=\"row_heading level0 row18\" >18</th>\n",
       "      <td id=\"T_f47a8_row18_col0\" class=\"data row18 col0\" >Отрадное</td>\n",
       "      <td id=\"T_f47a8_row18_col1\" class=\"data row18 col1\" >nan</td>\n",
       "      <td id=\"T_f47a8_row18_col2\" class=\"data row18 col2\" >80</td>\n",
       "    </tr>\n",
       "    <tr>\n",
       "      <th id=\"T_f47a8_level0_row19\" class=\"row_heading level0 row19\" >19</th>\n",
       "      <td id=\"T_f47a8_row19_col0\" class=\"data row19 col0\" >Парголово</td>\n",
       "      <td id=\"T_f47a8_row19_col1\" class=\"data row19 col1\" >327</td>\n",
       "      <td id=\"T_f47a8_row19_col2\" class=\"data row19 col2\" >nan</td>\n",
       "    </tr>\n",
       "    <tr>\n",
       "      <th id=\"T_f47a8_level0_row20\" class=\"row_heading level0 row20\" >20</th>\n",
       "      <td id=\"T_f47a8_row20_col0\" class=\"data row20 col0\" >Петергоф</td>\n",
       "      <td id=\"T_f47a8_row20_col1\" class=\"data row20 col1\" >201</td>\n",
       "      <td id=\"T_f47a8_row20_col2\" class=\"data row20 col2\" >nan</td>\n",
       "    </tr>\n",
       "    <tr>\n",
       "      <th id=\"T_f47a8_level0_row21\" class=\"row_heading level0 row21\" >21</th>\n",
       "      <td id=\"T_f47a8_row21_col0\" class=\"data row21 col0\" >Приозерск</td>\n",
       "      <td id=\"T_f47a8_row21_col1\" class=\"data row21 col1\" >nan</td>\n",
       "      <td id=\"T_f47a8_row21_col2\" class=\"data row21 col2\" >66</td>\n",
       "    </tr>\n",
       "    <tr>\n",
       "      <th id=\"T_f47a8_level0_row22\" class=\"row_heading level0 row22\" >22</th>\n",
       "      <td id=\"T_f47a8_row22_col0\" class=\"data row22 col0\" >Пушкин</td>\n",
       "      <td id=\"T_f47a8_row22_col1\" class=\"data row22 col1\" >369</td>\n",
       "      <td id=\"T_f47a8_row22_col2\" class=\"data row22 col2\" >nan</td>\n",
       "    </tr>\n",
       "    <tr>\n",
       "      <th id=\"T_f47a8_level0_row23\" class=\"row_heading level0 row23\" >23</th>\n",
       "      <td id=\"T_f47a8_row23_col0\" class=\"data row23 col0\" >Санкт-Петербург</td>\n",
       "      <td id=\"T_f47a8_row23_col1\" class=\"data row23 col1\" >15,721</td>\n",
       "      <td id=\"T_f47a8_row23_col2\" class=\"data row23 col2\" >85</td>\n",
       "    </tr>\n",
       "    <tr>\n",
       "      <th id=\"T_f47a8_level0_row24\" class=\"row_heading level0 row24\" >24</th>\n",
       "      <td id=\"T_f47a8_row24_col0\" class=\"data row24 col0\" >Сертолово</td>\n",
       "      <td id=\"T_f47a8_row24_col1\" class=\"data row24 col1\" >142</td>\n",
       "      <td id=\"T_f47a8_row24_col2\" class=\"data row24 col2\" >142</td>\n",
       "    </tr>\n",
       "    <tr>\n",
       "      <th id=\"T_f47a8_level0_row25\" class=\"row_heading level0 row25\" >25</th>\n",
       "      <td id=\"T_f47a8_row25_col0\" class=\"data row25 col0\" >Сестрорецк</td>\n",
       "      <td id=\"T_f47a8_row25_col1\" class=\"data row25 col1\" >183</td>\n",
       "      <td id=\"T_f47a8_row25_col2\" class=\"data row25 col2\" >nan</td>\n",
       "    </tr>\n",
       "    <tr>\n",
       "      <th id=\"T_f47a8_level0_row26\" class=\"row_heading level0 row26\" >26</th>\n",
       "      <td id=\"T_f47a8_row26_col0\" class=\"data row26 col0\" >Сланцы</td>\n",
       "      <td id=\"T_f47a8_row26_col1\" class=\"data row26 col1\" >112</td>\n",
       "      <td id=\"T_f47a8_row26_col2\" class=\"data row26 col2\" >112</td>\n",
       "    </tr>\n",
       "    <tr>\n",
       "      <th id=\"T_f47a8_level0_row27\" class=\"row_heading level0 row27\" >27</th>\n",
       "      <td id=\"T_f47a8_row27_col0\" class=\"data row27 col0\" >Сосновый Бор</td>\n",
       "      <td id=\"T_f47a8_row27_col1\" class=\"data row27 col1\" >nan</td>\n",
       "      <td id=\"T_f47a8_row27_col2\" class=\"data row27 col2\" >87</td>\n",
       "    </tr>\n",
       "    <tr>\n",
       "      <th id=\"T_f47a8_level0_row28\" class=\"row_heading level0 row28\" >28</th>\n",
       "      <td id=\"T_f47a8_row28_col0\" class=\"data row28 col0\" >Старая</td>\n",
       "      <td id=\"T_f47a8_row28_col1\" class=\"data row28 col1\" >nan</td>\n",
       "      <td id=\"T_f47a8_row28_col2\" class=\"data row28 col2\" >64</td>\n",
       "    </tr>\n",
       "    <tr>\n",
       "      <th id=\"T_f47a8_level0_row29\" class=\"row_heading level0 row29\" >29</th>\n",
       "      <td id=\"T_f47a8_row29_col0\" class=\"data row29 col0\" >Тихвин</td>\n",
       "      <td id=\"T_f47a8_row29_col1\" class=\"data row29 col1\" >nan</td>\n",
       "      <td id=\"T_f47a8_row29_col2\" class=\"data row29 col2\" >49</td>\n",
       "    </tr>\n",
       "    <tr>\n",
       "      <th id=\"T_f47a8_level0_row30\" class=\"row_heading level0 row30\" >30</th>\n",
       "      <td id=\"T_f47a8_row30_col0\" class=\"data row30 col0\" >Тосно</td>\n",
       "      <td id=\"T_f47a8_row30_col1\" class=\"data row30 col1\" >104</td>\n",
       "      <td id=\"T_f47a8_row30_col2\" class=\"data row30 col2\" >104</td>\n",
       "    </tr>\n",
       "    <tr>\n",
       "      <th id=\"T_f47a8_level0_row31\" class=\"row_heading level0 row31\" >31</th>\n",
       "      <td id=\"T_f47a8_row31_col0\" class=\"data row31 col0\" >Шлиссельбург</td>\n",
       "      <td id=\"T_f47a8_row31_col1\" class=\"data row31 col1\" >nan</td>\n",
       "      <td id=\"T_f47a8_row31_col2\" class=\"data row31 col2\" >57</td>\n",
       "    </tr>\n",
       "    <tr>\n",
       "      <th id=\"T_f47a8_level0_row32\" class=\"row_heading level0 row32\" >32</th>\n",
       "      <td id=\"T_f47a8_row32_col0\" class=\"data row32 col0\" >Шушары</td>\n",
       "      <td id=\"T_f47a8_row32_col1\" class=\"data row32 col1\" >440</td>\n",
       "      <td id=\"T_f47a8_row32_col2\" class=\"data row32 col2\" >nan</td>\n",
       "    </tr>\n",
       "    <tr>\n",
       "      <th id=\"T_f47a8_level0_row33\" class=\"row_heading level0 row33\" >33</th>\n",
       "      <td id=\"T_f47a8_row33_col0\" class=\"data row33 col0\" >Янино-1</td>\n",
       "      <td id=\"T_f47a8_row33_col1\" class=\"data row33 col1\" >nan</td>\n",
       "      <td id=\"T_f47a8_row33_col2\" class=\"data row33 col2\" >68</td>\n",
       "    </tr>\n",
       "  </tbody>\n",
       "</table>\n"
      ],
      "text/plain": [
       "<pandas.io.formats.style.Styler at 0x25a6cbd6160>"
      ]
     },
     "execution_count": 20,
     "metadata": {},
     "output_type": "execute_result"
    }
   ],
   "source": [
    "#check\n",
    "\n",
    "# создаем две колонки\n",
    "x = (\n",
    "        data\n",
    "         .value_counts('locality_name')\n",
    "         .head(25)\n",
    "         .to_frame()\n",
    "         .rename(columns = {0:'count'})\n",
    "    )\n",
    "\n",
    "y = (\n",
    "        data[data['airports_nearest'].isna()]\n",
    "                .value_counts('locality_name')).head(25).to_frame().rename(columns = {0:'count_gap'}\n",
    "    )\n",
    "\n",
    "# объединяем две колонки\n",
    "z = x.join(y, how = 'outer').reset_index().sort_values(by = 'locality_name')\n",
    "\n",
    "# работаем над форматом вывода\n",
    "z.style.format(\"{:,.0f}\", subset = ['count_gap', 'count'])"
   ]
  },
  {
   "cell_type": "code",
   "execution_count": 21,
   "metadata": {},
   "outputs": [
    {
     "data": {
      "text/html": [
       "<div>\n",
       "<style scoped>\n",
       "    .dataframe tbody tr th:only-of-type {\n",
       "        vertical-align: middle;\n",
       "    }\n",
       "\n",
       "    .dataframe tbody tr th {\n",
       "        vertical-align: top;\n",
       "    }\n",
       "\n",
       "    .dataframe thead th {\n",
       "        text-align: right;\n",
       "    }\n",
       "</style>\n",
       "<table border=\"1\" class=\"dataframe\">\n",
       "  <thead>\n",
       "    <tr style=\"text-align: right;\">\n",
       "      <th></th>\n",
       "      <th>locality_name</th>\n",
       "      <th>count_values</th>\n",
       "      <th>count_nan_values</th>\n",
       "      <th>percent_nan_values</th>\n",
       "    </tr>\n",
       "  </thead>\n",
       "  <tbody>\n",
       "    <tr>\n",
       "      <th>299</th>\n",
       "      <td>Пушкин</td>\n",
       "      <td>369</td>\n",
       "      <td>1.00</td>\n",
       "      <td>0.00</td>\n",
       "    </tr>\n",
       "    <tr>\n",
       "      <th>298</th>\n",
       "      <td>Колпино</td>\n",
       "      <td>338</td>\n",
       "      <td>1.00</td>\n",
       "      <td>0.00</td>\n",
       "    </tr>\n",
       "    <tr>\n",
       "      <th>304</th>\n",
       "      <td>Санкт-Петербург</td>\n",
       "      <td>15721</td>\n",
       "      <td>61.00</td>\n",
       "      <td>0.00</td>\n",
       "    </tr>\n",
       "    <tr>\n",
       "      <th>289</th>\n",
       "      <td>Ломоносов</td>\n",
       "      <td>133</td>\n",
       "      <td>1.00</td>\n",
       "      <td>0.01</td>\n",
       "    </tr>\n",
       "    <tr>\n",
       "      <th>301</th>\n",
       "      <td>Шушары</td>\n",
       "      <td>440</td>\n",
       "      <td>4.00</td>\n",
       "      <td>0.01</td>\n",
       "    </tr>\n",
       "    <tr>\n",
       "      <th>...</th>\n",
       "      <td>...</td>\n",
       "      <td>...</td>\n",
       "      <td>...</td>\n",
       "      <td>...</td>\n",
       "    </tr>\n",
       "    <tr>\n",
       "      <th>97</th>\n",
       "      <td>Путилово</td>\n",
       "      <td>2</td>\n",
       "      <td>2.00</td>\n",
       "      <td>1.00</td>\n",
       "    </tr>\n",
       "    <tr>\n",
       "      <th>96</th>\n",
       "      <td>Пушное</td>\n",
       "      <td>2</td>\n",
       "      <td>2.00</td>\n",
       "      <td>1.00</td>\n",
       "    </tr>\n",
       "    <tr>\n",
       "      <th>95</th>\n",
       "      <td>Старая Ладога</td>\n",
       "      <td>2</td>\n",
       "      <td>2.00</td>\n",
       "      <td>1.00</td>\n",
       "    </tr>\n",
       "    <tr>\n",
       "      <th>102</th>\n",
       "      <td>Паша</td>\n",
       "      <td>2</td>\n",
       "      <td>2.00</td>\n",
       "      <td>1.00</td>\n",
       "    </tr>\n",
       "    <tr>\n",
       "      <th>151</th>\n",
       "      <td>Кикерино</td>\n",
       "      <td>4</td>\n",
       "      <td>4.00</td>\n",
       "      <td>1.00</td>\n",
       "    </tr>\n",
       "  </tbody>\n",
       "</table>\n",
       "<p>287 rows × 4 columns</p>\n",
       "</div>"
      ],
      "text/plain": [
       "       locality_name  count_values  count_nan_values  percent_nan_values\n",
       "299           Пушкин           369              1.00                0.00\n",
       "298          Колпино           338              1.00                0.00\n",
       "304  Санкт-Петербург         15721             61.00                0.00\n",
       "289        Ломоносов           133              1.00                0.01\n",
       "301           Шушары           440              4.00                0.01\n",
       "..               ...           ...               ...                 ...\n",
       "97          Путилово             2              2.00                1.00\n",
       "96            Пушное             2              2.00                1.00\n",
       "95     Старая Ладога             2              2.00                1.00\n",
       "102             Паша             2              2.00                1.00\n",
       "151         Кикерино             4              4.00                1.00\n",
       "\n",
       "[287 rows x 4 columns]"
      ]
     },
     "execution_count": 21,
     "metadata": {},
     "output_type": "execute_result"
    }
   ],
   "source": [
    "nan_count = (data[data.cityCenters_nearest.isna()]\n",
    " .fillna({'cityCenters_nearest':1})\n",
    " .groupby('locality_name')['cityCenters_nearest'].sum().sort_values()\n",
    "             .reset_index().rename(columns={'cityCenters_nearest':'count_nan_values'}))\n",
    "\n",
    "all_count = (data\n",
    " .value_counts('locality_name').sort_values()).reset_index().rename(columns={0:'count_values'})\n",
    "\n",
    "nan_estimation = all_count.merge(nan_count,how = 'left',left_on = 'locality_name',right_on = 'locality_name')\n",
    "nan_estimation['percent_nan_values'] = nan_estimation.count_nan_values/nan_estimation.count_values\n",
    "\n",
    "\n",
    "(\n",
    "nan_estimation.fillna(0).query('percent_nan_values > 0')\n",
    "            .sort_values(by = 'percent_nan_values', ascending = True)\n",
    "   )"
   ]
  },
  {
   "cell_type": "code",
   "execution_count": 22,
   "metadata": {
    "scrolled": true
   },
   "outputs": [
    {
     "data": {
      "text/plain": [
       "5511.0"
      ]
     },
     "metadata": {},
     "output_type": "display_data"
    }
   ],
   "source": [
    "display(nan_count['count_nan_values'].sum())"
   ]
  },
  {
   "cell_type": "code",
   "execution_count": 23,
   "metadata": {
    "scrolled": true
   },
   "outputs": [
    {
     "data": {
      "text/plain": [
       "(23699, 24)"
      ]
     },
     "execution_count": 23,
     "metadata": {},
     "output_type": "execute_result"
    }
   ],
   "source": [
    "data.shape"
   ]
  },
  {
   "cell_type": "markdown",
   "metadata": {
    "scrolled": true
   },
   "source": [
    "**Вывод:** в маленьких н.п. большое количество пропущенных значений, это говорит о том, что при заполнении данных фактор дальности от центра не учитывался."
   ]
  },
  {
   "cell_type": "code",
   "execution_count": 24,
   "metadata": {
    "scrolled": true
   },
   "outputs": [
    {
     "data": {
      "text/html": [
       "<style type=\"text/css\">\n",
       "</style>\n",
       "<table id=\"T_56fda\">\n",
       "  <thead>\n",
       "    <tr>\n",
       "      <th class=\"blank level0\" >&nbsp;</th>\n",
       "      <th id=\"T_56fda_level0_col0\" class=\"col_heading level0 col0\" >rooms</th>\n",
       "      <th id=\"T_56fda_level0_col1\" class=\"col_heading level0 col1\" >total_area</th>\n",
       "      <th id=\"T_56fda_level0_col2\" class=\"col_heading level0 col2\" >ceiling_height</th>\n",
       "      <th id=\"T_56fda_level0_col3\" class=\"col_heading level0 col3\" >days_exposition</th>\n",
       "      <th id=\"T_56fda_level0_col4\" class=\"col_heading level0 col4\" >last_price</th>\n",
       "      <th id=\"T_56fda_level0_col5\" class=\"col_heading level0 col5\" >living_area</th>\n",
       "      <th id=\"T_56fda_level0_col6\" class=\"col_heading level0 col6\" >kitchen_area</th>\n",
       "      <th id=\"T_56fda_level0_col7\" class=\"col_heading level0 col7\" >floor</th>\n",
       "      <th id=\"T_56fda_level0_col8\" class=\"col_heading level0 col8\" >floors_total</th>\n",
       "    </tr>\n",
       "  </thead>\n",
       "  <tbody>\n",
       "    <tr>\n",
       "      <th id=\"T_56fda_level0_row0\" class=\"row_heading level0 row0\" >count</th>\n",
       "      <td id=\"T_56fda_row0_col0\" class=\"data row0 col0\" >23,699.00</td>\n",
       "      <td id=\"T_56fda_row0_col1\" class=\"data row0 col1\" >23,699.00</td>\n",
       "      <td id=\"T_56fda_row0_col2\" class=\"data row0 col2\" >14,504.00</td>\n",
       "      <td id=\"T_56fda_row0_col3\" class=\"data row0 col3\" >20,518.00</td>\n",
       "      <td id=\"T_56fda_row0_col4\" class=\"data row0 col4\" >23,699.00</td>\n",
       "      <td id=\"T_56fda_row0_col5\" class=\"data row0 col5\" >21,796.00</td>\n",
       "      <td id=\"T_56fda_row0_col6\" class=\"data row0 col6\" >21,421.00</td>\n",
       "      <td id=\"T_56fda_row0_col7\" class=\"data row0 col7\" >23,699.00</td>\n",
       "      <td id=\"T_56fda_row0_col8\" class=\"data row0 col8\" >23,699.00</td>\n",
       "    </tr>\n",
       "    <tr>\n",
       "      <th id=\"T_56fda_level0_row1\" class=\"row_heading level0 row1\" >min</th>\n",
       "      <td id=\"T_56fda_row1_col0\" class=\"data row1 col0\" >0.00</td>\n",
       "      <td id=\"T_56fda_row1_col1\" class=\"data row1 col1\" >12.00</td>\n",
       "      <td id=\"T_56fda_row1_col2\" class=\"data row1 col2\" >1.00</td>\n",
       "      <td id=\"T_56fda_row1_col3\" class=\"data row1 col3\" >1.00</td>\n",
       "      <td id=\"T_56fda_row1_col4\" class=\"data row1 col4\" >12,190.00</td>\n",
       "      <td id=\"T_56fda_row1_col5\" class=\"data row1 col5\" >2.00</td>\n",
       "      <td id=\"T_56fda_row1_col6\" class=\"data row1 col6\" >1.30</td>\n",
       "      <td id=\"T_56fda_row1_col7\" class=\"data row1 col7\" >1.00</td>\n",
       "      <td id=\"T_56fda_row1_col8\" class=\"data row1 col8\" >0.00</td>\n",
       "    </tr>\n",
       "    <tr>\n",
       "      <th id=\"T_56fda_level0_row2\" class=\"row_heading level0 row2\" >max</th>\n",
       "      <td id=\"T_56fda_row2_col0\" class=\"data row2 col0\" >19.00</td>\n",
       "      <td id=\"T_56fda_row2_col1\" class=\"data row2 col1\" >900.00</td>\n",
       "      <td id=\"T_56fda_row2_col2\" class=\"data row2 col2\" >100.00</td>\n",
       "      <td id=\"T_56fda_row2_col3\" class=\"data row2 col3\" >1,580.00</td>\n",
       "      <td id=\"T_56fda_row2_col4\" class=\"data row2 col4\" >763,000,000.00</td>\n",
       "      <td id=\"T_56fda_row2_col5\" class=\"data row2 col5\" >409.70</td>\n",
       "      <td id=\"T_56fda_row2_col6\" class=\"data row2 col6\" >112.00</td>\n",
       "      <td id=\"T_56fda_row2_col7\" class=\"data row2 col7\" >33.00</td>\n",
       "      <td id=\"T_56fda_row2_col8\" class=\"data row2 col8\" >60.00</td>\n",
       "    </tr>\n",
       "    <tr>\n",
       "      <th id=\"T_56fda_level0_row3\" class=\"row_heading level0 row3\" >mean</th>\n",
       "      <td id=\"T_56fda_row3_col0\" class=\"data row3 col0\" >2.07</td>\n",
       "      <td id=\"T_56fda_row3_col1\" class=\"data row3 col1\" >60.35</td>\n",
       "      <td id=\"T_56fda_row3_col2\" class=\"data row3 col2\" >2.77</td>\n",
       "      <td id=\"T_56fda_row3_col3\" class=\"data row3 col3\" >180.89</td>\n",
       "      <td id=\"T_56fda_row3_col4\" class=\"data row3 col4\" >6,541,548.77</td>\n",
       "      <td id=\"T_56fda_row3_col5\" class=\"data row3 col5\" >34.46</td>\n",
       "      <td id=\"T_56fda_row3_col6\" class=\"data row3 col6\" >10.57</td>\n",
       "      <td id=\"T_56fda_row3_col7\" class=\"data row3 col7\" >5.89</td>\n",
       "      <td id=\"T_56fda_row3_col8\" class=\"data row3 col8\" >10.64</td>\n",
       "    </tr>\n",
       "    <tr>\n",
       "      <th id=\"T_56fda_level0_row4\" class=\"row_heading level0 row4\" >median</th>\n",
       "      <td id=\"T_56fda_row4_col0\" class=\"data row4 col0\" >2.00</td>\n",
       "      <td id=\"T_56fda_row4_col1\" class=\"data row4 col1\" >52.00</td>\n",
       "      <td id=\"T_56fda_row4_col2\" class=\"data row4 col2\" >2.65</td>\n",
       "      <td id=\"T_56fda_row4_col3\" class=\"data row4 col3\" >95.00</td>\n",
       "      <td id=\"T_56fda_row4_col4\" class=\"data row4 col4\" >4,650,000.00</td>\n",
       "      <td id=\"T_56fda_row4_col5\" class=\"data row4 col5\" >30.00</td>\n",
       "      <td id=\"T_56fda_row4_col6\" class=\"data row4 col6\" >9.10</td>\n",
       "      <td id=\"T_56fda_row4_col7\" class=\"data row4 col7\" >4.00</td>\n",
       "      <td id=\"T_56fda_row4_col8\" class=\"data row4 col8\" >9.00</td>\n",
       "    </tr>\n",
       "  </tbody>\n",
       "</table>\n"
      ],
      "text/plain": [
       "<pandas.io.formats.style.Styler at 0x25a6cce02e0>"
      ]
     },
     "execution_count": 24,
     "metadata": {},
     "output_type": "execute_result"
    }
   ],
   "source": [
    "# check\n",
    "\n",
    "# Показатели о кол-ве объявлений в датасете, минимальных и максимальных значениях \n",
    "# в выбранных параметрах о продаже квартир\n",
    "# сырые данные\n",
    "\n",
    "(\n",
    "    data[['rooms', 'total_area', 'ceiling_height', 'days_exposition', 'last_price', 'living_area',  'kitchen_area', 'floor',\n",
    "       'floors_total']]\n",
    "    \n",
    "#     , 'area' - параметр добавляется позднее, нарушает работу кода - закомментировал\n",
    "    \n",
    "    .apply (['count', 'min', 'max', 'mean', 'median'])   \n",
    "    .style.format(\"{:,.2f}\")\n",
    ")"
   ]
  },
  {
   "cell_type": "markdown",
   "metadata": {},
   "source": [
    "#### check r.3.1"
   ]
  },
  {
   "cell_type": "code",
   "execution_count": 25,
   "metadata": {
    "scrolled": true
   },
   "outputs": [
    {
     "name": "stdout",
     "output_type": "stream",
     "text": [
      "<class 'pandas.core.frame.DataFrame'>\n",
      "RangeIndex: 23699 entries, 0 to 23698\n",
      "Data columns (total 24 columns):\n",
      " #   Column                    Non-Null Count  Dtype  \n",
      "---  ------                    --------------  -----  \n",
      " 0   total_images              23699 non-null  int64  \n",
      " 1   last_price                23699 non-null  float64\n",
      " 2   total_area                23699 non-null  float64\n",
      " 3   first_day_exposition      23699 non-null  object \n",
      " 4   rooms                     23699 non-null  int64  \n",
      " 5   ceiling_height            14504 non-null  float64\n",
      " 6   floors_total              23699 non-null  int32  \n",
      " 7   living_area               21796 non-null  float64\n",
      " 8   floor                     23699 non-null  int64  \n",
      " 9   is_apartment              23699 non-null  float64\n",
      " 10  studio                    23699 non-null  bool   \n",
      " 11  open_plan                 23699 non-null  bool   \n",
      " 12  kitchen_area              21421 non-null  float64\n",
      " 13  balcony                   23699 non-null  float64\n",
      " 14  locality_name             23650 non-null  object \n",
      " 15  airports_nearest          18157 non-null  float64\n",
      " 16  cityCenters_nearest       18180 non-null  float64\n",
      " 17  parks_around3000          18181 non-null  float64\n",
      " 18  parks_nearest             8079 non-null   float64\n",
      " 19  ponds_around3000          18181 non-null  float64\n",
      " 20  ponds_nearest             9110 non-null   float64\n",
      " 21  days_exposition           20518 non-null  float64\n",
      " 22  total_living_area_ratio   21796 non-null  float64\n",
      " 23  total_kitchen_area_ratio  21421 non-null  float64\n",
      "dtypes: bool(2), float64(16), int32(1), int64(3), object(2)\n",
      "memory usage: 3.9+ MB\n"
     ]
    }
   ],
   "source": [
    "# check\n",
    "data.info()"
   ]
  },
  {
   "cell_type": "code",
   "execution_count": 26,
   "metadata": {
    "scrolled": true
   },
   "outputs": [
    {
     "data": {
      "text/plain": [
       "total_images               0.00\n",
       "last_price                 0.00\n",
       "total_area                 0.00\n",
       "first_day_exposition       0.00\n",
       "rooms                      0.00\n",
       "ceiling_height             0.39\n",
       "floors_total               0.00\n",
       "living_area                0.08\n",
       "floor                      0.00\n",
       "is_apartment               0.00\n",
       "studio                     0.00\n",
       "open_plan                  0.00\n",
       "kitchen_area               0.10\n",
       "balcony                    0.00\n",
       "locality_name              0.00\n",
       "airports_nearest           0.23\n",
       "cityCenters_nearest        0.23\n",
       "parks_around3000           0.23\n",
       "parks_nearest              0.66\n",
       "ponds_around3000           0.23\n",
       "ponds_nearest              0.62\n",
       "days_exposition            0.13\n",
       "total_living_area_ratio    0.08\n",
       "total_kitchen_area_ratio   0.10\n",
       "dtype: float64"
      ]
     },
     "metadata": {},
     "output_type": "display_data"
    }
   ],
   "source": [
    "display(data.isna().mean())"
   ]
  },
  {
   "cell_type": "code",
   "execution_count": 27,
   "metadata": {
    "scrolled": true
   },
   "outputs": [],
   "source": [
    "data.loc[data['balcony'].isnull(), 'balcony'] = 0"
   ]
  },
  {
   "cell_type": "code",
   "execution_count": 28,
   "metadata": {
    "scrolled": true
   },
   "outputs": [
    {
     "data": {
      "text/plain": [
       "1     8047\n",
       "2     7940\n",
       "3     5814\n",
       "4     1180\n",
       "5      326\n",
       "0      197\n",
       "6      105\n",
       "7       59\n",
       "8       12\n",
       "9        8\n",
       "10       3\n",
       "11       2\n",
       "14       2\n",
       "15       1\n",
       "19       1\n",
       "16       1\n",
       "12       1\n",
       "Name: rooms, dtype: int64"
      ]
     },
     "metadata": {},
     "output_type": "display_data"
    },
    {
     "data": {
      "text/plain": [
       "0.00    23649\n",
       "1.00       50\n",
       "Name: is_apartment, dtype: int64"
      ]
     },
     "metadata": {},
     "output_type": "display_data"
    }
   ],
   "source": [
    "display(data['rooms'].value_counts())\n",
    "display(data['is_apartment'].value_counts())"
   ]
  },
  {
   "cell_type": "code",
   "execution_count": 29,
   "metadata": {
    "scrolled": true
   },
   "outputs": [],
   "source": [
    "#удаляем строки, где количество комнат указано как 0, так как их количество менее 1%\n",
    "data.drop(data[data['rooms'] == 0].index, inplace=True)\n",
    "\n",
    "# также поступим с квартирами где не указана этажность\n",
    "data.drop(data[data['floors_total'].isnull()].index, inplace=True)"
   ]
  },
  {
   "cell_type": "code",
   "execution_count": 30,
   "metadata": {
    "scrolled": false
   },
   "outputs": [
    {
     "data": {
      "text/plain": [
       "'Медиана площади кухни'"
      ]
     },
     "metadata": {},
     "output_type": "display_data"
    },
    {
     "data": {
      "text/plain": [
       "9.04"
      ]
     },
     "metadata": {},
     "output_type": "display_data"
    },
    {
     "data": {
      "text/plain": [
       "'Медиана жилой площади'"
      ]
     },
     "metadata": {},
     "output_type": "display_data"
    },
    {
     "data": {
      "text/plain": [
       "30.5"
      ]
     },
     "metadata": {},
     "output_type": "display_data"
    },
    {
     "data": {
      "text/plain": [
       "'Медиана общей площади'"
      ]
     },
     "metadata": {},
     "output_type": "display_data"
    },
    {
     "data": {
      "text/plain": [
       "52.0"
      ]
     },
     "metadata": {},
     "output_type": "display_data"
    }
   ],
   "source": [
    "for rooms in data['rooms'].unique():\n",
    "    #заполняем пропуски общей площади\n",
    "    #data.loc[(data['total_area'].isna()) & (data['rooms'] == rooms), 'total_area'] = \\\n",
    "    #data[data['rooms'] == rooms]['total_area'].median()\n",
    "    #заполняем пропуски в площади кухни\n",
    "    data.loc[(data['kitchen_area'].isna()) & (data['rooms'] == rooms), 'kitchen_area'] = \\\n",
    "    data[data['rooms'] == rooms]['kitchen_area'].median()\n",
    "    #заполняем пропуски в жилой площади\n",
    "    data.loc[(data['living_area'].isna()) & (data['rooms'] == rooms), 'living_area'] = \\\n",
    "    data[data['rooms'] == rooms]['living_area'].median()\n",
    "    \n",
    "data.loc[data['total_area'].isna(), 'total_area'] = (data.loc[data['total_area'].isna(), 'living_area'] + \\\n",
    "                                                        data.loc[data['kitchen_area'].isna(), 'kitchen_area']) * 1.1\n",
    "    \n",
    "display(f'Медиана площади кухни', data['kitchen_area'].median())\n",
    "display(f'Медиана жилой площади', data['living_area'].median())\n",
    "display(f'Медиана общей площади', data['total_area'].median())"
   ]
  },
  {
   "cell_type": "code",
   "execution_count": 31,
   "metadata": {
    "scrolled": true
   },
   "outputs": [
    {
     "data": {
      "text/html": [
       "<div>\n",
       "<style scoped>\n",
       "    .dataframe tbody tr th:only-of-type {\n",
       "        vertical-align: middle;\n",
       "    }\n",
       "\n",
       "    .dataframe tbody tr th {\n",
       "        vertical-align: top;\n",
       "    }\n",
       "\n",
       "    .dataframe thead th {\n",
       "        text-align: right;\n",
       "    }\n",
       "</style>\n",
       "<table border=\"1\" class=\"dataframe\">\n",
       "  <thead>\n",
       "    <tr style=\"text-align: right;\">\n",
       "      <th></th>\n",
       "      <th>total_area</th>\n",
       "      <th>living_area</th>\n",
       "      <th>kitchen_area</th>\n",
       "    </tr>\n",
       "  </thead>\n",
       "  <tbody>\n",
       "    <tr>\n",
       "      <th>41</th>\n",
       "      <td>74.00</td>\n",
       "      <td>59.00</td>\n",
       "      <td>12.00</td>\n",
       "    </tr>\n",
       "    <tr>\n",
       "      <th>164</th>\n",
       "      <td>40.30</td>\n",
       "      <td>30.50</td>\n",
       "      <td>8.80</td>\n",
       "    </tr>\n",
       "    <tr>\n",
       "      <th>171</th>\n",
       "      <td>49.00</td>\n",
       "      <td>38.00</td>\n",
       "      <td>10.00</td>\n",
       "    </tr>\n",
       "    <tr>\n",
       "      <th>184</th>\n",
       "      <td>30.20</td>\n",
       "      <td>26.10</td>\n",
       "      <td>6.20</td>\n",
       "    </tr>\n",
       "    <tr>\n",
       "      <th>195</th>\n",
       "      <td>60.00</td>\n",
       "      <td>45.00</td>\n",
       "      <td>9.50</td>\n",
       "    </tr>\n",
       "    <tr>\n",
       "      <th>...</th>\n",
       "      <td>...</td>\n",
       "      <td>...</td>\n",
       "      <td>...</td>\n",
       "    </tr>\n",
       "    <tr>\n",
       "      <th>23521</th>\n",
       "      <td>65.00</td>\n",
       "      <td>44.00</td>\n",
       "      <td>15.30</td>\n",
       "    </tr>\n",
       "    <tr>\n",
       "      <th>23579</th>\n",
       "      <td>24.80</td>\n",
       "      <td>18.00</td>\n",
       "      <td>9.04</td>\n",
       "    </tr>\n",
       "    <tr>\n",
       "      <th>23601</th>\n",
       "      <td>43.40</td>\n",
       "      <td>30.50</td>\n",
       "      <td>8.80</td>\n",
       "    </tr>\n",
       "    <tr>\n",
       "      <th>23613</th>\n",
       "      <td>52.00</td>\n",
       "      <td>45.00</td>\n",
       "      <td>9.50</td>\n",
       "    </tr>\n",
       "    <tr>\n",
       "      <th>23680</th>\n",
       "      <td>59.00</td>\n",
       "      <td>52.00</td>\n",
       "      <td>7.00</td>\n",
       "    </tr>\n",
       "  </tbody>\n",
       "</table>\n",
       "<p>939 rows × 3 columns</p>\n",
       "</div>"
      ],
      "text/plain": [
       "       total_area  living_area  kitchen_area\n",
       "41          74.00        59.00         12.00\n",
       "164         40.30        30.50          8.80\n",
       "171         49.00        38.00         10.00\n",
       "184         30.20        26.10          6.20\n",
       "195         60.00        45.00          9.50\n",
       "...           ...          ...           ...\n",
       "23521       65.00        44.00         15.30\n",
       "23579       24.80        18.00          9.04\n",
       "23601       43.40        30.50          8.80\n",
       "23613       52.00        45.00          9.50\n",
       "23680       59.00        52.00          7.00\n",
       "\n",
       "[939 rows x 3 columns]"
      ]
     },
     "execution_count": 31,
     "metadata": {},
     "output_type": "execute_result"
    }
   ],
   "source": [
    "data[data['total_area']*0.9 <= (abs(data ['living_area'])+abs(data ['kitchen_area']))][['total_area'\n",
    "                                                                                  ,'living_area','kitchen_area']]"
   ]
  },
  {
   "cell_type": "markdown",
   "metadata": {
    "scrolled": true
   },
   "source": [
    "**Вывод:** я предположил, что восстановить 'total_area' можно через сумму 'living_area' и 'kitchen_area' и плюс 10% к этому значению. А 'living_area' и 'kitchen_area' мы восстанавливали через медиану и фильтра по комнатам 'rooms'. "
   ]
  },
  {
   "cell_type": "code",
   "execution_count": 32,
   "metadata": {
    "scrolled": true
   },
   "outputs": [],
   "source": [
    "data.loc[data['days_exposition'].isna(), 'days_exposition'] = data['days_exposition'].describe()[5]\n",
    "#аэропорты, парки и пруды\n",
    "for location in data['locality_name'].unique():\n",
    "    data.loc[(data['locality_name'] == location) & (data['airports_nearest'].isna()),'airports_nearest' ] \\\n",
    "                        =  data.loc[data['locality_name'] == location, 'airports_nearest'].mean()\n",
    "    \n",
    "    data.loc[(data['locality_name'] == location) & (data['parks_around3000'].isna()),'parks_around3000' ] \\\n",
    "                        =  data.loc[data['locality_name'] == location, 'parks_around3000'].mean()\n",
    "    \n",
    "    data.loc[(data['locality_name'] == location) & (data['ponds_around3000'].isna()),'ponds_around3000' ] \\\n",
    "                        =  data.loc[data['locality_name'] == location, 'ponds_around3000'].mean()"
   ]
  },
  {
   "cell_type": "code",
   "execution_count": 33,
   "metadata": {
    "scrolled": false
   },
   "outputs": [
    {
     "data": {
      "text/plain": [
       "total_images               0.00\n",
       "last_price                 0.00\n",
       "total_area                 0.00\n",
       "first_day_exposition       0.00\n",
       "rooms                      0.00\n",
       "ceiling_height             0.39\n",
       "floors_total               0.00\n",
       "living_area                0.00\n",
       "floor                      0.00\n",
       "is_apartment               0.00\n",
       "studio                     0.00\n",
       "open_plan                  0.00\n",
       "kitchen_area               0.00\n",
       "balcony                    0.00\n",
       "locality_name              0.00\n",
       "airports_nearest           0.20\n",
       "cityCenters_nearest        0.23\n",
       "parks_around3000           0.20\n",
       "parks_nearest              0.66\n",
       "ponds_around3000           0.20\n",
       "ponds_nearest              0.62\n",
       "days_exposition            0.00\n",
       "total_living_area_ratio    0.08\n",
       "total_kitchen_area_ratio   0.09\n",
       "dtype: float64"
      ]
     },
     "metadata": {},
     "output_type": "display_data"
    }
   ],
   "source": [
    "display(data.isna().mean())"
   ]
  },
  {
   "cell_type": "code",
   "execution_count": 34,
   "metadata": {
    "scrolled": false
   },
   "outputs": [
    {
     "data": {
      "text/html": [
       "<div>\n",
       "<style scoped>\n",
       "    .dataframe tbody tr th:only-of-type {\n",
       "        vertical-align: middle;\n",
       "    }\n",
       "\n",
       "    .dataframe tbody tr th {\n",
       "        vertical-align: top;\n",
       "    }\n",
       "\n",
       "    .dataframe thead th {\n",
       "        text-align: right;\n",
       "    }\n",
       "</style>\n",
       "<table border=\"1\" class=\"dataframe\">\n",
       "  <thead>\n",
       "    <tr style=\"text-align: right;\">\n",
       "      <th></th>\n",
       "      <th>total_area</th>\n",
       "      <th>last_price</th>\n",
       "      <th>rooms</th>\n",
       "      <th>ceiling_height</th>\n",
       "      <th>days_exposition</th>\n",
       "    </tr>\n",
       "  </thead>\n",
       "  <tbody>\n",
       "    <tr>\n",
       "      <th>count</th>\n",
       "      <td>23502.00</td>\n",
       "      <td>23502.00</td>\n",
       "      <td>23502.00</td>\n",
       "      <td>14422.00</td>\n",
       "      <td>23502.00</td>\n",
       "    </tr>\n",
       "    <tr>\n",
       "      <th>mean</th>\n",
       "      <td>60.61</td>\n",
       "      <td>6568404.08</td>\n",
       "      <td>2.09</td>\n",
       "      <td>2.77</td>\n",
       "      <td>170.01</td>\n",
       "    </tr>\n",
       "    <tr>\n",
       "      <th>std</th>\n",
       "      <td>35.61</td>\n",
       "      <td>10918859.97</td>\n",
       "      <td>1.07</td>\n",
       "      <td>1.25</td>\n",
       "      <td>206.80</td>\n",
       "    </tr>\n",
       "    <tr>\n",
       "      <th>min</th>\n",
       "      <td>12.00</td>\n",
       "      <td>12190.00</td>\n",
       "      <td>1.00</td>\n",
       "      <td>1.00</td>\n",
       "      <td>1.00</td>\n",
       "    </tr>\n",
       "    <tr>\n",
       "      <th>25%</th>\n",
       "      <td>40.20</td>\n",
       "      <td>3450000.00</td>\n",
       "      <td>1.00</td>\n",
       "      <td>2.51</td>\n",
       "      <td>45.00</td>\n",
       "    </tr>\n",
       "    <tr>\n",
       "      <th>50%</th>\n",
       "      <td>52.00</td>\n",
       "      <td>4650000.00</td>\n",
       "      <td>2.00</td>\n",
       "      <td>2.65</td>\n",
       "      <td>96.00</td>\n",
       "    </tr>\n",
       "    <tr>\n",
       "      <th>75%</th>\n",
       "      <td>70.00</td>\n",
       "      <td>6800000.00</td>\n",
       "      <td>3.00</td>\n",
       "      <td>2.80</td>\n",
       "      <td>199.00</td>\n",
       "    </tr>\n",
       "    <tr>\n",
       "      <th>max</th>\n",
       "      <td>900.00</td>\n",
       "      <td>763000000.00</td>\n",
       "      <td>19.00</td>\n",
       "      <td>100.00</td>\n",
       "      <td>1580.00</td>\n",
       "    </tr>\n",
       "  </tbody>\n",
       "</table>\n",
       "</div>"
      ],
      "text/plain": [
       "       total_area   last_price    rooms  ceiling_height  days_exposition\n",
       "count    23502.00     23502.00 23502.00        14422.00         23502.00\n",
       "mean        60.61   6568404.08     2.09            2.77           170.01\n",
       "std         35.61  10918859.97     1.07            1.25           206.80\n",
       "min         12.00     12190.00     1.00            1.00             1.00\n",
       "25%         40.20   3450000.00     1.00            2.51            45.00\n",
       "50%         52.00   4650000.00     2.00            2.65            96.00\n",
       "75%         70.00   6800000.00     3.00            2.80           199.00\n",
       "max        900.00 763000000.00    19.00          100.00          1580.00"
      ]
     },
     "execution_count": 34,
     "metadata": {},
     "output_type": "execute_result"
    }
   ],
   "source": [
    "data[['total_area', 'last_price', 'rooms', 'ceiling_height', 'days_exposition']].describe()"
   ]
  },
  {
   "cell_type": "code",
   "execution_count": 35,
   "metadata": {
    "scrolled": true
   },
   "outputs": [],
   "source": [
    "def det_whiskers(column, data):\n",
    "    stat = data[column].describe()\n",
    "    \n",
    "    # межквартильный размах\n",
    "    iqr = stat[6] - stat[4]\n",
    "    \n",
    "    # левый и правый \"ус\"    \n",
    "    left_whisker = round(stat[4] - 1.5 * iqr, 2)\n",
    "    right_whisker = round(stat[6] + 1.5 * iqr, 2)\n",
    "\n",
    "    # левый \"ус\" не должен быть меньше минимального значения\n",
    "    if left_whisker < stat[3]: left_whisker = stat[3] \n",
    "        \n",
    "    # правый \"ус\" не должен быть больше максимального значения\n",
    "    if right_whisker > stat[7]: right_whisker = stat[7]\n",
    "        \n",
    "    return [left_whisker, right_whisker]"
   ]
  },
  {
   "cell_type": "code",
   "execution_count": 36,
   "metadata": {
    "scrolled": true
   },
   "outputs": [
    {
     "data": {
      "text/plain": [
       "[12.0, 114.7]"
      ]
     },
     "execution_count": 36,
     "metadata": {},
     "output_type": "execute_result"
    }
   ],
   "source": [
    "det_whiskers('total_area', data)"
   ]
  },
  {
   "cell_type": "code",
   "execution_count": 37,
   "metadata": {
    "scrolled": true
   },
   "outputs": [
    {
     "name": "stderr",
     "output_type": "stream",
     "text": [
      "C:\\Users\\olegm\\anaconda3\\lib\\site-packages\\seaborn\\_decorators.py:36: FutureWarning: Pass the following variable as a keyword arg: x. From version 0.12, the only valid positional argument will be `data`, and passing other arguments without an explicit keyword will result in an error or misinterpretation.\n",
      "  warnings.warn(\n"
     ]
    },
    {
     "data": {
      "image/png": "[encoded data removed]",
      "text/plain": [
       "<Figure size 432x288 with 1 Axes>"
      ]
     },
     "metadata": {
      "needs_background": "light"
     },
     "output_type": "display_data"
    }
   ],
   "source": [
    "# построим диаграмму размаха, ограничив площадь 200 кв.м\n",
    "sns.boxplot(data['total_area'])\n",
    "plt.title('Диаграмма размаха общей площади квартиры')\n",
    "plt.xlabel('Общая площадь, кв.м')\n",
    "plt.xlim(0, 200)\n",
    "plt.show()"
   ]
  },
  {
   "cell_type": "code",
   "execution_count": 38,
   "metadata": {
    "scrolled": false
   },
   "outputs": [
    {
     "data": {
      "image/png": "[encoded data removed]",
      "text/plain": [
       "<Figure size 360x360 with 1 Axes>"
      ]
     },
     "metadata": {
      "needs_background": "light"
     },
     "output_type": "display_data"
    }
   ],
   "source": [
    "# Построим диаграмму для объектов с площадью менее 100 кв.м.\n",
    "sns.displot(data['total_area'], kde=False, bins=45)\n",
    "plt.xlim(0, 100)\n",
    "plt.title('Гистограмма общей площади квартиры')\n",
    "plt.xlabel('Общая площадь, кв.м')\n",
    "plt.ylabel('Частота')\n",
    "plt.show()"
   ]
  },
  {
   "cell_type": "code",
   "execution_count": 39,
   "metadata": {
    "scrolled": false
   },
   "outputs": [
    {
     "data": {
      "text/plain": [
       "'Аномальные значения составляют 5.3%'"
      ]
     },
     "execution_count": 39,
     "metadata": {},
     "output_type": "execute_result"
    }
   ],
   "source": [
    "#зададим функцию, вычисляющую долю аномальных значений\n",
    "def anomalies_ratio(column, data):\n",
    "    return 'Аномальные значения составляют {:.1%}'. format(len(data.loc[data[column] > det_whiskers(column, data)[1]]) / len(data))\n",
    "anomalies_ratio('total_area', data)"
   ]
  },
  {
   "cell_type": "code",
   "execution_count": 40,
   "metadata": {
    "scrolled": false
   },
   "outputs": [
    {
     "data": {
      "text/plain": [
       "[12190.0, 11825000.0]"
      ]
     },
     "execution_count": 40,
     "metadata": {},
     "output_type": "execute_result"
    }
   ],
   "source": [
    "det_whiskers('last_price', data)"
   ]
  },
  {
   "cell_type": "code",
   "execution_count": 41,
   "metadata": {
    "scrolled": true
   },
   "outputs": [
    {
     "name": "stderr",
     "output_type": "stream",
     "text": [
      "C:\\Users\\olegm\\anaconda3\\lib\\site-packages\\seaborn\\_decorators.py:36: FutureWarning: Pass the following variable as a keyword arg: x. From version 0.12, the only valid positional argument will be `data`, and passing other arguments without an explicit keyword will result in an error or misinterpretation.\n",
      "  warnings.warn(\n"
     ]
    },
    {
     "data": {
      "image/png": "[encoded data removed]",
      "text/plain": [
       "<Figure size 432x288 with 1 Axes>"
      ]
     },
     "metadata": {
      "needs_background": "light"
     },
     "output_type": "display_data"
    }
   ],
   "source": [
    "sns.boxplot(data['last_price'])\n",
    "plt.title('Диаграмма размаха цен на квартиры')\n",
    "plt.xlabel('Цены, 10 млн рублей')\n",
    "_ = plt.xlim(0, 13000000)"
   ]
  },
  {
   "cell_type": "code",
   "execution_count": 42,
   "metadata": {
    "scrolled": true
   },
   "outputs": [
    {
     "data": {
      "image/png": "[encoded data removed]",
      "text/plain": [
       "<Figure size 360x360 with 1 Axes>"
      ]
     },
     "metadata": {
      "needs_background": "light"
     },
     "output_type": "display_data"
    }
   ],
   "source": [
    "sns.displot(data['last_price'], kde=False, bins=450)\n",
    "plt.xlim(0, 13000000)\n",
    "plt.title('Гистограмма цен на момент снятия публикации')\n",
    "plt.xlabel('Цены, 10 млн рублей')\n",
    "_ = plt.ylabel('Частота')"
   ]
  },
  {
   "cell_type": "code",
   "execution_count": 43,
   "metadata": {
    "scrolled": true
   },
   "outputs": [
    {
     "data": {
      "text/plain": [
       "'Аномальные значения составляют 8.8%'"
      ]
     },
     "execution_count": 43,
     "metadata": {},
     "output_type": "execute_result"
    }
   ],
   "source": [
    "anomalies_ratio('last_price', data)"
   ]
  },
  {
   "cell_type": "code",
   "execution_count": 44,
   "metadata": {
    "scrolled": true
   },
   "outputs": [
    {
     "data": {
      "text/plain": [
       "[1.0, 6.0]"
      ]
     },
     "execution_count": 44,
     "metadata": {},
     "output_type": "execute_result"
    }
   ],
   "source": [
    "det_whiskers('rooms', data)"
   ]
  },
  {
   "cell_type": "code",
   "execution_count": 45,
   "metadata": {
    "scrolled": true
   },
   "outputs": [
    {
     "name": "stderr",
     "output_type": "stream",
     "text": [
      "C:\\Users\\olegm\\anaconda3\\lib\\site-packages\\seaborn\\_decorators.py:36: FutureWarning: Pass the following variable as a keyword arg: x. From version 0.12, the only valid positional argument will be `data`, and passing other arguments without an explicit keyword will result in an error or misinterpretation.\n",
      "  warnings.warn(\n"
     ]
    },
    {
     "data": {
      "image/png": "[encoded data removed]",
      "text/plain": [
       "<Figure size 432x288 with 1 Axes>"
      ]
     },
     "metadata": {
      "needs_background": "light"
     },
     "output_type": "display_data"
    }
   ],
   "source": [
    "sns.boxplot(data['rooms'])\n",
    "plt.title('Диаграмма размаха количества комнат')\n",
    "plt.xlabel('Число комнат, шт.')\n",
    "_ = plt.xlim(0, 10)"
   ]
  },
  {
   "cell_type": "code",
   "execution_count": 46,
   "metadata": {
    "scrolled": false
   },
   "outputs": [
    {
     "data": {
      "image/png": "[encoded data removed]",
      "text/plain": [
       "<Figure size 360x360 with 1 Axes>"
      ]
     },
     "metadata": {
      "needs_background": "light"
     },
     "output_type": "display_data"
    }
   ],
   "source": [
    "sns.displot(data['rooms'], kde=False, bins=20)\n",
    "plt.xlim(0, 6)\n",
    "plt.title('Гистограмма числа комнат')\n",
    "plt.xlabel('Число комнат, шт.')\n",
    "_ = plt.ylabel('Частота')"
   ]
  },
  {
   "cell_type": "code",
   "execution_count": 47,
   "metadata": {
    "scrolled": true
   },
   "outputs": [
    {
     "data": {
      "text/plain": [
       "'Аномальные значения составляют 0.4%'"
      ]
     },
     "execution_count": 47,
     "metadata": {},
     "output_type": "execute_result"
    }
   ],
   "source": [
    "anomalies_ratio('rooms', data)"
   ]
  },
  {
   "cell_type": "code",
   "execution_count": 48,
   "metadata": {
    "scrolled": false
   },
   "outputs": [
    {
     "data": {
      "text/plain": [
       "[2.07, 3.24]"
      ]
     },
     "execution_count": 48,
     "metadata": {},
     "output_type": "execute_result"
    }
   ],
   "source": [
    "det_whiskers('ceiling_height', data)"
   ]
  },
  {
   "cell_type": "code",
   "execution_count": 49,
   "metadata": {
    "scrolled": true
   },
   "outputs": [
    {
     "name": "stderr",
     "output_type": "stream",
     "text": [
      "C:\\Users\\olegm\\anaconda3\\lib\\site-packages\\seaborn\\_decorators.py:36: FutureWarning: Pass the following variable as a keyword arg: x. From version 0.12, the only valid positional argument will be `data`, and passing other arguments without an explicit keyword will result in an error or misinterpretation.\n",
      "  warnings.warn(\n"
     ]
    },
    {
     "data": {
      "image/png": "[encoded data removed]",
      "text/plain": [
       "<Figure size 432x288 with 1 Axes>"
      ]
     },
     "metadata": {
      "needs_background": "light"
     },
     "output_type": "display_data"
    }
   ],
   "source": [
    "sns.boxplot(data['ceiling_height'])\n",
    "plt.title('Диаграмма размаха высоты потолков')\n",
    "plt.xlabel('Высота потолков, м')\n",
    "_ = plt.xlim(1, 6)"
   ]
  },
  {
   "cell_type": "code",
   "execution_count": 50,
   "metadata": {
    "scrolled": true
   },
   "outputs": [
    {
     "data": {
      "image/png": "[encoded data removed]",
      "text/plain": [
       "<Figure size 360x360 with 1 Axes>"
      ]
     },
     "metadata": {
      "needs_background": "light"
     },
     "output_type": "display_data"
    }
   ],
   "source": [
    "sns.displot(data['ceiling_height'], kde=False, bins=750)\n",
    "plt.xlim(det_whiskers('ceiling_height', data)[0], det_whiskers('ceiling_height', data)[1])\n",
    "plt.title('Гистограмма высоты потолков')\n",
    "plt.xlabel('Высота потолков, м')\n",
    "_ = plt.ylabel('Частота')"
   ]
  },
  {
   "cell_type": "code",
   "execution_count": 51,
   "metadata": {
    "scrolled": true
   },
   "outputs": [
    {
     "data": {
      "text/plain": [
       "'Аномальные значения составляют 3.4%'"
      ]
     },
     "execution_count": 51,
     "metadata": {},
     "output_type": "execute_result"
    }
   ],
   "source": [
    "anomalies_ratio('ceiling_height', data)"
   ]
  },
  {
   "cell_type": "code",
   "execution_count": 52,
   "metadata": {
    "scrolled": false
   },
   "outputs": [
    {
     "data": {
      "text/plain": [
       "[1.0, 430.0]"
      ]
     },
     "execution_count": 52,
     "metadata": {},
     "output_type": "execute_result"
    }
   ],
   "source": [
    "det_whiskers('days_exposition', data)"
   ]
  },
  {
   "cell_type": "code",
   "execution_count": 53,
   "metadata": {
    "scrolled": true
   },
   "outputs": [
    {
     "name": "stderr",
     "output_type": "stream",
     "text": [
      "C:\\Users\\olegm\\anaconda3\\lib\\site-packages\\seaborn\\_decorators.py:36: FutureWarning: Pass the following variable as a keyword arg: x. From version 0.12, the only valid positional argument will be `data`, and passing other arguments without an explicit keyword will result in an error or misinterpretation.\n",
      "  warnings.warn(\n"
     ]
    },
    {
     "data": {
      "image/png": "[encoded data removed]",
      "text/plain": [
       "<Figure size 432x288 with 1 Axes>"
      ]
     },
     "metadata": {
      "needs_background": "light"
     },
     "output_type": "display_data"
    }
   ],
   "source": [
    "sns.boxplot(data['days_exposition'])\n",
    "plt.title('Диаграмма размаха срока размещения объявления')\n",
    "plt.xlabel('Срок размещения, дней')\n",
    "_ = plt.xlim(0, 450)"
   ]
  },
  {
   "cell_type": "code",
   "execution_count": 54,
   "metadata": {
    "scrolled": true
   },
   "outputs": [
    {
     "data": {
      "image/png": "[encoded data removed]",
      "text/plain": [
       "<Figure size 432x288 with 1 Axes>"
      ]
     },
     "metadata": {
      "needs_background": "light"
     },
     "output_type": "display_data"
    }
   ],
   "source": [
    "data.plot(y='days_exposition', \n",
    "          kind='hist',\n",
    "          range=(det_whiskers('days_exposition', data)[0], det_whiskers('days_exposition', data)[1]), \n",
    "          bins=8)\n",
    "plt.title('Гистограмма срока размещения объявления')\n",
    "plt.xlabel('Срок размещения, дней')\n",
    "_ = plt.ylabel('Частота')"
   ]
  },
  {
   "cell_type": "code",
   "execution_count": 55,
   "metadata": {
    "scrolled": false
   },
   "outputs": [
    {
     "data": {
      "text/plain": [
       "(0.0, 40000000.0)"
      ]
     },
     "execution_count": 55,
     "metadata": {},
     "output_type": "execute_result"
    },
    {
     "data": {
      "image/png": "[encoded data removed]",
      "text/plain": [
       "<Figure size 1080x216 with 1 Axes>"
      ]
     },
     "metadata": {
      "needs_background": "light"
     },
     "output_type": "display_data"
    }
   ],
   "source": [
    "data.last_price.hist(bins = 150, figsize = (15,3));\n",
    "plt.xlim(0,40000000)"
   ]
  },
  {
   "cell_type": "code",
   "execution_count": null,
   "metadata": {
    "scrolled": false
   },
   "outputs": [
    {
     "data": {
      "text/plain": [
       "(0.0, 40000000.0)"
      ]
     },
     "execution_count": 56,
     "metadata": {},
     "output_type": "execute_result"
    }
   ],
   "source": [
    "sns.histplot(data=data, x='last_price', stat='density')\n",
    "plt.xlim(0,40000000)"
   ]
  },
  {
   "cell_type": "code",
   "execution_count": null,
   "metadata": {
    "scrolled": false
   },
   "outputs": [],
   "source": [
    "sns.histplot(data=data, x='last_price', stat='density', log_scale=True)"
   ]
  },
  {
   "cell_type": "code",
   "execution_count": null,
   "metadata": {
    "scrolled": false
   },
   "outputs": [],
   "source": [
    "data.total_area.hist(bins = 150, figsize = (15,3));"
   ]
  },
  {
   "cell_type": "code",
   "execution_count": null,
   "metadata": {
    "scrolled": false
   },
   "outputs": [],
   "source": [
    "sns.histplot(data=data, x='total_area', stat='density')"
   ]
  },
  {
   "cell_type": "code",
   "execution_count": null,
   "metadata": {
    "scrolled": true
   },
   "outputs": [],
   "source": [
    "sns.histplot(data=data, x='total_area', stat='density')\n",
    "plt.xlim(0,200)"
   ]
  },
  {
   "cell_type": "code",
   "execution_count": null,
   "metadata": {
    "scrolled": false
   },
   "outputs": [],
   "source": [
    "sns.histplot(data=data, x='total_area', stat='density')\n",
    "plt.xlim(150,800)"
   ]
  },
  {
   "cell_type": "markdown",
   "metadata": {
    "scrolled": true
   },
   "source": [
    "**Вывод:** исходя из гистограммы, убираем значения больше 200, так как они совсем редко встречаются."
   ]
  },
  {
   "cell_type": "code",
   "execution_count": null,
   "metadata": {
    "scrolled": true
   },
   "outputs": [],
   "source": [
    "data.shape"
   ]
  },
  {
   "cell_type": "code",
   "execution_count": null,
   "metadata": {
    "scrolled": true
   },
   "outputs": [],
   "source": [
    "good_data = data.copy()"
   ]
  },
  {
   "cell_type": "code",
   "execution_count": null,
   "metadata": {},
   "outputs": [],
   "source": [
    "#Соберем все аномальные значения в отдельные столбцы\n",
    "good_data = good_data[(good_data['total_area'] <= 200) | (good_data.total_area.isna())]\n",
    "good_data = good_data[(good_data['last_price'] <= 40000000) | (good_data.last_price.isna())]\n",
    "good_data = good_data[(good_data['rooms'] <= det_whiskers('rooms', data)[1]) | (good_data.rooms.isna())]\n",
    "good_data = good_data[((good_data['ceiling_height'] <= det_whiskers('ceiling_height', data)[1]) \\\n",
    "                        & (good_data['ceiling_height'] >= det_whiskers('ceiling_height', data)[0])) | (good_data.ceiling_height.isna())]\n",
    "good_data = good_data[(good_data.days_exposition <= 1000) | (good_data.days_exposition.isna())]\n",
    "#good_data = good_data[(good_data['days_exposition'] >= 30) | (good_data.days_exposition.isna())]\n",
    "\n",
    "#Составим таблицу с чистыми данными\n",
    "# good_data = data[(data['too_large_area'] == False) & \n",
    "#      (data['too_expensive'] == False) &\n",
    "#      (data['too_many_rooms'] == False) &\n",
    "#      (data['unusual_ceiling'] == False) &\n",
    "#      (data['too_slow'] == False) &\n",
    "#      (data['too_fast'] == False)].reset_index(drop=True)"
   ]
  },
  {
   "cell_type": "code",
   "execution_count": null,
   "metadata": {
    "scrolled": true
   },
   "outputs": [],
   "source": [
    "good_data.shape"
   ]
  },
  {
   "cell_type": "code",
   "execution_count": null,
   "metadata": {
    "scrolled": false
   },
   "outputs": [],
   "source": [
    "display(len(good_data) / len(data))"
   ]
  },
  {
   "cell_type": "code",
   "execution_count": null,
   "metadata": {
    "scrolled": true
   },
   "outputs": [],
   "source": [
    "good_data.isna().sum()"
   ]
  },
  {
   "cell_type": "code",
   "execution_count": null,
   "metadata": {
    "scrolled": false
   },
   "outputs": [],
   "source": [
    "good_data[['total_area', 'last_price', 'rooms', 'ceiling_height', 'days_exposition']].describe()"
   ]
  },
  {
   "cell_type": "code",
   "execution_count": null,
   "metadata": {
    "scrolled": false
   },
   "outputs": [],
   "source": [
    "# check\n",
    "\n",
    "# Показатели о кол-ве объявлений в датасете, минимальных и максимальных значениях \n",
    "# в выбранных параметрах о продаже квартир\n",
    "\n",
    "\n",
    "(\n",
    "    good_data[['rooms', 'total_area', 'ceiling_height', 'days_exposition', 'last_price', 'living_area',  'kitchen_area', 'floor',\n",
    "       'floors_total']]\n",
    "    .apply (['count', 'min', 'max', 'mean', 'median'])   \n",
    "    .style.format(\"{:,.2f}\")\n",
    ")"
   ]
  },
  {
   "cell_type": "code",
   "execution_count": null,
   "metadata": {
    "scrolled": false
   },
   "outputs": [],
   "source": [
    "good_data.info()"
   ]
  },
  {
   "cell_type": "code",
   "execution_count": null,
   "metadata": {
    "scrolled": false
   },
   "outputs": [],
   "source": [
    "# check\n",
    "data.days_exposition.hist(bins = 150, figsize = (15,3));"
   ]
  },
  {
   "cell_type": "code",
   "execution_count": null,
   "metadata": {
    "scrolled": true
   },
   "outputs": [],
   "source": [
    "# check\n",
    "data.days_exposition.hist(bins = 150, figsize = (15,3))\n",
    "plt.ylim(0, 100);"
   ]
  },
  {
   "cell_type": "code",
   "execution_count": null,
   "metadata": {
    "scrolled": false
   },
   "outputs": [],
   "source": [
    "# check\n",
    "data.days_exposition.hist(bins = 40, figsize = (15,3), range = (500,1000))\n",
    "plt.ylim(0, 100);"
   ]
  },
  {
   "cell_type": "code",
   "execution_count": null,
   "metadata": {
    "scrolled": false
   },
   "outputs": [],
   "source": [
    "# check\n",
    "data[data.days_exposition > 1000]['days_exposition'].count()"
   ]
  },
  {
   "cell_type": "code",
   "execution_count": null,
   "metadata": {
    "scrolled": false
   },
   "outputs": [],
   "source": [
    "# check\n",
    "data.days_exposition.hist(bins = 40, figsize = (15,3), range = (900,1600))\n",
    "plt.ylim(0, 100);"
   ]
  },
  {
   "cell_type": "code",
   "execution_count": null,
   "metadata": {
    "scrolled": false
   },
   "outputs": [],
   "source": [
    "# check\n",
    "data = data[(data.days_exposition <= 1000) | (data.days_exposition.isna())]"
   ]
  },
  {
   "cell_type": "code",
   "execution_count": null,
   "metadata": {
    "scrolled": true
   },
   "outputs": [],
   "source": [
    "# check\n",
    "data.info()"
   ]
  },
  {
   "cell_type": "code",
   "execution_count": null,
   "metadata": {},
   "outputs": [],
   "source": [
    "# check\n",
    "\n",
    "# Показатели о кол-ве объявлений в датасете, минимальных и максимальных значениях \n",
    "# в выбранных параметрах о продаже квартир\n",
    "# сырые данные\n",
    "\n",
    "(\n",
    "    good_data[['rooms', 'total_area', 'ceiling_height', 'days_exposition', 'last_price', 'living_area',  'kitchen_area',\n",
    "          'floor', 'floors_total']]\n",
    "    .apply (['count', 'min', 'max'])   \n",
    "    .style.format(\"{:,.2f}\")\n",
    ")"
   ]
  },
  {
   "cell_type": "code",
   "execution_count": null,
   "metadata": {
    "scrolled": true
   },
   "outputs": [],
   "source": [
    "# check\n",
    "\n",
    "# Значения параметров объектов недвижимости на разных квантилях\n",
    "\n",
    "(\n",
    "    data[['rooms', 'total_area', 'ceiling_height', 'days_exposition', 'last_price', 'living_area',  \n",
    "        'kitchen_area', 'floor',   'floors_total']]\n",
    "    .quantile([0.001, .5, .90, .9976])  \n",
    "    .style.format(\"{:,.2f}\")\n",
    ")"
   ]
  },
  {
   "cell_type": "markdown",
   "metadata": {},
   "source": [
    "### Посчитайте и добавьте в таблицу новые столбцы"
   ]
  },
  {
   "cell_type": "code",
   "execution_count": null,
   "metadata": {
    "scrolled": true
   },
   "outputs": [],
   "source": [
    "good_data['square_meter'] = good_data['last_price'] / good_data['total_area']\n",
    "good_data['square_meter'].astype('int')"
   ]
  },
  {
   "cell_type": "code",
   "execution_count": null,
   "metadata": {},
   "outputs": [],
   "source": [
    "good_data['weekday'] = pd.DatetimeIndex(good_data['first_day_exposition']).day\n",
    "good_data['weekday']"
   ]
  },
  {
   "cell_type": "code",
   "execution_count": null,
   "metadata": {},
   "outputs": [],
   "source": [
    "good_data['month'] = pd.DatetimeIndex(good_data['first_day_exposition']).month\n",
    "good_data['month']"
   ]
  },
  {
   "cell_type": "code",
   "execution_count": null,
   "metadata": {
    "scrolled": true
   },
   "outputs": [],
   "source": [
    "good_data['year'] = pd.DatetimeIndex(good_data['first_day_exposition']).year\n",
    "good_data['year']"
   ]
  },
  {
   "cell_type": "code",
   "execution_count": null,
   "metadata": {
    "scrolled": true
   },
   "outputs": [],
   "source": [
    "def floors(row):\n",
    "    floors_total = row['floors_total']\n",
    "    floor = row['floor']\n",
    "    try:\n",
    "        if floor == 1:\n",
    "            return 'первый'\n",
    "        elif floor == floors_total:\n",
    "            return 'последний'\n",
    "        else:\n",
    "            return 'другой'\n",
    "    except:\n",
    "        return 'ошибка'\n",
    " \n",
    "good_data['floors_cattegory'] = good_data.apply(floors, axis=1)\n",
    "good_data['floors_cattegory'].unique()"
   ]
  },
  {
   "cell_type": "code",
   "execution_count": null,
   "metadata": {
    "scrolled": false
   },
   "outputs": [],
   "source": [
    "good_data['centers_nearest'] = (good_data['cityCenters_nearest'] / 1000).round()\n",
    "good_data['centers_nearest'].fillna((good_data['centers_nearest'].median()), inplace=True)\n",
    "good_data['centers_nearest'].unique()"
   ]
  },
  {
   "cell_type": "code",
   "execution_count": null,
   "metadata": {
    "scrolled": true
   },
   "outputs": [],
   "source": [
    "good_data['centers_nearest'] = good_data['centers_nearest'].astype('int')\n",
    "good_data['centers_nearest']"
   ]
  },
  {
   "cell_type": "code",
   "execution_count": null,
   "metadata": {},
   "outputs": [],
   "source": [
    "good_data.info()"
   ]
  },
  {
   "cell_type": "markdown",
   "metadata": {},
   "source": [
    "### Проведите исследовательский анализ данных"
   ]
  },
  {
   "cell_type": "code",
   "execution_count": null,
   "metadata": {
    "scrolled": true
   },
   "outputs": [],
   "source": [
    "good_data.plot(y = 'total_area', kind = 'hist', bins = 100, grid=True, figsize = (5,3), range = (0,500))\n",
    "good_data['total_area'].describe()"
   ]
  },
  {
   "cell_type": "markdown",
   "metadata": {},
   "source": [
    "**Вывод:** по гистограмме кроме распределения нечего больше указать, с помошью describe() получил общее представление."
   ]
  },
  {
   "cell_type": "code",
   "execution_count": null,
   "metadata": {
    "scrolled": true
   },
   "outputs": [],
   "source": [
    "good_data.plot(y = 'living_area', kind = 'hist', bins = 100, grid=True, figsize = (5,3), range = (0,150))\n",
    "good_data['living_area'].describe()"
   ]
  },
  {
   "cell_type": "code",
   "execution_count": null,
   "metadata": {
    "scrolled": false
   },
   "outputs": [],
   "source": [
    "good_data.plot(y = 'kitchen_area', kind = 'hist', bins = 100, grid=True, figsize = (5,3), range = (0,100))\n",
    "good_data['kitchen_area'].describe()"
   ]
  },
  {
   "cell_type": "code",
   "execution_count": null,
   "metadata": {
    "scrolled": false
   },
   "outputs": [],
   "source": [
    "good_data.plot(y = 'last_price', kind = 'hist', bins = 100, grid=True, range = (0,15000000), figsize = (5,3))\n",
    "good_data['last_price'].describe()"
   ]
  },
  {
   "cell_type": "markdown",
   "metadata": {
    "scrolled": false
   },
   "source": [
    "**Вывод:** с данными все впорядке но значения выводятся в экспоненциальной записи чисел."
   ]
  },
  {
   "cell_type": "code",
   "execution_count": null,
   "metadata": {
    "scrolled": false
   },
   "outputs": [],
   "source": [
    "good_data.plot(y = 'rooms', kind = 'hist', bins = 30, grid=True, figsize = (5,3))\n",
    "good_data['rooms'].describe()\n",
    "#с данными все впорядке"
   ]
  },
  {
   "cell_type": "code",
   "execution_count": null,
   "metadata": {
    "scrolled": true
   },
   "outputs": [],
   "source": [
    "good_data['floors_cattegory'].value_counts().sort_index(ascending=True).plot.bar()\n",
    "good_data['floors_cattegory'].describe()\n",
    "#с данными все впорядке"
   ]
  },
  {
   "cell_type": "code",
   "execution_count": null,
   "metadata": {
    "scrolled": true
   },
   "outputs": [],
   "source": [
    "good_data.plot(y = 'ceiling_height', kind = 'hist', bins = 30, range = (2,5), grid=True, figsize = (5,3))\n",
    "good_data['ceiling_height'].describe()\n",
    "#с данными все впорядке"
   ]
  },
  {
   "cell_type": "code",
   "execution_count": null,
   "metadata": {
    "scrolled": true
   },
   "outputs": [],
   "source": [
    "good_data.plot(y = 'floor', kind = 'hist', bins = 30, range = (0,30), grid=True, figsize = (5,3))\n",
    "good_data['floor'].describe()\n",
    "#с данными все впорядке"
   ]
  },
  {
   "cell_type": "code",
   "execution_count": null,
   "metadata": {
    "scrolled": true
   },
   "outputs": [],
   "source": [
    "good_data.plot(y = 'floors_total', kind = 'hist', bins = 30, range = (0,30), grid=True, figsize = (5,3))\n",
    "good_data['floors_total'].describe()\n",
    "#с данными все впорядке"
   ]
  },
  {
   "cell_type": "markdown",
   "metadata": {
    "scrolled": false
   },
   "source": [
    "**Вывод:** больше всего объявлений с квартирами на 9 этаже."
   ]
  },
  {
   "cell_type": "code",
   "execution_count": null,
   "metadata": {
    "scrolled": false
   },
   "outputs": [],
   "source": [
    "good_data.plot(y = 'airports_nearest', kind = 'hist', bins = 30, grid=True, figsize = (5,3))\n",
    "good_data['airports_nearest'].describe()\n",
    "#с данными все впорядке"
   ]
  },
  {
   "cell_type": "code",
   "execution_count": null,
   "metadata": {
    "scrolled": false
   },
   "outputs": [],
   "source": [
    "good_data.plot(y = 'cityCenters_nearest', kind = 'hist', bins = 30, grid=True, figsize = (5,3))\n",
    "good_data['cityCenters_nearest'].describe()\n",
    "#с данными все впорядке"
   ]
  },
  {
   "cell_type": "code",
   "execution_count": null,
   "metadata": {
    "scrolled": false
   },
   "outputs": [],
   "source": [
    "good_data.plot(y = 'parks_nearest', kind = 'hist', bins = 30, grid=True, figsize = (5,3))\n",
    "good_data['parks_nearest'].describe()\n",
    "#с данными все впорядке"
   ]
  },
  {
   "cell_type": "markdown",
   "metadata": {
    "scrolled": false
   },
   "source": [
    "**Вывод:** чем ближе квартира находится к центру, аэропорту или парту, тем больше стоимость данной квартиры."
   ]
  },
  {
   "cell_type": "code",
   "execution_count": null,
   "metadata": {
    "scrolled": false
   },
   "outputs": [],
   "source": [
    "good_data.plot(y = 'weekday', kind = 'hist', bins = 30, grid=True, figsize = (5,3))\n",
    "good_data['weekday'].describe()\n",
    "#с данными все впорядке"
   ]
  },
  {
   "cell_type": "code",
   "execution_count": null,
   "metadata": {
    "scrolled": true
   },
   "outputs": [],
   "source": [
    "good_data.plot(y = 'month', kind = 'hist', bins = 30, grid=True, figsize = (5,3))\n",
    "good_data['month'].describe()\n",
    "#с данными все впорядке"
   ]
  },
  {
   "cell_type": "markdown",
   "metadata": {
    "scrolled": false
   },
   "source": [
    "**Вывод:** больше всего объявлений в феврале и в марте."
   ]
  },
  {
   "cell_type": "code",
   "execution_count": null,
   "metadata": {
    "scrolled": true
   },
   "outputs": [],
   "source": [
    "good_data.plot(y = 'days_exposition', kind = 'hist', bins = 30, grid = True, range = (1,1600))\n",
    "good_data.plot(y = 'days_exposition', kind = 'hist', bins = 100, grid = True, range = (1,200))\n",
    "\n",
    "#среднее значение, медиана и межквартильный размах\n",
    "good_data['days_exposition'].value_counts()\n",
    "good_data[good_data['days_exposition']!=0]['days_exposition'].describe()"
   ]
  },
  {
   "cell_type": "markdown",
   "metadata": {
    "scrolled": false
   },
   "source": [
    "**Вывод:** Судя по гистограмме - мы имеем распределение Пуассона. Среднее значение - 180 дней, а медиана - 95 дней. Сделав гистограмму со значениями от 0 до 200 с кол-вом корзин 100, обнаружили выбивающиеся значения и методом value_counts убедились в этом - у нас аномалии на 45, 60, 7, 30, 90 днях - это наиболее популярное количество дней до снятия объявления."
   ]
  },
  {
   "cell_type": "code",
   "execution_count": null,
   "metadata": {},
   "outputs": [],
   "source": [
    "# check\n",
    "# Моды на реальных данных\n",
    "\n",
    "try:\n",
    "    good_data_check = pd.read_csv('real_estate_data.csv', sep='\\t') \n",
    "except:\n",
    "    good_data_check = pd.read_csv('/datasets/real_estate_data.csv', sep = '\\t')\n",
    "    \n",
    "good_data_check['days_exposition'].value_counts().to_frame().head(20).plot(kind = 'barh', figsize = (15,6), rot = 0);"
   ]
  },
  {
   "cell_type": "code",
   "execution_count": null,
   "metadata": {
    "scrolled": true
   },
   "outputs": [],
   "source": [
    "good_data.info()"
   ]
  },
  {
   "cell_type": "code",
   "execution_count": null,
   "metadata": {
    "scrolled": true
   },
   "outputs": [],
   "source": [
    "good_data.plot(kind = 'scatter', y ='last_price', x = 'total_area', alpha = 0.5)\n",
    "\n",
    "good_data['total_area'].corr(good_data['square_meter'])"
   ]
  },
  {
   "cell_type": "markdown",
   "metadata": {
    "scrolled": true
   },
   "source": [
    "**Вывод:** видим, что зависимость очень слабая - согласно корреляции Пирсона - 0.3! То есть, чем больше площадь тем немного выше стоимость!"
   ]
  },
  {
   "cell_type": "code",
   "execution_count": null,
   "metadata": {
    "scrolled": true
   },
   "outputs": [],
   "source": [
    "good_data.plot(kind = 'scatter', y = 'last_price', x = 'living_area', alpha = 0.5)\n",
    "\n",
    "good_data['living_area'].corr(good_data['square_meter'])"
   ]
  },
  {
   "cell_type": "markdown",
   "metadata": {
    "scrolled": true
   },
   "source": [
    "**Вывод:** видим, что зависимость очень слабая - согласно корреляции Пирсона - 0.3! То есть, чем больше жилая площадь тем немного выше стоимость!"
   ]
  },
  {
   "cell_type": "code",
   "execution_count": null,
   "metadata": {
    "scrolled": true
   },
   "outputs": [],
   "source": [
    "good_data.plot(kind = 'scatter', y ='last_price', x = 'kitchen_area', alpha = 0.5)\n",
    "\n",
    "good_data['kitchen_area'].corr(good_data['square_meter'])"
   ]
  },
  {
   "cell_type": "markdown",
   "metadata": {
    "scrolled": true
   },
   "source": [
    "**Вывод:** видим, что зависимость очень слабая - согласно корреляции Пирсона - 0.3! То есть, чем больше площадь кухни, тем немного выше стоимость!"
   ]
  },
  {
   "cell_type": "code",
   "execution_count": null,
   "metadata": {
    "scrolled": true
   },
   "outputs": [],
   "source": [
    "pivot_table_rooms = good_data.pivot_table(index = 'rooms', values ='last_price', aggfunc = ['mean', 'count', 'median'])\n",
    "pivot_table_rooms.columns = ['mean', 'count', 'median']\n",
    "pivot_table_rooms.query('count > 50').plot(y = 'median')\n",
    "\n",
    "pivot_table_rooms.query('count > 50').sort_values('median', ascending = False)\n",
    "\n",
    "good_data['rooms'].corr(good_data['square_meter'])"
   ]
  },
  {
   "cell_type": "markdown",
   "metadata": {
    "scrolled": true
   },
   "source": [
    "**Вывод:** чем ближе количество комнат к 3 тем ниже стоимость квадратного метра."
   ]
  },
  {
   "cell_type": "code",
   "execution_count": null,
   "metadata": {
    "scrolled": false
   },
   "outputs": [],
   "source": [
    "pivot_table_floor_category = good_data.pivot_table(index = 'floors_cattegory', values = 'last_price', aggfunc = ['mean', 'count', 'median'])\n",
    "pivot_table_floor_category.columns = ['mean', 'count', 'median']\n",
    "pivot_table_floor_category.plot(y = 'median')\n",
    "pivot_table_floor_category"
   ]
  },
  {
   "cell_type": "markdown",
   "metadata": {
    "scrolled": true
   },
   "source": [
    "**Вывод:** из графика ничего не понятно! Согласно медиане - как правило квартиры на первом этаже дешевле квартир на последнем этаже - в среднем на 10%!"
   ]
  },
  {
   "cell_type": "code",
   "execution_count": null,
   "metadata": {
    "scrolled": true
   },
   "outputs": [],
   "source": [
    "good_data.plot(kind = 'scatter', y = 'square_meter', x = 'centers_nearest', alpha = 0.5)\n",
    "\n",
    "good_data['centers_nearest'].corr(good_data['square_meter'])"
   ]
  },
  {
   "cell_type": "markdown",
   "metadata": {
    "scrolled": true
   },
   "source": [
    "**Вывод:** видим явную зависимость стоимости квадратного метра от близости к центру! Чем ближе к центру, тем выше стоимость!"
   ]
  },
  {
   "cell_type": "code",
   "execution_count": null,
   "metadata": {
    "scrolled": false
   },
   "outputs": [],
   "source": [
    "good_data.groupby('weekday')['last_price'].mean().plot.bar()\n",
    "good_data['weekday'].describe()"
   ]
  },
  {
   "cell_type": "code",
   "execution_count": null,
   "metadata": {
    "scrolled": true
   },
   "outputs": [],
   "source": [
    "pivot_table_weekday_exposition = good_data.pivot_table(index = 'weekday', values = 'square_meter', aggfunc = ['mean', 'count', 'median'])\n",
    "pivot_table_weekday_exposition.columns = ['mean', 'count', 'median']\n",
    "pivot_table_weekday_exposition.plot(y = 'median')\n",
    "\n",
    "pivot_table_weekday_exposition.sort_values('median', ascending = False)"
   ]
  },
  {
   "cell_type": "markdown",
   "metadata": {
    "scrolled": false
   },
   "source": [
    "**Вывод:** видим, что чем ближе ко вторнику выставлены объявления тем в среднем выше стоимость, но незначительно! По субботам стоимость самая низкая!\n",
    "\n",
    "Полагаю, что стоимость выставленной на продажу недвижимости зависит от общей активности людей, так как именно в рабочие дни мы видим более высокие цены."
   ]
  },
  {
   "cell_type": "code",
   "execution_count": null,
   "metadata": {
    "scrolled": false
   },
   "outputs": [],
   "source": [
    "good_data.groupby('month')['last_price'].mean().plot.bar()\n",
    "good_data['month'].describe()"
   ]
  },
  {
   "cell_type": "code",
   "execution_count": null,
   "metadata": {
    "scrolled": false
   },
   "outputs": [],
   "source": [
    "pivot_table_month_exposition = good_data.pivot_table(index = 'month', values = 'square_meter', aggfunc = ['mean', 'count', 'median'])\n",
    "pivot_table_month_exposition.columns = ['mean', 'count', 'median']\n",
    "pivot_table_month_exposition.plot(y = 'median')\n",
    "\n",
    "pivot_table_month_exposition.sort_values('median', ascending = False)"
   ]
  },
  {
   "cell_type": "markdown",
   "metadata": {
    "scrolled": false
   },
   "source": [
    "**Вывод:** самая высокая стоимость метра в **апреле** и **августе!** Самая низкая стоимость в **мае** и **июне!** На рынке недвижимости, как и во многих других сферах присутствует сезонность - в начале лета мы видим наименьшее предложение как по количеству, так и по стоимости недвижимости. Наверное, это связано с отпусками."
   ]
  },
  {
   "cell_type": "code",
   "execution_count": null,
   "metadata": {
    "scrolled": true
   },
   "outputs": [],
   "source": [
    "good_data.groupby('year')['last_price'].mean().plot.bar()\n",
    "good_data['year'].describe()"
   ]
  },
  {
   "cell_type": "code",
   "execution_count": null,
   "metadata": {
    "scrolled": true
   },
   "outputs": [],
   "source": [
    "pivot_table_year_exposition = good_data.pivot_table(index = 'year', values = 'square_meter', aggfunc = ['mean', 'count', 'median'])\n",
    "pivot_table_year_exposition.columns = ['mean', 'count', 'median']\n",
    "pivot_table_year_exposition.plot(y = 'median')\n",
    "\n",
    "pivot_table_year_exposition.sort_values('median', ascending = False)"
   ]
  },
  {
   "cell_type": "markdown",
   "metadata": {
    "scrolled": false
   },
   "source": [
    "**Вывод:** видим, что с 2014 до 2016 года цена падала, но далее начала увеличиваться! В СРЕДНЕМ! Мы не рассматриваем сегментацию рынка и по факту стоимость аналогичных квартир могла себя вести абсолютно иначе от года к году! В выводе присутствует реальный пример."
   ]
  },
  {
   "cell_type": "code",
   "execution_count": null,
   "metadata": {
    "scrolled": true
   },
   "outputs": [],
   "source": [
    "locality_pivot_table = good_data.pivot_table(index = 'locality_name', values = 'square_meter', aggfunc=['count', 'mean'])\n",
    "locality_pivot_table.columns = ['count', 'mean']\n",
    "locality_pivot_table = locality_pivot_table.sort_values('count', ascending = False).head(10)\n",
    "locality_pivot_table"
   ]
  },
  {
   "cell_type": "code",
   "execution_count": null,
   "metadata": {
    "scrolled": false
   },
   "outputs": [],
   "source": [
    "#самая высокая стоимость\n",
    "locality_pivot_table[locality_pivot_table['mean']==locality_pivot_table['mean'].max()]"
   ]
  },
  {
   "cell_type": "code",
   "execution_count": null,
   "metadata": {
    "scrolled": false
   },
   "outputs": [],
   "source": [
    "#самая низкая стоимость\n",
    "locality_pivot_table[locality_pivot_table['mean']==locality_pivot_table['mean'].min()]"
   ]
  },
  {
   "cell_type": "markdown",
   "metadata": {
    "scrolled": false
   },
   "source": [
    "**Вывод:** самая высокая стоимость жилья из 10 населённых пунктов с самым большим количеством объявлений в **Санкт-Петербурге,** тогда как самая низкая стоимость в **Выборге.**"
   ]
  },
  {
   "cell_type": "code",
   "execution_count": null,
   "metadata": {
    "scrolled": false
   },
   "outputs": [],
   "source": [
    "spb_price = good_data.loc[good_data['locality_name'] == 'Санкт-Петербург'].pivot_table(index='centers_nearest', values='last_price', aggfunc='mean').round()\n",
    "spb_price.plot()"
   ]
  },
  {
   "cell_type": "markdown",
   "metadata": {
    "scrolled": false
   },
   "source": [
    "**Вывод:** судя по графику центром считать будем радиус в 3 километра!"
   ]
  },
  {
   "cell_type": "markdown",
   "metadata": {},
   "source": [
    "### Общий вывод"
   ]
  },
  {
   "cell_type": "markdown",
   "metadata": {},
   "source": [
    "<div class=\"alert alert-info\">\n",
    "    <br /> \n",
    "    <font size=\"3\", color = \"black\">\n",
    "<br />\n",
    "Я обработал полученный архив данных - обработал пропущенные значения там, где это необходимо, заменил типы данных на необходимые для удобной работы. Посчитал и добавил в таблицу цену квадратного метра жилья, вывел из даты дни недели, месяцы и года размещения объявлений, добавил категории по этажам квартир. Изучил следующие параметры на наличие выбивающихся значений - площадь, цена, число комнат, высота потолков. Были определены аномалии в данных параметрах. Изучая время продажи квартир я выявил, что большое количество объявлений было автоматически снято с Яндекс.Недвижимость и дату из снятия нельзя считать датой продажи квартиры, поэтому, изучая средние сроки продажи квартир - данные значения не учитывались. Я выявил при помощи диаграммы размаха, что нормальные значения продажи квартир варьируются от 1 до 600 дней.\n",
    "        \n",
    "Я удалил все аномалии и редкости, которые были в колонках: ['rooms', 'total_area', 'ceiling_height', 'days_exposition', 'last_price', 'living_area', 'kitchen_area' и floors_total]\n",
    "\n",
    "Исследовав данные, мы теперь можем определить параметры средней квартиры выставленной на продажу:\n",
    "\n",
    "1. двухкомнатная квартира;\n",
    "2. площадь 52 квадратных метра;\n",
    "3. потолки 2.65 метра;\n",
    "4. цена 4,76 млн.;\n",
    "5. время продажи 95 дней;\n",
    "\n",
    "Какие аномальные значения были найдены:\n",
    "\n",
    "1. квартиры с 7 и более комнатами;\n",
    "2. квартиры с площадями от 150 квадратов (возможно это коттеджи или таунхаусы);\n",
    "3. низкие потолки до 2 метров и очень большие от 4 метров;\n",
    "4. огромные цены в 20,30 и больше млн;\n",
    "5. квартиры размещенные более года назад.\n",
    "\n",
    "Очень долгими продажами можно признать квартиры которые висели больше 12 месяцев - это говорит о завышенной цене или других неприятных факторах, отталкивающих покупателей. Если квартира продавалась за 30 дней и меньше, то это говорит либо об очень заниженной цене при срочной продаже, либо о мошеннических схемах, особенно это касается объявлений снятых через считанные дни.\n",
    "\n",
    "Мы выявили, что на стоимость квадратного метра квартиры больше всего влияют количество комнат, этаж квартиры, близость к центру. Незначительно на стоимость квадратного метра влияют день, месяц, год размещения и общая площадь. В данном случае имело место постоянное удорожание стоимости, начиная с 2015 года по текущий момент.\n",
    "\n",
    "Также важно учитывать, что, рассматривая среднюю стоимость квартир в 2014-2019 годах, мы не делали сегментацию рынка, а лишь смотрели средние показатели по рынку в целом. Т.е. возможно, что цены на аналогичные квартиры в разных годах вели себя абсолютно по-разному. Т.е. например в то время, когда средняя стоимость метра по рынку в 2016-2017 годах была наиболее низкой, какие-то аналогичные прошлым годам квартиры могли и не падать в цене, а наоборот дорожать! Именно об этом нам и говорят данные, полученные при изучении единственного сегмента квартир - находящихся в радиусе 3 км в центре СПБ. Чем ближе квартира находится к центру, аэропорту или парту, тем больше стоимость данной квартиры. Планом для будущих исследований является проанализировать крупные населенные пункты по всем параметрам данного исследования."
   ]
  },
  {
   "cell_type": "code",
   "execution_count": null,
   "metadata": {},
   "outputs": [],
   "source": []
  }
 ],
 "metadata": {
  "ExecuteTimeLog": [
   {
    "duration": 62,
    "start_time": "2022-08-30T21:58:44.791Z"
   },
   {
    "duration": 7,
    "start_time": "2022-08-30T21:58:51.271Z"
   },
   {
    "duration": 1236,
    "start_time": "2022-08-30T21:59:01.281Z"
   },
   {
    "duration": 3421,
    "start_time": "2022-08-30T21:59:18.107Z"
   },
   {
    "duration": 48,
    "start_time": "2022-08-31T09:16:15.580Z"
   },
   {
    "duration": 4197,
    "start_time": "2022-08-31T09:16:24.444Z"
   },
   {
    "duration": 7,
    "start_time": "2022-08-31T09:16:28.644Z"
   },
   {
    "duration": 21,
    "start_time": "2022-08-31T09:51:28.994Z"
   },
   {
    "duration": 18,
    "start_time": "2022-08-31T09:51:30.823Z"
   },
   {
    "duration": 2147,
    "start_time": "2022-08-31T09:51:33.501Z"
   },
   {
    "duration": 16,
    "start_time": "2022-08-31T09:51:35.841Z"
   },
   {
    "duration": 40,
    "start_time": "2022-08-31T09:51:46.551Z"
   },
   {
    "duration": 2112,
    "start_time": "2022-08-31T09:51:51.648Z"
   },
   {
    "duration": 9,
    "start_time": "2022-08-31T09:51:53.762Z"
   },
   {
    "duration": 15,
    "start_time": "2022-08-31T09:52:07.685Z"
   },
   {
    "duration": 16,
    "start_time": "2022-08-31T09:52:09.660Z"
   },
   {
    "duration": 17,
    "start_time": "2022-08-31T09:52:19.806Z"
   },
   {
    "duration": 89,
    "start_time": "2022-08-31T10:22:28.505Z"
   },
   {
    "duration": 102,
    "start_time": "2022-08-31T10:22:30.527Z"
   },
   {
    "duration": 89,
    "start_time": "2022-08-31T10:22:32.640Z"
   },
   {
    "duration": 2336,
    "start_time": "2022-08-31T10:22:47.433Z"
   },
   {
    "duration": 36,
    "start_time": "2022-08-31T10:49:17.865Z"
   },
   {
    "duration": 2142,
    "start_time": "2022-08-31T10:49:23.858Z"
   },
   {
    "duration": 26,
    "start_time": "2022-08-31T10:49:26.070Z"
   },
   {
    "duration": 22,
    "start_time": "2022-08-31T10:57:49.241Z"
   },
   {
    "duration": 21,
    "start_time": "2022-08-31T10:58:17.468Z"
   },
   {
    "duration": 21,
    "start_time": "2022-08-31T10:58:20.056Z"
   },
   {
    "duration": 20,
    "start_time": "2022-08-31T10:58:31.093Z"
   },
   {
    "duration": 2263,
    "start_time": "2022-08-31T10:58:33.471Z"
   },
   {
    "duration": 20,
    "start_time": "2022-08-31T10:58:35.736Z"
   },
   {
    "duration": 9,
    "start_time": "2022-08-31T10:58:56.211Z"
   },
   {
    "duration": 2197,
    "start_time": "2022-08-31T10:58:58.433Z"
   },
   {
    "duration": 11,
    "start_time": "2022-08-31T10:59:00.633Z"
   },
   {
    "duration": 5,
    "start_time": "2022-08-31T10:59:13.860Z"
   },
   {
    "duration": 7,
    "start_time": "2022-08-31T10:59:16.387Z"
   },
   {
    "duration": 2386,
    "start_time": "2022-08-31T10:59:22.034Z"
   },
   {
    "duration": 6,
    "start_time": "2022-08-31T10:59:24.422Z"
   },
   {
    "duration": 3315,
    "start_time": "2022-08-31T23:24:49.752Z"
   },
   {
    "duration": 6,
    "start_time": "2022-08-31T23:24:53.934Z"
   },
   {
    "duration": 7,
    "start_time": "2022-08-31T23:24:56.317Z"
   },
   {
    "duration": 364,
    "start_time": "2022-08-31T23:26:18.977Z"
   },
   {
    "duration": 198,
    "start_time": "2022-08-31T23:26:34.816Z"
   },
   {
    "duration": 9,
    "start_time": "2022-08-31T23:26:52.197Z"
   },
   {
    "duration": 7,
    "start_time": "2022-08-31T23:26:58.191Z"
   },
   {
    "duration": 9,
    "start_time": "2022-08-31T23:27:24.076Z"
   },
   {
    "duration": 6,
    "start_time": "2022-08-31T23:27:27.112Z"
   },
   {
    "duration": 6,
    "start_time": "2022-08-31T23:28:06.009Z"
   },
   {
    "duration": 5,
    "start_time": "2022-08-31T23:28:07.078Z"
   },
   {
    "duration": 6,
    "start_time": "2022-08-31T23:28:38.210Z"
   },
   {
    "duration": 7,
    "start_time": "2022-08-31T23:28:38.710Z"
   },
   {
    "duration": 6,
    "start_time": "2022-08-31T23:31:20.856Z"
   },
   {
    "duration": 6,
    "start_time": "2022-08-31T23:31:21.486Z"
   },
   {
    "duration": 7,
    "start_time": "2022-08-31T23:31:23.550Z"
   },
   {
    "duration": 42,
    "start_time": "2022-08-31T23:40:51.935Z"
   },
   {
    "duration": 6,
    "start_time": "2022-08-31T23:40:55.363Z"
   },
   {
    "duration": 104,
    "start_time": "2022-08-31T23:40:58.031Z"
   },
   {
    "duration": 7,
    "start_time": "2022-08-31T23:41:01.100Z"
   },
   {
    "duration": 41,
    "start_time": "2022-08-31T23:41:01.759Z"
   },
   {
    "duration": 56,
    "start_time": "2022-09-01T09:26:07.417Z"
   },
   {
    "duration": 6,
    "start_time": "2022-09-01T09:26:10.758Z"
   },
   {
    "duration": 6,
    "start_time": "2022-09-01T09:26:11.650Z"
   },
   {
    "duration": 3079,
    "start_time": "2022-09-01T09:26:13.503Z"
   },
   {
    "duration": 6,
    "start_time": "2022-09-01T09:26:24.244Z"
   },
   {
    "duration": 8,
    "start_time": "2022-09-01T09:26:25.751Z"
   },
   {
    "duration": 9,
    "start_time": "2022-09-01T09:26:28.786Z"
   },
   {
    "duration": 6,
    "start_time": "2022-09-01T09:26:32.690Z"
   },
   {
    "duration": 6,
    "start_time": "2022-09-01T09:26:45.375Z"
   },
   {
    "duration": 6,
    "start_time": "2022-09-01T09:26:47.088Z"
   },
   {
    "duration": 7,
    "start_time": "2022-09-01T09:26:47.504Z"
   },
   {
    "duration": 30,
    "start_time": "2022-09-01T09:27:11.173Z"
   },
   {
    "duration": 7,
    "start_time": "2022-09-01T09:27:13.245Z"
   },
   {
    "duration": 41,
    "start_time": "2022-09-01T09:27:13.845Z"
   },
   {
    "duration": 2015,
    "start_time": "2022-09-01T09:27:16.363Z"
   },
   {
    "duration": 5,
    "start_time": "2022-09-01T09:27:18.380Z"
   },
   {
    "duration": 7,
    "start_time": "2022-09-01T09:27:19.901Z"
   },
   {
    "duration": 19,
    "start_time": "2022-09-01T09:27:22.299Z"
   },
   {
    "duration": 6,
    "start_time": "2022-09-01T09:27:26.549Z"
   },
   {
    "duration": 6,
    "start_time": "2022-09-01T09:28:39.545Z"
   },
   {
    "duration": 45,
    "start_time": "2022-09-01T09:28:40.317Z"
   },
   {
    "duration": 22,
    "start_time": "2022-09-01T09:29:10.202Z"
   },
   {
    "duration": 6,
    "start_time": "2022-09-01T09:29:13.413Z"
   },
   {
    "duration": 19,
    "start_time": "2022-09-01T09:29:14.753Z"
   },
   {
    "duration": 2622,
    "start_time": "2022-09-01T09:29:28.472Z"
   },
   {
    "duration": 6,
    "start_time": "2022-09-01T09:29:31.096Z"
   },
   {
    "duration": 48,
    "start_time": "2022-09-01T09:29:31.104Z"
   },
   {
    "duration": 18,
    "start_time": "2022-09-01T09:29:31.877Z"
   },
   {
    "duration": 6,
    "start_time": "2022-09-01T09:31:25.041Z"
   },
   {
    "duration": 72,
    "start_time": "2022-09-01T09:31:25.862Z"
   },
   {
    "duration": 71,
    "start_time": "2022-09-01T09:32:03.866Z"
   },
   {
    "duration": 73,
    "start_time": "2022-09-01T09:32:37.495Z"
   },
   {
    "duration": 85,
    "start_time": "2022-09-01T09:33:54.250Z"
   },
   {
    "duration": 6,
    "start_time": "2022-09-01T09:45:51.915Z"
   },
   {
    "duration": 71,
    "start_time": "2022-09-01T09:45:53.497Z"
   },
   {
    "duration": 1925,
    "start_time": "2022-09-01T09:45:57.351Z"
   },
   {
    "duration": 5,
    "start_time": "2022-09-01T09:45:59.278Z"
   },
   {
    "duration": 8,
    "start_time": "2022-09-01T09:45:59.432Z"
   },
   {
    "duration": 12,
    "start_time": "2022-09-01T09:46:00.522Z"
   },
   {
    "duration": 5,
    "start_time": "2022-09-01T09:46:01.081Z"
   },
   {
    "duration": 171,
    "start_time": "2022-09-01T09:47:00.928Z"
   },
   {
    "duration": 6,
    "start_time": "2022-09-01T09:47:04.220Z"
   },
   {
    "duration": 169,
    "start_time": "2022-09-01T09:47:04.720Z"
   },
   {
    "duration": 160,
    "start_time": "2022-09-01T09:47:36.760Z"
   },
   {
    "duration": 15,
    "start_time": "2022-09-01T09:50:26.494Z"
   },
   {
    "duration": 1960,
    "start_time": "2022-09-01T09:50:29.088Z"
   },
   {
    "duration": 6,
    "start_time": "2022-09-01T09:50:32.311Z"
   },
   {
    "duration": 13,
    "start_time": "2022-09-01T09:50:32.997Z"
   },
   {
    "duration": 7,
    "start_time": "2022-09-01T09:50:33.505Z"
   },
   {
    "duration": 179,
    "start_time": "2022-09-01T09:50:33.995Z"
   },
   {
    "duration": 6,
    "start_time": "2022-09-01T09:50:34.825Z"
   },
   {
    "duration": 829,
    "start_time": "2022-09-01T09:51:42.007Z"
   },
   {
    "duration": 497,
    "start_time": "2022-09-01T09:51:52.397Z"
   },
   {
    "duration": 9,
    "start_time": "2022-09-01T09:53:35.414Z"
   },
   {
    "duration": 5,
    "start_time": "2022-09-01T09:53:39.483Z"
   },
   {
    "duration": 10,
    "start_time": "2022-09-01T09:53:39.932Z"
   },
   {
    "duration": 6,
    "start_time": "2022-09-01T09:53:43.380Z"
   },
   {
    "duration": 164,
    "start_time": "2022-09-01T09:53:45.085Z"
   },
   {
    "duration": 31,
    "start_time": "2022-09-01T10:07:40.675Z"
   },
   {
    "duration": 30,
    "start_time": "2022-09-01T10:08:13.523Z"
   },
   {
    "duration": 7,
    "start_time": "2022-09-01T16:30:30.151Z"
   },
   {
    "duration": 3,
    "start_time": "2022-09-01T16:30:32.616Z"
   },
   {
    "duration": 44,
    "start_time": "2022-09-01T16:30:36.262Z"
   },
   {
    "duration": 2720,
    "start_time": "2022-09-01T16:30:43.661Z"
   },
   {
    "duration": 33,
    "start_time": "2022-09-01T16:30:46.383Z"
   },
   {
    "duration": 6,
    "start_time": "2022-09-01T16:30:47.521Z"
   },
   {
    "duration": 8,
    "start_time": "2022-09-01T16:30:48.410Z"
   },
   {
    "duration": 6,
    "start_time": "2022-09-01T16:30:49.222Z"
   },
   {
    "duration": 149,
    "start_time": "2022-09-01T16:30:50.342Z"
   },
   {
    "duration": 3,
    "start_time": "2022-09-01T16:30:51.656Z"
   },
   {
    "duration": 6,
    "start_time": "2022-09-01T16:30:58.616Z"
   },
   {
    "duration": 2226,
    "start_time": "2022-09-01T16:31:13.496Z"
   },
   {
    "duration": 1296,
    "start_time": "2022-09-01T16:31:16.936Z"
   },
   {
    "duration": 167,
    "start_time": "2022-09-01T16:31:18.697Z"
   },
   {
    "duration": 1608,
    "start_time": "2022-09-01T16:31:20.129Z"
   },
   {
    "duration": 7,
    "start_time": "2022-09-01T16:31:34.208Z"
   },
   {
    "duration": 28,
    "start_time": "2022-09-01T16:42:42.904Z"
   },
   {
    "duration": 5,
    "start_time": "2022-09-01T16:43:01.967Z"
   },
   {
    "duration": 23,
    "start_time": "2022-09-01T16:44:33.024Z"
   },
   {
    "duration": 8,
    "start_time": "2022-09-01T16:44:49.816Z"
   },
   {
    "duration": 9,
    "start_time": "2022-09-01T16:45:13.386Z"
   },
   {
    "duration": 11,
    "start_time": "2022-09-01T16:45:28.985Z"
   },
   {
    "duration": 13,
    "start_time": "2022-09-01T16:45:32.656Z"
   },
   {
    "duration": 9,
    "start_time": "2022-09-01T16:45:33.687Z"
   },
   {
    "duration": 6,
    "start_time": "2022-09-01T16:45:43.287Z"
   },
   {
    "duration": 8,
    "start_time": "2022-09-01T16:46:38.116Z"
   },
   {
    "duration": 1298,
    "start_time": "2022-09-01T16:48:39.295Z"
   },
   {
    "duration": 1317,
    "start_time": "2022-09-01T16:48:56.631Z"
   },
   {
    "duration": 10,
    "start_time": "2022-09-01T16:49:05.393Z"
   },
   {
    "duration": 17,
    "start_time": "2022-09-01T16:49:32.220Z"
   },
   {
    "duration": 10,
    "start_time": "2022-09-01T16:49:45.329Z"
   },
   {
    "duration": 9,
    "start_time": "2022-09-01T16:55:51.303Z"
   },
   {
    "duration": 11,
    "start_time": "2022-09-01T16:55:57.618Z"
   },
   {
    "duration": 8,
    "start_time": "2022-09-01T16:56:34.559Z"
   },
   {
    "duration": 6,
    "start_time": "2022-09-01T16:57:35.941Z"
   },
   {
    "duration": 6,
    "start_time": "2022-09-01T17:00:00.756Z"
   },
   {
    "duration": 7,
    "start_time": "2022-09-01T17:00:05.189Z"
   },
   {
    "duration": 11,
    "start_time": "2022-09-01T17:00:11.879Z"
   },
   {
    "duration": 6,
    "start_time": "2022-09-01T17:00:13.529Z"
   },
   {
    "duration": 9,
    "start_time": "2022-09-01T17:00:25.906Z"
   },
   {
    "duration": 9,
    "start_time": "2022-09-01T17:00:45.595Z"
   },
   {
    "duration": 9,
    "start_time": "2022-09-01T17:00:53.186Z"
   },
   {
    "duration": 7,
    "start_time": "2022-09-01T17:01:07.369Z"
   },
   {
    "duration": 7,
    "start_time": "2022-09-01T17:02:03.549Z"
   },
   {
    "duration": 1622,
    "start_time": "2022-09-01T17:06:04.826Z"
   },
   {
    "duration": 1588,
    "start_time": "2022-09-01T17:06:07.685Z"
   },
   {
    "duration": 1571,
    "start_time": "2022-09-01T17:06:30.320Z"
   },
   {
    "duration": 2633,
    "start_time": "2022-09-01T17:18:53.535Z"
   },
   {
    "duration": 144,
    "start_time": "2022-09-01T17:18:58.591Z"
   },
   {
    "duration": 200,
    "start_time": "2022-09-01T17:29:53.390Z"
   },
   {
    "duration": 247,
    "start_time": "2022-09-01T17:30:06.823Z"
   },
   {
    "duration": 212,
    "start_time": "2022-09-01T17:30:36.194Z"
   },
   {
    "duration": 237,
    "start_time": "2022-09-01T17:31:02.575Z"
   },
   {
    "duration": 223,
    "start_time": "2022-09-01T17:31:21.152Z"
   },
   {
    "duration": 217,
    "start_time": "2022-09-01T17:34:37.807Z"
   },
   {
    "duration": 214,
    "start_time": "2022-09-01T17:34:50.400Z"
   },
   {
    "duration": 203,
    "start_time": "2022-09-01T17:41:20.790Z"
   },
   {
    "duration": 215,
    "start_time": "2022-09-01T17:41:28.012Z"
   },
   {
    "duration": 150,
    "start_time": "2022-09-01T17:41:33.103Z"
   },
   {
    "duration": 208,
    "start_time": "2022-09-01T17:41:34.268Z"
   },
   {
    "duration": 237,
    "start_time": "2022-09-01T17:41:48.880Z"
   },
   {
    "duration": 109,
    "start_time": "2022-09-01T17:41:59.967Z"
   },
   {
    "duration": 223,
    "start_time": "2022-09-01T17:42:04.767Z"
   },
   {
    "duration": 236,
    "start_time": "2022-09-01T17:42:17.778Z"
   },
   {
    "duration": 205,
    "start_time": "2022-09-01T17:42:38.693Z"
   },
   {
    "duration": 208,
    "start_time": "2022-09-01T17:42:54.748Z"
   },
   {
    "duration": 234,
    "start_time": "2022-09-01T17:46:41.215Z"
   },
   {
    "duration": 113,
    "start_time": "2022-09-01T17:47:02.438Z"
   },
   {
    "duration": 82,
    "start_time": "2022-09-01T17:47:07.967Z"
   },
   {
    "duration": 233,
    "start_time": "2022-09-01T17:47:22.236Z"
   },
   {
    "duration": 13,
    "start_time": "2022-09-01T17:48:30.508Z"
   },
   {
    "duration": 228,
    "start_time": "2022-09-01T17:48:44.620Z"
   },
   {
    "duration": 14,
    "start_time": "2022-09-01T17:48:52.687Z"
   },
   {
    "duration": 18,
    "start_time": "2022-09-01T17:49:04.870Z"
   },
   {
    "duration": 14,
    "start_time": "2022-09-01T17:49:17.471Z"
   },
   {
    "duration": 214,
    "start_time": "2022-09-01T17:49:24.108Z"
   },
   {
    "duration": 258,
    "start_time": "2022-09-01T17:50:30.738Z"
   },
   {
    "duration": 244,
    "start_time": "2022-09-01T17:52:02.629Z"
   },
   {
    "duration": 124,
    "start_time": "2022-09-01T17:56:49.567Z"
   },
   {
    "duration": 268,
    "start_time": "2022-09-01T17:56:55.000Z"
   },
   {
    "duration": 246,
    "start_time": "2022-09-01T17:57:26.790Z"
   },
   {
    "duration": 239,
    "start_time": "2022-09-01T17:57:57.601Z"
   },
   {
    "duration": 231,
    "start_time": "2022-09-01T17:58:01.889Z"
   },
   {
    "duration": 239,
    "start_time": "2022-09-01T17:58:37.738Z"
   },
   {
    "duration": 234,
    "start_time": "2022-09-01T17:59:06.179Z"
   },
   {
    "duration": 231,
    "start_time": "2022-09-01T17:59:41.193Z"
   },
   {
    "duration": 255,
    "start_time": "2022-09-01T18:00:01.111Z"
   },
   {
    "duration": 234,
    "start_time": "2022-09-01T18:00:15.840Z"
   },
   {
    "duration": 235,
    "start_time": "2022-09-01T18:00:29.541Z"
   },
   {
    "duration": 14,
    "start_time": "2022-09-01T18:02:32.440Z"
   },
   {
    "duration": 229,
    "start_time": "2022-09-01T18:02:47.222Z"
   },
   {
    "duration": 253,
    "start_time": "2022-09-01T18:02:51.670Z"
   },
   {
    "duration": 229,
    "start_time": "2022-09-01T18:02:59.490Z"
   },
   {
    "duration": 254,
    "start_time": "2022-09-01T18:03:10.972Z"
   },
   {
    "duration": 223,
    "start_time": "2022-09-01T18:04:04.014Z"
   },
   {
    "duration": 238,
    "start_time": "2022-09-01T18:04:16.043Z"
   },
   {
    "duration": 224,
    "start_time": "2022-09-01T18:05:16.480Z"
   },
   {
    "duration": 225,
    "start_time": "2022-09-01T18:05:33.522Z"
   },
   {
    "duration": 229,
    "start_time": "2022-09-01T18:05:59.614Z"
   },
   {
    "duration": 219,
    "start_time": "2022-09-01T18:06:03.814Z"
   },
   {
    "duration": 220,
    "start_time": "2022-09-01T18:06:22.371Z"
   },
   {
    "duration": 208,
    "start_time": "2022-09-01T18:06:32.982Z"
   },
   {
    "duration": 226,
    "start_time": "2022-09-01T18:07:09.251Z"
   },
   {
    "duration": 199,
    "start_time": "2022-09-01T18:07:12.791Z"
   },
   {
    "duration": 217,
    "start_time": "2022-09-01T18:07:20.378Z"
   },
   {
    "duration": 204,
    "start_time": "2022-09-01T18:10:17.980Z"
   },
   {
    "duration": 221,
    "start_time": "2022-09-01T18:10:27.722Z"
   },
   {
    "duration": 202,
    "start_time": "2022-09-01T18:10:36.922Z"
   },
   {
    "duration": 200,
    "start_time": "2022-09-01T18:10:45.010Z"
   },
   {
    "duration": 10,
    "start_time": "2022-09-01T18:10:59.433Z"
   },
   {
    "duration": 199,
    "start_time": "2022-09-01T18:16:39.933Z"
   },
   {
    "duration": 200,
    "start_time": "2022-09-01T18:16:46.277Z"
   },
   {
    "duration": 211,
    "start_time": "2022-09-01T18:16:58.018Z"
   },
   {
    "duration": 202,
    "start_time": "2022-09-01T18:17:08.413Z"
   },
   {
    "duration": 313,
    "start_time": "2022-09-01T18:17:49.718Z"
   },
   {
    "duration": 329,
    "start_time": "2022-09-01T18:18:00.169Z"
   },
   {
    "duration": 27,
    "start_time": "2022-09-01T18:18:09.488Z"
   },
   {
    "duration": 198,
    "start_time": "2022-09-01T18:18:20.406Z"
   },
   {
    "duration": 199,
    "start_time": "2022-09-01T18:20:15.546Z"
   },
   {
    "duration": 209,
    "start_time": "2022-09-01T18:20:23.026Z"
   },
   {
    "duration": 199,
    "start_time": "2022-09-01T18:20:29.189Z"
   },
   {
    "duration": 211,
    "start_time": "2022-09-01T18:20:43.746Z"
   },
   {
    "duration": 194,
    "start_time": "2022-09-01T18:20:51.661Z"
   },
   {
    "duration": 207,
    "start_time": "2022-09-01T18:27:16.349Z"
   },
   {
    "duration": 193,
    "start_time": "2022-09-01T18:27:32.009Z"
   },
   {
    "duration": 198,
    "start_time": "2022-09-01T18:27:41.950Z"
   },
   {
    "duration": 197,
    "start_time": "2022-09-01T18:27:55.268Z"
   },
   {
    "duration": 200,
    "start_time": "2022-09-01T18:28:01.445Z"
   },
   {
    "duration": 197,
    "start_time": "2022-09-01T18:28:11.480Z"
   },
   {
    "duration": 199,
    "start_time": "2022-09-01T18:28:26.429Z"
   },
   {
    "duration": 226,
    "start_time": "2022-09-01T18:28:56.631Z"
   },
   {
    "duration": 202,
    "start_time": "2022-09-01T18:29:01.688Z"
   },
   {
    "duration": 211,
    "start_time": "2022-09-01T18:29:11.241Z"
   },
   {
    "duration": 193,
    "start_time": "2022-09-01T18:29:41.349Z"
   },
   {
    "duration": 209,
    "start_time": "2022-09-01T18:29:49.158Z"
   },
   {
    "duration": 219,
    "start_time": "2022-09-01T18:30:07.807Z"
   },
   {
    "duration": 233,
    "start_time": "2022-09-01T18:30:58.959Z"
   },
   {
    "duration": 203,
    "start_time": "2022-09-01T18:31:07.939Z"
   },
   {
    "duration": 204,
    "start_time": "2022-09-01T18:31:16.232Z"
   },
   {
    "duration": 195,
    "start_time": "2022-09-01T18:32:04.571Z"
   },
   {
    "duration": 74,
    "start_time": "2022-09-02T08:38:29.462Z"
   },
   {
    "duration": 3112,
    "start_time": "2022-09-02T08:38:33.085Z"
   },
   {
    "duration": 35,
    "start_time": "2022-09-02T08:38:36.199Z"
   },
   {
    "duration": 6,
    "start_time": "2022-09-02T08:38:36.236Z"
   },
   {
    "duration": 14,
    "start_time": "2022-09-02T08:38:36.244Z"
   },
   {
    "duration": 8,
    "start_time": "2022-09-02T08:38:36.260Z"
   },
   {
    "duration": 230,
    "start_time": "2022-09-02T08:38:36.510Z"
   },
   {
    "duration": 1803,
    "start_time": "2022-09-02T08:38:37.567Z"
   },
   {
    "duration": 11,
    "start_time": "2022-09-02T08:38:40.887Z"
   },
   {
    "duration": 11,
    "start_time": "2022-09-02T08:38:41.429Z"
   },
   {
    "duration": 16,
    "start_time": "2022-09-02T08:39:19.396Z"
   },
   {
    "duration": 168,
    "start_time": "2022-09-02T08:39:25.498Z"
   },
   {
    "duration": 16,
    "start_time": "2022-09-02T08:39:26.042Z"
   },
   {
    "duration": 16,
    "start_time": "2022-09-02T08:39:51.733Z"
   },
   {
    "duration": 170,
    "start_time": "2022-09-02T08:39:53.513Z"
   },
   {
    "duration": 17,
    "start_time": "2022-09-02T08:39:54.043Z"
   },
   {
    "duration": 17,
    "start_time": "2022-09-02T08:40:10.821Z"
   },
   {
    "duration": 164,
    "start_time": "2022-09-02T08:40:13.293Z"
   },
   {
    "duration": 180,
    "start_time": "2022-09-02T08:40:20.308Z"
   },
   {
    "duration": 10,
    "start_time": "2022-09-02T08:40:25.261Z"
   },
   {
    "duration": 14,
    "start_time": "2022-09-02T08:40:25.611Z"
   },
   {
    "duration": 169,
    "start_time": "2022-09-02T08:40:26.062Z"
   },
   {
    "duration": 24,
    "start_time": "2022-09-02T08:40:26.649Z"
   },
   {
    "duration": 16,
    "start_time": "2022-09-02T08:40:53.590Z"
   },
   {
    "duration": 25,
    "start_time": "2022-09-02T08:41:04.238Z"
   },
   {
    "duration": 17,
    "start_time": "2022-09-02T08:41:06.158Z"
   },
   {
    "duration": 20,
    "start_time": "2022-09-02T08:41:11.547Z"
   },
   {
    "duration": 21,
    "start_time": "2022-09-02T09:06:55.523Z"
   },
   {
    "duration": 2100,
    "start_time": "2022-09-02T09:07:00.667Z"
   },
   {
    "duration": 30,
    "start_time": "2022-09-02T09:07:02.769Z"
   },
   {
    "duration": 6,
    "start_time": "2022-09-02T09:07:02.800Z"
   },
   {
    "duration": 10,
    "start_time": "2022-09-02T09:07:02.808Z"
   },
   {
    "duration": 10,
    "start_time": "2022-09-02T09:07:02.819Z"
   },
   {
    "duration": 200,
    "start_time": "2022-09-02T09:07:02.831Z"
   },
   {
    "duration": 1177,
    "start_time": "2022-09-02T09:07:03.033Z"
   },
   {
    "duration": 220,
    "start_time": "2022-09-02T09:07:31.599Z"
   },
   {
    "duration": 222,
    "start_time": "2022-09-02T09:07:42.294Z"
   },
   {
    "duration": 221,
    "start_time": "2022-09-02T09:07:48.934Z"
   },
   {
    "duration": 2925,
    "start_time": "2022-09-03T10:58:14.027Z"
   },
   {
    "duration": 31,
    "start_time": "2022-09-03T10:58:16.954Z"
   },
   {
    "duration": 6,
    "start_time": "2022-09-03T10:58:16.987Z"
   },
   {
    "duration": 13,
    "start_time": "2022-09-03T10:58:16.994Z"
   },
   {
    "duration": 7,
    "start_time": "2022-09-03T10:58:17.009Z"
   },
   {
    "duration": 202,
    "start_time": "2022-09-03T10:58:17.017Z"
   },
   {
    "duration": 227,
    "start_time": "2022-09-03T10:58:17.220Z"
   },
   {
    "duration": 8,
    "start_time": "2022-09-03T10:58:17.449Z"
   },
   {
    "duration": 14,
    "start_time": "2022-09-03T10:58:17.458Z"
   },
   {
    "duration": 13,
    "start_time": "2022-09-03T10:58:17.485Z"
   },
   {
    "duration": 17,
    "start_time": "2022-09-03T10:58:17.500Z"
   },
   {
    "duration": 1744,
    "start_time": "2022-09-03T10:58:17.519Z"
   },
   {
    "duration": 8,
    "start_time": "2022-09-03T10:58:19.265Z"
   },
   {
    "duration": 11,
    "start_time": "2022-09-03T11:17:20.979Z"
   },
   {
    "duration": 8,
    "start_time": "2022-09-03T11:17:32.811Z"
   },
   {
    "duration": 69,
    "start_time": "2022-09-03T11:19:02.259Z"
   },
   {
    "duration": 241,
    "start_time": "2022-09-03T11:19:27.092Z"
   },
   {
    "duration": 212,
    "start_time": "2022-09-03T11:21:12.461Z"
   },
   {
    "duration": 164,
    "start_time": "2022-09-03T11:21:21.494Z"
   },
   {
    "duration": 308,
    "start_time": "2022-09-03T11:21:30.222Z"
   },
   {
    "duration": 135,
    "start_time": "2022-09-03T11:24:58.595Z"
   },
   {
    "duration": 166,
    "start_time": "2022-09-03T11:25:33.675Z"
   },
   {
    "duration": 153,
    "start_time": "2022-09-03T11:25:58.900Z"
   },
   {
    "duration": 121,
    "start_time": "2022-09-03T11:28:32.454Z"
   },
   {
    "duration": 178,
    "start_time": "2022-09-03T11:28:44.019Z"
   },
   {
    "duration": 232,
    "start_time": "2022-09-03T11:28:50.579Z"
   },
   {
    "duration": 338,
    "start_time": "2022-09-03T11:29:22.715Z"
   },
   {
    "duration": 255,
    "start_time": "2022-09-03T11:29:28.420Z"
   },
   {
    "duration": 171,
    "start_time": "2022-09-03T11:29:36.019Z"
   },
   {
    "duration": 2881,
    "start_time": "2022-09-03T11:31:51.275Z"
   },
   {
    "duration": 33,
    "start_time": "2022-09-03T11:31:54.158Z"
   },
   {
    "duration": 5,
    "start_time": "2022-09-03T11:31:54.193Z"
   },
   {
    "duration": 11,
    "start_time": "2022-09-03T11:31:54.200Z"
   },
   {
    "duration": 8,
    "start_time": "2022-09-03T11:31:54.213Z"
   },
   {
    "duration": 219,
    "start_time": "2022-09-03T11:31:54.223Z"
   },
   {
    "duration": 257,
    "start_time": "2022-09-03T11:31:54.444Z"
   },
   {
    "duration": 7,
    "start_time": "2022-09-03T11:31:54.703Z"
   },
   {
    "duration": 17,
    "start_time": "2022-09-03T11:31:54.712Z"
   },
   {
    "duration": 11,
    "start_time": "2022-09-03T11:31:54.731Z"
   },
   {
    "duration": 10,
    "start_time": "2022-09-03T11:31:54.744Z"
   },
   {
    "duration": 1799,
    "start_time": "2022-09-03T11:31:54.756Z"
   },
   {
    "duration": 7,
    "start_time": "2022-09-03T11:31:56.557Z"
   },
   {
    "duration": 178,
    "start_time": "2022-09-03T11:31:56.567Z"
   },
   {
    "duration": 248,
    "start_time": "2022-09-03T11:31:56.747Z"
   },
   {
    "duration": 167,
    "start_time": "2022-09-03T11:31:56.997Z"
   },
   {
    "duration": 126,
    "start_time": "2022-09-03T11:31:57.165Z"
   },
   {
    "duration": 141,
    "start_time": "2022-09-03T11:32:34.019Z"
   },
   {
    "duration": 277,
    "start_time": "2022-09-03T11:32:42.411Z"
   },
   {
    "duration": 160,
    "start_time": "2022-09-03T11:32:45.377Z"
   },
   {
    "duration": 831,
    "start_time": "2022-09-03T11:35:27.092Z"
   },
   {
    "duration": 1813,
    "start_time": "2022-09-03T11:35:43.215Z"
   },
   {
    "duration": 7,
    "start_time": "2022-09-03T11:35:48.913Z"
   },
   {
    "duration": 167,
    "start_time": "2022-09-03T11:35:54.734Z"
   },
   {
    "duration": 118,
    "start_time": "2022-09-03T11:35:55.424Z"
   },
   {
    "duration": 710,
    "start_time": "2022-09-03T11:36:49.977Z"
   },
   {
    "duration": 189,
    "start_time": "2022-09-03T11:37:16.811Z"
   },
   {
    "duration": 11673,
    "start_time": "2022-09-03T11:37:17.002Z"
   },
   {
    "duration": 193,
    "start_time": "2022-09-03T11:37:39.488Z"
   },
   {
    "duration": 2937,
    "start_time": "2022-09-03T11:45:29.495Z"
   },
   {
    "duration": 36,
    "start_time": "2022-09-03T11:45:32.434Z"
   },
   {
    "duration": 6,
    "start_time": "2022-09-03T11:45:32.473Z"
   },
   {
    "duration": 19,
    "start_time": "2022-09-03T11:45:32.480Z"
   },
   {
    "duration": 9,
    "start_time": "2022-09-03T11:45:32.502Z"
   },
   {
    "duration": 176,
    "start_time": "2022-09-03T11:45:32.513Z"
   },
   {
    "duration": 260,
    "start_time": "2022-09-03T11:45:32.691Z"
   },
   {
    "duration": 8,
    "start_time": "2022-09-03T11:45:32.952Z"
   },
   {
    "duration": 27,
    "start_time": "2022-09-03T11:45:32.962Z"
   },
   {
    "duration": 12,
    "start_time": "2022-09-03T11:45:32.990Z"
   },
   {
    "duration": 31,
    "start_time": "2022-09-03T11:45:33.004Z"
   },
   {
    "duration": 2062,
    "start_time": "2022-09-03T11:45:33.037Z"
   },
   {
    "duration": 8,
    "start_time": "2022-09-03T11:45:35.101Z"
   },
   {
    "duration": 163,
    "start_time": "2022-09-03T11:45:35.113Z"
   },
   {
    "duration": 191,
    "start_time": "2022-09-03T11:45:35.285Z"
   },
   {
    "duration": 183,
    "start_time": "2022-09-03T11:45:35.477Z"
   },
   {
    "duration": 197,
    "start_time": "2022-09-03T11:45:35.661Z"
   },
   {
    "duration": 128,
    "start_time": "2022-09-03T11:45:35.859Z"
   },
   {
    "duration": 261,
    "start_time": "2022-09-03T11:45:35.989Z"
   },
   {
    "duration": 259,
    "start_time": "2022-09-03T11:45:36.252Z"
   },
   {
    "duration": 150,
    "start_time": "2022-09-03T11:45:36.514Z"
   },
   {
    "duration": 4006,
    "start_time": "2022-09-03T11:47:49.500Z"
   },
   {
    "duration": 199,
    "start_time": "2022-09-03T11:48:05.992Z"
   },
   {
    "duration": 249,
    "start_time": "2022-09-03T11:48:12.638Z"
   },
   {
    "duration": 160,
    "start_time": "2022-09-03T11:48:13.520Z"
   },
   {
    "duration": 3919,
    "start_time": "2022-09-03T11:49:08.547Z"
   },
   {
    "duration": 1939,
    "start_time": "2022-09-03T11:49:16.192Z"
   },
   {
    "duration": 2000,
    "start_time": "2022-09-03T11:49:30.688Z"
   },
   {
    "duration": 86,
    "start_time": "2022-09-03T11:52:32.645Z"
   },
   {
    "duration": 30,
    "start_time": "2022-09-03T11:52:42.781Z"
   },
   {
    "duration": 1043,
    "start_time": "2022-09-03T11:53:31.610Z"
   },
   {
    "duration": 912,
    "start_time": "2022-09-03T11:59:33.197Z"
   },
   {
    "duration": 12,
    "start_time": "2022-09-03T12:00:04.921Z"
   },
   {
    "duration": 20,
    "start_time": "2022-09-03T12:00:12.424Z"
   },
   {
    "duration": 1123,
    "start_time": "2022-09-03T12:00:56.595Z"
   },
   {
    "duration": 10,
    "start_time": "2022-09-03T12:01:24.391Z"
   },
   {
    "duration": 924,
    "start_time": "2022-09-03T12:01:40.331Z"
   },
   {
    "duration": 1025,
    "start_time": "2022-09-03T12:01:45.631Z"
   },
   {
    "duration": 3252,
    "start_time": "2022-09-03T12:01:53.700Z"
   },
   {
    "duration": 36,
    "start_time": "2022-09-03T12:01:56.956Z"
   },
   {
    "duration": 8,
    "start_time": "2022-09-03T12:01:56.994Z"
   },
   {
    "duration": 20,
    "start_time": "2022-09-03T12:01:57.003Z"
   },
   {
    "duration": 8,
    "start_time": "2022-09-03T12:01:57.027Z"
   },
   {
    "duration": 207,
    "start_time": "2022-09-03T12:01:57.037Z"
   },
   {
    "duration": 247,
    "start_time": "2022-09-03T12:01:57.246Z"
   },
   {
    "duration": 11,
    "start_time": "2022-09-03T12:01:57.495Z"
   },
   {
    "duration": 26,
    "start_time": "2022-09-03T12:01:57.508Z"
   },
   {
    "duration": 17,
    "start_time": "2022-09-03T12:01:57.536Z"
   },
   {
    "duration": 34,
    "start_time": "2022-09-03T12:01:57.555Z"
   },
   {
    "duration": 3360,
    "start_time": "2022-09-03T12:01:57.591Z"
   },
   {
    "duration": 11,
    "start_time": "2022-09-03T12:02:00.954Z"
   },
   {
    "duration": 180,
    "start_time": "2022-09-03T12:02:00.987Z"
   },
   {
    "duration": 208,
    "start_time": "2022-09-03T12:02:01.170Z"
   },
   {
    "duration": 194,
    "start_time": "2022-09-03T12:02:01.380Z"
   },
   {
    "duration": 248,
    "start_time": "2022-09-03T12:02:01.577Z"
   },
   {
    "duration": 145,
    "start_time": "2022-09-03T12:02:01.828Z"
   },
   {
    "duration": 269,
    "start_time": "2022-09-03T12:02:01.985Z"
   },
   {
    "duration": 264,
    "start_time": "2022-09-03T12:02:02.256Z"
   },
   {
    "duration": 174,
    "start_time": "2022-09-03T12:02:02.522Z"
   },
   {
    "duration": 1034,
    "start_time": "2022-09-03T12:02:02.697Z"
   },
   {
    "duration": 1127,
    "start_time": "2022-09-03T12:02:26.689Z"
   },
   {
    "duration": 1967,
    "start_time": "2022-09-03T12:04:19.008Z"
   },
   {
    "duration": 1866,
    "start_time": "2022-09-03T12:05:06.438Z"
   },
   {
    "duration": 39,
    "start_time": "2022-09-03T12:05:31.305Z"
   },
   {
    "duration": 13,
    "start_time": "2022-09-03T12:05:45.704Z"
   },
   {
    "duration": 42,
    "start_time": "2022-09-03T12:05:47.005Z"
   },
   {
    "duration": 56,
    "start_time": "2022-09-03T12:05:54.715Z"
   },
   {
    "duration": 12,
    "start_time": "2022-09-03T12:06:03.937Z"
   },
   {
    "duration": 47,
    "start_time": "2022-09-03T12:06:05.100Z"
   },
   {
    "duration": 2019,
    "start_time": "2022-09-03T12:06:39.125Z"
   },
   {
    "duration": 2570,
    "start_time": "2022-09-03T12:08:17.138Z"
   },
   {
    "duration": 2318,
    "start_time": "2022-09-03T12:08:30.323Z"
   },
   {
    "duration": 1894,
    "start_time": "2022-09-03T12:10:18.922Z"
   },
   {
    "duration": 291,
    "start_time": "2022-09-03T12:12:21.618Z"
   },
   {
    "duration": 991,
    "start_time": "2022-09-03T12:21:16.983Z"
   },
   {
    "duration": 1136,
    "start_time": "2022-09-03T12:21:39.337Z"
   },
   {
    "duration": 91,
    "start_time": "2022-09-03T12:21:56.118Z"
   },
   {
    "duration": 1407,
    "start_time": "2022-09-03T12:22:02.892Z"
   },
   {
    "duration": 965,
    "start_time": "2022-09-03T12:28:51.585Z"
   },
   {
    "duration": 1089,
    "start_time": "2022-09-03T12:28:57.698Z"
   },
   {
    "duration": 1368,
    "start_time": "2022-09-03T12:29:18.162Z"
   },
   {
    "duration": 993,
    "start_time": "2022-09-03T12:29:28.943Z"
   },
   {
    "duration": 1213,
    "start_time": "2022-09-03T12:29:42.504Z"
   },
   {
    "duration": 1084,
    "start_time": "2022-09-03T12:31:42.843Z"
   },
   {
    "duration": 18,
    "start_time": "2022-09-03T12:31:51.504Z"
   },
   {
    "duration": 17,
    "start_time": "2022-09-03T12:32:10.222Z"
   },
   {
    "duration": 1109,
    "start_time": "2022-09-03T12:32:35.200Z"
   },
   {
    "duration": 171,
    "start_time": "2022-09-03T12:33:50.270Z"
   },
   {
    "duration": 153,
    "start_time": "2022-09-03T12:34:11.072Z"
   },
   {
    "duration": 136,
    "start_time": "2022-09-03T12:34:43.533Z"
   },
   {
    "duration": 164,
    "start_time": "2022-09-03T12:34:49.332Z"
   },
   {
    "duration": 284,
    "start_time": "2022-09-03T12:34:55.082Z"
   },
   {
    "duration": 187,
    "start_time": "2022-09-03T12:35:26.920Z"
   },
   {
    "duration": 384,
    "start_time": "2022-09-03T12:35:44.441Z"
   },
   {
    "duration": 161,
    "start_time": "2022-09-03T12:35:51.950Z"
   },
   {
    "duration": 186,
    "start_time": "2022-09-03T12:35:58.025Z"
   },
   {
    "duration": 10,
    "start_time": "2022-09-03T12:37:17.063Z"
   },
   {
    "duration": 9,
    "start_time": "2022-09-03T12:38:33.746Z"
   },
   {
    "duration": 148,
    "start_time": "2022-09-03T12:40:47.823Z"
   },
   {
    "duration": 198,
    "start_time": "2022-09-03T12:40:54.623Z"
   },
   {
    "duration": 10,
    "start_time": "2022-09-03T13:00:28.345Z"
   },
   {
    "duration": 39,
    "start_time": "2022-09-03T13:03:11.751Z"
   },
   {
    "duration": 37,
    "start_time": "2022-09-03T13:04:02.970Z"
   },
   {
    "duration": 9,
    "start_time": "2022-09-03T13:04:13.127Z"
   },
   {
    "duration": 15,
    "start_time": "2022-09-03T13:04:38.941Z"
   },
   {
    "duration": 22,
    "start_time": "2022-09-03T13:04:58.943Z"
   },
   {
    "duration": 25,
    "start_time": "2022-09-03T13:05:33.703Z"
   },
   {
    "duration": 21,
    "start_time": "2022-09-03T13:05:57.110Z"
   },
   {
    "duration": 20,
    "start_time": "2022-09-03T13:07:01.154Z"
   },
   {
    "duration": 52,
    "start_time": "2022-09-03T13:07:13.843Z"
   },
   {
    "duration": 50,
    "start_time": "2022-09-03T22:53:42.034Z"
   },
   {
    "duration": 2890,
    "start_time": "2022-09-03T22:53:49.376Z"
   },
   {
    "duration": 32,
    "start_time": "2022-09-03T22:53:52.268Z"
   },
   {
    "duration": 5,
    "start_time": "2022-09-03T22:53:52.302Z"
   },
   {
    "duration": 11,
    "start_time": "2022-09-03T22:53:52.308Z"
   },
   {
    "duration": 8,
    "start_time": "2022-09-03T22:53:52.321Z"
   },
   {
    "duration": 191,
    "start_time": "2022-09-03T22:53:52.330Z"
   },
   {
    "duration": 232,
    "start_time": "2022-09-03T22:53:52.522Z"
   },
   {
    "duration": 7,
    "start_time": "2022-09-03T22:53:52.755Z"
   },
   {
    "duration": 24,
    "start_time": "2022-09-03T22:53:52.763Z"
   },
   {
    "duration": 10,
    "start_time": "2022-09-03T22:53:52.788Z"
   },
   {
    "duration": 11,
    "start_time": "2022-09-03T22:53:52.799Z"
   },
   {
    "duration": 283,
    "start_time": "2022-09-03T22:53:52.811Z"
   },
   {
    "duration": 6,
    "start_time": "2022-09-03T22:53:53.096Z"
   },
   {
    "duration": 141,
    "start_time": "2022-09-03T22:53:53.105Z"
   },
   {
    "duration": 166,
    "start_time": "2022-09-03T22:53:53.247Z"
   },
   {
    "duration": 156,
    "start_time": "2022-09-03T22:53:53.414Z"
   },
   {
    "duration": 176,
    "start_time": "2022-09-03T22:53:53.571Z"
   },
   {
    "duration": 118,
    "start_time": "2022-09-03T22:53:53.749Z"
   },
   {
    "duration": 322,
    "start_time": "2022-09-03T22:53:53.868Z"
   },
   {
    "duration": 144,
    "start_time": "2022-09-03T22:53:54.191Z"
   },
   {
    "duration": 127,
    "start_time": "2022-09-03T22:53:54.337Z"
   },
   {
    "duration": 78,
    "start_time": "2022-09-03T22:53:54.465Z"
   },
   {
    "duration": 0,
    "start_time": "2022-09-03T22:53:54.544Z"
   },
   {
    "duration": 48,
    "start_time": "2022-09-04T01:39:01.277Z"
   },
   {
    "duration": 2794,
    "start_time": "2022-09-04T01:39:10.119Z"
   },
   {
    "duration": 31,
    "start_time": "2022-09-04T01:39:12.916Z"
   },
   {
    "duration": 4,
    "start_time": "2022-09-04T01:39:12.949Z"
   },
   {
    "duration": 20,
    "start_time": "2022-09-04T01:39:12.954Z"
   },
   {
    "duration": 8,
    "start_time": "2022-09-04T01:39:12.976Z"
   },
   {
    "duration": 174,
    "start_time": "2022-09-04T01:39:12.985Z"
   },
   {
    "duration": 215,
    "start_time": "2022-09-04T01:39:13.161Z"
   },
   {
    "duration": 8,
    "start_time": "2022-09-04T01:39:13.377Z"
   },
   {
    "duration": 12,
    "start_time": "2022-09-04T01:39:13.386Z"
   },
   {
    "duration": 13,
    "start_time": "2022-09-04T01:39:13.399Z"
   },
   {
    "duration": 28,
    "start_time": "2022-09-04T01:39:13.414Z"
   },
   {
    "duration": 264,
    "start_time": "2022-09-04T01:39:13.443Z"
   },
   {
    "duration": 7,
    "start_time": "2022-09-04T01:39:13.709Z"
   },
   {
    "duration": 135,
    "start_time": "2022-09-04T01:39:13.718Z"
   },
   {
    "duration": 158,
    "start_time": "2022-09-04T01:39:13.855Z"
   },
   {
    "duration": 147,
    "start_time": "2022-09-04T01:39:14.014Z"
   },
   {
    "duration": 176,
    "start_time": "2022-09-04T01:39:14.162Z"
   },
   {
    "duration": 107,
    "start_time": "2022-09-04T01:39:14.340Z"
   },
   {
    "duration": 296,
    "start_time": "2022-09-04T01:39:14.449Z"
   },
   {
    "duration": 146,
    "start_time": "2022-09-04T01:39:14.746Z"
   },
   {
    "duration": 123,
    "start_time": "2022-09-04T01:39:14.894Z"
   },
   {
    "duration": 73,
    "start_time": "2022-09-04T01:39:15.019Z"
   },
   {
    "duration": 0,
    "start_time": "2022-09-04T01:39:15.093Z"
   },
   {
    "duration": 125,
    "start_time": "2022-09-04T01:39:20.377Z"
   },
   {
    "duration": 7,
    "start_time": "2022-09-04T01:39:34.004Z"
   },
   {
    "duration": 8,
    "start_time": "2022-09-04T01:39:51.805Z"
   },
   {
    "duration": 10,
    "start_time": "2022-09-04T01:41:40.689Z"
   },
   {
    "duration": 14,
    "start_time": "2022-09-04T01:41:46.017Z"
   },
   {
    "duration": 15,
    "start_time": "2022-09-04T01:41:59.595Z"
   },
   {
    "duration": 15,
    "start_time": "2022-09-04T01:42:24.898Z"
   },
   {
    "duration": 14,
    "start_time": "2022-09-04T01:42:33.721Z"
   },
   {
    "duration": 14,
    "start_time": "2022-09-04T01:42:41.045Z"
   },
   {
    "duration": 17,
    "start_time": "2022-09-04T01:43:01.533Z"
   },
   {
    "duration": 139,
    "start_time": "2022-09-04T01:43:43.782Z"
   },
   {
    "duration": 130,
    "start_time": "2022-09-04T01:43:51.570Z"
   },
   {
    "duration": 17,
    "start_time": "2022-09-04T01:43:54.644Z"
   },
   {
    "duration": 13,
    "start_time": "2022-09-04T01:44:02.659Z"
   },
   {
    "duration": 16,
    "start_time": "2022-09-04T01:44:10.033Z"
   },
   {
    "duration": 15,
    "start_time": "2022-09-04T01:44:29.665Z"
   },
   {
    "duration": 15,
    "start_time": "2022-09-04T01:44:34.859Z"
   },
   {
    "duration": 107,
    "start_time": "2022-09-04T01:44:37.143Z"
   },
   {
    "duration": 14,
    "start_time": "2022-09-04T01:44:37.845Z"
   },
   {
    "duration": 15,
    "start_time": "2022-09-04T01:45:03.626Z"
   },
   {
    "duration": 16,
    "start_time": "2022-09-04T01:46:09.257Z"
   },
   {
    "duration": 17,
    "start_time": "2022-09-04T01:46:21.534Z"
   },
   {
    "duration": 21,
    "start_time": "2022-09-04T01:48:18.054Z"
   },
   {
    "duration": 12,
    "start_time": "2022-09-04T01:49:25.596Z"
   },
   {
    "duration": 12,
    "start_time": "2022-09-04T01:49:28.166Z"
   },
   {
    "duration": 25,
    "start_time": "2022-09-04T01:49:38.997Z"
   },
   {
    "duration": 17,
    "start_time": "2022-09-04T01:50:04.405Z"
   },
   {
    "duration": 20,
    "start_time": "2022-09-04T01:50:36.590Z"
   },
   {
    "duration": 47,
    "start_time": "2022-09-04T10:02:51.345Z"
   },
   {
    "duration": 2860,
    "start_time": "2022-09-04T10:03:01.929Z"
   },
   {
    "duration": 34,
    "start_time": "2022-09-04T10:03:04.791Z"
   },
   {
    "duration": 5,
    "start_time": "2022-09-04T10:03:04.826Z"
   },
   {
    "duration": 1459,
    "start_time": "2022-09-04T10:03:04.832Z"
   },
   {
    "duration": 0,
    "start_time": "2022-09-04T10:03:06.294Z"
   },
   {
    "duration": 0,
    "start_time": "2022-09-04T10:03:06.295Z"
   },
   {
    "duration": 0,
    "start_time": "2022-09-04T10:03:06.296Z"
   },
   {
    "duration": 0,
    "start_time": "2022-09-04T10:03:06.297Z"
   },
   {
    "duration": 0,
    "start_time": "2022-09-04T10:03:06.299Z"
   },
   {
    "duration": 0,
    "start_time": "2022-09-04T10:03:06.300Z"
   },
   {
    "duration": 0,
    "start_time": "2022-09-04T10:03:06.301Z"
   },
   {
    "duration": 0,
    "start_time": "2022-09-04T10:03:06.303Z"
   },
   {
    "duration": 1,
    "start_time": "2022-09-04T10:03:06.304Z"
   },
   {
    "duration": 0,
    "start_time": "2022-09-04T10:03:06.306Z"
   },
   {
    "duration": 0,
    "start_time": "2022-09-04T10:03:06.307Z"
   },
   {
    "duration": 0,
    "start_time": "2022-09-04T10:03:06.308Z"
   },
   {
    "duration": 0,
    "start_time": "2022-09-04T10:03:06.310Z"
   },
   {
    "duration": 0,
    "start_time": "2022-09-04T10:03:06.311Z"
   },
   {
    "duration": 0,
    "start_time": "2022-09-04T10:03:06.312Z"
   },
   {
    "duration": 0,
    "start_time": "2022-09-04T10:03:06.313Z"
   },
   {
    "duration": 0,
    "start_time": "2022-09-04T10:03:06.315Z"
   },
   {
    "duration": 0,
    "start_time": "2022-09-04T10:03:06.316Z"
   },
   {
    "duration": 0,
    "start_time": "2022-09-04T10:03:06.318Z"
   },
   {
    "duration": 0,
    "start_time": "2022-09-04T10:03:06.319Z"
   },
   {
    "duration": 6,
    "start_time": "2022-09-04T10:03:39.761Z"
   },
   {
    "duration": 2399,
    "start_time": "2022-09-04T10:03:57.890Z"
   },
   {
    "duration": 36,
    "start_time": "2022-09-04T10:04:00.291Z"
   },
   {
    "duration": 5,
    "start_time": "2022-09-04T10:04:00.329Z"
   },
   {
    "duration": 10,
    "start_time": "2022-09-04T10:04:00.335Z"
   },
   {
    "duration": 16,
    "start_time": "2022-09-04T10:04:00.347Z"
   },
   {
    "duration": 19,
    "start_time": "2022-09-04T10:04:00.365Z"
   },
   {
    "duration": 190,
    "start_time": "2022-09-04T10:04:00.385Z"
   },
   {
    "duration": 244,
    "start_time": "2022-09-04T10:04:00.577Z"
   },
   {
    "duration": 6,
    "start_time": "2022-09-04T10:04:00.823Z"
   },
   {
    "duration": 34,
    "start_time": "2022-09-04T10:04:00.830Z"
   },
   {
    "duration": 14,
    "start_time": "2022-09-04T10:04:00.865Z"
   },
   {
    "duration": 34,
    "start_time": "2022-09-04T10:04:00.881Z"
   },
   {
    "duration": 289,
    "start_time": "2022-09-04T10:04:00.916Z"
   },
   {
    "duration": 7,
    "start_time": "2022-09-04T10:04:01.208Z"
   },
   {
    "duration": 158,
    "start_time": "2022-09-04T10:04:01.217Z"
   },
   {
    "duration": 153,
    "start_time": "2022-09-04T10:04:01.377Z"
   },
   {
    "duration": 149,
    "start_time": "2022-09-04T10:04:01.532Z"
   },
   {
    "duration": 157,
    "start_time": "2022-09-04T10:04:01.683Z"
   },
   {
    "duration": 110,
    "start_time": "2022-09-04T10:04:01.842Z"
   },
   {
    "duration": 220,
    "start_time": "2022-09-04T10:04:01.953Z"
   },
   {
    "duration": 193,
    "start_time": "2022-09-04T10:04:02.174Z"
   },
   {
    "duration": 106,
    "start_time": "2022-09-04T10:04:02.369Z"
   },
   {
    "duration": 29,
    "start_time": "2022-09-04T10:04:02.476Z"
   },
   {
    "duration": 18,
    "start_time": "2022-09-04T10:04:02.507Z"
   },
   {
    "duration": 123,
    "start_time": "2022-09-04T10:04:15.353Z"
   },
   {
    "duration": 124,
    "start_time": "2022-09-04T10:04:20.283Z"
   },
   {
    "duration": 144,
    "start_time": "2022-09-04T10:04:27.478Z"
   },
   {
    "duration": 6,
    "start_time": "2022-09-04T10:04:38.191Z"
   },
   {
    "duration": 6,
    "start_time": "2022-09-04T10:04:45.951Z"
   },
   {
    "duration": 20,
    "start_time": "2022-09-04T10:04:56.159Z"
   },
   {
    "duration": 105,
    "start_time": "2022-09-04T10:05:14.594Z"
   },
   {
    "duration": 129,
    "start_time": "2022-09-04T10:05:23.154Z"
   },
   {
    "duration": 195,
    "start_time": "2022-09-04T10:05:27.527Z"
   },
   {
    "duration": 114,
    "start_time": "2022-09-04T10:05:33.059Z"
   },
   {
    "duration": 149,
    "start_time": "2022-09-04T10:05:49.801Z"
   },
   {
    "duration": 136,
    "start_time": "2022-09-04T10:05:54.538Z"
   },
   {
    "duration": 170,
    "start_time": "2022-09-04T10:05:54.849Z"
   },
   {
    "duration": 210,
    "start_time": "2022-09-04T10:05:55.299Z"
   },
   {
    "duration": 6,
    "start_time": "2022-09-04T10:06:16.786Z"
   },
   {
    "duration": 9,
    "start_time": "2022-09-04T10:06:40.244Z"
   },
   {
    "duration": 6,
    "start_time": "2022-09-04T10:07:05.338Z"
   },
   {
    "duration": 2749,
    "start_time": "2022-09-05T14:34:12.329Z"
   },
   {
    "duration": 42,
    "start_time": "2022-09-05T14:34:15.080Z"
   },
   {
    "duration": 5,
    "start_time": "2022-09-05T14:34:15.124Z"
   },
   {
    "duration": 11,
    "start_time": "2022-09-05T14:34:15.131Z"
   },
   {
    "duration": 11,
    "start_time": "2022-09-05T14:34:15.144Z"
   },
   {
    "duration": 12,
    "start_time": "2022-09-05T14:34:15.156Z"
   },
   {
    "duration": 196,
    "start_time": "2022-09-05T14:34:15.191Z"
   },
   {
    "duration": 248,
    "start_time": "2022-09-05T14:34:15.389Z"
   },
   {
    "duration": 6,
    "start_time": "2022-09-05T14:34:15.639Z"
   },
   {
    "duration": 14,
    "start_time": "2022-09-05T14:34:15.647Z"
   },
   {
    "duration": 15,
    "start_time": "2022-09-05T14:34:15.662Z"
   },
   {
    "duration": 12,
    "start_time": "2022-09-05T14:34:15.691Z"
   },
   {
    "duration": 314,
    "start_time": "2022-09-05T14:34:15.704Z"
   },
   {
    "duration": 10,
    "start_time": "2022-09-05T14:34:16.020Z"
   },
   {
    "duration": 162,
    "start_time": "2022-09-05T14:34:16.032Z"
   },
   {
    "duration": 188,
    "start_time": "2022-09-05T14:34:16.195Z"
   },
   {
    "duration": 178,
    "start_time": "2022-09-05T14:34:16.384Z"
   },
   {
    "duration": 190,
    "start_time": "2022-09-05T14:34:16.564Z"
   },
   {
    "duration": 143,
    "start_time": "2022-09-05T14:34:16.755Z"
   },
   {
    "duration": 280,
    "start_time": "2022-09-05T14:34:16.900Z"
   },
   {
    "duration": 243,
    "start_time": "2022-09-05T14:34:17.182Z"
   },
   {
    "duration": 139,
    "start_time": "2022-09-05T14:34:17.426Z"
   },
   {
    "duration": 34,
    "start_time": "2022-09-05T14:34:17.567Z"
   },
   {
    "duration": 24,
    "start_time": "2022-09-05T14:34:17.602Z"
   },
   {
    "duration": 18,
    "start_time": "2022-09-05T16:18:29.244Z"
   },
   {
    "duration": 2886,
    "start_time": "2022-09-05T17:55:49.542Z"
   },
   {
    "duration": 37,
    "start_time": "2022-09-05T17:55:52.429Z"
   },
   {
    "duration": 4,
    "start_time": "2022-09-05T17:55:52.468Z"
   },
   {
    "duration": 275,
    "start_time": "2022-09-05T17:55:52.473Z"
   },
   {
    "duration": 6,
    "start_time": "2022-09-05T17:55:52.749Z"
   },
   {
    "duration": 11,
    "start_time": "2022-09-05T17:55:52.757Z"
   },
   {
    "duration": 27,
    "start_time": "2022-09-05T17:55:52.769Z"
   },
   {
    "duration": 11,
    "start_time": "2022-09-05T17:55:52.798Z"
   },
   {
    "duration": 197,
    "start_time": "2022-09-05T17:55:52.811Z"
   },
   {
    "duration": 8,
    "start_time": "2022-09-05T17:55:53.009Z"
   },
   {
    "duration": 249,
    "start_time": "2022-09-05T17:55:53.019Z"
   },
   {
    "duration": 21,
    "start_time": "2022-09-05T17:55:53.270Z"
   },
   {
    "duration": 54,
    "start_time": "2022-09-05T17:55:53.293Z"
   },
   {
    "duration": 8,
    "start_time": "2022-09-05T17:55:53.349Z"
   },
   {
    "duration": 328,
    "start_time": "2022-09-05T17:55:53.359Z"
   },
   {
    "duration": 331,
    "start_time": "2022-09-05T17:55:53.689Z"
   },
   {
    "duration": 8,
    "start_time": "2022-09-05T17:55:54.021Z"
   },
   {
    "duration": 25,
    "start_time": "2022-09-05T17:55:54.031Z"
   },
   {
    "duration": 17,
    "start_time": "2022-09-05T17:55:54.058Z"
   },
   {
    "duration": 28,
    "start_time": "2022-09-05T17:55:54.077Z"
   },
   {
    "duration": 371,
    "start_time": "2022-09-05T17:55:54.107Z"
   },
   {
    "duration": 14,
    "start_time": "2022-09-05T17:55:54.480Z"
   },
   {
    "duration": 162,
    "start_time": "2022-09-05T17:55:54.497Z"
   },
   {
    "duration": 180,
    "start_time": "2022-09-05T17:55:54.661Z"
   },
   {
    "duration": 166,
    "start_time": "2022-09-05T17:55:54.843Z"
   },
   {
    "duration": 186,
    "start_time": "2022-09-05T17:55:55.011Z"
   },
   {
    "duration": 141,
    "start_time": "2022-09-05T17:55:55.199Z"
   },
   {
    "duration": 273,
    "start_time": "2022-09-05T17:55:55.342Z"
   },
   {
    "duration": 170,
    "start_time": "2022-09-05T17:55:55.618Z"
   },
   {
    "duration": 133,
    "start_time": "2022-09-05T17:55:55.790Z"
   },
   {
    "duration": 24,
    "start_time": "2022-09-05T17:55:55.925Z"
   },
   {
    "duration": 41,
    "start_time": "2022-09-05T17:55:55.951Z"
   },
   {
    "duration": 2850,
    "start_time": "2022-09-05T18:10:51.195Z"
   },
   {
    "duration": 46,
    "start_time": "2022-09-05T18:10:54.047Z"
   },
   {
    "duration": 5,
    "start_time": "2022-09-05T18:10:54.095Z"
   },
   {
    "duration": 252,
    "start_time": "2022-09-05T18:10:54.103Z"
   },
   {
    "duration": 7,
    "start_time": "2022-09-05T18:10:54.357Z"
   },
   {
    "duration": 11,
    "start_time": "2022-09-05T18:10:54.366Z"
   },
   {
    "duration": 14,
    "start_time": "2022-09-05T18:10:54.392Z"
   },
   {
    "duration": 25,
    "start_time": "2022-09-05T18:10:54.408Z"
   },
   {
    "duration": 203,
    "start_time": "2022-09-05T18:10:54.436Z"
   },
   {
    "duration": 9,
    "start_time": "2022-09-05T18:10:54.641Z"
   },
   {
    "duration": 250,
    "start_time": "2022-09-05T18:10:54.652Z"
   },
   {
    "duration": 14,
    "start_time": "2022-09-05T18:10:54.904Z"
   },
   {
    "duration": 54,
    "start_time": "2022-09-05T18:10:54.920Z"
   },
   {
    "duration": 24,
    "start_time": "2022-09-05T18:10:54.975Z"
   },
   {
    "duration": 323,
    "start_time": "2022-09-05T18:10:55.001Z"
   },
   {
    "duration": 337,
    "start_time": "2022-09-05T18:10:55.326Z"
   },
   {
    "duration": 8,
    "start_time": "2022-09-05T18:10:55.665Z"
   },
   {
    "duration": 27,
    "start_time": "2022-09-05T18:10:55.675Z"
   },
   {
    "duration": 18,
    "start_time": "2022-09-05T18:10:55.703Z"
   },
   {
    "duration": 30,
    "start_time": "2022-09-05T18:10:55.723Z"
   },
   {
    "duration": 387,
    "start_time": "2022-09-05T18:10:55.755Z"
   },
   {
    "duration": 9,
    "start_time": "2022-09-05T18:10:56.143Z"
   },
   {
    "duration": 164,
    "start_time": "2022-09-05T18:10:56.154Z"
   },
   {
    "duration": 191,
    "start_time": "2022-09-05T18:10:56.320Z"
   },
   {
    "duration": 171,
    "start_time": "2022-09-05T18:10:56.512Z"
   },
   {
    "duration": 207,
    "start_time": "2022-09-05T18:10:56.684Z"
   },
   {
    "duration": 138,
    "start_time": "2022-09-05T18:10:56.893Z"
   },
   {
    "duration": 274,
    "start_time": "2022-09-05T18:10:57.035Z"
   },
   {
    "duration": 167,
    "start_time": "2022-09-05T18:10:57.311Z"
   },
   {
    "duration": 142,
    "start_time": "2022-09-05T18:10:57.480Z"
   },
   {
    "duration": 25,
    "start_time": "2022-09-05T18:10:57.623Z"
   },
   {
    "duration": 42,
    "start_time": "2022-09-05T18:10:57.650Z"
   },
   {
    "duration": 2658,
    "start_time": "2022-09-05T20:09:44.502Z"
   },
   {
    "duration": 1770,
    "start_time": "2022-09-05T20:10:04.037Z"
   },
   {
    "duration": 4,
    "start_time": "2022-09-05T20:10:47.684Z"
   },
   {
    "duration": 192,
    "start_time": "2022-09-05T20:10:48.293Z"
   },
   {
    "duration": 7,
    "start_time": "2022-09-05T20:11:10.354Z"
   },
   {
    "duration": 6,
    "start_time": "2022-09-05T20:11:14.968Z"
   },
   {
    "duration": 15,
    "start_time": "2022-09-05T20:22:45.716Z"
   },
   {
    "duration": 67,
    "start_time": "2022-09-05T20:22:48.384Z"
   },
   {
    "duration": 2563,
    "start_time": "2022-09-05T20:25:24.001Z"
   },
   {
    "duration": 30,
    "start_time": "2022-09-05T20:25:26.567Z"
   },
   {
    "duration": 3,
    "start_time": "2022-09-05T20:25:26.599Z"
   },
   {
    "duration": 200,
    "start_time": "2022-09-05T20:25:26.604Z"
   },
   {
    "duration": 5,
    "start_time": "2022-09-05T20:25:26.806Z"
   },
   {
    "duration": 5,
    "start_time": "2022-09-05T20:25:26.813Z"
   },
   {
    "duration": 13,
    "start_time": "2022-09-05T20:25:26.820Z"
   },
   {
    "duration": 7,
    "start_time": "2022-09-05T20:25:26.834Z"
   },
   {
    "duration": 178,
    "start_time": "2022-09-05T20:25:26.842Z"
   },
   {
    "duration": 6,
    "start_time": "2022-09-05T20:25:27.021Z"
   },
   {
    "duration": 224,
    "start_time": "2022-09-05T20:25:27.029Z"
   },
   {
    "duration": 71,
    "start_time": "2022-09-05T20:25:27.255Z"
   },
   {
    "duration": 0,
    "start_time": "2022-09-05T20:25:27.328Z"
   },
   {
    "duration": 0,
    "start_time": "2022-09-05T20:25:27.329Z"
   },
   {
    "duration": 0,
    "start_time": "2022-09-05T20:25:27.330Z"
   },
   {
    "duration": 0,
    "start_time": "2022-09-05T20:25:27.332Z"
   },
   {
    "duration": 0,
    "start_time": "2022-09-05T20:25:27.332Z"
   },
   {
    "duration": 0,
    "start_time": "2022-09-05T20:25:27.333Z"
   },
   {
    "duration": 0,
    "start_time": "2022-09-05T20:25:27.334Z"
   },
   {
    "duration": 0,
    "start_time": "2022-09-05T20:25:27.335Z"
   },
   {
    "duration": 0,
    "start_time": "2022-09-05T20:25:27.336Z"
   },
   {
    "duration": 0,
    "start_time": "2022-09-05T20:25:27.337Z"
   },
   {
    "duration": 0,
    "start_time": "2022-09-05T20:25:27.338Z"
   },
   {
    "duration": 0,
    "start_time": "2022-09-05T20:25:27.339Z"
   },
   {
    "duration": 0,
    "start_time": "2022-09-05T20:25:27.340Z"
   },
   {
    "duration": 0,
    "start_time": "2022-09-05T20:25:27.340Z"
   },
   {
    "duration": 0,
    "start_time": "2022-09-05T20:25:27.341Z"
   },
   {
    "duration": 0,
    "start_time": "2022-09-05T20:25:27.342Z"
   },
   {
    "duration": 0,
    "start_time": "2022-09-05T20:25:27.343Z"
   },
   {
    "duration": 0,
    "start_time": "2022-09-05T20:25:27.344Z"
   },
   {
    "duration": 0,
    "start_time": "2022-09-05T20:25:27.345Z"
   },
   {
    "duration": 0,
    "start_time": "2022-09-05T20:25:27.345Z"
   },
   {
    "duration": 0,
    "start_time": "2022-09-05T20:25:27.346Z"
   },
   {
    "duration": 33,
    "start_time": "2022-09-05T20:27:17.000Z"
   },
   {
    "duration": 220,
    "start_time": "2022-09-05T20:27:20.695Z"
   },
   {
    "duration": 32,
    "start_time": "2022-09-05T20:27:20.972Z"
   },
   {
    "duration": 8,
    "start_time": "2022-09-05T20:27:42.626Z"
   },
   {
    "duration": 11,
    "start_time": "2022-09-05T20:28:43.819Z"
   },
   {
    "duration": 11,
    "start_time": "2022-09-05T20:29:07.840Z"
   },
   {
    "duration": 11,
    "start_time": "2022-09-05T20:29:13.717Z"
   },
   {
    "duration": 14,
    "start_time": "2022-09-05T20:29:19.273Z"
   },
   {
    "duration": 17,
    "start_time": "2022-09-05T20:30:39.763Z"
   },
   {
    "duration": 5,
    "start_time": "2022-09-05T20:30:47.345Z"
   },
   {
    "duration": 6,
    "start_time": "2022-09-05T20:30:49.293Z"
   },
   {
    "duration": 14,
    "start_time": "2022-09-05T20:30:49.837Z"
   },
   {
    "duration": 4,
    "start_time": "2022-09-05T20:31:01.664Z"
   },
   {
    "duration": 17,
    "start_time": "2022-09-05T20:31:02.175Z"
   },
   {
    "duration": 4,
    "start_time": "2022-09-05T20:31:05.614Z"
   },
   {
    "duration": 19,
    "start_time": "2022-09-05T20:31:05.883Z"
   },
   {
    "duration": 4,
    "start_time": "2022-09-05T20:32:11.378Z"
   },
   {
    "duration": 13,
    "start_time": "2022-09-05T20:32:15.162Z"
   },
   {
    "duration": 7,
    "start_time": "2022-09-05T20:32:31.670Z"
   },
   {
    "duration": 7,
    "start_time": "2022-09-05T20:32:37.690Z"
   },
   {
    "duration": 162,
    "start_time": "2022-09-05T20:33:36.957Z"
   },
   {
    "duration": 8,
    "start_time": "2022-09-05T20:35:06.003Z"
   },
   {
    "duration": 210,
    "start_time": "2022-09-05T20:35:06.013Z"
   },
   {
    "duration": 9,
    "start_time": "2022-09-05T20:35:06.225Z"
   },
   {
    "duration": 195,
    "start_time": "2022-09-05T20:35:06.237Z"
   },
   {
    "duration": 232,
    "start_time": "2022-09-05T20:35:36.024Z"
   },
   {
    "duration": 60,
    "start_time": "2022-09-05T20:40:06.778Z"
   },
   {
    "duration": 9,
    "start_time": "2022-09-05T20:41:22.807Z"
   },
   {
    "duration": 348,
    "start_time": "2022-09-05T20:41:30.884Z"
   },
   {
    "duration": 280,
    "start_time": "2022-09-05T20:41:37.670Z"
   },
   {
    "duration": 7,
    "start_time": "2022-09-05T20:42:17.741Z"
   },
   {
    "duration": 10,
    "start_time": "2022-09-05T20:42:31.363Z"
   },
   {
    "duration": 10,
    "start_time": "2022-09-05T20:42:32.574Z"
   },
   {
    "duration": 10,
    "start_time": "2022-09-05T20:42:32.913Z"
   },
   {
    "duration": 203,
    "start_time": "2022-09-05T20:43:01.874Z"
   },
   {
    "duration": 195,
    "start_time": "2022-09-05T20:43:18.868Z"
   },
   {
    "duration": 245,
    "start_time": "2022-09-05T20:43:38.093Z"
   },
   {
    "duration": 10,
    "start_time": "2022-09-05T20:43:43.835Z"
   },
   {
    "duration": 209,
    "start_time": "2022-09-05T20:43:44.063Z"
   },
   {
    "duration": 73,
    "start_time": "2022-09-05T20:44:33.718Z"
   },
   {
    "duration": 82,
    "start_time": "2022-09-05T20:44:41.980Z"
   },
   {
    "duration": 11,
    "start_time": "2022-09-05T20:44:43.754Z"
   },
   {
    "duration": 82,
    "start_time": "2022-09-05T20:44:44.163Z"
   },
   {
    "duration": 216,
    "start_time": "2022-09-05T20:45:02.881Z"
   },
   {
    "duration": 8,
    "start_time": "2022-09-05T20:45:41.121Z"
   },
   {
    "duration": 333,
    "start_time": "2022-09-05T20:47:58.095Z"
   },
   {
    "duration": 206,
    "start_time": "2022-09-05T20:48:51.032Z"
   },
   {
    "duration": 202,
    "start_time": "2022-09-05T20:48:57.774Z"
   },
   {
    "duration": 260,
    "start_time": "2022-09-05T20:51:23.022Z"
   },
   {
    "duration": 181,
    "start_time": "2022-09-05T20:52:15.513Z"
   },
   {
    "duration": 7,
    "start_time": "2022-09-05T20:52:44.276Z"
   },
   {
    "duration": 252,
    "start_time": "2022-09-05T20:54:01.181Z"
   },
   {
    "duration": 253,
    "start_time": "2022-09-05T20:54:14.586Z"
   },
   {
    "duration": 339,
    "start_time": "2022-09-05T20:54:43.001Z"
   },
   {
    "duration": 242,
    "start_time": "2022-09-05T20:54:51.080Z"
   },
   {
    "duration": 173,
    "start_time": "2022-09-05T20:55:04.577Z"
   },
   {
    "duration": 109,
    "start_time": "2022-09-05T20:55:22.141Z"
   },
   {
    "duration": 21,
    "start_time": "2022-09-05T20:56:48.459Z"
   },
   {
    "duration": 12,
    "start_time": "2022-09-05T20:57:35.692Z"
   },
   {
    "duration": 22,
    "start_time": "2022-09-05T20:57:43.250Z"
   },
   {
    "duration": 10,
    "start_time": "2022-09-05T20:58:26.923Z"
   },
   {
    "duration": 7,
    "start_time": "2022-09-05T20:58:43.841Z"
   },
   {
    "duration": 9,
    "start_time": "2022-09-05T20:58:55.730Z"
   },
   {
    "duration": 9,
    "start_time": "2022-09-05T20:58:56.496Z"
   },
   {
    "duration": 25,
    "start_time": "2022-09-05T21:03:07.263Z"
   },
   {
    "duration": 132,
    "start_time": "2022-09-05T21:03:49.069Z"
   },
   {
    "duration": 10,
    "start_time": "2022-09-05T21:04:46.461Z"
   },
   {
    "duration": 9,
    "start_time": "2022-09-05T21:14:17.942Z"
   },
   {
    "duration": 85,
    "start_time": "2022-09-05T21:14:24.752Z"
   },
   {
    "duration": 8,
    "start_time": "2022-09-05T21:14:33.006Z"
   },
   {
    "duration": 71,
    "start_time": "2022-09-05T21:14:35.304Z"
   },
   {
    "duration": 10,
    "start_time": "2022-09-05T21:14:39.402Z"
   },
   {
    "duration": 65,
    "start_time": "2022-09-05T21:14:42.179Z"
   },
   {
    "duration": 9,
    "start_time": "2022-09-05T21:14:46.751Z"
   },
   {
    "duration": 9,
    "start_time": "2022-09-05T23:23:40.182Z"
   },
   {
    "duration": 24,
    "start_time": "2022-09-05T23:23:42.362Z"
   },
   {
    "duration": 10,
    "start_time": "2022-09-05T23:23:43.318Z"
   },
   {
    "duration": 9,
    "start_time": "2022-09-05T23:23:43.698Z"
   },
   {
    "duration": 12,
    "start_time": "2022-09-05T23:24:01.116Z"
   },
   {
    "duration": 10,
    "start_time": "2022-09-05T23:24:23.579Z"
   },
   {
    "duration": 8,
    "start_time": "2022-09-05T23:26:45.284Z"
   },
   {
    "duration": 75,
    "start_time": "2022-09-05T23:27:07.965Z"
   },
   {
    "duration": 71,
    "start_time": "2022-09-05T23:27:18.117Z"
   },
   {
    "duration": 8,
    "start_time": "2022-09-05T23:27:21.842Z"
   },
   {
    "duration": 8,
    "start_time": "2022-09-05T23:27:29.092Z"
   },
   {
    "duration": 7,
    "start_time": "2022-09-05T23:27:33.405Z"
   },
   {
    "duration": 7,
    "start_time": "2022-09-05T23:27:36.748Z"
   },
   {
    "duration": 24,
    "start_time": "2022-09-05T23:34:30.981Z"
   },
   {
    "duration": 24,
    "start_time": "2022-09-05T23:34:33.994Z"
   },
   {
    "duration": 23,
    "start_time": "2022-09-05T23:34:38.470Z"
   },
   {
    "duration": 236,
    "start_time": "2022-09-05T23:34:52.795Z"
   },
   {
    "duration": 133,
    "start_time": "2022-09-05T23:34:53.519Z"
   },
   {
    "duration": 108,
    "start_time": "2022-09-05T23:34:54.075Z"
   },
   {
    "duration": 166,
    "start_time": "2022-09-05T23:35:13.043Z"
   },
   {
    "duration": 101,
    "start_time": "2022-09-05T23:35:50.461Z"
   },
   {
    "duration": 136,
    "start_time": "2022-09-05T23:35:53.206Z"
   },
   {
    "duration": 201,
    "start_time": "2022-09-05T23:36:10.548Z"
   },
   {
    "duration": 126,
    "start_time": "2022-09-05T23:36:34.223Z"
   },
   {
    "duration": 7,
    "start_time": "2022-09-05T23:40:11.498Z"
   },
   {
    "duration": 9,
    "start_time": "2022-09-05T23:40:31.093Z"
   },
   {
    "duration": 488,
    "start_time": "2022-09-05T23:44:26.545Z"
   },
   {
    "duration": 210,
    "start_time": "2022-09-05T23:45:14.876Z"
   },
   {
    "duration": 601,
    "start_time": "2022-09-05T23:45:26.377Z"
   },
   {
    "duration": 405,
    "start_time": "2022-09-05T23:45:50.201Z"
   },
   {
    "duration": 97,
    "start_time": "2022-09-05T23:47:33.317Z"
   },
   {
    "duration": 72,
    "start_time": "2022-09-05T23:47:50.866Z"
   },
   {
    "duration": 19,
    "start_time": "2022-09-05T23:52:25.422Z"
   },
   {
    "duration": 137,
    "start_time": "2022-09-05T23:52:36.247Z"
   },
   {
    "duration": 8,
    "start_time": "2022-09-05T23:57:42.908Z"
   },
   {
    "duration": 22,
    "start_time": "2022-09-05T23:58:10.932Z"
   },
   {
    "duration": 22,
    "start_time": "2022-09-05T23:58:14.396Z"
   },
   {
    "duration": 119,
    "start_time": "2022-09-06T00:00:22.270Z"
   },
   {
    "duration": 71,
    "start_time": "2022-09-06T00:00:46.905Z"
   },
   {
    "duration": 80,
    "start_time": "2022-09-06T00:02:31.349Z"
   },
   {
    "duration": 1822,
    "start_time": "2022-09-06T00:02:36.731Z"
   },
   {
    "duration": 12,
    "start_time": "2022-09-06T00:02:51.199Z"
   },
   {
    "duration": 9,
    "start_time": "2022-09-06T00:03:03.804Z"
   },
   {
    "duration": 9,
    "start_time": "2022-09-06T00:06:12.203Z"
   },
   {
    "duration": 11,
    "start_time": "2022-09-06T00:06:14.035Z"
   },
   {
    "duration": 2396,
    "start_time": "2022-09-06T00:06:28.720Z"
   },
   {
    "duration": 29,
    "start_time": "2022-09-06T00:06:31.118Z"
   },
   {
    "duration": 5,
    "start_time": "2022-09-06T00:06:31.148Z"
   },
   {
    "duration": 214,
    "start_time": "2022-09-06T00:06:31.154Z"
   },
   {
    "duration": 6,
    "start_time": "2022-09-06T00:06:31.370Z"
   },
   {
    "duration": 33,
    "start_time": "2022-09-06T00:06:31.377Z"
   },
   {
    "duration": 23,
    "start_time": "2022-09-06T00:06:31.412Z"
   },
   {
    "duration": 22,
    "start_time": "2022-09-06T00:06:31.437Z"
   },
   {
    "duration": 183,
    "start_time": "2022-09-06T00:06:31.460Z"
   },
   {
    "duration": 6,
    "start_time": "2022-09-06T00:06:31.644Z"
   },
   {
    "duration": 181,
    "start_time": "2022-09-06T00:06:31.652Z"
   },
   {
    "duration": 73,
    "start_time": "2022-09-06T00:06:31.834Z"
   },
   {
    "duration": 0,
    "start_time": "2022-09-06T00:06:31.909Z"
   },
   {
    "duration": 0,
    "start_time": "2022-09-06T00:06:31.910Z"
   },
   {
    "duration": 0,
    "start_time": "2022-09-06T00:06:31.911Z"
   },
   {
    "duration": 0,
    "start_time": "2022-09-06T00:06:31.912Z"
   },
   {
    "duration": 0,
    "start_time": "2022-09-06T00:06:31.912Z"
   },
   {
    "duration": 0,
    "start_time": "2022-09-06T00:06:31.913Z"
   },
   {
    "duration": 0,
    "start_time": "2022-09-06T00:06:31.914Z"
   },
   {
    "duration": 0,
    "start_time": "2022-09-06T00:06:31.915Z"
   },
   {
    "duration": 0,
    "start_time": "2022-09-06T00:06:31.916Z"
   },
   {
    "duration": 0,
    "start_time": "2022-09-06T00:06:31.917Z"
   },
   {
    "duration": 0,
    "start_time": "2022-09-06T00:06:31.918Z"
   },
   {
    "duration": 0,
    "start_time": "2022-09-06T00:06:31.919Z"
   },
   {
    "duration": 0,
    "start_time": "2022-09-06T00:06:31.920Z"
   },
   {
    "duration": 0,
    "start_time": "2022-09-06T00:06:31.921Z"
   },
   {
    "duration": 0,
    "start_time": "2022-09-06T00:06:31.922Z"
   },
   {
    "duration": 0,
    "start_time": "2022-09-06T00:06:31.923Z"
   },
   {
    "duration": 0,
    "start_time": "2022-09-06T00:06:31.924Z"
   },
   {
    "duration": 0,
    "start_time": "2022-09-06T00:06:31.924Z"
   },
   {
    "duration": 0,
    "start_time": "2022-09-06T00:06:31.925Z"
   },
   {
    "duration": 0,
    "start_time": "2022-09-06T00:06:31.926Z"
   },
   {
    "duration": 0,
    "start_time": "2022-09-06T00:06:31.927Z"
   },
   {
    "duration": 0,
    "start_time": "2022-09-06T00:06:31.928Z"
   },
   {
    "duration": 0,
    "start_time": "2022-09-06T00:06:31.929Z"
   },
   {
    "duration": 0,
    "start_time": "2022-09-06T00:06:31.929Z"
   },
   {
    "duration": 0,
    "start_time": "2022-09-06T00:06:31.930Z"
   },
   {
    "duration": 2591,
    "start_time": "2022-09-06T00:06:53.397Z"
   },
   {
    "duration": 41,
    "start_time": "2022-09-06T00:06:55.990Z"
   },
   {
    "duration": 4,
    "start_time": "2022-09-06T00:06:56.033Z"
   },
   {
    "duration": 228,
    "start_time": "2022-09-06T00:06:56.039Z"
   },
   {
    "duration": 5,
    "start_time": "2022-09-06T00:06:56.269Z"
   },
   {
    "duration": 8,
    "start_time": "2022-09-06T00:06:56.275Z"
   },
   {
    "duration": 8,
    "start_time": "2022-09-06T00:06:56.284Z"
   },
   {
    "duration": 5,
    "start_time": "2022-09-06T00:06:56.306Z"
   },
   {
    "duration": 164,
    "start_time": "2022-09-06T00:06:56.313Z"
   },
   {
    "duration": 8,
    "start_time": "2022-09-06T00:06:56.478Z"
   },
   {
    "duration": 189,
    "start_time": "2022-09-06T00:06:56.488Z"
   },
   {
    "duration": 74,
    "start_time": "2022-09-06T00:06:56.678Z"
   },
   {
    "duration": 0,
    "start_time": "2022-09-06T00:06:56.754Z"
   },
   {
    "duration": 0,
    "start_time": "2022-09-06T00:06:56.755Z"
   },
   {
    "duration": 0,
    "start_time": "2022-09-06T00:06:56.756Z"
   },
   {
    "duration": 0,
    "start_time": "2022-09-06T00:06:56.757Z"
   },
   {
    "duration": 0,
    "start_time": "2022-09-06T00:06:56.758Z"
   },
   {
    "duration": 0,
    "start_time": "2022-09-06T00:06:56.759Z"
   },
   {
    "duration": 0,
    "start_time": "2022-09-06T00:06:56.760Z"
   },
   {
    "duration": 0,
    "start_time": "2022-09-06T00:06:56.760Z"
   },
   {
    "duration": 0,
    "start_time": "2022-09-06T00:06:56.762Z"
   },
   {
    "duration": 0,
    "start_time": "2022-09-06T00:06:56.762Z"
   },
   {
    "duration": 0,
    "start_time": "2022-09-06T00:06:56.763Z"
   },
   {
    "duration": 0,
    "start_time": "2022-09-06T00:06:56.764Z"
   },
   {
    "duration": 0,
    "start_time": "2022-09-06T00:06:56.765Z"
   },
   {
    "duration": 0,
    "start_time": "2022-09-06T00:06:56.766Z"
   },
   {
    "duration": 0,
    "start_time": "2022-09-06T00:06:56.766Z"
   },
   {
    "duration": 0,
    "start_time": "2022-09-06T00:06:56.767Z"
   },
   {
    "duration": 0,
    "start_time": "2022-09-06T00:06:56.768Z"
   },
   {
    "duration": 0,
    "start_time": "2022-09-06T00:06:56.769Z"
   },
   {
    "duration": 0,
    "start_time": "2022-09-06T00:06:56.770Z"
   },
   {
    "duration": 0,
    "start_time": "2022-09-06T00:06:56.771Z"
   },
   {
    "duration": 0,
    "start_time": "2022-09-06T00:06:56.772Z"
   },
   {
    "duration": 0,
    "start_time": "2022-09-06T00:06:56.772Z"
   },
   {
    "duration": 0,
    "start_time": "2022-09-06T00:06:56.773Z"
   },
   {
    "duration": 0,
    "start_time": "2022-09-06T00:06:56.774Z"
   },
   {
    "duration": 0,
    "start_time": "2022-09-06T00:06:56.775Z"
   },
   {
    "duration": 17,
    "start_time": "2022-09-06T00:07:03.616Z"
   },
   {
    "duration": 12,
    "start_time": "2022-09-06T00:07:39.872Z"
   },
   {
    "duration": 7,
    "start_time": "2022-09-06T00:07:47.223Z"
   },
   {
    "duration": 7,
    "start_time": "2022-09-06T00:07:49.903Z"
   },
   {
    "duration": 246,
    "start_time": "2022-09-06T00:07:50.899Z"
   },
   {
    "duration": 379,
    "start_time": "2022-09-06T00:07:55.837Z"
   },
   {
    "duration": 7,
    "start_time": "2022-09-06T00:07:58.015Z"
   },
   {
    "duration": 11,
    "start_time": "2022-09-06T00:08:01.641Z"
   },
   {
    "duration": 10,
    "start_time": "2022-09-06T00:08:02.495Z"
   },
   {
    "duration": 10,
    "start_time": "2022-09-06T00:08:02.889Z"
   },
   {
    "duration": 201,
    "start_time": "2022-09-06T00:08:03.563Z"
   },
   {
    "duration": 8,
    "start_time": "2022-09-06T00:08:05.260Z"
   },
   {
    "duration": 269,
    "start_time": "2022-09-06T00:08:06.878Z"
   },
   {
    "duration": 260,
    "start_time": "2022-09-06T00:08:07.814Z"
   },
   {
    "duration": 238,
    "start_time": "2022-09-06T00:08:08.654Z"
   },
   {
    "duration": 150,
    "start_time": "2022-09-06T00:08:09.356Z"
   },
   {
    "duration": 97,
    "start_time": "2022-09-06T00:08:09.765Z"
   },
   {
    "duration": 513,
    "start_time": "2022-09-06T00:08:10.225Z"
   },
   {
    "duration": 201,
    "start_time": "2022-09-06T00:08:11.460Z"
   },
   {
    "duration": 130,
    "start_time": "2022-09-06T00:08:11.965Z"
   },
   {
    "duration": 99,
    "start_time": "2022-09-06T00:08:13.487Z"
   },
   {
    "duration": 21,
    "start_time": "2022-09-06T00:08:15.357Z"
   },
   {
    "duration": 7,
    "start_time": "2022-09-06T00:08:17.469Z"
   },
   {
    "duration": 7,
    "start_time": "2022-09-06T00:08:17.946Z"
   },
   {
    "duration": 129,
    "start_time": "2022-09-06T00:08:20.328Z"
   },
   {
    "duration": 45,
    "start_time": "2022-09-06T00:08:30.056Z"
   },
   {
    "duration": 13,
    "start_time": "2022-09-06T00:08:33.256Z"
   },
   {
    "duration": 15,
    "start_time": "2022-09-06T00:08:38.804Z"
   },
   {
    "duration": 12,
    "start_time": "2022-09-06T00:08:41.008Z"
   },
   {
    "duration": 12,
    "start_time": "2022-09-06T00:08:50.701Z"
   },
   {
    "duration": 7,
    "start_time": "2022-09-06T00:08:57.954Z"
   },
   {
    "duration": 13,
    "start_time": "2022-09-06T00:09:07.737Z"
   },
   {
    "duration": 13,
    "start_time": "2022-09-06T00:09:25.467Z"
   },
   {
    "duration": 11,
    "start_time": "2022-09-06T00:09:37.190Z"
   },
   {
    "duration": 12,
    "start_time": "2022-09-06T00:09:39.446Z"
   },
   {
    "duration": 1779,
    "start_time": "2022-09-06T00:09:45.920Z"
   },
   {
    "duration": 27,
    "start_time": "2022-09-06T00:09:51.912Z"
   },
   {
    "duration": 4,
    "start_time": "2022-09-06T00:09:53.155Z"
   },
   {
    "duration": 196,
    "start_time": "2022-09-06T00:09:53.732Z"
   },
   {
    "duration": 5,
    "start_time": "2022-09-06T00:09:54.508Z"
   },
   {
    "duration": 8,
    "start_time": "2022-09-06T00:09:55.437Z"
   },
   {
    "duration": 8,
    "start_time": "2022-09-06T00:09:55.852Z"
   },
   {
    "duration": 7,
    "start_time": "2022-09-06T00:09:56.214Z"
   },
   {
    "duration": 148,
    "start_time": "2022-09-06T00:09:56.730Z"
   },
   {
    "duration": 6,
    "start_time": "2022-09-06T00:09:57.170Z"
   },
   {
    "duration": 159,
    "start_time": "2022-09-06T00:09:58.281Z"
   },
   {
    "duration": 11,
    "start_time": "2022-09-06T00:09:59.606Z"
   },
   {
    "duration": 13,
    "start_time": "2022-09-06T00:10:00.506Z"
   },
   {
    "duration": 1761,
    "start_time": "2022-09-06T00:11:46.672Z"
   },
   {
    "duration": 1741,
    "start_time": "2022-09-06T00:11:57.841Z"
   },
   {
    "duration": 2385,
    "start_time": "2022-09-06T00:12:03.183Z"
   },
   {
    "duration": 30,
    "start_time": "2022-09-06T00:12:05.570Z"
   },
   {
    "duration": 3,
    "start_time": "2022-09-06T00:12:05.603Z"
   },
   {
    "duration": 203,
    "start_time": "2022-09-06T00:12:05.608Z"
   },
   {
    "duration": 5,
    "start_time": "2022-09-06T00:12:05.813Z"
   },
   {
    "duration": 7,
    "start_time": "2022-09-06T00:12:05.819Z"
   },
   {
    "duration": 8,
    "start_time": "2022-09-06T00:12:05.827Z"
   },
   {
    "duration": 7,
    "start_time": "2022-09-06T00:12:05.836Z"
   },
   {
    "duration": 191,
    "start_time": "2022-09-06T00:12:05.845Z"
   },
   {
    "duration": 10,
    "start_time": "2022-09-06T00:12:06.038Z"
   },
   {
    "duration": 184,
    "start_time": "2022-09-06T00:12:06.050Z"
   },
   {
    "duration": 82,
    "start_time": "2022-09-06T00:12:06.236Z"
   },
   {
    "duration": 0,
    "start_time": "2022-09-06T00:12:06.321Z"
   },
   {
    "duration": 0,
    "start_time": "2022-09-06T00:12:06.323Z"
   },
   {
    "duration": 0,
    "start_time": "2022-09-06T00:12:06.324Z"
   },
   {
    "duration": 0,
    "start_time": "2022-09-06T00:12:06.325Z"
   },
   {
    "duration": 0,
    "start_time": "2022-09-06T00:12:06.326Z"
   },
   {
    "duration": 0,
    "start_time": "2022-09-06T00:12:06.328Z"
   },
   {
    "duration": 0,
    "start_time": "2022-09-06T00:12:06.329Z"
   },
   {
    "duration": 0,
    "start_time": "2022-09-06T00:12:06.330Z"
   },
   {
    "duration": 0,
    "start_time": "2022-09-06T00:12:06.332Z"
   },
   {
    "duration": 0,
    "start_time": "2022-09-06T00:12:06.334Z"
   },
   {
    "duration": 0,
    "start_time": "2022-09-06T00:12:06.335Z"
   },
   {
    "duration": 0,
    "start_time": "2022-09-06T00:12:06.336Z"
   },
   {
    "duration": 0,
    "start_time": "2022-09-06T00:12:06.338Z"
   },
   {
    "duration": 0,
    "start_time": "2022-09-06T00:12:06.339Z"
   },
   {
    "duration": 0,
    "start_time": "2022-09-06T00:12:06.340Z"
   },
   {
    "duration": 0,
    "start_time": "2022-09-06T00:12:06.342Z"
   },
   {
    "duration": 0,
    "start_time": "2022-09-06T00:12:06.343Z"
   },
   {
    "duration": 0,
    "start_time": "2022-09-06T00:12:06.344Z"
   },
   {
    "duration": 0,
    "start_time": "2022-09-06T00:12:06.345Z"
   },
   {
    "duration": 0,
    "start_time": "2022-09-06T00:12:06.345Z"
   },
   {
    "duration": 0,
    "start_time": "2022-09-06T00:12:06.347Z"
   },
   {
    "duration": 0,
    "start_time": "2022-09-06T00:12:06.348Z"
   },
   {
    "duration": 0,
    "start_time": "2022-09-06T00:12:06.349Z"
   },
   {
    "duration": 0,
    "start_time": "2022-09-06T00:12:06.349Z"
   },
   {
    "duration": 0,
    "start_time": "2022-09-06T00:12:06.350Z"
   },
   {
    "duration": 19,
    "start_time": "2022-09-06T00:12:13.512Z"
   },
   {
    "duration": 7,
    "start_time": "2022-09-06T00:12:17.634Z"
   },
   {
    "duration": 10,
    "start_time": "2022-09-06T00:12:20.224Z"
   },
   {
    "duration": 6,
    "start_time": "2022-09-06T00:12:21.026Z"
   },
   {
    "duration": 6,
    "start_time": "2022-09-06T00:12:21.504Z"
   },
   {
    "duration": 4,
    "start_time": "2022-09-06T00:12:48.342Z"
   },
   {
    "duration": 177,
    "start_time": "2022-09-06T00:12:50.162Z"
   },
   {
    "duration": 5,
    "start_time": "2022-09-06T00:12:56.217Z"
   },
   {
    "duration": 6,
    "start_time": "2022-09-06T00:12:56.659Z"
   },
   {
    "duration": 8,
    "start_time": "2022-09-06T00:12:57.123Z"
   },
   {
    "duration": 6,
    "start_time": "2022-09-06T00:12:57.529Z"
   },
   {
    "duration": 144,
    "start_time": "2022-09-06T00:12:58.163Z"
   },
   {
    "duration": 6,
    "start_time": "2022-09-06T00:12:58.895Z"
   },
   {
    "duration": 156,
    "start_time": "2022-09-06T00:13:18.603Z"
   },
   {
    "duration": 11,
    "start_time": "2022-09-06T00:13:20.729Z"
   },
   {
    "duration": 12,
    "start_time": "2022-09-06T00:13:23.516Z"
   },
   {
    "duration": 44,
    "start_time": "2022-09-06T00:13:26.324Z"
   },
   {
    "duration": 8,
    "start_time": "2022-09-06T00:13:29.425Z"
   },
   {
    "duration": 7,
    "start_time": "2022-09-06T00:13:30.401Z"
   },
   {
    "duration": 343,
    "start_time": "2022-09-06T00:13:30.586Z"
   },
   {
    "duration": 246,
    "start_time": "2022-09-06T00:13:31.266Z"
   },
   {
    "duration": 8,
    "start_time": "2022-09-06T00:13:31.779Z"
   },
   {
    "duration": 11,
    "start_time": "2022-09-06T00:13:32.048Z"
   },
   {
    "duration": 10,
    "start_time": "2022-09-06T00:13:32.209Z"
   },
   {
    "duration": 10,
    "start_time": "2022-09-06T00:13:32.401Z"
   },
   {
    "duration": 201,
    "start_time": "2022-09-06T00:13:32.681Z"
   },
   {
    "duration": 8,
    "start_time": "2022-09-06T00:13:33.067Z"
   },
   {
    "duration": 246,
    "start_time": "2022-09-06T00:13:33.672Z"
   },
   {
    "duration": 249,
    "start_time": "2022-09-06T00:13:33.920Z"
   },
   {
    "duration": 247,
    "start_time": "2022-09-06T00:13:34.170Z"
   },
   {
    "duration": 151,
    "start_time": "2022-09-06T00:13:34.539Z"
   },
   {
    "duration": 180,
    "start_time": "2022-09-06T00:13:35.817Z"
   },
   {
    "duration": 455,
    "start_time": "2022-09-06T00:13:36.005Z"
   },
   {
    "duration": 246,
    "start_time": "2022-09-06T00:13:36.462Z"
   },
   {
    "duration": 144,
    "start_time": "2022-09-06T00:13:36.803Z"
   },
   {
    "duration": 100,
    "start_time": "2022-09-06T00:13:37.210Z"
   },
   {
    "duration": 24,
    "start_time": "2022-09-06T00:13:38.286Z"
   },
   {
    "duration": 7,
    "start_time": "2022-09-06T00:13:41.670Z"
   },
   {
    "duration": 8,
    "start_time": "2022-09-06T00:13:42.750Z"
   },
   {
    "duration": 132,
    "start_time": "2022-09-06T00:13:46.764Z"
   },
   {
    "duration": 10,
    "start_time": "2022-09-06T00:14:29.088Z"
   },
   {
    "duration": 206,
    "start_time": "2022-09-06T00:15:44.233Z"
   },
   {
    "duration": 203,
    "start_time": "2022-09-06T00:15:51.167Z"
   },
   {
    "duration": 8,
    "start_time": "2022-09-06T00:16:34.892Z"
   },
   {
    "duration": 9,
    "start_time": "2022-09-06T00:17:01.124Z"
   },
   {
    "duration": 14,
    "start_time": "2022-09-06T00:17:32.921Z"
   },
   {
    "duration": 11,
    "start_time": "2022-09-06T00:19:18.750Z"
   },
   {
    "duration": 205,
    "start_time": "2022-09-06T00:19:20.604Z"
   },
   {
    "duration": 12,
    "start_time": "2022-09-06T00:19:22.491Z"
   },
   {
    "duration": 14,
    "start_time": "2022-09-06T00:19:24.316Z"
   },
   {
    "duration": 8,
    "start_time": "2022-09-06T00:20:39.766Z"
   },
   {
    "duration": 3,
    "start_time": "2022-09-06T00:20:57.514Z"
   },
   {
    "duration": 11,
    "start_time": "2022-09-06T00:21:06.713Z"
   },
   {
    "duration": 217,
    "start_time": "2022-09-06T00:21:10.075Z"
   },
   {
    "duration": 10,
    "start_time": "2022-09-06T00:21:21.951Z"
   },
   {
    "duration": 11,
    "start_time": "2022-09-06T00:21:26.214Z"
   },
   {
    "duration": 13,
    "start_time": "2022-09-06T00:21:27.877Z"
   },
   {
    "duration": 12,
    "start_time": "2022-09-06T00:21:34.773Z"
   },
   {
    "duration": 11,
    "start_time": "2022-09-06T00:21:37.652Z"
   },
   {
    "duration": 14,
    "start_time": "2022-09-06T00:22:07.086Z"
   },
   {
    "duration": 203,
    "start_time": "2022-09-06T00:22:09.148Z"
   },
   {
    "duration": 14,
    "start_time": "2022-09-06T00:22:10.202Z"
   },
   {
    "duration": 13,
    "start_time": "2022-09-06T00:22:20.510Z"
   },
   {
    "duration": 12,
    "start_time": "2022-09-06T00:22:23.669Z"
   },
   {
    "duration": 13,
    "start_time": "2022-09-06T00:22:28.947Z"
   },
   {
    "duration": 12,
    "start_time": "2022-09-06T00:22:30.313Z"
   },
   {
    "duration": 12,
    "start_time": "2022-09-06T00:23:23.488Z"
   },
   {
    "duration": 204,
    "start_time": "2022-09-06T00:23:25.754Z"
   },
   {
    "duration": 12,
    "start_time": "2022-09-06T00:23:26.160Z"
   },
   {
    "duration": 13,
    "start_time": "2022-09-06T00:24:12.793Z"
   },
   {
    "duration": 218,
    "start_time": "2022-09-06T00:24:15.923Z"
   },
   {
    "duration": 14,
    "start_time": "2022-09-06T00:24:16.417Z"
   },
   {
    "duration": 15,
    "start_time": "2022-09-06T00:24:17.697Z"
   },
   {
    "duration": 13,
    "start_time": "2022-09-06T00:24:22.398Z"
   },
   {
    "duration": 12,
    "start_time": "2022-09-06T00:24:28.926Z"
   },
   {
    "duration": 5,
    "start_time": "2022-09-06T00:25:29.263Z"
   },
   {
    "duration": 14,
    "start_time": "2022-09-06T00:25:31.203Z"
   },
   {
    "duration": 200,
    "start_time": "2022-09-06T00:25:37.361Z"
   },
   {
    "duration": 5,
    "start_time": "2022-09-06T00:25:38.650Z"
   },
   {
    "duration": 15,
    "start_time": "2022-09-06T00:25:39.379Z"
   },
   {
    "duration": 11,
    "start_time": "2022-09-06T00:25:50.652Z"
   },
   {
    "duration": 14,
    "start_time": "2022-09-06T00:25:53.515Z"
   },
   {
    "duration": 5,
    "start_time": "2022-09-06T00:26:02.310Z"
   },
   {
    "duration": 13,
    "start_time": "2022-09-06T00:26:03.033Z"
   },
   {
    "duration": 4,
    "start_time": "2022-09-06T00:26:12.597Z"
   },
   {
    "duration": 13,
    "start_time": "2022-09-06T00:26:13.796Z"
   },
   {
    "duration": 3,
    "start_time": "2022-09-06T00:26:17.795Z"
   },
   {
    "duration": 13,
    "start_time": "2022-09-06T00:26:18.180Z"
   },
   {
    "duration": 136,
    "start_time": "2022-09-06T00:30:19.384Z"
   },
   {
    "duration": 143,
    "start_time": "2022-09-06T00:30:56.115Z"
   },
   {
    "duration": 188,
    "start_time": "2022-09-06T00:31:01.754Z"
   },
   {
    "duration": 141,
    "start_time": "2022-09-06T00:31:11.574Z"
   },
   {
    "duration": 131,
    "start_time": "2022-09-06T00:32:51.058Z"
   },
   {
    "duration": 135,
    "start_time": "2022-09-06T00:33:42.569Z"
   },
   {
    "duration": 151,
    "start_time": "2022-09-06T00:49:36.504Z"
   },
   {
    "duration": 432,
    "start_time": "2022-09-06T00:52:08.546Z"
   },
   {
    "duration": 6,
    "start_time": "2022-09-06T01:08:24.936Z"
   },
   {
    "duration": 34,
    "start_time": "2022-09-06T01:09:23.241Z"
   },
   {
    "duration": 10,
    "start_time": "2022-09-06T01:09:30.003Z"
   },
   {
    "duration": 13,
    "start_time": "2022-09-06T01:09:47.451Z"
   },
   {
    "duration": 9,
    "start_time": "2022-09-06T01:10:10.791Z"
   },
   {
    "duration": 12,
    "start_time": "2022-09-06T01:10:20.500Z"
   },
   {
    "duration": 84,
    "start_time": "2022-09-06T01:11:41.920Z"
   },
   {
    "duration": 9,
    "start_time": "2022-09-06T01:11:45.567Z"
   },
   {
    "duration": 7,
    "start_time": "2022-09-06T01:11:48.388Z"
   },
   {
    "duration": 8,
    "start_time": "2022-09-06T01:11:55.550Z"
   },
   {
    "duration": 7,
    "start_time": "2022-09-06T01:11:59.868Z"
   },
   {
    "duration": 7,
    "start_time": "2022-09-06T01:12:01.330Z"
   },
   {
    "duration": 7,
    "start_time": "2022-09-06T01:12:04.252Z"
   },
   {
    "duration": 8,
    "start_time": "2022-09-06T01:12:08.510Z"
   },
   {
    "duration": 6,
    "start_time": "2022-09-06T01:12:10.197Z"
   },
   {
    "duration": 8,
    "start_time": "2022-09-06T01:12:10.460Z"
   },
   {
    "duration": 7,
    "start_time": "2022-09-06T01:12:14.587Z"
   },
   {
    "duration": 7,
    "start_time": "2022-09-06T01:12:20.777Z"
   },
   {
    "duration": 7,
    "start_time": "2022-09-06T01:12:22.225Z"
   },
   {
    "duration": 6,
    "start_time": "2022-09-06T01:12:23.437Z"
   },
   {
    "duration": 8,
    "start_time": "2022-09-06T01:12:26.827Z"
   },
   {
    "duration": 6,
    "start_time": "2022-09-06T01:12:42.143Z"
   },
   {
    "duration": 5,
    "start_time": "2022-09-06T01:12:48.394Z"
   },
   {
    "duration": 5,
    "start_time": "2022-09-06T01:12:49.194Z"
   },
   {
    "duration": 6,
    "start_time": "2022-09-06T01:12:49.665Z"
   },
   {
    "duration": 8,
    "start_time": "2022-09-06T01:12:50.199Z"
   },
   {
    "duration": 8,
    "start_time": "2022-09-06T01:13:04.022Z"
   },
   {
    "duration": 7,
    "start_time": "2022-09-06T01:13:06.071Z"
   },
   {
    "duration": 7,
    "start_time": "2022-09-06T01:13:06.576Z"
   },
   {
    "duration": 6,
    "start_time": "2022-09-06T01:13:06.810Z"
   },
   {
    "duration": 8,
    "start_time": "2022-09-06T01:13:06.996Z"
   },
   {
    "duration": 2453,
    "start_time": "2022-09-06T01:13:18.699Z"
   },
   {
    "duration": 31,
    "start_time": "2022-09-06T01:13:21.154Z"
   },
   {
    "duration": 4,
    "start_time": "2022-09-06T01:13:21.186Z"
   },
   {
    "duration": 187,
    "start_time": "2022-09-06T01:13:21.191Z"
   },
   {
    "duration": 5,
    "start_time": "2022-09-06T01:13:21.381Z"
   },
   {
    "duration": 19,
    "start_time": "2022-09-06T01:13:21.387Z"
   },
   {
    "duration": 8,
    "start_time": "2022-09-06T01:13:21.408Z"
   },
   {
    "duration": 13,
    "start_time": "2022-09-06T01:13:21.417Z"
   },
   {
    "duration": 164,
    "start_time": "2022-09-06T01:13:21.431Z"
   },
   {
    "duration": 9,
    "start_time": "2022-09-06T01:13:21.597Z"
   },
   {
    "duration": 217,
    "start_time": "2022-09-06T01:13:21.607Z"
   },
   {
    "duration": 3,
    "start_time": "2022-09-06T01:13:21.826Z"
   },
   {
    "duration": 14,
    "start_time": "2022-09-06T01:13:21.831Z"
   },
   {
    "duration": 45,
    "start_time": "2022-09-06T01:13:21.848Z"
   },
   {
    "duration": 7,
    "start_time": "2022-09-06T01:13:21.906Z"
   },
   {
    "duration": 9,
    "start_time": "2022-09-06T01:13:21.915Z"
   },
   {
    "duration": 7,
    "start_time": "2022-09-06T01:13:21.926Z"
   },
   {
    "duration": 9,
    "start_time": "2022-09-06T01:13:21.934Z"
   },
   {
    "duration": 273,
    "start_time": "2022-09-06T01:13:21.945Z"
   },
   {
    "duration": 279,
    "start_time": "2022-09-06T01:13:22.220Z"
   },
   {
    "duration": 8,
    "start_time": "2022-09-06T01:13:22.501Z"
   },
   {
    "duration": 7,
    "start_time": "2022-09-06T01:13:22.511Z"
   },
   {
    "duration": 7,
    "start_time": "2022-09-06T01:13:22.519Z"
   },
   {
    "duration": 12,
    "start_time": "2022-09-06T01:13:22.528Z"
   },
   {
    "duration": 117,
    "start_time": "2022-09-06T01:13:22.542Z"
   },
   {
    "duration": 9,
    "start_time": "2022-09-06T01:13:22.661Z"
   },
   {
    "duration": 244,
    "start_time": "2022-09-06T01:13:22.672Z"
   },
   {
    "duration": 247,
    "start_time": "2022-09-06T01:13:22.917Z"
   },
   {
    "duration": 238,
    "start_time": "2022-09-06T01:13:23.165Z"
   },
   {
    "duration": 152,
    "start_time": "2022-09-06T01:13:23.406Z"
   },
   {
    "duration": 100,
    "start_time": "2022-09-06T01:13:23.559Z"
   },
   {
    "duration": 405,
    "start_time": "2022-09-06T01:13:23.661Z"
   },
   {
    "duration": 176,
    "start_time": "2022-09-06T01:13:24.067Z"
   },
   {
    "duration": 135,
    "start_time": "2022-09-06T01:13:24.245Z"
   },
   {
    "duration": 103,
    "start_time": "2022-09-06T01:13:24.382Z"
   },
   {
    "duration": 138,
    "start_time": "2022-09-06T01:13:24.487Z"
   },
   {
    "duration": 114,
    "start_time": "2022-09-06T01:13:24.627Z"
   },
   {
    "duration": 145,
    "start_time": "2022-09-06T01:13:24.743Z"
   },
   {
    "duration": 24,
    "start_time": "2022-09-06T01:13:24.889Z"
   },
   {
    "duration": 10,
    "start_time": "2022-09-06T01:13:24.914Z"
   },
   {
    "duration": 18,
    "start_time": "2022-09-06T01:13:24.927Z"
   },
   {
    "duration": 136,
    "start_time": "2022-09-06T01:13:24.946Z"
   },
   {
    "duration": 8,
    "start_time": "2022-09-06T01:14:21.277Z"
   },
   {
    "duration": 132,
    "start_time": "2022-09-06T01:14:26.837Z"
   },
   {
    "duration": 7,
    "start_time": "2022-09-06T01:14:28.665Z"
   },
   {
    "duration": 77,
    "start_time": "2022-09-06T01:14:29.269Z"
   },
   {
    "duration": 77,
    "start_time": "2022-09-06T01:14:38.405Z"
   },
   {
    "duration": 7,
    "start_time": "2022-09-06T01:14:40.006Z"
   },
   {
    "duration": 90,
    "start_time": "2022-09-06T01:14:40.271Z"
   },
   {
    "duration": 9,
    "start_time": "2022-09-06T01:14:45.151Z"
   },
   {
    "duration": 6,
    "start_time": "2022-09-06T01:14:47.217Z"
   },
   {
    "duration": 8,
    "start_time": "2022-09-06T01:14:47.659Z"
   },
   {
    "duration": 267,
    "start_time": "2022-09-06T01:14:49.520Z"
   },
   {
    "duration": 352,
    "start_time": "2022-09-06T01:14:54.690Z"
   },
   {
    "duration": 6,
    "start_time": "2022-09-06T01:14:57.474Z"
   },
   {
    "duration": 270,
    "start_time": "2022-09-06T01:15:06.980Z"
   },
   {
    "duration": 277,
    "start_time": "2022-09-06T01:15:08.172Z"
   },
   {
    "duration": 2358,
    "start_time": "2022-09-06T01:15:13.526Z"
   },
   {
    "duration": 29,
    "start_time": "2022-09-06T01:15:15.887Z"
   },
   {
    "duration": 4,
    "start_time": "2022-09-06T01:15:15.918Z"
   },
   {
    "duration": 218,
    "start_time": "2022-09-06T01:15:15.923Z"
   },
   {
    "duration": 5,
    "start_time": "2022-09-06T01:15:16.143Z"
   },
   {
    "duration": 10,
    "start_time": "2022-09-06T01:15:16.149Z"
   },
   {
    "duration": 8,
    "start_time": "2022-09-06T01:15:16.160Z"
   },
   {
    "duration": 8,
    "start_time": "2022-09-06T01:15:16.169Z"
   },
   {
    "duration": 169,
    "start_time": "2022-09-06T01:15:16.178Z"
   },
   {
    "duration": 5,
    "start_time": "2022-09-06T01:15:16.349Z"
   },
   {
    "duration": 222,
    "start_time": "2022-09-06T01:15:16.356Z"
   },
   {
    "duration": 4,
    "start_time": "2022-09-06T01:15:16.580Z"
   },
   {
    "duration": 21,
    "start_time": "2022-09-06T01:15:16.585Z"
   },
   {
    "duration": 45,
    "start_time": "2022-09-06T01:15:16.609Z"
   },
   {
    "duration": 7,
    "start_time": "2022-09-06T01:15:16.656Z"
   },
   {
    "duration": 8,
    "start_time": "2022-09-06T01:15:16.664Z"
   },
   {
    "duration": 7,
    "start_time": "2022-09-06T01:15:16.674Z"
   },
   {
    "duration": 251,
    "start_time": "2022-09-06T01:15:16.706Z"
   },
   {
    "duration": 259,
    "start_time": "2022-09-06T01:15:16.959Z"
   },
   {
    "duration": 6,
    "start_time": "2022-09-06T01:15:17.220Z"
   },
   {
    "duration": 10,
    "start_time": "2022-09-06T01:15:17.227Z"
   },
   {
    "duration": 9,
    "start_time": "2022-09-06T01:15:17.238Z"
   },
   {
    "duration": 16,
    "start_time": "2022-09-06T01:15:17.248Z"
   },
   {
    "duration": 303,
    "start_time": "2022-09-06T01:15:17.266Z"
   },
   {
    "duration": 7,
    "start_time": "2022-09-06T01:15:17.570Z"
   },
   {
    "duration": 246,
    "start_time": "2022-09-06T01:15:17.579Z"
   },
   {
    "duration": 235,
    "start_time": "2022-09-06T01:15:17.826Z"
   },
   {
    "duration": 247,
    "start_time": "2022-09-06T01:15:18.062Z"
   },
   {
    "duration": 154,
    "start_time": "2022-09-06T01:15:18.311Z"
   },
   {
    "duration": 113,
    "start_time": "2022-09-06T01:15:18.467Z"
   },
   {
    "duration": 423,
    "start_time": "2022-09-06T01:15:18.582Z"
   },
   {
    "duration": 293,
    "start_time": "2022-09-06T01:15:19.006Z"
   },
   {
    "duration": 147,
    "start_time": "2022-09-06T01:15:19.301Z"
   },
   {
    "duration": 136,
    "start_time": "2022-09-06T01:15:19.449Z"
   },
   {
    "duration": 145,
    "start_time": "2022-09-06T01:15:19.586Z"
   },
   {
    "duration": 120,
    "start_time": "2022-09-06T01:15:19.732Z"
   },
   {
    "duration": 152,
    "start_time": "2022-09-06T01:15:19.854Z"
   },
   {
    "duration": 21,
    "start_time": "2022-09-06T01:15:20.008Z"
   },
   {
    "duration": 7,
    "start_time": "2022-09-06T01:15:20.030Z"
   },
   {
    "duration": 9,
    "start_time": "2022-09-06T01:15:20.038Z"
   },
   {
    "duration": 157,
    "start_time": "2022-09-06T01:15:20.050Z"
   },
   {
    "duration": 1495,
    "start_time": "2022-09-06T01:16:31.015Z"
   },
   {
    "duration": 1264,
    "start_time": "2022-09-06T01:16:41.371Z"
   },
   {
    "duration": 1293,
    "start_time": "2022-09-06T01:17:14.805Z"
   },
   {
    "duration": 9,
    "start_time": "2022-09-06T01:21:26.064Z"
   },
   {
    "duration": 5,
    "start_time": "2022-09-06T01:23:26.621Z"
   },
   {
    "duration": 11,
    "start_time": "2022-09-06T01:24:31.828Z"
   },
   {
    "duration": 9,
    "start_time": "2022-09-06T01:24:42.041Z"
   },
   {
    "duration": 12,
    "start_time": "2022-09-06T01:24:55.553Z"
   },
   {
    "duration": 12,
    "start_time": "2022-09-06T01:25:12.419Z"
   },
   {
    "duration": 7,
    "start_time": "2022-09-06T01:25:19.007Z"
   },
   {
    "duration": 11,
    "start_time": "2022-09-06T01:25:19.713Z"
   },
   {
    "duration": 10,
    "start_time": "2022-09-06T01:25:20.342Z"
   },
   {
    "duration": 10,
    "start_time": "2022-09-06T01:25:20.608Z"
   },
   {
    "duration": 204,
    "start_time": "2022-09-06T01:25:20.936Z"
   },
   {
    "duration": 8,
    "start_time": "2022-09-06T01:25:21.491Z"
   },
   {
    "duration": 313,
    "start_time": "2022-09-06T01:25:22.104Z"
   },
   {
    "duration": 288,
    "start_time": "2022-09-06T01:25:22.419Z"
   },
   {
    "duration": 242,
    "start_time": "2022-09-06T01:25:22.708Z"
   },
   {
    "duration": 143,
    "start_time": "2022-09-06T01:25:22.993Z"
   },
   {
    "duration": 105,
    "start_time": "2022-09-06T01:25:23.241Z"
   },
   {
    "duration": 417,
    "start_time": "2022-09-06T01:25:23.747Z"
   },
   {
    "duration": 214,
    "start_time": "2022-09-06T01:25:24.670Z"
   },
   {
    "duration": 231,
    "start_time": "2022-09-06T01:25:24.909Z"
   },
   {
    "duration": 126,
    "start_time": "2022-09-06T01:25:25.274Z"
   },
   {
    "duration": 132,
    "start_time": "2022-09-06T01:25:26.661Z"
   },
   {
    "duration": 100,
    "start_time": "2022-09-06T01:25:27.054Z"
   },
   {
    "duration": 134,
    "start_time": "2022-09-06T01:25:27.312Z"
   },
   {
    "duration": 21,
    "start_time": "2022-09-06T01:25:28.522Z"
   },
   {
    "duration": 7,
    "start_time": "2022-09-06T01:25:28.696Z"
   },
   {
    "duration": 6,
    "start_time": "2022-09-06T01:25:28.884Z"
   },
   {
    "duration": 150,
    "start_time": "2022-09-06T01:25:29.608Z"
   },
   {
    "duration": 213,
    "start_time": "2022-09-06T01:26:33.475Z"
   },
   {
    "duration": 216,
    "start_time": "2022-09-06T01:26:41.001Z"
   },
   {
    "duration": 4,
    "start_time": "2022-09-06T01:26:53.800Z"
   },
   {
    "duration": 14,
    "start_time": "2022-09-06T01:27:03.668Z"
   },
   {
    "duration": 7,
    "start_time": "2022-09-06T01:28:17.550Z"
   },
   {
    "duration": 9,
    "start_time": "2022-09-06T01:28:17.932Z"
   },
   {
    "duration": 244,
    "start_time": "2022-09-06T01:28:24.584Z"
   },
   {
    "duration": 12,
    "start_time": "2022-09-06T01:29:19.353Z"
   },
   {
    "duration": 13,
    "start_time": "2022-09-06T01:29:21.879Z"
   },
   {
    "duration": 7,
    "start_time": "2022-09-06T01:29:25.445Z"
   },
   {
    "duration": 7,
    "start_time": "2022-09-06T01:29:30.145Z"
   },
   {
    "duration": 282,
    "start_time": "2022-09-06T01:29:38.744Z"
   },
   {
    "duration": 359,
    "start_time": "2022-09-06T01:29:54.400Z"
   },
   {
    "duration": 11,
    "start_time": "2022-09-06T01:31:20.586Z"
   },
   {
    "duration": 9,
    "start_time": "2022-09-06T01:31:26.688Z"
   },
   {
    "duration": 251,
    "start_time": "2022-09-06T01:31:33.685Z"
   },
   {
    "duration": 9,
    "start_time": "2022-09-06T01:31:34.668Z"
   },
   {
    "duration": 6,
    "start_time": "2022-09-06T01:31:51.177Z"
   },
   {
    "duration": 14,
    "start_time": "2022-09-06T01:32:06.967Z"
   },
   {
    "duration": 600,
    "start_time": "2022-09-06T01:33:12.677Z"
   },
   {
    "duration": 14,
    "start_time": "2022-09-06T01:33:22.929Z"
   },
   {
    "duration": 177,
    "start_time": "2022-09-06T01:37:11.408Z"
   },
   {
    "duration": 5,
    "start_time": "2022-09-06T01:37:13.585Z"
   },
   {
    "duration": 600,
    "start_time": "2022-09-06T01:39:41.013Z"
   },
   {
    "duration": 3148,
    "start_time": "2022-09-06T20:45:16.157Z"
   },
   {
    "duration": 33,
    "start_time": "2022-09-06T20:45:19.307Z"
   },
   {
    "duration": 5,
    "start_time": "2022-09-06T20:45:19.342Z"
   },
   {
    "duration": 226,
    "start_time": "2022-09-06T20:45:19.367Z"
   },
   {
    "duration": 5,
    "start_time": "2022-09-06T20:45:19.595Z"
   },
   {
    "duration": 18,
    "start_time": "2022-09-06T20:45:19.602Z"
   },
   {
    "duration": 21,
    "start_time": "2022-09-06T20:45:19.622Z"
   },
   {
    "duration": 12,
    "start_time": "2022-09-06T20:45:19.644Z"
   },
   {
    "duration": 191,
    "start_time": "2022-09-06T20:45:19.658Z"
   },
   {
    "duration": 7,
    "start_time": "2022-09-06T20:45:19.851Z"
   },
   {
    "duration": 260,
    "start_time": "2022-09-06T20:45:19.859Z"
   },
   {
    "duration": 5,
    "start_time": "2022-09-06T20:45:20.121Z"
   },
   {
    "duration": 24,
    "start_time": "2022-09-06T20:45:20.127Z"
   },
   {
    "duration": 68,
    "start_time": "2022-09-06T20:45:20.154Z"
   },
   {
    "duration": 8,
    "start_time": "2022-09-06T20:45:20.224Z"
   },
   {
    "duration": 307,
    "start_time": "2022-09-06T20:45:20.234Z"
   },
   {
    "duration": 316,
    "start_time": "2022-09-06T20:45:20.543Z"
   },
   {
    "duration": 11,
    "start_time": "2022-09-06T20:45:20.867Z"
   },
   {
    "duration": 410,
    "start_time": "2022-09-06T20:45:20.880Z"
   },
   {
    "duration": 9,
    "start_time": "2022-09-06T20:45:21.292Z"
   },
   {
    "duration": 15,
    "start_time": "2022-09-06T20:45:21.303Z"
   },
   {
    "duration": 12,
    "start_time": "2022-09-06T20:45:21.319Z"
   },
   {
    "duration": 36,
    "start_time": "2022-09-06T20:45:21.333Z"
   },
   {
    "duration": 260,
    "start_time": "2022-09-06T20:45:21.370Z"
   },
   {
    "duration": 10,
    "start_time": "2022-09-06T20:45:21.631Z"
   },
   {
    "duration": 308,
    "start_time": "2022-09-06T20:45:21.643Z"
   },
   {
    "duration": 281,
    "start_time": "2022-09-06T20:45:21.952Z"
   },
   {
    "duration": 288,
    "start_time": "2022-09-06T20:45:22.235Z"
   },
   {
    "duration": 189,
    "start_time": "2022-09-06T20:45:22.525Z"
   },
   {
    "duration": 120,
    "start_time": "2022-09-06T20:45:22.715Z"
   },
   {
    "duration": 580,
    "start_time": "2022-09-06T20:45:22.837Z"
   },
   {
    "duration": 265,
    "start_time": "2022-09-06T20:45:23.419Z"
   },
   {
    "duration": 171,
    "start_time": "2022-09-06T20:45:23.685Z"
   },
   {
    "duration": 165,
    "start_time": "2022-09-06T20:45:23.858Z"
   },
   {
    "duration": 177,
    "start_time": "2022-09-06T20:45:24.025Z"
   },
   {
    "duration": 126,
    "start_time": "2022-09-06T20:45:24.205Z"
   },
   {
    "duration": 174,
    "start_time": "2022-09-06T20:45:24.334Z"
   },
   {
    "duration": 25,
    "start_time": "2022-09-06T20:45:24.510Z"
   },
   {
    "duration": 7,
    "start_time": "2022-09-06T20:45:24.537Z"
   },
   {
    "duration": 8,
    "start_time": "2022-09-06T20:45:24.568Z"
   },
   {
    "duration": 171,
    "start_time": "2022-09-06T20:45:24.579Z"
   },
   {
    "duration": 3982,
    "start_time": "2022-09-06T20:55:01.657Z"
   },
   {
    "duration": 46,
    "start_time": "2022-09-06T20:55:05.642Z"
   },
   {
    "duration": 4,
    "start_time": "2022-09-06T20:55:05.690Z"
   },
   {
    "duration": 225,
    "start_time": "2022-09-06T20:55:05.696Z"
   },
   {
    "duration": 6,
    "start_time": "2022-09-06T20:55:05.922Z"
   },
   {
    "duration": 24,
    "start_time": "2022-09-06T20:55:05.929Z"
   },
   {
    "duration": 18,
    "start_time": "2022-09-06T20:55:05.954Z"
   },
   {
    "duration": 8,
    "start_time": "2022-09-06T20:55:05.974Z"
   },
   {
    "duration": 200,
    "start_time": "2022-09-06T20:55:05.983Z"
   },
   {
    "duration": 7,
    "start_time": "2022-09-06T20:55:06.185Z"
   },
   {
    "duration": 259,
    "start_time": "2022-09-06T20:55:06.194Z"
   },
   {
    "duration": 4,
    "start_time": "2022-09-06T20:55:06.455Z"
   },
   {
    "duration": 15,
    "start_time": "2022-09-06T20:55:06.468Z"
   },
   {
    "duration": 52,
    "start_time": "2022-09-06T20:55:06.485Z"
   },
   {
    "duration": 8,
    "start_time": "2022-09-06T20:55:06.538Z"
   },
   {
    "duration": 375,
    "start_time": "2022-09-06T20:55:06.569Z"
   },
   {
    "duration": 323,
    "start_time": "2022-09-06T20:55:06.946Z"
   },
   {
    "duration": 11,
    "start_time": "2022-09-06T20:55:07.271Z"
   },
   {
    "duration": 420,
    "start_time": "2022-09-06T20:55:07.284Z"
   },
   {
    "duration": 8,
    "start_time": "2022-09-06T20:55:07.706Z"
   },
   {
    "duration": 16,
    "start_time": "2022-09-06T20:55:07.716Z"
   },
   {
    "duration": 35,
    "start_time": "2022-09-06T20:55:07.733Z"
   },
   {
    "duration": 15,
    "start_time": "2022-09-06T20:55:07.770Z"
   },
   {
    "duration": 233,
    "start_time": "2022-09-06T20:55:07.787Z"
   },
   {
    "duration": 9,
    "start_time": "2022-09-06T20:55:08.021Z"
   },
   {
    "duration": 296,
    "start_time": "2022-09-06T20:55:08.032Z"
   },
   {
    "duration": 288,
    "start_time": "2022-09-06T20:55:08.329Z"
   },
   {
    "duration": 293,
    "start_time": "2022-09-06T20:55:08.620Z"
   },
   {
    "duration": 186,
    "start_time": "2022-09-06T20:55:08.915Z"
   },
   {
    "duration": 129,
    "start_time": "2022-09-06T20:55:09.102Z"
   },
   {
    "duration": 564,
    "start_time": "2022-09-06T20:55:09.233Z"
   },
   {
    "duration": 239,
    "start_time": "2022-09-06T20:55:09.799Z"
   },
   {
    "duration": 169,
    "start_time": "2022-09-06T20:55:10.040Z"
   },
   {
    "duration": 175,
    "start_time": "2022-09-06T20:55:10.210Z"
   },
   {
    "duration": 182,
    "start_time": "2022-09-06T20:55:10.387Z"
   },
   {
    "duration": 127,
    "start_time": "2022-09-06T20:55:10.571Z"
   },
   {
    "duration": 184,
    "start_time": "2022-09-06T20:55:10.700Z"
   },
   {
    "duration": 24,
    "start_time": "2022-09-06T20:55:10.886Z"
   },
   {
    "duration": 8,
    "start_time": "2022-09-06T20:55:10.911Z"
   },
   {
    "duration": 11,
    "start_time": "2022-09-06T20:55:10.920Z"
   },
   {
    "duration": 183,
    "start_time": "2022-09-06T20:55:10.932Z"
   },
   {
    "duration": 48,
    "start_time": "2022-09-06T22:23:10.057Z"
   },
   {
    "duration": 3674,
    "start_time": "2022-09-06T22:23:17.867Z"
   },
   {
    "duration": 37,
    "start_time": "2022-09-06T22:23:21.544Z"
   },
   {
    "duration": 5,
    "start_time": "2022-09-06T22:23:21.583Z"
   },
   {
    "duration": 228,
    "start_time": "2022-09-06T22:23:21.590Z"
   },
   {
    "duration": 7,
    "start_time": "2022-09-06T22:23:21.821Z"
   },
   {
    "duration": 9,
    "start_time": "2022-09-06T22:23:21.830Z"
   },
   {
    "duration": 11,
    "start_time": "2022-09-06T22:23:21.841Z"
   },
   {
    "duration": 8,
    "start_time": "2022-09-06T22:23:21.854Z"
   },
   {
    "duration": 218,
    "start_time": "2022-09-06T22:23:21.863Z"
   },
   {
    "duration": 6,
    "start_time": "2022-09-06T22:23:22.083Z"
   },
   {
    "duration": 266,
    "start_time": "2022-09-06T22:23:22.091Z"
   },
   {
    "duration": 4,
    "start_time": "2022-09-06T22:23:22.359Z"
   },
   {
    "duration": 19,
    "start_time": "2022-09-06T22:23:22.365Z"
   },
   {
    "duration": 64,
    "start_time": "2022-09-06T22:23:22.402Z"
   },
   {
    "duration": 7,
    "start_time": "2022-09-06T22:23:22.468Z"
   },
   {
    "duration": 328,
    "start_time": "2022-09-06T22:23:22.477Z"
   },
   {
    "duration": 410,
    "start_time": "2022-09-06T22:23:22.806Z"
   },
   {
    "duration": 15,
    "start_time": "2022-09-06T22:23:23.218Z"
   },
   {
    "duration": 318,
    "start_time": "2022-09-06T22:23:23.234Z"
   },
   {
    "duration": 8,
    "start_time": "2022-09-06T22:23:23.555Z"
   },
   {
    "duration": 24,
    "start_time": "2022-09-06T22:23:23.565Z"
   },
   {
    "duration": 18,
    "start_time": "2022-09-06T22:23:23.591Z"
   },
   {
    "duration": 12,
    "start_time": "2022-09-06T22:23:23.611Z"
   },
   {
    "duration": 252,
    "start_time": "2022-09-06T22:23:23.624Z"
   },
   {
    "duration": 8,
    "start_time": "2022-09-06T22:23:23.878Z"
   },
   {
    "duration": 299,
    "start_time": "2022-09-06T22:23:23.887Z"
   },
   {
    "duration": 290,
    "start_time": "2022-09-06T22:23:24.187Z"
   },
   {
    "duration": 301,
    "start_time": "2022-09-06T22:23:24.479Z"
   },
   {
    "duration": 191,
    "start_time": "2022-09-06T22:23:24.781Z"
   },
   {
    "duration": 231,
    "start_time": "2022-09-06T22:23:24.974Z"
   },
   {
    "duration": 539,
    "start_time": "2022-09-06T22:23:25.207Z"
   },
   {
    "duration": 261,
    "start_time": "2022-09-06T22:23:25.748Z"
   },
   {
    "duration": 169,
    "start_time": "2022-09-06T22:23:26.011Z"
   },
   {
    "duration": 169,
    "start_time": "2022-09-06T22:23:26.182Z"
   },
   {
    "duration": 174,
    "start_time": "2022-09-06T22:23:26.353Z"
   },
   {
    "duration": 129,
    "start_time": "2022-09-06T22:23:26.529Z"
   },
   {
    "duration": 173,
    "start_time": "2022-09-06T22:23:26.660Z"
   },
   {
    "duration": 228,
    "start_time": "2022-09-06T22:23:26.834Z"
   },
   {
    "duration": 8,
    "start_time": "2022-09-06T22:23:27.063Z"
   },
   {
    "duration": 12,
    "start_time": "2022-09-06T22:23:27.073Z"
   },
   {
    "duration": 179,
    "start_time": "2022-09-06T22:23:27.090Z"
   },
   {
    "duration": 25,
    "start_time": "2022-09-06T22:23:50.402Z"
   },
   {
    "duration": 495,
    "start_time": "2022-09-06T22:24:25.358Z"
   },
   {
    "duration": 51,
    "start_time": "2022-09-07T10:09:09.985Z"
   },
   {
    "duration": 3207,
    "start_time": "2022-09-07T10:09:15.991Z"
   },
   {
    "duration": 37,
    "start_time": "2022-09-07T10:09:19.201Z"
   },
   {
    "duration": 4,
    "start_time": "2022-09-07T10:09:19.240Z"
   },
   {
    "duration": 251,
    "start_time": "2022-09-07T10:09:19.246Z"
   },
   {
    "duration": 6,
    "start_time": "2022-09-07T10:09:19.500Z"
   },
   {
    "duration": 15,
    "start_time": "2022-09-07T10:09:19.508Z"
   },
   {
    "duration": 17,
    "start_time": "2022-09-07T10:09:19.526Z"
   },
   {
    "duration": 12,
    "start_time": "2022-09-07T10:09:19.545Z"
   },
   {
    "duration": 185,
    "start_time": "2022-09-07T10:09:19.558Z"
   },
   {
    "duration": 7,
    "start_time": "2022-09-07T10:09:19.744Z"
   },
   {
    "duration": 271,
    "start_time": "2022-09-07T10:09:19.753Z"
   },
   {
    "duration": 5,
    "start_time": "2022-09-07T10:09:20.026Z"
   },
   {
    "duration": 43,
    "start_time": "2022-09-07T10:09:20.033Z"
   },
   {
    "duration": 7,
    "start_time": "2022-09-07T10:09:20.079Z"
   },
   {
    "duration": 51,
    "start_time": "2022-09-07T10:09:20.088Z"
   },
   {
    "duration": 7,
    "start_time": "2022-09-07T10:09:20.141Z"
   },
   {
    "duration": 310,
    "start_time": "2022-09-07T10:09:20.149Z"
   },
   {
    "duration": 388,
    "start_time": "2022-09-07T10:09:20.461Z"
   },
   {
    "duration": 10,
    "start_time": "2022-09-07T10:09:20.851Z"
   },
   {
    "duration": 300,
    "start_time": "2022-09-07T10:09:20.862Z"
   },
   {
    "duration": 7,
    "start_time": "2022-09-07T10:09:21.164Z"
   },
   {
    "duration": 24,
    "start_time": "2022-09-07T10:09:21.172Z"
   },
   {
    "duration": 11,
    "start_time": "2022-09-07T10:09:21.197Z"
   },
   {
    "duration": 13,
    "start_time": "2022-09-07T10:09:21.209Z"
   },
   {
    "duration": 232,
    "start_time": "2022-09-07T10:09:21.223Z"
   },
   {
    "duration": 8,
    "start_time": "2022-09-07T10:09:21.457Z"
   },
   {
    "duration": 285,
    "start_time": "2022-09-07T10:09:21.467Z"
   },
   {
    "duration": 288,
    "start_time": "2022-09-07T10:09:21.753Z"
   },
   {
    "duration": 291,
    "start_time": "2022-09-07T10:09:22.042Z"
   },
   {
    "duration": 169,
    "start_time": "2022-09-07T10:09:22.335Z"
   },
   {
    "duration": 205,
    "start_time": "2022-09-07T10:09:22.506Z"
   },
   {
    "duration": 468,
    "start_time": "2022-09-07T10:09:22.712Z"
   },
   {
    "duration": 249,
    "start_time": "2022-09-07T10:09:23.181Z"
   },
   {
    "duration": 159,
    "start_time": "2022-09-07T10:09:23.432Z"
   },
   {
    "duration": 147,
    "start_time": "2022-09-07T10:09:23.593Z"
   },
   {
    "duration": 175,
    "start_time": "2022-09-07T10:09:23.741Z"
   },
   {
    "duration": 126,
    "start_time": "2022-09-07T10:09:23.918Z"
   },
   {
    "duration": 166,
    "start_time": "2022-09-07T10:09:24.046Z"
   },
   {
    "duration": 24,
    "start_time": "2022-09-07T10:09:24.214Z"
   },
   {
    "duration": 7,
    "start_time": "2022-09-07T10:09:24.240Z"
   },
   {
    "duration": 12,
    "start_time": "2022-09-07T10:09:24.251Z"
   },
   {
    "duration": 240,
    "start_time": "2022-09-07T10:09:24.264Z"
   },
   {
    "duration": 6,
    "start_time": "2022-09-07T10:15:01.118Z"
   },
   {
    "duration": 87,
    "start_time": "2022-09-07T10:15:56.393Z"
   },
   {
    "duration": 6,
    "start_time": "2022-09-07T10:16:03.497Z"
   },
   {
    "duration": 7,
    "start_time": "2022-09-07T10:16:14.840Z"
   },
   {
    "duration": 7,
    "start_time": "2022-09-07T10:16:23.405Z"
   },
   {
    "duration": 7,
    "start_time": "2022-09-07T10:16:26.205Z"
   },
   {
    "duration": 6,
    "start_time": "2022-09-07T10:16:29.832Z"
   },
   {
    "duration": 7,
    "start_time": "2022-09-07T10:16:36.110Z"
   },
   {
    "duration": 14,
    "start_time": "2022-09-07T10:23:56.012Z"
   },
   {
    "duration": 11,
    "start_time": "2022-09-07T10:24:05.108Z"
   },
   {
    "duration": 11,
    "start_time": "2022-09-07T10:24:16.289Z"
   },
   {
    "duration": 10,
    "start_time": "2022-09-07T10:24:25.656Z"
   },
   {
    "duration": 9,
    "start_time": "2022-09-07T10:24:41.946Z"
   },
   {
    "duration": 8,
    "start_time": "2022-09-07T10:24:51.399Z"
   },
   {
    "duration": 9,
    "start_time": "2022-09-07T10:25:00.929Z"
   },
   {
    "duration": 11,
    "start_time": "2022-09-07T10:25:02.988Z"
   },
   {
    "duration": 9,
    "start_time": "2022-09-07T10:25:06.529Z"
   },
   {
    "duration": 48,
    "start_time": "2022-09-07T10:25:38.760Z"
   },
   {
    "duration": 11,
    "start_time": "2022-09-07T10:25:43.820Z"
   },
   {
    "duration": 10,
    "start_time": "2022-09-07T10:25:51.030Z"
   },
   {
    "duration": 18,
    "start_time": "2022-09-07T10:26:12.908Z"
   },
   {
    "duration": 7,
    "start_time": "2022-09-07T10:26:15.988Z"
   },
   {
    "duration": 4,
    "start_time": "2022-09-07T10:32:07.013Z"
   },
   {
    "duration": 5,
    "start_time": "2022-09-07T10:32:07.731Z"
   },
   {
    "duration": 7,
    "start_time": "2022-09-07T10:32:20.295Z"
   },
   {
    "duration": 8,
    "start_time": "2022-09-07T10:32:34.026Z"
   },
   {
    "duration": 8,
    "start_time": "2022-09-07T10:32:35.105Z"
   },
   {
    "duration": 15,
    "start_time": "2022-09-07T10:33:26.856Z"
   },
   {
    "duration": 17,
    "start_time": "2022-09-07T10:33:39.606Z"
   },
   {
    "duration": 6,
    "start_time": "2022-09-07T10:33:49.144Z"
   },
   {
    "duration": 282,
    "start_time": "2022-09-07T10:37:05.594Z"
   },
   {
    "duration": 273,
    "start_time": "2022-09-07T10:37:26.726Z"
   },
   {
    "duration": 270,
    "start_time": "2022-09-07T10:37:31.556Z"
   },
   {
    "duration": 181,
    "start_time": "2022-09-07T10:38:10.162Z"
   },
   {
    "duration": 554,
    "start_time": "2022-09-07T10:40:20.636Z"
   },
   {
    "duration": 580,
    "start_time": "2022-09-07T10:40:27.591Z"
   },
   {
    "duration": 11,
    "start_time": "2022-09-07T10:41:48.994Z"
   },
   {
    "duration": 86,
    "start_time": "2022-09-07T10:41:57.844Z"
   },
   {
    "duration": 576,
    "start_time": "2022-09-07T10:42:06.387Z"
   },
   {
    "duration": 499,
    "start_time": "2022-09-07T10:42:13.992Z"
   },
   {
    "duration": 533,
    "start_time": "2022-09-07T10:42:22.211Z"
   },
   {
    "duration": 459,
    "start_time": "2022-09-07T10:42:25.007Z"
   },
   {
    "duration": 512,
    "start_time": "2022-09-07T10:43:51.153Z"
   },
   {
    "duration": 475,
    "start_time": "2022-09-07T10:44:08.490Z"
   },
   {
    "duration": 555,
    "start_time": "2022-09-07T10:45:50.625Z"
   },
   {
    "duration": 479,
    "start_time": "2022-09-07T10:46:01.375Z"
   },
   {
    "duration": 468,
    "start_time": "2022-09-07T10:46:14.692Z"
   },
   {
    "duration": 549,
    "start_time": "2022-09-07T10:46:31.327Z"
   },
   {
    "duration": 471,
    "start_time": "2022-09-07T10:46:42.901Z"
   },
   {
    "duration": 457,
    "start_time": "2022-09-07T10:46:47.909Z"
   },
   {
    "duration": 555,
    "start_time": "2022-09-07T10:47:25.858Z"
   },
   {
    "duration": 609,
    "start_time": "2022-09-07T10:47:43.332Z"
   },
   {
    "duration": 150,
    "start_time": "2022-09-07T10:49:10.630Z"
   },
   {
    "duration": 159,
    "start_time": "2022-09-07T10:50:05.114Z"
   },
   {
    "duration": 29,
    "start_time": "2022-09-07T10:50:49.649Z"
   },
   {
    "duration": 26,
    "start_time": "2022-09-07T10:51:14.216Z"
   },
   {
    "duration": 28,
    "start_time": "2022-09-07T10:51:23.876Z"
   },
   {
    "duration": 151,
    "start_time": "2022-09-07T10:51:55.936Z"
   },
   {
    "duration": 189,
    "start_time": "2022-09-07T10:52:53.400Z"
   },
   {
    "duration": 170,
    "start_time": "2022-09-07T10:55:31.850Z"
   },
   {
    "duration": 224,
    "start_time": "2022-09-07T10:55:36.197Z"
   },
   {
    "duration": 201,
    "start_time": "2022-09-07T10:55:39.993Z"
   },
   {
    "duration": 204,
    "start_time": "2022-09-07T11:03:00.385Z"
   },
   {
    "duration": 9,
    "start_time": "2022-09-07T11:14:19.030Z"
   },
   {
    "duration": 9,
    "start_time": "2022-09-07T11:14:21.711Z"
   },
   {
    "duration": 346,
    "start_time": "2022-09-07T11:14:21.938Z"
   },
   {
    "duration": 9,
    "start_time": "2022-09-07T11:14:25.891Z"
   },
   {
    "duration": 11,
    "start_time": "2022-09-07T11:15:33.505Z"
   },
   {
    "duration": 288,
    "start_time": "2022-09-07T11:15:37.495Z"
   },
   {
    "duration": 11,
    "start_time": "2022-09-07T11:15:38.040Z"
   },
   {
    "duration": 12,
    "start_time": "2022-09-07T11:15:49.418Z"
   },
   {
    "duration": 271,
    "start_time": "2022-09-07T11:15:53.444Z"
   },
   {
    "duration": 10,
    "start_time": "2022-09-07T11:16:19.986Z"
   },
   {
    "duration": 10,
    "start_time": "2022-09-07T11:16:21.754Z"
   },
   {
    "duration": 4,
    "start_time": "2022-09-07T11:16:51.301Z"
   },
   {
    "duration": 12,
    "start_time": "2022-09-07T11:16:56.392Z"
   },
   {
    "duration": 8,
    "start_time": "2022-09-07T11:16:58.630Z"
   },
   {
    "duration": 634,
    "start_time": "2022-09-07T11:17:28.290Z"
   },
   {
    "duration": 265,
    "start_time": "2022-09-07T11:17:35.127Z"
   },
   {
    "duration": 362,
    "start_time": "2022-09-07T11:17:40.778Z"
   },
   {
    "duration": 354,
    "start_time": "2022-09-07T11:17:42.843Z"
   },
   {
    "duration": 8,
    "start_time": "2022-09-07T11:17:44.143Z"
   },
   {
    "duration": 276,
    "start_time": "2022-09-07T11:17:44.890Z"
   },
   {
    "duration": 1977,
    "start_time": "2022-09-07T11:17:51.293Z"
   },
   {
    "duration": 35,
    "start_time": "2022-09-07T11:17:53.272Z"
   },
   {
    "duration": 5,
    "start_time": "2022-09-07T11:17:54.248Z"
   },
   {
    "duration": 204,
    "start_time": "2022-09-07T11:17:54.661Z"
   },
   {
    "duration": 7,
    "start_time": "2022-09-07T11:17:57.110Z"
   },
   {
    "duration": 8,
    "start_time": "2022-09-07T11:17:57.510Z"
   },
   {
    "duration": 10,
    "start_time": "2022-09-07T11:17:57.700Z"
   },
   {
    "duration": 7,
    "start_time": "2022-09-07T11:17:57.892Z"
   },
   {
    "duration": 168,
    "start_time": "2022-09-07T11:17:58.188Z"
   },
   {
    "duration": 7,
    "start_time": "2022-09-07T11:17:58.401Z"
   },
   {
    "duration": 210,
    "start_time": "2022-09-07T11:17:59.312Z"
   },
   {
    "duration": 5,
    "start_time": "2022-09-07T11:17:59.575Z"
   },
   {
    "duration": 13,
    "start_time": "2022-09-07T11:17:59.786Z"
   },
   {
    "duration": 9,
    "start_time": "2022-09-07T11:18:00.393Z"
   },
   {
    "duration": 18,
    "start_time": "2022-09-07T11:18:01.666Z"
   },
   {
    "duration": 7,
    "start_time": "2022-09-07T11:18:02.805Z"
   },
   {
    "duration": 9,
    "start_time": "2022-09-07T11:18:03.695Z"
   },
   {
    "duration": 292,
    "start_time": "2022-09-07T11:18:04.404Z"
   },
   {
    "duration": 331,
    "start_time": "2022-09-07T11:18:06.329Z"
   },
   {
    "duration": 227,
    "start_time": "2022-09-07T11:18:07.325Z"
   },
   {
    "duration": 12,
    "start_time": "2022-09-07T11:18:08.647Z"
   },
   {
    "duration": 298,
    "start_time": "2022-09-07T11:18:09.534Z"
   },
   {
    "duration": 2,
    "start_time": "2022-09-07T11:22:29.856Z"
   },
   {
    "duration": 1985,
    "start_time": "2022-09-07T11:22:30.526Z"
   },
   {
    "duration": 13,
    "start_time": "2022-09-07T11:25:40.545Z"
   },
   {
    "duration": 17,
    "start_time": "2022-09-07T11:25:59.046Z"
   },
   {
    "duration": 13,
    "start_time": "2022-09-07T11:26:18.395Z"
   },
   {
    "duration": 16,
    "start_time": "2022-09-07T11:26:24.371Z"
   },
   {
    "duration": 16,
    "start_time": "2022-09-07T11:28:12.940Z"
   },
   {
    "duration": 276,
    "start_time": "2022-09-07T11:28:25.675Z"
   },
   {
    "duration": 16,
    "start_time": "2022-09-07T11:28:31.747Z"
   },
   {
    "duration": 15,
    "start_time": "2022-09-07T11:28:44.151Z"
   },
   {
    "duration": 12,
    "start_time": "2022-09-07T11:29:28.284Z"
   },
   {
    "duration": 16,
    "start_time": "2022-09-07T11:29:34.958Z"
   },
   {
    "duration": 11,
    "start_time": "2022-09-07T11:29:45.771Z"
   },
   {
    "duration": 113,
    "start_time": "2022-09-07T11:29:49.153Z"
   },
   {
    "duration": 62,
    "start_time": "2022-09-07T11:29:54.634Z"
   },
   {
    "duration": 11,
    "start_time": "2022-09-07T11:29:58.647Z"
   },
   {
    "duration": 18,
    "start_time": "2022-09-07T11:30:04.791Z"
   },
   {
    "duration": 89,
    "start_time": "2022-09-07T11:36:22.287Z"
   },
   {
    "duration": 8,
    "start_time": "2022-09-07T11:36:30.006Z"
   },
   {
    "duration": 6,
    "start_time": "2022-09-07T11:36:32.028Z"
   },
   {
    "duration": 7,
    "start_time": "2022-09-07T11:36:39.839Z"
   },
   {
    "duration": 7,
    "start_time": "2022-09-07T11:39:01.534Z"
   },
   {
    "duration": 7,
    "start_time": "2022-09-07T11:39:03.104Z"
   },
   {
    "duration": 9,
    "start_time": "2022-09-07T11:39:06.799Z"
   },
   {
    "duration": 7,
    "start_time": "2022-09-07T11:39:23.155Z"
   },
   {
    "duration": 7,
    "start_time": "2022-09-07T11:40:54.599Z"
   },
   {
    "duration": 7,
    "start_time": "2022-09-07T11:40:56.918Z"
   },
   {
    "duration": 7,
    "start_time": "2022-09-07T11:41:00.241Z"
   },
   {
    "duration": 290,
    "start_time": "2022-09-07T11:41:02.359Z"
   },
   {
    "duration": 7,
    "start_time": "2022-09-07T11:41:03.447Z"
   },
   {
    "duration": 9,
    "start_time": "2022-09-07T11:41:09.358Z"
   },
   {
    "duration": 308,
    "start_time": "2022-09-07T11:41:09.889Z"
   },
   {
    "duration": 8,
    "start_time": "2022-09-07T11:41:14.063Z"
   },
   {
    "duration": 371,
    "start_time": "2022-09-07T11:41:19.730Z"
   },
   {
    "duration": 2255,
    "start_time": "2022-09-07T11:41:20.103Z"
   },
   {
    "duration": 34,
    "start_time": "2022-09-07T11:41:22.360Z"
   },
   {
    "duration": 4,
    "start_time": "2022-09-07T11:41:22.396Z"
   },
   {
    "duration": 225,
    "start_time": "2022-09-07T11:41:22.403Z"
   },
   {
    "duration": 6,
    "start_time": "2022-09-07T11:41:22.630Z"
   },
   {
    "duration": 15,
    "start_time": "2022-09-07T11:41:22.637Z"
   },
   {
    "duration": 9,
    "start_time": "2022-09-07T11:41:22.654Z"
   },
   {
    "duration": 23,
    "start_time": "2022-09-07T11:41:22.665Z"
   },
   {
    "duration": 182,
    "start_time": "2022-09-07T11:41:22.689Z"
   },
   {
    "duration": 14,
    "start_time": "2022-09-07T11:41:22.873Z"
   },
   {
    "duration": 235,
    "start_time": "2022-09-07T11:41:22.889Z"
   },
   {
    "duration": 5,
    "start_time": "2022-09-07T11:41:23.126Z"
   },
   {
    "duration": 21,
    "start_time": "2022-09-07T11:41:23.133Z"
   },
   {
    "duration": 12,
    "start_time": "2022-09-07T11:41:23.155Z"
   },
   {
    "duration": 60,
    "start_time": "2022-09-07T11:41:23.169Z"
   },
   {
    "duration": 8,
    "start_time": "2022-09-07T11:41:23.231Z"
   },
   {
    "duration": 16,
    "start_time": "2022-09-07T11:41:23.240Z"
   },
   {
    "duration": 303,
    "start_time": "2022-09-07T11:41:23.257Z"
   },
   {
    "duration": 295,
    "start_time": "2022-09-07T11:41:23.562Z"
   },
   {
    "duration": 13,
    "start_time": "2022-09-07T11:41:23.859Z"
   },
   {
    "duration": 20,
    "start_time": "2022-09-07T11:41:23.874Z"
   },
   {
    "duration": 394,
    "start_time": "2022-09-07T11:41:23.896Z"
   },
   {
    "duration": 10,
    "start_time": "2022-09-07T11:41:24.292Z"
   },
   {
    "duration": 20,
    "start_time": "2022-09-07T11:41:24.303Z"
   },
   {
    "duration": 10,
    "start_time": "2022-09-07T11:41:24.325Z"
   },
   {
    "duration": 9,
    "start_time": "2022-09-07T11:41:24.336Z"
   },
   {
    "duration": 9,
    "start_time": "2022-09-07T11:41:24.346Z"
   },
   {
    "duration": 10,
    "start_time": "2022-09-07T11:41:24.356Z"
   },
   {
    "duration": 9,
    "start_time": "2022-09-07T11:41:24.368Z"
   },
   {
    "duration": 13,
    "start_time": "2022-09-07T11:41:24.378Z"
   },
   {
    "duration": 12,
    "start_time": "2022-09-07T11:41:24.392Z"
   },
   {
    "duration": 264,
    "start_time": "2022-09-07T11:41:24.405Z"
   },
   {
    "duration": 273,
    "start_time": "2022-09-07T11:41:24.671Z"
   },
   {
    "duration": 275,
    "start_time": "2022-09-07T11:41:24.946Z"
   },
   {
    "duration": 278,
    "start_time": "2022-09-07T11:41:25.223Z"
   },
   {
    "duration": 269,
    "start_time": "2022-09-07T11:41:25.503Z"
   },
   {
    "duration": 103,
    "start_time": "2022-09-07T11:41:25.774Z"
   },
   {
    "duration": 188,
    "start_time": "2022-09-07T11:41:25.886Z"
   },
   {
    "duration": 561,
    "start_time": "2022-09-07T11:41:26.076Z"
   },
   {
    "duration": 471,
    "start_time": "2022-09-07T11:41:26.642Z"
   },
   {
    "duration": 152,
    "start_time": "2022-09-07T11:41:27.114Z"
   },
   {
    "duration": 137,
    "start_time": "2022-09-07T11:41:27.268Z"
   },
   {
    "duration": 237,
    "start_time": "2022-09-07T11:41:27.406Z"
   },
   {
    "duration": 147,
    "start_time": "2022-09-07T11:41:27.645Z"
   },
   {
    "duration": 249,
    "start_time": "2022-09-07T11:41:27.793Z"
   },
   {
    "duration": 165,
    "start_time": "2022-09-07T11:41:28.043Z"
   },
   {
    "duration": 149,
    "start_time": "2022-09-07T11:41:28.210Z"
   },
   {
    "duration": 161,
    "start_time": "2022-09-07T11:41:28.360Z"
   },
   {
    "duration": 120,
    "start_time": "2022-09-07T11:41:28.523Z"
   },
   {
    "duration": 183,
    "start_time": "2022-09-07T11:41:28.644Z"
   },
   {
    "duration": 20,
    "start_time": "2022-09-07T11:41:28.829Z"
   },
   {
    "duration": 12,
    "start_time": "2022-09-07T11:41:28.850Z"
   },
   {
    "duration": 27,
    "start_time": "2022-09-07T11:41:28.863Z"
   },
   {
    "duration": 165,
    "start_time": "2022-09-07T11:41:28.891Z"
   },
   {
    "duration": 16,
    "start_time": "2022-09-07T11:42:25.789Z"
   },
   {
    "duration": 20,
    "start_time": "2022-09-07T11:42:37.558Z"
   },
   {
    "duration": 14,
    "start_time": "2022-09-07T11:42:54.268Z"
   },
   {
    "duration": 8,
    "start_time": "2022-09-07T11:43:05.122Z"
   },
   {
    "duration": 18,
    "start_time": "2022-09-07T11:43:10.300Z"
   },
   {
    "duration": 8,
    "start_time": "2022-09-07T11:43:42.625Z"
   },
   {
    "duration": 14,
    "start_time": "2022-09-07T11:43:46.925Z"
   },
   {
    "duration": 7,
    "start_time": "2022-09-07T11:43:53.387Z"
   },
   {
    "duration": 18,
    "start_time": "2022-09-07T11:43:56.457Z"
   },
   {
    "duration": 14,
    "start_time": "2022-09-07T11:43:59.231Z"
   },
   {
    "duration": 8,
    "start_time": "2022-09-07T11:44:27.142Z"
   },
   {
    "duration": 7,
    "start_time": "2022-09-07T11:44:40.121Z"
   },
   {
    "duration": 13,
    "start_time": "2022-09-07T11:44:43.817Z"
   },
   {
    "duration": 14,
    "start_time": "2022-09-07T11:44:46.083Z"
   },
   {
    "duration": 402,
    "start_time": "2022-09-07T11:44:54.387Z"
   },
   {
    "duration": 2363,
    "start_time": "2022-09-07T11:44:54.791Z"
   },
   {
    "duration": 34,
    "start_time": "2022-09-07T11:44:57.156Z"
   },
   {
    "duration": 3,
    "start_time": "2022-09-07T11:44:57.192Z"
   },
   {
    "duration": 214,
    "start_time": "2022-09-07T11:44:57.197Z"
   },
   {
    "duration": 5,
    "start_time": "2022-09-07T11:44:57.412Z"
   },
   {
    "duration": 10,
    "start_time": "2022-09-07T11:44:57.418Z"
   },
   {
    "duration": 11,
    "start_time": "2022-09-07T11:44:57.430Z"
   },
   {
    "duration": 9,
    "start_time": "2022-09-07T11:44:57.442Z"
   },
   {
    "duration": 201,
    "start_time": "2022-09-07T11:44:57.452Z"
   },
   {
    "duration": 7,
    "start_time": "2022-09-07T11:44:57.654Z"
   },
   {
    "duration": 245,
    "start_time": "2022-09-07T11:44:57.662Z"
   },
   {
    "duration": 5,
    "start_time": "2022-09-07T11:44:57.909Z"
   },
   {
    "duration": 19,
    "start_time": "2022-09-07T11:44:57.917Z"
   },
   {
    "duration": 9,
    "start_time": "2022-09-07T11:44:57.938Z"
   },
   {
    "duration": 76,
    "start_time": "2022-09-07T11:44:57.949Z"
   },
   {
    "duration": 8,
    "start_time": "2022-09-07T11:44:58.027Z"
   },
   {
    "duration": 34,
    "start_time": "2022-09-07T11:44:58.036Z"
   },
   {
    "duration": 291,
    "start_time": "2022-09-07T11:44:58.072Z"
   },
   {
    "duration": 299,
    "start_time": "2022-09-07T11:44:58.366Z"
   },
   {
    "duration": 20,
    "start_time": "2022-09-07T11:44:58.667Z"
   },
   {
    "duration": 11,
    "start_time": "2022-09-07T11:44:58.689Z"
   },
   {
    "duration": 417,
    "start_time": "2022-09-07T11:44:58.701Z"
   },
   {
    "duration": 11,
    "start_time": "2022-09-07T11:44:59.121Z"
   },
   {
    "duration": 8,
    "start_time": "2022-09-07T11:44:59.134Z"
   },
   {
    "duration": 8,
    "start_time": "2022-09-07T11:44:59.144Z"
   },
   {
    "duration": 39,
    "start_time": "2022-09-07T11:44:59.154Z"
   },
   {
    "duration": 8,
    "start_time": "2022-09-07T11:44:59.194Z"
   },
   {
    "duration": 141,
    "start_time": "2022-09-07T11:44:59.204Z"
   },
   {
    "duration": 8,
    "start_time": "2022-09-07T11:44:59.347Z"
   },
   {
    "duration": 9,
    "start_time": "2022-09-07T11:44:59.357Z"
   },
   {
    "duration": 20,
    "start_time": "2022-09-07T11:44:59.368Z"
   },
   {
    "duration": 274,
    "start_time": "2022-09-07T11:44:59.389Z"
   },
   {
    "duration": 280,
    "start_time": "2022-09-07T11:44:59.664Z"
   },
   {
    "duration": 299,
    "start_time": "2022-09-07T11:44:59.945Z"
   },
   {
    "duration": 298,
    "start_time": "2022-09-07T11:45:00.246Z"
   },
   {
    "duration": 258,
    "start_time": "2022-09-07T11:45:00.546Z"
   },
   {
    "duration": 119,
    "start_time": "2022-09-07T11:45:00.807Z"
   },
   {
    "duration": 205,
    "start_time": "2022-09-07T11:45:00.927Z"
   },
   {
    "duration": 504,
    "start_time": "2022-09-07T11:45:01.134Z"
   },
   {
    "duration": 527,
    "start_time": "2022-09-07T11:45:01.643Z"
   },
   {
    "duration": 181,
    "start_time": "2022-09-07T11:45:02.172Z"
   },
   {
    "duration": 179,
    "start_time": "2022-09-07T11:45:02.355Z"
   },
   {
    "duration": 234,
    "start_time": "2022-09-07T11:45:02.535Z"
   },
   {
    "duration": 196,
    "start_time": "2022-09-07T11:45:02.771Z"
   },
   {
    "duration": 244,
    "start_time": "2022-09-07T11:45:02.969Z"
   },
   {
    "duration": 167,
    "start_time": "2022-09-07T11:45:03.215Z"
   },
   {
    "duration": 156,
    "start_time": "2022-09-07T11:45:03.387Z"
   },
   {
    "duration": 157,
    "start_time": "2022-09-07T11:45:03.545Z"
   },
   {
    "duration": 126,
    "start_time": "2022-09-07T11:45:03.704Z"
   },
   {
    "duration": 181,
    "start_time": "2022-09-07T11:45:03.831Z"
   },
   {
    "duration": 26,
    "start_time": "2022-09-07T11:45:04.014Z"
   },
   {
    "duration": 7,
    "start_time": "2022-09-07T11:45:04.042Z"
   },
   {
    "duration": 20,
    "start_time": "2022-09-07T11:45:04.051Z"
   },
   {
    "duration": 165,
    "start_time": "2022-09-07T11:45:04.072Z"
   },
   {
    "duration": 15,
    "start_time": "2022-09-07T11:45:33.651Z"
   },
   {
    "duration": 9,
    "start_time": "2022-09-07T11:45:50.122Z"
   },
   {
    "duration": 16,
    "start_time": "2022-09-07T11:46:03.191Z"
   },
   {
    "duration": 16,
    "start_time": "2022-09-07T11:46:06.130Z"
   },
   {
    "duration": 7,
    "start_time": "2022-09-07T11:46:29.920Z"
   },
   {
    "duration": 6,
    "start_time": "2022-09-07T11:46:39.949Z"
   },
   {
    "duration": 410,
    "start_time": "2022-09-07T11:46:49.986Z"
   },
   {
    "duration": 2221,
    "start_time": "2022-09-07T11:46:50.397Z"
   },
   {
    "duration": 34,
    "start_time": "2022-09-07T11:46:52.620Z"
   },
   {
    "duration": 4,
    "start_time": "2022-09-07T11:46:52.655Z"
   },
   {
    "duration": 218,
    "start_time": "2022-09-07T11:46:52.661Z"
   },
   {
    "duration": 9,
    "start_time": "2022-09-07T11:46:52.881Z"
   },
   {
    "duration": 12,
    "start_time": "2022-09-07T11:46:52.891Z"
   },
   {
    "duration": 9,
    "start_time": "2022-09-07T11:46:52.905Z"
   },
   {
    "duration": 8,
    "start_time": "2022-09-07T11:46:52.915Z"
   },
   {
    "duration": 192,
    "start_time": "2022-09-07T11:46:52.924Z"
   },
   {
    "duration": 8,
    "start_time": "2022-09-07T11:46:53.118Z"
   },
   {
    "duration": 243,
    "start_time": "2022-09-07T11:46:53.127Z"
   },
   {
    "duration": 4,
    "start_time": "2022-09-07T11:46:53.372Z"
   },
   {
    "duration": 15,
    "start_time": "2022-09-07T11:46:53.386Z"
   },
   {
    "duration": 10,
    "start_time": "2022-09-07T11:46:53.403Z"
   },
   {
    "duration": 74,
    "start_time": "2022-09-07T11:46:53.414Z"
   },
   {
    "duration": 8,
    "start_time": "2022-09-07T11:46:53.490Z"
   },
   {
    "duration": 21,
    "start_time": "2022-09-07T11:46:53.500Z"
   },
   {
    "duration": 289,
    "start_time": "2022-09-07T11:46:53.522Z"
   },
   {
    "duration": 302,
    "start_time": "2022-09-07T11:46:53.813Z"
   },
   {
    "duration": 13,
    "start_time": "2022-09-07T11:46:54.116Z"
   },
   {
    "duration": 13,
    "start_time": "2022-09-07T11:46:54.131Z"
   },
   {
    "duration": 393,
    "start_time": "2022-09-07T11:46:54.146Z"
   },
   {
    "duration": 10,
    "start_time": "2022-09-07T11:46:54.540Z"
   },
   {
    "duration": 18,
    "start_time": "2022-09-07T11:46:54.552Z"
   },
   {
    "duration": 9,
    "start_time": "2022-09-07T11:46:54.572Z"
   },
   {
    "duration": 23,
    "start_time": "2022-09-07T11:46:54.582Z"
   },
   {
    "duration": 19,
    "start_time": "2022-09-07T11:46:54.606Z"
   },
   {
    "duration": 19,
    "start_time": "2022-09-07T11:46:54.626Z"
   },
   {
    "duration": 20,
    "start_time": "2022-09-07T11:46:54.647Z"
   },
   {
    "duration": 9,
    "start_time": "2022-09-07T11:46:54.669Z"
   },
   {
    "duration": 30,
    "start_time": "2022-09-07T11:46:54.679Z"
   },
   {
    "duration": 280,
    "start_time": "2022-09-07T11:46:54.710Z"
   },
   {
    "duration": 275,
    "start_time": "2022-09-07T11:46:54.992Z"
   },
   {
    "duration": 274,
    "start_time": "2022-09-07T11:46:55.268Z"
   },
   {
    "duration": 277,
    "start_time": "2022-09-07T11:46:55.543Z"
   },
   {
    "duration": 281,
    "start_time": "2022-09-07T11:46:55.822Z"
   },
   {
    "duration": 111,
    "start_time": "2022-09-07T11:46:56.105Z"
   },
   {
    "duration": 238,
    "start_time": "2022-09-07T11:46:56.218Z"
   },
   {
    "duration": 491,
    "start_time": "2022-09-07T11:46:56.458Z"
   },
   {
    "duration": 530,
    "start_time": "2022-09-07T11:46:56.953Z"
   },
   {
    "duration": 213,
    "start_time": "2022-09-07T11:46:57.486Z"
   },
   {
    "duration": 169,
    "start_time": "2022-09-07T11:46:57.701Z"
   },
   {
    "duration": 225,
    "start_time": "2022-09-07T11:46:57.872Z"
   },
   {
    "duration": 170,
    "start_time": "2022-09-07T11:46:58.098Z"
   },
   {
    "duration": 210,
    "start_time": "2022-09-07T11:46:58.270Z"
   },
   {
    "duration": 177,
    "start_time": "2022-09-07T11:46:58.481Z"
   },
   {
    "duration": 159,
    "start_time": "2022-09-07T11:46:58.660Z"
   },
   {
    "duration": 154,
    "start_time": "2022-09-07T11:46:58.821Z"
   },
   {
    "duration": 135,
    "start_time": "2022-09-07T11:46:58.977Z"
   },
   {
    "duration": 159,
    "start_time": "2022-09-07T11:46:59.114Z"
   },
   {
    "duration": 25,
    "start_time": "2022-09-07T11:46:59.275Z"
   },
   {
    "duration": 26,
    "start_time": "2022-09-07T11:46:59.303Z"
   },
   {
    "duration": 18,
    "start_time": "2022-09-07T11:46:59.331Z"
   },
   {
    "duration": 177,
    "start_time": "2022-09-07T11:46:59.351Z"
   },
   {
    "duration": 15,
    "start_time": "2022-09-07T11:47:23.589Z"
   },
   {
    "duration": 15,
    "start_time": "2022-09-07T11:48:08.285Z"
   },
   {
    "duration": 15,
    "start_time": "2022-09-07T11:48:10.791Z"
   },
   {
    "duration": 8,
    "start_time": "2022-09-07T11:48:12.141Z"
   },
   {
    "duration": 9,
    "start_time": "2022-09-07T11:48:12.328Z"
   },
   {
    "duration": 294,
    "start_time": "2022-09-07T11:48:12.525Z"
   },
   {
    "duration": 365,
    "start_time": "2022-09-07T11:48:12.885Z"
   },
   {
    "duration": 10,
    "start_time": "2022-09-07T11:48:13.252Z"
   },
   {
    "duration": 9,
    "start_time": "2022-09-07T11:48:14.622Z"
   },
   {
    "duration": 8,
    "start_time": "2022-09-07T11:48:15.288Z"
   },
   {
    "duration": 7,
    "start_time": "2022-09-07T11:48:15.761Z"
   },
   {
    "duration": 6,
    "start_time": "2022-09-07T11:48:15.955Z"
   },
   {
    "duration": 8,
    "start_time": "2022-09-07T11:48:16.472Z"
   },
   {
    "duration": 6,
    "start_time": "2022-09-07T11:48:17.001Z"
   },
   {
    "duration": 8,
    "start_time": "2022-09-07T11:48:17.717Z"
   },
   {
    "duration": 275,
    "start_time": "2022-09-07T11:48:32.333Z"
   },
   {
    "duration": 246,
    "start_time": "2022-09-07T11:48:42.993Z"
   },
   {
    "duration": 167,
    "start_time": "2022-09-07T11:48:47.154Z"
   },
   {
    "duration": 148,
    "start_time": "2022-09-07T11:49:01.422Z"
   },
   {
    "duration": 271,
    "start_time": "2022-09-07T11:49:12.997Z"
   },
   {
    "duration": 368,
    "start_time": "2022-09-07T11:49:26.701Z"
   },
   {
    "duration": 147,
    "start_time": "2022-09-07T11:49:36.001Z"
   },
   {
    "duration": 261,
    "start_time": "2022-09-07T11:49:39.401Z"
   },
   {
    "duration": 8,
    "start_time": "2022-09-07T11:50:09.628Z"
   },
   {
    "duration": 7,
    "start_time": "2022-09-07T11:50:16.094Z"
   },
   {
    "duration": 47,
    "start_time": "2022-09-07T11:50:44.191Z"
   },
   {
    "duration": 379,
    "start_time": "2022-09-07T11:50:48.926Z"
   },
   {
    "duration": 2227,
    "start_time": "2022-09-07T11:50:49.307Z"
   },
   {
    "duration": 33,
    "start_time": "2022-09-07T11:50:51.536Z"
   },
   {
    "duration": 4,
    "start_time": "2022-09-07T11:50:51.571Z"
   },
   {
    "duration": 205,
    "start_time": "2022-09-07T11:50:51.578Z"
   },
   {
    "duration": 6,
    "start_time": "2022-09-07T11:50:51.785Z"
   },
   {
    "duration": 10,
    "start_time": "2022-09-07T11:50:51.793Z"
   },
   {
    "duration": 13,
    "start_time": "2022-09-07T11:50:51.804Z"
   },
   {
    "duration": 7,
    "start_time": "2022-09-07T11:50:51.818Z"
   },
   {
    "duration": 208,
    "start_time": "2022-09-07T11:50:51.827Z"
   },
   {
    "duration": 6,
    "start_time": "2022-09-07T11:50:52.037Z"
   },
   {
    "duration": 235,
    "start_time": "2022-09-07T11:50:52.045Z"
   },
   {
    "duration": 5,
    "start_time": "2022-09-07T11:50:52.289Z"
   },
   {
    "duration": 21,
    "start_time": "2022-09-07T11:50:52.298Z"
   },
   {
    "duration": 9,
    "start_time": "2022-09-07T11:50:52.320Z"
   },
   {
    "duration": 62,
    "start_time": "2022-09-07T11:50:52.330Z"
   },
   {
    "duration": 7,
    "start_time": "2022-09-07T11:50:52.394Z"
   },
   {
    "duration": 10,
    "start_time": "2022-09-07T11:50:52.403Z"
   },
   {
    "duration": 297,
    "start_time": "2022-09-07T11:50:52.415Z"
   },
   {
    "duration": 291,
    "start_time": "2022-09-07T11:50:52.713Z"
   },
   {
    "duration": 12,
    "start_time": "2022-09-07T11:50:53.006Z"
   },
   {
    "duration": 10,
    "start_time": "2022-09-07T11:50:53.019Z"
   },
   {
    "duration": 423,
    "start_time": "2022-09-07T11:50:53.031Z"
   },
   {
    "duration": 10,
    "start_time": "2022-09-07T11:50:53.456Z"
   },
   {
    "duration": 19,
    "start_time": "2022-09-07T11:50:53.468Z"
   },
   {
    "duration": 6,
    "start_time": "2022-09-07T11:50:53.489Z"
   },
   {
    "duration": 7,
    "start_time": "2022-09-07T11:50:53.496Z"
   },
   {
    "duration": 16,
    "start_time": "2022-09-07T11:50:53.504Z"
   },
   {
    "duration": 10,
    "start_time": "2022-09-07T11:50:53.521Z"
   },
   {
    "duration": 16,
    "start_time": "2022-09-07T11:50:53.532Z"
   },
   {
    "duration": 8,
    "start_time": "2022-09-07T11:50:53.550Z"
   },
   {
    "duration": 11,
    "start_time": "2022-09-07T11:50:53.560Z"
   },
   {
    "duration": 276,
    "start_time": "2022-09-07T11:50:53.572Z"
   },
   {
    "duration": 282,
    "start_time": "2022-09-07T11:50:53.851Z"
   },
   {
    "duration": 277,
    "start_time": "2022-09-07T11:50:54.135Z"
   },
   {
    "duration": 297,
    "start_time": "2022-09-07T11:50:54.414Z"
   },
   {
    "duration": 264,
    "start_time": "2022-09-07T11:50:54.713Z"
   },
   {
    "duration": 109,
    "start_time": "2022-09-07T11:50:54.979Z"
   },
   {
    "duration": 172,
    "start_time": "2022-09-07T11:50:55.090Z"
   },
   {
    "duration": 459,
    "start_time": "2022-09-07T11:50:55.263Z"
   },
   {
    "duration": 475,
    "start_time": "2022-09-07T11:50:55.725Z"
   },
   {
    "duration": 229,
    "start_time": "2022-09-07T11:50:56.202Z"
   },
   {
    "duration": 174,
    "start_time": "2022-09-07T11:50:56.433Z"
   },
   {
    "duration": 226,
    "start_time": "2022-09-07T11:50:56.609Z"
   },
   {
    "duration": 141,
    "start_time": "2022-09-07T11:50:56.837Z"
   },
   {
    "duration": 186,
    "start_time": "2022-09-07T11:50:56.986Z"
   },
   {
    "duration": 159,
    "start_time": "2022-09-07T11:50:57.173Z"
   },
   {
    "duration": 169,
    "start_time": "2022-09-07T11:50:57.333Z"
   },
   {
    "duration": 159,
    "start_time": "2022-09-07T11:50:57.504Z"
   },
   {
    "duration": 129,
    "start_time": "2022-09-07T11:50:57.665Z"
   },
   {
    "duration": 163,
    "start_time": "2022-09-07T11:50:57.795Z"
   },
   {
    "duration": 27,
    "start_time": "2022-09-07T11:50:57.960Z"
   },
   {
    "duration": 8,
    "start_time": "2022-09-07T11:50:57.989Z"
   },
   {
    "duration": 11,
    "start_time": "2022-09-07T11:50:57.999Z"
   },
   {
    "duration": 168,
    "start_time": "2022-09-07T11:50:58.011Z"
   },
   {
    "duration": 16,
    "start_time": "2022-09-07T11:51:03.488Z"
   },
   {
    "duration": 6,
    "start_time": "2022-09-07T11:51:11.489Z"
   },
   {
    "duration": 9,
    "start_time": "2022-09-07T11:51:12.032Z"
   },
   {
    "duration": 307,
    "start_time": "2022-09-07T11:51:15.789Z"
   },
   {
    "duration": 358,
    "start_time": "2022-09-07T11:51:17.620Z"
   },
   {
    "duration": 8,
    "start_time": "2022-09-07T11:51:39.444Z"
   },
   {
    "duration": 7,
    "start_time": "2022-09-07T11:51:41.861Z"
   },
   {
    "duration": 8,
    "start_time": "2022-09-07T11:51:51.834Z"
   },
   {
    "duration": 16,
    "start_time": "2022-09-07T11:51:58.997Z"
   },
   {
    "duration": 16,
    "start_time": "2022-09-07T11:52:01.697Z"
   },
   {
    "duration": 8,
    "start_time": "2022-09-07T11:52:09.451Z"
   },
   {
    "duration": 16,
    "start_time": "2022-09-07T11:52:13.302Z"
   },
   {
    "duration": 273,
    "start_time": "2022-09-07T11:52:29.340Z"
   },
   {
    "duration": 10,
    "start_time": "2022-09-07T11:52:40.409Z"
   },
   {
    "duration": 10,
    "start_time": "2022-09-07T11:52:40.890Z"
   },
   {
    "duration": 273,
    "start_time": "2022-09-07T11:52:42.850Z"
   },
   {
    "duration": 8,
    "start_time": "2022-09-07T11:52:44.374Z"
   },
   {
    "duration": 283,
    "start_time": "2022-09-07T11:52:53.756Z"
   },
   {
    "duration": 362,
    "start_time": "2022-09-07T11:52:59.159Z"
   },
   {
    "duration": 298,
    "start_time": "2022-09-07T11:53:11.895Z"
   },
   {
    "duration": 274,
    "start_time": "2022-09-07T11:53:20.321Z"
   },
   {
    "duration": 184,
    "start_time": "2022-09-07T11:53:26.280Z"
   },
   {
    "duration": 134,
    "start_time": "2022-09-07T11:53:41.456Z"
   },
   {
    "duration": 178,
    "start_time": "2022-09-07T11:53:53.915Z"
   },
   {
    "duration": 15,
    "start_time": "2022-09-07T11:55:17.100Z"
   },
   {
    "duration": 15,
    "start_time": "2022-09-07T11:55:19.398Z"
   },
   {
    "duration": 7,
    "start_time": "2022-09-07T11:55:22.200Z"
   },
   {
    "duration": 407,
    "start_time": "2022-09-07T11:55:32.082Z"
   },
   {
    "duration": 2215,
    "start_time": "2022-09-07T11:55:32.491Z"
   },
   {
    "duration": 32,
    "start_time": "2022-09-07T11:55:34.708Z"
   },
   {
    "duration": 4,
    "start_time": "2022-09-07T11:55:34.742Z"
   },
   {
    "duration": 216,
    "start_time": "2022-09-07T11:55:34.748Z"
   },
   {
    "duration": 5,
    "start_time": "2022-09-07T11:55:34.966Z"
   },
   {
    "duration": 17,
    "start_time": "2022-09-07T11:55:34.973Z"
   },
   {
    "duration": 8,
    "start_time": "2022-09-07T11:55:34.992Z"
   },
   {
    "duration": 10,
    "start_time": "2022-09-07T11:55:35.002Z"
   },
   {
    "duration": 183,
    "start_time": "2022-09-07T11:55:35.014Z"
   },
   {
    "duration": 6,
    "start_time": "2022-09-07T11:55:35.198Z"
   },
   {
    "duration": 229,
    "start_time": "2022-09-07T11:55:35.206Z"
   },
   {
    "duration": 4,
    "start_time": "2022-09-07T11:55:35.437Z"
   },
   {
    "duration": 19,
    "start_time": "2022-09-07T11:55:35.444Z"
   },
   {
    "duration": 12,
    "start_time": "2022-09-07T11:55:35.465Z"
   },
   {
    "duration": 54,
    "start_time": "2022-09-07T11:55:35.478Z"
   },
   {
    "duration": 8,
    "start_time": "2022-09-07T11:55:35.533Z"
   },
   {
    "duration": 14,
    "start_time": "2022-09-07T11:55:35.542Z"
   },
   {
    "duration": 309,
    "start_time": "2022-09-07T11:55:35.558Z"
   },
   {
    "duration": 313,
    "start_time": "2022-09-07T11:55:35.868Z"
   },
   {
    "duration": 16,
    "start_time": "2022-09-07T11:55:36.182Z"
   },
   {
    "duration": 16,
    "start_time": "2022-09-07T11:55:36.200Z"
   },
   {
    "duration": 474,
    "start_time": "2022-09-07T11:55:36.218Z"
   },
   {
    "duration": 8,
    "start_time": "2022-09-07T11:55:36.694Z"
   },
   {
    "duration": 8,
    "start_time": "2022-09-07T11:55:36.704Z"
   },
   {
    "duration": 8,
    "start_time": "2022-09-07T11:55:36.714Z"
   },
   {
    "duration": 9,
    "start_time": "2022-09-07T11:55:36.724Z"
   },
   {
    "duration": 166,
    "start_time": "2022-09-07T11:55:36.735Z"
   },
   {
    "duration": 9,
    "start_time": "2022-09-07T11:55:36.903Z"
   },
   {
    "duration": 12,
    "start_time": "2022-09-07T11:55:36.914Z"
   },
   {
    "duration": 11,
    "start_time": "2022-09-07T11:55:36.928Z"
   },
   {
    "duration": 290,
    "start_time": "2022-09-07T11:55:36.941Z"
   },
   {
    "duration": 283,
    "start_time": "2022-09-07T11:55:37.232Z"
   },
   {
    "duration": 291,
    "start_time": "2022-09-07T11:55:37.517Z"
   },
   {
    "duration": 281,
    "start_time": "2022-09-07T11:55:37.810Z"
   },
   {
    "duration": 241,
    "start_time": "2022-09-07T11:55:38.093Z"
   },
   {
    "duration": 108,
    "start_time": "2022-09-07T11:55:38.336Z"
   },
   {
    "duration": 181,
    "start_time": "2022-09-07T11:55:38.446Z"
   },
   {
    "duration": 465,
    "start_time": "2022-09-07T11:55:38.628Z"
   },
   {
    "duration": 470,
    "start_time": "2022-09-07T11:55:39.094Z"
   },
   {
    "duration": 169,
    "start_time": "2022-09-07T11:55:39.567Z"
   },
   {
    "duration": 166,
    "start_time": "2022-09-07T11:55:39.738Z"
   },
   {
    "duration": 228,
    "start_time": "2022-09-07T11:55:39.905Z"
   },
   {
    "duration": 166,
    "start_time": "2022-09-07T11:55:40.135Z"
   },
   {
    "duration": 270,
    "start_time": "2022-09-07T11:55:40.303Z"
   },
   {
    "duration": 171,
    "start_time": "2022-09-07T11:55:40.575Z"
   },
   {
    "duration": 152,
    "start_time": "2022-09-07T11:55:40.748Z"
   },
   {
    "duration": 153,
    "start_time": "2022-09-07T11:55:40.901Z"
   },
   {
    "duration": 123,
    "start_time": "2022-09-07T11:55:41.056Z"
   },
   {
    "duration": 160,
    "start_time": "2022-09-07T11:55:41.187Z"
   },
   {
    "duration": 21,
    "start_time": "2022-09-07T11:55:41.348Z"
   },
   {
    "duration": 20,
    "start_time": "2022-09-07T11:55:41.370Z"
   },
   {
    "duration": 11,
    "start_time": "2022-09-07T11:55:41.392Z"
   },
   {
    "duration": 152,
    "start_time": "2022-09-07T11:55:41.404Z"
   },
   {
    "duration": 23,
    "start_time": "2022-09-07T11:56:06.053Z"
   },
   {
    "duration": 8,
    "start_time": "2022-09-07T11:56:09.086Z"
   },
   {
    "duration": 10,
    "start_time": "2022-09-07T11:56:10.396Z"
   },
   {
    "duration": 438,
    "start_time": "2022-09-07T11:56:15.887Z"
   },
   {
    "duration": 309,
    "start_time": "2022-09-07T11:56:16.606Z"
   },
   {
    "duration": 14,
    "start_time": "2022-09-07T11:56:17.181Z"
   },
   {
    "duration": 304,
    "start_time": "2022-09-07T11:56:26.419Z"
   },
   {
    "duration": 12,
    "start_time": "2022-09-07T11:56:27.081Z"
   },
   {
    "duration": 11,
    "start_time": "2022-09-07T11:56:29.919Z"
   },
   {
    "duration": 281,
    "start_time": "2022-09-07T11:56:32.298Z"
   },
   {
    "duration": 866,
    "start_time": "2022-09-07T11:57:10.491Z"
   },
   {
    "duration": 12,
    "start_time": "2022-09-07T11:57:20.703Z"
   },
   {
    "duration": 12,
    "start_time": "2022-09-07T11:57:54.991Z"
   },
   {
    "duration": 13,
    "start_time": "2022-09-07T11:57:59.101Z"
   },
   {
    "duration": 12,
    "start_time": "2022-09-07T11:57:59.649Z"
   },
   {
    "duration": 17,
    "start_time": "2022-09-07T11:58:05.249Z"
   },
   {
    "duration": 10,
    "start_time": "2022-09-07T12:01:18.724Z"
   },
   {
    "duration": 9,
    "start_time": "2022-09-07T12:01:25.519Z"
   },
   {
    "duration": 17,
    "start_time": "2022-09-07T12:01:37.684Z"
   },
   {
    "duration": 23,
    "start_time": "2022-09-07T12:01:49.650Z"
   },
   {
    "duration": 9,
    "start_time": "2022-09-07T12:02:09.526Z"
   },
   {
    "duration": 9,
    "start_time": "2022-09-07T12:02:09.997Z"
   },
   {
    "duration": 10,
    "start_time": "2022-09-07T12:02:23.352Z"
   },
   {
    "duration": 58,
    "start_time": "2022-09-07T12:02:30.802Z"
   },
   {
    "duration": 8,
    "start_time": "2022-09-07T12:02:34.330Z"
   },
   {
    "duration": 419,
    "start_time": "2022-09-07T12:02:35.950Z"
   },
   {
    "duration": 7,
    "start_time": "2022-09-07T12:02:37.097Z"
   },
   {
    "duration": 14,
    "start_time": "2022-09-07T12:02:42.428Z"
   },
   {
    "duration": 416,
    "start_time": "2022-09-07T12:02:48.341Z"
   },
   {
    "duration": 2439,
    "start_time": "2022-09-07T12:02:48.759Z"
   },
   {
    "duration": 33,
    "start_time": "2022-09-07T12:02:51.201Z"
   },
   {
    "duration": 4,
    "start_time": "2022-09-07T12:02:51.235Z"
   },
   {
    "duration": 210,
    "start_time": "2022-09-07T12:02:51.241Z"
   },
   {
    "duration": 6,
    "start_time": "2022-09-07T12:02:51.452Z"
   },
   {
    "duration": 9,
    "start_time": "2022-09-07T12:02:51.459Z"
   },
   {
    "duration": 22,
    "start_time": "2022-09-07T12:02:51.470Z"
   },
   {
    "duration": 9,
    "start_time": "2022-09-07T12:02:51.494Z"
   },
   {
    "duration": 188,
    "start_time": "2022-09-07T12:02:51.505Z"
   },
   {
    "duration": 7,
    "start_time": "2022-09-07T12:02:51.694Z"
   },
   {
    "duration": 242,
    "start_time": "2022-09-07T12:02:51.702Z"
   },
   {
    "duration": 5,
    "start_time": "2022-09-07T12:02:51.945Z"
   },
   {
    "duration": 16,
    "start_time": "2022-09-07T12:02:51.952Z"
   },
   {
    "duration": 23,
    "start_time": "2022-09-07T12:02:51.969Z"
   },
   {
    "duration": 54,
    "start_time": "2022-09-07T12:02:51.994Z"
   },
   {
    "duration": 7,
    "start_time": "2022-09-07T12:02:52.050Z"
   },
   {
    "duration": 31,
    "start_time": "2022-09-07T12:02:52.059Z"
   },
   {
    "duration": 340,
    "start_time": "2022-09-07T12:02:52.091Z"
   },
   {
    "duration": 319,
    "start_time": "2022-09-07T12:02:52.432Z"
   },
   {
    "duration": 13,
    "start_time": "2022-09-07T12:02:52.753Z"
   },
   {
    "duration": 24,
    "start_time": "2022-09-07T12:02:52.768Z"
   },
   {
    "duration": 11,
    "start_time": "2022-09-07T12:02:52.793Z"
   },
   {
    "duration": 11,
    "start_time": "2022-09-07T12:02:52.805Z"
   },
   {
    "duration": 421,
    "start_time": "2022-09-07T12:02:52.818Z"
   },
   {
    "duration": 22,
    "start_time": "2022-09-07T12:02:53.241Z"
   },
   {
    "duration": 17,
    "start_time": "2022-09-07T12:02:53.265Z"
   },
   {
    "duration": 9,
    "start_time": "2022-09-07T12:02:53.284Z"
   },
   {
    "duration": 9,
    "start_time": "2022-09-07T12:02:53.294Z"
   },
   {
    "duration": 14,
    "start_time": "2022-09-07T12:02:53.304Z"
   },
   {
    "duration": 16,
    "start_time": "2022-09-07T12:02:53.319Z"
   },
   {
    "duration": 14,
    "start_time": "2022-09-07T12:02:53.336Z"
   },
   {
    "duration": 10,
    "start_time": "2022-09-07T12:02:53.352Z"
   },
   {
    "duration": 10,
    "start_time": "2022-09-07T12:02:53.363Z"
   },
   {
    "duration": 278,
    "start_time": "2022-09-07T12:02:53.375Z"
   },
   {
    "duration": 282,
    "start_time": "2022-09-07T12:02:53.655Z"
   },
   {
    "duration": 278,
    "start_time": "2022-09-07T12:02:53.939Z"
   },
   {
    "duration": 290,
    "start_time": "2022-09-07T12:02:54.219Z"
   },
   {
    "duration": 272,
    "start_time": "2022-09-07T12:02:54.511Z"
   },
   {
    "duration": 122,
    "start_time": "2022-09-07T12:02:54.786Z"
   },
   {
    "duration": 185,
    "start_time": "2022-09-07T12:02:54.912Z"
   },
   {
    "duration": 464,
    "start_time": "2022-09-07T12:02:55.099Z"
   },
   {
    "duration": 489,
    "start_time": "2022-09-07T12:02:55.565Z"
   },
   {
    "duration": 212,
    "start_time": "2022-09-07T12:02:56.056Z"
   },
   {
    "duration": 197,
    "start_time": "2022-09-07T12:02:56.270Z"
   },
   {
    "duration": 235,
    "start_time": "2022-09-07T12:02:56.469Z"
   },
   {
    "duration": 151,
    "start_time": "2022-09-07T12:02:56.706Z"
   },
   {
    "duration": 207,
    "start_time": "2022-09-07T12:02:56.859Z"
   },
   {
    "duration": 164,
    "start_time": "2022-09-07T12:02:57.068Z"
   },
   {
    "duration": 158,
    "start_time": "2022-09-07T12:02:57.233Z"
   },
   {
    "duration": 166,
    "start_time": "2022-09-07T12:02:57.392Z"
   },
   {
    "duration": 147,
    "start_time": "2022-09-07T12:02:57.560Z"
   },
   {
    "duration": 169,
    "start_time": "2022-09-07T12:02:57.709Z"
   },
   {
    "duration": 25,
    "start_time": "2022-09-07T12:02:57.880Z"
   },
   {
    "duration": 10,
    "start_time": "2022-09-07T12:02:57.907Z"
   },
   {
    "duration": 11,
    "start_time": "2022-09-07T12:02:57.919Z"
   },
   {
    "duration": 179,
    "start_time": "2022-09-07T12:02:57.932Z"
   },
   {
    "duration": 14,
    "start_time": "2022-09-07T12:02:58.327Z"
   },
   {
    "duration": 6,
    "start_time": "2022-09-07T12:03:17.304Z"
   },
   {
    "duration": 7,
    "start_time": "2022-09-07T12:03:19.254Z"
   },
   {
    "duration": 395,
    "start_time": "2022-09-07T12:03:26.600Z"
   },
   {
    "duration": 2277,
    "start_time": "2022-09-07T12:03:26.997Z"
   },
   {
    "duration": 32,
    "start_time": "2022-09-07T12:03:29.276Z"
   },
   {
    "duration": 4,
    "start_time": "2022-09-07T12:03:29.310Z"
   },
   {
    "duration": 220,
    "start_time": "2022-09-07T12:03:29.316Z"
   },
   {
    "duration": 6,
    "start_time": "2022-09-07T12:03:29.537Z"
   },
   {
    "duration": 8,
    "start_time": "2022-09-07T12:03:29.544Z"
   },
   {
    "duration": 12,
    "start_time": "2022-09-07T12:03:29.554Z"
   },
   {
    "duration": 7,
    "start_time": "2022-09-07T12:03:29.586Z"
   },
   {
    "duration": 184,
    "start_time": "2022-09-07T12:03:29.595Z"
   },
   {
    "duration": 10,
    "start_time": "2022-09-07T12:03:29.780Z"
   },
   {
    "duration": 247,
    "start_time": "2022-09-07T12:03:29.792Z"
   },
   {
    "duration": 4,
    "start_time": "2022-09-07T12:03:30.041Z"
   },
   {
    "duration": 48,
    "start_time": "2022-09-07T12:03:30.047Z"
   },
   {
    "duration": 36,
    "start_time": "2022-09-07T12:03:30.097Z"
   },
   {
    "duration": 60,
    "start_time": "2022-09-07T12:03:30.135Z"
   },
   {
    "duration": 9,
    "start_time": "2022-09-07T12:03:30.197Z"
   },
   {
    "duration": 28,
    "start_time": "2022-09-07T12:03:30.208Z"
   },
   {
    "duration": 312,
    "start_time": "2022-09-07T12:03:30.238Z"
   },
   {
    "duration": 296,
    "start_time": "2022-09-07T12:03:30.551Z"
   },
   {
    "duration": 13,
    "start_time": "2022-09-07T12:03:30.849Z"
   },
   {
    "duration": 45,
    "start_time": "2022-09-07T12:03:30.864Z"
   },
   {
    "duration": 29,
    "start_time": "2022-09-07T12:03:30.911Z"
   },
   {
    "duration": 53,
    "start_time": "2022-09-07T12:03:30.942Z"
   },
   {
    "duration": 411,
    "start_time": "2022-09-07T12:03:30.997Z"
   },
   {
    "duration": 10,
    "start_time": "2022-09-07T12:03:31.410Z"
   },
   {
    "duration": 10,
    "start_time": "2022-09-07T12:03:31.422Z"
   },
   {
    "duration": 8,
    "start_time": "2022-09-07T12:03:31.435Z"
   },
   {
    "duration": 19,
    "start_time": "2022-09-07T12:03:31.444Z"
   },
   {
    "duration": 25,
    "start_time": "2022-09-07T12:03:31.465Z"
   },
   {
    "duration": 125,
    "start_time": "2022-09-07T12:03:31.492Z"
   },
   {
    "duration": 10,
    "start_time": "2022-09-07T12:03:31.619Z"
   },
   {
    "duration": 8,
    "start_time": "2022-09-07T12:03:31.631Z"
   },
   {
    "duration": 13,
    "start_time": "2022-09-07T12:03:31.640Z"
   },
   {
    "duration": 302,
    "start_time": "2022-09-07T12:03:31.654Z"
   },
   {
    "duration": 296,
    "start_time": "2022-09-07T12:03:31.958Z"
   },
   {
    "duration": 307,
    "start_time": "2022-09-07T12:03:32.257Z"
   },
   {
    "duration": 279,
    "start_time": "2022-09-07T12:03:32.566Z"
   },
   {
    "duration": 250,
    "start_time": "2022-09-07T12:03:32.847Z"
   },
   {
    "duration": 111,
    "start_time": "2022-09-07T12:03:33.099Z"
   },
   {
    "duration": 171,
    "start_time": "2022-09-07T12:03:33.211Z"
   },
   {
    "duration": 474,
    "start_time": "2022-09-07T12:03:33.387Z"
   },
   {
    "duration": 474,
    "start_time": "2022-09-07T12:03:33.862Z"
   },
   {
    "duration": 172,
    "start_time": "2022-09-07T12:03:34.337Z"
   },
   {
    "duration": 172,
    "start_time": "2022-09-07T12:03:34.511Z"
   },
   {
    "duration": 225,
    "start_time": "2022-09-07T12:03:34.685Z"
   },
   {
    "duration": 169,
    "start_time": "2022-09-07T12:03:34.911Z"
   },
   {
    "duration": 241,
    "start_time": "2022-09-07T12:03:35.081Z"
   },
   {
    "duration": 182,
    "start_time": "2022-09-07T12:03:35.324Z"
   },
   {
    "duration": 154,
    "start_time": "2022-09-07T12:03:35.508Z"
   },
   {
    "duration": 150,
    "start_time": "2022-09-07T12:03:35.664Z"
   },
   {
    "duration": 131,
    "start_time": "2022-09-07T12:03:35.816Z"
   },
   {
    "duration": 172,
    "start_time": "2022-09-07T12:03:35.948Z"
   },
   {
    "duration": 24,
    "start_time": "2022-09-07T12:03:36.122Z"
   },
   {
    "duration": 8,
    "start_time": "2022-09-07T12:03:36.148Z"
   },
   {
    "duration": 32,
    "start_time": "2022-09-07T12:03:36.158Z"
   },
   {
    "duration": 216,
    "start_time": "2022-09-07T12:03:36.196Z"
   },
   {
    "duration": 20,
    "start_time": "2022-09-07T12:03:36.449Z"
   },
   {
    "duration": 158,
    "start_time": "2022-09-07T12:03:59.474Z"
   },
   {
    "duration": 210,
    "start_time": "2022-09-07T12:04:02.402Z"
   },
   {
    "duration": 154,
    "start_time": "2022-09-07T12:04:06.015Z"
   },
   {
    "duration": 158,
    "start_time": "2022-09-07T12:04:08.046Z"
   },
   {
    "duration": 177,
    "start_time": "2022-09-07T12:05:26.430Z"
   },
   {
    "duration": 146,
    "start_time": "2022-09-07T12:05:50.228Z"
   },
   {
    "duration": 172,
    "start_time": "2022-09-07T12:05:55.685Z"
   },
   {
    "duration": 145,
    "start_time": "2022-09-07T12:06:10.643Z"
   },
   {
    "duration": 157,
    "start_time": "2022-09-07T12:08:59.425Z"
   },
   {
    "duration": 145,
    "start_time": "2022-09-07T12:09:22.153Z"
   },
   {
    "duration": 289,
    "start_time": "2022-09-07T12:20:50.421Z"
   },
   {
    "duration": 366,
    "start_time": "2022-09-07T12:20:59.549Z"
   },
   {
    "duration": 312,
    "start_time": "2022-09-07T12:21:08.676Z"
   },
   {
    "duration": 308,
    "start_time": "2022-09-07T12:21:17.099Z"
   },
   {
    "duration": 288,
    "start_time": "2022-09-07T12:21:23.442Z"
   },
   {
    "duration": 275,
    "start_time": "2022-09-07T12:21:30.768Z"
   },
   {
    "duration": 338,
    "start_time": "2022-09-07T12:22:12.379Z"
   },
   {
    "duration": 293,
    "start_time": "2022-09-07T12:22:17.285Z"
   },
   {
    "duration": 154,
    "start_time": "2022-09-07T12:23:05.274Z"
   },
   {
    "duration": 196,
    "start_time": "2022-09-07T12:24:26.786Z"
   },
   {
    "duration": 173,
    "start_time": "2022-09-07T12:24:45.525Z"
   },
   {
    "duration": 1506,
    "start_time": "2022-09-07T12:25:11.738Z"
   },
   {
    "duration": 173,
    "start_time": "2022-09-07T12:25:38.294Z"
   },
   {
    "duration": 184,
    "start_time": "2022-09-07T12:30:33.447Z"
   },
   {
    "duration": 167,
    "start_time": "2022-09-07T12:30:37.845Z"
   },
   {
    "duration": 160,
    "start_time": "2022-09-07T12:30:38.890Z"
   },
   {
    "duration": 169,
    "start_time": "2022-09-07T12:30:50.753Z"
   },
   {
    "duration": 279,
    "start_time": "2022-09-07T12:31:01.300Z"
   },
   {
    "duration": 164,
    "start_time": "2022-09-07T12:31:07.906Z"
   },
   {
    "duration": 474,
    "start_time": "2022-09-07T12:32:41.749Z"
   },
   {
    "duration": 470,
    "start_time": "2022-09-07T12:32:44.688Z"
   },
   {
    "duration": 164,
    "start_time": "2022-09-07T12:32:45.525Z"
   },
   {
    "duration": 208,
    "start_time": "2022-09-07T12:32:46.331Z"
   },
   {
    "duration": 156,
    "start_time": "2022-09-07T12:32:46.541Z"
   },
   {
    "duration": 253,
    "start_time": "2022-09-07T12:32:46.699Z"
   },
   {
    "duration": 143,
    "start_time": "2022-09-07T12:32:46.954Z"
   },
   {
    "duration": 161,
    "start_time": "2022-09-07T12:32:47.189Z"
   },
   {
    "duration": 250,
    "start_time": "2022-09-07T12:32:47.488Z"
   },
   {
    "duration": 177,
    "start_time": "2022-09-07T12:32:47.741Z"
   },
   {
    "duration": 145,
    "start_time": "2022-09-07T12:32:47.950Z"
   },
   {
    "duration": 142,
    "start_time": "2022-09-07T12:32:48.114Z"
   },
   {
    "duration": 106,
    "start_time": "2022-09-07T12:32:48.417Z"
   },
   {
    "duration": 143,
    "start_time": "2022-09-07T12:32:48.573Z"
   },
   {
    "duration": 22,
    "start_time": "2022-09-07T12:32:51.802Z"
   },
   {
    "duration": 9,
    "start_time": "2022-09-07T12:32:51.992Z"
   },
   {
    "duration": 10,
    "start_time": "2022-09-07T12:32:52.159Z"
   },
   {
    "duration": 194,
    "start_time": "2022-09-07T12:33:16.823Z"
   },
   {
    "duration": 24,
    "start_time": "2022-09-07T12:34:00.476Z"
   },
   {
    "duration": 21,
    "start_time": "2022-09-07T13:03:53.070Z"
   },
   {
    "duration": 21,
    "start_time": "2022-09-07T13:07:21.400Z"
   },
   {
    "duration": 95,
    "start_time": "2022-09-07T13:08:06.974Z"
   },
   {
    "duration": 439,
    "start_time": "2022-09-08T10:30:39.296Z"
   },
   {
    "duration": 2527,
    "start_time": "2022-09-08T10:30:39.738Z"
   },
   {
    "duration": 35,
    "start_time": "2022-09-08T10:30:42.267Z"
   },
   {
    "duration": 5,
    "start_time": "2022-09-08T10:30:42.303Z"
   },
   {
    "duration": 248,
    "start_time": "2022-09-08T10:30:42.310Z"
   },
   {
    "duration": 10,
    "start_time": "2022-09-08T10:30:42.560Z"
   },
   {
    "duration": 12,
    "start_time": "2022-09-08T10:30:42.572Z"
   },
   {
    "duration": 12,
    "start_time": "2022-09-08T10:30:42.586Z"
   },
   {
    "duration": 8,
    "start_time": "2022-09-08T10:30:42.600Z"
   },
   {
    "duration": 210,
    "start_time": "2022-09-08T10:30:42.610Z"
   },
   {
    "duration": 7,
    "start_time": "2022-09-08T10:30:42.822Z"
   },
   {
    "duration": 263,
    "start_time": "2022-09-08T10:30:42.831Z"
   },
   {
    "duration": 5,
    "start_time": "2022-09-08T10:30:43.096Z"
   },
   {
    "duration": 18,
    "start_time": "2022-09-08T10:30:43.104Z"
   },
   {
    "duration": 9,
    "start_time": "2022-09-08T10:30:43.124Z"
   },
   {
    "duration": 97,
    "start_time": "2022-09-08T10:30:43.135Z"
   },
   {
    "duration": 0,
    "start_time": "2022-09-08T10:30:43.234Z"
   },
   {
    "duration": 0,
    "start_time": "2022-09-08T10:30:43.236Z"
   },
   {
    "duration": 0,
    "start_time": "2022-09-08T10:30:43.237Z"
   },
   {
    "duration": 0,
    "start_time": "2022-09-08T10:30:43.238Z"
   },
   {
    "duration": 0,
    "start_time": "2022-09-08T10:30:43.239Z"
   },
   {
    "duration": 0,
    "start_time": "2022-09-08T10:30:43.267Z"
   },
   {
    "duration": 0,
    "start_time": "2022-09-08T10:30:43.268Z"
   },
   {
    "duration": 0,
    "start_time": "2022-09-08T10:30:43.269Z"
   },
   {
    "duration": 0,
    "start_time": "2022-09-08T10:30:43.270Z"
   },
   {
    "duration": 0,
    "start_time": "2022-09-08T10:30:43.271Z"
   },
   {
    "duration": 0,
    "start_time": "2022-09-08T10:30:43.272Z"
   },
   {
    "duration": 0,
    "start_time": "2022-09-08T10:30:43.273Z"
   },
   {
    "duration": 0,
    "start_time": "2022-09-08T10:30:43.274Z"
   },
   {
    "duration": 0,
    "start_time": "2022-09-08T10:30:43.275Z"
   },
   {
    "duration": 0,
    "start_time": "2022-09-08T10:30:43.276Z"
   },
   {
    "duration": 0,
    "start_time": "2022-09-08T10:30:43.277Z"
   },
   {
    "duration": 0,
    "start_time": "2022-09-08T10:30:43.279Z"
   },
   {
    "duration": 0,
    "start_time": "2022-09-08T10:30:43.280Z"
   },
   {
    "duration": 0,
    "start_time": "2022-09-08T10:30:43.281Z"
   },
   {
    "duration": 0,
    "start_time": "2022-09-08T10:30:43.282Z"
   },
   {
    "duration": 0,
    "start_time": "2022-09-08T10:30:43.283Z"
   },
   {
    "duration": 0,
    "start_time": "2022-09-08T10:30:43.284Z"
   },
   {
    "duration": 0,
    "start_time": "2022-09-08T10:30:43.285Z"
   },
   {
    "duration": 0,
    "start_time": "2022-09-08T10:30:43.287Z"
   },
   {
    "duration": 0,
    "start_time": "2022-09-08T10:30:43.288Z"
   },
   {
    "duration": 0,
    "start_time": "2022-09-08T10:30:43.289Z"
   },
   {
    "duration": 0,
    "start_time": "2022-09-08T10:30:43.290Z"
   },
   {
    "duration": 0,
    "start_time": "2022-09-08T10:30:43.291Z"
   },
   {
    "duration": 0,
    "start_time": "2022-09-08T10:30:43.292Z"
   },
   {
    "duration": 0,
    "start_time": "2022-09-08T10:30:43.293Z"
   },
   {
    "duration": 0,
    "start_time": "2022-09-08T10:30:43.294Z"
   },
   {
    "duration": 0,
    "start_time": "2022-09-08T10:30:43.295Z"
   },
   {
    "duration": 0,
    "start_time": "2022-09-08T10:30:43.296Z"
   },
   {
    "duration": 0,
    "start_time": "2022-09-08T10:30:43.297Z"
   },
   {
    "duration": 0,
    "start_time": "2022-09-08T10:30:43.298Z"
   },
   {
    "duration": 0,
    "start_time": "2022-09-08T10:30:43.299Z"
   },
   {
    "duration": 0,
    "start_time": "2022-09-08T10:30:43.300Z"
   },
   {
    "duration": 0,
    "start_time": "2022-09-08T10:30:43.301Z"
   },
   {
    "duration": 0,
    "start_time": "2022-09-08T10:30:43.302Z"
   },
   {
    "duration": 0,
    "start_time": "2022-09-08T10:30:43.303Z"
   },
   {
    "duration": 0,
    "start_time": "2022-09-08T10:30:43.304Z"
   },
   {
    "duration": 0,
    "start_time": "2022-09-08T10:30:43.305Z"
   },
   {
    "duration": 0,
    "start_time": "2022-09-08T10:30:43.368Z"
   },
   {
    "duration": 0,
    "start_time": "2022-09-08T10:30:43.369Z"
   },
   {
    "duration": 0,
    "start_time": "2022-09-08T10:30:43.370Z"
   },
   {
    "duration": 0,
    "start_time": "2022-09-08T10:30:43.371Z"
   },
   {
    "duration": 0,
    "start_time": "2022-09-08T10:30:43.372Z"
   },
   {
    "duration": 0,
    "start_time": "2022-09-08T10:30:43.373Z"
   },
   {
    "duration": 60,
    "start_time": "2022-09-08T10:37:20.888Z"
   },
   {
    "duration": 410,
    "start_time": "2022-09-08T10:37:35.935Z"
   },
   {
    "duration": 2421,
    "start_time": "2022-09-08T10:37:36.347Z"
   },
   {
    "duration": 35,
    "start_time": "2022-09-08T10:37:38.770Z"
   },
   {
    "duration": 4,
    "start_time": "2022-09-08T10:37:38.807Z"
   },
   {
    "duration": 250,
    "start_time": "2022-09-08T10:37:38.813Z"
   },
   {
    "duration": 5,
    "start_time": "2022-09-08T10:37:39.067Z"
   },
   {
    "duration": 9,
    "start_time": "2022-09-08T10:37:39.074Z"
   },
   {
    "duration": 9,
    "start_time": "2022-09-08T10:37:39.085Z"
   },
   {
    "duration": 6,
    "start_time": "2022-09-08T10:37:39.096Z"
   },
   {
    "duration": 228,
    "start_time": "2022-09-08T10:37:39.105Z"
   },
   {
    "duration": 7,
    "start_time": "2022-09-08T10:37:39.334Z"
   },
   {
    "duration": 267,
    "start_time": "2022-09-08T10:37:39.342Z"
   },
   {
    "duration": 5,
    "start_time": "2022-09-08T10:37:39.611Z"
   },
   {
    "duration": 16,
    "start_time": "2022-09-08T10:37:39.617Z"
   },
   {
    "duration": 33,
    "start_time": "2022-09-08T10:37:39.635Z"
   },
   {
    "duration": 63,
    "start_time": "2022-09-08T10:37:39.669Z"
   },
   {
    "duration": 8,
    "start_time": "2022-09-08T10:37:39.733Z"
   },
   {
    "duration": 31,
    "start_time": "2022-09-08T10:37:39.742Z"
   },
   {
    "duration": 326,
    "start_time": "2022-09-08T10:37:39.775Z"
   },
   {
    "duration": 364,
    "start_time": "2022-09-08T10:37:40.102Z"
   },
   {
    "duration": 18,
    "start_time": "2022-09-08T10:37:40.468Z"
   },
   {
    "duration": 12,
    "start_time": "2022-09-08T10:37:40.488Z"
   },
   {
    "duration": 12,
    "start_time": "2022-09-08T10:37:40.502Z"
   },
   {
    "duration": 12,
    "start_time": "2022-09-08T10:37:40.515Z"
   },
   {
    "duration": 448,
    "start_time": "2022-09-08T10:37:40.529Z"
   },
   {
    "duration": 12,
    "start_time": "2022-09-08T10:37:40.978Z"
   },
   {
    "duration": 13,
    "start_time": "2022-09-08T10:37:40.991Z"
   },
   {
    "duration": 12,
    "start_time": "2022-09-08T10:37:41.008Z"
   },
   {
    "duration": 11,
    "start_time": "2022-09-08T10:37:41.022Z"
   },
   {
    "duration": 35,
    "start_time": "2022-09-08T10:37:41.035Z"
   },
   {
    "duration": 157,
    "start_time": "2022-09-08T10:37:41.072Z"
   },
   {
    "duration": 10,
    "start_time": "2022-09-08T10:37:41.231Z"
   },
   {
    "duration": 9,
    "start_time": "2022-09-08T10:37:41.242Z"
   },
   {
    "duration": 10,
    "start_time": "2022-09-08T10:37:41.268Z"
   },
   {
    "duration": 351,
    "start_time": "2022-09-08T10:37:41.279Z"
   },
   {
    "duration": 309,
    "start_time": "2022-09-08T10:37:41.632Z"
   },
   {
    "duration": 314,
    "start_time": "2022-09-08T10:37:41.942Z"
   },
   {
    "duration": 311,
    "start_time": "2022-09-08T10:37:42.258Z"
   },
   {
    "duration": 272,
    "start_time": "2022-09-08T10:37:42.571Z"
   },
   {
    "duration": 128,
    "start_time": "2022-09-08T10:37:42.845Z"
   },
   {
    "duration": 198,
    "start_time": "2022-09-08T10:37:42.974Z"
   },
   {
    "duration": 220,
    "start_time": "2022-09-08T10:37:43.174Z"
   },
   {
    "duration": 209,
    "start_time": "2022-09-08T10:37:43.396Z"
   },
   {
    "duration": 206,
    "start_time": "2022-09-08T10:37:43.606Z"
   },
   {
    "duration": 289,
    "start_time": "2022-09-08T10:37:43.814Z"
   },
   {
    "duration": 276,
    "start_time": "2022-09-08T10:37:44.105Z"
   },
   {
    "duration": 596,
    "start_time": "2022-09-08T10:37:44.383Z"
   },
   {
    "duration": 1120,
    "start_time": "2022-09-08T10:37:44.981Z"
   },
   {
    "duration": 386,
    "start_time": "2022-09-08T10:37:46.102Z"
   },
   {
    "duration": 419,
    "start_time": "2022-09-08T10:37:46.489Z"
   },
   {
    "duration": 299,
    "start_time": "2022-09-08T10:37:46.911Z"
   },
   {
    "duration": 262,
    "start_time": "2022-09-08T10:37:47.212Z"
   },
   {
    "duration": 156,
    "start_time": "2022-09-08T10:37:47.475Z"
   },
   {
    "duration": 204,
    "start_time": "2022-09-08T10:37:47.634Z"
   },
   {
    "duration": 341,
    "start_time": "2022-09-08T10:37:47.840Z"
   },
   {
    "duration": 344,
    "start_time": "2022-09-08T10:37:48.183Z"
   },
   {
    "duration": 174,
    "start_time": "2022-09-08T10:37:48.529Z"
   },
   {
    "duration": 164,
    "start_time": "2022-09-08T10:37:48.705Z"
   },
   {
    "duration": 155,
    "start_time": "2022-09-08T10:37:48.871Z"
   },
   {
    "duration": 178,
    "start_time": "2022-09-08T10:37:49.028Z"
   },
   {
    "duration": 26,
    "start_time": "2022-09-08T10:37:49.208Z"
   },
   {
    "duration": 7,
    "start_time": "2022-09-08T10:37:49.236Z"
   },
   {
    "duration": 7,
    "start_time": "2022-09-08T10:37:49.268Z"
   },
   {
    "duration": 160,
    "start_time": "2022-09-08T10:37:49.277Z"
   },
   {
    "duration": 25,
    "start_time": "2022-09-08T10:56:37.750Z"
   },
   {
    "duration": 441,
    "start_time": "2022-09-08T10:57:59.066Z"
   },
   {
    "duration": 2553,
    "start_time": "2022-09-08T10:57:59.510Z"
   },
   {
    "duration": 44,
    "start_time": "2022-09-08T10:58:02.071Z"
   },
   {
    "duration": 4,
    "start_time": "2022-09-08T10:58:02.117Z"
   },
   {
    "duration": 281,
    "start_time": "2022-09-08T10:58:02.122Z"
   },
   {
    "duration": 5,
    "start_time": "2022-09-08T10:58:02.405Z"
   },
   {
    "duration": 8,
    "start_time": "2022-09-08T10:58:02.411Z"
   },
   {
    "duration": 9,
    "start_time": "2022-09-08T10:58:02.420Z"
   },
   {
    "duration": 9,
    "start_time": "2022-09-08T10:58:02.431Z"
   },
   {
    "duration": 221,
    "start_time": "2022-09-08T10:58:02.441Z"
   },
   {
    "duration": 12,
    "start_time": "2022-09-08T10:58:02.664Z"
   },
   {
    "duration": 285,
    "start_time": "2022-09-08T10:58:02.679Z"
   },
   {
    "duration": 7,
    "start_time": "2022-09-08T10:58:02.971Z"
   },
   {
    "duration": 23,
    "start_time": "2022-09-08T10:58:02.981Z"
   },
   {
    "duration": 9,
    "start_time": "2022-09-08T10:58:03.005Z"
   },
   {
    "duration": 85,
    "start_time": "2022-09-08T10:58:03.015Z"
   },
   {
    "duration": 7,
    "start_time": "2022-09-08T10:58:03.102Z"
   },
   {
    "duration": 11,
    "start_time": "2022-09-08T10:58:03.111Z"
   },
   {
    "duration": 387,
    "start_time": "2022-09-08T10:58:03.123Z"
   },
   {
    "duration": 353,
    "start_time": "2022-09-08T10:58:03.512Z"
   },
   {
    "duration": 29,
    "start_time": "2022-09-08T10:58:03.868Z"
   },
   {
    "duration": 20,
    "start_time": "2022-09-08T10:58:03.898Z"
   },
   {
    "duration": 16,
    "start_time": "2022-09-08T10:58:03.920Z"
   },
   {
    "duration": 37,
    "start_time": "2022-09-08T10:58:03.938Z"
   },
   {
    "duration": 480,
    "start_time": "2022-09-08T10:58:03.977Z"
   },
   {
    "duration": 23,
    "start_time": "2022-09-08T10:58:04.458Z"
   },
   {
    "duration": 9,
    "start_time": "2022-09-08T10:58:04.484Z"
   },
   {
    "duration": 12,
    "start_time": "2022-09-08T10:58:04.495Z"
   },
   {
    "duration": 8,
    "start_time": "2022-09-08T10:58:04.508Z"
   },
   {
    "duration": 8,
    "start_time": "2022-09-08T10:58:04.518Z"
   },
   {
    "duration": 163,
    "start_time": "2022-09-08T10:58:04.527Z"
   },
   {
    "duration": 9,
    "start_time": "2022-09-08T10:58:04.692Z"
   },
   {
    "duration": 6,
    "start_time": "2022-09-08T10:58:04.703Z"
   },
   {
    "duration": 7,
    "start_time": "2022-09-08T10:58:04.711Z"
   },
   {
    "duration": 342,
    "start_time": "2022-09-08T10:58:04.720Z"
   },
   {
    "duration": 339,
    "start_time": "2022-09-08T10:58:05.068Z"
   },
   {
    "duration": 335,
    "start_time": "2022-09-08T10:58:05.409Z"
   },
   {
    "duration": 343,
    "start_time": "2022-09-08T10:58:05.745Z"
   },
   {
    "duration": 306,
    "start_time": "2022-09-08T10:58:06.091Z"
   },
   {
    "duration": 126,
    "start_time": "2022-09-08T10:58:06.401Z"
   },
   {
    "duration": 236,
    "start_time": "2022-09-08T10:58:06.535Z"
   },
   {
    "duration": 233,
    "start_time": "2022-09-08T10:58:06.773Z"
   },
   {
    "duration": 216,
    "start_time": "2022-09-08T10:58:07.007Z"
   },
   {
    "duration": 193,
    "start_time": "2022-09-08T10:58:07.224Z"
   },
   {
    "duration": 201,
    "start_time": "2022-09-08T10:58:07.419Z"
   },
   {
    "duration": 193,
    "start_time": "2022-09-08T10:58:07.622Z"
   },
   {
    "duration": 512,
    "start_time": "2022-09-08T10:58:07.817Z"
   },
   {
    "duration": 594,
    "start_time": "2022-09-08T10:58:08.330Z"
   },
   {
    "duration": 186,
    "start_time": "2022-09-08T10:58:08.925Z"
   },
   {
    "duration": 178,
    "start_time": "2022-09-08T10:58:09.113Z"
   },
   {
    "duration": 167,
    "start_time": "2022-09-08T10:58:09.293Z"
   },
   {
    "duration": 224,
    "start_time": "2022-09-08T10:58:09.461Z"
   },
   {
    "duration": 190,
    "start_time": "2022-09-08T10:58:09.688Z"
   },
   {
    "duration": 232,
    "start_time": "2022-09-08T10:58:09.882Z"
   },
   {
    "duration": 317,
    "start_time": "2022-09-08T10:58:10.115Z"
   },
   {
    "duration": 284,
    "start_time": "2022-09-08T10:58:10.434Z"
   },
   {
    "duration": 186,
    "start_time": "2022-09-08T10:58:10.719Z"
   },
   {
    "duration": 186,
    "start_time": "2022-09-08T10:58:10.907Z"
   },
   {
    "duration": 148,
    "start_time": "2022-09-08T10:58:11.095Z"
   },
   {
    "duration": 189,
    "start_time": "2022-09-08T10:58:11.245Z"
   },
   {
    "duration": 35,
    "start_time": "2022-09-08T10:58:11.436Z"
   },
   {
    "duration": 25,
    "start_time": "2022-09-08T10:58:11.473Z"
   },
   {
    "duration": 10,
    "start_time": "2022-09-08T10:58:11.500Z"
   },
   {
    "duration": 220,
    "start_time": "2022-09-08T10:58:11.512Z"
   },
   {
    "duration": 17,
    "start_time": "2022-09-08T11:19:30.435Z"
   },
   {
    "duration": 471,
    "start_time": "2022-09-08T11:19:36.455Z"
   },
   {
    "duration": 2436,
    "start_time": "2022-09-08T11:19:36.928Z"
   },
   {
    "duration": 35,
    "start_time": "2022-09-08T11:19:39.365Z"
   },
   {
    "duration": 4,
    "start_time": "2022-09-08T11:19:39.402Z"
   },
   {
    "duration": 362,
    "start_time": "2022-09-08T11:19:39.408Z"
   },
   {
    "duration": 6,
    "start_time": "2022-09-08T11:19:39.772Z"
   },
   {
    "duration": 11,
    "start_time": "2022-09-08T11:19:39.779Z"
   },
   {
    "duration": 9,
    "start_time": "2022-09-08T11:19:39.792Z"
   },
   {
    "duration": 15,
    "start_time": "2022-09-08T11:19:39.803Z"
   },
   {
    "duration": 230,
    "start_time": "2022-09-08T11:19:39.820Z"
   },
   {
    "duration": 7,
    "start_time": "2022-09-08T11:19:40.051Z"
   },
   {
    "duration": 258,
    "start_time": "2022-09-08T11:19:40.060Z"
   },
   {
    "duration": 6,
    "start_time": "2022-09-08T11:19:40.320Z"
   },
   {
    "duration": 28,
    "start_time": "2022-09-08T11:19:40.332Z"
   },
   {
    "duration": 15,
    "start_time": "2022-09-08T11:19:40.367Z"
   },
   {
    "duration": 104,
    "start_time": "2022-09-08T11:19:40.385Z"
   },
   {
    "duration": 11,
    "start_time": "2022-09-08T11:19:40.492Z"
   },
   {
    "duration": 11,
    "start_time": "2022-09-08T11:19:40.505Z"
   },
   {
    "duration": 338,
    "start_time": "2022-09-08T11:19:40.518Z"
   },
   {
    "duration": 344,
    "start_time": "2022-09-08T11:19:40.858Z"
   },
   {
    "duration": 19,
    "start_time": "2022-09-08T11:19:41.204Z"
   },
   {
    "duration": 14,
    "start_time": "2022-09-08T11:19:41.225Z"
   },
   {
    "duration": 32,
    "start_time": "2022-09-08T11:19:41.241Z"
   },
   {
    "duration": 12,
    "start_time": "2022-09-08T11:19:41.275Z"
   },
   {
    "duration": 488,
    "start_time": "2022-09-08T11:19:41.290Z"
   },
   {
    "duration": 11,
    "start_time": "2022-09-08T11:19:41.780Z"
   },
   {
    "duration": 7,
    "start_time": "2022-09-08T11:19:41.792Z"
   },
   {
    "duration": 15,
    "start_time": "2022-09-08T11:19:41.801Z"
   },
   {
    "duration": 9,
    "start_time": "2022-09-08T11:19:41.817Z"
   },
   {
    "duration": 9,
    "start_time": "2022-09-08T11:19:41.827Z"
   },
   {
    "duration": 167,
    "start_time": "2022-09-08T11:19:41.868Z"
   },
   {
    "duration": 8,
    "start_time": "2022-09-08T11:19:42.037Z"
   },
   {
    "duration": 22,
    "start_time": "2022-09-08T11:19:42.047Z"
   },
   {
    "duration": 8,
    "start_time": "2022-09-08T11:19:42.070Z"
   },
   {
    "duration": 330,
    "start_time": "2022-09-08T11:19:42.080Z"
   },
   {
    "duration": 310,
    "start_time": "2022-09-08T11:19:42.411Z"
   },
   {
    "duration": 307,
    "start_time": "2022-09-08T11:19:42.723Z"
   },
   {
    "duration": 313,
    "start_time": "2022-09-08T11:19:43.031Z"
   },
   {
    "duration": 278,
    "start_time": "2022-09-08T11:19:43.346Z"
   },
   {
    "duration": 126,
    "start_time": "2022-09-08T11:19:43.626Z"
   },
   {
    "duration": 193,
    "start_time": "2022-09-08T11:19:43.767Z"
   },
   {
    "duration": 219,
    "start_time": "2022-09-08T11:19:43.962Z"
   },
   {
    "duration": 207,
    "start_time": "2022-09-08T11:19:44.183Z"
   },
   {
    "duration": 198,
    "start_time": "2022-09-08T11:19:44.393Z"
   },
   {
    "duration": 197,
    "start_time": "2022-09-08T11:19:44.594Z"
   },
   {
    "duration": 192,
    "start_time": "2022-09-08T11:19:44.793Z"
   },
   {
    "duration": 528,
    "start_time": "2022-09-08T11:19:44.987Z"
   },
   {
    "duration": 622,
    "start_time": "2022-09-08T11:19:45.517Z"
   },
   {
    "duration": 199,
    "start_time": "2022-09-08T11:19:46.141Z"
   },
   {
    "duration": 184,
    "start_time": "2022-09-08T11:19:46.342Z"
   },
   {
    "duration": 196,
    "start_time": "2022-09-08T11:19:46.528Z"
   },
   {
    "duration": 230,
    "start_time": "2022-09-08T11:19:46.728Z"
   },
   {
    "duration": 165,
    "start_time": "2022-09-08T11:19:46.960Z"
   },
   {
    "duration": 196,
    "start_time": "2022-09-08T11:19:47.126Z"
   },
   {
    "duration": 276,
    "start_time": "2022-09-08T11:19:47.324Z"
   },
   {
    "duration": 266,
    "start_time": "2022-09-08T11:19:47.602Z"
   },
   {
    "duration": 178,
    "start_time": "2022-09-08T11:19:47.871Z"
   },
   {
    "duration": 178,
    "start_time": "2022-09-08T11:19:48.051Z"
   },
   {
    "duration": 145,
    "start_time": "2022-09-08T11:19:48.230Z"
   },
   {
    "duration": 190,
    "start_time": "2022-09-08T11:19:48.377Z"
   },
   {
    "duration": 25,
    "start_time": "2022-09-08T11:19:48.569Z"
   },
   {
    "duration": 7,
    "start_time": "2022-09-08T11:19:48.595Z"
   },
   {
    "duration": 13,
    "start_time": "2022-09-08T11:19:48.604Z"
   },
   {
    "duration": 208,
    "start_time": "2022-09-08T11:19:48.619Z"
   },
   {
    "duration": 447,
    "start_time": "2022-09-08T11:24:15.261Z"
   },
   {
    "duration": 2800,
    "start_time": "2022-09-08T11:24:15.710Z"
   },
   {
    "duration": 35,
    "start_time": "2022-09-08T11:24:18.512Z"
   },
   {
    "duration": 4,
    "start_time": "2022-09-08T11:24:18.549Z"
   },
   {
    "duration": 233,
    "start_time": "2022-09-08T11:24:18.555Z"
   },
   {
    "duration": 6,
    "start_time": "2022-09-08T11:24:18.790Z"
   },
   {
    "duration": 17,
    "start_time": "2022-09-08T11:24:18.798Z"
   },
   {
    "duration": 60,
    "start_time": "2022-09-08T11:24:18.816Z"
   },
   {
    "duration": 8,
    "start_time": "2022-09-08T11:24:18.877Z"
   },
   {
    "duration": 223,
    "start_time": "2022-09-08T11:24:18.887Z"
   },
   {
    "duration": 6,
    "start_time": "2022-09-08T11:24:19.112Z"
   },
   {
    "duration": 550,
    "start_time": "2022-09-08T11:24:19.120Z"
   },
   {
    "duration": 5,
    "start_time": "2022-09-08T11:24:19.672Z"
   },
   {
    "duration": 14,
    "start_time": "2022-09-08T11:24:19.680Z"
   },
   {
    "duration": 9,
    "start_time": "2022-09-08T11:24:19.695Z"
   },
   {
    "duration": 171,
    "start_time": "2022-09-08T11:24:19.705Z"
   },
   {
    "duration": 8,
    "start_time": "2022-09-08T11:24:19.877Z"
   },
   {
    "duration": 14,
    "start_time": "2022-09-08T11:24:19.887Z"
   },
   {
    "duration": 610,
    "start_time": "2022-09-08T11:24:19.902Z"
   },
   {
    "duration": 542,
    "start_time": "2022-09-08T11:24:20.514Z"
   },
   {
    "duration": 21,
    "start_time": "2022-09-08T11:24:21.057Z"
   },
   {
    "duration": 13,
    "start_time": "2022-09-08T11:24:21.080Z"
   },
   {
    "duration": 11,
    "start_time": "2022-09-08T11:24:21.094Z"
   },
   {
    "duration": 12,
    "start_time": "2022-09-08T11:24:21.106Z"
   },
   {
    "duration": 12,
    "start_time": "2022-09-08T11:24:21.120Z"
   },
   {
    "duration": 423,
    "start_time": "2022-09-08T11:24:21.169Z"
   },
   {
    "duration": 14,
    "start_time": "2022-09-08T11:24:21.594Z"
   },
   {
    "duration": 9,
    "start_time": "2022-09-08T11:24:21.610Z"
   },
   {
    "duration": 10,
    "start_time": "2022-09-08T11:24:21.621Z"
   },
   {
    "duration": 36,
    "start_time": "2022-09-08T11:24:21.633Z"
   },
   {
    "duration": 9,
    "start_time": "2022-09-08T11:24:21.670Z"
   },
   {
    "duration": 149,
    "start_time": "2022-09-08T11:24:21.681Z"
   },
   {
    "duration": 8,
    "start_time": "2022-09-08T11:24:21.832Z"
   },
   {
    "duration": 7,
    "start_time": "2022-09-08T11:24:21.842Z"
   },
   {
    "duration": 23,
    "start_time": "2022-09-08T11:24:21.850Z"
   },
   {
    "duration": 315,
    "start_time": "2022-09-08T11:24:21.875Z"
   },
   {
    "duration": 331,
    "start_time": "2022-09-08T11:24:22.191Z"
   },
   {
    "duration": 376,
    "start_time": "2022-09-08T11:24:22.524Z"
   },
   {
    "duration": 319,
    "start_time": "2022-09-08T11:24:22.901Z"
   },
   {
    "duration": 296,
    "start_time": "2022-09-08T11:24:23.222Z"
   },
   {
    "duration": 127,
    "start_time": "2022-09-08T11:24:23.524Z"
   },
   {
    "duration": 194,
    "start_time": "2022-09-08T11:24:23.653Z"
   },
   {
    "duration": 247,
    "start_time": "2022-09-08T11:24:23.849Z"
   },
   {
    "duration": 202,
    "start_time": "2022-09-08T11:24:24.098Z"
   },
   {
    "duration": 215,
    "start_time": "2022-09-08T11:24:24.302Z"
   },
   {
    "duration": 206,
    "start_time": "2022-09-08T11:24:24.519Z"
   },
   {
    "duration": 195,
    "start_time": "2022-09-08T11:24:24.727Z"
   },
   {
    "duration": 523,
    "start_time": "2022-09-08T11:24:24.924Z"
   },
   {
    "duration": 626,
    "start_time": "2022-09-08T11:24:25.449Z"
   },
   {
    "duration": 209,
    "start_time": "2022-09-08T11:24:26.076Z"
   },
   {
    "duration": 190,
    "start_time": "2022-09-08T11:24:26.286Z"
   },
   {
    "duration": 192,
    "start_time": "2022-09-08T11:24:26.478Z"
   },
   {
    "duration": 246,
    "start_time": "2022-09-08T11:24:26.672Z"
   },
   {
    "duration": 149,
    "start_time": "2022-09-08T11:24:26.919Z"
   },
   {
    "duration": 200,
    "start_time": "2022-09-08T11:24:27.070Z"
   },
   {
    "duration": 275,
    "start_time": "2022-09-08T11:24:27.272Z"
   },
   {
    "duration": 251,
    "start_time": "2022-09-08T11:24:27.549Z"
   },
   {
    "duration": 166,
    "start_time": "2022-09-08T11:24:27.802Z"
   },
   {
    "duration": 153,
    "start_time": "2022-09-08T11:24:27.970Z"
   },
   {
    "duration": 124,
    "start_time": "2022-09-08T11:24:28.125Z"
   },
   {
    "duration": 174,
    "start_time": "2022-09-08T11:24:28.251Z"
   },
   {
    "duration": 22,
    "start_time": "2022-09-08T11:24:28.427Z"
   },
   {
    "duration": 18,
    "start_time": "2022-09-08T11:24:28.450Z"
   },
   {
    "duration": 7,
    "start_time": "2022-09-08T11:24:28.470Z"
   },
   {
    "duration": 157,
    "start_time": "2022-09-08T11:24:28.478Z"
   },
   {
    "duration": 36,
    "start_time": "2022-09-08T11:28:37.086Z"
   },
   {
    "duration": 356,
    "start_time": "2022-09-08T11:34:54.586Z"
   },
   {
    "duration": 80,
    "start_time": "2022-09-08T11:43:56.918Z"
   },
   {
    "duration": 9,
    "start_time": "2022-09-08T11:44:07.646Z"
   },
   {
    "duration": 8,
    "start_time": "2022-09-08T11:44:59.080Z"
   },
   {
    "duration": 17,
    "start_time": "2022-09-08T11:45:54.260Z"
   },
   {
    "duration": 17,
    "start_time": "2022-09-08T11:48:34.202Z"
   },
   {
    "duration": 23,
    "start_time": "2022-09-08T11:50:22.735Z"
   },
   {
    "duration": 5,
    "start_time": "2022-09-08T11:50:40.912Z"
   },
   {
    "duration": 154,
    "start_time": "2022-09-08T11:50:51.654Z"
   },
   {
    "duration": 22,
    "start_time": "2022-09-08T11:51:03.287Z"
   },
   {
    "duration": 27,
    "start_time": "2022-09-08T11:51:25.152Z"
   },
   {
    "duration": 105,
    "start_time": "2022-09-08T11:51:56.201Z"
   },
   {
    "duration": 99,
    "start_time": "2022-09-08T11:52:04.200Z"
   },
   {
    "duration": 20,
    "start_time": "2022-09-08T11:52:20.560Z"
   },
   {
    "duration": 13,
    "start_time": "2022-09-08T11:54:31.352Z"
   },
   {
    "duration": 27,
    "start_time": "2022-09-08T11:54:43.040Z"
   },
   {
    "duration": 19,
    "start_time": "2022-09-08T11:54:56.912Z"
   },
   {
    "duration": 18,
    "start_time": "2022-09-08T11:55:11.662Z"
   },
   {
    "duration": 27,
    "start_time": "2022-09-08T11:55:28.645Z"
   },
   {
    "duration": 20,
    "start_time": "2022-09-08T11:56:08.548Z"
   },
   {
    "duration": 32,
    "start_time": "2022-09-08T11:56:29.411Z"
   },
   {
    "duration": 35,
    "start_time": "2022-09-08T11:56:32.395Z"
   },
   {
    "duration": 98,
    "start_time": "2022-09-08T11:56:55.832Z"
   },
   {
    "duration": 32,
    "start_time": "2022-09-08T11:56:59.476Z"
   },
   {
    "duration": 32,
    "start_time": "2022-09-08T11:57:12.633Z"
   },
   {
    "duration": 20,
    "start_time": "2022-09-08T11:57:27.269Z"
   },
   {
    "duration": 22,
    "start_time": "2022-09-08T11:57:36.357Z"
   },
   {
    "duration": 28,
    "start_time": "2022-09-08T11:59:10.513Z"
   },
   {
    "duration": 5,
    "start_time": "2022-09-08T11:59:49.083Z"
   },
   {
    "duration": 19,
    "start_time": "2022-09-08T11:59:54.627Z"
   },
   {
    "duration": 20,
    "start_time": "2022-09-08T12:00:00.691Z"
   },
   {
    "duration": 23,
    "start_time": "2022-09-08T12:00:06.179Z"
   },
   {
    "duration": 19,
    "start_time": "2022-09-08T12:00:50.741Z"
   },
   {
    "duration": 24,
    "start_time": "2022-09-08T12:00:56.621Z"
   },
   {
    "duration": 74,
    "start_time": "2022-09-08T12:01:29.777Z"
   },
   {
    "duration": 23,
    "start_time": "2022-09-08T12:02:15.120Z"
   },
   {
    "duration": 20,
    "start_time": "2022-09-08T12:02:28.137Z"
   },
   {
    "duration": 381,
    "start_time": "2022-09-08T12:03:47.299Z"
   },
   {
    "duration": 2353,
    "start_time": "2022-09-08T12:03:47.682Z"
   },
   {
    "duration": 41,
    "start_time": "2022-09-08T12:03:50.037Z"
   },
   {
    "duration": 4,
    "start_time": "2022-09-08T12:03:50.080Z"
   },
   {
    "duration": 238,
    "start_time": "2022-09-08T12:03:50.085Z"
   },
   {
    "duration": 6,
    "start_time": "2022-09-08T12:03:50.325Z"
   },
   {
    "duration": 8,
    "start_time": "2022-09-08T12:03:50.332Z"
   },
   {
    "duration": 26,
    "start_time": "2022-09-08T12:03:50.342Z"
   },
   {
    "duration": 7,
    "start_time": "2022-09-08T12:03:50.370Z"
   },
   {
    "duration": 216,
    "start_time": "2022-09-08T12:03:50.380Z"
   },
   {
    "duration": 7,
    "start_time": "2022-09-08T12:03:50.598Z"
   },
   {
    "duration": 266,
    "start_time": "2022-09-08T12:03:50.606Z"
   },
   {
    "duration": 6,
    "start_time": "2022-09-08T12:03:50.874Z"
   },
   {
    "duration": 18,
    "start_time": "2022-09-08T12:03:50.882Z"
   },
   {
    "duration": 9,
    "start_time": "2022-09-08T12:03:50.902Z"
   },
   {
    "duration": 81,
    "start_time": "2022-09-08T12:03:50.912Z"
   },
   {
    "duration": 28,
    "start_time": "2022-09-08T12:03:50.994Z"
   },
   {
    "duration": 10,
    "start_time": "2022-09-08T12:03:51.024Z"
   },
   {
    "duration": 34,
    "start_time": "2022-09-08T12:03:51.035Z"
   },
   {
    "duration": 308,
    "start_time": "2022-09-08T12:03:51.070Z"
   },
   {
    "duration": 440,
    "start_time": "2022-09-08T12:03:51.379Z"
   },
   {
    "duration": 14,
    "start_time": "2022-09-08T12:03:51.821Z"
   },
   {
    "duration": 32,
    "start_time": "2022-09-08T12:03:51.837Z"
   },
   {
    "duration": 12,
    "start_time": "2022-09-08T12:03:51.871Z"
   },
   {
    "duration": 12,
    "start_time": "2022-09-08T12:03:51.884Z"
   },
   {
    "duration": 3,
    "start_time": "2022-09-08T12:03:51.897Z"
   },
   {
    "duration": 13,
    "start_time": "2022-09-08T12:03:51.902Z"
   },
   {
    "duration": 4,
    "start_time": "2022-09-08T12:03:51.918Z"
   },
   {
    "duration": 383,
    "start_time": "2022-09-08T12:03:51.923Z"
   },
   {
    "duration": 64,
    "start_time": "2022-09-08T12:03:52.308Z"
   },
   {
    "duration": 23,
    "start_time": "2022-09-08T12:03:52.374Z"
   },
   {
    "duration": 7,
    "start_time": "2022-09-08T12:03:52.399Z"
   },
   {
    "duration": 64,
    "start_time": "2022-09-08T12:03:52.408Z"
   },
   {
    "duration": 14,
    "start_time": "2022-09-08T12:03:52.474Z"
   },
   {
    "duration": 9,
    "start_time": "2022-09-08T12:03:52.489Z"
   },
   {
    "duration": 282,
    "start_time": "2022-09-08T12:03:52.500Z"
   },
   {
    "duration": 8,
    "start_time": "2022-09-08T12:03:52.783Z"
   },
   {
    "duration": 8,
    "start_time": "2022-09-08T12:03:52.792Z"
   },
   {
    "duration": 8,
    "start_time": "2022-09-08T12:03:52.802Z"
   },
   {
    "duration": 597,
    "start_time": "2022-09-08T12:03:52.811Z"
   },
   {
    "duration": 599,
    "start_time": "2022-09-08T12:03:53.410Z"
   },
   {
    "duration": 361,
    "start_time": "2022-09-08T12:03:54.010Z"
   },
   {
    "duration": 410,
    "start_time": "2022-09-08T12:03:54.372Z"
   },
   {
    "duration": 191,
    "start_time": "2022-09-08T12:03:54.784Z"
   },
   {
    "duration": 136,
    "start_time": "2022-09-08T12:03:54.977Z"
   },
   {
    "duration": 196,
    "start_time": "2022-09-08T12:03:55.115Z"
   },
   {
    "duration": 210,
    "start_time": "2022-09-08T12:03:55.313Z"
   },
   {
    "duration": 203,
    "start_time": "2022-09-08T12:03:55.525Z"
   },
   {
    "duration": 181,
    "start_time": "2022-09-08T12:03:55.729Z"
   },
   {
    "duration": 191,
    "start_time": "2022-09-08T12:03:55.912Z"
   },
   {
    "duration": 188,
    "start_time": "2022-09-08T12:03:56.105Z"
   },
   {
    "duration": 687,
    "start_time": "2022-09-08T12:03:56.295Z"
   },
   {
    "duration": 544,
    "start_time": "2022-09-08T12:03:56.984Z"
   },
   {
    "duration": 362,
    "start_time": "2022-09-08T12:03:57.530Z"
   },
   {
    "duration": 191,
    "start_time": "2022-09-08T12:03:57.893Z"
   },
   {
    "duration": 184,
    "start_time": "2022-09-08T12:03:58.086Z"
   },
   {
    "duration": 158,
    "start_time": "2022-09-08T12:03:58.271Z"
   },
   {
    "duration": 186,
    "start_time": "2022-09-08T12:03:58.431Z"
   },
   {
    "duration": 154,
    "start_time": "2022-09-08T12:03:58.619Z"
   },
   {
    "duration": 181,
    "start_time": "2022-09-08T12:03:58.775Z"
   },
   {
    "duration": 345,
    "start_time": "2022-09-08T12:03:58.958Z"
   },
   {
    "duration": 182,
    "start_time": "2022-09-08T12:03:59.304Z"
   },
   {
    "duration": 173,
    "start_time": "2022-09-08T12:03:59.488Z"
   },
   {
    "duration": 162,
    "start_time": "2022-09-08T12:03:59.662Z"
   },
   {
    "duration": 142,
    "start_time": "2022-09-08T12:03:59.826Z"
   },
   {
    "duration": 185,
    "start_time": "2022-09-08T12:03:59.969Z"
   },
   {
    "duration": 31,
    "start_time": "2022-09-08T12:04:00.157Z"
   },
   {
    "duration": 9,
    "start_time": "2022-09-08T12:04:00.190Z"
   },
   {
    "duration": 21,
    "start_time": "2022-09-08T12:04:00.201Z"
   },
   {
    "duration": 179,
    "start_time": "2022-09-08T12:04:00.224Z"
   },
   {
    "duration": 497,
    "start_time": "2022-09-08T12:09:38.980Z"
   },
   {
    "duration": 112,
    "start_time": "2022-09-08T12:09:39.479Z"
   },
   {
    "duration": 4652,
    "start_time": "2022-09-08T12:09:43.755Z"
   },
   {
    "duration": 192,
    "start_time": "2022-09-08T12:09:48.941Z"
   },
   {
    "duration": 3,
    "start_time": "2022-09-08T12:10:05.235Z"
   },
   {
    "duration": 5185,
    "start_time": "2022-09-08T12:10:05.748Z"
   },
   {
    "duration": 415,
    "start_time": "2022-09-08T12:10:10.936Z"
   },
   {
    "duration": 386,
    "start_time": "2022-09-08T12:10:31.807Z"
   },
   {
    "duration": 2322,
    "start_time": "2022-09-08T12:10:32.195Z"
   },
   {
    "duration": 33,
    "start_time": "2022-09-08T12:10:34.519Z"
   },
   {
    "duration": 15,
    "start_time": "2022-09-08T12:10:34.554Z"
   },
   {
    "duration": 231,
    "start_time": "2022-09-08T12:10:34.571Z"
   },
   {
    "duration": 6,
    "start_time": "2022-09-08T12:10:34.804Z"
   },
   {
    "duration": 9,
    "start_time": "2022-09-08T12:10:34.812Z"
   },
   {
    "duration": 10,
    "start_time": "2022-09-08T12:10:34.823Z"
   },
   {
    "duration": 37,
    "start_time": "2022-09-08T12:10:34.835Z"
   },
   {
    "duration": 190,
    "start_time": "2022-09-08T12:10:34.875Z"
   },
   {
    "duration": 8,
    "start_time": "2022-09-08T12:10:35.068Z"
   },
   {
    "duration": 249,
    "start_time": "2022-09-08T12:10:35.078Z"
   },
   {
    "duration": 5,
    "start_time": "2022-09-08T12:10:35.329Z"
   },
   {
    "duration": 17,
    "start_time": "2022-09-08T12:10:35.336Z"
   },
   {
    "duration": 10,
    "start_time": "2022-09-08T12:10:35.367Z"
   },
   {
    "duration": 56,
    "start_time": "2022-09-08T12:10:35.379Z"
   },
   {
    "duration": 48,
    "start_time": "2022-09-08T12:10:35.438Z"
   },
   {
    "duration": 11,
    "start_time": "2022-09-08T12:10:35.488Z"
   },
   {
    "duration": 22,
    "start_time": "2022-09-08T12:10:35.501Z"
   },
   {
    "duration": 321,
    "start_time": "2022-09-08T12:10:35.525Z"
   },
   {
    "duration": 422,
    "start_time": "2022-09-08T12:10:35.848Z"
   },
   {
    "duration": 13,
    "start_time": "2022-09-08T12:10:36.272Z"
   },
   {
    "duration": 14,
    "start_time": "2022-09-08T12:10:36.287Z"
   },
   {
    "duration": 11,
    "start_time": "2022-09-08T12:10:36.303Z"
   },
   {
    "duration": 11,
    "start_time": "2022-09-08T12:10:36.315Z"
   },
   {
    "duration": 4,
    "start_time": "2022-09-08T12:10:36.327Z"
   },
   {
    "duration": 11,
    "start_time": "2022-09-08T12:10:36.368Z"
   },
   {
    "duration": 3,
    "start_time": "2022-09-08T12:10:36.383Z"
   },
   {
    "duration": 423,
    "start_time": "2022-09-08T12:10:36.388Z"
   },
   {
    "duration": 14,
    "start_time": "2022-09-08T12:10:36.813Z"
   },
   {
    "duration": 46,
    "start_time": "2022-09-08T12:10:36.829Z"
   },
   {
    "duration": 7,
    "start_time": "2022-09-08T12:10:36.877Z"
   },
   {
    "duration": 10,
    "start_time": "2022-09-08T12:10:36.886Z"
   },
   {
    "duration": 8,
    "start_time": "2022-09-08T12:10:36.898Z"
   },
   {
    "duration": 8,
    "start_time": "2022-09-08T12:10:36.908Z"
   },
   {
    "duration": 162,
    "start_time": "2022-09-08T12:10:36.917Z"
   },
   {
    "duration": 8,
    "start_time": "2022-09-08T12:10:37.081Z"
   },
   {
    "duration": 11,
    "start_time": "2022-09-08T12:10:37.091Z"
   },
   {
    "duration": 7,
    "start_time": "2022-09-08T12:10:37.103Z"
   },
   {
    "duration": 319,
    "start_time": "2022-09-08T12:10:37.112Z"
   },
   {
    "duration": 321,
    "start_time": "2022-09-08T12:10:37.433Z"
   },
   {
    "duration": 304,
    "start_time": "2022-09-08T12:10:37.756Z"
   },
   {
    "duration": 378,
    "start_time": "2022-09-08T12:10:38.067Z"
   },
   {
    "duration": 172,
    "start_time": "2022-09-08T12:10:38.447Z"
   },
   {
    "duration": 112,
    "start_time": "2022-09-08T12:10:38.621Z"
   },
   {
    "duration": 179,
    "start_time": "2022-09-08T12:10:38.734Z"
   },
   {
    "duration": 198,
    "start_time": "2022-09-08T12:10:38.915Z"
   },
   {
    "duration": 192,
    "start_time": "2022-09-08T12:10:39.115Z"
   },
   {
    "duration": 174,
    "start_time": "2022-09-08T12:10:39.308Z"
   },
   {
    "duration": 210,
    "start_time": "2022-09-08T12:10:39.484Z"
   },
   {
    "duration": 184,
    "start_time": "2022-09-08T12:10:39.696Z"
   },
   {
    "duration": 626,
    "start_time": "2022-09-08T12:10:39.881Z"
   },
   {
    "duration": 498,
    "start_time": "2022-09-08T12:10:40.509Z"
   },
   {
    "duration": 347,
    "start_time": "2022-09-08T12:10:41.009Z"
   },
   {
    "duration": 198,
    "start_time": "2022-09-08T12:10:41.358Z"
   },
   {
    "duration": 194,
    "start_time": "2022-09-08T12:10:41.558Z"
   },
   {
    "duration": 160,
    "start_time": "2022-09-08T12:10:41.753Z"
   },
   {
    "duration": 180,
    "start_time": "2022-09-08T12:10:41.914Z"
   },
   {
    "duration": 152,
    "start_time": "2022-09-08T12:10:42.096Z"
   },
   {
    "duration": 187,
    "start_time": "2022-09-08T12:10:42.249Z"
   },
   {
    "duration": 352,
    "start_time": "2022-09-08T12:10:42.438Z"
   },
   {
    "duration": 185,
    "start_time": "2022-09-08T12:10:42.792Z"
   },
   {
    "duration": 158,
    "start_time": "2022-09-08T12:10:42.979Z"
   },
   {
    "duration": 163,
    "start_time": "2022-09-08T12:10:43.138Z"
   },
   {
    "duration": 132,
    "start_time": "2022-09-08T12:10:43.302Z"
   },
   {
    "duration": 174,
    "start_time": "2022-09-08T12:10:43.435Z"
   },
   {
    "duration": 22,
    "start_time": "2022-09-08T12:10:43.611Z"
   },
   {
    "duration": 7,
    "start_time": "2022-09-08T12:10:43.635Z"
   },
   {
    "duration": 29,
    "start_time": "2022-09-08T12:10:43.644Z"
   },
   {
    "duration": 161,
    "start_time": "2022-09-08T12:10:43.674Z"
   },
   {
    "duration": 553,
    "start_time": "2022-09-08T12:10:43.837Z"
   },
   {
    "duration": 4876,
    "start_time": "2022-09-08T12:10:44.392Z"
   },
   {
    "duration": 387,
    "start_time": "2022-09-08T12:10:49.270Z"
   },
   {
    "duration": 47,
    "start_time": "2022-09-08T12:29:37.294Z"
   },
   {
    "duration": 435,
    "start_time": "2022-09-08T12:30:08.133Z"
   },
   {
    "duration": 2743,
    "start_time": "2022-09-08T12:30:08.570Z"
   },
   {
    "duration": 34,
    "start_time": "2022-09-08T12:30:11.316Z"
   },
   {
    "duration": 4,
    "start_time": "2022-09-08T12:30:11.352Z"
   },
   {
    "duration": 239,
    "start_time": "2022-09-08T12:30:11.359Z"
   },
   {
    "duration": 6,
    "start_time": "2022-09-08T12:30:11.600Z"
   },
   {
    "duration": 8,
    "start_time": "2022-09-08T12:30:11.608Z"
   },
   {
    "duration": 9,
    "start_time": "2022-09-08T12:30:11.618Z"
   },
   {
    "duration": 8,
    "start_time": "2022-09-08T12:30:11.628Z"
   },
   {
    "duration": 204,
    "start_time": "2022-09-08T12:30:11.637Z"
   },
   {
    "duration": 7,
    "start_time": "2022-09-08T12:30:11.843Z"
   },
   {
    "duration": 274,
    "start_time": "2022-09-08T12:30:11.853Z"
   },
   {
    "duration": 5,
    "start_time": "2022-09-08T12:30:12.129Z"
   },
   {
    "duration": 36,
    "start_time": "2022-09-08T12:30:12.139Z"
   },
   {
    "duration": 14,
    "start_time": "2022-09-08T12:30:12.178Z"
   },
   {
    "duration": 85,
    "start_time": "2022-09-08T12:30:12.194Z"
   },
   {
    "duration": 25,
    "start_time": "2022-09-08T12:30:12.281Z"
   },
   {
    "duration": 9,
    "start_time": "2022-09-08T12:30:12.307Z"
   },
   {
    "duration": 12,
    "start_time": "2022-09-08T12:30:12.318Z"
   },
   {
    "duration": 328,
    "start_time": "2022-09-08T12:30:12.332Z"
   },
   {
    "duration": 443,
    "start_time": "2022-09-08T12:30:12.661Z"
   },
   {
    "duration": 13,
    "start_time": "2022-09-08T12:30:13.106Z"
   },
   {
    "duration": 16,
    "start_time": "2022-09-08T12:30:13.121Z"
   },
   {
    "duration": 32,
    "start_time": "2022-09-08T12:30:13.138Z"
   },
   {
    "duration": 13,
    "start_time": "2022-09-08T12:30:13.171Z"
   },
   {
    "duration": 3,
    "start_time": "2022-09-08T12:30:13.185Z"
   },
   {
    "duration": 15,
    "start_time": "2022-09-08T12:30:13.190Z"
   },
   {
    "duration": 3,
    "start_time": "2022-09-08T12:30:13.207Z"
   },
   {
    "duration": 351,
    "start_time": "2022-09-08T12:30:13.212Z"
   },
   {
    "duration": 14,
    "start_time": "2022-09-08T12:30:13.568Z"
   },
   {
    "duration": 31,
    "start_time": "2022-09-08T12:30:13.583Z"
   },
   {
    "duration": 8,
    "start_time": "2022-09-08T12:30:13.615Z"
   },
   {
    "duration": 9,
    "start_time": "2022-09-08T12:30:13.624Z"
   },
   {
    "duration": 39,
    "start_time": "2022-09-08T12:30:13.635Z"
   },
   {
    "duration": 9,
    "start_time": "2022-09-08T12:30:13.676Z"
   },
   {
    "duration": 147,
    "start_time": "2022-09-08T12:30:13.686Z"
   },
   {
    "duration": 8,
    "start_time": "2022-09-08T12:30:13.835Z"
   },
   {
    "duration": 25,
    "start_time": "2022-09-08T12:30:13.845Z"
   },
   {
    "duration": 8,
    "start_time": "2022-09-08T12:30:13.871Z"
   },
   {
    "duration": 315,
    "start_time": "2022-09-08T12:30:13.880Z"
   },
   {
    "duration": 330,
    "start_time": "2022-09-08T12:30:14.200Z"
   },
   {
    "duration": 371,
    "start_time": "2022-09-08T12:30:14.532Z"
   },
   {
    "duration": 411,
    "start_time": "2022-09-08T12:30:14.905Z"
   },
   {
    "duration": 197,
    "start_time": "2022-09-08T12:30:15.317Z"
   },
   {
    "duration": 164,
    "start_time": "2022-09-08T12:30:15.517Z"
   },
   {
    "duration": 214,
    "start_time": "2022-09-08T12:30:15.683Z"
   },
   {
    "duration": 219,
    "start_time": "2022-09-08T12:30:15.900Z"
   },
   {
    "duration": 220,
    "start_time": "2022-09-08T12:30:16.121Z"
   },
   {
    "duration": 201,
    "start_time": "2022-09-08T12:30:16.343Z"
   },
   {
    "duration": 266,
    "start_time": "2022-09-08T12:30:16.547Z"
   },
   {
    "duration": 215,
    "start_time": "2022-09-08T12:30:16.815Z"
   },
   {
    "duration": 212,
    "start_time": "2022-09-08T12:30:17.038Z"
   },
   {
    "duration": 294,
    "start_time": "2022-09-08T12:30:17.252Z"
   },
   {
    "duration": 577,
    "start_time": "2022-09-08T12:30:17.548Z"
   },
   {
    "duration": 584,
    "start_time": "2022-09-08T12:30:18.127Z"
   },
   {
    "duration": 383,
    "start_time": "2022-09-08T12:30:18.713Z"
   },
   {
    "duration": 197,
    "start_time": "2022-09-08T12:30:19.098Z"
   },
   {
    "duration": 186,
    "start_time": "2022-09-08T12:30:19.297Z"
   },
   {
    "duration": 177,
    "start_time": "2022-09-08T12:30:19.485Z"
   },
   {
    "duration": 326,
    "start_time": "2022-09-08T12:30:19.663Z"
   },
   {
    "duration": 155,
    "start_time": "2022-09-08T12:30:19.991Z"
   },
   {
    "duration": 260,
    "start_time": "2022-09-08T12:30:20.148Z"
   },
   {
    "duration": 387,
    "start_time": "2022-09-08T12:30:20.410Z"
   },
   {
    "duration": 180,
    "start_time": "2022-09-08T12:30:20.799Z"
   },
   {
    "duration": 167,
    "start_time": "2022-09-08T12:30:20.980Z"
   },
   {
    "duration": 159,
    "start_time": "2022-09-08T12:30:21.148Z"
   },
   {
    "duration": 134,
    "start_time": "2022-09-08T12:30:21.309Z"
   },
   {
    "duration": 206,
    "start_time": "2022-09-08T12:30:21.444Z"
   },
   {
    "duration": 34,
    "start_time": "2022-09-08T12:30:21.651Z"
   },
   {
    "duration": 7,
    "start_time": "2022-09-08T12:30:21.687Z"
   },
   {
    "duration": 10,
    "start_time": "2022-09-08T12:30:21.696Z"
   },
   {
    "duration": 172,
    "start_time": "2022-09-08T12:30:21.707Z"
   },
   {
    "duration": 544,
    "start_time": "2022-09-08T12:30:21.881Z"
   },
   {
    "duration": 5077,
    "start_time": "2022-09-08T12:30:22.427Z"
   },
   {
    "duration": 392,
    "start_time": "2022-09-08T12:30:27.506Z"
   },
   {
    "duration": 200,
    "start_time": "2022-09-08T12:30:42.113Z"
   },
   {
    "duration": 192,
    "start_time": "2022-09-08T12:30:46.994Z"
   },
   {
    "duration": 344,
    "start_time": "2022-09-08T12:31:52.310Z"
   },
   {
    "duration": 160,
    "start_time": "2022-09-08T12:32:03.212Z"
   },
   {
    "duration": 297,
    "start_time": "2022-09-08T12:32:09.062Z"
   },
   {
    "duration": 248,
    "start_time": "2022-09-08T12:32:13.371Z"
   },
   {
    "duration": 180,
    "start_time": "2022-09-08T12:32:21.317Z"
   },
   {
    "duration": 170,
    "start_time": "2022-09-08T12:32:27.739Z"
   },
   {
    "duration": 187,
    "start_time": "2022-09-08T12:32:31.646Z"
   },
   {
    "duration": 6,
    "start_time": "2022-09-08T12:34:44.520Z"
   },
   {
    "duration": 6,
    "start_time": "2022-09-08T12:34:47.406Z"
   },
   {
    "duration": 6,
    "start_time": "2022-09-08T12:34:49.420Z"
   },
   {
    "duration": 10,
    "start_time": "2022-09-08T12:34:58.332Z"
   },
   {
    "duration": 8,
    "start_time": "2022-09-08T12:36:05.803Z"
   },
   {
    "duration": 8,
    "start_time": "2022-09-08T12:36:12.312Z"
   },
   {
    "duration": 9,
    "start_time": "2022-09-08T12:36:16.061Z"
   },
   {
    "duration": 6,
    "start_time": "2022-09-08T12:36:20.961Z"
   },
   {
    "duration": 9,
    "start_time": "2022-09-08T12:36:30.153Z"
   },
   {
    "duration": 48,
    "start_time": "2022-09-12T16:07:30.225Z"
   },
   {
    "duration": 355,
    "start_time": "2022-09-12T16:07:36.667Z"
   },
   {
    "duration": 2780,
    "start_time": "2022-09-12T16:07:37.025Z"
   },
   {
    "duration": 35,
    "start_time": "2022-09-12T16:07:39.806Z"
   },
   {
    "duration": 4,
    "start_time": "2022-09-12T16:07:39.843Z"
   },
   {
    "duration": 218,
    "start_time": "2022-09-12T16:07:39.848Z"
   },
   {
    "duration": 6,
    "start_time": "2022-09-12T16:07:40.068Z"
   },
   {
    "duration": 22,
    "start_time": "2022-09-12T16:07:40.076Z"
   },
   {
    "duration": 17,
    "start_time": "2022-09-12T16:07:40.100Z"
   },
   {
    "duration": 30,
    "start_time": "2022-09-12T16:07:40.118Z"
   },
   {
    "duration": 180,
    "start_time": "2022-09-12T16:07:40.151Z"
   },
   {
    "duration": 7,
    "start_time": "2022-09-12T16:07:40.332Z"
   },
   {
    "duration": 239,
    "start_time": "2022-09-12T16:07:40.340Z"
   },
   {
    "duration": 4,
    "start_time": "2022-09-12T16:07:40.581Z"
   },
   {
    "duration": 16,
    "start_time": "2022-09-12T16:07:40.586Z"
   },
   {
    "duration": 8,
    "start_time": "2022-09-12T16:07:40.608Z"
   },
   {
    "duration": 8,
    "start_time": "2022-09-12T16:07:40.617Z"
   },
   {
    "duration": 7,
    "start_time": "2022-09-12T16:07:40.627Z"
   },
   {
    "duration": 78,
    "start_time": "2022-09-12T16:07:40.636Z"
   },
   {
    "duration": 24,
    "start_time": "2022-09-12T16:07:40.716Z"
   },
   {
    "duration": 8,
    "start_time": "2022-09-12T16:07:40.742Z"
   },
   {
    "duration": 10,
    "start_time": "2022-09-12T16:07:40.752Z"
   },
   {
    "duration": 282,
    "start_time": "2022-09-12T16:07:40.764Z"
   },
   {
    "duration": 313,
    "start_time": "2022-09-12T16:07:41.048Z"
   },
   {
    "duration": 11,
    "start_time": "2022-09-12T16:07:41.363Z"
   },
   {
    "duration": 13,
    "start_time": "2022-09-12T16:07:41.375Z"
   },
   {
    "duration": 27,
    "start_time": "2022-09-12T16:07:41.389Z"
   },
   {
    "duration": 10,
    "start_time": "2022-09-12T16:07:41.417Z"
   },
   {
    "duration": 3,
    "start_time": "2022-09-12T16:07:41.431Z"
   },
   {
    "duration": 12,
    "start_time": "2022-09-12T16:07:41.435Z"
   },
   {
    "duration": 3,
    "start_time": "2022-09-12T16:07:41.448Z"
   },
   {
    "duration": 282,
    "start_time": "2022-09-12T16:07:41.452Z"
   },
   {
    "duration": 10,
    "start_time": "2022-09-12T16:07:41.736Z"
   },
   {
    "duration": 21,
    "start_time": "2022-09-12T16:07:41.748Z"
   },
   {
    "duration": 6,
    "start_time": "2022-09-12T16:07:41.771Z"
   },
   {
    "duration": 31,
    "start_time": "2022-09-12T16:07:41.778Z"
   },
   {
    "duration": 7,
    "start_time": "2022-09-12T16:07:41.811Z"
   },
   {
    "duration": 22,
    "start_time": "2022-09-12T16:07:41.820Z"
   },
   {
    "duration": 130,
    "start_time": "2022-09-12T16:07:41.844Z"
   },
   {
    "duration": 7,
    "start_time": "2022-09-12T16:07:41.976Z"
   },
   {
    "duration": 33,
    "start_time": "2022-09-12T16:07:41.984Z"
   },
   {
    "duration": 14,
    "start_time": "2022-09-12T16:07:42.018Z"
   },
   {
    "duration": 242,
    "start_time": "2022-09-12T16:07:42.033Z"
   },
   {
    "duration": 251,
    "start_time": "2022-09-12T16:07:42.277Z"
   },
   {
    "duration": 291,
    "start_time": "2022-09-12T16:07:42.531Z"
   },
   {
    "duration": 308,
    "start_time": "2022-09-12T16:07:42.823Z"
   },
   {
    "duration": 161,
    "start_time": "2022-09-12T16:07:43.133Z"
   },
   {
    "duration": 93,
    "start_time": "2022-09-12T16:07:43.296Z"
   },
   {
    "duration": 163,
    "start_time": "2022-09-12T16:07:43.391Z"
   },
   {
    "duration": 173,
    "start_time": "2022-09-12T16:07:43.556Z"
   },
   {
    "duration": 174,
    "start_time": "2022-09-12T16:07:43.730Z"
   },
   {
    "duration": 148,
    "start_time": "2022-09-12T16:07:43.909Z"
   },
   {
    "duration": 170,
    "start_time": "2022-09-12T16:07:44.058Z"
   },
   {
    "duration": 161,
    "start_time": "2022-09-12T16:07:44.230Z"
   },
   {
    "duration": 166,
    "start_time": "2022-09-12T16:07:44.392Z"
   },
   {
    "duration": 219,
    "start_time": "2022-09-12T16:07:44.559Z"
   },
   {
    "duration": 430,
    "start_time": "2022-09-12T16:07:44.780Z"
   },
   {
    "duration": 429,
    "start_time": "2022-09-12T16:07:45.212Z"
   },
   {
    "duration": 304,
    "start_time": "2022-09-12T16:07:45.643Z"
   },
   {
    "duration": 152,
    "start_time": "2022-09-12T16:07:45.948Z"
   },
   {
    "duration": 147,
    "start_time": "2022-09-12T16:07:46.101Z"
   },
   {
    "duration": 127,
    "start_time": "2022-09-12T16:07:46.249Z"
   },
   {
    "duration": 209,
    "start_time": "2022-09-12T16:07:46.377Z"
   },
   {
    "duration": 122,
    "start_time": "2022-09-12T16:07:46.588Z"
   },
   {
    "duration": 153,
    "start_time": "2022-09-12T16:07:46.712Z"
   },
   {
    "duration": 208,
    "start_time": "2022-09-12T16:07:46.867Z"
   },
   {
    "duration": 150,
    "start_time": "2022-09-12T16:07:47.076Z"
   },
   {
    "duration": 132,
    "start_time": "2022-09-12T16:07:47.228Z"
   },
   {
    "duration": 132,
    "start_time": "2022-09-12T16:07:47.362Z"
   },
   {
    "duration": 112,
    "start_time": "2022-09-12T16:07:47.496Z"
   },
   {
    "duration": 136,
    "start_time": "2022-09-12T16:07:47.610Z"
   },
   {
    "duration": 19,
    "start_time": "2022-09-12T16:07:47.747Z"
   },
   {
    "duration": 5,
    "start_time": "2022-09-12T16:07:47.768Z"
   },
   {
    "duration": 9,
    "start_time": "2022-09-12T16:07:47.774Z"
   },
   {
    "duration": 144,
    "start_time": "2022-09-12T16:07:47.784Z"
   },
   {
    "duration": 521,
    "start_time": "2022-09-12T16:07:47.930Z"
   },
   {
    "duration": 3946,
    "start_time": "2022-09-12T16:07:48.453Z"
   },
   {
    "duration": 405,
    "start_time": "2022-09-12T16:07:52.400Z"
   },
   {
    "duration": 12,
    "start_time": "2022-09-12T16:15:40.802Z"
   },
   {
    "duration": 11,
    "start_time": "2022-09-12T16:15:56.768Z"
   },
   {
    "duration": 3,
    "start_time": "2022-09-12T16:15:56.869Z"
   },
   {
    "duration": 12,
    "start_time": "2022-09-12T16:15:57.072Z"
   },
   {
    "duration": 13,
    "start_time": "2022-09-12T16:16:05.929Z"
   },
   {
    "duration": 24,
    "start_time": "2022-09-12T16:16:16.829Z"
   },
   {
    "duration": 22,
    "start_time": "2022-09-12T16:16:26.834Z"
   },
   {
    "duration": 4,
    "start_time": "2022-09-12T16:27:45.358Z"
   },
   {
    "duration": 4,
    "start_time": "2022-09-12T16:30:18.965Z"
   },
   {
    "duration": 989,
    "start_time": "2022-09-12T16:30:47.925Z"
   },
   {
    "duration": 4,
    "start_time": "2022-09-12T16:31:07.551Z"
   },
   {
    "duration": 6,
    "start_time": "2022-09-12T16:31:26.675Z"
   },
   {
    "duration": 4,
    "start_time": "2022-09-12T16:31:37.944Z"
   },
   {
    "duration": 8,
    "start_time": "2022-09-12T16:35:16.548Z"
   },
   {
    "duration": 8,
    "start_time": "2022-09-12T16:35:21.678Z"
   },
   {
    "duration": 21,
    "start_time": "2022-09-12T16:46:27.133Z"
   },
   {
    "duration": 21,
    "start_time": "2022-09-12T16:46:30.601Z"
   },
   {
    "duration": 22,
    "start_time": "2022-09-12T16:46:39.024Z"
   },
   {
    "duration": 33,
    "start_time": "2022-09-12T16:47:55.890Z"
   },
   {
    "duration": 21,
    "start_time": "2022-09-12T16:47:59.478Z"
   },
   {
    "duration": 404,
    "start_time": "2022-09-12T16:48:05.933Z"
   },
   {
    "duration": 2134,
    "start_time": "2022-09-12T16:48:06.339Z"
   },
   {
    "duration": 38,
    "start_time": "2022-09-12T16:48:08.474Z"
   },
   {
    "duration": 4,
    "start_time": "2022-09-12T16:48:08.514Z"
   },
   {
    "duration": 231,
    "start_time": "2022-09-12T16:48:08.522Z"
   },
   {
    "duration": 4,
    "start_time": "2022-09-12T16:48:08.755Z"
   },
   {
    "duration": 7,
    "start_time": "2022-09-12T16:48:08.761Z"
   },
   {
    "duration": 9,
    "start_time": "2022-09-12T16:48:08.770Z"
   },
   {
    "duration": 8,
    "start_time": "2022-09-12T16:48:08.780Z"
   },
   {
    "duration": 206,
    "start_time": "2022-09-12T16:48:08.817Z"
   },
   {
    "duration": 8,
    "start_time": "2022-09-12T16:48:09.024Z"
   },
   {
    "duration": 246,
    "start_time": "2022-09-12T16:48:09.033Z"
   },
   {
    "duration": 4,
    "start_time": "2022-09-12T16:48:09.281Z"
   },
   {
    "duration": 33,
    "start_time": "2022-09-12T16:48:09.287Z"
   },
   {
    "duration": 11,
    "start_time": "2022-09-12T16:48:09.323Z"
   },
   {
    "duration": 7,
    "start_time": "2022-09-12T16:48:09.336Z"
   },
   {
    "duration": 71,
    "start_time": "2022-09-12T16:48:09.344Z"
   },
   {
    "duration": 25,
    "start_time": "2022-09-12T16:48:09.416Z"
   },
   {
    "duration": 8,
    "start_time": "2022-09-12T16:48:09.443Z"
   },
   {
    "duration": 12,
    "start_time": "2022-09-12T16:48:09.452Z"
   },
   {
    "duration": 285,
    "start_time": "2022-09-12T16:48:09.465Z"
   },
   {
    "duration": 340,
    "start_time": "2022-09-12T16:48:09.751Z"
   },
   {
    "duration": 22,
    "start_time": "2022-09-12T16:48:10.093Z"
   },
   {
    "duration": 15,
    "start_time": "2022-09-12T16:48:10.116Z"
   },
   {
    "duration": 287,
    "start_time": "2022-09-12T16:48:10.133Z"
   },
   {
    "duration": 22,
    "start_time": "2022-09-12T16:48:10.422Z"
   },
   {
    "duration": 8,
    "start_time": "2022-09-12T16:48:10.445Z"
   },
   {
    "duration": 9,
    "start_time": "2022-09-12T16:48:10.457Z"
   },
   {
    "duration": 8,
    "start_time": "2022-09-12T16:48:10.467Z"
   },
   {
    "duration": 42,
    "start_time": "2022-09-12T16:48:10.477Z"
   },
   {
    "duration": 143,
    "start_time": "2022-09-12T16:48:10.521Z"
   },
   {
    "duration": 7,
    "start_time": "2022-09-12T16:48:10.666Z"
   },
   {
    "duration": 9,
    "start_time": "2022-09-12T16:48:10.675Z"
   },
   {
    "duration": 5,
    "start_time": "2022-09-12T16:48:10.686Z"
   },
   {
    "duration": 269,
    "start_time": "2022-09-12T16:48:10.693Z"
   },
   {
    "duration": 258,
    "start_time": "2022-09-12T16:48:10.964Z"
   },
   {
    "duration": 245,
    "start_time": "2022-09-12T16:48:11.224Z"
   },
   {
    "duration": 352,
    "start_time": "2022-09-12T16:48:11.471Z"
   },
   {
    "duration": 159,
    "start_time": "2022-09-12T16:48:11.825Z"
   },
   {
    "duration": 109,
    "start_time": "2022-09-12T16:48:11.986Z"
   },
   {
    "duration": 158,
    "start_time": "2022-09-12T16:48:12.097Z"
   },
   {
    "duration": 166,
    "start_time": "2022-09-12T16:48:12.256Z"
   },
   {
    "duration": 201,
    "start_time": "2022-09-12T16:48:12.424Z"
   },
   {
    "duration": 198,
    "start_time": "2022-09-12T16:48:12.628Z"
   },
   {
    "duration": 159,
    "start_time": "2022-09-12T16:48:12.828Z"
   },
   {
    "duration": 187,
    "start_time": "2022-09-12T16:48:12.989Z"
   },
   {
    "duration": 172,
    "start_time": "2022-09-12T16:48:13.177Z"
   },
   {
    "duration": 173,
    "start_time": "2022-09-12T16:48:13.351Z"
   },
   {
    "duration": 504,
    "start_time": "2022-09-12T16:48:13.525Z"
   },
   {
    "duration": 459,
    "start_time": "2022-09-12T16:48:14.031Z"
   },
   {
    "duration": 331,
    "start_time": "2022-09-12T16:48:14.492Z"
   },
   {
    "duration": 154,
    "start_time": "2022-09-12T16:48:14.825Z"
   },
   {
    "duration": 151,
    "start_time": "2022-09-12T16:48:14.981Z"
   },
   {
    "duration": 135,
    "start_time": "2022-09-12T16:48:15.133Z"
   },
   {
    "duration": 134,
    "start_time": "2022-09-12T16:48:15.270Z"
   },
   {
    "duration": 196,
    "start_time": "2022-09-12T16:48:15.408Z"
   },
   {
    "duration": 156,
    "start_time": "2022-09-12T16:48:15.616Z"
   },
   {
    "duration": 215,
    "start_time": "2022-09-12T16:48:15.773Z"
   },
   {
    "duration": 158,
    "start_time": "2022-09-12T16:48:15.989Z"
   },
   {
    "duration": 138,
    "start_time": "2022-09-12T16:48:16.148Z"
   },
   {
    "duration": 149,
    "start_time": "2022-09-12T16:48:16.288Z"
   },
   {
    "duration": 111,
    "start_time": "2022-09-12T16:48:16.439Z"
   },
   {
    "duration": 150,
    "start_time": "2022-09-12T16:48:16.552Z"
   },
   {
    "duration": 31,
    "start_time": "2022-09-12T16:48:16.703Z"
   },
   {
    "duration": 6,
    "start_time": "2022-09-12T16:48:16.736Z"
   },
   {
    "duration": 9,
    "start_time": "2022-09-12T16:48:16.745Z"
   },
   {
    "duration": 165,
    "start_time": "2022-09-12T16:48:16.755Z"
   },
   {
    "duration": 476,
    "start_time": "2022-09-12T16:48:16.921Z"
   },
   {
    "duration": 4127,
    "start_time": "2022-09-12T16:48:17.398Z"
   },
   {
    "duration": 372,
    "start_time": "2022-09-12T16:48:21.526Z"
   },
   {
    "duration": 21,
    "start_time": "2022-09-12T16:50:15.464Z"
   },
   {
    "duration": 21,
    "start_time": "2022-09-12T16:50:18.784Z"
   },
   {
    "duration": 22,
    "start_time": "2022-09-12T16:50:30.598Z"
   },
   {
    "duration": 7,
    "start_time": "2022-09-12T16:50:35.783Z"
   },
   {
    "duration": 9,
    "start_time": "2022-09-12T16:50:36.562Z"
   },
   {
    "duration": 304,
    "start_time": "2022-09-12T16:50:37.658Z"
   },
   {
    "duration": 22,
    "start_time": "2022-09-12T16:51:24.612Z"
   },
   {
    "duration": 6,
    "start_time": "2022-09-12T16:51:52.360Z"
   },
   {
    "duration": 7,
    "start_time": "2022-09-12T16:55:26.374Z"
   },
   {
    "duration": 8,
    "start_time": "2022-09-12T16:55:26.959Z"
   },
   {
    "duration": 150,
    "start_time": "2022-09-12T16:55:35.095Z"
   },
   {
    "duration": 22,
    "start_time": "2022-09-12T16:55:42.942Z"
   },
   {
    "duration": 24,
    "start_time": "2022-09-12T16:55:47.724Z"
   },
   {
    "duration": 407,
    "start_time": "2022-09-12T16:56:00.774Z"
   },
   {
    "duration": 2202,
    "start_time": "2022-09-12T16:56:01.183Z"
   },
   {
    "duration": 34,
    "start_time": "2022-09-12T16:56:03.386Z"
   },
   {
    "duration": 5,
    "start_time": "2022-09-12T16:56:03.422Z"
   },
   {
    "duration": 204,
    "start_time": "2022-09-12T16:56:03.429Z"
   },
   {
    "duration": 5,
    "start_time": "2022-09-12T16:56:03.634Z"
   },
   {
    "duration": 10,
    "start_time": "2022-09-12T16:56:03.640Z"
   },
   {
    "duration": 9,
    "start_time": "2022-09-12T16:56:03.651Z"
   },
   {
    "duration": 6,
    "start_time": "2022-09-12T16:56:03.661Z"
   },
   {
    "duration": 222,
    "start_time": "2022-09-12T16:56:03.669Z"
   },
   {
    "duration": 16,
    "start_time": "2022-09-12T16:56:03.893Z"
   },
   {
    "duration": 253,
    "start_time": "2022-09-12T16:56:03.911Z"
   },
   {
    "duration": 5,
    "start_time": "2022-09-12T16:56:04.165Z"
   },
   {
    "duration": 17,
    "start_time": "2022-09-12T16:56:04.172Z"
   },
   {
    "duration": 22,
    "start_time": "2022-09-12T16:56:04.190Z"
   },
   {
    "duration": 10,
    "start_time": "2022-09-12T16:56:04.213Z"
   },
   {
    "duration": 53,
    "start_time": "2022-09-12T16:56:04.224Z"
   },
   {
    "duration": 51,
    "start_time": "2022-09-12T16:56:04.279Z"
   },
   {
    "duration": 13,
    "start_time": "2022-09-12T16:56:04.331Z"
   },
   {
    "duration": 22,
    "start_time": "2022-09-12T16:56:04.345Z"
   },
   {
    "duration": 7,
    "start_time": "2022-09-12T16:56:04.368Z"
   },
   {
    "duration": 36,
    "start_time": "2022-09-12T16:56:04.376Z"
   },
   {
    "duration": 9,
    "start_time": "2022-09-12T16:56:04.414Z"
   },
   {
    "duration": 11,
    "start_time": "2022-09-12T16:56:04.424Z"
   },
   {
    "duration": 246,
    "start_time": "2022-09-12T16:56:04.436Z"
   },
   {
    "duration": 7,
    "start_time": "2022-09-12T16:56:04.683Z"
   },
   {
    "duration": 16,
    "start_time": "2022-09-12T16:56:04.692Z"
   },
   {
    "duration": 6,
    "start_time": "2022-09-12T16:56:04.711Z"
   },
   {
    "duration": 257,
    "start_time": "2022-09-12T16:56:04.719Z"
   },
   {
    "duration": 244,
    "start_time": "2022-09-12T16:56:04.977Z"
   },
   {
    "duration": 313,
    "start_time": "2022-09-12T16:56:05.222Z"
   },
   {
    "duration": 241,
    "start_time": "2022-09-12T16:56:05.536Z"
   },
   {
    "duration": 169,
    "start_time": "2022-09-12T16:56:05.778Z"
   },
   {
    "duration": 117,
    "start_time": "2022-09-12T16:56:05.949Z"
   },
   {
    "duration": 155,
    "start_time": "2022-09-12T16:56:06.067Z"
   },
   {
    "duration": 168,
    "start_time": "2022-09-12T16:56:06.223Z"
   },
   {
    "duration": 169,
    "start_time": "2022-09-12T16:56:06.393Z"
   },
   {
    "duration": 159,
    "start_time": "2022-09-12T16:56:06.564Z"
   },
   {
    "duration": 175,
    "start_time": "2022-09-12T16:56:06.724Z"
   },
   {
    "duration": 223,
    "start_time": "2022-09-12T16:56:06.900Z"
   },
   {
    "duration": 156,
    "start_time": "2022-09-12T16:56:07.125Z"
   },
   {
    "duration": 149,
    "start_time": "2022-09-12T16:56:07.282Z"
   },
   {
    "duration": 422,
    "start_time": "2022-09-12T16:56:07.433Z"
   },
   {
    "duration": 431,
    "start_time": "2022-09-12T16:56:07.857Z"
   },
   {
    "duration": 323,
    "start_time": "2022-09-12T16:56:08.289Z"
   },
   {
    "duration": 144,
    "start_time": "2022-09-12T16:56:08.614Z"
   },
   {
    "duration": 227,
    "start_time": "2022-09-12T16:56:08.759Z"
   },
   {
    "duration": 140,
    "start_time": "2022-09-12T16:56:08.987Z"
   },
   {
    "duration": 158,
    "start_time": "2022-09-12T16:56:09.129Z"
   },
   {
    "duration": 134,
    "start_time": "2022-09-12T16:56:09.289Z"
   },
   {
    "duration": 181,
    "start_time": "2022-09-12T16:56:09.424Z"
   },
   {
    "duration": 212,
    "start_time": "2022-09-12T16:56:09.608Z"
   },
   {
    "duration": 160,
    "start_time": "2022-09-12T16:56:09.821Z"
   },
   {
    "duration": 137,
    "start_time": "2022-09-12T16:56:09.982Z"
   },
   {
    "duration": 143,
    "start_time": "2022-09-12T16:56:10.120Z"
   },
   {
    "duration": 113,
    "start_time": "2022-09-12T16:56:10.265Z"
   },
   {
    "duration": 194,
    "start_time": "2022-09-12T16:56:10.379Z"
   },
   {
    "duration": 20,
    "start_time": "2022-09-12T16:56:10.575Z"
   },
   {
    "duration": 6,
    "start_time": "2022-09-12T16:56:10.609Z"
   },
   {
    "duration": 8,
    "start_time": "2022-09-12T16:56:10.617Z"
   },
   {
    "duration": 138,
    "start_time": "2022-09-12T16:56:10.627Z"
   },
   {
    "duration": 474,
    "start_time": "2022-09-12T16:56:10.767Z"
   },
   {
    "duration": 7434,
    "start_time": "2022-09-12T16:56:11.242Z"
   },
   {
    "duration": 440,
    "start_time": "2022-09-12T16:56:18.678Z"
   },
   {
    "duration": 4,
    "start_time": "2022-09-12T16:59:16.877Z"
   },
   {
    "duration": 199,
    "start_time": "2022-09-12T16:59:17.386Z"
   },
   {
    "duration": 21,
    "start_time": "2022-09-12T16:59:50.227Z"
   },
   {
    "duration": 24,
    "start_time": "2022-09-12T16:59:56.144Z"
   },
   {
    "duration": 28,
    "start_time": "2022-09-12T17:00:00.107Z"
   },
   {
    "duration": 9,
    "start_time": "2022-09-12T17:02:28.282Z"
   },
   {
    "duration": 106,
    "start_time": "2022-09-12T17:03:06.310Z"
   },
   {
    "duration": 10,
    "start_time": "2022-09-12T17:03:16.960Z"
   },
   {
    "duration": 22,
    "start_time": "2022-09-12T17:04:22.582Z"
   },
   {
    "duration": 11,
    "start_time": "2022-09-12T17:09:04.618Z"
   },
   {
    "duration": 4,
    "start_time": "2022-09-12T17:09:08.789Z"
   },
   {
    "duration": 95,
    "start_time": "2022-09-12T17:09:19.803Z"
   },
   {
    "duration": 21,
    "start_time": "2022-09-12T17:11:58.856Z"
   },
   {
    "duration": 3,
    "start_time": "2022-09-12T17:12:30.088Z"
   },
   {
    "duration": 22,
    "start_time": "2022-09-12T17:12:33.717Z"
   },
   {
    "duration": 5,
    "start_time": "2022-09-12T17:12:34.086Z"
   },
   {
    "duration": 23,
    "start_time": "2022-09-12T17:12:38.863Z"
   },
   {
    "duration": 29,
    "start_time": "2022-09-12T17:12:42.540Z"
   },
   {
    "duration": 26,
    "start_time": "2022-09-12T17:13:39.349Z"
   },
   {
    "duration": 33,
    "start_time": "2022-09-12T17:13:52.598Z"
   },
   {
    "duration": 4,
    "start_time": "2022-09-12T17:14:30.115Z"
   },
   {
    "duration": 27,
    "start_time": "2022-09-12T17:14:33.420Z"
   },
   {
    "duration": 3,
    "start_time": "2022-09-12T17:14:33.762Z"
   },
   {
    "duration": 132,
    "start_time": "2022-09-12T17:15:32.283Z"
   },
   {
    "duration": 10,
    "start_time": "2022-09-12T17:15:56.984Z"
   },
   {
    "duration": 26,
    "start_time": "2022-09-12T17:16:27.459Z"
   },
   {
    "duration": 4,
    "start_time": "2022-09-12T17:16:27.880Z"
   },
   {
    "duration": 145,
    "start_time": "2022-09-12T17:16:28.885Z"
   },
   {
    "duration": 11,
    "start_time": "2022-09-12T17:16:31.910Z"
   },
   {
    "duration": 134,
    "start_time": "2022-09-12T17:16:33.128Z"
   },
   {
    "duration": 12,
    "start_time": "2022-09-12T17:16:55.729Z"
   },
   {
    "duration": 8,
    "start_time": "2022-09-12T17:17:13.576Z"
   },
   {
    "duration": 130,
    "start_time": "2022-09-12T17:17:18.369Z"
   },
   {
    "duration": 10,
    "start_time": "2022-09-12T17:17:45.907Z"
   },
   {
    "duration": 134,
    "start_time": "2022-09-12T17:18:07.697Z"
   },
   {
    "duration": 10,
    "start_time": "2022-09-12T17:18:39.985Z"
   },
   {
    "duration": 29,
    "start_time": "2022-09-12T17:18:44.078Z"
   },
   {
    "duration": 10,
    "start_time": "2022-09-12T17:18:48.483Z"
   },
   {
    "duration": 23,
    "start_time": "2022-09-12T17:18:49.313Z"
   },
   {
    "duration": 9,
    "start_time": "2022-09-12T17:31:47.657Z"
   },
   {
    "duration": 10,
    "start_time": "2022-09-12T17:32:21.952Z"
   },
   {
    "duration": 4,
    "start_time": "2022-09-12T17:32:27.255Z"
   },
   {
    "duration": 6,
    "start_time": "2022-09-12T17:33:00.626Z"
   },
   {
    "duration": 7,
    "start_time": "2022-09-12T17:33:22.266Z"
   },
   {
    "duration": 14,
    "start_time": "2022-09-12T17:34:01.097Z"
   },
   {
    "duration": 10,
    "start_time": "2022-09-12T17:34:05.750Z"
   },
   {
    "duration": 8,
    "start_time": "2022-09-12T17:34:31.173Z"
   },
   {
    "duration": 7,
    "start_time": "2022-09-12T17:34:37.036Z"
   },
   {
    "duration": 11,
    "start_time": "2022-09-12T17:36:38.739Z"
   },
   {
    "duration": 65,
    "start_time": "2022-09-12T17:37:10.574Z"
   },
   {
    "duration": 68,
    "start_time": "2022-09-12T17:37:15.708Z"
   },
   {
    "duration": 22,
    "start_time": "2022-09-12T17:37:22.032Z"
   },
   {
    "duration": 14,
    "start_time": "2022-09-12T17:41:54.377Z"
   },
   {
    "duration": 2778,
    "start_time": "2022-09-12T17:42:09.282Z"
   },
   {
    "duration": 68,
    "start_time": "2022-09-12T17:42:14.308Z"
   },
   {
    "duration": 2666,
    "start_time": "2022-09-12T17:42:15.494Z"
   },
   {
    "duration": 9,
    "start_time": "2022-09-12T17:42:41.836Z"
   },
   {
    "duration": 24,
    "start_time": "2022-09-12T17:42:49.324Z"
   },
   {
    "duration": 22,
    "start_time": "2022-09-12T17:42:53.678Z"
   },
   {
    "duration": 6,
    "start_time": "2022-09-12T17:43:35.174Z"
   },
   {
    "duration": 14,
    "start_time": "2022-09-12T17:43:47.647Z"
   },
   {
    "duration": 24,
    "start_time": "2022-09-12T17:45:37.229Z"
   },
   {
    "duration": 4,
    "start_time": "2022-09-12T17:46:12.979Z"
   },
   {
    "duration": 8,
    "start_time": "2022-09-12T17:46:24.030Z"
   },
   {
    "duration": 9,
    "start_time": "2022-09-12T17:46:44.902Z"
   },
   {
    "duration": 95,
    "start_time": "2022-09-12T17:46:52.253Z"
   },
   {
    "duration": 4,
    "start_time": "2022-09-12T17:46:56.583Z"
   },
   {
    "duration": 7,
    "start_time": "2022-09-12T17:46:56.961Z"
   },
   {
    "duration": 96,
    "start_time": "2022-09-12T17:46:59.013Z"
   },
   {
    "duration": 2,
    "start_time": "2022-09-12T17:47:24.405Z"
   },
   {
    "duration": 544,
    "start_time": "2022-09-12T17:47:40.118Z"
   },
   {
    "duration": 7,
    "start_time": "2022-09-12T17:47:45.367Z"
   },
   {
    "duration": 97,
    "start_time": "2022-09-12T17:47:52.154Z"
   },
   {
    "duration": 9,
    "start_time": "2022-09-12T17:48:18.166Z"
   },
   {
    "duration": 161,
    "start_time": "2022-09-12T17:48:24.076Z"
   },
   {
    "duration": 9,
    "start_time": "2022-09-12T17:49:12.339Z"
   },
   {
    "duration": 7,
    "start_time": "2022-09-12T17:49:29.101Z"
   },
   {
    "duration": 8,
    "start_time": "2022-09-12T17:49:50.017Z"
   },
   {
    "duration": 90,
    "start_time": "2022-09-12T17:49:55.883Z"
   },
   {
    "duration": 9,
    "start_time": "2022-09-12T17:50:24.660Z"
   },
   {
    "duration": 522,
    "start_time": "2022-09-12T17:50:30.490Z"
   },
   {
    "duration": 9,
    "start_time": "2022-09-12T17:50:49.588Z"
   },
   {
    "duration": 6,
    "start_time": "2022-09-12T17:51:00.971Z"
   },
   {
    "duration": 97,
    "start_time": "2022-09-12T17:51:09.999Z"
   },
   {
    "duration": 206,
    "start_time": "2022-09-12T17:51:32.175Z"
   },
   {
    "duration": 10,
    "start_time": "2022-09-12T17:51:54.136Z"
   },
   {
    "duration": 8,
    "start_time": "2022-09-12T17:52:07.133Z"
   },
   {
    "duration": 9,
    "start_time": "2022-09-12T17:52:18.637Z"
   },
   {
    "duration": 90,
    "start_time": "2022-09-12T17:52:22.929Z"
   },
   {
    "duration": 798,
    "start_time": "2022-09-12T17:52:45.074Z"
   },
   {
    "duration": 9,
    "start_time": "2022-09-12T17:52:55.987Z"
   },
   {
    "duration": 7,
    "start_time": "2022-09-12T17:53:03.597Z"
   },
   {
    "duration": 10,
    "start_time": "2022-09-12T17:53:16.677Z"
   },
   {
    "duration": 174,
    "start_time": "2022-09-12T17:53:21.645Z"
   },
   {
    "duration": 142,
    "start_time": "2022-09-12T17:53:44.565Z"
   },
   {
    "duration": 11,
    "start_time": "2022-09-12T17:54:09.662Z"
   },
   {
    "duration": 40,
    "start_time": "2022-09-12T17:56:03.633Z"
   },
   {
    "duration": 29,
    "start_time": "2022-09-12T17:56:21.515Z"
   },
   {
    "duration": 24,
    "start_time": "2022-09-12T17:56:35.427Z"
   },
   {
    "duration": 20,
    "start_time": "2022-09-12T17:58:40.158Z"
   },
   {
    "duration": 38,
    "start_time": "2022-09-12T17:59:25.386Z"
   },
   {
    "duration": 22,
    "start_time": "2022-09-12T17:59:30.692Z"
   },
   {
    "duration": 20,
    "start_time": "2022-09-12T17:59:44.951Z"
   },
   {
    "duration": 7,
    "start_time": "2022-09-12T17:59:55.287Z"
   },
   {
    "duration": 16,
    "start_time": "2022-09-12T18:00:17.750Z"
   },
   {
    "duration": 14,
    "start_time": "2022-09-12T18:00:23.544Z"
   },
   {
    "duration": 14,
    "start_time": "2022-09-12T18:00:30.692Z"
   },
   {
    "duration": 14,
    "start_time": "2022-09-12T18:00:34.598Z"
   },
   {
    "duration": 19,
    "start_time": "2022-09-12T18:00:36.020Z"
   },
   {
    "duration": 10,
    "start_time": "2022-09-12T18:00:41.511Z"
   },
   {
    "duration": 9,
    "start_time": "2022-09-12T18:01:00.192Z"
   },
   {
    "duration": 15,
    "start_time": "2022-09-12T18:01:12.874Z"
   },
   {
    "duration": 13,
    "start_time": "2022-09-12T18:01:13.294Z"
   },
   {
    "duration": 8,
    "start_time": "2022-09-12T18:01:25.910Z"
   },
   {
    "duration": 8,
    "start_time": "2022-09-12T18:01:35.783Z"
   },
   {
    "duration": 154,
    "start_time": "2022-09-12T18:01:47.900Z"
   },
   {
    "duration": 7,
    "start_time": "2022-09-12T18:02:02.053Z"
   },
   {
    "duration": 1112,
    "start_time": "2022-09-12T18:02:52.020Z"
   },
   {
    "duration": 1839,
    "start_time": "2022-09-12T18:02:53.134Z"
   },
   {
    "duration": 31,
    "start_time": "2022-09-12T18:02:54.974Z"
   },
   {
    "duration": 70,
    "start_time": "2022-09-12T18:02:55.007Z"
   },
   {
    "duration": 202,
    "start_time": "2022-09-12T18:02:55.079Z"
   },
   {
    "duration": 13,
    "start_time": "2022-09-12T18:02:55.282Z"
   },
   {
    "duration": 12,
    "start_time": "2022-09-12T18:02:55.297Z"
   },
   {
    "duration": 19,
    "start_time": "2022-09-12T18:02:55.311Z"
   },
   {
    "duration": 16,
    "start_time": "2022-09-12T18:02:55.332Z"
   },
   {
    "duration": 11,
    "start_time": "2022-09-12T18:02:55.349Z"
   },
   {
    "duration": 14,
    "start_time": "2022-09-12T18:02:55.361Z"
   },
   {
    "duration": 9,
    "start_time": "2022-09-12T18:02:55.376Z"
   },
   {
    "duration": 193,
    "start_time": "2022-09-12T18:02:55.386Z"
   },
   {
    "duration": 6,
    "start_time": "2022-09-12T18:02:55.582Z"
   },
   {
    "duration": 243,
    "start_time": "2022-09-12T18:02:55.589Z"
   },
   {
    "duration": 4,
    "start_time": "2022-09-12T18:02:55.834Z"
   },
   {
    "duration": 29,
    "start_time": "2022-09-12T18:02:55.839Z"
   },
   {
    "duration": 8,
    "start_time": "2022-09-12T18:02:55.869Z"
   },
   {
    "duration": 84,
    "start_time": "2022-09-12T18:02:55.878Z"
   },
   {
    "duration": 66,
    "start_time": "2022-09-12T18:02:55.964Z"
   },
   {
    "duration": 23,
    "start_time": "2022-09-12T18:02:56.032Z"
   },
   {
    "duration": 12,
    "start_time": "2022-09-12T18:02:56.056Z"
   },
   {
    "duration": 20,
    "start_time": "2022-09-12T18:02:56.069Z"
   },
   {
    "duration": 6,
    "start_time": "2022-09-12T18:02:56.090Z"
   },
   {
    "duration": 14,
    "start_time": "2022-09-12T18:02:56.097Z"
   },
   {
    "duration": 8,
    "start_time": "2022-09-12T18:02:56.113Z"
   },
   {
    "duration": 89,
    "start_time": "2022-09-12T18:02:56.122Z"
   },
   {
    "duration": 2672,
    "start_time": "2022-09-12T18:02:56.212Z"
   },
   {
    "duration": 10,
    "start_time": "2022-09-12T18:02:58.886Z"
   },
   {
    "duration": 44,
    "start_time": "2022-09-12T18:02:58.897Z"
   },
   {
    "duration": 4,
    "start_time": "2022-09-12T18:02:58.942Z"
   },
   {
    "duration": 22,
    "start_time": "2022-09-12T18:02:58.948Z"
   },
   {
    "duration": 200,
    "start_time": "2022-09-12T18:02:58.972Z"
   },
   {
    "duration": 0,
    "start_time": "2022-09-12T18:02:59.174Z"
   },
   {
    "duration": 0,
    "start_time": "2022-09-12T18:02:59.175Z"
   },
   {
    "duration": 0,
    "start_time": "2022-09-12T18:02:59.176Z"
   },
   {
    "duration": 0,
    "start_time": "2022-09-12T18:02:59.177Z"
   },
   {
    "duration": 0,
    "start_time": "2022-09-12T18:02:59.178Z"
   },
   {
    "duration": 0,
    "start_time": "2022-09-12T18:02:59.179Z"
   },
   {
    "duration": 0,
    "start_time": "2022-09-12T18:02:59.179Z"
   },
   {
    "duration": 0,
    "start_time": "2022-09-12T18:02:59.180Z"
   },
   {
    "duration": 0,
    "start_time": "2022-09-12T18:02:59.181Z"
   },
   {
    "duration": 0,
    "start_time": "2022-09-12T18:02:59.182Z"
   },
   {
    "duration": 0,
    "start_time": "2022-09-12T18:02:59.182Z"
   },
   {
    "duration": 0,
    "start_time": "2022-09-12T18:02:59.183Z"
   },
   {
    "duration": 0,
    "start_time": "2022-09-12T18:02:59.184Z"
   },
   {
    "duration": 0,
    "start_time": "2022-09-12T18:02:59.185Z"
   },
   {
    "duration": 0,
    "start_time": "2022-09-12T18:02:59.186Z"
   },
   {
    "duration": 0,
    "start_time": "2022-09-12T18:02:59.187Z"
   },
   {
    "duration": 0,
    "start_time": "2022-09-12T18:02:59.187Z"
   },
   {
    "duration": 0,
    "start_time": "2022-09-12T18:02:59.209Z"
   },
   {
    "duration": 0,
    "start_time": "2022-09-12T18:02:59.210Z"
   },
   {
    "duration": 0,
    "start_time": "2022-09-12T18:02:59.211Z"
   },
   {
    "duration": 0,
    "start_time": "2022-09-12T18:02:59.212Z"
   },
   {
    "duration": 0,
    "start_time": "2022-09-12T18:02:59.213Z"
   },
   {
    "duration": 0,
    "start_time": "2022-09-12T18:02:59.214Z"
   },
   {
    "duration": 0,
    "start_time": "2022-09-12T18:02:59.214Z"
   },
   {
    "duration": 0,
    "start_time": "2022-09-12T18:02:59.215Z"
   },
   {
    "duration": 0,
    "start_time": "2022-09-12T18:02:59.216Z"
   },
   {
    "duration": 0,
    "start_time": "2022-09-12T18:02:59.217Z"
   },
   {
    "duration": 0,
    "start_time": "2022-09-12T18:02:59.217Z"
   },
   {
    "duration": 0,
    "start_time": "2022-09-12T18:02:59.218Z"
   },
   {
    "duration": 0,
    "start_time": "2022-09-12T18:02:59.219Z"
   },
   {
    "duration": 0,
    "start_time": "2022-09-12T18:02:59.220Z"
   },
   {
    "duration": 0,
    "start_time": "2022-09-12T18:02:59.221Z"
   },
   {
    "duration": 0,
    "start_time": "2022-09-12T18:02:59.222Z"
   },
   {
    "duration": 0,
    "start_time": "2022-09-12T18:02:59.223Z"
   },
   {
    "duration": 0,
    "start_time": "2022-09-12T18:02:59.223Z"
   },
   {
    "duration": 0,
    "start_time": "2022-09-12T18:02:59.224Z"
   },
   {
    "duration": 0,
    "start_time": "2022-09-12T18:02:59.225Z"
   },
   {
    "duration": 0,
    "start_time": "2022-09-12T18:02:59.226Z"
   },
   {
    "duration": 0,
    "start_time": "2022-09-12T18:02:59.226Z"
   },
   {
    "duration": 0,
    "start_time": "2022-09-12T18:02:59.227Z"
   },
   {
    "duration": 0,
    "start_time": "2022-09-12T18:02:59.228Z"
   },
   {
    "duration": 0,
    "start_time": "2022-09-12T18:02:59.229Z"
   },
   {
    "duration": 0,
    "start_time": "2022-09-12T18:02:59.229Z"
   },
   {
    "duration": 0,
    "start_time": "2022-09-12T18:02:59.230Z"
   },
   {
    "duration": 0,
    "start_time": "2022-09-12T18:02:59.231Z"
   },
   {
    "duration": 0,
    "start_time": "2022-09-12T18:02:59.232Z"
   },
   {
    "duration": 0,
    "start_time": "2022-09-12T18:02:59.233Z"
   },
   {
    "duration": 0,
    "start_time": "2022-09-12T18:02:59.233Z"
   },
   {
    "duration": 0,
    "start_time": "2022-09-12T18:02:59.235Z"
   },
   {
    "duration": 0,
    "start_time": "2022-09-12T18:02:59.235Z"
   },
   {
    "duration": 0,
    "start_time": "2022-09-12T18:02:59.237Z"
   },
   {
    "duration": 0,
    "start_time": "2022-09-12T18:02:59.237Z"
   },
   {
    "duration": 0,
    "start_time": "2022-09-12T18:02:59.238Z"
   },
   {
    "duration": 0,
    "start_time": "2022-09-12T18:02:59.239Z"
   },
   {
    "duration": 0,
    "start_time": "2022-09-12T18:02:59.240Z"
   },
   {
    "duration": 0,
    "start_time": "2022-09-12T18:02:59.241Z"
   },
   {
    "duration": 0,
    "start_time": "2022-09-12T18:02:59.242Z"
   },
   {
    "duration": 0,
    "start_time": "2022-09-12T18:02:59.243Z"
   },
   {
    "duration": 0,
    "start_time": "2022-09-12T18:02:59.244Z"
   },
   {
    "duration": 0,
    "start_time": "2022-09-12T18:02:59.309Z"
   },
   {
    "duration": 0,
    "start_time": "2022-09-12T18:02:59.310Z"
   },
   {
    "duration": 0,
    "start_time": "2022-09-12T18:02:59.311Z"
   },
   {
    "duration": 0,
    "start_time": "2022-09-12T18:02:59.311Z"
   },
   {
    "duration": 0,
    "start_time": "2022-09-12T18:02:59.312Z"
   },
   {
    "duration": 12,
    "start_time": "2022-09-12T18:03:20.403Z"
   },
   {
    "duration": 8,
    "start_time": "2022-09-12T18:03:30.815Z"
   },
   {
    "duration": 9,
    "start_time": "2022-09-12T18:03:34.024Z"
   },
   {
    "duration": 8,
    "start_time": "2022-09-12T18:03:34.208Z"
   },
   {
    "duration": 1097,
    "start_time": "2022-09-12T18:03:43.562Z"
   },
   {
    "duration": 1789,
    "start_time": "2022-09-12T18:03:44.660Z"
   },
   {
    "duration": 32,
    "start_time": "2022-09-12T18:03:46.450Z"
   },
   {
    "duration": 67,
    "start_time": "2022-09-12T18:03:46.484Z"
   },
   {
    "duration": 206,
    "start_time": "2022-09-12T18:03:46.552Z"
   },
   {
    "duration": 12,
    "start_time": "2022-09-12T18:03:46.760Z"
   },
   {
    "duration": 9,
    "start_time": "2022-09-12T18:03:46.773Z"
   },
   {
    "duration": 33,
    "start_time": "2022-09-12T18:03:46.783Z"
   },
   {
    "duration": 5,
    "start_time": "2022-09-12T18:03:46.817Z"
   },
   {
    "duration": 9,
    "start_time": "2022-09-12T18:03:46.825Z"
   },
   {
    "duration": 27,
    "start_time": "2022-09-12T18:03:46.835Z"
   },
   {
    "duration": 11,
    "start_time": "2022-09-12T18:03:46.864Z"
   },
   {
    "duration": 215,
    "start_time": "2022-09-12T18:03:46.877Z"
   },
   {
    "duration": 7,
    "start_time": "2022-09-12T18:03:47.093Z"
   },
   {
    "duration": 240,
    "start_time": "2022-09-12T18:03:47.101Z"
   },
   {
    "duration": 4,
    "start_time": "2022-09-12T18:03:47.343Z"
   },
   {
    "duration": 23,
    "start_time": "2022-09-12T18:03:47.348Z"
   },
   {
    "duration": 4,
    "start_time": "2022-09-12T18:03:47.373Z"
   },
   {
    "duration": 88,
    "start_time": "2022-09-12T18:03:47.378Z"
   },
   {
    "duration": 55,
    "start_time": "2022-09-12T18:03:47.467Z"
   },
   {
    "duration": 23,
    "start_time": "2022-09-12T18:03:47.523Z"
   },
   {
    "duration": 13,
    "start_time": "2022-09-12T18:03:47.548Z"
   },
   {
    "duration": 7,
    "start_time": "2022-09-12T18:03:47.562Z"
   },
   {
    "duration": 7,
    "start_time": "2022-09-12T18:03:47.570Z"
   },
   {
    "duration": 30,
    "start_time": "2022-09-12T18:03:47.579Z"
   },
   {
    "duration": 11,
    "start_time": "2022-09-12T18:03:47.611Z"
   },
   {
    "duration": 87,
    "start_time": "2022-09-12T18:03:47.623Z"
   },
   {
    "duration": 2647,
    "start_time": "2022-09-12T18:03:47.715Z"
   },
   {
    "duration": 7,
    "start_time": "2022-09-12T18:03:50.363Z"
   },
   {
    "duration": 35,
    "start_time": "2022-09-12T18:03:50.371Z"
   },
   {
    "duration": 10,
    "start_time": "2022-09-12T18:03:50.407Z"
   },
   {
    "duration": 25,
    "start_time": "2022-09-12T18:03:50.418Z"
   },
   {
    "duration": 193,
    "start_time": "2022-09-12T18:03:50.444Z"
   },
   {
    "duration": 0,
    "start_time": "2022-09-12T18:03:50.639Z"
   },
   {
    "duration": 0,
    "start_time": "2022-09-12T18:03:50.642Z"
   },
   {
    "duration": 0,
    "start_time": "2022-09-12T18:03:50.643Z"
   },
   {
    "duration": 0,
    "start_time": "2022-09-12T18:03:50.643Z"
   },
   {
    "duration": 0,
    "start_time": "2022-09-12T18:03:50.644Z"
   },
   {
    "duration": 0,
    "start_time": "2022-09-12T18:03:50.645Z"
   },
   {
    "duration": 0,
    "start_time": "2022-09-12T18:03:50.646Z"
   },
   {
    "duration": 0,
    "start_time": "2022-09-12T18:03:50.647Z"
   },
   {
    "duration": 0,
    "start_time": "2022-09-12T18:03:50.647Z"
   },
   {
    "duration": 0,
    "start_time": "2022-09-12T18:03:50.648Z"
   },
   {
    "duration": 0,
    "start_time": "2022-09-12T18:03:50.649Z"
   },
   {
    "duration": 0,
    "start_time": "2022-09-12T18:03:50.650Z"
   },
   {
    "duration": 0,
    "start_time": "2022-09-12T18:03:50.651Z"
   },
   {
    "duration": 0,
    "start_time": "2022-09-12T18:03:50.651Z"
   },
   {
    "duration": 0,
    "start_time": "2022-09-12T18:03:50.652Z"
   },
   {
    "duration": 0,
    "start_time": "2022-09-12T18:03:50.653Z"
   },
   {
    "duration": 0,
    "start_time": "2022-09-12T18:03:50.654Z"
   },
   {
    "duration": 0,
    "start_time": "2022-09-12T18:03:50.655Z"
   },
   {
    "duration": 0,
    "start_time": "2022-09-12T18:03:50.656Z"
   },
   {
    "duration": 0,
    "start_time": "2022-09-12T18:03:50.657Z"
   },
   {
    "duration": 0,
    "start_time": "2022-09-12T18:03:50.658Z"
   },
   {
    "duration": 0,
    "start_time": "2022-09-12T18:03:50.659Z"
   },
   {
    "duration": 0,
    "start_time": "2022-09-12T18:03:50.659Z"
   },
   {
    "duration": 0,
    "start_time": "2022-09-12T18:03:50.660Z"
   },
   {
    "duration": 0,
    "start_time": "2022-09-12T18:03:50.662Z"
   },
   {
    "duration": 0,
    "start_time": "2022-09-12T18:03:50.662Z"
   },
   {
    "duration": 0,
    "start_time": "2022-09-12T18:03:50.665Z"
   },
   {
    "duration": 0,
    "start_time": "2022-09-12T18:03:50.665Z"
   },
   {
    "duration": 0,
    "start_time": "2022-09-12T18:03:50.709Z"
   },
   {
    "duration": 0,
    "start_time": "2022-09-12T18:03:50.710Z"
   },
   {
    "duration": 0,
    "start_time": "2022-09-12T18:03:50.711Z"
   },
   {
    "duration": 0,
    "start_time": "2022-09-12T18:03:50.712Z"
   },
   {
    "duration": 0,
    "start_time": "2022-09-12T18:03:50.713Z"
   },
   {
    "duration": 0,
    "start_time": "2022-09-12T18:03:50.714Z"
   },
   {
    "duration": 0,
    "start_time": "2022-09-12T18:03:50.714Z"
   },
   {
    "duration": 0,
    "start_time": "2022-09-12T18:03:50.715Z"
   },
   {
    "duration": 0,
    "start_time": "2022-09-12T18:03:50.716Z"
   },
   {
    "duration": 0,
    "start_time": "2022-09-12T18:03:50.717Z"
   },
   {
    "duration": 0,
    "start_time": "2022-09-12T18:03:50.718Z"
   },
   {
    "duration": 0,
    "start_time": "2022-09-12T18:03:50.719Z"
   },
   {
    "duration": 0,
    "start_time": "2022-09-12T18:03:50.720Z"
   },
   {
    "duration": 0,
    "start_time": "2022-09-12T18:03:50.720Z"
   },
   {
    "duration": 0,
    "start_time": "2022-09-12T18:03:50.721Z"
   },
   {
    "duration": 0,
    "start_time": "2022-09-12T18:03:50.722Z"
   },
   {
    "duration": 0,
    "start_time": "2022-09-12T18:03:50.723Z"
   },
   {
    "duration": 0,
    "start_time": "2022-09-12T18:03:50.724Z"
   },
   {
    "duration": 0,
    "start_time": "2022-09-12T18:03:50.725Z"
   },
   {
    "duration": 0,
    "start_time": "2022-09-12T18:03:50.725Z"
   },
   {
    "duration": 0,
    "start_time": "2022-09-12T18:03:50.726Z"
   },
   {
    "duration": 0,
    "start_time": "2022-09-12T18:03:50.727Z"
   },
   {
    "duration": 0,
    "start_time": "2022-09-12T18:03:50.728Z"
   },
   {
    "duration": 0,
    "start_time": "2022-09-12T18:03:50.728Z"
   },
   {
    "duration": 0,
    "start_time": "2022-09-12T18:03:50.729Z"
   },
   {
    "duration": 0,
    "start_time": "2022-09-12T18:03:50.730Z"
   },
   {
    "duration": 0,
    "start_time": "2022-09-12T18:03:50.730Z"
   },
   {
    "duration": 0,
    "start_time": "2022-09-12T18:03:50.731Z"
   },
   {
    "duration": 0,
    "start_time": "2022-09-12T18:03:50.732Z"
   },
   {
    "duration": 0,
    "start_time": "2022-09-12T18:03:50.732Z"
   },
   {
    "duration": 0,
    "start_time": "2022-09-12T18:03:50.733Z"
   },
   {
    "duration": 0,
    "start_time": "2022-09-12T18:03:50.734Z"
   },
   {
    "duration": 0,
    "start_time": "2022-09-12T18:03:50.735Z"
   },
   {
    "duration": 0,
    "start_time": "2022-09-12T18:03:50.735Z"
   },
   {
    "duration": 0,
    "start_time": "2022-09-12T18:03:50.736Z"
   },
   {
    "duration": 0,
    "start_time": "2022-09-12T18:03:50.736Z"
   },
   {
    "duration": 138,
    "start_time": "2022-09-12T18:04:28.398Z"
   },
   {
    "duration": 9,
    "start_time": "2022-09-12T18:04:29.131Z"
   },
   {
    "duration": 6,
    "start_time": "2022-09-12T18:04:29.647Z"
   },
   {
    "duration": 103,
    "start_time": "2022-09-12T18:04:30.712Z"
   },
   {
    "duration": 10,
    "start_time": "2022-09-12T18:04:35.276Z"
   },
   {
    "duration": 7,
    "start_time": "2022-09-12T18:04:35.728Z"
   },
   {
    "duration": 97,
    "start_time": "2022-09-12T18:04:36.550Z"
   },
   {
    "duration": 616,
    "start_time": "2022-09-12T18:04:37.230Z"
   },
   {
    "duration": 7,
    "start_time": "2022-09-12T18:04:38.407Z"
   },
   {
    "duration": 2,
    "start_time": "2022-09-12T18:05:24.701Z"
   },
   {
    "duration": 1707,
    "start_time": "2022-09-12T18:05:24.919Z"
   },
   {
    "duration": 32,
    "start_time": "2022-09-12T18:05:26.627Z"
   },
   {
    "duration": 4,
    "start_time": "2022-09-12T18:05:26.660Z"
   },
   {
    "duration": 213,
    "start_time": "2022-09-12T18:05:26.665Z"
   },
   {
    "duration": 9,
    "start_time": "2022-09-12T18:05:26.879Z"
   },
   {
    "duration": 22,
    "start_time": "2022-09-12T18:05:26.889Z"
   },
   {
    "duration": 20,
    "start_time": "2022-09-12T18:05:26.912Z"
   },
   {
    "duration": 26,
    "start_time": "2022-09-12T18:05:26.933Z"
   },
   {
    "duration": 13,
    "start_time": "2022-09-12T18:05:26.961Z"
   },
   {
    "duration": 34,
    "start_time": "2022-09-12T18:05:26.977Z"
   },
   {
    "duration": 7,
    "start_time": "2022-09-12T18:05:27.261Z"
   },
   {
    "duration": 169,
    "start_time": "2022-09-12T18:05:27.350Z"
   },
   {
    "duration": 6,
    "start_time": "2022-09-12T18:05:27.547Z"
   },
   {
    "duration": 329,
    "start_time": "2022-09-12T18:05:27.697Z"
   },
   {
    "duration": 4,
    "start_time": "2022-09-12T18:05:28.027Z"
   },
   {
    "duration": 29,
    "start_time": "2022-09-12T18:05:28.033Z"
   },
   {
    "duration": 4,
    "start_time": "2022-09-12T18:05:28.095Z"
   },
   {
    "duration": 76,
    "start_time": "2022-09-12T18:05:28.358Z"
   },
   {
    "duration": 20,
    "start_time": "2022-09-12T18:05:28.915Z"
   },
   {
    "duration": 24,
    "start_time": "2022-09-12T18:05:29.220Z"
   },
   {
    "duration": 12,
    "start_time": "2022-09-12T18:05:29.943Z"
   },
   {
    "duration": 8,
    "start_time": "2022-09-12T18:05:30.182Z"
   },
   {
    "duration": 4,
    "start_time": "2022-09-12T18:05:30.254Z"
   },
   {
    "duration": 8,
    "start_time": "2022-09-12T18:05:30.486Z"
   },
   {
    "duration": 10,
    "start_time": "2022-09-12T18:05:30.583Z"
   },
   {
    "duration": 69,
    "start_time": "2022-09-12T18:05:30.824Z"
   },
   {
    "duration": 2714,
    "start_time": "2022-09-12T18:05:30.923Z"
   },
   {
    "duration": 8,
    "start_time": "2022-09-12T18:05:33.640Z"
   },
   {
    "duration": 24,
    "start_time": "2022-09-12T18:05:33.649Z"
   },
   {
    "duration": 3,
    "start_time": "2022-09-12T18:05:33.675Z"
   },
   {
    "duration": 11,
    "start_time": "2022-09-12T18:05:33.680Z"
   },
   {
    "duration": 101,
    "start_time": "2022-09-12T18:05:33.708Z"
   },
   {
    "duration": 170,
    "start_time": "2022-09-12T18:05:33.811Z"
   },
   {
    "duration": 9,
    "start_time": "2022-09-12T18:05:33.982Z"
   },
   {
    "duration": 20,
    "start_time": "2022-09-12T18:05:33.992Z"
   },
   {
    "duration": 107,
    "start_time": "2022-09-12T18:05:34.014Z"
   },
   {
    "duration": 550,
    "start_time": "2022-09-12T18:05:34.123Z"
   },
   {
    "duration": 8,
    "start_time": "2022-09-12T18:05:34.675Z"
   },
   {
    "duration": 7,
    "start_time": "2022-09-12T18:05:44.256Z"
   },
   {
    "duration": 89,
    "start_time": "2022-09-12T18:05:44.552Z"
   },
   {
    "duration": 131,
    "start_time": "2022-09-12T18:05:44.913Z"
   },
   {
    "duration": 7,
    "start_time": "2022-09-12T18:05:45.098Z"
   },
   {
    "duration": 8,
    "start_time": "2022-09-12T18:05:45.571Z"
   },
   {
    "duration": 158,
    "start_time": "2022-09-12T18:05:46.515Z"
   },
   {
    "duration": 814,
    "start_time": "2022-09-12T18:05:47.431Z"
   },
   {
    "duration": 8,
    "start_time": "2022-09-12T18:05:48.247Z"
   },
   {
    "duration": 7,
    "start_time": "2022-09-12T18:05:49.019Z"
   },
   {
    "duration": 96,
    "start_time": "2022-09-12T18:05:49.652Z"
   },
   {
    "duration": 223,
    "start_time": "2022-09-12T18:05:50.470Z"
   },
   {
    "duration": 30,
    "start_time": "2022-09-12T18:05:50.944Z"
   },
   {
    "duration": 23,
    "start_time": "2022-09-12T18:05:51.470Z"
   },
   {
    "duration": 21,
    "start_time": "2022-09-12T18:05:53.140Z"
   },
   {
    "duration": 7,
    "start_time": "2022-09-12T18:05:53.822Z"
   },
   {
    "duration": 13,
    "start_time": "2022-09-12T18:05:54.635Z"
   },
   {
    "duration": 16,
    "start_time": "2022-09-12T18:05:56.026Z"
   },
   {
    "duration": 6,
    "start_time": "2022-09-12T18:06:54.591Z"
   },
   {
    "duration": 7,
    "start_time": "2022-09-12T18:07:37.276Z"
   },
   {
    "duration": 15,
    "start_time": "2022-09-12T18:07:41.876Z"
   },
   {
    "duration": 6,
    "start_time": "2022-09-12T18:07:44.375Z"
   },
   {
    "duration": 13,
    "start_time": "2022-09-12T18:07:54.144Z"
   },
   {
    "duration": 20,
    "start_time": "2022-09-12T18:08:49.447Z"
   },
   {
    "duration": 14,
    "start_time": "2022-09-12T18:08:59.696Z"
   },
   {
    "duration": 6,
    "start_time": "2022-09-12T18:09:12.295Z"
   },
   {
    "duration": 4,
    "start_time": "2022-09-12T18:10:25.053Z"
   },
   {
    "duration": 4,
    "start_time": "2022-09-12T18:10:27.838Z"
   },
   {
    "duration": 7,
    "start_time": "2022-09-12T18:12:09.698Z"
   },
   {
    "duration": 140,
    "start_time": "2022-09-12T18:14:36.148Z"
   },
   {
    "duration": 141,
    "start_time": "2022-09-12T18:14:45.066Z"
   },
   {
    "duration": 82,
    "start_time": "2022-09-12T18:15:29.085Z"
   },
   {
    "duration": 899,
    "start_time": "2022-09-12T18:15:40.517Z"
   },
   {
    "duration": 9,
    "start_time": "2022-09-12T18:15:49.818Z"
   },
   {
    "duration": 7,
    "start_time": "2022-09-12T18:15:51.828Z"
   },
   {
    "duration": 100,
    "start_time": "2022-09-12T18:15:52.377Z"
   },
   {
    "duration": 179,
    "start_time": "2022-09-12T18:15:52.563Z"
   },
   {
    "duration": 22,
    "start_time": "2022-09-12T18:15:56.918Z"
   },
   {
    "duration": 28,
    "start_time": "2022-09-12T18:15:59.780Z"
   },
   {
    "duration": 22,
    "start_time": "2022-09-12T18:16:00.793Z"
   },
   {
    "duration": 21,
    "start_time": "2022-09-12T18:16:13.891Z"
   },
   {
    "duration": 21,
    "start_time": "2022-09-12T18:16:16.874Z"
   },
   {
    "duration": 135,
    "start_time": "2022-09-12T18:17:01.720Z"
   },
   {
    "duration": 82,
    "start_time": "2022-09-12T18:17:10.259Z"
   },
   {
    "duration": 13,
    "start_time": "2022-09-12T18:22:05.573Z"
   },
   {
    "duration": 5,
    "start_time": "2022-09-12T18:22:23.150Z"
   },
   {
    "duration": 6,
    "start_time": "2022-09-12T18:22:32.848Z"
   },
   {
    "duration": 24,
    "start_time": "2022-09-12T18:23:09.806Z"
   },
   {
    "duration": 22,
    "start_time": "2022-09-12T18:23:28.492Z"
   },
   {
    "duration": 7,
    "start_time": "2022-09-12T18:23:31.838Z"
   },
   {
    "duration": 8,
    "start_time": "2022-09-12T18:23:33.011Z"
   },
   {
    "duration": 24,
    "start_time": "2022-09-12T18:23:39.122Z"
   },
   {
    "duration": 177,
    "start_time": "2022-09-12T18:23:52.692Z"
   },
   {
    "duration": 18,
    "start_time": "2022-09-12T18:24:34.158Z"
   },
   {
    "duration": 16,
    "start_time": "2022-09-12T18:24:51.648Z"
   },
   {
    "duration": 310,
    "start_time": "2022-09-12T18:26:54.821Z"
   },
   {
    "duration": 441,
    "start_time": "2022-09-12T18:27:03.462Z"
   },
   {
    "duration": 516,
    "start_time": "2022-09-12T18:27:09.885Z"
   },
   {
    "duration": 455,
    "start_time": "2022-09-12T18:27:43.373Z"
   },
   {
    "duration": 169,
    "start_time": "2022-09-12T18:28:54.730Z"
   },
   {
    "duration": 876,
    "start_time": "2022-09-12T18:29:00.610Z"
   },
   {
    "duration": 1179,
    "start_time": "2022-09-12T18:29:52.332Z"
   },
   {
    "duration": 1804,
    "start_time": "2022-09-12T18:29:53.513Z"
   },
   {
    "duration": 32,
    "start_time": "2022-09-12T18:29:55.319Z"
   },
   {
    "duration": 78,
    "start_time": "2022-09-12T18:29:55.352Z"
   },
   {
    "duration": 231,
    "start_time": "2022-09-12T18:29:55.432Z"
   },
   {
    "duration": 8,
    "start_time": "2022-09-12T18:29:55.665Z"
   },
   {
    "duration": 25,
    "start_time": "2022-09-12T18:29:55.675Z"
   },
   {
    "duration": 22,
    "start_time": "2022-09-12T18:29:55.702Z"
   },
   {
    "duration": 8,
    "start_time": "2022-09-12T18:29:55.726Z"
   },
   {
    "duration": 12,
    "start_time": "2022-09-12T18:29:55.735Z"
   },
   {
    "duration": 27,
    "start_time": "2022-09-12T18:29:55.748Z"
   },
   {
    "duration": 22,
    "start_time": "2022-09-12T18:29:55.777Z"
   },
   {
    "duration": 177,
    "start_time": "2022-09-12T18:29:55.800Z"
   },
   {
    "duration": 6,
    "start_time": "2022-09-12T18:29:55.980Z"
   },
   {
    "duration": 251,
    "start_time": "2022-09-12T18:29:55.987Z"
   },
   {
    "duration": 5,
    "start_time": "2022-09-12T18:29:56.239Z"
   },
   {
    "duration": 16,
    "start_time": "2022-09-12T18:29:56.246Z"
   },
   {
    "duration": 7,
    "start_time": "2022-09-12T18:29:56.264Z"
   },
   {
    "duration": 85,
    "start_time": "2022-09-12T18:29:56.273Z"
   },
   {
    "duration": 64,
    "start_time": "2022-09-12T18:29:56.360Z"
   },
   {
    "duration": 22,
    "start_time": "2022-09-12T18:29:56.426Z"
   },
   {
    "duration": 13,
    "start_time": "2022-09-12T18:29:56.450Z"
   },
   {
    "duration": 22,
    "start_time": "2022-09-12T18:29:56.464Z"
   },
   {
    "duration": 6,
    "start_time": "2022-09-12T18:29:56.488Z"
   },
   {
    "duration": 20,
    "start_time": "2022-09-12T18:29:56.496Z"
   },
   {
    "duration": 22,
    "start_time": "2022-09-12T18:29:56.518Z"
   },
   {
    "duration": 70,
    "start_time": "2022-09-12T18:29:56.541Z"
   },
   {
    "duration": 2722,
    "start_time": "2022-09-12T18:29:56.613Z"
   },
   {
    "duration": 8,
    "start_time": "2022-09-12T18:29:59.336Z"
   },
   {
    "duration": 22,
    "start_time": "2022-09-12T18:29:59.345Z"
   },
   {
    "duration": 3,
    "start_time": "2022-09-12T18:29:59.368Z"
   },
   {
    "duration": 8,
    "start_time": "2022-09-12T18:29:59.373Z"
   },
   {
    "duration": 120,
    "start_time": "2022-09-12T18:29:59.382Z"
   },
   {
    "duration": 146,
    "start_time": "2022-09-12T18:29:59.512Z"
   },
   {
    "duration": 9,
    "start_time": "2022-09-12T18:29:59.659Z"
   },
   {
    "duration": 8,
    "start_time": "2022-09-12T18:29:59.669Z"
   },
   {
    "duration": 108,
    "start_time": "2022-09-12T18:29:59.678Z"
   },
   {
    "duration": 543,
    "start_time": "2022-09-12T18:29:59.788Z"
   },
   {
    "duration": 8,
    "start_time": "2022-09-12T18:30:00.332Z"
   },
   {
    "duration": 10,
    "start_time": "2022-09-12T18:30:00.341Z"
   },
   {
    "duration": 175,
    "start_time": "2022-09-12T18:30:00.356Z"
   },
   {
    "duration": 141,
    "start_time": "2022-09-12T18:30:00.533Z"
   },
   {
    "duration": 7,
    "start_time": "2022-09-12T18:30:00.676Z"
   },
   {
    "duration": 24,
    "start_time": "2022-09-12T18:30:00.685Z"
   },
   {
    "duration": 83,
    "start_time": "2022-09-12T18:30:00.711Z"
   },
   {
    "duration": 935,
    "start_time": "2022-09-12T18:30:00.809Z"
   },
   {
    "duration": 8,
    "start_time": "2022-09-12T18:30:01.746Z"
   },
   {
    "duration": 32,
    "start_time": "2022-09-12T18:30:01.756Z"
   },
   {
    "duration": 105,
    "start_time": "2022-09-12T18:30:01.790Z"
   },
   {
    "duration": 155,
    "start_time": "2022-09-12T18:30:01.897Z"
   },
   {
    "duration": 38,
    "start_time": "2022-09-12T18:30:02.053Z"
   },
   {
    "duration": 52,
    "start_time": "2022-09-12T18:30:02.093Z"
   },
   {
    "duration": 57,
    "start_time": "2022-09-12T18:30:02.147Z"
   },
   {
    "duration": 7,
    "start_time": "2022-09-12T18:30:02.206Z"
   },
   {
    "duration": 18,
    "start_time": "2022-09-12T18:30:02.214Z"
   },
   {
    "duration": 8,
    "start_time": "2022-09-12T18:30:02.233Z"
   },
   {
    "duration": 17,
    "start_time": "2022-09-12T18:30:02.242Z"
   },
   {
    "duration": 25,
    "start_time": "2022-09-12T18:30:02.260Z"
   },
   {
    "duration": 17,
    "start_time": "2022-09-12T18:30:02.287Z"
   },
   {
    "duration": 169,
    "start_time": "2022-09-12T18:30:02.306Z"
   },
   {
    "duration": 7,
    "start_time": "2022-09-12T18:30:02.476Z"
   },
   {
    "duration": 312,
    "start_time": "2022-09-12T18:30:02.485Z"
   },
   {
    "duration": 266,
    "start_time": "2022-09-12T18:30:02.799Z"
   },
   {
    "duration": 243,
    "start_time": "2022-09-12T18:30:03.066Z"
   },
   {
    "duration": 249,
    "start_time": "2022-09-12T18:30:03.310Z"
   },
   {
    "duration": 298,
    "start_time": "2022-09-12T18:30:03.561Z"
   },
   {
    "duration": 122,
    "start_time": "2022-09-12T18:30:03.860Z"
   },
   {
    "duration": 194,
    "start_time": "2022-09-12T18:30:03.984Z"
   },
   {
    "duration": 163,
    "start_time": "2022-09-12T18:30:04.179Z"
   },
   {
    "duration": 154,
    "start_time": "2022-09-12T18:30:04.343Z"
   },
   {
    "duration": 161,
    "start_time": "2022-09-12T18:30:04.498Z"
   },
   {
    "duration": 164,
    "start_time": "2022-09-12T18:30:04.660Z"
   },
   {
    "duration": 171,
    "start_time": "2022-09-12T18:30:04.826Z"
   },
   {
    "duration": 162,
    "start_time": "2022-09-12T18:30:04.999Z"
   },
   {
    "duration": 165,
    "start_time": "2022-09-12T18:30:05.163Z"
   },
   {
    "duration": 503,
    "start_time": "2022-09-12T18:30:05.330Z"
   },
   {
    "duration": 435,
    "start_time": "2022-09-12T18:30:05.835Z"
   },
   {
    "duration": 323,
    "start_time": "2022-09-12T18:30:06.272Z"
   },
   {
    "duration": 116,
    "start_time": "2022-09-12T18:30:06.597Z"
   },
   {
    "duration": 0,
    "start_time": "2022-09-12T18:30:06.714Z"
   },
   {
    "duration": 0,
    "start_time": "2022-09-12T18:30:06.716Z"
   },
   {
    "duration": 0,
    "start_time": "2022-09-12T18:30:06.717Z"
   },
   {
    "duration": 0,
    "start_time": "2022-09-12T18:30:06.719Z"
   },
   {
    "duration": 0,
    "start_time": "2022-09-12T18:30:06.724Z"
   },
   {
    "duration": 0,
    "start_time": "2022-09-12T18:30:06.725Z"
   },
   {
    "duration": 0,
    "start_time": "2022-09-12T18:30:06.727Z"
   },
   {
    "duration": 0,
    "start_time": "2022-09-12T18:30:06.728Z"
   },
   {
    "duration": 0,
    "start_time": "2022-09-12T18:30:06.732Z"
   },
   {
    "duration": 0,
    "start_time": "2022-09-12T18:30:06.733Z"
   },
   {
    "duration": 0,
    "start_time": "2022-09-12T18:30:06.736Z"
   },
   {
    "duration": 0,
    "start_time": "2022-09-12T18:30:06.737Z"
   },
   {
    "duration": 0,
    "start_time": "2022-09-12T18:30:06.739Z"
   },
   {
    "duration": 0,
    "start_time": "2022-09-12T18:30:06.740Z"
   },
   {
    "duration": 0,
    "start_time": "2022-09-12T18:30:06.742Z"
   },
   {
    "duration": 0,
    "start_time": "2022-09-12T18:30:06.743Z"
   },
   {
    "duration": 0,
    "start_time": "2022-09-12T18:30:06.744Z"
   },
   {
    "duration": 0,
    "start_time": "2022-09-12T18:30:06.745Z"
   },
   {
    "duration": 3,
    "start_time": "2022-09-12T18:30:56.534Z"
   },
   {
    "duration": 1794,
    "start_time": "2022-09-12T18:30:56.860Z"
   },
   {
    "duration": 30,
    "start_time": "2022-09-12T18:30:58.656Z"
   },
   {
    "duration": 5,
    "start_time": "2022-09-12T18:30:58.688Z"
   },
   {
    "duration": 211,
    "start_time": "2022-09-12T18:30:58.709Z"
   },
   {
    "duration": 9,
    "start_time": "2022-09-12T18:30:58.921Z"
   },
   {
    "duration": 8,
    "start_time": "2022-09-12T18:30:58.931Z"
   },
   {
    "duration": 16,
    "start_time": "2022-09-12T18:30:58.941Z"
   },
   {
    "duration": 15,
    "start_time": "2022-09-12T18:30:58.959Z"
   },
   {
    "duration": 7,
    "start_time": "2022-09-12T18:30:59.156Z"
   },
   {
    "duration": 10,
    "start_time": "2022-09-12T18:30:59.182Z"
   },
   {
    "duration": 8,
    "start_time": "2022-09-12T18:30:59.431Z"
   },
   {
    "duration": 189,
    "start_time": "2022-09-12T18:31:00.721Z"
   },
   {
    "duration": 6,
    "start_time": "2022-09-12T18:31:00.912Z"
   },
   {
    "duration": 259,
    "start_time": "2022-09-12T18:31:00.920Z"
   },
   {
    "duration": 4,
    "start_time": "2022-09-12T18:31:01.181Z"
   },
   {
    "duration": 31,
    "start_time": "2022-09-12T18:31:01.187Z"
   },
   {
    "duration": 14,
    "start_time": "2022-09-12T18:31:01.220Z"
   },
   {
    "duration": 94,
    "start_time": "2022-09-12T18:31:01.236Z"
   },
   {
    "duration": 20,
    "start_time": "2022-09-12T18:31:01.349Z"
   },
   {
    "duration": 24,
    "start_time": "2022-09-12T18:31:01.718Z"
   },
   {
    "duration": 13,
    "start_time": "2022-09-12T18:31:04.557Z"
   },
   {
    "duration": 12,
    "start_time": "2022-09-12T18:31:05.385Z"
   },
   {
    "duration": 5,
    "start_time": "2022-09-12T18:31:05.816Z"
   },
   {
    "duration": 10,
    "start_time": "2022-09-12T18:31:06.024Z"
   },
   {
    "duration": 12,
    "start_time": "2022-09-12T18:31:06.545Z"
   },
   {
    "duration": 70,
    "start_time": "2022-09-12T18:31:06.670Z"
   },
   {
    "duration": 2746,
    "start_time": "2022-09-12T18:31:06.889Z"
   },
   {
    "duration": 9,
    "start_time": "2022-09-12T18:31:09.637Z"
   },
   {
    "duration": 25,
    "start_time": "2022-09-12T18:31:09.647Z"
   },
   {
    "duration": 3,
    "start_time": "2022-09-12T18:31:09.674Z"
   },
   {
    "duration": 30,
    "start_time": "2022-09-12T18:31:09.679Z"
   },
   {
    "duration": 107,
    "start_time": "2022-09-12T18:31:09.711Z"
   },
   {
    "duration": 156,
    "start_time": "2022-09-12T18:31:09.820Z"
   },
   {
    "duration": 9,
    "start_time": "2022-09-12T18:31:09.977Z"
   },
   {
    "duration": 23,
    "start_time": "2022-09-12T18:31:09.987Z"
   },
   {
    "duration": 105,
    "start_time": "2022-09-12T18:31:10.012Z"
   },
   {
    "duration": 681,
    "start_time": "2022-09-12T18:31:10.118Z"
   },
   {
    "duration": 8,
    "start_time": "2022-09-12T18:31:10.801Z"
   },
   {
    "duration": 6,
    "start_time": "2022-09-12T18:31:10.811Z"
   },
   {
    "duration": 110,
    "start_time": "2022-09-12T18:31:10.818Z"
   },
   {
    "duration": 142,
    "start_time": "2022-09-12T18:31:10.930Z"
   },
   {
    "duration": 7,
    "start_time": "2022-09-12T18:31:11.073Z"
   },
   {
    "duration": 10,
    "start_time": "2022-09-12T18:31:11.082Z"
   },
   {
    "duration": 100,
    "start_time": "2022-09-12T18:31:11.093Z"
   },
   {
    "duration": 955,
    "start_time": "2022-09-12T18:31:11.195Z"
   },
   {
    "duration": 9,
    "start_time": "2022-09-12T18:31:12.151Z"
   },
   {
    "duration": 7,
    "start_time": "2022-09-12T18:31:12.162Z"
   },
   {
    "duration": 120,
    "start_time": "2022-09-12T18:31:12.170Z"
   },
   {
    "duration": 150,
    "start_time": "2022-09-12T18:31:12.291Z"
   },
   {
    "duration": 31,
    "start_time": "2022-09-12T18:31:12.443Z"
   },
   {
    "duration": 43,
    "start_time": "2022-09-12T18:31:12.476Z"
   },
   {
    "duration": 22,
    "start_time": "2022-09-12T18:31:13.579Z"
   },
   {
    "duration": 7,
    "start_time": "2022-09-12T18:31:14.653Z"
   },
   {
    "duration": 14,
    "start_time": "2022-09-12T18:31:14.837Z"
   },
   {
    "duration": 7,
    "start_time": "2022-09-12T18:31:15.872Z"
   },
   {
    "duration": 9,
    "start_time": "2022-09-12T18:31:17.774Z"
   },
   {
    "duration": 8,
    "start_time": "2022-09-12T18:31:18.614Z"
   },
   {
    "duration": 8,
    "start_time": "2022-09-12T18:31:19.192Z"
   },
   {
    "duration": 164,
    "start_time": "2022-09-12T18:31:19.568Z"
   },
   {
    "duration": 8,
    "start_time": "2022-09-12T18:31:20.929Z"
   },
   {
    "duration": 236,
    "start_time": "2022-09-12T18:31:21.940Z"
   },
   {
    "duration": 243,
    "start_time": "2022-09-12T18:31:23.216Z"
   },
   {
    "duration": 333,
    "start_time": "2022-09-12T18:31:23.461Z"
   },
   {
    "duration": 268,
    "start_time": "2022-09-12T18:31:24.032Z"
   },
   {
    "duration": 151,
    "start_time": "2022-09-12T18:31:25.346Z"
   },
   {
    "duration": 96,
    "start_time": "2022-09-12T18:31:26.269Z"
   },
   {
    "duration": 163,
    "start_time": "2022-09-12T18:31:26.667Z"
   },
   {
    "duration": 159,
    "start_time": "2022-09-12T18:31:26.832Z"
   },
   {
    "duration": 149,
    "start_time": "2022-09-12T18:31:27.465Z"
   },
   {
    "duration": 180,
    "start_time": "2022-09-12T18:31:29.121Z"
   },
   {
    "duration": 151,
    "start_time": "2022-09-12T18:31:29.469Z"
   },
   {
    "duration": 151,
    "start_time": "2022-09-12T18:31:30.349Z"
   },
   {
    "duration": 230,
    "start_time": "2022-09-12T18:31:31.714Z"
   },
   {
    "duration": 165,
    "start_time": "2022-09-12T18:31:32.314Z"
   },
   {
    "duration": 410,
    "start_time": "2022-09-12T18:31:35.660Z"
   },
   {
    "duration": 479,
    "start_time": "2022-09-12T18:31:36.072Z"
   },
   {
    "duration": 300,
    "start_time": "2022-09-12T18:31:37.206Z"
   },
   {
    "duration": 12,
    "start_time": "2022-09-12T18:31:38.425Z"
   },
   {
    "duration": 12,
    "start_time": "2022-09-12T18:31:40.009Z"
   },
   {
    "duration": 12,
    "start_time": "2022-09-12T18:31:41.318Z"
   },
   {
    "duration": 11,
    "start_time": "2022-09-12T18:31:42.370Z"
   },
   {
    "duration": 28,
    "start_time": "2022-09-12T18:31:43.291Z"
   },
   {
    "duration": 1041,
    "start_time": "2022-09-12T18:31:44.208Z"
   },
   {
    "duration": 0,
    "start_time": "2022-09-12T18:31:45.251Z"
   },
   {
    "duration": 11,
    "start_time": "2022-09-12T18:31:45.793Z"
   },
   {
    "duration": 14,
    "start_time": "2022-09-12T18:31:47.192Z"
   },
   {
    "duration": 0,
    "start_time": "2022-09-12T18:31:47.208Z"
   },
   {
    "duration": 15,
    "start_time": "2022-09-12T18:31:47.485Z"
   },
   {
    "duration": 12,
    "start_time": "2022-09-12T18:31:47.936Z"
   },
   {
    "duration": 11,
    "start_time": "2022-09-12T18:31:49.691Z"
   },
   {
    "duration": 8,
    "start_time": "2022-09-12T18:31:50.214Z"
   },
   {
    "duration": 8,
    "start_time": "2022-09-12T18:31:50.829Z"
   },
   {
    "duration": 17,
    "start_time": "2022-09-12T18:31:52.155Z"
   },
   {
    "duration": 13,
    "start_time": "2022-09-12T18:33:37.069Z"
   },
   {
    "duration": 306,
    "start_time": "2022-09-12T18:33:48.873Z"
   },
   {
    "duration": 12,
    "start_time": "2022-09-12T18:34:04.208Z"
   },
   {
    "duration": 13,
    "start_time": "2022-09-12T18:34:46.664Z"
   },
   {
    "duration": 7,
    "start_time": "2022-09-12T18:35:36.135Z"
   },
   {
    "duration": 8,
    "start_time": "2022-09-12T18:35:43.213Z"
   },
   {
    "duration": 137,
    "start_time": "2022-09-12T18:35:58.082Z"
   },
   {
    "duration": 14,
    "start_time": "2022-09-12T18:36:03.218Z"
   },
   {
    "duration": 159,
    "start_time": "2022-09-12T18:36:04.042Z"
   },
   {
    "duration": 137,
    "start_time": "2022-09-12T18:36:05.548Z"
   },
   {
    "duration": 131,
    "start_time": "2022-09-12T18:36:08.453Z"
   },
   {
    "duration": 147,
    "start_time": "2022-09-12T18:36:10.172Z"
   },
   {
    "duration": 27,
    "start_time": "2022-09-12T18:36:11.533Z"
   },
   {
    "duration": 940,
    "start_time": "2022-09-12T18:36:13.335Z"
   },
   {
    "duration": 11,
    "start_time": "2022-09-12T18:36:14.653Z"
   },
   {
    "duration": 16,
    "start_time": "2022-09-12T18:36:15.170Z"
   },
   {
    "duration": 12,
    "start_time": "2022-09-12T18:36:15.490Z"
   },
   {
    "duration": 15,
    "start_time": "2022-09-12T18:36:15.688Z"
   },
   {
    "duration": 11,
    "start_time": "2022-09-12T18:36:20.600Z"
   },
   {
    "duration": 18,
    "start_time": "2022-09-12T18:36:20.844Z"
   },
   {
    "duration": 22,
    "start_time": "2022-09-12T18:36:22.338Z"
   },
   {
    "duration": 9,
    "start_time": "2022-09-12T18:36:22.583Z"
   },
   {
    "duration": 7,
    "start_time": "2022-09-12T18:36:23.959Z"
   },
   {
    "duration": 19,
    "start_time": "2022-09-12T18:36:26.808Z"
   },
   {
    "duration": 11,
    "start_time": "2022-09-12T18:38:08.963Z"
   },
   {
    "duration": 14,
    "start_time": "2022-09-12T18:38:44.340Z"
   },
   {
    "duration": 7,
    "start_time": "2022-09-12T18:40:10.875Z"
   },
   {
    "duration": 13,
    "start_time": "2022-09-12T18:40:15.999Z"
   },
   {
    "duration": 127,
    "start_time": "2022-09-12T18:40:30.968Z"
   },
   {
    "duration": 23,
    "start_time": "2022-09-12T18:40:37.820Z"
   },
   {
    "duration": 14,
    "start_time": "2022-09-12T18:40:46.609Z"
   },
   {
    "duration": 1094,
    "start_time": "2022-09-12T18:41:16.274Z"
   },
   {
    "duration": 1143,
    "start_time": "2022-09-12T18:41:26.074Z"
   },
   {
    "duration": 1163,
    "start_time": "2022-09-12T18:41:37.894Z"
   },
   {
    "duration": 145,
    "start_time": "2022-09-12T18:42:03.055Z"
   },
   {
    "duration": 206,
    "start_time": "2022-09-12T18:42:06.166Z"
   },
   {
    "duration": 1110,
    "start_time": "2022-09-12T18:42:28.904Z"
   },
   {
    "duration": 1789,
    "start_time": "2022-09-12T18:42:30.016Z"
   },
   {
    "duration": 33,
    "start_time": "2022-09-12T18:42:31.807Z"
   },
   {
    "duration": 77,
    "start_time": "2022-09-12T18:42:31.842Z"
   },
   {
    "duration": 209,
    "start_time": "2022-09-12T18:42:31.921Z"
   },
   {
    "duration": 8,
    "start_time": "2022-09-12T18:42:32.132Z"
   },
   {
    "duration": 10,
    "start_time": "2022-09-12T18:42:32.141Z"
   },
   {
    "duration": 17,
    "start_time": "2022-09-12T18:42:32.152Z"
   },
   {
    "duration": 6,
    "start_time": "2022-09-12T18:42:32.170Z"
   },
   {
    "duration": 11,
    "start_time": "2022-09-12T18:42:32.209Z"
   },
   {
    "duration": 10,
    "start_time": "2022-09-12T18:42:32.222Z"
   },
   {
    "duration": 11,
    "start_time": "2022-09-12T18:42:32.233Z"
   },
   {
    "duration": 214,
    "start_time": "2022-09-12T18:42:32.245Z"
   },
   {
    "duration": 7,
    "start_time": "2022-09-12T18:42:32.462Z"
   },
   {
    "duration": 297,
    "start_time": "2022-09-12T18:42:32.470Z"
   },
   {
    "duration": 5,
    "start_time": "2022-09-12T18:42:32.768Z"
   },
   {
    "duration": 20,
    "start_time": "2022-09-12T18:42:32.774Z"
   },
   {
    "duration": 15,
    "start_time": "2022-09-12T18:42:32.796Z"
   },
   {
    "duration": 86,
    "start_time": "2022-09-12T18:42:32.813Z"
   },
   {
    "duration": 62,
    "start_time": "2022-09-12T18:42:32.901Z"
   },
   {
    "duration": 23,
    "start_time": "2022-09-12T18:42:32.965Z"
   },
   {
    "duration": 29,
    "start_time": "2022-09-12T18:42:32.990Z"
   },
   {
    "duration": 9,
    "start_time": "2022-09-12T18:42:33.021Z"
   },
   {
    "duration": 4,
    "start_time": "2022-09-12T18:42:33.031Z"
   },
   {
    "duration": 10,
    "start_time": "2022-09-12T18:42:33.037Z"
   },
   {
    "duration": 13,
    "start_time": "2022-09-12T18:42:33.048Z"
   },
   {
    "duration": 93,
    "start_time": "2022-09-12T18:42:33.063Z"
   },
   {
    "duration": 2683,
    "start_time": "2022-09-12T18:42:33.157Z"
   },
   {
    "duration": 8,
    "start_time": "2022-09-12T18:42:35.842Z"
   },
   {
    "duration": 27,
    "start_time": "2022-09-12T18:42:35.852Z"
   },
   {
    "duration": 4,
    "start_time": "2022-09-12T18:42:35.881Z"
   },
   {
    "duration": 22,
    "start_time": "2022-09-12T18:42:35.887Z"
   },
   {
    "duration": 110,
    "start_time": "2022-09-12T18:42:35.911Z"
   },
   {
    "duration": 167,
    "start_time": "2022-09-12T18:42:36.023Z"
   },
   {
    "duration": 17,
    "start_time": "2022-09-12T18:42:36.192Z"
   },
   {
    "duration": 7,
    "start_time": "2022-09-12T18:42:36.210Z"
   },
   {
    "duration": 111,
    "start_time": "2022-09-12T18:42:36.218Z"
   },
   {
    "duration": 544,
    "start_time": "2022-09-12T18:42:36.331Z"
   },
   {
    "duration": 9,
    "start_time": "2022-09-12T18:42:36.876Z"
   },
   {
    "duration": 30,
    "start_time": "2022-09-12T18:42:36.886Z"
   },
   {
    "duration": 179,
    "start_time": "2022-09-12T18:42:36.921Z"
   },
   {
    "duration": 138,
    "start_time": "2022-09-12T18:42:37.102Z"
   },
   {
    "duration": 7,
    "start_time": "2022-09-12T18:42:37.242Z"
   },
   {
    "duration": 24,
    "start_time": "2022-09-12T18:42:37.251Z"
   },
   {
    "duration": 86,
    "start_time": "2022-09-12T18:42:37.277Z"
   },
   {
    "duration": 933,
    "start_time": "2022-09-12T18:42:37.365Z"
   },
   {
    "duration": 14,
    "start_time": "2022-09-12T18:42:38.300Z"
   },
   {
    "duration": 26,
    "start_time": "2022-09-12T18:42:38.315Z"
   },
   {
    "duration": 115,
    "start_time": "2022-09-12T18:42:38.342Z"
   },
   {
    "duration": 156,
    "start_time": "2022-09-12T18:42:38.459Z"
   },
   {
    "duration": 30,
    "start_time": "2022-09-12T18:42:38.616Z"
   },
   {
    "duration": 25,
    "start_time": "2022-09-12T18:42:38.648Z"
   },
   {
    "duration": 34,
    "start_time": "2022-09-12T18:42:38.675Z"
   },
   {
    "duration": 7,
    "start_time": "2022-09-12T18:42:38.711Z"
   },
   {
    "duration": 19,
    "start_time": "2022-09-12T18:42:38.719Z"
   },
   {
    "duration": 138,
    "start_time": "2022-09-12T18:42:38.740Z"
   },
   {
    "duration": 0,
    "start_time": "2022-09-12T18:42:38.879Z"
   },
   {
    "duration": 0,
    "start_time": "2022-09-12T18:42:38.880Z"
   },
   {
    "duration": 0,
    "start_time": "2022-09-12T18:42:38.881Z"
   },
   {
    "duration": 0,
    "start_time": "2022-09-12T18:42:38.882Z"
   },
   {
    "duration": 0,
    "start_time": "2022-09-12T18:42:38.883Z"
   },
   {
    "duration": 0,
    "start_time": "2022-09-12T18:42:38.884Z"
   },
   {
    "duration": 0,
    "start_time": "2022-09-12T18:42:38.885Z"
   },
   {
    "duration": 0,
    "start_time": "2022-09-12T18:42:38.886Z"
   },
   {
    "duration": 0,
    "start_time": "2022-09-12T18:42:38.887Z"
   },
   {
    "duration": 0,
    "start_time": "2022-09-12T18:42:38.888Z"
   },
   {
    "duration": 0,
    "start_time": "2022-09-12T18:42:38.889Z"
   },
   {
    "duration": 0,
    "start_time": "2022-09-12T18:42:38.909Z"
   },
   {
    "duration": 0,
    "start_time": "2022-09-12T18:42:38.910Z"
   },
   {
    "duration": 0,
    "start_time": "2022-09-12T18:42:38.912Z"
   },
   {
    "duration": 0,
    "start_time": "2022-09-12T18:42:38.913Z"
   },
   {
    "duration": 0,
    "start_time": "2022-09-12T18:42:38.915Z"
   },
   {
    "duration": 0,
    "start_time": "2022-09-12T18:42:38.916Z"
   },
   {
    "duration": 0,
    "start_time": "2022-09-12T18:42:38.917Z"
   },
   {
    "duration": 0,
    "start_time": "2022-09-12T18:42:38.919Z"
   },
   {
    "duration": 0,
    "start_time": "2022-09-12T18:42:38.920Z"
   },
   {
    "duration": 0,
    "start_time": "2022-09-12T18:42:38.921Z"
   },
   {
    "duration": 0,
    "start_time": "2022-09-12T18:42:38.923Z"
   },
   {
    "duration": 0,
    "start_time": "2022-09-12T18:42:38.924Z"
   },
   {
    "duration": 0,
    "start_time": "2022-09-12T18:42:38.925Z"
   },
   {
    "duration": 0,
    "start_time": "2022-09-12T18:42:38.926Z"
   },
   {
    "duration": 0,
    "start_time": "2022-09-12T18:42:38.927Z"
   },
   {
    "duration": 0,
    "start_time": "2022-09-12T18:42:38.928Z"
   },
   {
    "duration": 0,
    "start_time": "2022-09-12T18:42:38.930Z"
   },
   {
    "duration": 0,
    "start_time": "2022-09-12T18:42:38.931Z"
   },
   {
    "duration": 0,
    "start_time": "2022-09-12T18:42:38.932Z"
   },
   {
    "duration": 0,
    "start_time": "2022-09-12T18:42:38.933Z"
   },
   {
    "duration": 0,
    "start_time": "2022-09-12T18:42:38.935Z"
   },
   {
    "duration": 0,
    "start_time": "2022-09-12T18:42:38.936Z"
   },
   {
    "duration": 0,
    "start_time": "2022-09-12T18:42:38.938Z"
   },
   {
    "duration": 0,
    "start_time": "2022-09-12T18:42:38.939Z"
   },
   {
    "duration": 0,
    "start_time": "2022-09-12T18:42:38.940Z"
   },
   {
    "duration": 0,
    "start_time": "2022-09-12T18:42:38.941Z"
   },
   {
    "duration": 0,
    "start_time": "2022-09-12T18:42:38.942Z"
   },
   {
    "duration": 0,
    "start_time": "2022-09-12T18:42:38.943Z"
   },
   {
    "duration": 0,
    "start_time": "2022-09-12T18:42:38.944Z"
   },
   {
    "duration": 0,
    "start_time": "2022-09-12T18:42:38.945Z"
   },
   {
    "duration": 0,
    "start_time": "2022-09-12T18:42:38.946Z"
   },
   {
    "duration": 62,
    "start_time": "2022-09-12T18:42:38.947Z"
   },
   {
    "duration": 0,
    "start_time": "2022-09-12T18:42:39.010Z"
   },
   {
    "duration": 23,
    "start_time": "2022-09-12T18:44:32.785Z"
   },
   {
    "duration": 14,
    "start_time": "2022-09-12T18:44:38.297Z"
   },
   {
    "duration": 13,
    "start_time": "2022-09-12T18:44:49.152Z"
   },
   {
    "duration": 5,
    "start_time": "2022-09-12T18:44:54.725Z"
   },
   {
    "duration": 8,
    "start_time": "2022-09-12T18:44:55.215Z"
   },
   {
    "duration": 23,
    "start_time": "2022-09-12T18:44:55.893Z"
   },
   {
    "duration": 65,
    "start_time": "2022-09-12T18:44:56.920Z"
   },
   {
    "duration": 2669,
    "start_time": "2022-09-12T18:45:00.048Z"
   },
   {
    "duration": 10,
    "start_time": "2022-09-12T18:45:02.719Z"
   },
   {
    "duration": 43,
    "start_time": "2022-09-12T18:45:02.731Z"
   },
   {
    "duration": 7,
    "start_time": "2022-09-12T18:45:02.776Z"
   },
   {
    "duration": 11,
    "start_time": "2022-09-12T18:45:02.784Z"
   },
   {
    "duration": 160,
    "start_time": "2022-09-12T18:45:02.797Z"
   },
   {
    "duration": 156,
    "start_time": "2022-09-12T18:45:02.959Z"
   },
   {
    "duration": 9,
    "start_time": "2022-09-12T18:45:03.146Z"
   },
   {
    "duration": 7,
    "start_time": "2022-09-12T18:45:03.276Z"
   },
   {
    "duration": 91,
    "start_time": "2022-09-12T18:45:03.480Z"
   },
   {
    "duration": 544,
    "start_time": "2022-09-12T18:45:03.929Z"
   },
   {
    "duration": 8,
    "start_time": "2022-09-12T18:45:04.475Z"
   },
   {
    "duration": 8,
    "start_time": "2022-09-12T18:45:04.484Z"
   },
   {
    "duration": 200,
    "start_time": "2022-09-12T18:45:04.493Z"
   },
   {
    "duration": 152,
    "start_time": "2022-09-12T18:45:04.695Z"
   },
   {
    "duration": 8,
    "start_time": "2022-09-12T18:45:04.849Z"
   },
   {
    "duration": 8,
    "start_time": "2022-09-12T18:45:04.958Z"
   },
   {
    "duration": 83,
    "start_time": "2022-09-12T18:45:05.069Z"
   },
   {
    "duration": 908,
    "start_time": "2022-09-12T18:45:05.283Z"
   },
   {
    "duration": 18,
    "start_time": "2022-09-12T18:45:06.193Z"
   },
   {
    "duration": 7,
    "start_time": "2022-09-12T18:45:06.213Z"
   },
   {
    "duration": 117,
    "start_time": "2022-09-12T18:45:06.222Z"
   },
   {
    "duration": 147,
    "start_time": "2022-09-12T18:45:06.341Z"
   },
   {
    "duration": 53,
    "start_time": "2022-09-12T18:45:06.490Z"
   },
   {
    "duration": 22,
    "start_time": "2022-09-12T18:45:06.545Z"
   },
   {
    "duration": 21,
    "start_time": "2022-09-12T18:45:06.733Z"
   },
   {
    "duration": 7,
    "start_time": "2022-09-12T18:45:07.430Z"
   },
   {
    "duration": 12,
    "start_time": "2022-09-12T18:45:07.940Z"
   },
   {
    "duration": 18,
    "start_time": "2022-09-12T18:45:09.034Z"
   },
   {
    "duration": 8,
    "start_time": "2022-09-12T18:45:09.877Z"
   },
   {
    "duration": 12,
    "start_time": "2022-09-12T18:45:16.639Z"
   },
   {
    "duration": 13,
    "start_time": "2022-09-12T18:45:42.290Z"
   },
   {
    "duration": 10,
    "start_time": "2022-09-12T18:45:42.539Z"
   },
   {
    "duration": 11,
    "start_time": "2022-09-12T18:45:42.728Z"
   },
   {
    "duration": 9,
    "start_time": "2022-09-12T18:45:44.737Z"
   },
   {
    "duration": 8,
    "start_time": "2022-09-12T18:45:58.316Z"
   },
   {
    "duration": 166,
    "start_time": "2022-09-12T18:45:58.982Z"
   },
   {
    "duration": 7,
    "start_time": "2022-09-12T18:46:00.643Z"
   },
   {
    "duration": 6,
    "start_time": "2022-09-12T18:46:03.103Z"
   },
   {
    "duration": 13,
    "start_time": "2022-09-12T18:46:03.627Z"
   },
   {
    "duration": 227,
    "start_time": "2022-09-12T18:46:06.106Z"
   },
   {
    "duration": 248,
    "start_time": "2022-09-12T18:46:10.042Z"
   },
   {
    "duration": 242,
    "start_time": "2022-09-12T18:46:15.401Z"
   },
   {
    "duration": 284,
    "start_time": "2022-09-12T18:46:16.970Z"
   },
   {
    "duration": 263,
    "start_time": "2022-09-12T18:46:19.232Z"
   },
   {
    "duration": 98,
    "start_time": "2022-09-12T18:46:20.175Z"
   },
   {
    "duration": 170,
    "start_time": "2022-09-12T18:46:20.647Z"
   },
   {
    "duration": 152,
    "start_time": "2022-09-12T18:46:21.792Z"
   },
   {
    "duration": 154,
    "start_time": "2022-09-12T18:46:22.783Z"
   },
   {
    "duration": 150,
    "start_time": "2022-09-12T18:46:25.309Z"
   },
   {
    "duration": 155,
    "start_time": "2022-09-12T18:46:26.403Z"
   },
   {
    "duration": 147,
    "start_time": "2022-09-12T18:46:27.538Z"
   },
   {
    "duration": 163,
    "start_time": "2022-09-12T18:46:29.992Z"
   },
   {
    "duration": 158,
    "start_time": "2022-09-12T18:46:31.051Z"
   },
   {
    "duration": 517,
    "start_time": "2022-09-12T18:46:34.525Z"
   },
   {
    "duration": 447,
    "start_time": "2022-09-12T18:46:36.181Z"
   },
   {
    "duration": 359,
    "start_time": "2022-09-12T18:46:39.144Z"
   },
   {
    "duration": 12,
    "start_time": "2022-09-12T18:46:42.272Z"
   },
   {
    "duration": 13,
    "start_time": "2022-09-12T18:46:43.225Z"
   },
   {
    "duration": 12,
    "start_time": "2022-09-12T18:46:49.862Z"
   },
   {
    "duration": 12,
    "start_time": "2022-09-12T18:46:51.392Z"
   },
   {
    "duration": 12,
    "start_time": "2022-09-12T18:46:58.707Z"
   },
   {
    "duration": 26,
    "start_time": "2022-09-12T18:47:03.360Z"
   },
   {
    "duration": 913,
    "start_time": "2022-09-12T18:47:13.739Z"
   },
   {
    "duration": 12,
    "start_time": "2022-09-12T18:47:20.625Z"
   },
   {
    "duration": 13,
    "start_time": "2022-09-12T18:47:21.130Z"
   },
   {
    "duration": 13,
    "start_time": "2022-09-12T18:47:22.688Z"
   },
   {
    "duration": 11,
    "start_time": "2022-09-12T18:47:22.875Z"
   },
   {
    "duration": 11,
    "start_time": "2022-09-12T18:47:23.237Z"
   },
   {
    "duration": 12,
    "start_time": "2022-09-12T18:47:23.451Z"
   },
   {
    "duration": 11,
    "start_time": "2022-09-12T18:47:24.203Z"
   },
   {
    "duration": 7,
    "start_time": "2022-09-12T18:47:24.406Z"
   },
   {
    "duration": 8,
    "start_time": "2022-09-12T18:47:24.510Z"
   },
   {
    "duration": 18,
    "start_time": "2022-09-12T18:47:25.753Z"
   },
   {
    "duration": 17,
    "start_time": "2022-09-12T18:47:52.427Z"
   },
   {
    "duration": 21,
    "start_time": "2022-09-12T18:48:11.553Z"
   },
   {
    "duration": 1150,
    "start_time": "2022-09-12T18:48:22.680Z"
   },
   {
    "duration": 1837,
    "start_time": "2022-09-12T18:48:23.832Z"
   },
   {
    "duration": 49,
    "start_time": "2022-09-12T18:48:25.671Z"
   },
   {
    "duration": 88,
    "start_time": "2022-09-12T18:48:25.723Z"
   },
   {
    "duration": 207,
    "start_time": "2022-09-12T18:48:25.813Z"
   },
   {
    "duration": 9,
    "start_time": "2022-09-12T18:48:26.021Z"
   },
   {
    "duration": 9,
    "start_time": "2022-09-12T18:48:26.032Z"
   },
   {
    "duration": 16,
    "start_time": "2022-09-12T18:48:26.042Z"
   },
   {
    "duration": 4,
    "start_time": "2022-09-12T18:48:26.060Z"
   },
   {
    "duration": 43,
    "start_time": "2022-09-12T18:48:26.067Z"
   },
   {
    "duration": 10,
    "start_time": "2022-09-12T18:48:26.112Z"
   },
   {
    "duration": 9,
    "start_time": "2022-09-12T18:48:26.123Z"
   },
   {
    "duration": 195,
    "start_time": "2022-09-12T18:48:26.134Z"
   },
   {
    "duration": 6,
    "start_time": "2022-09-12T18:48:26.331Z"
   },
   {
    "duration": 244,
    "start_time": "2022-09-12T18:48:26.338Z"
   },
   {
    "duration": 3,
    "start_time": "2022-09-12T18:48:26.584Z"
   },
   {
    "duration": 23,
    "start_time": "2022-09-12T18:48:26.589Z"
   },
   {
    "duration": 4,
    "start_time": "2022-09-12T18:48:26.613Z"
   },
   {
    "duration": 91,
    "start_time": "2022-09-12T18:48:26.619Z"
   },
   {
    "duration": 55,
    "start_time": "2022-09-12T18:48:26.711Z"
   },
   {
    "duration": 43,
    "start_time": "2022-09-12T18:48:26.767Z"
   },
   {
    "duration": 12,
    "start_time": "2022-09-12T18:48:26.812Z"
   },
   {
    "duration": 8,
    "start_time": "2022-09-12T18:48:26.826Z"
   },
   {
    "duration": 3,
    "start_time": "2022-09-12T18:48:26.835Z"
   },
   {
    "duration": 13,
    "start_time": "2022-09-12T18:48:26.840Z"
   },
   {
    "duration": 9,
    "start_time": "2022-09-12T18:48:26.854Z"
   },
   {
    "duration": 101,
    "start_time": "2022-09-12T18:48:26.865Z"
   },
   {
    "duration": 2617,
    "start_time": "2022-09-12T18:48:26.969Z"
   },
   {
    "duration": 8,
    "start_time": "2022-09-12T18:48:29.587Z"
   },
   {
    "duration": 29,
    "start_time": "2022-09-12T18:48:29.597Z"
   },
   {
    "duration": 4,
    "start_time": "2022-09-12T18:48:29.628Z"
   },
   {
    "duration": 12,
    "start_time": "2022-09-12T18:48:29.633Z"
   },
   {
    "duration": 107,
    "start_time": "2022-09-12T18:48:29.647Z"
   },
   {
    "duration": 158,
    "start_time": "2022-09-12T18:48:29.755Z"
   },
   {
    "duration": 9,
    "start_time": "2022-09-12T18:48:29.914Z"
   },
   {
    "duration": 7,
    "start_time": "2022-09-12T18:48:29.925Z"
   },
   {
    "duration": 113,
    "start_time": "2022-09-12T18:48:29.934Z"
   },
   {
    "duration": 608,
    "start_time": "2022-09-12T18:48:30.049Z"
   },
   {
    "duration": 9,
    "start_time": "2022-09-12T18:48:30.659Z"
   },
   {
    "duration": 18,
    "start_time": "2022-09-12T18:48:30.670Z"
   },
   {
    "duration": 94,
    "start_time": "2022-09-12T18:48:30.690Z"
   },
   {
    "duration": 149,
    "start_time": "2022-09-12T18:48:30.785Z"
   },
   {
    "duration": 7,
    "start_time": "2022-09-12T18:48:30.936Z"
   },
   {
    "duration": 11,
    "start_time": "2022-09-12T18:48:30.945Z"
   },
   {
    "duration": 103,
    "start_time": "2022-09-12T18:48:30.958Z"
   },
   {
    "duration": 912,
    "start_time": "2022-09-12T18:48:31.062Z"
   },
   {
    "duration": 9,
    "start_time": "2022-09-12T18:48:31.976Z"
   },
   {
    "duration": 9,
    "start_time": "2022-09-12T18:48:31.986Z"
   },
   {
    "duration": 112,
    "start_time": "2022-09-12T18:48:31.997Z"
   },
   {
    "duration": 147,
    "start_time": "2022-09-12T18:48:32.110Z"
   },
   {
    "duration": 54,
    "start_time": "2022-09-12T18:48:32.259Z"
   },
   {
    "duration": 23,
    "start_time": "2022-09-12T18:48:32.315Z"
   },
   {
    "duration": 20,
    "start_time": "2022-09-12T18:48:32.340Z"
   },
   {
    "duration": 6,
    "start_time": "2022-09-12T18:48:32.362Z"
   },
   {
    "duration": 39,
    "start_time": "2022-09-12T18:48:32.370Z"
   },
   {
    "duration": 116,
    "start_time": "2022-09-12T18:48:32.411Z"
   },
   {
    "duration": 0,
    "start_time": "2022-09-12T18:48:32.530Z"
   },
   {
    "duration": 1,
    "start_time": "2022-09-12T18:48:32.531Z"
   },
   {
    "duration": 0,
    "start_time": "2022-09-12T18:48:32.532Z"
   },
   {
    "duration": 0,
    "start_time": "2022-09-12T18:48:32.534Z"
   },
   {
    "duration": 0,
    "start_time": "2022-09-12T18:48:32.535Z"
   },
   {
    "duration": 0,
    "start_time": "2022-09-12T18:48:32.537Z"
   },
   {
    "duration": 0,
    "start_time": "2022-09-12T18:48:32.538Z"
   },
   {
    "duration": 0,
    "start_time": "2022-09-12T18:48:32.539Z"
   },
   {
    "duration": 0,
    "start_time": "2022-09-12T18:48:32.541Z"
   },
   {
    "duration": 0,
    "start_time": "2022-09-12T18:48:32.542Z"
   },
   {
    "duration": 0,
    "start_time": "2022-09-12T18:48:32.543Z"
   },
   {
    "duration": 0,
    "start_time": "2022-09-12T18:48:32.545Z"
   },
   {
    "duration": 0,
    "start_time": "2022-09-12T18:48:32.546Z"
   },
   {
    "duration": 0,
    "start_time": "2022-09-12T18:48:32.546Z"
   },
   {
    "duration": 0,
    "start_time": "2022-09-12T18:48:32.547Z"
   },
   {
    "duration": 0,
    "start_time": "2022-09-12T18:48:32.548Z"
   },
   {
    "duration": 0,
    "start_time": "2022-09-12T18:48:32.549Z"
   },
   {
    "duration": 0,
    "start_time": "2022-09-12T18:48:32.550Z"
   },
   {
    "duration": 0,
    "start_time": "2022-09-12T18:48:32.550Z"
   },
   {
    "duration": 0,
    "start_time": "2022-09-12T18:48:32.551Z"
   },
   {
    "duration": 0,
    "start_time": "2022-09-12T18:48:32.552Z"
   },
   {
    "duration": 0,
    "start_time": "2022-09-12T18:48:32.553Z"
   },
   {
    "duration": 0,
    "start_time": "2022-09-12T18:48:32.554Z"
   },
   {
    "duration": 0,
    "start_time": "2022-09-12T18:48:32.554Z"
   },
   {
    "duration": 0,
    "start_time": "2022-09-12T18:48:32.555Z"
   },
   {
    "duration": 0,
    "start_time": "2022-09-12T18:48:32.557Z"
   },
   {
    "duration": 0,
    "start_time": "2022-09-12T18:48:32.558Z"
   },
   {
    "duration": 1,
    "start_time": "2022-09-12T18:48:32.559Z"
   },
   {
    "duration": 0,
    "start_time": "2022-09-12T18:48:32.561Z"
   },
   {
    "duration": 0,
    "start_time": "2022-09-12T18:48:32.562Z"
   },
   {
    "duration": 0,
    "start_time": "2022-09-12T18:48:32.563Z"
   },
   {
    "duration": 0,
    "start_time": "2022-09-12T18:48:32.564Z"
   },
   {
    "duration": 0,
    "start_time": "2022-09-12T18:48:32.564Z"
   },
   {
    "duration": 0,
    "start_time": "2022-09-12T18:48:32.564Z"
   },
   {
    "duration": 0,
    "start_time": "2022-09-12T18:48:32.565Z"
   },
   {
    "duration": 0,
    "start_time": "2022-09-12T18:48:32.565Z"
   },
   {
    "duration": 0,
    "start_time": "2022-09-12T18:48:32.566Z"
   },
   {
    "duration": 0,
    "start_time": "2022-09-12T18:48:32.566Z"
   },
   {
    "duration": 0,
    "start_time": "2022-09-12T18:48:32.566Z"
   },
   {
    "duration": 0,
    "start_time": "2022-09-12T18:48:32.567Z"
   },
   {
    "duration": 0,
    "start_time": "2022-09-12T18:48:32.567Z"
   },
   {
    "duration": 0,
    "start_time": "2022-09-12T18:48:32.621Z"
   },
   {
    "duration": 0,
    "start_time": "2022-09-12T18:48:32.623Z"
   },
   {
    "duration": 0,
    "start_time": "2022-09-12T18:48:32.624Z"
   },
   {
    "duration": 11,
    "start_time": "2022-09-12T18:49:22.017Z"
   },
   {
    "duration": 6,
    "start_time": "2022-09-12T18:49:25.044Z"
   },
   {
    "duration": 167,
    "start_time": "2022-09-12T18:49:26.011Z"
   },
   {
    "duration": 7,
    "start_time": "2022-09-12T18:49:26.604Z"
   },
   {
    "duration": 230,
    "start_time": "2022-09-12T18:49:28.614Z"
   },
   {
    "duration": 3,
    "start_time": "2022-09-12T18:49:29.310Z"
   },
   {
    "duration": 13,
    "start_time": "2022-09-12T18:49:30.030Z"
   },
   {
    "duration": 4,
    "start_time": "2022-09-12T18:49:30.604Z"
   },
   {
    "duration": 70,
    "start_time": "2022-09-12T18:49:31.381Z"
   },
   {
    "duration": 22,
    "start_time": "2022-09-12T18:49:38.093Z"
   },
   {
    "duration": 23,
    "start_time": "2022-09-12T18:49:39.388Z"
   },
   {
    "duration": 14,
    "start_time": "2022-09-12T18:49:43.442Z"
   },
   {
    "duration": 8,
    "start_time": "2022-09-12T18:49:47.231Z"
   },
   {
    "duration": 4,
    "start_time": "2022-09-12T18:49:47.971Z"
   },
   {
    "duration": 10,
    "start_time": "2022-09-12T18:49:50.303Z"
   },
   {
    "duration": 14,
    "start_time": "2022-09-12T18:49:51.316Z"
   },
   {
    "duration": 74,
    "start_time": "2022-09-12T18:49:52.848Z"
   },
   {
    "duration": 2668,
    "start_time": "2022-09-12T18:49:53.552Z"
   },
   {
    "duration": 9,
    "start_time": "2022-09-12T18:49:56.222Z"
   },
   {
    "duration": 34,
    "start_time": "2022-09-12T18:49:56.233Z"
   },
   {
    "duration": 6,
    "start_time": "2022-09-12T18:49:56.269Z"
   },
   {
    "duration": 10,
    "start_time": "2022-09-12T18:49:56.277Z"
   },
   {
    "duration": 110,
    "start_time": "2022-09-12T18:49:56.309Z"
   },
   {
    "duration": 143,
    "start_time": "2022-09-12T18:49:56.555Z"
   },
   {
    "duration": 9,
    "start_time": "2022-09-12T18:49:56.718Z"
   },
   {
    "duration": 317,
    "start_time": "2022-09-12T18:50:39.750Z"
   },
   {
    "duration": 103,
    "start_time": "2022-09-12T18:51:43.508Z"
   },
   {
    "duration": 89,
    "start_time": "2022-09-12T18:51:50.939Z"
   },
   {
    "duration": 90,
    "start_time": "2022-09-12T18:51:54.726Z"
   },
   {
    "duration": 196,
    "start_time": "2022-09-12T18:52:00.508Z"
   },
   {
    "duration": 823,
    "start_time": "2022-09-12T18:52:11.283Z"
   },
   {
    "duration": 83,
    "start_time": "2022-09-12T18:52:19.394Z"
   },
   {
    "duration": 322,
    "start_time": "2022-09-12T18:52:28.602Z"
   },
   {
    "duration": 7,
    "start_time": "2022-09-12T18:52:29.341Z"
   },
   {
    "duration": 1220,
    "start_time": "2022-09-12T18:52:35.094Z"
   },
   {
    "duration": 24,
    "start_time": "2022-09-12T18:52:55.154Z"
   },
   {
    "duration": 8,
    "start_time": "2022-09-12T18:52:57.736Z"
   },
   {
    "duration": 13,
    "start_time": "2022-09-12T18:53:15.810Z"
   },
   {
    "duration": 14,
    "start_time": "2022-09-12T18:53:19.755Z"
   },
   {
    "duration": 9,
    "start_time": "2022-09-12T18:53:20.784Z"
   },
   {
    "duration": 10,
    "start_time": "2022-09-12T18:53:23.544Z"
   },
   {
    "duration": 12,
    "start_time": "2022-09-12T18:53:23.819Z"
   },
   {
    "duration": 158,
    "start_time": "2022-09-12T18:53:24.662Z"
   },
   {
    "duration": 7,
    "start_time": "2022-09-12T18:53:24.988Z"
   },
   {
    "duration": 6,
    "start_time": "2022-09-12T18:53:25.084Z"
   },
   {
    "duration": 13,
    "start_time": "2022-09-12T18:53:25.303Z"
   },
   {
    "duration": 230,
    "start_time": "2022-09-12T18:53:25.697Z"
   },
   {
    "duration": 277,
    "start_time": "2022-09-12T18:53:26.106Z"
   },
   {
    "duration": 6,
    "start_time": "2022-09-12T18:53:36.934Z"
   },
   {
    "duration": 7,
    "start_time": "2022-09-12T18:53:40.834Z"
   },
   {
    "duration": 14,
    "start_time": "2022-09-12T18:53:40.928Z"
   },
   {
    "duration": 377,
    "start_time": "2022-09-12T18:53:41.476Z"
   },
   {
    "duration": 245,
    "start_time": "2022-09-12T18:53:43.131Z"
   },
   {
    "duration": 265,
    "start_time": "2022-09-12T18:53:43.441Z"
   },
   {
    "duration": 314,
    "start_time": "2022-09-12T18:53:43.708Z"
   },
   {
    "duration": 168,
    "start_time": "2022-09-12T18:53:44.024Z"
   },
   {
    "duration": 114,
    "start_time": "2022-09-12T18:53:44.195Z"
   },
   {
    "duration": 164,
    "start_time": "2022-09-12T18:53:44.430Z"
   },
   {
    "duration": 265,
    "start_time": "2022-09-12T18:53:44.596Z"
   },
   {
    "duration": 169,
    "start_time": "2022-09-12T18:53:44.863Z"
   },
   {
    "duration": 152,
    "start_time": "2022-09-12T18:53:45.135Z"
   },
   {
    "duration": 162,
    "start_time": "2022-09-12T18:53:45.288Z"
   },
   {
    "duration": 161,
    "start_time": "2022-09-12T18:53:45.455Z"
   },
   {
    "duration": 156,
    "start_time": "2022-09-12T18:53:45.956Z"
   },
   {
    "duration": 157,
    "start_time": "2022-09-12T18:53:46.194Z"
   },
   {
    "duration": 406,
    "start_time": "2022-09-12T18:53:49.862Z"
   },
   {
    "duration": 548,
    "start_time": "2022-09-12T18:53:54.792Z"
   },
   {
    "duration": 321,
    "start_time": "2022-09-12T18:53:57.738Z"
   },
   {
    "duration": 14,
    "start_time": "2022-09-12T18:54:01.000Z"
   },
   {
    "duration": 12,
    "start_time": "2022-09-12T18:54:01.723Z"
   },
   {
    "duration": 12,
    "start_time": "2022-09-12T18:54:03.584Z"
   },
   {
    "duration": 12,
    "start_time": "2022-09-12T18:54:07.010Z"
   },
   {
    "duration": 12,
    "start_time": "2022-09-12T18:54:09.683Z"
   },
   {
    "duration": 37,
    "start_time": "2022-09-12T18:54:10.490Z"
   },
   {
    "duration": 903,
    "start_time": "2022-09-12T18:54:11.290Z"
   },
   {
    "duration": 11,
    "start_time": "2022-09-12T18:54:17.217Z"
   },
   {
    "duration": 11,
    "start_time": "2022-09-12T18:54:26.190Z"
   },
   {
    "duration": 8,
    "start_time": "2022-09-12T18:54:31.239Z"
   },
   {
    "duration": 8,
    "start_time": "2022-09-12T18:54:31.742Z"
   },
   {
    "duration": 6,
    "start_time": "2022-09-12T18:55:13.500Z"
   },
   {
    "duration": 7,
    "start_time": "2022-09-12T18:55:17.850Z"
   },
   {
    "duration": 5,
    "start_time": "2022-09-12T18:55:18.340Z"
   },
   {
    "duration": 13,
    "start_time": "2022-09-12T18:55:37.849Z"
   },
   {
    "duration": 6,
    "start_time": "2022-09-12T18:55:39.773Z"
   },
   {
    "duration": 7,
    "start_time": "2022-09-12T18:55:47.753Z"
   },
   {
    "duration": 840,
    "start_time": "2022-09-12T18:56:59.413Z"
   },
   {
    "duration": 13,
    "start_time": "2022-09-12T18:57:02.370Z"
   },
   {
    "duration": 18,
    "start_time": "2022-09-12T18:58:03.284Z"
   },
   {
    "duration": 18,
    "start_time": "2022-09-12T18:58:11.655Z"
   },
   {
    "duration": 8,
    "start_time": "2022-09-12T18:58:15.762Z"
   },
   {
    "duration": 11,
    "start_time": "2022-09-12T18:58:36.448Z"
   },
   {
    "duration": 15,
    "start_time": "2022-09-12T18:58:37.190Z"
   },
   {
    "duration": 1279,
    "start_time": "2022-09-12T21:24:45.590Z"
   },
   {
    "duration": 2150,
    "start_time": "2022-09-12T21:24:46.871Z"
   },
   {
    "duration": 39,
    "start_time": "2022-09-12T21:24:49.023Z"
   },
   {
    "duration": 115,
    "start_time": "2022-09-12T21:24:49.065Z"
   },
   {
    "duration": 202,
    "start_time": "2022-09-12T21:24:49.181Z"
   },
   {
    "duration": 9,
    "start_time": "2022-09-12T21:24:49.385Z"
   },
   {
    "duration": 22,
    "start_time": "2022-09-12T21:24:49.395Z"
   },
   {
    "duration": 16,
    "start_time": "2022-09-12T21:24:49.421Z"
   },
   {
    "duration": 14,
    "start_time": "2022-09-12T21:24:49.439Z"
   },
   {
    "duration": 8,
    "start_time": "2022-09-12T21:24:49.456Z"
   },
   {
    "duration": 9,
    "start_time": "2022-09-12T21:24:49.465Z"
   },
   {
    "duration": 177,
    "start_time": "2022-09-12T21:24:49.475Z"
   },
   {
    "duration": 6,
    "start_time": "2022-09-12T21:24:49.654Z"
   },
   {
    "duration": 226,
    "start_time": "2022-09-12T21:24:49.662Z"
   },
   {
    "duration": 5,
    "start_time": "2022-09-12T21:24:49.889Z"
   },
   {
    "duration": 28,
    "start_time": "2022-09-12T21:24:49.895Z"
   },
   {
    "duration": 5,
    "start_time": "2022-09-12T21:24:49.924Z"
   },
   {
    "duration": 78,
    "start_time": "2022-09-12T21:24:49.930Z"
   },
   {
    "duration": 64,
    "start_time": "2022-09-12T21:24:50.009Z"
   },
   {
    "duration": 25,
    "start_time": "2022-09-12T21:24:50.075Z"
   },
   {
    "duration": 30,
    "start_time": "2022-09-12T21:24:50.102Z"
   },
   {
    "duration": 8,
    "start_time": "2022-09-12T21:24:50.134Z"
   },
   {
    "duration": 4,
    "start_time": "2022-09-12T21:24:50.144Z"
   },
   {
    "duration": 16,
    "start_time": "2022-09-12T21:24:50.149Z"
   },
   {
    "duration": 13,
    "start_time": "2022-09-12T21:24:50.167Z"
   },
   {
    "duration": 91,
    "start_time": "2022-09-12T21:24:50.182Z"
   },
   {
    "duration": 3038,
    "start_time": "2022-09-12T21:24:50.275Z"
   },
   {
    "duration": 11,
    "start_time": "2022-09-12T21:24:53.319Z"
   },
   {
    "duration": 34,
    "start_time": "2022-09-12T21:24:53.332Z"
   },
   {
    "duration": 4,
    "start_time": "2022-09-12T21:24:53.367Z"
   },
   {
    "duration": 20,
    "start_time": "2022-09-12T21:24:53.373Z"
   },
   {
    "duration": 131,
    "start_time": "2022-09-12T21:24:53.394Z"
   },
   {
    "duration": 417,
    "start_time": "2022-09-12T21:24:53.527Z"
   },
   {
    "duration": 10,
    "start_time": "2022-09-12T21:24:53.946Z"
   },
   {
    "duration": 12,
    "start_time": "2022-09-12T21:24:53.957Z"
   },
   {
    "duration": 139,
    "start_time": "2022-09-12T21:24:53.970Z"
   },
   {
    "duration": 867,
    "start_time": "2022-09-12T21:24:54.111Z"
   },
   {
    "duration": 10,
    "start_time": "2022-09-12T21:24:54.980Z"
   },
   {
    "duration": 12,
    "start_time": "2022-09-12T21:24:54.991Z"
   },
   {
    "duration": 176,
    "start_time": "2022-09-12T21:24:55.005Z"
   },
   {
    "duration": 356,
    "start_time": "2022-09-12T21:24:55.183Z"
   },
   {
    "duration": 8,
    "start_time": "2022-09-12T21:24:55.541Z"
   },
   {
    "duration": 9,
    "start_time": "2022-09-12T21:24:55.550Z"
   },
   {
    "duration": 116,
    "start_time": "2022-09-12T21:24:55.560Z"
   },
   {
    "duration": 1344,
    "start_time": "2022-09-12T21:24:55.678Z"
   },
   {
    "duration": 11,
    "start_time": "2022-09-12T21:24:57.024Z"
   },
   {
    "duration": 8,
    "start_time": "2022-09-12T21:24:57.036Z"
   },
   {
    "duration": 143,
    "start_time": "2022-09-12T21:24:57.046Z"
   },
   {
    "duration": 194,
    "start_time": "2022-09-12T21:24:57.191Z"
   },
   {
    "duration": 40,
    "start_time": "2022-09-12T21:24:57.387Z"
   },
   {
    "duration": 23,
    "start_time": "2022-09-12T21:24:57.429Z"
   },
   {
    "duration": 23,
    "start_time": "2022-09-12T21:24:57.454Z"
   },
   {
    "duration": 14,
    "start_time": "2022-09-12T21:24:57.479Z"
   },
   {
    "duration": 34,
    "start_time": "2022-09-12T21:24:57.494Z"
   },
   {
    "duration": 13,
    "start_time": "2022-09-12T21:24:57.530Z"
   },
   {
    "duration": 12,
    "start_time": "2022-09-12T21:24:57.544Z"
   },
   {
    "duration": 10,
    "start_time": "2022-09-12T21:24:57.558Z"
   },
   {
    "duration": 170,
    "start_time": "2022-09-12T21:24:57.570Z"
   },
   {
    "duration": 8,
    "start_time": "2022-09-12T21:24:57.742Z"
   },
   {
    "duration": 18,
    "start_time": "2022-09-12T21:24:57.751Z"
   },
   {
    "duration": 27,
    "start_time": "2022-09-12T21:24:57.770Z"
   },
   {
    "duration": 302,
    "start_time": "2022-09-12T21:24:57.799Z"
   },
   {
    "duration": 297,
    "start_time": "2022-09-12T21:24:58.103Z"
   },
   {
    "duration": 303,
    "start_time": "2022-09-12T21:24:58.402Z"
   },
   {
    "duration": 322,
    "start_time": "2022-09-12T21:24:58.707Z"
   },
   {
    "duration": 308,
    "start_time": "2022-09-12T21:24:59.031Z"
   },
   {
    "duration": 120,
    "start_time": "2022-09-12T21:24:59.341Z"
   },
   {
    "duration": 217,
    "start_time": "2022-09-12T21:24:59.463Z"
   },
   {
    "duration": 164,
    "start_time": "2022-09-12T21:24:59.682Z"
   },
   {
    "duration": 174,
    "start_time": "2022-09-12T21:24:59.848Z"
   },
   {
    "duration": 173,
    "start_time": "2022-09-12T21:25:00.024Z"
   },
   {
    "duration": 194,
    "start_time": "2022-09-12T21:25:00.200Z"
   },
   {
    "duration": 193,
    "start_time": "2022-09-12T21:25:00.396Z"
   },
   {
    "duration": 168,
    "start_time": "2022-09-12T21:25:00.590Z"
   },
   {
    "duration": 175,
    "start_time": "2022-09-12T21:25:00.759Z"
   },
   {
    "duration": 662,
    "start_time": "2022-09-12T21:25:00.935Z"
   },
   {
    "duration": 486,
    "start_time": "2022-09-12T21:25:01.598Z"
   },
   {
    "duration": 332,
    "start_time": "2022-09-12T21:25:02.086Z"
   },
   {
    "duration": 15,
    "start_time": "2022-09-12T21:25:02.421Z"
   },
   {
    "duration": 114,
    "start_time": "2022-09-12T21:25:02.437Z"
   },
   {
    "duration": 0,
    "start_time": "2022-09-12T21:25:02.554Z"
   },
   {
    "duration": 0,
    "start_time": "2022-09-12T21:25:02.555Z"
   },
   {
    "duration": 0,
    "start_time": "2022-09-12T21:25:02.556Z"
   },
   {
    "duration": 0,
    "start_time": "2022-09-12T21:25:02.557Z"
   },
   {
    "duration": 0,
    "start_time": "2022-09-12T21:25:02.558Z"
   },
   {
    "duration": 0,
    "start_time": "2022-09-12T21:25:02.559Z"
   },
   {
    "duration": 0,
    "start_time": "2022-09-12T21:25:02.560Z"
   },
   {
    "duration": 0,
    "start_time": "2022-09-12T21:25:02.561Z"
   },
   {
    "duration": 0,
    "start_time": "2022-09-12T21:25:02.562Z"
   },
   {
    "duration": 0,
    "start_time": "2022-09-12T21:25:02.563Z"
   },
   {
    "duration": 0,
    "start_time": "2022-09-12T21:25:02.564Z"
   },
   {
    "duration": 0,
    "start_time": "2022-09-12T21:25:02.565Z"
   },
   {
    "duration": 0,
    "start_time": "2022-09-12T21:25:02.566Z"
   },
   {
    "duration": 0,
    "start_time": "2022-09-12T21:25:02.566Z"
   },
   {
    "duration": 0,
    "start_time": "2022-09-12T21:25:02.567Z"
   },
   {
    "duration": 0,
    "start_time": "2022-09-12T21:25:02.568Z"
   },
   {
    "duration": 0,
    "start_time": "2022-09-12T21:25:02.569Z"
   },
   {
    "duration": 0,
    "start_time": "2022-09-12T21:25:02.570Z"
   },
   {
    "duration": 23,
    "start_time": "2022-09-12T21:25:40.009Z"
   },
   {
    "duration": 12,
    "start_time": "2022-09-12T21:25:45.345Z"
   },
   {
    "duration": 9,
    "start_time": "2022-09-12T21:25:45.812Z"
   },
   {
    "duration": 4,
    "start_time": "2022-09-12T21:25:46.319Z"
   },
   {
    "duration": 8,
    "start_time": "2022-09-12T21:25:47.872Z"
   },
   {
    "duration": 10,
    "start_time": "2022-09-12T21:25:48.424Z"
   },
   {
    "duration": 73,
    "start_time": "2022-09-12T21:25:49.093Z"
   },
   {
    "duration": 2887,
    "start_time": "2022-09-12T21:25:49.894Z"
   },
   {
    "duration": 9,
    "start_time": "2022-09-12T21:25:52.783Z"
   },
   {
    "duration": 8,
    "start_time": "2022-09-12T21:25:57.031Z"
   },
   {
    "duration": 24,
    "start_time": "2022-09-12T21:25:57.509Z"
   },
   {
    "duration": 4,
    "start_time": "2022-09-12T21:26:06.625Z"
   },
   {
    "duration": 8,
    "start_time": "2022-09-12T21:26:07.057Z"
   },
   {
    "duration": 105,
    "start_time": "2022-09-12T21:26:07.620Z"
   },
   {
    "duration": 317,
    "start_time": "2022-09-12T21:26:15.053Z"
   },
   {
    "duration": 10,
    "start_time": "2022-09-12T21:26:17.393Z"
   },
   {
    "duration": 8,
    "start_time": "2022-09-12T21:26:17.873Z"
   },
   {
    "duration": 102,
    "start_time": "2022-09-12T21:26:18.169Z"
   },
   {
    "duration": 1002,
    "start_time": "2022-09-12T21:26:18.601Z"
   },
   {
    "duration": 18,
    "start_time": "2022-09-12T21:26:19.605Z"
   },
   {
    "duration": 7,
    "start_time": "2022-09-12T21:26:19.625Z"
   },
   {
    "duration": 100,
    "start_time": "2022-09-12T21:26:19.647Z"
   },
   {
    "duration": 306,
    "start_time": "2022-09-12T21:26:19.853Z"
   },
   {
    "duration": 7,
    "start_time": "2022-09-12T21:26:20.161Z"
   },
   {
    "duration": 9,
    "start_time": "2022-09-12T21:26:20.254Z"
   },
   {
    "duration": 92,
    "start_time": "2022-09-12T21:26:20.459Z"
   },
   {
    "duration": 1249,
    "start_time": "2022-09-12T21:26:20.730Z"
   },
   {
    "duration": 9,
    "start_time": "2022-09-12T21:26:21.980Z"
   },
   {
    "duration": 11,
    "start_time": "2022-09-12T21:26:21.992Z"
   },
   {
    "duration": 130,
    "start_time": "2022-09-12T21:26:22.005Z"
   },
   {
    "duration": 160,
    "start_time": "2022-09-12T21:26:22.137Z"
   },
   {
    "duration": 40,
    "start_time": "2022-09-12T21:26:22.298Z"
   },
   {
    "duration": 29,
    "start_time": "2022-09-12T21:26:22.340Z"
   },
   {
    "duration": 25,
    "start_time": "2022-09-12T21:26:29.881Z"
   },
   {
    "duration": 12,
    "start_time": "2022-09-12T21:26:30.391Z"
   },
   {
    "duration": 7,
    "start_time": "2022-09-12T21:26:31.907Z"
   },
   {
    "duration": 25,
    "start_time": "2022-09-12T21:26:35.842Z"
   },
   {
    "duration": 12,
    "start_time": "2022-09-12T21:26:39.500Z"
   },
   {
    "duration": 6,
    "start_time": "2022-09-12T21:26:40.466Z"
   },
   {
    "duration": 9,
    "start_time": "2022-09-12T21:26:45.525Z"
   },
   {
    "duration": 11,
    "start_time": "2022-09-12T21:26:46.310Z"
   },
   {
    "duration": 9,
    "start_time": "2022-09-12T21:26:46.553Z"
   },
   {
    "duration": 153,
    "start_time": "2022-09-12T21:26:46.952Z"
   },
   {
    "duration": 8,
    "start_time": "2022-09-12T21:26:47.797Z"
   },
   {
    "duration": 6,
    "start_time": "2022-09-12T21:26:48.542Z"
   },
   {
    "duration": 13,
    "start_time": "2022-09-12T21:26:49.586Z"
   },
   {
    "duration": 245,
    "start_time": "2022-09-12T21:26:51.492Z"
   },
   {
    "duration": 295,
    "start_time": "2022-09-12T21:26:52.831Z"
   },
   {
    "duration": 394,
    "start_time": "2022-09-12T21:26:53.322Z"
   },
   {
    "duration": 287,
    "start_time": "2022-09-12T21:26:53.721Z"
   },
   {
    "duration": 164,
    "start_time": "2022-09-12T21:26:54.889Z"
   },
   {
    "duration": 106,
    "start_time": "2022-09-12T21:26:55.370Z"
   },
   {
    "duration": 190,
    "start_time": "2022-09-12T21:26:55.842Z"
   },
   {
    "duration": 157,
    "start_time": "2022-09-12T21:26:56.270Z"
   },
   {
    "duration": 166,
    "start_time": "2022-09-12T21:26:56.801Z"
   },
   {
    "duration": 156,
    "start_time": "2022-09-12T21:26:57.644Z"
   },
   {
    "duration": 171,
    "start_time": "2022-09-12T21:26:58.084Z"
   },
   {
    "duration": 298,
    "start_time": "2022-09-12T21:26:58.486Z"
   },
   {
    "duration": 166,
    "start_time": "2022-09-12T21:26:59.500Z"
   },
   {
    "duration": 164,
    "start_time": "2022-09-12T21:26:59.940Z"
   },
   {
    "duration": 450,
    "start_time": "2022-09-12T21:27:03.272Z"
   },
   {
    "duration": 483,
    "start_time": "2022-09-12T21:27:04.766Z"
   },
   {
    "duration": 328,
    "start_time": "2022-09-12T21:27:05.834Z"
   },
   {
    "duration": 20,
    "start_time": "2022-09-12T21:27:08.040Z"
   },
   {
    "duration": 17,
    "start_time": "2022-09-12T21:27:08.639Z"
   },
   {
    "duration": 17,
    "start_time": "2022-09-12T21:27:16.199Z"
   },
   {
    "duration": 18,
    "start_time": "2022-09-12T21:27:17.480Z"
   },
   {
    "duration": 17,
    "start_time": "2022-09-12T21:27:17.901Z"
   },
   {
    "duration": 13,
    "start_time": "2022-09-12T21:27:18.220Z"
   },
   {
    "duration": 29,
    "start_time": "2022-09-12T21:27:18.571Z"
   },
   {
    "duration": 1107,
    "start_time": "2022-09-12T21:27:18.910Z"
   },
   {
    "duration": 0,
    "start_time": "2022-09-12T21:27:20.019Z"
   },
   {
    "duration": 12,
    "start_time": "2022-09-12T21:27:20.468Z"
   },
   {
    "duration": 13,
    "start_time": "2022-09-12T21:27:20.894Z"
   },
   {
    "duration": 12,
    "start_time": "2022-09-12T21:27:21.098Z"
   },
   {
    "duration": 10,
    "start_time": "2022-09-12T21:27:21.653Z"
   },
   {
    "duration": 13,
    "start_time": "2022-09-12T21:27:21.858Z"
   },
   {
    "duration": 12,
    "start_time": "2022-09-12T21:27:23.613Z"
   },
   {
    "duration": 11,
    "start_time": "2022-09-12T21:27:24.233Z"
   },
   {
    "duration": 8,
    "start_time": "2022-09-12T21:27:24.763Z"
   },
   {
    "duration": 18,
    "start_time": "2022-09-12T21:27:26.591Z"
   },
   {
    "duration": 8,
    "start_time": "2022-09-12T21:28:10.825Z"
   },
   {
    "duration": 7,
    "start_time": "2022-09-12T21:28:14.320Z"
   },
   {
    "duration": 23,
    "start_time": "2022-09-12T21:29:06.385Z"
   },
   {
    "duration": 108,
    "start_time": "2022-09-12T21:29:19.884Z"
   },
   {
    "duration": 7,
    "start_time": "2022-09-12T21:29:20.782Z"
   },
   {
    "duration": 6,
    "start_time": "2022-09-12T21:29:22.058Z"
   },
   {
    "duration": 18,
    "start_time": "2022-09-12T21:29:25.080Z"
   },
   {
    "duration": 11,
    "start_time": "2022-09-12T21:29:34.950Z"
   },
   {
    "duration": 15,
    "start_time": "2022-09-12T21:29:45.396Z"
   },
   {
    "duration": 11,
    "start_time": "2022-09-12T21:29:47.193Z"
   },
   {
    "duration": 14,
    "start_time": "2022-09-12T21:29:47.600Z"
   },
   {
    "duration": 11,
    "start_time": "2022-09-12T21:29:49.573Z"
   },
   {
    "duration": 14,
    "start_time": "2022-09-12T21:29:49.624Z"
   },
   {
    "duration": 21,
    "start_time": "2022-09-12T21:29:52.335Z"
   },
   {
    "duration": 7,
    "start_time": "2022-09-12T21:29:52.911Z"
   },
   {
    "duration": 14,
    "start_time": "2022-09-12T21:30:10.529Z"
   },
   {
    "duration": 901,
    "start_time": "2022-09-12T21:30:55.342Z"
   },
   {
    "duration": 818,
    "start_time": "2022-09-12T21:31:01.554Z"
   },
   {
    "duration": 796,
    "start_time": "2022-09-12T21:31:08.283Z"
   },
   {
    "duration": 133,
    "start_time": "2022-09-12T21:31:32.367Z"
   },
   {
    "duration": 134,
    "start_time": "2022-09-12T21:31:36.101Z"
   },
   {
    "duration": 157,
    "start_time": "2022-09-12T21:31:42.085Z"
   },
   {
    "duration": 130,
    "start_time": "2022-09-12T21:31:48.033Z"
   },
   {
    "duration": 149,
    "start_time": "2022-09-12T21:31:50.291Z"
   },
   {
    "duration": 27,
    "start_time": "2022-09-12T21:31:53.031Z"
   },
   {
    "duration": 29,
    "start_time": "2022-09-12T21:32:01.060Z"
   },
   {
    "duration": 26,
    "start_time": "2022-09-12T21:32:08.293Z"
   },
   {
    "duration": 28,
    "start_time": "2022-09-12T21:32:11.484Z"
   },
   {
    "duration": 28,
    "start_time": "2022-09-12T21:32:19.493Z"
   },
   {
    "duration": 26,
    "start_time": "2022-09-12T21:32:24.056Z"
   },
   {
    "duration": 29,
    "start_time": "2022-09-12T21:32:28.448Z"
   },
   {
    "duration": 908,
    "start_time": "2022-09-12T21:32:31.037Z"
   },
   {
    "duration": 843,
    "start_time": "2022-09-12T21:32:38.288Z"
   },
   {
    "duration": 843,
    "start_time": "2022-09-12T21:32:54.191Z"
   },
   {
    "duration": 28,
    "start_time": "2022-09-12T21:33:12.799Z"
   },
   {
    "duration": 788,
    "start_time": "2022-09-12T21:33:14.106Z"
   },
   {
    "duration": 8,
    "start_time": "2022-09-12T21:34:02.581Z"
   },
   {
    "duration": 7,
    "start_time": "2022-09-12T21:34:32.883Z"
   },
   {
    "duration": 11,
    "start_time": "2022-09-12T21:34:50.223Z"
   },
   {
    "duration": 11,
    "start_time": "2022-09-12T21:34:50.416Z"
   },
   {
    "duration": 11,
    "start_time": "2022-09-12T21:34:50.644Z"
   },
   {
    "duration": 197,
    "start_time": "2022-09-12T21:34:50.874Z"
   },
   {
    "duration": 10,
    "start_time": "2022-09-12T21:34:51.908Z"
   },
   {
    "duration": 7,
    "start_time": "2022-09-12T21:34:52.412Z"
   },
   {
    "duration": 15,
    "start_time": "2022-09-12T21:34:53.113Z"
   },
   {
    "duration": 244,
    "start_time": "2022-09-12T21:34:54.436Z"
   },
   {
    "duration": 348,
    "start_time": "2022-09-12T21:34:56.074Z"
   },
   {
    "duration": 267,
    "start_time": "2022-09-12T21:34:56.510Z"
   },
   {
    "duration": 263,
    "start_time": "2022-09-12T21:34:57.550Z"
   },
   {
    "duration": 163,
    "start_time": "2022-09-12T21:34:59.200Z"
   },
   {
    "duration": 114,
    "start_time": "2022-09-12T21:34:59.922Z"
   },
   {
    "duration": 165,
    "start_time": "2022-09-12T21:35:00.594Z"
   },
   {
    "duration": 158,
    "start_time": "2022-09-12T21:35:00.836Z"
   },
   {
    "duration": 167,
    "start_time": "2022-09-12T21:35:01.043Z"
   },
   {
    "duration": 284,
    "start_time": "2022-09-12T21:35:02.043Z"
   },
   {
    "duration": 177,
    "start_time": "2022-09-12T21:35:02.416Z"
   },
   {
    "duration": 171,
    "start_time": "2022-09-12T21:35:02.860Z"
   },
   {
    "duration": 167,
    "start_time": "2022-09-12T21:35:03.574Z"
   },
   {
    "duration": 158,
    "start_time": "2022-09-12T21:35:06.162Z"
   },
   {
    "duration": 459,
    "start_time": "2022-09-12T21:35:11.018Z"
   },
   {
    "duration": 453,
    "start_time": "2022-09-12T21:35:12.389Z"
   },
   {
    "duration": 407,
    "start_time": "2022-09-12T21:35:14.130Z"
   },
   {
    "duration": 16,
    "start_time": "2022-09-12T21:35:17.754Z"
   },
   {
    "duration": 15,
    "start_time": "2022-09-12T21:35:18.356Z"
   },
   {
    "duration": 11,
    "start_time": "2022-09-12T21:35:35.841Z"
   },
   {
    "duration": 12,
    "start_time": "2022-09-12T21:35:45.243Z"
   },
   {
    "duration": 12,
    "start_time": "2022-09-12T21:36:30.242Z"
   },
   {
    "duration": 12,
    "start_time": "2022-09-12T21:36:30.914Z"
   },
   {
    "duration": 11,
    "start_time": "2022-09-12T21:36:55.917Z"
   },
   {
    "duration": 16,
    "start_time": "2022-09-12T21:36:58.109Z"
   },
   {
    "duration": 11,
    "start_time": "2022-09-12T21:36:59.259Z"
   },
   {
    "duration": 13,
    "start_time": "2022-09-12T21:38:08.750Z"
   },
   {
    "duration": 14,
    "start_time": "2022-09-12T21:38:16.208Z"
   },
   {
    "duration": 12,
    "start_time": "2022-09-12T21:39:07.869Z"
   },
   {
    "duration": 15,
    "start_time": "2022-09-12T21:46:31.325Z"
   },
   {
    "duration": 12,
    "start_time": "2022-09-12T21:46:51.888Z"
   },
   {
    "duration": 12,
    "start_time": "2022-09-12T21:47:24.684Z"
   },
   {
    "duration": 12,
    "start_time": "2022-09-12T21:47:30.897Z"
   },
   {
    "duration": 837,
    "start_time": "2022-09-12T21:47:40.475Z"
   },
   {
    "duration": 0,
    "start_time": "2022-09-12T21:47:41.314Z"
   },
   {
    "duration": 976,
    "start_time": "2022-09-12T21:47:43.978Z"
   },
   {
    "duration": 13,
    "start_time": "2022-09-12T21:47:47.693Z"
   },
   {
    "duration": 29,
    "start_time": "2022-09-12T21:48:21.201Z"
   },
   {
    "duration": 22,
    "start_time": "2022-09-12T21:48:24.528Z"
   },
   {
    "duration": 21,
    "start_time": "2022-09-12T21:48:31.392Z"
   },
   {
    "duration": 13,
    "start_time": "2022-09-12T21:48:34.034Z"
   },
   {
    "duration": 13,
    "start_time": "2022-09-12T21:48:37.560Z"
   },
   {
    "duration": 8,
    "start_time": "2022-09-12T21:48:44.746Z"
   },
   {
    "duration": 12,
    "start_time": "2022-09-12T21:48:49.046Z"
   },
   {
    "duration": 7,
    "start_time": "2022-09-12T21:49:21.673Z"
   },
   {
    "duration": 8,
    "start_time": "2022-09-12T21:49:25.072Z"
   },
   {
    "duration": 10,
    "start_time": "2022-09-12T21:49:31.401Z"
   },
   {
    "duration": 10,
    "start_time": "2022-09-12T21:49:36.302Z"
   },
   {
    "duration": 10,
    "start_time": "2022-09-12T21:49:42.428Z"
   },
   {
    "duration": 201,
    "start_time": "2022-09-12T21:49:47.283Z"
   },
   {
    "duration": 8,
    "start_time": "2022-09-12T21:50:00.310Z"
   },
   {
    "duration": 6,
    "start_time": "2022-09-12T21:50:05.974Z"
   },
   {
    "duration": 13,
    "start_time": "2022-09-12T21:50:08.460Z"
   },
   {
    "duration": 13,
    "start_time": "2022-09-12T21:50:10.493Z"
   },
   {
    "duration": 305,
    "start_time": "2022-09-12T21:50:18.911Z"
   },
   {
    "duration": 263,
    "start_time": "2022-09-12T21:50:23.511Z"
   },
   {
    "duration": 239,
    "start_time": "2022-09-12T21:50:27.093Z"
   },
   {
    "duration": 252,
    "start_time": "2022-09-12T21:50:30.397Z"
   },
   {
    "duration": 154,
    "start_time": "2022-09-12T21:50:36.203Z"
   },
   {
    "duration": 97,
    "start_time": "2022-09-12T21:50:40.007Z"
   },
   {
    "duration": 258,
    "start_time": "2022-09-12T21:50:43.611Z"
   },
   {
    "duration": 151,
    "start_time": "2022-09-12T21:50:51.277Z"
   },
   {
    "duration": 151,
    "start_time": "2022-09-12T21:50:59.773Z"
   },
   {
    "duration": 158,
    "start_time": "2022-09-12T21:51:04.136Z"
   },
   {
    "duration": 150,
    "start_time": "2022-09-12T21:51:10.342Z"
   },
   {
    "duration": 154,
    "start_time": "2022-09-12T21:51:15.470Z"
   },
   {
    "duration": 189,
    "start_time": "2022-09-12T21:51:18.764Z"
   },
   {
    "duration": 156,
    "start_time": "2022-09-12T21:51:22.610Z"
   },
   {
    "duration": 160,
    "start_time": "2022-09-12T21:51:26.000Z"
   },
   {
    "duration": 541,
    "start_time": "2022-09-12T21:51:36.491Z"
   },
   {
    "duration": 441,
    "start_time": "2022-09-12T21:51:49.922Z"
   },
   {
    "duration": 17,
    "start_time": "2022-09-12T21:52:02.989Z"
   },
   {
    "duration": 10,
    "start_time": "2022-09-12T21:52:15.611Z"
   },
   {
    "duration": 10,
    "start_time": "2022-09-12T21:52:20.201Z"
   },
   {
    "duration": 9,
    "start_time": "2022-09-12T21:52:22.182Z"
   },
   {
    "duration": 452,
    "start_time": "2022-09-12T21:52:30.114Z"
   },
   {
    "duration": 491,
    "start_time": "2022-09-12T21:52:35.482Z"
   },
   {
    "duration": 304,
    "start_time": "2022-09-12T21:52:48.290Z"
   },
   {
    "duration": 14,
    "start_time": "2022-09-12T21:52:53.288Z"
   },
   {
    "duration": 12,
    "start_time": "2022-09-12T21:52:59.595Z"
   },
   {
    "duration": 15,
    "start_time": "2022-09-12T21:54:07.532Z"
   },
   {
    "duration": 1007,
    "start_time": "2022-09-12T21:54:12.658Z"
   },
   {
    "duration": 837,
    "start_time": "2022-09-12T21:54:30.095Z"
   },
   {
    "duration": 11,
    "start_time": "2022-09-12T21:54:34.829Z"
   },
   {
    "duration": 16,
    "start_time": "2022-09-12T21:54:54.006Z"
   },
   {
    "duration": 13,
    "start_time": "2022-09-12T21:55:04.923Z"
   },
   {
    "duration": 11,
    "start_time": "2022-09-12T21:55:06.592Z"
   },
   {
    "duration": 11,
    "start_time": "2022-09-12T21:55:23.366Z"
   },
   {
    "duration": 13,
    "start_time": "2022-09-12T21:55:24.968Z"
   },
   {
    "duration": 123,
    "start_time": "2022-09-12T21:55:25.696Z"
   },
   {
    "duration": 14,
    "start_time": "2022-09-12T21:55:42.498Z"
   },
   {
    "duration": 12,
    "start_time": "2022-09-12T21:55:58.065Z"
   },
   {
    "duration": 12,
    "start_time": "2022-09-12T21:56:21.844Z"
   },
   {
    "duration": 730,
    "start_time": "2022-09-12T21:56:38.237Z"
   },
   {
    "duration": 0,
    "start_time": "2022-09-12T21:56:38.969Z"
   },
   {
    "duration": 12,
    "start_time": "2022-09-12T21:56:46.012Z"
   },
   {
    "duration": 1091,
    "start_time": "2022-09-12T21:57:07.841Z"
   },
   {
    "duration": 1845,
    "start_time": "2022-09-12T21:57:08.935Z"
   },
   {
    "duration": 30,
    "start_time": "2022-09-12T21:57:10.782Z"
   },
   {
    "duration": 80,
    "start_time": "2022-09-12T21:57:10.813Z"
   },
   {
    "duration": 198,
    "start_time": "2022-09-12T21:57:10.895Z"
   },
   {
    "duration": 9,
    "start_time": "2022-09-12T21:57:11.095Z"
   },
   {
    "duration": 20,
    "start_time": "2022-09-12T21:57:11.105Z"
   },
   {
    "duration": 16,
    "start_time": "2022-09-12T21:57:11.126Z"
   },
   {
    "duration": 7,
    "start_time": "2022-09-12T21:57:11.144Z"
   },
   {
    "duration": 9,
    "start_time": "2022-09-12T21:57:11.152Z"
   },
   {
    "duration": 10,
    "start_time": "2022-09-12T21:57:11.162Z"
   },
   {
    "duration": 190,
    "start_time": "2022-09-12T21:57:11.174Z"
   },
   {
    "duration": 6,
    "start_time": "2022-09-12T21:57:11.365Z"
   },
   {
    "duration": 215,
    "start_time": "2022-09-12T21:57:11.374Z"
   },
   {
    "duration": 4,
    "start_time": "2022-09-12T21:57:11.591Z"
   },
   {
    "duration": 26,
    "start_time": "2022-09-12T21:57:11.597Z"
   },
   {
    "duration": 5,
    "start_time": "2022-09-12T21:57:11.625Z"
   },
   {
    "duration": 80,
    "start_time": "2022-09-12T21:57:11.632Z"
   },
   {
    "duration": 55,
    "start_time": "2022-09-12T21:57:11.713Z"
   },
   {
    "duration": 23,
    "start_time": "2022-09-12T21:57:11.770Z"
   },
   {
    "duration": 35,
    "start_time": "2022-09-12T21:57:11.795Z"
   },
   {
    "duration": 8,
    "start_time": "2022-09-12T21:57:11.831Z"
   },
   {
    "duration": 4,
    "start_time": "2022-09-12T21:57:11.840Z"
   },
   {
    "duration": 10,
    "start_time": "2022-09-12T21:57:11.845Z"
   },
   {
    "duration": 9,
    "start_time": "2022-09-12T21:57:11.856Z"
   },
   {
    "duration": 90,
    "start_time": "2022-09-12T21:57:11.867Z"
   },
   {
    "duration": 2895,
    "start_time": "2022-09-12T21:57:11.958Z"
   },
   {
    "duration": 8,
    "start_time": "2022-09-12T21:57:14.855Z"
   },
   {
    "duration": 28,
    "start_time": "2022-09-12T21:57:14.865Z"
   },
   {
    "duration": 3,
    "start_time": "2022-09-12T21:57:14.895Z"
   },
   {
    "duration": 24,
    "start_time": "2022-09-12T21:57:14.900Z"
   },
   {
    "duration": 103,
    "start_time": "2022-09-12T21:57:14.925Z"
   },
   {
    "duration": 315,
    "start_time": "2022-09-12T21:57:15.029Z"
   },
   {
    "duration": 9,
    "start_time": "2022-09-12T21:57:15.346Z"
   },
   {
    "duration": 7,
    "start_time": "2022-09-12T21:57:15.357Z"
   },
   {
    "duration": 107,
    "start_time": "2022-09-12T21:57:15.365Z"
   },
   {
    "duration": 840,
    "start_time": "2022-09-12T21:57:15.474Z"
   },
   {
    "duration": 14,
    "start_time": "2022-09-12T21:57:16.315Z"
   },
   {
    "duration": 14,
    "start_time": "2022-09-12T21:57:16.330Z"
   },
   {
    "duration": 171,
    "start_time": "2022-09-12T21:57:16.346Z"
   },
   {
    "duration": 316,
    "start_time": "2022-09-12T21:57:16.524Z"
   },
   {
    "duration": 8,
    "start_time": "2022-09-12T21:57:16.841Z"
   },
   {
    "duration": 17,
    "start_time": "2022-09-12T21:57:16.850Z"
   },
   {
    "duration": 91,
    "start_time": "2022-09-12T21:57:16.868Z"
   },
   {
    "duration": 1260,
    "start_time": "2022-09-12T21:57:16.961Z"
   },
   {
    "duration": 8,
    "start_time": "2022-09-12T21:57:18.223Z"
   },
   {
    "duration": 16,
    "start_time": "2022-09-12T21:57:18.233Z"
   },
   {
    "duration": 111,
    "start_time": "2022-09-12T21:57:18.250Z"
   },
   {
    "duration": 153,
    "start_time": "2022-09-12T21:57:18.362Z"
   },
   {
    "duration": 33,
    "start_time": "2022-09-12T21:57:18.517Z"
   },
   {
    "duration": 22,
    "start_time": "2022-09-12T21:57:18.552Z"
   },
   {
    "duration": 19,
    "start_time": "2022-09-12T21:57:18.576Z"
   },
   {
    "duration": 35,
    "start_time": "2022-09-12T21:57:18.596Z"
   },
   {
    "duration": 8,
    "start_time": "2022-09-12T21:57:18.632Z"
   },
   {
    "duration": 12,
    "start_time": "2022-09-12T21:57:18.642Z"
   },
   {
    "duration": 8,
    "start_time": "2022-09-12T21:57:18.656Z"
   },
   {
    "duration": 9,
    "start_time": "2022-09-12T21:57:18.665Z"
   },
   {
    "duration": 118,
    "start_time": "2022-09-12T21:57:18.676Z"
   },
   {
    "duration": 0,
    "start_time": "2022-09-12T21:57:18.796Z"
   },
   {
    "duration": 0,
    "start_time": "2022-09-12T21:57:18.797Z"
   },
   {
    "duration": 0,
    "start_time": "2022-09-12T21:57:18.798Z"
   },
   {
    "duration": 0,
    "start_time": "2022-09-12T21:57:18.799Z"
   },
   {
    "duration": 0,
    "start_time": "2022-09-12T21:57:18.800Z"
   },
   {
    "duration": 0,
    "start_time": "2022-09-12T21:57:18.801Z"
   },
   {
    "duration": 0,
    "start_time": "2022-09-12T21:57:18.802Z"
   },
   {
    "duration": 0,
    "start_time": "2022-09-12T21:57:18.803Z"
   },
   {
    "duration": 0,
    "start_time": "2022-09-12T21:57:18.804Z"
   },
   {
    "duration": 0,
    "start_time": "2022-09-12T21:57:18.805Z"
   },
   {
    "duration": 0,
    "start_time": "2022-09-12T21:57:18.822Z"
   },
   {
    "duration": 0,
    "start_time": "2022-09-12T21:57:18.823Z"
   },
   {
    "duration": 0,
    "start_time": "2022-09-12T21:57:18.824Z"
   },
   {
    "duration": 0,
    "start_time": "2022-09-12T21:57:18.825Z"
   },
   {
    "duration": 0,
    "start_time": "2022-09-12T21:57:18.827Z"
   },
   {
    "duration": 0,
    "start_time": "2022-09-12T21:57:18.827Z"
   },
   {
    "duration": 0,
    "start_time": "2022-09-12T21:57:18.829Z"
   },
   {
    "duration": 0,
    "start_time": "2022-09-12T21:57:18.830Z"
   },
   {
    "duration": 0,
    "start_time": "2022-09-12T21:57:18.831Z"
   },
   {
    "duration": 0,
    "start_time": "2022-09-12T21:57:18.832Z"
   },
   {
    "duration": 0,
    "start_time": "2022-09-12T21:57:18.833Z"
   },
   {
    "duration": 0,
    "start_time": "2022-09-12T21:57:18.834Z"
   },
   {
    "duration": 0,
    "start_time": "2022-09-12T21:57:18.835Z"
   },
   {
    "duration": 0,
    "start_time": "2022-09-12T21:57:18.836Z"
   },
   {
    "duration": 0,
    "start_time": "2022-09-12T21:57:18.837Z"
   },
   {
    "duration": 0,
    "start_time": "2022-09-12T21:57:18.838Z"
   },
   {
    "duration": 0,
    "start_time": "2022-09-12T21:57:18.839Z"
   },
   {
    "duration": 0,
    "start_time": "2022-09-12T21:57:18.840Z"
   },
   {
    "duration": 0,
    "start_time": "2022-09-12T21:57:18.841Z"
   },
   {
    "duration": 0,
    "start_time": "2022-09-12T21:57:18.842Z"
   },
   {
    "duration": 0,
    "start_time": "2022-09-12T21:57:18.844Z"
   },
   {
    "duration": 0,
    "start_time": "2022-09-12T21:57:18.845Z"
   },
   {
    "duration": 0,
    "start_time": "2022-09-12T21:57:18.846Z"
   },
   {
    "duration": 0,
    "start_time": "2022-09-12T21:57:18.847Z"
   },
   {
    "duration": 0,
    "start_time": "2022-09-12T21:57:18.852Z"
   },
   {
    "duration": 0,
    "start_time": "2022-09-12T21:57:18.853Z"
   },
   {
    "duration": 0,
    "start_time": "2022-09-12T21:57:18.854Z"
   },
   {
    "duration": 0,
    "start_time": "2022-09-12T21:57:18.856Z"
   },
   {
    "duration": 0,
    "start_time": "2022-09-12T21:57:18.857Z"
   },
   {
    "duration": 0,
    "start_time": "2022-09-12T21:57:18.859Z"
   },
   {
    "duration": 1923,
    "start_time": "2022-09-12T21:58:01.355Z"
   },
   {
    "duration": 1825,
    "start_time": "2022-09-12T21:58:10.221Z"
   },
   {
    "duration": 342,
    "start_time": "2022-09-12T21:58:22.466Z"
   },
   {
    "duration": 3,
    "start_time": "2022-09-12T21:58:26.123Z"
   },
   {
    "duration": 8004,
    "start_time": "2022-09-12T21:58:26.414Z"
   },
   {
    "duration": 21,
    "start_time": "2022-09-12T21:58:45.174Z"
   },
   {
    "duration": 21,
    "start_time": "2022-09-12T21:59:01.339Z"
   },
   {
    "duration": 8,
    "start_time": "2022-09-12T21:59:02.090Z"
   },
   {
    "duration": 7,
    "start_time": "2022-09-12T21:59:02.721Z"
   },
   {
    "duration": 17,
    "start_time": "2022-09-12T21:59:06.836Z"
   },
   {
    "duration": 145,
    "start_time": "2022-09-12T21:59:24.881Z"
   },
   {
    "duration": 108,
    "start_time": "2022-09-12T21:59:32.293Z"
   },
   {
    "duration": 168,
    "start_time": "2022-09-12T21:59:41.465Z"
   },
   {
    "duration": 129,
    "start_time": "2022-09-12T21:59:46.549Z"
   },
   {
    "duration": 225,
    "start_time": "2022-09-12T21:59:55.132Z"
   },
   {
    "duration": 148,
    "start_time": "2022-09-12T22:00:00.518Z"
   },
   {
    "duration": 1220,
    "start_time": "2022-09-12T22:00:38.787Z"
   },
   {
    "duration": 9,
    "start_time": "2022-09-12T22:00:45.947Z"
   },
   {
    "duration": 510,
    "start_time": "2022-09-12T22:00:51.473Z"
   },
   {
    "duration": 170,
    "start_time": "2022-09-12T22:01:11.579Z"
   },
   {
    "duration": 146,
    "start_time": "2022-09-12T22:01:42.420Z"
   },
   {
    "duration": 147,
    "start_time": "2022-09-12T22:02:13.282Z"
   },
   {
    "duration": 149,
    "start_time": "2022-09-12T22:02:22.030Z"
   },
   {
    "duration": 157,
    "start_time": "2022-09-12T22:02:29.360Z"
   },
   {
    "duration": 147,
    "start_time": "2022-09-12T22:02:45.896Z"
   },
   {
    "duration": 13,
    "start_time": "2022-09-12T22:03:10.320Z"
   },
   {
    "duration": 154,
    "start_time": "2022-09-12T22:03:41.765Z"
   },
   {
    "duration": 155,
    "start_time": "2022-09-12T22:03:44.575Z"
   },
   {
    "duration": 155,
    "start_time": "2022-09-12T22:03:45.458Z"
   },
   {
    "duration": 155,
    "start_time": "2022-09-12T22:03:47.290Z"
   },
   {
    "duration": 162,
    "start_time": "2022-09-12T22:03:47.876Z"
   },
   {
    "duration": 252,
    "start_time": "2022-09-12T22:03:52.030Z"
   },
   {
    "duration": 814,
    "start_time": "2022-09-12T22:03:52.552Z"
   },
   {
    "duration": 0,
    "start_time": "2022-09-12T22:03:53.368Z"
   },
   {
    "duration": 192,
    "start_time": "2022-09-12T22:03:55.501Z"
   },
   {
    "duration": 167,
    "start_time": "2022-09-12T22:03:56.157Z"
   },
   {
    "duration": 261,
    "start_time": "2022-09-12T22:04:05.434Z"
   },
   {
    "duration": 268,
    "start_time": "2022-09-12T22:04:06.426Z"
   },
   {
    "duration": 258,
    "start_time": "2022-09-12T22:04:06.864Z"
   },
   {
    "duration": 272,
    "start_time": "2022-09-12T22:04:07.124Z"
   },
   {
    "duration": 13,
    "start_time": "2022-09-12T22:04:49.871Z"
   },
   {
    "duration": 1323,
    "start_time": "2022-09-12T22:05:02.887Z"
   },
   {
    "duration": 96,
    "start_time": "2022-09-12T22:05:04.817Z"
   },
   {
    "duration": 7,
    "start_time": "2022-09-12T22:05:05.751Z"
   },
   {
    "duration": 19,
    "start_time": "2022-09-12T22:05:06.817Z"
   },
   {
    "duration": 258,
    "start_time": "2022-09-12T22:05:11.053Z"
   },
   {
    "duration": 258,
    "start_time": "2022-09-12T22:05:12.091Z"
   },
   {
    "duration": 254,
    "start_time": "2022-09-12T22:05:12.350Z"
   },
   {
    "duration": 265,
    "start_time": "2022-09-12T22:05:12.606Z"
   },
   {
    "duration": 159,
    "start_time": "2022-09-12T22:05:13.247Z"
   },
   {
    "duration": 1792,
    "start_time": "2022-09-12T22:05:13.542Z"
   },
   {
    "duration": 0,
    "start_time": "2022-09-12T22:05:15.336Z"
   },
   {
    "duration": 748,
    "start_time": "2022-09-12T22:05:17.156Z"
   },
   {
    "duration": 0,
    "start_time": "2022-09-12T22:05:17.906Z"
   },
   {
    "duration": 0,
    "start_time": "2022-09-12T22:05:17.907Z"
   },
   {
    "duration": 160,
    "start_time": "2022-09-12T22:05:18.228Z"
   },
   {
    "duration": 150,
    "start_time": "2022-09-12T22:05:21.373Z"
   },
   {
    "duration": 249,
    "start_time": "2022-09-12T22:05:21.788Z"
   },
   {
    "duration": 153,
    "start_time": "2022-09-12T22:05:22.496Z"
   },
   {
    "duration": 154,
    "start_time": "2022-09-12T22:05:23.564Z"
   },
   {
    "duration": 162,
    "start_time": "2022-09-12T22:05:23.765Z"
   },
   {
    "duration": 431,
    "start_time": "2022-09-12T22:05:26.560Z"
   },
   {
    "duration": 448,
    "start_time": "2022-09-12T22:05:27.421Z"
   },
   {
    "duration": 316,
    "start_time": "2022-09-12T22:05:28.404Z"
   },
   {
    "duration": 13,
    "start_time": "2022-09-12T22:05:30.246Z"
   },
   {
    "duration": 247,
    "start_time": "2022-09-12T22:05:30.808Z"
   },
   {
    "duration": 146,
    "start_time": "2022-09-12T22:05:33.972Z"
   },
   {
    "duration": 145,
    "start_time": "2022-09-12T22:05:34.332Z"
   },
   {
    "duration": 156,
    "start_time": "2022-09-12T22:05:35.115Z"
   },
   {
    "duration": 26,
    "start_time": "2022-09-12T22:05:35.854Z"
   },
   {
    "duration": 145,
    "start_time": "2022-09-12T22:05:38.236Z"
   },
   {
    "duration": 227,
    "start_time": "2022-09-12T22:05:38.660Z"
   },
   {
    "duration": 188,
    "start_time": "2022-09-12T22:05:38.890Z"
   },
   {
    "duration": 135,
    "start_time": "2022-09-12T22:05:39.313Z"
   },
   {
    "duration": 135,
    "start_time": "2022-09-12T22:05:39.484Z"
   },
   {
    "duration": 115,
    "start_time": "2022-09-12T22:05:39.847Z"
   },
   {
    "duration": 138,
    "start_time": "2022-09-12T22:05:40.070Z"
   },
   {
    "duration": 21,
    "start_time": "2022-09-12T22:05:41.264Z"
   },
   {
    "duration": 7,
    "start_time": "2022-09-12T22:05:41.464Z"
   },
   {
    "duration": 8,
    "start_time": "2022-09-12T22:05:41.686Z"
   },
   {
    "duration": 224,
    "start_time": "2022-09-12T22:05:43.326Z"
   },
   {
    "duration": 128,
    "start_time": "2022-09-12T22:06:33.552Z"
   },
   {
    "duration": 9,
    "start_time": "2022-09-12T22:06:35.763Z"
   },
   {
    "duration": 7,
    "start_time": "2022-09-12T22:06:35.944Z"
   },
   {
    "duration": 15,
    "start_time": "2022-09-12T22:06:36.164Z"
   },
   {
    "duration": 282,
    "start_time": "2022-09-12T22:06:41.427Z"
   },
   {
    "duration": 171,
    "start_time": "2022-09-12T22:06:42.756Z"
   },
   {
    "duration": 98,
    "start_time": "2022-09-12T22:06:43.696Z"
   },
   {
    "duration": 175,
    "start_time": "2022-09-12T22:06:45.430Z"
   },
   {
    "duration": 157,
    "start_time": "2022-09-12T22:06:45.840Z"
   },
   {
    "duration": 154,
    "start_time": "2022-09-12T22:06:46.216Z"
   },
   {
    "duration": 171,
    "start_time": "2022-09-12T22:06:46.612Z"
   },
   {
    "duration": 168,
    "start_time": "2022-09-12T22:06:46.785Z"
   },
   {
    "duration": 180,
    "start_time": "2022-09-12T22:06:46.954Z"
   },
   {
    "duration": 258,
    "start_time": "2022-09-12T22:06:47.274Z"
   },
   {
    "duration": 181,
    "start_time": "2022-09-12T22:06:47.534Z"
   },
   {
    "duration": 500,
    "start_time": "2022-09-12T22:06:48.672Z"
   },
   {
    "duration": 453,
    "start_time": "2022-09-12T22:06:49.174Z"
   },
   {
    "duration": 301,
    "start_time": "2022-09-12T22:06:49.629Z"
   },
   {
    "duration": 14,
    "start_time": "2022-09-12T22:06:50.272Z"
   },
   {
    "duration": 146,
    "start_time": "2022-09-12T22:06:50.437Z"
   },
   {
    "duration": 139,
    "start_time": "2022-09-12T22:06:50.760Z"
   },
   {
    "duration": 236,
    "start_time": "2022-09-12T22:06:51.090Z"
   },
   {
    "duration": 153,
    "start_time": "2022-09-12T22:06:51.408Z"
   },
   {
    "duration": 134,
    "start_time": "2022-09-12T22:06:51.718Z"
   },
   {
    "duration": 153,
    "start_time": "2022-09-12T22:06:52.030Z"
   },
   {
    "duration": 212,
    "start_time": "2022-09-12T22:06:52.358Z"
   },
   {
    "duration": 155,
    "start_time": "2022-09-12T22:06:52.572Z"
   },
   {
    "duration": 132,
    "start_time": "2022-09-12T22:06:52.854Z"
   },
   {
    "duration": 143,
    "start_time": "2022-09-12T22:06:53.020Z"
   },
   {
    "duration": 4,
    "start_time": "2022-09-12T22:07:23.965Z"
   },
   {
    "duration": 15,
    "start_time": "2022-09-12T22:07:24.362Z"
   },
   {
    "duration": 5,
    "start_time": "2022-09-12T22:07:26.498Z"
   },
   {
    "duration": 69,
    "start_time": "2022-09-12T22:07:26.984Z"
   },
   {
    "duration": 21,
    "start_time": "2022-09-12T22:07:29.173Z"
   },
   {
    "duration": 26,
    "start_time": "2022-09-12T22:07:30.067Z"
   },
   {
    "duration": 13,
    "start_time": "2022-09-12T22:07:32.313Z"
   },
   {
    "duration": 11,
    "start_time": "2022-09-12T22:07:32.977Z"
   },
   {
    "duration": 4,
    "start_time": "2022-09-12T22:07:33.225Z"
   },
   {
    "duration": 9,
    "start_time": "2022-09-12T22:07:33.443Z"
   },
   {
    "duration": 12,
    "start_time": "2022-09-12T22:07:34.103Z"
   },
   {
    "duration": 74,
    "start_time": "2022-09-12T22:07:34.346Z"
   },
   {
    "duration": 3390,
    "start_time": "2022-09-12T22:07:35.090Z"
   },
   {
    "duration": 9,
    "start_time": "2022-09-12T22:07:38.482Z"
   },
   {
    "duration": 34,
    "start_time": "2022-09-12T22:07:38.492Z"
   },
   {
    "duration": 3,
    "start_time": "2022-09-12T22:07:38.528Z"
   },
   {
    "duration": 8,
    "start_time": "2022-09-12T22:07:38.789Z"
   },
   {
    "duration": 95,
    "start_time": "2022-09-12T22:07:39.761Z"
   },
   {
    "duration": 325,
    "start_time": "2022-09-12T22:07:40.167Z"
   },
   {
    "duration": 9,
    "start_time": "2022-09-12T22:07:40.493Z"
   },
   {
    "duration": 7,
    "start_time": "2022-09-12T22:07:40.539Z"
   },
   {
    "duration": 171,
    "start_time": "2022-09-12T22:07:40.728Z"
   },
   {
    "duration": 830,
    "start_time": "2022-09-12T22:07:40.903Z"
   },
   {
    "duration": 8,
    "start_time": "2022-09-12T22:07:41.735Z"
   },
   {
    "duration": 6,
    "start_time": "2022-09-12T22:07:41.745Z"
   },
   {
    "duration": 97,
    "start_time": "2022-09-12T22:07:41.753Z"
   },
   {
    "duration": 284,
    "start_time": "2022-09-12T22:07:41.851Z"
   },
   {
    "duration": 8,
    "start_time": "2022-09-12T22:07:42.137Z"
   },
   {
    "duration": 23,
    "start_time": "2022-09-12T22:07:45.861Z"
   },
   {
    "duration": 15,
    "start_time": "2022-09-12T22:07:46.235Z"
   },
   {
    "duration": 1099,
    "start_time": "2022-09-12T22:08:00.255Z"
   },
   {
    "duration": 1877,
    "start_time": "2022-09-12T22:08:01.356Z"
   },
   {
    "duration": 30,
    "start_time": "2022-09-12T22:08:03.234Z"
   },
   {
    "duration": 92,
    "start_time": "2022-09-12T22:08:03.266Z"
   },
   {
    "duration": 207,
    "start_time": "2022-09-12T22:08:03.360Z"
   },
   {
    "duration": 9,
    "start_time": "2022-09-12T22:08:03.568Z"
   },
   {
    "duration": 9,
    "start_time": "2022-09-12T22:08:03.578Z"
   },
   {
    "duration": 34,
    "start_time": "2022-09-12T22:08:03.589Z"
   },
   {
    "duration": 5,
    "start_time": "2022-09-12T22:08:03.624Z"
   },
   {
    "duration": 9,
    "start_time": "2022-09-12T22:08:03.631Z"
   },
   {
    "duration": 6,
    "start_time": "2022-09-12T22:08:03.642Z"
   },
   {
    "duration": 192,
    "start_time": "2022-09-12T22:08:03.650Z"
   },
   {
    "duration": 6,
    "start_time": "2022-09-12T22:08:03.844Z"
   },
   {
    "duration": 5,
    "start_time": "2022-09-12T22:08:03.853Z"
   },
   {
    "duration": 19,
    "start_time": "2022-09-12T22:08:03.859Z"
   },
   {
    "duration": 5,
    "start_time": "2022-09-12T22:08:03.879Z"
   },
   {
    "duration": 94,
    "start_time": "2022-09-12T22:08:03.885Z"
   },
   {
    "duration": 59,
    "start_time": "2022-09-12T22:08:03.981Z"
   },
   {
    "duration": 26,
    "start_time": "2022-09-12T22:08:04.041Z"
   },
   {
    "duration": 13,
    "start_time": "2022-09-12T22:08:04.069Z"
   },
   {
    "duration": 8,
    "start_time": "2022-09-12T22:08:04.083Z"
   },
   {
    "duration": 29,
    "start_time": "2022-09-12T22:08:04.093Z"
   },
   {
    "duration": 8,
    "start_time": "2022-09-12T22:08:04.124Z"
   },
   {
    "duration": 11,
    "start_time": "2022-09-12T22:08:04.134Z"
   },
   {
    "duration": 92,
    "start_time": "2022-09-12T22:08:04.147Z"
   },
   {
    "duration": 2924,
    "start_time": "2022-09-12T22:08:04.240Z"
   },
   {
    "duration": 8,
    "start_time": "2022-09-12T22:08:07.165Z"
   },
   {
    "duration": 32,
    "start_time": "2022-09-12T22:08:07.175Z"
   },
   {
    "duration": 14,
    "start_time": "2022-09-12T22:08:07.209Z"
   },
   {
    "duration": 10,
    "start_time": "2022-09-12T22:08:07.225Z"
   },
   {
    "duration": 129,
    "start_time": "2022-09-12T22:08:07.237Z"
   },
   {
    "duration": 325,
    "start_time": "2022-09-12T22:08:07.367Z"
   },
   {
    "duration": 9,
    "start_time": "2022-09-12T22:08:07.694Z"
   },
   {
    "duration": 18,
    "start_time": "2022-09-12T22:08:07.704Z"
   },
   {
    "duration": 88,
    "start_time": "2022-09-12T22:08:07.723Z"
   },
   {
    "duration": 815,
    "start_time": "2022-09-12T22:08:07.812Z"
   },
   {
    "duration": 8,
    "start_time": "2022-09-12T22:08:08.629Z"
   },
   {
    "duration": 6,
    "start_time": "2022-09-12T22:08:08.638Z"
   },
   {
    "duration": 172,
    "start_time": "2022-09-12T22:08:08.646Z"
   },
   {
    "duration": 344,
    "start_time": "2022-09-12T22:08:08.821Z"
   },
   {
    "duration": 8,
    "start_time": "2022-09-12T22:08:09.169Z"
   },
   {
    "duration": 9,
    "start_time": "2022-09-12T22:08:09.178Z"
   },
   {
    "duration": 97,
    "start_time": "2022-09-12T22:08:09.189Z"
   },
   {
    "duration": 1288,
    "start_time": "2022-09-12T22:08:09.288Z"
   },
   {
    "duration": 8,
    "start_time": "2022-09-12T22:08:10.578Z"
   },
   {
    "duration": 8,
    "start_time": "2022-09-12T22:08:10.587Z"
   },
   {
    "duration": 112,
    "start_time": "2022-09-12T22:08:10.597Z"
   },
   {
    "duration": 149,
    "start_time": "2022-09-12T22:08:10.710Z"
   },
   {
    "duration": 31,
    "start_time": "2022-09-12T22:08:10.860Z"
   },
   {
    "duration": 36,
    "start_time": "2022-09-12T22:08:10.893Z"
   },
   {
    "duration": 20,
    "start_time": "2022-09-12T22:08:10.930Z"
   },
   {
    "duration": 11,
    "start_time": "2022-09-12T22:08:10.952Z"
   },
   {
    "duration": 6,
    "start_time": "2022-09-12T22:08:10.964Z"
   },
   {
    "duration": 9,
    "start_time": "2022-09-12T22:08:10.971Z"
   },
   {
    "duration": 13,
    "start_time": "2022-09-12T22:08:10.981Z"
   },
   {
    "duration": 30,
    "start_time": "2022-09-12T22:08:10.995Z"
   },
   {
    "duration": 152,
    "start_time": "2022-09-12T22:08:11.026Z"
   },
   {
    "duration": 7,
    "start_time": "2022-09-12T22:08:11.180Z"
   },
   {
    "duration": 6,
    "start_time": "2022-09-12T22:08:11.188Z"
   },
   {
    "duration": 28,
    "start_time": "2022-09-12T22:08:11.195Z"
   },
   {
    "duration": 250,
    "start_time": "2022-09-12T22:08:11.224Z"
   },
   {
    "duration": 271,
    "start_time": "2022-09-12T22:08:11.475Z"
   },
   {
    "duration": 247,
    "start_time": "2022-09-12T22:08:11.748Z"
   },
   {
    "duration": 273,
    "start_time": "2022-09-12T22:08:11.996Z"
   },
   {
    "duration": 275,
    "start_time": "2022-09-12T22:08:12.270Z"
   },
   {
    "duration": 107,
    "start_time": "2022-09-12T22:08:12.547Z"
   },
   {
    "duration": 181,
    "start_time": "2022-09-12T22:08:12.656Z"
   },
   {
    "duration": 163,
    "start_time": "2022-09-12T22:08:12.838Z"
   },
   {
    "duration": 178,
    "start_time": "2022-09-12T22:08:13.003Z"
   },
   {
    "duration": 166,
    "start_time": "2022-09-12T22:08:13.183Z"
   },
   {
    "duration": 171,
    "start_time": "2022-09-12T22:08:13.351Z"
   },
   {
    "duration": 169,
    "start_time": "2022-09-12T22:08:13.523Z"
   },
   {
    "duration": 167,
    "start_time": "2022-09-12T22:08:13.694Z"
   },
   {
    "duration": 173,
    "start_time": "2022-09-12T22:08:13.862Z"
   },
   {
    "duration": 575,
    "start_time": "2022-09-12T22:08:14.037Z"
   },
   {
    "duration": 451,
    "start_time": "2022-09-12T22:08:14.614Z"
   },
   {
    "duration": 320,
    "start_time": "2022-09-12T22:08:15.068Z"
   },
   {
    "duration": 14,
    "start_time": "2022-09-12T22:08:15.389Z"
   },
   {
    "duration": 153,
    "start_time": "2022-09-12T22:08:15.405Z"
   },
   {
    "duration": 154,
    "start_time": "2022-09-12T22:08:15.559Z"
   },
   {
    "duration": 150,
    "start_time": "2022-09-12T22:08:15.715Z"
   },
   {
    "duration": 150,
    "start_time": "2022-09-12T22:08:15.867Z"
   },
   {
    "duration": 132,
    "start_time": "2022-09-12T22:08:16.022Z"
   },
   {
    "duration": 248,
    "start_time": "2022-09-12T22:08:16.155Z"
   },
   {
    "duration": 222,
    "start_time": "2022-09-12T22:08:16.404Z"
   },
   {
    "duration": 145,
    "start_time": "2022-09-12T22:08:16.628Z"
   },
   {
    "duration": 139,
    "start_time": "2022-09-12T22:08:16.775Z"
   },
   {
    "duration": 128,
    "start_time": "2022-09-12T22:08:16.922Z"
   },
   {
    "duration": 130,
    "start_time": "2022-09-12T22:08:17.052Z"
   },
   {
    "duration": 162,
    "start_time": "2022-09-12T22:08:17.184Z"
   },
   {
    "duration": 19,
    "start_time": "2022-09-12T22:08:17.348Z"
   },
   {
    "duration": 6,
    "start_time": "2022-09-12T22:08:17.369Z"
   },
   {
    "duration": 8,
    "start_time": "2022-09-12T22:08:17.377Z"
   },
   {
    "duration": 168,
    "start_time": "2022-09-12T22:08:17.386Z"
   },
   {
    "duration": 2,
    "start_time": "2022-09-12T22:08:17.557Z"
   },
   {
    "duration": 8246,
    "start_time": "2022-09-12T22:08:17.561Z"
   },
   {
    "duration": 360,
    "start_time": "2022-09-12T22:08:25.809Z"
   },
   {
    "duration": 20,
    "start_time": "2022-09-12T22:08:35.251Z"
   },
   {
    "duration": 22,
    "start_time": "2022-09-12T22:08:37.709Z"
   },
   {
    "duration": 15,
    "start_time": "2022-09-12T22:08:41.074Z"
   },
   {
    "duration": 9,
    "start_time": "2022-09-12T22:08:42.733Z"
   },
   {
    "duration": 5,
    "start_time": "2022-09-12T22:08:43.086Z"
   },
   {
    "duration": 8,
    "start_time": "2022-09-12T22:08:43.290Z"
   },
   {
    "duration": 11,
    "start_time": "2022-09-12T22:08:43.473Z"
   },
   {
    "duration": 74,
    "start_time": "2022-09-12T22:08:43.653Z"
   },
   {
    "duration": 2904,
    "start_time": "2022-09-12T22:08:43.833Z"
   },
   {
    "duration": 8,
    "start_time": "2022-09-12T22:08:46.739Z"
   },
   {
    "duration": 31,
    "start_time": "2022-09-12T22:08:46.749Z"
   },
   {
    "duration": 4,
    "start_time": "2022-09-12T22:08:46.782Z"
   },
   {
    "duration": 10,
    "start_time": "2022-09-12T22:08:46.787Z"
   },
   {
    "duration": 109,
    "start_time": "2022-09-12T22:08:46.799Z"
   },
   {
    "duration": 343,
    "start_time": "2022-09-12T22:08:46.909Z"
   },
   {
    "duration": 10,
    "start_time": "2022-09-12T22:08:47.254Z"
   },
   {
    "duration": 9,
    "start_time": "2022-09-12T22:08:47.266Z"
   },
   {
    "duration": 111,
    "start_time": "2022-09-12T22:08:47.278Z"
   },
   {
    "duration": 880,
    "start_time": "2022-09-12T22:08:47.390Z"
   },
   {
    "duration": 9,
    "start_time": "2022-09-12T22:08:48.272Z"
   },
   {
    "duration": 7,
    "start_time": "2022-09-12T22:08:48.283Z"
   },
   {
    "duration": 665,
    "start_time": "2022-09-12T22:08:48.291Z"
   },
   {
    "duration": 366,
    "start_time": "2022-09-12T22:08:48.958Z"
   },
   {
    "duration": 8,
    "start_time": "2022-09-12T22:08:49.325Z"
   },
   {
    "duration": 20,
    "start_time": "2022-09-12T22:08:49.335Z"
   },
   {
    "duration": 94,
    "start_time": "2022-09-12T22:08:49.356Z"
   },
   {
    "duration": 1259,
    "start_time": "2022-09-12T22:08:49.452Z"
   },
   {
    "duration": 14,
    "start_time": "2022-09-12T22:08:50.714Z"
   },
   {
    "duration": 6,
    "start_time": "2022-09-12T22:08:50.730Z"
   },
   {
    "duration": 109,
    "start_time": "2022-09-12T22:08:50.738Z"
   },
   {
    "duration": 154,
    "start_time": "2022-09-12T22:08:50.849Z"
   },
   {
    "duration": 40,
    "start_time": "2022-09-12T22:08:51.005Z"
   },
   {
    "duration": 25,
    "start_time": "2022-09-12T22:08:51.047Z"
   },
   {
    "duration": 22,
    "start_time": "2022-09-12T22:08:51.074Z"
   },
   {
    "duration": 30,
    "start_time": "2022-09-12T22:08:51.097Z"
   },
   {
    "duration": 13,
    "start_time": "2022-09-12T22:08:57.477Z"
   },
   {
    "duration": 7,
    "start_time": "2022-09-12T22:08:57.823Z"
   },
   {
    "duration": 9,
    "start_time": "2022-09-12T22:08:57.997Z"
   },
   {
    "duration": 9,
    "start_time": "2022-09-12T22:08:58.161Z"
   },
   {
    "duration": 9,
    "start_time": "2022-09-12T22:08:58.319Z"
   },
   {
    "duration": 134,
    "start_time": "2022-09-12T22:08:58.537Z"
   },
   {
    "duration": 10,
    "start_time": "2022-09-12T22:08:58.883Z"
   },
   {
    "duration": 6,
    "start_time": "2022-09-12T22:08:59.051Z"
   },
   {
    "duration": 13,
    "start_time": "2022-09-12T22:08:59.525Z"
   },
   {
    "duration": 258,
    "start_time": "2022-09-12T22:09:03.009Z"
   },
   {
    "duration": 279,
    "start_time": "2022-09-12T22:09:03.395Z"
   },
   {
    "duration": 265,
    "start_time": "2022-09-12T22:09:03.676Z"
   },
   {
    "duration": 279,
    "start_time": "2022-09-12T22:09:03.943Z"
   },
   {
    "duration": 284,
    "start_time": "2022-09-12T22:09:04.223Z"
   },
   {
    "duration": 115,
    "start_time": "2022-09-12T22:09:04.509Z"
   },
   {
    "duration": 186,
    "start_time": "2022-09-12T22:09:04.625Z"
   },
   {
    "duration": 177,
    "start_time": "2022-09-12T22:09:04.814Z"
   },
   {
    "duration": 232,
    "start_time": "2022-09-12T22:09:04.993Z"
   },
   {
    "duration": 177,
    "start_time": "2022-09-12T22:09:05.271Z"
   },
   {
    "duration": 160,
    "start_time": "2022-09-12T22:09:05.468Z"
   },
   {
    "duration": 173,
    "start_time": "2022-09-12T22:09:05.663Z"
   },
   {
    "duration": 160,
    "start_time": "2022-09-12T22:09:06.013Z"
   },
   {
    "duration": 172,
    "start_time": "2022-09-12T22:09:06.179Z"
   },
   {
    "duration": 583,
    "start_time": "2022-09-12T22:09:07.454Z"
   },
   {
    "duration": 455,
    "start_time": "2022-09-12T22:09:08.039Z"
   },
   {
    "duration": 307,
    "start_time": "2022-09-12T22:09:08.496Z"
   },
   {
    "duration": 13,
    "start_time": "2022-09-12T22:09:09.197Z"
   },
   {
    "duration": 138,
    "start_time": "2022-09-12T22:09:09.363Z"
   },
   {
    "duration": 143,
    "start_time": "2022-09-12T22:09:09.723Z"
   },
   {
    "duration": 144,
    "start_time": "2022-09-12T22:09:10.109Z"
   },
   {
    "duration": 148,
    "start_time": "2022-09-12T22:09:10.472Z"
   },
   {
    "duration": 124,
    "start_time": "2022-09-12T22:09:10.841Z"
   },
   {
    "duration": 243,
    "start_time": "2022-09-12T22:09:11.208Z"
   },
   {
    "duration": 221,
    "start_time": "2022-09-12T22:09:11.562Z"
   },
   {
    "duration": 160,
    "start_time": "2022-09-12T22:09:11.785Z"
   },
   {
    "duration": 129,
    "start_time": "2022-09-12T22:09:12.095Z"
   },
   {
    "duration": 130,
    "start_time": "2022-09-12T22:09:12.275Z"
   },
   {
    "duration": 110,
    "start_time": "2022-09-12T22:09:12.618Z"
   },
   {
    "duration": 140,
    "start_time": "2022-09-12T22:09:12.806Z"
   },
   {
    "duration": 20,
    "start_time": "2022-09-12T22:09:14.941Z"
   },
   {
    "duration": 7,
    "start_time": "2022-09-12T22:09:15.560Z"
   },
   {
    "duration": 8,
    "start_time": "2022-09-12T22:09:15.993Z"
   },
   {
    "duration": 128,
    "start_time": "2022-09-12T22:09:21.244Z"
   },
   {
    "duration": 13,
    "start_time": "2022-09-12T22:14:21.675Z"
   },
   {
    "duration": 150,
    "start_time": "2022-09-12T22:21:15.373Z"
   },
   {
    "duration": 274,
    "start_time": "2022-09-12T22:22:10.675Z"
   },
   {
    "duration": 143,
    "start_time": "2022-09-12T22:22:27.745Z"
   },
   {
    "duration": 13,
    "start_time": "2022-09-12T22:22:35.873Z"
   },
   {
    "duration": 113,
    "start_time": "2022-09-12T22:23:59.295Z"
   },
   {
    "duration": 997,
    "start_time": "2022-09-12T22:24:31.632Z"
   },
   {
    "duration": 1014,
    "start_time": "2022-09-12T22:24:46.808Z"
   },
   {
    "duration": 1640,
    "start_time": "2022-09-12T22:25:01.043Z"
   },
   {
    "duration": 146,
    "start_time": "2022-09-12T22:25:27.885Z"
   },
   {
    "duration": 14,
    "start_time": "2022-09-12T22:25:33.859Z"
   },
   {
    "duration": 152,
    "start_time": "2022-09-12T22:25:34.382Z"
   },
   {
    "duration": 149,
    "start_time": "2022-09-12T22:25:36.122Z"
   },
   {
    "duration": 143,
    "start_time": "2022-09-12T22:25:37.042Z"
   },
   {
    "duration": 154,
    "start_time": "2022-09-12T22:25:37.332Z"
   },
   {
    "duration": 150,
    "start_time": "2022-09-12T22:41:34.885Z"
   },
   {
    "duration": 1106,
    "start_time": "2022-09-12T22:42:36.859Z"
   },
   {
    "duration": 1909,
    "start_time": "2022-09-12T22:42:37.967Z"
   },
   {
    "duration": 31,
    "start_time": "2022-09-12T22:42:39.878Z"
   },
   {
    "duration": 83,
    "start_time": "2022-09-12T22:42:39.911Z"
   },
   {
    "duration": 196,
    "start_time": "2022-09-12T22:42:39.997Z"
   },
   {
    "duration": 11,
    "start_time": "2022-09-12T22:42:40.195Z"
   },
   {
    "duration": 32,
    "start_time": "2022-09-12T22:42:40.207Z"
   },
   {
    "duration": 22,
    "start_time": "2022-09-12T22:42:40.241Z"
   },
   {
    "duration": 8,
    "start_time": "2022-09-12T22:42:40.265Z"
   },
   {
    "duration": 14,
    "start_time": "2022-09-12T22:42:40.274Z"
   },
   {
    "duration": 20,
    "start_time": "2022-09-12T22:42:40.289Z"
   },
   {
    "duration": 173,
    "start_time": "2022-09-12T22:42:40.310Z"
   },
   {
    "duration": 7,
    "start_time": "2022-09-12T22:42:40.484Z"
   },
   {
    "duration": 9,
    "start_time": "2022-09-12T22:42:40.494Z"
   },
   {
    "duration": 22,
    "start_time": "2022-09-12T22:42:40.505Z"
   },
   {
    "duration": 4,
    "start_time": "2022-09-12T22:42:40.529Z"
   },
   {
    "duration": 71,
    "start_time": "2022-09-12T22:42:40.535Z"
   },
   {
    "duration": 62,
    "start_time": "2022-09-12T22:42:40.608Z"
   },
   {
    "duration": 23,
    "start_time": "2022-09-12T22:42:40.672Z"
   },
   {
    "duration": 28,
    "start_time": "2022-09-12T22:42:40.696Z"
   },
   {
    "duration": 8,
    "start_time": "2022-09-12T22:42:40.726Z"
   },
   {
    "duration": 3,
    "start_time": "2022-09-12T22:42:40.736Z"
   },
   {
    "duration": 11,
    "start_time": "2022-09-12T22:42:40.741Z"
   },
   {
    "duration": 10,
    "start_time": "2022-09-12T22:42:40.754Z"
   },
   {
    "duration": 85,
    "start_time": "2022-09-12T22:42:40.766Z"
   },
   {
    "duration": 2878,
    "start_time": "2022-09-12T22:42:40.852Z"
   },
   {
    "duration": 8,
    "start_time": "2022-09-12T22:42:43.732Z"
   },
   {
    "duration": 31,
    "start_time": "2022-09-12T22:42:43.741Z"
   },
   {
    "duration": 4,
    "start_time": "2022-09-12T22:42:43.774Z"
   },
   {
    "duration": 10,
    "start_time": "2022-09-12T22:42:43.780Z"
   },
   {
    "duration": 111,
    "start_time": "2022-09-12T22:42:43.792Z"
   },
   {
    "duration": 326,
    "start_time": "2022-09-12T22:42:43.905Z"
   },
   {
    "duration": 10,
    "start_time": "2022-09-12T22:42:44.233Z"
   },
   {
    "duration": 8,
    "start_time": "2022-09-12T22:42:44.244Z"
   },
   {
    "duration": 106,
    "start_time": "2022-09-12T22:42:44.254Z"
   },
   {
    "duration": 815,
    "start_time": "2022-09-12T22:42:44.362Z"
   },
   {
    "duration": 9,
    "start_time": "2022-09-12T22:42:45.179Z"
   },
   {
    "duration": 21,
    "start_time": "2022-09-12T22:42:45.189Z"
   },
   {
    "duration": 173,
    "start_time": "2022-09-12T22:42:45.212Z"
   },
   {
    "duration": 345,
    "start_time": "2022-09-12T22:42:45.387Z"
   },
   {
    "duration": 8,
    "start_time": "2022-09-12T22:42:45.736Z"
   },
   {
    "duration": 7,
    "start_time": "2022-09-12T22:42:45.745Z"
   },
   {
    "duration": 100,
    "start_time": "2022-09-12T22:42:45.754Z"
   },
   {
    "duration": 1232,
    "start_time": "2022-09-12T22:42:45.856Z"
   },
   {
    "duration": 13,
    "start_time": "2022-09-12T22:42:47.090Z"
   },
   {
    "duration": 31,
    "start_time": "2022-09-12T22:42:47.105Z"
   },
   {
    "duration": 94,
    "start_time": "2022-09-12T22:42:47.138Z"
   },
   {
    "duration": 151,
    "start_time": "2022-09-12T22:42:47.234Z"
   },
   {
    "duration": 44,
    "start_time": "2022-09-12T22:42:47.386Z"
   },
   {
    "duration": 22,
    "start_time": "2022-09-12T22:42:47.431Z"
   },
   {
    "duration": 27,
    "start_time": "2022-09-12T22:42:47.455Z"
   },
   {
    "duration": 13,
    "start_time": "2022-09-12T22:42:47.484Z"
   },
   {
    "duration": 29,
    "start_time": "2022-09-12T22:42:47.498Z"
   },
   {
    "duration": 20,
    "start_time": "2022-09-12T22:42:47.528Z"
   },
   {
    "duration": 8,
    "start_time": "2022-09-12T22:42:47.550Z"
   },
   {
    "duration": 9,
    "start_time": "2022-09-12T22:42:47.559Z"
   },
   {
    "duration": 162,
    "start_time": "2022-09-12T22:42:47.569Z"
   },
   {
    "duration": 7,
    "start_time": "2022-09-12T22:42:47.733Z"
   },
   {
    "duration": 18,
    "start_time": "2022-09-12T22:42:47.741Z"
   },
   {
    "duration": 16,
    "start_time": "2022-09-12T22:42:47.761Z"
   },
   {
    "duration": 251,
    "start_time": "2022-09-12T22:42:47.778Z"
   },
   {
    "duration": 264,
    "start_time": "2022-09-12T22:42:48.031Z"
   },
   {
    "duration": 253,
    "start_time": "2022-09-12T22:42:48.297Z"
   },
   {
    "duration": 259,
    "start_time": "2022-09-12T22:42:48.551Z"
   },
   {
    "duration": 319,
    "start_time": "2022-09-12T22:42:48.812Z"
   },
   {
    "duration": 105,
    "start_time": "2022-09-12T22:42:49.133Z"
   },
   {
    "duration": 182,
    "start_time": "2022-09-12T22:42:49.240Z"
   },
   {
    "duration": 168,
    "start_time": "2022-09-12T22:42:49.423Z"
   },
   {
    "duration": 170,
    "start_time": "2022-09-12T22:42:49.593Z"
   },
   {
    "duration": 172,
    "start_time": "2022-09-12T22:42:49.765Z"
   },
   {
    "duration": 189,
    "start_time": "2022-09-12T22:42:49.939Z"
   },
   {
    "duration": 163,
    "start_time": "2022-09-12T22:42:50.130Z"
   },
   {
    "duration": 179,
    "start_time": "2022-09-12T22:42:50.294Z"
   },
   {
    "duration": 174,
    "start_time": "2022-09-12T22:42:50.475Z"
   },
   {
    "duration": 596,
    "start_time": "2022-09-12T22:42:50.650Z"
   },
   {
    "duration": 445,
    "start_time": "2022-09-12T22:42:51.248Z"
   },
   {
    "duration": 343,
    "start_time": "2022-09-12T22:42:51.694Z"
   },
   {
    "duration": 15,
    "start_time": "2022-09-12T22:42:52.038Z"
   },
   {
    "duration": 167,
    "start_time": "2022-09-12T22:42:52.055Z"
   },
   {
    "duration": 17810,
    "start_time": "2022-09-12T22:42:52.224Z"
   },
   {
    "duration": 6923,
    "start_time": "2022-09-12T22:43:10.036Z"
   },
   {
    "duration": 168,
    "start_time": "2022-09-12T22:43:16.961Z"
   },
   {
    "duration": 130,
    "start_time": "2022-09-12T22:43:17.130Z"
   },
   {
    "duration": 153,
    "start_time": "2022-09-12T22:43:17.262Z"
   },
   {
    "duration": 238,
    "start_time": "2022-09-12T22:43:17.417Z"
   },
   {
    "duration": 149,
    "start_time": "2022-09-12T22:43:17.657Z"
   },
   {
    "duration": 136,
    "start_time": "2022-09-12T22:43:17.807Z"
   },
   {
    "duration": 260,
    "start_time": "2022-09-12T22:43:17.945Z"
   },
   {
    "duration": 122,
    "start_time": "2022-09-12T22:43:18.206Z"
   },
   {
    "duration": 152,
    "start_time": "2022-09-12T22:43:18.329Z"
   },
   {
    "duration": 19,
    "start_time": "2022-09-12T22:43:18.504Z"
   },
   {
    "duration": 10,
    "start_time": "2022-09-12T22:43:18.525Z"
   },
   {
    "duration": 2,
    "start_time": "2022-09-12T22:43:18.677Z"
   },
   {
    "duration": 7743,
    "start_time": "2022-09-12T22:43:18.681Z"
   },
   {
    "duration": 376,
    "start_time": "2022-09-12T22:43:26.425Z"
   },
   {
    "duration": 154,
    "start_time": "2022-09-12T22:43:26.952Z"
   },
   {
    "duration": 24,
    "start_time": "2022-09-12T22:43:27.108Z"
   },
   {
    "duration": 13,
    "start_time": "2022-09-12T22:43:27.145Z"
   },
   {
    "duration": 16,
    "start_time": "2022-09-12T22:43:27.159Z"
   },
   {
    "duration": 150,
    "start_time": "2022-09-12T22:45:06.578Z"
   },
   {
    "duration": 573,
    "start_time": "2022-09-12T22:45:45.246Z"
   },
   {
    "duration": 162,
    "start_time": "2022-09-12T22:45:56.983Z"
   },
   {
    "duration": 140,
    "start_time": "2022-09-12T22:46:05.277Z"
   },
   {
    "duration": 146,
    "start_time": "2022-09-12T22:46:53.755Z"
   },
   {
    "duration": 143,
    "start_time": "2022-09-12T22:47:06.748Z"
   },
   {
    "duration": 1131,
    "start_time": "2022-09-13T11:10:03.011Z"
   },
   {
    "duration": 1975,
    "start_time": "2022-09-13T11:10:04.144Z"
   },
   {
    "duration": 31,
    "start_time": "2022-09-13T11:10:06.121Z"
   },
   {
    "duration": 125,
    "start_time": "2022-09-13T11:10:06.154Z"
   },
   {
    "duration": 258,
    "start_time": "2022-09-13T11:10:06.281Z"
   },
   {
    "duration": 8,
    "start_time": "2022-09-13T11:10:06.541Z"
   },
   {
    "duration": 59,
    "start_time": "2022-09-13T11:10:06.551Z"
   },
   {
    "duration": 16,
    "start_time": "2022-09-13T11:10:06.611Z"
   },
   {
    "duration": 4,
    "start_time": "2022-09-13T11:10:06.629Z"
   },
   {
    "duration": 11,
    "start_time": "2022-09-13T11:10:06.635Z"
   },
   {
    "duration": 64,
    "start_time": "2022-09-13T11:10:06.648Z"
   },
   {
    "duration": 266,
    "start_time": "2022-09-13T11:10:06.714Z"
   },
   {
    "duration": 6,
    "start_time": "2022-09-13T11:10:06.981Z"
   },
   {
    "duration": 5,
    "start_time": "2022-09-13T11:10:06.990Z"
   },
   {
    "duration": 34,
    "start_time": "2022-09-13T11:10:06.996Z"
   },
   {
    "duration": 4,
    "start_time": "2022-09-13T11:10:07.032Z"
   },
   {
    "duration": 76,
    "start_time": "2022-09-13T11:10:07.037Z"
   },
   {
    "duration": 53,
    "start_time": "2022-09-13T11:10:07.114Z"
   },
   {
    "duration": 24,
    "start_time": "2022-09-13T11:10:07.169Z"
   },
   {
    "duration": 12,
    "start_time": "2022-09-13T11:10:07.195Z"
   },
   {
    "duration": 7,
    "start_time": "2022-09-13T11:10:07.209Z"
   },
   {
    "duration": 3,
    "start_time": "2022-09-13T11:10:07.218Z"
   },
   {
    "duration": 13,
    "start_time": "2022-09-13T11:10:07.222Z"
   },
   {
    "duration": 14,
    "start_time": "2022-09-13T11:10:07.237Z"
   },
   {
    "duration": 175,
    "start_time": "2022-09-13T11:10:07.253Z"
   },
   {
    "duration": 4498,
    "start_time": "2022-09-13T11:10:07.429Z"
   },
   {
    "duration": 7,
    "start_time": "2022-09-13T11:10:11.929Z"
   },
   {
    "duration": 23,
    "start_time": "2022-09-13T11:10:11.937Z"
   },
   {
    "duration": 3,
    "start_time": "2022-09-13T11:10:11.961Z"
   },
   {
    "duration": 8,
    "start_time": "2022-09-13T11:10:11.966Z"
   },
   {
    "duration": 116,
    "start_time": "2022-09-13T11:10:11.975Z"
   },
   {
    "duration": 332,
    "start_time": "2022-09-13T11:10:12.093Z"
   },
   {
    "duration": 8,
    "start_time": "2022-09-13T11:10:12.427Z"
   },
   {
    "duration": 7,
    "start_time": "2022-09-13T11:10:12.436Z"
   },
   {
    "duration": 111,
    "start_time": "2022-09-13T11:10:12.445Z"
   },
   {
    "duration": 824,
    "start_time": "2022-09-13T11:10:12.558Z"
   },
   {
    "duration": 8,
    "start_time": "2022-09-13T11:10:13.383Z"
   },
   {
    "duration": 17,
    "start_time": "2022-09-13T11:10:13.392Z"
   },
   {
    "duration": 144,
    "start_time": "2022-09-13T11:10:13.411Z"
   },
   {
    "duration": 355,
    "start_time": "2022-09-13T11:10:13.556Z"
   },
   {
    "duration": 7,
    "start_time": "2022-09-13T11:10:13.916Z"
   },
   {
    "duration": 8,
    "start_time": "2022-09-13T11:10:13.924Z"
   },
   {
    "duration": 104,
    "start_time": "2022-09-13T11:10:13.933Z"
   },
   {
    "duration": 1149,
    "start_time": "2022-09-13T11:10:14.039Z"
   },
   {
    "duration": 8,
    "start_time": "2022-09-13T11:10:15.190Z"
   },
   {
    "duration": 20,
    "start_time": "2022-09-13T11:10:15.199Z"
   },
   {
    "duration": 108,
    "start_time": "2022-09-13T11:10:15.221Z"
   },
   {
    "duration": 138,
    "start_time": "2022-09-13T11:10:15.330Z"
   },
   {
    "duration": 40,
    "start_time": "2022-09-13T11:10:15.470Z"
   },
   {
    "duration": 22,
    "start_time": "2022-09-13T11:10:15.511Z"
   },
   {
    "duration": 20,
    "start_time": "2022-09-13T11:10:15.534Z"
   },
   {
    "duration": 12,
    "start_time": "2022-09-13T11:10:15.555Z"
   },
   {
    "duration": 6,
    "start_time": "2022-09-13T11:10:15.568Z"
   },
   {
    "duration": 38,
    "start_time": "2022-09-13T11:10:15.575Z"
   },
   {
    "duration": 8,
    "start_time": "2022-09-13T11:10:15.614Z"
   },
   {
    "duration": 12,
    "start_time": "2022-09-13T11:10:15.623Z"
   },
   {
    "duration": 161,
    "start_time": "2022-09-13T11:10:15.636Z"
   },
   {
    "duration": 15,
    "start_time": "2022-09-13T11:10:15.799Z"
   },
   {
    "duration": 6,
    "start_time": "2022-09-13T11:10:15.815Z"
   },
   {
    "duration": 16,
    "start_time": "2022-09-13T11:10:15.822Z"
   },
   {
    "duration": 242,
    "start_time": "2022-09-13T11:10:15.840Z"
   },
   {
    "duration": 256,
    "start_time": "2022-09-13T11:10:16.084Z"
   },
   {
    "duration": 237,
    "start_time": "2022-09-13T11:10:16.341Z"
   },
   {
    "duration": 258,
    "start_time": "2022-09-13T11:10:16.579Z"
   },
   {
    "duration": 247,
    "start_time": "2022-09-13T11:10:16.838Z"
   },
   {
    "duration": 104,
    "start_time": "2022-09-13T11:10:17.087Z"
   },
   {
    "duration": 182,
    "start_time": "2022-09-13T11:10:17.193Z"
   },
   {
    "duration": 154,
    "start_time": "2022-09-13T11:10:17.377Z"
   },
   {
    "duration": 157,
    "start_time": "2022-09-13T11:10:17.533Z"
   },
   {
    "duration": 155,
    "start_time": "2022-09-13T11:10:17.691Z"
   },
   {
    "duration": 160,
    "start_time": "2022-09-13T11:10:17.848Z"
   },
   {
    "duration": 156,
    "start_time": "2022-09-13T11:10:18.010Z"
   },
   {
    "duration": 158,
    "start_time": "2022-09-13T11:10:18.168Z"
   },
   {
    "duration": 168,
    "start_time": "2022-09-13T11:10:18.328Z"
   },
   {
    "duration": 533,
    "start_time": "2022-09-13T11:10:18.497Z"
   },
   {
    "duration": 424,
    "start_time": "2022-09-13T11:10:19.032Z"
   },
   {
    "duration": 302,
    "start_time": "2022-09-13T11:10:19.458Z"
   },
   {
    "duration": 14,
    "start_time": "2022-09-13T11:10:19.763Z"
   },
   {
    "duration": 155,
    "start_time": "2022-09-13T11:10:19.778Z"
   },
   {
    "duration": 154,
    "start_time": "2022-09-13T11:10:19.935Z"
   },
   {
    "duration": 147,
    "start_time": "2022-09-13T11:10:20.090Z"
   },
   {
    "duration": 150,
    "start_time": "2022-09-13T11:10:20.238Z"
   },
   {
    "duration": 135,
    "start_time": "2022-09-13T11:10:20.390Z"
   },
   {
    "duration": 234,
    "start_time": "2022-09-13T11:10:20.527Z"
   },
   {
    "duration": 215,
    "start_time": "2022-09-13T11:10:20.762Z"
   },
   {
    "duration": 152,
    "start_time": "2022-09-13T11:10:20.978Z"
   },
   {
    "duration": 155,
    "start_time": "2022-09-13T11:10:21.131Z"
   },
   {
    "duration": 141,
    "start_time": "2022-09-13T11:10:21.287Z"
   },
   {
    "duration": 133,
    "start_time": "2022-09-13T11:10:21.430Z"
   },
   {
    "duration": 139,
    "start_time": "2022-09-13T11:10:21.564Z"
   },
   {
    "duration": 18,
    "start_time": "2022-09-13T11:10:21.708Z"
   },
   {
    "duration": 6,
    "start_time": "2022-09-13T11:10:21.728Z"
   },
   {
    "duration": 7,
    "start_time": "2022-09-13T11:10:21.736Z"
   },
   {
    "duration": 148,
    "start_time": "2022-09-13T11:10:21.744Z"
   },
   {
    "duration": 3,
    "start_time": "2022-09-13T11:10:21.893Z"
   },
   {
    "duration": 7443,
    "start_time": "2022-09-13T11:10:21.897Z"
   },
   {
    "duration": 373,
    "start_time": "2022-09-13T11:10:29.341Z"
   },
   {
    "duration": 23,
    "start_time": "2022-09-13T11:56:27.257Z"
   },
   {
    "duration": 1427,
    "start_time": "2022-09-13T19:35:19.084Z"
   },
   {
    "duration": 1813,
    "start_time": "2022-09-13T19:35:20.513Z"
   },
   {
    "duration": 31,
    "start_time": "2022-09-13T19:35:22.327Z"
   },
   {
    "duration": 106,
    "start_time": "2022-09-13T19:35:22.359Z"
   },
   {
    "duration": 203,
    "start_time": "2022-09-13T19:35:22.467Z"
   },
   {
    "duration": 9,
    "start_time": "2022-09-13T19:35:22.672Z"
   },
   {
    "duration": 25,
    "start_time": "2022-09-13T19:35:22.683Z"
   },
   {
    "duration": 18,
    "start_time": "2022-09-13T19:35:22.710Z"
   },
   {
    "duration": 10,
    "start_time": "2022-09-13T19:35:22.730Z"
   },
   {
    "duration": 10,
    "start_time": "2022-09-13T19:35:22.742Z"
   },
   {
    "duration": 8,
    "start_time": "2022-09-13T19:35:22.754Z"
   },
   {
    "duration": 191,
    "start_time": "2022-09-13T19:35:22.763Z"
   },
   {
    "duration": 7,
    "start_time": "2022-09-13T19:35:22.956Z"
   },
   {
    "duration": 5,
    "start_time": "2022-09-13T19:35:22.966Z"
   },
   {
    "duration": 17,
    "start_time": "2022-09-13T19:35:22.973Z"
   },
   {
    "duration": 5,
    "start_time": "2022-09-13T19:35:23.005Z"
   },
   {
    "duration": 94,
    "start_time": "2022-09-13T19:35:23.012Z"
   },
   {
    "duration": 56,
    "start_time": "2022-09-13T19:35:23.108Z"
   },
   {
    "duration": 40,
    "start_time": "2022-09-13T19:35:23.166Z"
   },
   {
    "duration": 13,
    "start_time": "2022-09-13T19:35:23.208Z"
   },
   {
    "duration": 9,
    "start_time": "2022-09-13T19:35:23.222Z"
   },
   {
    "duration": 4,
    "start_time": "2022-09-13T19:35:23.232Z"
   },
   {
    "duration": 10,
    "start_time": "2022-09-13T19:35:23.237Z"
   },
   {
    "duration": 11,
    "start_time": "2022-09-13T19:35:23.248Z"
   },
   {
    "duration": 104,
    "start_time": "2022-09-13T19:35:23.261Z"
   },
   {
    "duration": 2979,
    "start_time": "2022-09-13T19:35:23.366Z"
   },
   {
    "duration": 7,
    "start_time": "2022-09-13T19:35:26.347Z"
   },
   {
    "duration": 27,
    "start_time": "2022-09-13T19:35:26.355Z"
   },
   {
    "duration": 4,
    "start_time": "2022-09-13T19:35:26.383Z"
   },
   {
    "duration": 7,
    "start_time": "2022-09-13T19:35:26.404Z"
   },
   {
    "duration": 103,
    "start_time": "2022-09-13T19:35:26.413Z"
   },
   {
    "duration": 310,
    "start_time": "2022-09-13T19:35:26.517Z"
   },
   {
    "duration": 9,
    "start_time": "2022-09-13T19:35:26.829Z"
   },
   {
    "duration": 7,
    "start_time": "2022-09-13T19:35:26.839Z"
   },
   {
    "duration": 112,
    "start_time": "2022-09-13T19:35:26.847Z"
   },
   {
    "duration": 923,
    "start_time": "2022-09-13T19:35:26.960Z"
   },
   {
    "duration": 9,
    "start_time": "2022-09-13T19:35:27.885Z"
   },
   {
    "duration": 9,
    "start_time": "2022-09-13T19:35:27.905Z"
   },
   {
    "duration": 247,
    "start_time": "2022-09-13T19:35:27.915Z"
   },
   {
    "duration": 341,
    "start_time": "2022-09-13T19:35:28.164Z"
   },
   {
    "duration": 8,
    "start_time": "2022-09-13T19:35:28.509Z"
   },
   {
    "duration": 8,
    "start_time": "2022-09-13T19:35:28.518Z"
   },
   {
    "duration": 92,
    "start_time": "2022-09-13T19:35:28.527Z"
   },
   {
    "duration": 1268,
    "start_time": "2022-09-13T19:35:28.620Z"
   },
   {
    "duration": 9,
    "start_time": "2022-09-13T19:35:29.890Z"
   },
   {
    "duration": 10,
    "start_time": "2022-09-13T19:35:29.900Z"
   },
   {
    "duration": 99,
    "start_time": "2022-09-13T19:35:29.911Z"
   },
   {
    "duration": 197,
    "start_time": "2022-09-13T19:35:30.012Z"
   },
   {
    "duration": 33,
    "start_time": "2022-09-13T19:35:30.210Z"
   },
   {
    "duration": 79,
    "start_time": "2022-09-13T19:35:30.245Z"
   },
   {
    "duration": 43,
    "start_time": "2022-09-13T19:35:30.325Z"
   },
   {
    "duration": 12,
    "start_time": "2022-09-13T19:35:30.370Z"
   },
   {
    "duration": 7,
    "start_time": "2022-09-13T19:35:30.383Z"
   },
   {
    "duration": 9,
    "start_time": "2022-09-13T19:35:30.405Z"
   },
   {
    "duration": 29,
    "start_time": "2022-09-13T19:35:30.415Z"
   },
   {
    "duration": 16,
    "start_time": "2022-09-13T19:35:30.445Z"
   },
   {
    "duration": 155,
    "start_time": "2022-09-13T19:35:30.463Z"
   },
   {
    "duration": 7,
    "start_time": "2022-09-13T19:35:30.620Z"
   },
   {
    "duration": 17,
    "start_time": "2022-09-13T19:35:30.628Z"
   },
   {
    "duration": 21,
    "start_time": "2022-09-13T19:35:30.646Z"
   },
   {
    "duration": 278,
    "start_time": "2022-09-13T19:35:30.669Z"
   },
   {
    "duration": 342,
    "start_time": "2022-09-13T19:35:30.949Z"
   },
   {
    "duration": 259,
    "start_time": "2022-09-13T19:35:31.293Z"
   },
   {
    "duration": 259,
    "start_time": "2022-09-13T19:35:31.553Z"
   },
   {
    "duration": 269,
    "start_time": "2022-09-13T19:35:31.813Z"
   },
   {
    "duration": 102,
    "start_time": "2022-09-13T19:35:32.083Z"
   },
   {
    "duration": 193,
    "start_time": "2022-09-13T19:35:32.187Z"
   },
   {
    "duration": 160,
    "start_time": "2022-09-13T19:35:32.381Z"
   },
   {
    "duration": 162,
    "start_time": "2022-09-13T19:35:32.543Z"
   },
   {
    "duration": 168,
    "start_time": "2022-09-13T19:35:32.707Z"
   },
   {
    "duration": 167,
    "start_time": "2022-09-13T19:35:32.876Z"
   },
   {
    "duration": 156,
    "start_time": "2022-09-13T19:35:33.044Z"
   },
   {
    "duration": 157,
    "start_time": "2022-09-13T19:35:33.205Z"
   },
   {
    "duration": 163,
    "start_time": "2022-09-13T19:35:33.363Z"
   },
   {
    "duration": 577,
    "start_time": "2022-09-13T19:35:33.528Z"
   },
   {
    "duration": 438,
    "start_time": "2022-09-13T19:35:34.107Z"
   },
   {
    "duration": 463,
    "start_time": "2022-09-13T19:35:34.547Z"
   },
   {
    "duration": 14,
    "start_time": "2022-09-13T19:35:35.011Z"
   },
   {
    "duration": 160,
    "start_time": "2022-09-13T19:35:35.026Z"
   },
   {
    "duration": 154,
    "start_time": "2022-09-13T19:35:35.188Z"
   },
   {
    "duration": 156,
    "start_time": "2022-09-13T19:35:35.343Z"
   },
   {
    "duration": 160,
    "start_time": "2022-09-13T19:35:35.500Z"
   },
   {
    "duration": 131,
    "start_time": "2022-09-13T19:35:35.662Z"
   },
   {
    "duration": 253,
    "start_time": "2022-09-13T19:35:35.795Z"
   },
   {
    "duration": 243,
    "start_time": "2022-09-13T19:35:36.050Z"
   },
   {
    "duration": 164,
    "start_time": "2022-09-13T19:35:36.295Z"
   },
   {
    "duration": 136,
    "start_time": "2022-09-13T19:35:36.461Z"
   },
   {
    "duration": 134,
    "start_time": "2022-09-13T19:35:36.605Z"
   },
   {
    "duration": 115,
    "start_time": "2022-09-13T19:35:36.741Z"
   },
   {
    "duration": 141,
    "start_time": "2022-09-13T19:35:36.857Z"
   },
   {
    "duration": 21,
    "start_time": "2022-09-13T19:35:37.005Z"
   },
   {
    "duration": 7,
    "start_time": "2022-09-13T19:35:37.027Z"
   },
   {
    "duration": 13,
    "start_time": "2022-09-13T19:35:37.035Z"
   },
   {
    "duration": 164,
    "start_time": "2022-09-13T19:35:37.049Z"
   },
   {
    "duration": 2,
    "start_time": "2022-09-13T19:35:37.215Z"
   },
   {
    "duration": 8104,
    "start_time": "2022-09-13T19:35:37.219Z"
   },
   {
    "duration": 367,
    "start_time": "2022-09-13T19:35:45.325Z"
   },
   {
    "duration": 1056,
    "start_time": "2022-09-13T20:59:11.960Z"
   },
   {
    "duration": 1773,
    "start_time": "2022-09-13T20:59:13.017Z"
   },
   {
    "duration": 36,
    "start_time": "2022-09-13T20:59:14.792Z"
   },
   {
    "duration": 100,
    "start_time": "2022-09-13T20:59:14.831Z"
   },
   {
    "duration": 204,
    "start_time": "2022-09-13T20:59:14.933Z"
   },
   {
    "duration": 8,
    "start_time": "2022-09-13T20:59:15.139Z"
   },
   {
    "duration": 58,
    "start_time": "2022-09-13T20:59:15.149Z"
   },
   {
    "duration": 17,
    "start_time": "2022-09-13T20:59:15.209Z"
   },
   {
    "duration": 9,
    "start_time": "2022-09-13T20:59:15.228Z"
   },
   {
    "duration": 10,
    "start_time": "2022-09-13T20:59:15.239Z"
   },
   {
    "duration": 59,
    "start_time": "2022-09-13T20:59:15.251Z"
   },
   {
    "duration": 305,
    "start_time": "2022-09-13T20:59:15.312Z"
   },
   {
    "duration": 6,
    "start_time": "2022-09-13T20:59:15.619Z"
   },
   {
    "duration": 8,
    "start_time": "2022-09-13T20:59:15.626Z"
   },
   {
    "duration": 14,
    "start_time": "2022-09-13T20:59:15.635Z"
   },
   {
    "duration": 53,
    "start_time": "2022-09-13T20:59:15.651Z"
   },
   {
    "duration": 126,
    "start_time": "2022-09-13T20:59:15.706Z"
   },
   {
    "duration": 107,
    "start_time": "2022-09-13T20:59:15.833Z"
   },
   {
    "duration": 75,
    "start_time": "2022-09-13T20:59:15.942Z"
   },
   {
    "duration": 12,
    "start_time": "2022-09-13T20:59:16.018Z"
   },
   {
    "duration": 12,
    "start_time": "2022-09-13T20:59:16.032Z"
   },
   {
    "duration": 3,
    "start_time": "2022-09-13T20:59:16.046Z"
   },
   {
    "duration": 7,
    "start_time": "2022-09-13T20:59:16.106Z"
   },
   {
    "duration": 10,
    "start_time": "2022-09-13T20:59:16.115Z"
   },
   {
    "duration": 181,
    "start_time": "2022-09-13T20:59:16.127Z"
   },
   {
    "duration": 3124,
    "start_time": "2022-09-13T20:59:16.309Z"
   },
   {
    "duration": 7,
    "start_time": "2022-09-13T20:59:19.435Z"
   },
   {
    "duration": 25,
    "start_time": "2022-09-13T20:59:19.446Z"
   },
   {
    "duration": 4,
    "start_time": "2022-09-13T20:59:19.473Z"
   },
   {
    "duration": 30,
    "start_time": "2022-09-13T20:59:19.479Z"
   },
   {
    "duration": 102,
    "start_time": "2022-09-13T20:59:19.511Z"
   },
   {
    "duration": 321,
    "start_time": "2022-09-13T20:59:19.615Z"
   },
   {
    "duration": 10,
    "start_time": "2022-09-13T20:59:19.937Z"
   },
   {
    "duration": 7,
    "start_time": "2022-09-13T20:59:19.948Z"
   },
   {
    "duration": 112,
    "start_time": "2022-09-13T20:59:19.956Z"
   },
   {
    "duration": 863,
    "start_time": "2022-09-13T20:59:20.069Z"
   },
   {
    "duration": 9,
    "start_time": "2022-09-13T20:59:20.933Z"
   },
   {
    "duration": 6,
    "start_time": "2022-09-13T20:59:20.943Z"
   },
   {
    "duration": 190,
    "start_time": "2022-09-13T20:59:20.950Z"
   },
   {
    "duration": 309,
    "start_time": "2022-09-13T20:59:21.142Z"
   },
   {
    "duration": 8,
    "start_time": "2022-09-13T20:59:21.453Z"
   },
   {
    "duration": 11,
    "start_time": "2022-09-13T20:59:21.462Z"
   },
   {
    "duration": 112,
    "start_time": "2022-09-13T20:59:21.475Z"
   },
   {
    "duration": 1295,
    "start_time": "2022-09-13T20:59:21.589Z"
   },
   {
    "duration": 8,
    "start_time": "2022-09-13T20:59:22.886Z"
   },
   {
    "duration": 15,
    "start_time": "2022-09-13T20:59:22.895Z"
   },
   {
    "duration": 106,
    "start_time": "2022-09-13T20:59:22.911Z"
   },
   {
    "duration": 146,
    "start_time": "2022-09-13T20:59:23.018Z"
   },
   {
    "duration": 46,
    "start_time": "2022-09-13T20:59:23.166Z"
   },
   {
    "duration": 25,
    "start_time": "2022-09-13T20:59:23.213Z"
   },
   {
    "duration": 21,
    "start_time": "2022-09-13T20:59:23.240Z"
   },
   {
    "duration": 12,
    "start_time": "2022-09-13T20:59:23.263Z"
   },
   {
    "duration": 32,
    "start_time": "2022-09-13T20:59:23.277Z"
   },
   {
    "duration": 15,
    "start_time": "2022-09-13T20:59:23.311Z"
   },
   {
    "duration": 18,
    "start_time": "2022-09-13T20:59:23.328Z"
   },
   {
    "duration": 16,
    "start_time": "2022-09-13T20:59:23.347Z"
   },
   {
    "duration": 152,
    "start_time": "2022-09-13T20:59:23.364Z"
   },
   {
    "duration": 7,
    "start_time": "2022-09-13T20:59:23.517Z"
   },
   {
    "duration": 5,
    "start_time": "2022-09-13T20:59:23.525Z"
   },
   {
    "duration": 17,
    "start_time": "2022-09-13T20:59:23.531Z"
   },
   {
    "duration": 292,
    "start_time": "2022-09-13T20:59:23.550Z"
   },
   {
    "duration": 299,
    "start_time": "2022-09-13T20:59:23.843Z"
   },
   {
    "duration": 269,
    "start_time": "2022-09-13T20:59:24.144Z"
   },
   {
    "duration": 280,
    "start_time": "2022-09-13T20:59:24.415Z"
   },
   {
    "duration": 311,
    "start_time": "2022-09-13T20:59:24.696Z"
   },
   {
    "duration": 124,
    "start_time": "2022-09-13T20:59:25.009Z"
   },
   {
    "duration": 219,
    "start_time": "2022-09-13T20:59:25.135Z"
   },
   {
    "duration": 192,
    "start_time": "2022-09-13T20:59:25.356Z"
   },
   {
    "duration": 186,
    "start_time": "2022-09-13T20:59:25.550Z"
   },
   {
    "duration": 186,
    "start_time": "2022-09-13T20:59:25.737Z"
   },
   {
    "duration": 191,
    "start_time": "2022-09-13T20:59:25.925Z"
   },
   {
    "duration": 199,
    "start_time": "2022-09-13T20:59:26.118Z"
   },
   {
    "duration": 180,
    "start_time": "2022-09-13T20:59:26.319Z"
   },
   {
    "duration": 181,
    "start_time": "2022-09-13T20:59:26.505Z"
   },
   {
    "duration": 635,
    "start_time": "2022-09-13T20:59:26.687Z"
   },
   {
    "duration": 609,
    "start_time": "2022-09-13T20:59:27.325Z"
   },
   {
    "duration": 360,
    "start_time": "2022-09-13T20:59:27.936Z"
   },
   {
    "duration": 18,
    "start_time": "2022-09-13T20:59:28.297Z"
   },
   {
    "duration": 202,
    "start_time": "2022-09-13T20:59:28.317Z"
   },
   {
    "duration": 288,
    "start_time": "2022-09-13T20:59:28.520Z"
   },
   {
    "duration": 181,
    "start_time": "2022-09-13T20:59:28.809Z"
   },
   {
    "duration": 167,
    "start_time": "2022-09-13T20:59:28.995Z"
   },
   {
    "duration": 141,
    "start_time": "2022-09-13T20:59:29.164Z"
   },
   {
    "duration": 259,
    "start_time": "2022-09-13T20:59:29.307Z"
   },
   {
    "duration": 227,
    "start_time": "2022-09-13T20:59:29.568Z"
   },
   {
    "duration": 151,
    "start_time": "2022-09-13T20:59:29.796Z"
   },
   {
    "duration": 140,
    "start_time": "2022-09-13T20:59:29.948Z"
   },
   {
    "duration": 136,
    "start_time": "2022-09-13T20:59:30.090Z"
   },
   {
    "duration": 127,
    "start_time": "2022-09-13T20:59:30.228Z"
   },
   {
    "duration": 167,
    "start_time": "2022-09-13T20:59:30.357Z"
   },
   {
    "duration": 21,
    "start_time": "2022-09-13T20:59:30.525Z"
   },
   {
    "duration": 21,
    "start_time": "2022-09-13T20:59:30.548Z"
   },
   {
    "duration": 14,
    "start_time": "2022-09-13T20:59:30.571Z"
   },
   {
    "duration": 143,
    "start_time": "2022-09-13T20:59:30.586Z"
   },
   {
    "duration": 4,
    "start_time": "2022-09-13T20:59:30.730Z"
   },
   {
    "duration": 8307,
    "start_time": "2022-09-13T20:59:30.736Z"
   },
   {
    "duration": 386,
    "start_time": "2022-09-13T20:59:39.045Z"
   },
   {
    "duration": 14,
    "start_time": "2022-09-13T21:29:16.912Z"
   },
   {
    "duration": 17,
    "start_time": "2022-09-13T21:30:18.551Z"
   },
   {
    "duration": 14,
    "start_time": "2022-09-13T21:36:50.667Z"
   },
   {
    "duration": 17,
    "start_time": "2022-09-13T21:37:03.211Z"
   },
   {
    "duration": 11,
    "start_time": "2022-09-13T21:39:29.322Z"
   },
   {
    "duration": 12,
    "start_time": "2022-09-13T21:39:55.054Z"
   },
   {
    "duration": 13,
    "start_time": "2022-09-13T21:40:06.248Z"
   },
   {
    "duration": 1134,
    "start_time": "2022-09-13T21:41:01.164Z"
   },
   {
    "duration": 1866,
    "start_time": "2022-09-13T21:41:02.300Z"
   },
   {
    "duration": 28,
    "start_time": "2022-09-13T21:41:04.167Z"
   },
   {
    "duration": 90,
    "start_time": "2022-09-13T21:41:04.206Z"
   },
   {
    "duration": 211,
    "start_time": "2022-09-13T21:41:04.297Z"
   },
   {
    "duration": 10,
    "start_time": "2022-09-13T21:41:04.510Z"
   },
   {
    "duration": 11,
    "start_time": "2022-09-13T21:41:04.522Z"
   },
   {
    "duration": 16,
    "start_time": "2022-09-13T21:41:04.535Z"
   },
   {
    "duration": 7,
    "start_time": "2022-09-13T21:41:04.552Z"
   },
   {
    "duration": 13,
    "start_time": "2022-09-13T21:41:04.561Z"
   },
   {
    "duration": 32,
    "start_time": "2022-09-13T21:41:04.575Z"
   },
   {
    "duration": 198,
    "start_time": "2022-09-13T21:41:04.608Z"
   },
   {
    "duration": 8,
    "start_time": "2022-09-13T21:41:04.808Z"
   },
   {
    "duration": 12,
    "start_time": "2022-09-13T21:41:04.818Z"
   },
   {
    "duration": 15,
    "start_time": "2022-09-13T21:41:04.832Z"
   },
   {
    "duration": 5,
    "start_time": "2022-09-13T21:41:04.848Z"
   },
   {
    "duration": 101,
    "start_time": "2022-09-13T21:41:04.855Z"
   },
   {
    "duration": 73,
    "start_time": "2022-09-13T21:41:04.958Z"
   },
   {
    "duration": 25,
    "start_time": "2022-09-13T21:41:05.033Z"
   },
   {
    "duration": 12,
    "start_time": "2022-09-13T21:41:05.059Z"
   },
   {
    "duration": 8,
    "start_time": "2022-09-13T21:41:05.073Z"
   },
   {
    "duration": 24,
    "start_time": "2022-09-13T21:41:05.083Z"
   },
   {
    "duration": 15,
    "start_time": "2022-09-13T21:41:05.109Z"
   },
   {
    "duration": 10,
    "start_time": "2022-09-13T21:41:05.126Z"
   },
   {
    "duration": 91,
    "start_time": "2022-09-13T21:41:05.137Z"
   },
   {
    "duration": 11,
    "start_time": "2022-09-13T21:41:05.230Z"
   },
   {
    "duration": 3016,
    "start_time": "2022-09-13T21:41:05.243Z"
   },
   {
    "duration": 8,
    "start_time": "2022-09-13T21:41:08.262Z"
   },
   {
    "duration": 37,
    "start_time": "2022-09-13T21:41:08.272Z"
   },
   {
    "duration": 7,
    "start_time": "2022-09-13T21:41:08.312Z"
   },
   {
    "duration": 13,
    "start_time": "2022-09-13T21:41:08.321Z"
   },
   {
    "duration": 111,
    "start_time": "2022-09-13T21:41:08.335Z"
   },
   {
    "duration": 322,
    "start_time": "2022-09-13T21:41:08.447Z"
   },
   {
    "duration": 8,
    "start_time": "2022-09-13T21:41:08.771Z"
   },
   {
    "duration": 6,
    "start_time": "2022-09-13T21:41:08.781Z"
   },
   {
    "duration": 120,
    "start_time": "2022-09-13T21:41:08.788Z"
   },
   {
    "duration": 807,
    "start_time": "2022-09-13T21:41:08.914Z"
   },
   {
    "duration": 8,
    "start_time": "2022-09-13T21:41:09.722Z"
   },
   {
    "duration": 5,
    "start_time": "2022-09-13T21:41:09.732Z"
   },
   {
    "duration": 188,
    "start_time": "2022-09-13T21:41:09.739Z"
   },
   {
    "duration": 294,
    "start_time": "2022-09-13T21:41:09.928Z"
   },
   {
    "duration": 7,
    "start_time": "2022-09-13T21:41:10.224Z"
   },
   {
    "duration": 8,
    "start_time": "2022-09-13T21:41:10.233Z"
   },
   {
    "duration": 100,
    "start_time": "2022-09-13T21:41:10.243Z"
   },
   {
    "duration": 1262,
    "start_time": "2022-09-13T21:41:10.344Z"
   },
   {
    "duration": 11,
    "start_time": "2022-09-13T21:41:11.608Z"
   },
   {
    "duration": 27,
    "start_time": "2022-09-13T21:41:11.621Z"
   },
   {
    "duration": 117,
    "start_time": "2022-09-13T21:41:11.649Z"
   },
   {
    "duration": 154,
    "start_time": "2022-09-13T21:41:11.767Z"
   },
   {
    "duration": 34,
    "start_time": "2022-09-13T21:41:11.923Z"
   },
   {
    "duration": 22,
    "start_time": "2022-09-13T21:41:11.959Z"
   },
   {
    "duration": 44,
    "start_time": "2022-09-13T21:41:11.983Z"
   },
   {
    "duration": 11,
    "start_time": "2022-09-13T21:41:12.029Z"
   },
   {
    "duration": 296,
    "start_time": "2022-09-13T21:41:12.041Z"
   },
   {
    "duration": 282,
    "start_time": "2022-09-13T21:41:12.339Z"
   },
   {
    "duration": 153,
    "start_time": "2022-09-13T21:41:12.623Z"
   },
   {
    "duration": 6,
    "start_time": "2022-09-13T21:41:12.777Z"
   },
   {
    "duration": 167,
    "start_time": "2022-09-13T21:41:12.785Z"
   },
   {
    "duration": 8,
    "start_time": "2022-09-13T21:41:12.954Z"
   },
   {
    "duration": 13,
    "start_time": "2022-09-13T21:41:12.964Z"
   },
   {
    "duration": 36,
    "start_time": "2022-09-13T21:41:12.979Z"
   },
   {
    "duration": 14,
    "start_time": "2022-09-13T21:41:13.016Z"
   },
   {
    "duration": 6,
    "start_time": "2022-09-13T21:41:13.032Z"
   },
   {
    "duration": 13,
    "start_time": "2022-09-13T21:41:13.039Z"
   },
   {
    "duration": 11,
    "start_time": "2022-09-13T21:41:13.053Z"
   },
   {
    "duration": 8,
    "start_time": "2022-09-13T21:41:13.066Z"
   },
   {
    "duration": 181,
    "start_time": "2022-09-13T21:41:13.075Z"
   },
   {
    "duration": 10,
    "start_time": "2022-09-13T21:41:13.258Z"
   },
   {
    "duration": 6,
    "start_time": "2022-09-13T21:41:13.270Z"
   },
   {
    "duration": 32,
    "start_time": "2022-09-13T21:41:13.278Z"
   },
   {
    "duration": 369,
    "start_time": "2022-09-13T21:41:13.312Z"
   },
   {
    "duration": 277,
    "start_time": "2022-09-13T21:41:13.682Z"
   },
   {
    "duration": 266,
    "start_time": "2022-09-13T21:41:13.960Z"
   },
   {
    "duration": 273,
    "start_time": "2022-09-13T21:41:14.228Z"
   },
   {
    "duration": 166,
    "start_time": "2022-09-13T21:41:14.505Z"
   },
   {
    "duration": 107,
    "start_time": "2022-09-13T21:41:14.673Z"
   },
   {
    "duration": 189,
    "start_time": "2022-09-13T21:41:14.782Z"
   },
   {
    "duration": 175,
    "start_time": "2022-09-13T21:41:14.973Z"
   },
   {
    "duration": 365,
    "start_time": "2022-09-13T21:41:15.150Z"
   },
   {
    "duration": 168,
    "start_time": "2022-09-13T21:41:15.516Z"
   },
   {
    "duration": 177,
    "start_time": "2022-09-13T21:41:15.685Z"
   },
   {
    "duration": 170,
    "start_time": "2022-09-13T21:41:15.867Z"
   },
   {
    "duration": 164,
    "start_time": "2022-09-13T21:41:16.038Z"
   },
   {
    "duration": 176,
    "start_time": "2022-09-13T21:41:16.207Z"
   },
   {
    "duration": 457,
    "start_time": "2022-09-13T21:41:16.384Z"
   },
   {
    "duration": 567,
    "start_time": "2022-09-13T21:41:16.843Z"
   },
   {
    "duration": 350,
    "start_time": "2022-09-13T21:41:17.411Z"
   },
   {
    "duration": 14,
    "start_time": "2022-09-13T21:41:17.762Z"
   },
   {
    "duration": 172,
    "start_time": "2022-09-13T21:41:17.777Z"
   },
   {
    "duration": 171,
    "start_time": "2022-09-13T21:41:17.951Z"
   },
   {
    "duration": 159,
    "start_time": "2022-09-13T21:41:18.124Z"
   },
   {
    "duration": 168,
    "start_time": "2022-09-13T21:41:18.284Z"
   },
   {
    "duration": 137,
    "start_time": "2022-09-13T21:41:18.453Z"
   },
   {
    "duration": 157,
    "start_time": "2022-09-13T21:41:18.592Z"
   },
   {
    "duration": 231,
    "start_time": "2022-09-13T21:41:18.751Z"
   },
   {
    "duration": 162,
    "start_time": "2022-09-13T21:41:18.983Z"
   },
   {
    "duration": 146,
    "start_time": "2022-09-13T21:41:19.147Z"
   },
   {
    "duration": 243,
    "start_time": "2022-09-13T21:41:19.295Z"
   },
   {
    "duration": 125,
    "start_time": "2022-09-13T21:41:19.539Z"
   },
   {
    "duration": 155,
    "start_time": "2022-09-13T21:41:19.666Z"
   },
   {
    "duration": 20,
    "start_time": "2022-09-13T21:41:19.823Z"
   },
   {
    "duration": 7,
    "start_time": "2022-09-13T21:41:19.845Z"
   },
   {
    "duration": 9,
    "start_time": "2022-09-13T21:41:19.853Z"
   },
   {
    "duration": 164,
    "start_time": "2022-09-13T21:41:19.863Z"
   },
   {
    "duration": 3,
    "start_time": "2022-09-13T21:41:20.028Z"
   },
   {
    "duration": 8529,
    "start_time": "2022-09-13T21:41:20.033Z"
   },
   {
    "duration": 376,
    "start_time": "2022-09-13T21:41:28.563Z"
   },
   {
    "duration": 179,
    "start_time": "2022-09-13T21:43:52.623Z"
   },
   {
    "duration": 24,
    "start_time": "2022-09-13T21:49:35.412Z"
   },
   {
    "duration": 119,
    "start_time": "2022-09-13T21:52:49.722Z"
   },
   {
    "duration": 112,
    "start_time": "2022-09-13T21:52:59.058Z"
   },
   {
    "duration": 1130,
    "start_time": "2022-09-13T21:54:46.415Z"
   },
   {
    "duration": 1876,
    "start_time": "2022-09-13T21:54:47.547Z"
   },
   {
    "duration": 30,
    "start_time": "2022-09-13T21:54:49.425Z"
   },
   {
    "duration": 108,
    "start_time": "2022-09-13T21:54:49.458Z"
   },
   {
    "duration": 205,
    "start_time": "2022-09-13T21:54:49.568Z"
   },
   {
    "duration": 10,
    "start_time": "2022-09-13T21:54:49.775Z"
   },
   {
    "duration": 30,
    "start_time": "2022-09-13T21:54:49.786Z"
   },
   {
    "duration": 19,
    "start_time": "2022-09-13T21:54:49.817Z"
   },
   {
    "duration": 6,
    "start_time": "2022-09-13T21:54:49.838Z"
   },
   {
    "duration": 9,
    "start_time": "2022-09-13T21:54:49.846Z"
   },
   {
    "duration": 7,
    "start_time": "2022-09-13T21:54:49.856Z"
   },
   {
    "duration": 184,
    "start_time": "2022-09-13T21:54:49.865Z"
   },
   {
    "duration": 6,
    "start_time": "2022-09-13T21:54:50.051Z"
   },
   {
    "duration": 11,
    "start_time": "2022-09-13T21:54:50.058Z"
   },
   {
    "duration": 13,
    "start_time": "2022-09-13T21:54:50.071Z"
   },
   {
    "duration": 23,
    "start_time": "2022-09-13T21:54:50.086Z"
   },
   {
    "duration": 81,
    "start_time": "2022-09-13T21:54:50.111Z"
   },
   {
    "duration": 62,
    "start_time": "2022-09-13T21:54:50.193Z"
   },
   {
    "duration": 23,
    "start_time": "2022-09-13T21:54:50.256Z"
   },
   {
    "duration": 27,
    "start_time": "2022-09-13T21:54:50.281Z"
   },
   {
    "duration": 11,
    "start_time": "2022-09-13T21:54:50.309Z"
   },
   {
    "duration": 3,
    "start_time": "2022-09-13T21:54:50.322Z"
   },
   {
    "duration": 14,
    "start_time": "2022-09-13T21:54:50.326Z"
   },
   {
    "duration": 11,
    "start_time": "2022-09-13T21:54:50.342Z"
   },
   {
    "duration": 97,
    "start_time": "2022-09-13T21:54:50.355Z"
   },
   {
    "duration": 10,
    "start_time": "2022-09-13T21:54:50.454Z"
   },
   {
    "duration": 2801,
    "start_time": "2022-09-13T21:54:50.466Z"
   },
   {
    "duration": 7,
    "start_time": "2022-09-13T21:54:53.271Z"
   },
   {
    "duration": 36,
    "start_time": "2022-09-13T21:54:53.279Z"
   },
   {
    "duration": 4,
    "start_time": "2022-09-13T21:54:53.317Z"
   },
   {
    "duration": 9,
    "start_time": "2022-09-13T21:54:53.323Z"
   },
   {
    "duration": 111,
    "start_time": "2022-09-13T21:54:53.333Z"
   },
   {
    "duration": 305,
    "start_time": "2022-09-13T21:54:53.446Z"
   },
   {
    "duration": 10,
    "start_time": "2022-09-13T21:54:53.752Z"
   },
   {
    "duration": 6,
    "start_time": "2022-09-13T21:54:53.763Z"
   },
   {
    "duration": 110,
    "start_time": "2022-09-13T21:54:53.771Z"
   },
   {
    "duration": 833,
    "start_time": "2022-09-13T21:54:53.883Z"
   },
   {
    "duration": 10,
    "start_time": "2022-09-13T21:54:54.718Z"
   },
   {
    "duration": 6,
    "start_time": "2022-09-13T21:54:54.730Z"
   },
   {
    "duration": 189,
    "start_time": "2022-09-13T21:54:54.738Z"
   },
   {
    "duration": 302,
    "start_time": "2022-09-13T21:54:54.929Z"
   },
   {
    "duration": 8,
    "start_time": "2022-09-13T21:54:55.232Z"
   },
   {
    "duration": 9,
    "start_time": "2022-09-13T21:54:55.241Z"
   },
   {
    "duration": 106,
    "start_time": "2022-09-13T21:54:55.251Z"
   },
   {
    "duration": 1300,
    "start_time": "2022-09-13T21:54:55.358Z"
   },
   {
    "duration": 9,
    "start_time": "2022-09-13T21:54:56.659Z"
   },
   {
    "duration": 6,
    "start_time": "2022-09-13T21:54:56.669Z"
   },
   {
    "duration": 111,
    "start_time": "2022-09-13T21:54:56.677Z"
   },
   {
    "duration": 155,
    "start_time": "2022-09-13T21:54:56.790Z"
   },
   {
    "duration": 31,
    "start_time": "2022-09-13T21:54:56.946Z"
   },
   {
    "duration": 36,
    "start_time": "2022-09-13T21:54:56.978Z"
   },
   {
    "duration": 20,
    "start_time": "2022-09-13T21:54:57.016Z"
   },
   {
    "duration": 13,
    "start_time": "2022-09-13T21:54:57.037Z"
   },
   {
    "duration": 366,
    "start_time": "2022-09-13T21:54:57.051Z"
   },
   {
    "duration": 290,
    "start_time": "2022-09-13T21:54:57.419Z"
   },
   {
    "duration": 159,
    "start_time": "2022-09-13T21:54:57.711Z"
   },
   {
    "duration": 5,
    "start_time": "2022-09-13T21:54:57.871Z"
   },
   {
    "duration": 192,
    "start_time": "2022-09-13T21:54:57.878Z"
   },
   {
    "duration": 9,
    "start_time": "2022-09-13T21:54:58.071Z"
   },
   {
    "duration": 25,
    "start_time": "2022-09-13T21:54:58.081Z"
   },
   {
    "duration": 19,
    "start_time": "2022-09-13T21:54:58.107Z"
   },
   {
    "duration": 14,
    "start_time": "2022-09-13T21:54:58.127Z"
   },
   {
    "duration": 6,
    "start_time": "2022-09-13T21:54:58.142Z"
   },
   {
    "duration": 14,
    "start_time": "2022-09-13T21:54:58.150Z"
   },
   {
    "duration": 11,
    "start_time": "2022-09-13T21:54:58.166Z"
   },
   {
    "duration": 34,
    "start_time": "2022-09-13T21:54:58.178Z"
   },
   {
    "duration": 164,
    "start_time": "2022-09-13T21:54:58.214Z"
   },
   {
    "duration": 8,
    "start_time": "2022-09-13T21:54:58.379Z"
   },
   {
    "duration": 18,
    "start_time": "2022-09-13T21:54:58.388Z"
   },
   {
    "duration": 16,
    "start_time": "2022-09-13T21:54:58.408Z"
   },
   {
    "duration": 382,
    "start_time": "2022-09-13T21:54:58.426Z"
   },
   {
    "duration": 276,
    "start_time": "2022-09-13T21:54:58.810Z"
   },
   {
    "duration": 270,
    "start_time": "2022-09-13T21:54:59.088Z"
   },
   {
    "duration": 270,
    "start_time": "2022-09-13T21:54:59.359Z"
   },
   {
    "duration": 168,
    "start_time": "2022-09-13T21:54:59.631Z"
   },
   {
    "duration": 116,
    "start_time": "2022-09-13T21:54:59.801Z"
   },
   {
    "duration": 175,
    "start_time": "2022-09-13T21:54:59.919Z"
   },
   {
    "duration": 183,
    "start_time": "2022-09-13T21:55:00.095Z"
   },
   {
    "duration": 372,
    "start_time": "2022-09-13T21:55:00.279Z"
   },
   {
    "duration": 181,
    "start_time": "2022-09-13T21:55:00.653Z"
   },
   {
    "duration": 190,
    "start_time": "2022-09-13T21:55:00.836Z"
   },
   {
    "duration": 189,
    "start_time": "2022-09-13T21:55:01.032Z"
   },
   {
    "duration": 168,
    "start_time": "2022-09-13T21:55:01.224Z"
   },
   {
    "duration": 186,
    "start_time": "2022-09-13T21:55:01.394Z"
   },
   {
    "duration": 463,
    "start_time": "2022-09-13T21:55:01.581Z"
   },
   {
    "duration": 559,
    "start_time": "2022-09-13T21:55:02.046Z"
   },
   {
    "duration": 359,
    "start_time": "2022-09-13T21:55:02.607Z"
   },
   {
    "duration": 12,
    "start_time": "2022-09-13T21:55:02.968Z"
   },
   {
    "duration": 161,
    "start_time": "2022-09-13T21:55:02.982Z"
   },
   {
    "duration": 159,
    "start_time": "2022-09-13T21:55:03.144Z"
   },
   {
    "duration": 160,
    "start_time": "2022-09-13T21:55:03.304Z"
   },
   {
    "duration": 160,
    "start_time": "2022-09-13T21:55:03.465Z"
   },
   {
    "duration": 143,
    "start_time": "2022-09-13T21:55:03.626Z"
   },
   {
    "duration": 161,
    "start_time": "2022-09-13T21:55:03.770Z"
   },
   {
    "duration": 223,
    "start_time": "2022-09-13T21:55:03.933Z"
   },
   {
    "duration": 162,
    "start_time": "2022-09-13T21:55:04.158Z"
   },
   {
    "duration": 141,
    "start_time": "2022-09-13T21:55:04.321Z"
   },
   {
    "duration": 231,
    "start_time": "2022-09-13T21:55:04.463Z"
   },
   {
    "duration": 126,
    "start_time": "2022-09-13T21:55:04.695Z"
   },
   {
    "duration": 148,
    "start_time": "2022-09-13T21:55:04.823Z"
   },
   {
    "duration": 19,
    "start_time": "2022-09-13T21:55:04.973Z"
   },
   {
    "duration": 18,
    "start_time": "2022-09-13T21:55:04.993Z"
   },
   {
    "duration": 30,
    "start_time": "2022-09-13T21:55:05.013Z"
   },
   {
    "duration": 139,
    "start_time": "2022-09-13T21:55:05.044Z"
   },
   {
    "duration": 3,
    "start_time": "2022-09-13T21:55:05.184Z"
   },
   {
    "duration": 8012,
    "start_time": "2022-09-13T21:55:05.189Z"
   },
   {
    "duration": 362,
    "start_time": "2022-09-13T21:55:13.203Z"
   },
   {
    "duration": 107,
    "start_time": "2022-09-13T21:55:13.567Z"
   },
   {
    "duration": 88,
    "start_time": "2022-09-13T21:55:13.675Z"
   },
   {
    "duration": 1146,
    "start_time": "2022-09-13T22:03:57.178Z"
   },
   {
    "duration": 1767,
    "start_time": "2022-09-13T22:03:58.326Z"
   },
   {
    "duration": 36,
    "start_time": "2022-09-13T22:04:00.095Z"
   },
   {
    "duration": 95,
    "start_time": "2022-09-13T22:04:00.133Z"
   },
   {
    "duration": 204,
    "start_time": "2022-09-13T22:04:00.230Z"
   },
   {
    "duration": 9,
    "start_time": "2022-09-13T22:04:00.436Z"
   },
   {
    "duration": 21,
    "start_time": "2022-09-13T22:04:00.446Z"
   },
   {
    "duration": 19,
    "start_time": "2022-09-13T22:04:00.468Z"
   },
   {
    "duration": 20,
    "start_time": "2022-09-13T22:04:00.489Z"
   },
   {
    "duration": 24,
    "start_time": "2022-09-13T22:04:00.511Z"
   },
   {
    "duration": 12,
    "start_time": "2022-09-13T22:04:00.537Z"
   },
   {
    "duration": 174,
    "start_time": "2022-09-13T22:04:00.551Z"
   },
   {
    "duration": 7,
    "start_time": "2022-09-13T22:04:00.727Z"
   },
   {
    "duration": 7,
    "start_time": "2022-09-13T22:04:00.738Z"
   },
   {
    "duration": 22,
    "start_time": "2022-09-13T22:04:00.747Z"
   },
   {
    "duration": 6,
    "start_time": "2022-09-13T22:04:00.771Z"
   },
   {
    "duration": 92,
    "start_time": "2022-09-13T22:04:00.778Z"
   },
   {
    "duration": 62,
    "start_time": "2022-09-13T22:04:00.872Z"
   },
   {
    "duration": 26,
    "start_time": "2022-09-13T22:04:00.936Z"
   },
   {
    "duration": 32,
    "start_time": "2022-09-13T22:04:00.963Z"
   },
   {
    "duration": 11,
    "start_time": "2022-09-13T22:04:00.997Z"
   },
   {
    "duration": 4,
    "start_time": "2022-09-13T22:04:01.009Z"
   },
   {
    "duration": 22,
    "start_time": "2022-09-13T22:04:01.015Z"
   },
   {
    "duration": 13,
    "start_time": "2022-09-13T22:04:01.038Z"
   },
   {
    "duration": 83,
    "start_time": "2022-09-13T22:04:01.052Z"
   },
   {
    "duration": 12,
    "start_time": "2022-09-13T22:04:01.136Z"
   },
   {
    "duration": 2809,
    "start_time": "2022-09-13T22:04:01.149Z"
   },
   {
    "duration": 7,
    "start_time": "2022-09-13T22:04:03.960Z"
   },
   {
    "duration": 24,
    "start_time": "2022-09-13T22:04:03.969Z"
   },
   {
    "duration": 3,
    "start_time": "2022-09-13T22:04:04.005Z"
   },
   {
    "duration": 25,
    "start_time": "2022-09-13T22:04:04.010Z"
   },
   {
    "duration": 105,
    "start_time": "2022-09-13T22:04:04.036Z"
   },
   {
    "duration": 318,
    "start_time": "2022-09-13T22:04:04.142Z"
   },
   {
    "duration": 9,
    "start_time": "2022-09-13T22:04:04.461Z"
   },
   {
    "duration": 7,
    "start_time": "2022-09-13T22:04:04.472Z"
   },
   {
    "duration": 103,
    "start_time": "2022-09-13T22:04:04.480Z"
   },
   {
    "duration": 818,
    "start_time": "2022-09-13T22:04:04.585Z"
   },
   {
    "duration": 10,
    "start_time": "2022-09-13T22:04:05.405Z"
   },
   {
    "duration": 9,
    "start_time": "2022-09-13T22:04:05.416Z"
   },
   {
    "duration": 186,
    "start_time": "2022-09-13T22:04:05.426Z"
   },
   {
    "duration": 289,
    "start_time": "2022-09-13T22:04:05.618Z"
   },
   {
    "duration": 9,
    "start_time": "2022-09-13T22:04:05.909Z"
   },
   {
    "duration": 8,
    "start_time": "2022-09-13T22:04:05.919Z"
   },
   {
    "duration": 104,
    "start_time": "2022-09-13T22:04:05.929Z"
   },
   {
    "duration": 1187,
    "start_time": "2022-09-13T22:04:06.034Z"
   },
   {
    "duration": 10,
    "start_time": "2022-09-13T22:04:07.222Z"
   },
   {
    "duration": 13,
    "start_time": "2022-09-13T22:04:07.234Z"
   },
   {
    "duration": 127,
    "start_time": "2022-09-13T22:04:07.249Z"
   },
   {
    "duration": 162,
    "start_time": "2022-09-13T22:04:07.378Z"
   },
   {
    "duration": 33,
    "start_time": "2022-09-13T22:04:07.542Z"
   },
   {
    "duration": 39,
    "start_time": "2022-09-13T22:04:07.576Z"
   },
   {
    "duration": 22,
    "start_time": "2022-09-13T22:04:07.617Z"
   },
   {
    "duration": 13,
    "start_time": "2022-09-13T22:04:07.640Z"
   },
   {
    "duration": 305,
    "start_time": "2022-09-13T22:04:07.655Z"
   },
   {
    "duration": 291,
    "start_time": "2022-09-13T22:04:07.961Z"
   },
   {
    "duration": 156,
    "start_time": "2022-09-13T22:04:08.253Z"
   },
   {
    "duration": 6,
    "start_time": "2022-09-13T22:04:08.410Z"
   },
   {
    "duration": 166,
    "start_time": "2022-09-13T22:04:08.418Z"
   },
   {
    "duration": 7,
    "start_time": "2022-09-13T22:04:08.585Z"
   },
   {
    "duration": 23,
    "start_time": "2022-09-13T22:04:08.594Z"
   },
   {
    "duration": 16,
    "start_time": "2022-09-13T22:04:08.619Z"
   },
   {
    "duration": 13,
    "start_time": "2022-09-13T22:04:08.637Z"
   },
   {
    "duration": 6,
    "start_time": "2022-09-13T22:04:08.651Z"
   },
   {
    "duration": 12,
    "start_time": "2022-09-13T22:04:08.659Z"
   },
   {
    "duration": 33,
    "start_time": "2022-09-13T22:04:08.673Z"
   },
   {
    "duration": 8,
    "start_time": "2022-09-13T22:04:08.708Z"
   },
   {
    "duration": 154,
    "start_time": "2022-09-13T22:04:08.717Z"
   },
   {
    "duration": 8,
    "start_time": "2022-09-13T22:04:08.872Z"
   },
   {
    "duration": 5,
    "start_time": "2022-09-13T22:04:08.882Z"
   },
   {
    "duration": 29,
    "start_time": "2022-09-13T22:04:08.888Z"
   },
   {
    "duration": 377,
    "start_time": "2022-09-13T22:04:08.919Z"
   },
   {
    "duration": 263,
    "start_time": "2022-09-13T22:04:09.298Z"
   },
   {
    "duration": 244,
    "start_time": "2022-09-13T22:04:09.563Z"
   },
   {
    "duration": 265,
    "start_time": "2022-09-13T22:04:09.808Z"
   },
   {
    "duration": 165,
    "start_time": "2022-09-13T22:04:10.074Z"
   },
   {
    "duration": 103,
    "start_time": "2022-09-13T22:04:10.241Z"
   },
   {
    "duration": 176,
    "start_time": "2022-09-13T22:04:10.346Z"
   },
   {
    "duration": 153,
    "start_time": "2022-09-13T22:04:10.523Z"
   },
   {
    "duration": 311,
    "start_time": "2022-09-13T22:04:10.677Z"
   },
   {
    "duration": 160,
    "start_time": "2022-09-13T22:04:10.989Z"
   },
   {
    "duration": 168,
    "start_time": "2022-09-13T22:04:11.151Z"
   },
   {
    "duration": 164,
    "start_time": "2022-09-13T22:04:11.321Z"
   },
   {
    "duration": 170,
    "start_time": "2022-09-13T22:04:11.486Z"
   },
   {
    "duration": 175,
    "start_time": "2022-09-13T22:04:11.657Z"
   },
   {
    "duration": 439,
    "start_time": "2022-09-13T22:04:11.834Z"
   },
   {
    "duration": 561,
    "start_time": "2022-09-13T22:04:12.275Z"
   },
   {
    "duration": 311,
    "start_time": "2022-09-13T22:04:12.837Z"
   },
   {
    "duration": 13,
    "start_time": "2022-09-13T22:04:13.149Z"
   },
   {
    "duration": 154,
    "start_time": "2022-09-13T22:04:13.163Z"
   },
   {
    "duration": 145,
    "start_time": "2022-09-13T22:04:13.318Z"
   },
   {
    "duration": 146,
    "start_time": "2022-09-13T22:04:13.465Z"
   },
   {
    "duration": 156,
    "start_time": "2022-09-13T22:04:13.613Z"
   },
   {
    "duration": 137,
    "start_time": "2022-09-13T22:04:13.771Z"
   },
   {
    "duration": 149,
    "start_time": "2022-09-13T22:04:13.909Z"
   },
   {
    "duration": 212,
    "start_time": "2022-09-13T22:04:14.060Z"
   },
   {
    "duration": 149,
    "start_time": "2022-09-13T22:04:14.274Z"
   },
   {
    "duration": 137,
    "start_time": "2022-09-13T22:04:14.425Z"
   },
   {
    "duration": 223,
    "start_time": "2022-09-13T22:04:14.563Z"
   },
   {
    "duration": 122,
    "start_time": "2022-09-13T22:04:14.788Z"
   },
   {
    "duration": 148,
    "start_time": "2022-09-13T22:04:14.911Z"
   },
   {
    "duration": 19,
    "start_time": "2022-09-13T22:04:15.060Z"
   },
   {
    "duration": 6,
    "start_time": "2022-09-13T22:04:15.080Z"
   },
   {
    "duration": 19,
    "start_time": "2022-09-13T22:04:15.087Z"
   },
   {
    "duration": 138,
    "start_time": "2022-09-13T22:04:15.107Z"
   },
   {
    "duration": 3,
    "start_time": "2022-09-13T22:04:15.246Z"
   },
   {
    "duration": 7689,
    "start_time": "2022-09-13T22:04:15.250Z"
   },
   {
    "duration": 368,
    "start_time": "2022-09-13T22:04:22.942Z"
   },
   {
    "duration": 109,
    "start_time": "2022-09-13T22:04:23.311Z"
   },
   {
    "duration": 95,
    "start_time": "2022-09-13T22:04:23.422Z"
   },
   {
    "duration": 47,
    "start_time": "2022-09-13T22:10:02.697Z"
   },
   {
    "duration": 6,
    "start_time": "2022-09-13T22:10:06.507Z"
   },
   {
    "duration": 6,
    "start_time": "2022-09-13T22:10:07.156Z"
   },
   {
    "duration": 6,
    "start_time": "2022-09-13T22:10:11.677Z"
   },
   {
    "duration": 1303,
    "start_time": "2022-09-13T22:11:08.014Z"
   },
   {
    "duration": 2045,
    "start_time": "2022-09-13T22:11:09.319Z"
   },
   {
    "duration": 30,
    "start_time": "2022-09-13T22:11:11.368Z"
   },
   {
    "duration": 81,
    "start_time": "2022-09-13T22:11:11.399Z"
   },
   {
    "duration": 213,
    "start_time": "2022-09-13T22:11:11.482Z"
   },
   {
    "duration": 8,
    "start_time": "2022-09-13T22:11:11.697Z"
   },
   {
    "duration": 19,
    "start_time": "2022-09-13T22:11:11.707Z"
   },
   {
    "duration": 20,
    "start_time": "2022-09-13T22:11:11.727Z"
   },
   {
    "duration": 9,
    "start_time": "2022-09-13T22:11:11.749Z"
   },
   {
    "duration": 14,
    "start_time": "2022-09-13T22:11:11.759Z"
   },
   {
    "duration": 16,
    "start_time": "2022-09-13T22:11:11.774Z"
   },
   {
    "duration": 166,
    "start_time": "2022-09-13T22:11:11.792Z"
   },
   {
    "duration": 6,
    "start_time": "2022-09-13T22:11:11.960Z"
   },
   {
    "duration": 5,
    "start_time": "2022-09-13T22:11:11.967Z"
   },
   {
    "duration": 14,
    "start_time": "2022-09-13T22:11:11.973Z"
   },
   {
    "duration": 5,
    "start_time": "2022-09-13T22:11:11.988Z"
   },
   {
    "duration": 95,
    "start_time": "2022-09-13T22:11:11.994Z"
   },
   {
    "duration": 56,
    "start_time": "2022-09-13T22:11:12.090Z"
   },
   {
    "duration": 23,
    "start_time": "2022-09-13T22:11:12.148Z"
   },
   {
    "duration": 12,
    "start_time": "2022-09-13T22:11:12.172Z"
   },
   {
    "duration": 8,
    "start_time": "2022-09-13T22:11:12.186Z"
   },
   {
    "duration": 28,
    "start_time": "2022-09-13T22:11:12.195Z"
   },
   {
    "duration": 8,
    "start_time": "2022-09-13T22:11:12.225Z"
   },
   {
    "duration": 10,
    "start_time": "2022-09-13T22:11:12.234Z"
   },
   {
    "duration": 89,
    "start_time": "2022-09-13T22:11:12.246Z"
   },
   {
    "duration": 11,
    "start_time": "2022-09-13T22:11:12.336Z"
   },
   {
    "duration": 3001,
    "start_time": "2022-09-13T22:11:12.351Z"
   },
   {
    "duration": 8,
    "start_time": "2022-09-13T22:11:15.354Z"
   },
   {
    "duration": 23,
    "start_time": "2022-09-13T22:11:15.364Z"
   },
   {
    "duration": 3,
    "start_time": "2022-09-13T22:11:15.389Z"
   },
   {
    "duration": 8,
    "start_time": "2022-09-13T22:11:15.394Z"
   },
   {
    "duration": 100,
    "start_time": "2022-09-13T22:11:15.422Z"
   },
   {
    "duration": 354,
    "start_time": "2022-09-13T22:11:15.523Z"
   },
   {
    "duration": 9,
    "start_time": "2022-09-13T22:11:15.879Z"
   },
   {
    "duration": 8,
    "start_time": "2022-09-13T22:11:15.890Z"
   },
   {
    "duration": 103,
    "start_time": "2022-09-13T22:11:15.899Z"
   },
   {
    "duration": 823,
    "start_time": "2022-09-13T22:11:16.004Z"
   },
   {
    "duration": 9,
    "start_time": "2022-09-13T22:11:16.828Z"
   },
   {
    "duration": 7,
    "start_time": "2022-09-13T22:11:16.838Z"
   },
   {
    "duration": 184,
    "start_time": "2022-09-13T22:11:16.846Z"
   },
   {
    "duration": 314,
    "start_time": "2022-09-13T22:11:17.032Z"
   },
   {
    "duration": 8,
    "start_time": "2022-09-13T22:11:17.347Z"
   },
   {
    "duration": 23,
    "start_time": "2022-09-13T22:11:17.357Z"
   },
   {
    "duration": 92,
    "start_time": "2022-09-13T22:11:17.382Z"
   },
   {
    "duration": 1283,
    "start_time": "2022-09-13T22:11:17.476Z"
   },
   {
    "duration": 10,
    "start_time": "2022-09-13T22:11:18.761Z"
   },
   {
    "duration": 9,
    "start_time": "2022-09-13T22:11:18.772Z"
   },
   {
    "duration": 136,
    "start_time": "2022-09-13T22:11:18.783Z"
   },
   {
    "duration": 191,
    "start_time": "2022-09-13T22:11:18.923Z"
   },
   {
    "duration": 33,
    "start_time": "2022-09-13T22:11:19.115Z"
   },
   {
    "duration": 21,
    "start_time": "2022-09-13T22:11:19.150Z"
   },
   {
    "duration": 21,
    "start_time": "2022-09-13T22:11:19.173Z"
   },
   {
    "duration": 35,
    "start_time": "2022-09-13T22:11:19.195Z"
   },
   {
    "duration": 282,
    "start_time": "2022-09-13T22:11:19.231Z"
   },
   {
    "duration": 283,
    "start_time": "2022-09-13T22:11:19.515Z"
   },
   {
    "duration": 143,
    "start_time": "2022-09-13T22:11:19.800Z"
   },
   {
    "duration": 5,
    "start_time": "2022-09-13T22:11:19.945Z"
   },
   {
    "duration": 166,
    "start_time": "2022-09-13T22:11:19.952Z"
   },
   {
    "duration": 7,
    "start_time": "2022-09-13T22:11:20.122Z"
   },
   {
    "duration": 16,
    "start_time": "2022-09-13T22:11:20.130Z"
   },
   {
    "duration": 15,
    "start_time": "2022-09-13T22:11:20.148Z"
   },
   {
    "duration": 13,
    "start_time": "2022-09-13T22:11:20.165Z"
   },
   {
    "duration": 6,
    "start_time": "2022-09-13T22:11:20.179Z"
   },
   {
    "duration": 36,
    "start_time": "2022-09-13T22:11:20.187Z"
   },
   {
    "duration": 11,
    "start_time": "2022-09-13T22:11:20.224Z"
   },
   {
    "duration": 8,
    "start_time": "2022-09-13T22:11:20.237Z"
   },
   {
    "duration": 168,
    "start_time": "2022-09-13T22:11:20.247Z"
   },
   {
    "duration": 9,
    "start_time": "2022-09-13T22:11:20.417Z"
   },
   {
    "duration": 5,
    "start_time": "2022-09-13T22:11:20.428Z"
   },
   {
    "duration": 17,
    "start_time": "2022-09-13T22:11:20.434Z"
   },
   {
    "duration": 375,
    "start_time": "2022-09-13T22:11:20.452Z"
   },
   {
    "duration": 268,
    "start_time": "2022-09-13T22:11:20.828Z"
   },
   {
    "duration": 251,
    "start_time": "2022-09-13T22:11:21.098Z"
   },
   {
    "duration": 261,
    "start_time": "2022-09-13T22:11:21.350Z"
   },
   {
    "duration": 161,
    "start_time": "2022-09-13T22:11:21.613Z"
   },
   {
    "duration": 107,
    "start_time": "2022-09-13T22:11:21.775Z"
   },
   {
    "duration": 182,
    "start_time": "2022-09-13T22:11:21.884Z"
   },
   {
    "duration": 165,
    "start_time": "2022-09-13T22:11:22.067Z"
   },
   {
    "duration": 300,
    "start_time": "2022-09-13T22:11:22.233Z"
   },
   {
    "duration": 156,
    "start_time": "2022-09-13T22:11:22.535Z"
   },
   {
    "duration": 171,
    "start_time": "2022-09-13T22:11:22.697Z"
   },
   {
    "duration": 160,
    "start_time": "2022-09-13T22:11:22.870Z"
   },
   {
    "duration": 161,
    "start_time": "2022-09-13T22:11:23.032Z"
   },
   {
    "duration": 182,
    "start_time": "2022-09-13T22:11:23.195Z"
   },
   {
    "duration": 427,
    "start_time": "2022-09-13T22:11:23.378Z"
   },
   {
    "duration": 544,
    "start_time": "2022-09-13T22:11:23.806Z"
   },
   {
    "duration": 299,
    "start_time": "2022-09-13T22:11:24.351Z"
   },
   {
    "duration": 13,
    "start_time": "2022-09-13T22:11:24.652Z"
   },
   {
    "duration": 160,
    "start_time": "2022-09-13T22:11:24.666Z"
   },
   {
    "duration": 164,
    "start_time": "2022-09-13T22:11:24.827Z"
   },
   {
    "duration": 168,
    "start_time": "2022-09-13T22:11:24.993Z"
   },
   {
    "duration": 148,
    "start_time": "2022-09-13T22:11:25.162Z"
   },
   {
    "duration": 137,
    "start_time": "2022-09-13T22:11:25.312Z"
   },
   {
    "duration": 155,
    "start_time": "2022-09-13T22:11:25.450Z"
   },
   {
    "duration": 234,
    "start_time": "2022-09-13T22:11:25.607Z"
   },
   {
    "duration": 158,
    "start_time": "2022-09-13T22:11:25.843Z"
   },
   {
    "duration": 139,
    "start_time": "2022-09-13T22:11:26.003Z"
   },
   {
    "duration": 221,
    "start_time": "2022-09-13T22:11:26.143Z"
   },
   {
    "duration": 121,
    "start_time": "2022-09-13T22:11:26.366Z"
   },
   {
    "duration": 141,
    "start_time": "2022-09-13T22:11:26.488Z"
   },
   {
    "duration": 19,
    "start_time": "2022-09-13T22:11:26.631Z"
   },
   {
    "duration": 6,
    "start_time": "2022-09-13T22:11:26.652Z"
   },
   {
    "duration": 9,
    "start_time": "2022-09-13T22:11:26.659Z"
   },
   {
    "duration": 153,
    "start_time": "2022-09-13T22:11:26.669Z"
   },
   {
    "duration": 2,
    "start_time": "2022-09-13T22:11:26.824Z"
   },
   {
    "duration": 7736,
    "start_time": "2022-09-13T22:11:26.828Z"
   },
   {
    "duration": 374,
    "start_time": "2022-09-13T22:11:34.566Z"
   },
   {
    "duration": 114,
    "start_time": "2022-09-13T22:11:34.941Z"
   },
   {
    "duration": 102,
    "start_time": "2022-09-13T22:11:35.057Z"
   },
   {
    "duration": 62,
    "start_time": "2022-09-16T09:14:47.745Z"
   },
   {
    "duration": 1255,
    "start_time": "2022-09-16T09:14:53.030Z"
   },
   {
    "duration": 1961,
    "start_time": "2022-09-16T09:14:54.287Z"
   },
   {
    "duration": 40,
    "start_time": "2022-09-16T09:14:56.249Z"
   },
   {
    "duration": 81,
    "start_time": "2022-09-16T09:14:56.291Z"
   },
   {
    "duration": 224,
    "start_time": "2022-09-16T09:14:56.376Z"
   },
   {
    "duration": 8,
    "start_time": "2022-09-16T09:14:56.601Z"
   },
   {
    "duration": 9,
    "start_time": "2022-09-16T09:14:56.611Z"
   },
   {
    "duration": 17,
    "start_time": "2022-09-16T09:14:56.621Z"
   },
   {
    "duration": 5,
    "start_time": "2022-09-16T09:14:56.639Z"
   },
   {
    "duration": 47,
    "start_time": "2022-09-16T09:14:56.645Z"
   },
   {
    "duration": 7,
    "start_time": "2022-09-16T09:14:56.693Z"
   },
   {
    "duration": 172,
    "start_time": "2022-09-16T09:14:56.702Z"
   },
   {
    "duration": 16,
    "start_time": "2022-09-16T09:14:56.876Z"
   },
   {
    "duration": 4,
    "start_time": "2022-09-16T09:14:56.895Z"
   },
   {
    "duration": 15,
    "start_time": "2022-09-16T09:14:56.900Z"
   },
   {
    "duration": 4,
    "start_time": "2022-09-16T09:14:56.916Z"
   },
   {
    "duration": 90,
    "start_time": "2022-09-16T09:14:56.921Z"
   },
   {
    "duration": 50,
    "start_time": "2022-09-16T09:14:57.013Z"
   },
   {
    "duration": 36,
    "start_time": "2022-09-16T09:14:57.064Z"
   },
   {
    "duration": 12,
    "start_time": "2022-09-16T09:14:57.101Z"
   },
   {
    "duration": 8,
    "start_time": "2022-09-16T09:14:57.115Z"
   },
   {
    "duration": 4,
    "start_time": "2022-09-16T09:14:57.124Z"
   },
   {
    "duration": 12,
    "start_time": "2022-09-16T09:14:57.129Z"
   },
   {
    "duration": 45,
    "start_time": "2022-09-16T09:14:57.142Z"
   },
   {
    "duration": 77,
    "start_time": "2022-09-16T09:14:57.189Z"
   },
   {
    "duration": 21,
    "start_time": "2022-09-16T09:14:57.267Z"
   },
   {
    "duration": 2883,
    "start_time": "2022-09-16T09:14:57.290Z"
   },
   {
    "duration": 19,
    "start_time": "2022-09-16T09:15:00.174Z"
   },
   {
    "duration": 28,
    "start_time": "2022-09-16T09:15:00.195Z"
   },
   {
    "duration": 4,
    "start_time": "2022-09-16T09:15:00.225Z"
   },
   {
    "duration": 10,
    "start_time": "2022-09-16T09:15:00.231Z"
   },
   {
    "duration": 120,
    "start_time": "2022-09-16T09:15:00.243Z"
   },
   {
    "duration": 372,
    "start_time": "2022-09-16T09:15:00.365Z"
   },
   {
    "duration": 10,
    "start_time": "2022-09-16T09:15:00.738Z"
   },
   {
    "duration": 16,
    "start_time": "2022-09-16T09:15:00.749Z"
   },
   {
    "duration": 116,
    "start_time": "2022-09-16T09:15:00.766Z"
   },
   {
    "duration": 848,
    "start_time": "2022-09-16T09:15:00.889Z"
   },
   {
    "duration": 9,
    "start_time": "2022-09-16T09:15:01.739Z"
   },
   {
    "duration": 8,
    "start_time": "2022-09-16T09:15:01.749Z"
   },
   {
    "duration": 198,
    "start_time": "2022-09-16T09:15:01.758Z"
   },
   {
    "duration": 342,
    "start_time": "2022-09-16T09:15:01.961Z"
   },
   {
    "duration": 8,
    "start_time": "2022-09-16T09:15:02.304Z"
   },
   {
    "duration": 11,
    "start_time": "2022-09-16T09:15:02.313Z"
   },
   {
    "duration": 117,
    "start_time": "2022-09-16T09:15:02.326Z"
   },
   {
    "duration": 1361,
    "start_time": "2022-09-16T09:15:02.445Z"
   },
   {
    "duration": 9,
    "start_time": "2022-09-16T09:15:03.807Z"
   },
   {
    "duration": 7,
    "start_time": "2022-09-16T09:15:03.817Z"
   },
   {
    "duration": 126,
    "start_time": "2022-09-16T09:15:03.826Z"
   },
   {
    "duration": 163,
    "start_time": "2022-09-16T09:15:03.954Z"
   },
   {
    "duration": 33,
    "start_time": "2022-09-16T09:15:04.119Z"
   },
   {
    "duration": 42,
    "start_time": "2022-09-16T09:15:04.153Z"
   },
   {
    "duration": 22,
    "start_time": "2022-09-16T09:15:04.197Z"
   },
   {
    "duration": 12,
    "start_time": "2022-09-16T09:15:04.220Z"
   },
   {
    "duration": 320,
    "start_time": "2022-09-16T09:15:04.233Z"
   },
   {
    "duration": 284,
    "start_time": "2022-09-16T09:15:04.554Z"
   },
   {
    "duration": 167,
    "start_time": "2022-09-16T09:15:04.840Z"
   },
   {
    "duration": 5,
    "start_time": "2022-09-16T09:15:05.009Z"
   },
   {
    "duration": 179,
    "start_time": "2022-09-16T09:15:05.016Z"
   },
   {
    "duration": 6,
    "start_time": "2022-09-16T09:15:05.197Z"
   },
   {
    "duration": 12,
    "start_time": "2022-09-16T09:15:05.205Z"
   },
   {
    "duration": 16,
    "start_time": "2022-09-16T09:15:05.219Z"
   },
   {
    "duration": 12,
    "start_time": "2022-09-16T09:15:05.237Z"
   },
   {
    "duration": 29,
    "start_time": "2022-09-16T09:15:05.251Z"
   },
   {
    "duration": 20,
    "start_time": "2022-09-16T09:15:05.281Z"
   },
   {
    "duration": 10,
    "start_time": "2022-09-16T09:15:05.302Z"
   },
   {
    "duration": 9,
    "start_time": "2022-09-16T09:15:05.313Z"
   },
   {
    "duration": 172,
    "start_time": "2022-09-16T09:15:05.324Z"
   },
   {
    "duration": 7,
    "start_time": "2022-09-16T09:15:05.498Z"
   },
   {
    "duration": 7,
    "start_time": "2022-09-16T09:15:05.506Z"
   },
   {
    "duration": 14,
    "start_time": "2022-09-16T09:15:05.514Z"
   },
   {
    "duration": 396,
    "start_time": "2022-09-16T09:15:05.530Z"
   },
   {
    "duration": 285,
    "start_time": "2022-09-16T09:15:05.928Z"
   },
   {
    "duration": 279,
    "start_time": "2022-09-16T09:15:06.214Z"
   },
   {
    "duration": 276,
    "start_time": "2022-09-16T09:15:06.494Z"
   },
   {
    "duration": 172,
    "start_time": "2022-09-16T09:15:06.772Z"
   },
   {
    "duration": 113,
    "start_time": "2022-09-16T09:15:06.945Z"
   },
   {
    "duration": 188,
    "start_time": "2022-09-16T09:15:07.060Z"
   },
   {
    "duration": 168,
    "start_time": "2022-09-16T09:15:07.250Z"
   },
   {
    "duration": 349,
    "start_time": "2022-09-16T09:15:07.420Z"
   },
   {
    "duration": 200,
    "start_time": "2022-09-16T09:15:07.771Z"
   },
   {
    "duration": 182,
    "start_time": "2022-09-16T09:15:07.982Z"
   },
   {
    "duration": 179,
    "start_time": "2022-09-16T09:15:08.166Z"
   },
   {
    "duration": 177,
    "start_time": "2022-09-16T09:15:08.347Z"
   },
   {
    "duration": 184,
    "start_time": "2022-09-16T09:15:08.526Z"
   },
   {
    "duration": 549,
    "start_time": "2022-09-16T09:15:08.712Z"
   },
   {
    "duration": 838,
    "start_time": "2022-09-16T09:15:09.262Z"
   },
   {
    "duration": 327,
    "start_time": "2022-09-16T09:15:10.102Z"
   },
   {
    "duration": 12,
    "start_time": "2022-09-16T09:15:10.431Z"
   },
   {
    "duration": 167,
    "start_time": "2022-09-16T09:15:10.445Z"
   },
   {
    "duration": 180,
    "start_time": "2022-09-16T09:15:10.613Z"
   },
   {
    "duration": 149,
    "start_time": "2022-09-16T09:15:10.795Z"
   },
   {
    "duration": 162,
    "start_time": "2022-09-16T09:15:10.946Z"
   },
   {
    "duration": 137,
    "start_time": "2022-09-16T09:15:11.109Z"
   },
   {
    "duration": 164,
    "start_time": "2022-09-16T09:15:11.247Z"
   },
   {
    "duration": 248,
    "start_time": "2022-09-16T09:15:11.413Z"
   },
   {
    "duration": 169,
    "start_time": "2022-09-16T09:15:11.662Z"
   },
   {
    "duration": 148,
    "start_time": "2022-09-16T09:15:11.833Z"
   },
   {
    "duration": 220,
    "start_time": "2022-09-16T09:15:11.983Z"
   },
   {
    "duration": 123,
    "start_time": "2022-09-16T09:15:12.205Z"
   },
   {
    "duration": 159,
    "start_time": "2022-09-16T09:15:12.330Z"
   },
   {
    "duration": 20,
    "start_time": "2022-09-16T09:15:12.490Z"
   },
   {
    "duration": 7,
    "start_time": "2022-09-16T09:15:12.511Z"
   },
   {
    "duration": 8,
    "start_time": "2022-09-16T09:15:12.519Z"
   },
   {
    "duration": 186,
    "start_time": "2022-09-16T09:15:12.529Z"
   },
   {
    "duration": 4,
    "start_time": "2022-09-16T09:15:12.717Z"
   },
   {
    "duration": 8185,
    "start_time": "2022-09-16T09:15:12.725Z"
   },
   {
    "duration": 384,
    "start_time": "2022-09-16T09:15:20.911Z"
   },
   {
    "duration": 107,
    "start_time": "2022-09-16T09:15:21.297Z"
   },
   {
    "duration": 92,
    "start_time": "2022-09-16T09:15:21.406Z"
   },
   {
    "duration": 1691,
    "start_time": "2022-09-16T09:18:59.819Z"
   },
   {
    "duration": 21,
    "start_time": "2022-09-16T09:19:06.851Z"
   },
   {
    "duration": 1612,
    "start_time": "2022-09-16T09:19:07.451Z"
   },
   {
    "duration": 1648,
    "start_time": "2022-09-16T09:19:15.522Z"
   },
   {
    "duration": 20,
    "start_time": "2022-09-16T09:19:39.521Z"
   },
   {
    "duration": 19,
    "start_time": "2022-09-16T09:19:39.952Z"
   },
   {
    "duration": 24,
    "start_time": "2022-09-16T09:24:24.275Z"
   },
   {
    "duration": 28,
    "start_time": "2022-09-16T09:24:26.049Z"
   },
   {
    "duration": 26,
    "start_time": "2022-09-16T09:26:20.227Z"
   },
   {
    "duration": 93,
    "start_time": "2022-09-16T09:27:20.993Z"
   },
   {
    "duration": 26,
    "start_time": "2022-09-16T09:27:44.472Z"
   },
   {
    "duration": 23,
    "start_time": "2022-09-16T09:28:25.279Z"
   },
   {
    "duration": 16,
    "start_time": "2022-09-16T09:28:28.216Z"
   },
   {
    "duration": 33,
    "start_time": "2022-09-16T09:28:51.309Z"
   },
   {
    "duration": 24,
    "start_time": "2022-09-16T09:29:45.172Z"
   },
   {
    "duration": 23,
    "start_time": "2022-09-16T09:29:47.936Z"
   },
   {
    "duration": 20,
    "start_time": "2022-09-16T09:30:01.047Z"
   },
   {
    "duration": 21,
    "start_time": "2022-09-16T09:31:01.014Z"
   },
   {
    "duration": 31,
    "start_time": "2022-09-16T09:31:16.934Z"
   },
   {
    "duration": 36,
    "start_time": "2022-09-16T09:45:09.147Z"
   },
   {
    "duration": 28,
    "start_time": "2022-09-16T09:45:25.448Z"
   },
   {
    "duration": 21,
    "start_time": "2022-09-16T09:49:18.380Z"
   },
   {
    "duration": 28,
    "start_time": "2022-09-16T09:49:32.861Z"
   },
   {
    "duration": 32,
    "start_time": "2022-09-16T09:49:52.204Z"
   },
   {
    "duration": 4,
    "start_time": "2022-09-16T09:49:54.587Z"
   },
   {
    "duration": 165,
    "start_time": "2022-09-16T09:51:34.460Z"
   },
   {
    "duration": 8,
    "start_time": "2022-09-16T09:51:34.954Z"
   },
   {
    "duration": 7,
    "start_time": "2022-09-16T09:51:38.266Z"
   },
   {
    "duration": 191,
    "start_time": "2022-09-16T09:51:38.606Z"
   },
   {
    "duration": 9,
    "start_time": "2022-09-16T09:51:40.250Z"
   },
   {
    "duration": 10,
    "start_time": "2022-09-16T09:54:05.625Z"
   },
   {
    "duration": 3,
    "start_time": "2022-09-16T09:54:15.104Z"
   },
   {
    "duration": 29,
    "start_time": "2022-09-16T09:59:04.449Z"
   },
   {
    "duration": 76,
    "start_time": "2022-09-16T10:05:20.914Z"
   },
   {
    "duration": 67,
    "start_time": "2022-09-16T10:07:43.564Z"
   },
   {
    "duration": 66,
    "start_time": "2022-09-16T10:07:56.301Z"
   },
   {
    "duration": 26,
    "start_time": "2022-09-16T10:14:14.438Z"
   },
   {
    "duration": 17,
    "start_time": "2022-09-16T10:14:57.844Z"
   },
   {
    "duration": 691,
    "start_time": "2022-09-16T10:23:29.051Z"
   },
   {
    "duration": 797,
    "start_time": "2022-09-16T10:26:29.808Z"
   },
   {
    "duration": 781,
    "start_time": "2022-09-16T10:27:03.496Z"
   },
   {
    "duration": 603,
    "start_time": "2022-09-16T10:27:27.201Z"
   },
   {
    "duration": 32,
    "start_time": "2022-09-16T10:28:03.151Z"
   },
   {
    "duration": 32,
    "start_time": "2022-09-16T10:28:07.237Z"
   },
   {
    "duration": 31,
    "start_time": "2022-09-16T10:28:15.118Z"
   },
   {
    "duration": 32,
    "start_time": "2022-09-16T10:28:41.222Z"
   },
   {
    "duration": 3,
    "start_time": "2022-09-16T10:29:01.922Z"
   },
   {
    "duration": 34,
    "start_time": "2022-09-16T10:30:22.021Z"
   },
   {
    "duration": 21,
    "start_time": "2022-09-16T10:35:31.293Z"
   },
   {
    "duration": 4,
    "start_time": "2022-09-16T10:35:45.308Z"
   },
   {
    "duration": 4,
    "start_time": "2022-09-16T10:35:48.538Z"
   },
   {
    "duration": 10,
    "start_time": "2022-09-16T10:35:58.912Z"
   },
   {
    "duration": 9,
    "start_time": "2022-09-16T10:36:00.546Z"
   },
   {
    "duration": 3,
    "start_time": "2022-09-16T10:36:04.516Z"
   },
   {
    "duration": 2,
    "start_time": "2022-09-16T10:36:24.691Z"
   },
   {
    "duration": 2024,
    "start_time": "2022-09-16T10:36:24.695Z"
   },
   {
    "duration": 29,
    "start_time": "2022-09-16T10:36:26.721Z"
   },
   {
    "duration": 4,
    "start_time": "2022-09-16T10:36:26.752Z"
   },
   {
    "duration": 232,
    "start_time": "2022-09-16T10:36:26.758Z"
   },
   {
    "duration": 8,
    "start_time": "2022-09-16T10:36:26.992Z"
   },
   {
    "duration": 11,
    "start_time": "2022-09-16T10:36:27.002Z"
   },
   {
    "duration": 18,
    "start_time": "2022-09-16T10:36:27.015Z"
   },
   {
    "duration": 7,
    "start_time": "2022-09-16T10:36:27.034Z"
   },
   {
    "duration": 37,
    "start_time": "2022-09-16T10:36:27.043Z"
   },
   {
    "duration": 8,
    "start_time": "2022-09-16T10:36:27.083Z"
   },
   {
    "duration": 174,
    "start_time": "2022-09-16T10:36:27.093Z"
   },
   {
    "duration": 12,
    "start_time": "2022-09-16T10:36:27.269Z"
   },
   {
    "duration": 8,
    "start_time": "2022-09-16T10:36:27.282Z"
   },
   {
    "duration": 14,
    "start_time": "2022-09-16T10:36:27.292Z"
   },
   {
    "duration": 5,
    "start_time": "2022-09-16T10:36:27.307Z"
   },
   {
    "duration": 91,
    "start_time": "2022-09-16T10:36:27.314Z"
   },
   {
    "duration": 22,
    "start_time": "2022-09-16T10:36:27.407Z"
   },
   {
    "duration": 27,
    "start_time": "2022-09-16T10:36:27.431Z"
   },
   {
    "duration": 5,
    "start_time": "2022-09-16T10:36:27.478Z"
   },
   {
    "duration": 19,
    "start_time": "2022-09-16T10:36:27.485Z"
   },
   {
    "duration": 27,
    "start_time": "2022-09-16T10:36:27.506Z"
   },
   {
    "duration": 13,
    "start_time": "2022-09-16T10:36:27.534Z"
   },
   {
    "duration": 29,
    "start_time": "2022-09-16T10:36:27.549Z"
   },
   {
    "duration": 3,
    "start_time": "2022-09-16T10:36:27.580Z"
   },
   {
    "duration": 18,
    "start_time": "2022-09-16T10:36:27.585Z"
   },
   {
    "duration": 41,
    "start_time": "2022-09-16T10:36:27.604Z"
   },
   {
    "duration": 111,
    "start_time": "2022-09-16T10:36:27.647Z"
   },
   {
    "duration": 27,
    "start_time": "2022-09-16T10:36:27.763Z"
   },
   {
    "duration": 2951,
    "start_time": "2022-09-16T10:36:27.792Z"
   },
   {
    "duration": 8,
    "start_time": "2022-09-16T10:36:30.745Z"
   },
   {
    "duration": 34,
    "start_time": "2022-09-16T10:36:30.754Z"
   },
   {
    "duration": 4,
    "start_time": "2022-09-16T10:36:30.790Z"
   },
   {
    "duration": 21,
    "start_time": "2022-09-16T10:36:30.795Z"
   },
   {
    "duration": 116,
    "start_time": "2022-09-16T10:36:30.817Z"
   },
   {
    "duration": 358,
    "start_time": "2022-09-16T10:36:30.935Z"
   },
   {
    "duration": 10,
    "start_time": "2022-09-16T10:36:31.294Z"
   },
   {
    "duration": 7,
    "start_time": "2022-09-16T10:36:31.306Z"
   },
   {
    "duration": 115,
    "start_time": "2022-09-16T10:36:31.314Z"
   },
   {
    "duration": 1137,
    "start_time": "2022-09-16T10:36:31.430Z"
   },
   {
    "duration": 11,
    "start_time": "2022-09-16T10:36:32.568Z"
   },
   {
    "duration": 7,
    "start_time": "2022-09-16T10:36:32.581Z"
   },
   {
    "duration": 117,
    "start_time": "2022-09-16T10:36:32.589Z"
   },
   {
    "duration": 396,
    "start_time": "2022-09-16T10:36:32.708Z"
   },
   {
    "duration": 8,
    "start_time": "2022-09-16T10:36:33.105Z"
   },
   {
    "duration": 8,
    "start_time": "2022-09-16T10:36:33.115Z"
   },
   {
    "duration": 105,
    "start_time": "2022-09-16T10:36:33.125Z"
   },
   {
    "duration": 1483,
    "start_time": "2022-09-16T10:36:33.232Z"
   },
   {
    "duration": 10,
    "start_time": "2022-09-16T10:36:34.716Z"
   },
   {
    "duration": 7,
    "start_time": "2022-09-16T10:36:34.728Z"
   },
   {
    "duration": 117,
    "start_time": "2022-09-16T10:36:34.736Z"
   },
   {
    "duration": 153,
    "start_time": "2022-09-16T10:36:34.854Z"
   },
   {
    "duration": 4,
    "start_time": "2022-09-16T10:36:56.990Z"
   },
   {
    "duration": 23,
    "start_time": "2022-09-16T10:36:59.688Z"
   },
   {
    "duration": 4,
    "start_time": "2022-09-16T10:37:00.045Z"
   },
   {
    "duration": 4,
    "start_time": "2022-09-16T10:37:10.507Z"
   },
   {
    "duration": 19,
    "start_time": "2022-09-16T10:37:11.444Z"
   },
   {
    "duration": 4,
    "start_time": "2022-09-16T10:37:11.789Z"
   },
   {
    "duration": 20,
    "start_time": "2022-09-16T10:37:41.729Z"
   },
   {
    "duration": 3,
    "start_time": "2022-09-16T10:37:42.588Z"
   },
   {
    "duration": 97,
    "start_time": "2022-09-16T10:37:44.511Z"
   },
   {
    "duration": 3,
    "start_time": "2022-09-16T10:37:49.731Z"
   },
   {
    "duration": 20,
    "start_time": "2022-09-16T10:37:50.104Z"
   },
   {
    "duration": 5,
    "start_time": "2022-09-16T10:37:50.475Z"
   },
   {
    "duration": 25,
    "start_time": "2022-09-16T10:37:52.251Z"
   },
   {
    "duration": 4,
    "start_time": "2022-09-16T10:37:54.936Z"
   },
   {
    "duration": 27,
    "start_time": "2022-09-16T10:37:55.132Z"
   },
   {
    "duration": 4,
    "start_time": "2022-09-16T10:37:56.857Z"
   },
   {
    "duration": 4,
    "start_time": "2022-09-16T10:38:16.476Z"
   },
   {
    "duration": 21,
    "start_time": "2022-09-16T10:38:16.997Z"
   },
   {
    "duration": 6,
    "start_time": "2022-09-16T10:38:17.416Z"
   },
   {
    "duration": 1258,
    "start_time": "2022-09-16T10:38:33.019Z"
   },
   {
    "duration": 1937,
    "start_time": "2022-09-16T10:38:34.279Z"
   },
   {
    "duration": 46,
    "start_time": "2022-09-16T10:38:36.219Z"
   },
   {
    "duration": 88,
    "start_time": "2022-09-16T10:38:36.267Z"
   },
   {
    "duration": 215,
    "start_time": "2022-09-16T10:38:36.357Z"
   },
   {
    "duration": 13,
    "start_time": "2022-09-16T10:38:36.573Z"
   },
   {
    "duration": 11,
    "start_time": "2022-09-16T10:38:36.588Z"
   },
   {
    "duration": 18,
    "start_time": "2022-09-16T10:38:36.601Z"
   },
   {
    "duration": 10,
    "start_time": "2022-09-16T10:38:36.620Z"
   },
   {
    "duration": 43,
    "start_time": "2022-09-16T10:38:36.634Z"
   },
   {
    "duration": 7,
    "start_time": "2022-09-16T10:38:36.679Z"
   },
   {
    "duration": 181,
    "start_time": "2022-09-16T10:38:36.688Z"
   },
   {
    "duration": 11,
    "start_time": "2022-09-16T10:38:36.870Z"
   },
   {
    "duration": 6,
    "start_time": "2022-09-16T10:38:36.883Z"
   },
   {
    "duration": 17,
    "start_time": "2022-09-16T10:38:36.890Z"
   },
   {
    "duration": 4,
    "start_time": "2022-09-16T10:38:36.909Z"
   },
   {
    "duration": 116,
    "start_time": "2022-09-16T10:38:36.915Z"
   },
   {
    "duration": 95,
    "start_time": "2022-09-16T10:38:37.033Z"
   },
   {
    "duration": 39,
    "start_time": "2022-09-16T10:38:37.130Z"
   },
   {
    "duration": 6,
    "start_time": "2022-09-16T10:38:37.177Z"
   },
   {
    "duration": 9,
    "start_time": "2022-09-16T10:38:37.185Z"
   },
   {
    "duration": 27,
    "start_time": "2022-09-16T10:38:37.196Z"
   },
   {
    "duration": 16,
    "start_time": "2022-09-16T10:38:37.225Z"
   },
   {
    "duration": 37,
    "start_time": "2022-09-16T10:38:37.243Z"
   },
   {
    "duration": 7,
    "start_time": "2022-09-16T10:38:37.282Z"
   },
   {
    "duration": 13,
    "start_time": "2022-09-16T10:38:37.291Z"
   },
   {
    "duration": 15,
    "start_time": "2022-09-16T10:38:37.305Z"
   },
   {
    "duration": 94,
    "start_time": "2022-09-16T10:38:37.325Z"
   },
   {
    "duration": 12,
    "start_time": "2022-09-16T10:38:37.420Z"
   },
   {
    "duration": 2919,
    "start_time": "2022-09-16T10:38:37.433Z"
   },
   {
    "duration": 8,
    "start_time": "2022-09-16T10:38:40.354Z"
   },
   {
    "duration": 41,
    "start_time": "2022-09-16T10:38:40.364Z"
   },
   {
    "duration": 6,
    "start_time": "2022-09-16T10:38:40.407Z"
   },
   {
    "duration": 32,
    "start_time": "2022-09-16T10:38:40.414Z"
   },
   {
    "duration": 116,
    "start_time": "2022-09-16T10:38:40.447Z"
   },
   {
    "duration": 353,
    "start_time": "2022-09-16T10:38:40.565Z"
   },
   {
    "duration": 13,
    "start_time": "2022-09-16T10:38:40.919Z"
   },
   {
    "duration": 11,
    "start_time": "2022-09-16T10:38:40.934Z"
   },
   {
    "duration": 115,
    "start_time": "2022-09-16T10:38:40.949Z"
   },
   {
    "duration": 1023,
    "start_time": "2022-09-16T10:38:41.065Z"
   },
   {
    "duration": 12,
    "start_time": "2022-09-16T10:38:42.090Z"
   },
   {
    "duration": 17,
    "start_time": "2022-09-16T10:38:42.104Z"
   },
   {
    "duration": 118,
    "start_time": "2022-09-16T10:38:42.123Z"
   },
   {
    "duration": 376,
    "start_time": "2022-09-16T10:38:42.243Z"
   },
   {
    "duration": 11,
    "start_time": "2022-09-16T10:38:42.621Z"
   },
   {
    "duration": 29,
    "start_time": "2022-09-16T10:38:42.635Z"
   },
   {
    "duration": 163,
    "start_time": "2022-09-16T10:38:42.666Z"
   },
   {
    "duration": 1358,
    "start_time": "2022-09-16T10:38:42.832Z"
   },
   {
    "duration": 10,
    "start_time": "2022-09-16T10:38:44.191Z"
   },
   {
    "duration": 8,
    "start_time": "2022-09-16T10:38:44.203Z"
   },
   {
    "duration": 125,
    "start_time": "2022-09-16T10:38:44.213Z"
   },
   {
    "duration": 158,
    "start_time": "2022-09-16T10:38:44.340Z"
   },
   {
    "duration": 4,
    "start_time": "2022-09-16T10:38:44.499Z"
   },
   {
    "duration": 41,
    "start_time": "2022-09-16T10:38:44.504Z"
   },
   {
    "duration": 4,
    "start_time": "2022-09-16T10:38:44.546Z"
   },
   {
    "duration": 107,
    "start_time": "2022-09-16T10:38:44.551Z"
   },
   {
    "duration": 0,
    "start_time": "2022-09-16T10:38:44.660Z"
   },
   {
    "duration": 0,
    "start_time": "2022-09-16T10:38:44.661Z"
   },
   {
    "duration": 0,
    "start_time": "2022-09-16T10:38:44.662Z"
   },
   {
    "duration": 0,
    "start_time": "2022-09-16T10:38:44.663Z"
   },
   {
    "duration": 0,
    "start_time": "2022-09-16T10:38:44.665Z"
   },
   {
    "duration": 0,
    "start_time": "2022-09-16T10:38:44.666Z"
   },
   {
    "duration": 0,
    "start_time": "2022-09-16T10:38:44.667Z"
   },
   {
    "duration": 0,
    "start_time": "2022-09-16T10:38:44.677Z"
   },
   {
    "duration": 0,
    "start_time": "2022-09-16T10:38:44.678Z"
   },
   {
    "duration": 0,
    "start_time": "2022-09-16T10:38:44.679Z"
   },
   {
    "duration": 0,
    "start_time": "2022-09-16T10:38:44.680Z"
   },
   {
    "duration": 0,
    "start_time": "2022-09-16T10:38:44.681Z"
   },
   {
    "duration": 0,
    "start_time": "2022-09-16T10:38:44.682Z"
   },
   {
    "duration": 0,
    "start_time": "2022-09-16T10:38:44.683Z"
   },
   {
    "duration": 0,
    "start_time": "2022-09-16T10:38:44.684Z"
   },
   {
    "duration": 0,
    "start_time": "2022-09-16T10:38:44.685Z"
   },
   {
    "duration": 0,
    "start_time": "2022-09-16T10:38:44.686Z"
   },
   {
    "duration": 0,
    "start_time": "2022-09-16T10:38:44.688Z"
   },
   {
    "duration": 0,
    "start_time": "2022-09-16T10:38:44.689Z"
   },
   {
    "duration": 0,
    "start_time": "2022-09-16T10:38:44.690Z"
   },
   {
    "duration": 0,
    "start_time": "2022-09-16T10:38:44.691Z"
   },
   {
    "duration": 0,
    "start_time": "2022-09-16T10:38:44.693Z"
   },
   {
    "duration": 0,
    "start_time": "2022-09-16T10:38:44.694Z"
   },
   {
    "duration": 0,
    "start_time": "2022-09-16T10:38:44.695Z"
   },
   {
    "duration": 0,
    "start_time": "2022-09-16T10:38:44.696Z"
   },
   {
    "duration": 0,
    "start_time": "2022-09-16T10:38:44.697Z"
   },
   {
    "duration": 1,
    "start_time": "2022-09-16T10:38:44.698Z"
   },
   {
    "duration": 0,
    "start_time": "2022-09-16T10:38:44.700Z"
   },
   {
    "duration": 0,
    "start_time": "2022-09-16T10:38:44.701Z"
   },
   {
    "duration": 0,
    "start_time": "2022-09-16T10:38:44.702Z"
   },
   {
    "duration": 0,
    "start_time": "2022-09-16T10:38:44.703Z"
   },
   {
    "duration": 0,
    "start_time": "2022-09-16T10:38:44.705Z"
   },
   {
    "duration": 0,
    "start_time": "2022-09-16T10:38:44.706Z"
   },
   {
    "duration": 0,
    "start_time": "2022-09-16T10:38:44.707Z"
   },
   {
    "duration": 0,
    "start_time": "2022-09-16T10:38:44.708Z"
   },
   {
    "duration": 0,
    "start_time": "2022-09-16T10:38:44.710Z"
   },
   {
    "duration": 0,
    "start_time": "2022-09-16T10:38:44.711Z"
   },
   {
    "duration": 0,
    "start_time": "2022-09-16T10:38:44.711Z"
   },
   {
    "duration": 0,
    "start_time": "2022-09-16T10:38:44.712Z"
   },
   {
    "duration": 0,
    "start_time": "2022-09-16T10:38:44.713Z"
   },
   {
    "duration": 0,
    "start_time": "2022-09-16T10:38:44.714Z"
   },
   {
    "duration": 0,
    "start_time": "2022-09-16T10:38:44.777Z"
   },
   {
    "duration": 0,
    "start_time": "2022-09-16T10:38:44.778Z"
   },
   {
    "duration": 0,
    "start_time": "2022-09-16T10:38:44.779Z"
   },
   {
    "duration": 0,
    "start_time": "2022-09-16T10:38:44.781Z"
   },
   {
    "duration": 0,
    "start_time": "2022-09-16T10:38:44.782Z"
   },
   {
    "duration": 0,
    "start_time": "2022-09-16T10:38:44.783Z"
   },
   {
    "duration": 0,
    "start_time": "2022-09-16T10:38:44.785Z"
   },
   {
    "duration": 0,
    "start_time": "2022-09-16T10:38:44.786Z"
   },
   {
    "duration": 0,
    "start_time": "2022-09-16T10:38:44.787Z"
   },
   {
    "duration": 0,
    "start_time": "2022-09-16T10:38:44.788Z"
   },
   {
    "duration": 0,
    "start_time": "2022-09-16T10:38:44.790Z"
   },
   {
    "duration": 0,
    "start_time": "2022-09-16T10:38:44.791Z"
   },
   {
    "duration": 0,
    "start_time": "2022-09-16T10:38:44.792Z"
   },
   {
    "duration": 0,
    "start_time": "2022-09-16T10:38:44.793Z"
   },
   {
    "duration": 0,
    "start_time": "2022-09-16T10:38:44.795Z"
   },
   {
    "duration": 0,
    "start_time": "2022-09-16T10:38:44.796Z"
   },
   {
    "duration": 0,
    "start_time": "2022-09-16T10:38:44.798Z"
   },
   {
    "duration": 3,
    "start_time": "2022-09-16T10:39:06.914Z"
   },
   {
    "duration": 35,
    "start_time": "2022-09-16T10:39:07.819Z"
   },
   {
    "duration": 4,
    "start_time": "2022-09-16T10:39:15.751Z"
   },
   {
    "duration": 4,
    "start_time": "2022-09-16T10:39:18.085Z"
   },
   {
    "duration": 32,
    "start_time": "2022-09-16T10:39:18.531Z"
   },
   {
    "duration": 5,
    "start_time": "2022-09-16T10:39:18.911Z"
   },
   {
    "duration": 26,
    "start_time": "2022-09-16T10:39:20.449Z"
   },
   {
    "duration": 4,
    "start_time": "2022-09-16T10:39:20.736Z"
   },
   {
    "duration": 23,
    "start_time": "2022-09-16T10:39:22.141Z"
   },
   {
    "duration": 4,
    "start_time": "2022-09-16T10:39:22.408Z"
   },
   {
    "duration": 24,
    "start_time": "2022-09-16T10:39:23.705Z"
   },
   {
    "duration": 4,
    "start_time": "2022-09-16T10:39:23.908Z"
   },
   {
    "duration": 95,
    "start_time": "2022-09-16T10:39:25.492Z"
   },
   {
    "duration": 4,
    "start_time": "2022-09-16T10:39:25.788Z"
   },
   {
    "duration": 4,
    "start_time": "2022-09-16T10:40:50.117Z"
   },
   {
    "duration": 11,
    "start_time": "2022-09-16T10:41:29.099Z"
   },
   {
    "duration": 4,
    "start_time": "2022-09-16T10:41:40.173Z"
   },
   {
    "duration": 4,
    "start_time": "2022-09-16T10:41:47.280Z"
   },
   {
    "duration": 3,
    "start_time": "2022-09-16T10:42:11.094Z"
   },
   {
    "duration": 12,
    "start_time": "2022-09-16T10:42:12.289Z"
   },
   {
    "duration": 2,
    "start_time": "2022-09-16T10:42:20.863Z"
   },
   {
    "duration": 2026,
    "start_time": "2022-09-16T10:42:20.868Z"
   },
   {
    "duration": 32,
    "start_time": "2022-09-16T10:42:22.896Z"
   },
   {
    "duration": 3,
    "start_time": "2022-09-16T10:42:22.929Z"
   },
   {
    "duration": 222,
    "start_time": "2022-09-16T10:42:22.934Z"
   },
   {
    "duration": 9,
    "start_time": "2022-09-16T10:42:23.158Z"
   },
   {
    "duration": 10,
    "start_time": "2022-09-16T10:42:23.178Z"
   },
   {
    "duration": 21,
    "start_time": "2022-09-16T10:42:23.190Z"
   },
   {
    "duration": 14,
    "start_time": "2022-09-16T10:42:23.212Z"
   },
   {
    "duration": 11,
    "start_time": "2022-09-16T10:42:23.227Z"
   },
   {
    "duration": 13,
    "start_time": "2022-09-16T10:42:23.241Z"
   },
   {
    "duration": 187,
    "start_time": "2022-09-16T10:42:23.256Z"
   },
   {
    "duration": 6,
    "start_time": "2022-09-16T10:42:23.444Z"
   },
   {
    "duration": 7,
    "start_time": "2022-09-16T10:42:23.451Z"
   },
   {
    "duration": 28,
    "start_time": "2022-09-16T10:42:23.459Z"
   },
   {
    "duration": 5,
    "start_time": "2022-09-16T10:42:23.489Z"
   },
   {
    "duration": 86,
    "start_time": "2022-09-16T10:42:23.495Z"
   },
   {
    "duration": 19,
    "start_time": "2022-09-16T10:42:23.582Z"
   },
   {
    "duration": 24,
    "start_time": "2022-09-16T10:42:23.603Z"
   },
   {
    "duration": 4,
    "start_time": "2022-09-16T10:42:23.629Z"
   },
   {
    "duration": 10,
    "start_time": "2022-09-16T10:42:23.634Z"
   },
   {
    "duration": 47,
    "start_time": "2022-09-16T10:42:23.645Z"
   },
   {
    "duration": 12,
    "start_time": "2022-09-16T10:42:23.693Z"
   },
   {
    "duration": 13,
    "start_time": "2022-09-16T10:42:23.707Z"
   },
   {
    "duration": 3,
    "start_time": "2022-09-16T10:42:23.721Z"
   },
   {
    "duration": 12,
    "start_time": "2022-09-16T10:42:23.726Z"
   },
   {
    "duration": 14,
    "start_time": "2022-09-16T10:42:23.740Z"
   },
   {
    "duration": 88,
    "start_time": "2022-09-16T10:42:23.756Z"
   },
   {
    "duration": 30,
    "start_time": "2022-09-16T10:42:23.847Z"
   },
   {
    "duration": 2987,
    "start_time": "2022-09-16T10:42:23.879Z"
   },
   {
    "duration": 11,
    "start_time": "2022-09-16T10:42:26.867Z"
   },
   {
    "duration": 37,
    "start_time": "2022-09-16T10:42:26.880Z"
   },
   {
    "duration": 3,
    "start_time": "2022-09-16T10:42:26.918Z"
   },
   {
    "duration": 15,
    "start_time": "2022-09-16T10:42:26.923Z"
   },
   {
    "duration": 0,
    "start_time": "2022-09-16T10:42:26.940Z"
   },
   {
    "duration": 0,
    "start_time": "2022-09-16T10:42:26.941Z"
   },
   {
    "duration": 0,
    "start_time": "2022-09-16T10:42:26.942Z"
   },
   {
    "duration": 0,
    "start_time": "2022-09-16T10:42:26.943Z"
   },
   {
    "duration": 0,
    "start_time": "2022-09-16T10:42:26.944Z"
   },
   {
    "duration": 0,
    "start_time": "2022-09-16T10:42:26.945Z"
   },
   {
    "duration": 0,
    "start_time": "2022-09-16T10:42:26.946Z"
   },
   {
    "duration": 0,
    "start_time": "2022-09-16T10:42:26.947Z"
   },
   {
    "duration": 0,
    "start_time": "2022-09-16T10:42:26.948Z"
   },
   {
    "duration": 0,
    "start_time": "2022-09-16T10:42:26.949Z"
   },
   {
    "duration": 0,
    "start_time": "2022-09-16T10:42:26.950Z"
   },
   {
    "duration": 0,
    "start_time": "2022-09-16T10:42:26.978Z"
   },
   {
    "duration": 0,
    "start_time": "2022-09-16T10:42:26.978Z"
   },
   {
    "duration": 0,
    "start_time": "2022-09-16T10:42:26.979Z"
   },
   {
    "duration": 0,
    "start_time": "2022-09-16T10:42:26.980Z"
   },
   {
    "duration": 0,
    "start_time": "2022-09-16T10:42:26.981Z"
   },
   {
    "duration": 0,
    "start_time": "2022-09-16T10:42:26.982Z"
   },
   {
    "duration": 0,
    "start_time": "2022-09-16T10:42:26.983Z"
   },
   {
    "duration": 0,
    "start_time": "2022-09-16T10:42:26.984Z"
   },
   {
    "duration": 0,
    "start_time": "2022-09-16T10:42:26.985Z"
   },
   {
    "duration": 5,
    "start_time": "2022-09-16T10:42:42.519Z"
   },
   {
    "duration": 4,
    "start_time": "2022-09-16T10:42:43.190Z"
   },
   {
    "duration": 12,
    "start_time": "2022-09-16T10:42:43.576Z"
   },
   {
    "duration": 4,
    "start_time": "2022-09-16T10:42:45.865Z"
   },
   {
    "duration": 43,
    "start_time": "2022-09-16T10:44:22.774Z"
   },
   {
    "duration": 34,
    "start_time": "2022-09-16T10:44:27.461Z"
   },
   {
    "duration": 4,
    "start_time": "2022-09-16T10:44:27.824Z"
   },
   {
    "duration": 23,
    "start_time": "2022-09-16T10:44:34.896Z"
   },
   {
    "duration": 4,
    "start_time": "2022-09-16T10:45:14.078Z"
   },
   {
    "duration": 4,
    "start_time": "2022-09-16T10:47:41.656Z"
   },
   {
    "duration": 8,
    "start_time": "2022-09-16T10:47:42.051Z"
   },
   {
    "duration": 95,
    "start_time": "2022-09-16T10:47:42.849Z"
   },
   {
    "duration": 307,
    "start_time": "2022-09-16T10:47:43.389Z"
   },
   {
    "duration": 12,
    "start_time": "2022-09-16T10:47:43.781Z"
   },
   {
    "duration": 7,
    "start_time": "2022-09-16T10:47:44.969Z"
   },
   {
    "duration": 94,
    "start_time": "2022-09-16T10:47:45.295Z"
   },
   {
    "duration": 1049,
    "start_time": "2022-09-16T10:47:45.807Z"
   },
   {
    "duration": 10,
    "start_time": "2022-09-16T10:47:46.858Z"
   },
   {
    "duration": 8,
    "start_time": "2022-09-16T10:47:47.385Z"
   },
   {
    "duration": 81,
    "start_time": "2022-09-16T10:47:49.645Z"
   },
   {
    "duration": 299,
    "start_time": "2022-09-16T10:47:50.082Z"
   },
   {
    "duration": 12,
    "start_time": "2022-09-16T10:47:50.521Z"
   },
   {
    "duration": 7,
    "start_time": "2022-09-16T10:47:50.964Z"
   },
   {
    "duration": 87,
    "start_time": "2022-09-16T10:47:51.346Z"
   },
   {
    "duration": 1281,
    "start_time": "2022-09-16T10:47:51.837Z"
   },
   {
    "duration": 0,
    "start_time": "2022-09-16T10:47:53.119Z"
   },
   {
    "duration": 0,
    "start_time": "2022-09-16T10:47:53.120Z"
   },
   {
    "duration": 98,
    "start_time": "2022-09-16T10:47:53.635Z"
   },
   {
    "duration": 8,
    "start_time": "2022-09-16T10:47:54.275Z"
   },
   {
    "duration": 4,
    "start_time": "2022-09-16T10:47:54.987Z"
   },
   {
    "duration": 3,
    "start_time": "2022-09-16T10:47:56.149Z"
   },
   {
    "duration": 35,
    "start_time": "2022-09-16T10:47:56.594Z"
   },
   {
    "duration": 3,
    "start_time": "2022-09-16T10:47:56.979Z"
   },
   {
    "duration": 4,
    "start_time": "2022-09-16T10:47:57.643Z"
   },
   {
    "duration": 3,
    "start_time": "2022-09-16T10:48:05.186Z"
   },
   {
    "duration": 22,
    "start_time": "2022-09-16T10:48:05.532Z"
   },
   {
    "duration": 4,
    "start_time": "2022-09-16T10:48:12.803Z"
   },
   {
    "duration": 26,
    "start_time": "2022-09-16T10:48:31.657Z"
   },
   {
    "duration": 3,
    "start_time": "2022-09-16T10:48:31.998Z"
   },
   {
    "duration": 4,
    "start_time": "2022-09-16T10:48:36.259Z"
   },
   {
    "duration": 4,
    "start_time": "2022-09-16T10:48:46.828Z"
   },
   {
    "duration": 4,
    "start_time": "2022-09-16T10:48:47.192Z"
   },
   {
    "duration": 35,
    "start_time": "2022-09-16T10:48:47.544Z"
   },
   {
    "duration": 4,
    "start_time": "2022-09-16T10:48:47.853Z"
   },
   {
    "duration": 4,
    "start_time": "2022-09-16T10:48:48.208Z"
   },
   {
    "duration": 3,
    "start_time": "2022-09-16T10:50:24.353Z"
   },
   {
    "duration": 2024,
    "start_time": "2022-09-16T10:50:24.358Z"
   },
   {
    "duration": 29,
    "start_time": "2022-09-16T10:50:26.384Z"
   },
   {
    "duration": 4,
    "start_time": "2022-09-16T10:50:26.415Z"
   },
   {
    "duration": 213,
    "start_time": "2022-09-16T10:50:26.420Z"
   },
   {
    "duration": 9,
    "start_time": "2022-09-16T10:50:26.634Z"
   },
   {
    "duration": 32,
    "start_time": "2022-09-16T10:50:26.644Z"
   },
   {
    "duration": 24,
    "start_time": "2022-09-16T10:50:26.678Z"
   },
   {
    "duration": 31,
    "start_time": "2022-09-16T10:50:26.703Z"
   },
   {
    "duration": 24,
    "start_time": "2022-09-16T10:50:26.735Z"
   },
   {
    "duration": 28,
    "start_time": "2022-09-16T10:50:26.761Z"
   },
   {
    "duration": 180,
    "start_time": "2022-09-16T10:50:26.791Z"
   },
   {
    "duration": 9,
    "start_time": "2022-09-16T10:50:26.972Z"
   },
   {
    "duration": 27,
    "start_time": "2022-09-16T10:50:26.982Z"
   },
   {
    "duration": 28,
    "start_time": "2022-09-16T10:50:27.011Z"
   },
   {
    "duration": 13,
    "start_time": "2022-09-16T10:50:27.040Z"
   },
   {
    "duration": 91,
    "start_time": "2022-09-16T10:50:27.055Z"
   },
   {
    "duration": 20,
    "start_time": "2022-09-16T10:50:27.148Z"
   },
   {
    "duration": 35,
    "start_time": "2022-09-16T10:50:27.169Z"
   },
   {
    "duration": 4,
    "start_time": "2022-09-16T10:50:27.206Z"
   },
   {
    "duration": 9,
    "start_time": "2022-09-16T10:50:27.211Z"
   },
   {
    "duration": 35,
    "start_time": "2022-09-16T10:50:27.221Z"
   },
   {
    "duration": 23,
    "start_time": "2022-09-16T10:50:27.257Z"
   },
   {
    "duration": 11,
    "start_time": "2022-09-16T10:50:27.281Z"
   },
   {
    "duration": 5,
    "start_time": "2022-09-16T10:50:27.293Z"
   },
   {
    "duration": 17,
    "start_time": "2022-09-16T10:50:27.300Z"
   },
   {
    "duration": 13,
    "start_time": "2022-09-16T10:50:27.319Z"
   },
   {
    "duration": 89,
    "start_time": "2022-09-16T10:50:27.334Z"
   },
   {
    "duration": 10,
    "start_time": "2022-09-16T10:50:27.426Z"
   },
   {
    "duration": 2779,
    "start_time": "2022-09-16T10:50:27.438Z"
   },
   {
    "duration": 8,
    "start_time": "2022-09-16T10:50:30.219Z"
   },
   {
    "duration": 57,
    "start_time": "2022-09-16T10:50:30.228Z"
   },
   {
    "duration": 4,
    "start_time": "2022-09-16T10:50:30.286Z"
   },
   {
    "duration": 19,
    "start_time": "2022-09-16T10:50:30.292Z"
   },
   {
    "duration": 0,
    "start_time": "2022-09-16T10:50:30.312Z"
   },
   {
    "duration": 0,
    "start_time": "2022-09-16T10:50:30.313Z"
   },
   {
    "duration": 0,
    "start_time": "2022-09-16T10:50:30.314Z"
   },
   {
    "duration": 0,
    "start_time": "2022-09-16T10:50:30.316Z"
   },
   {
    "duration": 0,
    "start_time": "2022-09-16T10:50:30.316Z"
   },
   {
    "duration": 0,
    "start_time": "2022-09-16T10:50:30.317Z"
   },
   {
    "duration": 0,
    "start_time": "2022-09-16T10:50:30.318Z"
   },
   {
    "duration": 0,
    "start_time": "2022-09-16T10:50:30.319Z"
   },
   {
    "duration": 0,
    "start_time": "2022-09-16T10:50:30.320Z"
   },
   {
    "duration": 0,
    "start_time": "2022-09-16T10:50:30.321Z"
   },
   {
    "duration": 0,
    "start_time": "2022-09-16T10:50:30.322Z"
   },
   {
    "duration": 0,
    "start_time": "2022-09-16T10:50:30.323Z"
   },
   {
    "duration": 0,
    "start_time": "2022-09-16T10:50:30.324Z"
   },
   {
    "duration": 0,
    "start_time": "2022-09-16T10:50:30.325Z"
   },
   {
    "duration": 0,
    "start_time": "2022-09-16T10:50:30.326Z"
   },
   {
    "duration": 0,
    "start_time": "2022-09-16T10:50:30.327Z"
   },
   {
    "duration": 0,
    "start_time": "2022-09-16T10:50:30.328Z"
   },
   {
    "duration": 0,
    "start_time": "2022-09-16T10:50:30.329Z"
   },
   {
    "duration": 0,
    "start_time": "2022-09-16T10:50:30.329Z"
   },
   {
    "duration": 0,
    "start_time": "2022-09-16T10:50:30.330Z"
   },
   {
    "duration": 4,
    "start_time": "2022-09-16T10:51:10.369Z"
   },
   {
    "duration": 3,
    "start_time": "2022-09-16T10:51:10.498Z"
   },
   {
    "duration": 4,
    "start_time": "2022-09-16T10:51:31.716Z"
   },
   {
    "duration": 9,
    "start_time": "2022-09-16T10:51:32.130Z"
   },
   {
    "duration": 111,
    "start_time": "2022-09-16T10:51:32.958Z"
   },
   {
    "duration": 356,
    "start_time": "2022-09-16T10:51:43.713Z"
   },
   {
    "duration": 12,
    "start_time": "2022-09-16T10:51:44.370Z"
   },
   {
    "duration": 8,
    "start_time": "2022-09-16T10:51:45.149Z"
   },
   {
    "duration": 92,
    "start_time": "2022-09-16T10:51:45.656Z"
   },
   {
    "duration": 987,
    "start_time": "2022-09-16T10:51:46.112Z"
   },
   {
    "duration": 11,
    "start_time": "2022-09-16T10:51:47.101Z"
   },
   {
    "duration": 0,
    "start_time": "2022-09-16T10:51:47.114Z"
   },
   {
    "duration": 0,
    "start_time": "2022-09-16T10:51:47.116Z"
   },
   {
    "duration": 0,
    "start_time": "2022-09-16T10:51:47.117Z"
   },
   {
    "duration": 11,
    "start_time": "2022-09-16T10:51:47.137Z"
   },
   {
    "duration": 8,
    "start_time": "2022-09-16T10:51:47.437Z"
   },
   {
    "duration": 107,
    "start_time": "2022-09-16T10:51:47.693Z"
   },
   {
    "duration": 1320,
    "start_time": "2022-09-16T10:51:47.918Z"
   },
   {
    "duration": 0,
    "start_time": "2022-09-16T10:51:49.240Z"
   },
   {
    "duration": 0,
    "start_time": "2022-09-16T10:51:49.242Z"
   },
   {
    "duration": 0,
    "start_time": "2022-09-16T10:51:49.243Z"
   },
   {
    "duration": 0,
    "start_time": "2022-09-16T10:51:49.245Z"
   },
   {
    "duration": 0,
    "start_time": "2022-09-16T10:51:49.246Z"
   },
   {
    "duration": 27,
    "start_time": "2022-09-16T10:51:49.251Z"
   },
   {
    "duration": 32,
    "start_time": "2022-09-16T10:51:49.448Z"
   },
   {
    "duration": 10,
    "start_time": "2022-09-16T10:52:12.608Z"
   },
   {
    "duration": 334,
    "start_time": "2022-09-16T10:52:16.575Z"
   },
   {
    "duration": 8,
    "start_time": "2022-09-16T10:52:16.911Z"
   },
   {
    "duration": 11,
    "start_time": "2022-09-16T10:52:26.797Z"
   },
   {
    "duration": 10,
    "start_time": "2022-09-16T10:52:36.630Z"
   },
   {
    "duration": 8,
    "start_time": "2022-09-16T10:52:42.258Z"
   },
   {
    "duration": 8,
    "start_time": "2022-09-16T10:52:45.761Z"
   },
   {
    "duration": 8,
    "start_time": "2022-09-16T10:52:58.848Z"
   },
   {
    "duration": 9,
    "start_time": "2022-09-16T10:54:28.023Z"
   },
   {
    "duration": 7,
    "start_time": "2022-09-16T10:54:37.352Z"
   },
   {
    "duration": 114,
    "start_time": "2022-09-16T10:54:39.731Z"
   },
   {
    "duration": 301,
    "start_time": "2022-09-16T10:54:46.476Z"
   },
   {
    "duration": 7,
    "start_time": "2022-09-16T10:55:28.539Z"
   },
   {
    "duration": 10,
    "start_time": "2022-09-16T10:55:35.141Z"
   },
   {
    "duration": 1316,
    "start_time": "2022-09-16T10:55:52.747Z"
   },
   {
    "duration": 1262,
    "start_time": "2022-09-16T10:55:57.601Z"
   },
   {
    "duration": 1320,
    "start_time": "2022-09-16T10:56:04.307Z"
   },
   {
    "duration": 9,
    "start_time": "2022-09-16T10:56:11.605Z"
   },
   {
    "duration": 7,
    "start_time": "2022-09-16T10:56:14.832Z"
   },
   {
    "duration": 115,
    "start_time": "2022-09-16T10:56:19.520Z"
   },
   {
    "duration": 8,
    "start_time": "2022-09-16T10:56:22.412Z"
   },
   {
    "duration": 9,
    "start_time": "2022-09-16T10:56:27.356Z"
   },
   {
    "duration": 149,
    "start_time": "2022-09-16T10:56:31.040Z"
   },
   {
    "duration": 4,
    "start_time": "2022-09-16T10:56:34.010Z"
   },
   {
    "duration": 4,
    "start_time": "2022-09-16T10:56:34.160Z"
   },
   {
    "duration": 196,
    "start_time": "2022-09-16T10:57:44.166Z"
   },
   {
    "duration": 4,
    "start_time": "2022-09-16T10:57:46.392Z"
   },
   {
    "duration": 3,
    "start_time": "2022-09-16T10:57:51.146Z"
   },
   {
    "duration": 4,
    "start_time": "2022-09-16T10:57:51.831Z"
   },
   {
    "duration": 28,
    "start_time": "2022-09-16T10:57:52.366Z"
   },
   {
    "duration": 4,
    "start_time": "2022-09-16T10:57:52.746Z"
   },
   {
    "duration": 33,
    "start_time": "2022-09-16T10:57:55.827Z"
   },
   {
    "duration": 3,
    "start_time": "2022-09-16T10:57:55.997Z"
   },
   {
    "duration": 4,
    "start_time": "2022-09-16T10:57:56.878Z"
   },
   {
    "duration": 26,
    "start_time": "2022-09-16T10:58:59.729Z"
   },
   {
    "duration": 4,
    "start_time": "2022-09-16T10:59:00.120Z"
   },
   {
    "duration": 5,
    "start_time": "2022-09-16T10:59:08.004Z"
   },
   {
    "duration": 4,
    "start_time": "2022-09-16T10:59:08.575Z"
   },
   {
    "duration": 36,
    "start_time": "2022-09-16T10:59:08.922Z"
   },
   {
    "duration": 5,
    "start_time": "2022-09-16T10:59:09.833Z"
   },
   {
    "duration": 4,
    "start_time": "2022-09-16T10:59:11.234Z"
   },
   {
    "duration": 3,
    "start_time": "2022-09-16T10:59:37.345Z"
   },
   {
    "duration": 4,
    "start_time": "2022-09-16T10:59:37.710Z"
   },
   {
    "duration": 30,
    "start_time": "2022-09-16T10:59:38.196Z"
   },
   {
    "duration": 3,
    "start_time": "2022-09-16T10:59:38.547Z"
   },
   {
    "duration": 3,
    "start_time": "2022-09-16T10:59:56.773Z"
   },
   {
    "duration": 3,
    "start_time": "2022-09-16T10:59:57.011Z"
   },
   {
    "duration": 32,
    "start_time": "2022-09-16T10:59:57.298Z"
   },
   {
    "duration": 4,
    "start_time": "2022-09-16T10:59:57.572Z"
   },
   {
    "duration": 3,
    "start_time": "2022-09-16T11:00:20.278Z"
   },
   {
    "duration": 19,
    "start_time": "2022-09-16T11:00:20.680Z"
   },
   {
    "duration": 8,
    "start_time": "2022-09-16T11:01:08.386Z"
   },
   {
    "duration": 158,
    "start_time": "2022-09-16T11:02:06.353Z"
   },
   {
    "duration": 4,
    "start_time": "2022-09-16T11:02:07.621Z"
   },
   {
    "duration": 5,
    "start_time": "2022-09-16T11:02:08.124Z"
   },
   {
    "duration": 34,
    "start_time": "2022-09-16T11:02:08.849Z"
   },
   {
    "duration": 4,
    "start_time": "2022-09-16T11:02:09.310Z"
   },
   {
    "duration": 4,
    "start_time": "2022-09-16T11:02:26.560Z"
   },
   {
    "duration": 9,
    "start_time": "2022-09-16T11:02:27.640Z"
   },
   {
    "duration": 21,
    "start_time": "2022-09-16T11:02:32.603Z"
   },
   {
    "duration": 4,
    "start_time": "2022-09-16T11:05:05.117Z"
   },
   {
    "duration": 4,
    "start_time": "2022-09-16T11:05:05.432Z"
   },
   {
    "duration": 36,
    "start_time": "2022-09-16T11:05:05.795Z"
   },
   {
    "duration": 4,
    "start_time": "2022-09-16T11:05:06.092Z"
   },
   {
    "duration": 4,
    "start_time": "2022-09-16T11:05:11.739Z"
   },
   {
    "duration": 7,
    "start_time": "2022-09-16T11:05:12.191Z"
   },
   {
    "duration": 142,
    "start_time": "2022-09-16T11:06:01.384Z"
   },
   {
    "duration": 5,
    "start_time": "2022-09-16T11:06:02.500Z"
   },
   {
    "duration": 4,
    "start_time": "2022-09-16T11:06:04.459Z"
   },
   {
    "duration": 36,
    "start_time": "2022-09-16T11:06:04.735Z"
   },
   {
    "duration": 4,
    "start_time": "2022-09-16T11:06:05.053Z"
   },
   {
    "duration": 4,
    "start_time": "2022-09-16T11:06:13.045Z"
   },
   {
    "duration": 4,
    "start_time": "2022-09-16T11:06:23.160Z"
   },
   {
    "duration": 9,
    "start_time": "2022-09-16T11:06:24.828Z"
   },
   {
    "duration": 24,
    "start_time": "2022-09-16T11:06:27.465Z"
   },
   {
    "duration": 4,
    "start_time": "2022-09-16T11:08:16.800Z"
   },
   {
    "duration": 4,
    "start_time": "2022-09-16T11:08:16.983Z"
   },
   {
    "duration": 33,
    "start_time": "2022-09-16T11:08:17.115Z"
   },
   {
    "duration": 4,
    "start_time": "2022-09-16T11:08:17.259Z"
   },
   {
    "duration": 3,
    "start_time": "2022-09-16T11:08:50.327Z"
   },
   {
    "duration": 3,
    "start_time": "2022-09-16T11:08:50.667Z"
   },
   {
    "duration": 32,
    "start_time": "2022-09-16T11:08:51.011Z"
   },
   {
    "duration": 3,
    "start_time": "2022-09-16T11:08:51.340Z"
   },
   {
    "duration": 146,
    "start_time": "2022-09-16T11:10:04.100Z"
   },
   {
    "duration": 4,
    "start_time": "2022-09-16T11:10:04.395Z"
   },
   {
    "duration": 4,
    "start_time": "2022-09-16T11:10:04.843Z"
   },
   {
    "duration": 139,
    "start_time": "2022-09-16T11:10:06.087Z"
   },
   {
    "duration": 3,
    "start_time": "2022-09-16T11:10:06.840Z"
   },
   {
    "duration": 4,
    "start_time": "2022-09-16T11:10:26.771Z"
   },
   {
    "duration": 4,
    "start_time": "2022-09-16T11:10:27.136Z"
   },
   {
    "duration": 32,
    "start_time": "2022-09-16T11:10:27.742Z"
   },
   {
    "duration": 4,
    "start_time": "2022-09-16T11:10:28.214Z"
   },
   {
    "duration": 299,
    "start_time": "2022-09-16T11:15:05.125Z"
   },
   {
    "duration": 269,
    "start_time": "2022-09-16T11:15:05.508Z"
   },
   {
    "duration": 4,
    "start_time": "2022-09-16T11:16:17.538Z"
   },
   {
    "duration": 4,
    "start_time": "2022-09-16T11:16:18.307Z"
   },
   {
    "duration": 23,
    "start_time": "2022-09-16T11:16:20.958Z"
   },
   {
    "duration": 4,
    "start_time": "2022-09-16T11:16:21.376Z"
   },
   {
    "duration": 6,
    "start_time": "2022-09-16T11:18:33.357Z"
   },
   {
    "duration": 159,
    "start_time": "2022-09-16T11:18:33.863Z"
   },
   {
    "duration": 3,
    "start_time": "2022-09-16T11:20:46.418Z"
   },
   {
    "duration": 3,
    "start_time": "2022-09-16T11:20:46.851Z"
   },
   {
    "duration": 24,
    "start_time": "2022-09-16T11:20:47.136Z"
   },
   {
    "duration": 4,
    "start_time": "2022-09-16T11:20:47.704Z"
   },
   {
    "duration": 3,
    "start_time": "2022-09-16T11:20:51.303Z"
   },
   {
    "duration": 588,
    "start_time": "2022-09-16T11:21:39.665Z"
   },
   {
    "duration": 777,
    "start_time": "2022-09-16T11:22:39.872Z"
   },
   {
    "duration": 603,
    "start_time": "2022-09-16T11:22:58.823Z"
   },
   {
    "duration": 23,
    "start_time": "2022-09-16T11:23:16.814Z"
   },
   {
    "duration": 3,
    "start_time": "2022-09-16T11:23:19.534Z"
   },
   {
    "duration": 804,
    "start_time": "2022-09-16T11:23:22.044Z"
   },
   {
    "duration": 4,
    "start_time": "2022-09-16T11:23:22.850Z"
   },
   {
    "duration": 6,
    "start_time": "2022-09-16T11:23:22.856Z"
   },
   {
    "duration": 24,
    "start_time": "2022-09-16T11:23:22.876Z"
   },
   {
    "duration": 4,
    "start_time": "2022-09-16T11:23:23.279Z"
   },
   {
    "duration": 4322,
    "start_time": "2022-09-16T11:24:20.863Z"
   },
   {
    "duration": 4599,
    "start_time": "2022-09-16T11:24:29.837Z"
   },
   {
    "duration": 771,
    "start_time": "2022-09-16T11:25:09.883Z"
   },
   {
    "duration": 609,
    "start_time": "2022-09-16T11:26:27.302Z"
   },
   {
    "duration": 279,
    "start_time": "2022-09-16T11:26:33.715Z"
   },
   {
    "duration": 285,
    "start_time": "2022-09-16T11:26:42.077Z"
   },
   {
    "duration": 263,
    "start_time": "2022-09-16T11:26:48.350Z"
   },
   {
    "duration": 4,
    "start_time": "2022-09-16T11:27:11.216Z"
   },
   {
    "duration": 5,
    "start_time": "2022-09-16T11:27:11.222Z"
   },
   {
    "duration": 23,
    "start_time": "2022-09-16T11:27:11.864Z"
   },
   {
    "duration": 4,
    "start_time": "2022-09-16T11:27:12.304Z"
   },
   {
    "duration": 4,
    "start_time": "2022-09-16T11:27:14.375Z"
   },
   {
    "duration": 4,
    "start_time": "2022-09-16T11:27:32.802Z"
   },
   {
    "duration": 5,
    "start_time": "2022-09-16T11:27:33.150Z"
   },
   {
    "duration": 21,
    "start_time": "2022-09-16T11:27:33.519Z"
   },
   {
    "duration": 4,
    "start_time": "2022-09-16T11:27:33.981Z"
   },
   {
    "duration": 3,
    "start_time": "2022-09-16T11:27:34.516Z"
   },
   {
    "duration": 4,
    "start_time": "2022-09-16T11:27:36.744Z"
   },
   {
    "duration": 4412,
    "start_time": "2022-09-16T11:28:19.301Z"
   },
   {
    "duration": 4170,
    "start_time": "2022-09-16T11:28:29.845Z"
   },
   {
    "duration": 791,
    "start_time": "2022-09-16T11:28:55.786Z"
   },
   {
    "duration": 4,
    "start_time": "2022-09-16T11:29:08.084Z"
   },
   {
    "duration": 3,
    "start_time": "2022-09-16T11:29:08.278Z"
   },
   {
    "duration": 19,
    "start_time": "2022-09-16T11:29:08.444Z"
   },
   {
    "duration": 3,
    "start_time": "2022-09-16T11:29:08.787Z"
   },
   {
    "duration": 4,
    "start_time": "2022-09-16T11:29:09.846Z"
   },
   {
    "duration": 4,
    "start_time": "2022-09-16T11:29:37.651Z"
   },
   {
    "duration": 4,
    "start_time": "2022-09-16T11:29:38.111Z"
   },
   {
    "duration": 31,
    "start_time": "2022-09-16T11:29:38.438Z"
   },
   {
    "duration": 4,
    "start_time": "2022-09-16T11:29:38.663Z"
   },
   {
    "duration": 4,
    "start_time": "2022-09-16T11:29:40.485Z"
   },
   {
    "duration": 4,
    "start_time": "2022-09-16T11:30:17.482Z"
   },
   {
    "duration": 3,
    "start_time": "2022-09-16T11:30:17.702Z"
   },
   {
    "duration": 35,
    "start_time": "2022-09-16T11:30:17.881Z"
   },
   {
    "duration": 3,
    "start_time": "2022-09-16T11:30:18.424Z"
   },
   {
    "duration": 3,
    "start_time": "2022-09-16T11:30:19.876Z"
   },
   {
    "duration": 4,
    "start_time": "2022-09-16T11:30:26.779Z"
   },
   {
    "duration": 4,
    "start_time": "2022-09-16T11:30:27.140Z"
   },
   {
    "duration": 28,
    "start_time": "2022-09-16T11:30:27.482Z"
   },
   {
    "duration": 4,
    "start_time": "2022-09-16T11:30:27.766Z"
   },
   {
    "duration": 3,
    "start_time": "2022-09-16T11:30:28.376Z"
   },
   {
    "duration": 463,
    "start_time": "2022-09-16T11:30:55.178Z"
   },
   {
    "duration": 618,
    "start_time": "2022-09-16T11:32:59.730Z"
   },
   {
    "duration": 4,
    "start_time": "2022-09-16T11:33:11.328Z"
   },
   {
    "duration": 4,
    "start_time": "2022-09-16T11:33:11.740Z"
   },
   {
    "duration": 29,
    "start_time": "2022-09-16T11:33:12.062Z"
   },
   {
    "duration": 4,
    "start_time": "2022-09-16T11:33:12.384Z"
   },
   {
    "duration": 3,
    "start_time": "2022-09-16T11:33:14.317Z"
   },
   {
    "duration": 99,
    "start_time": "2022-09-16T11:37:57.457Z"
   },
   {
    "duration": 96,
    "start_time": "2022-09-16T11:38:05.404Z"
   },
   {
    "duration": 121,
    "start_time": "2022-09-16T11:38:12.659Z"
   },
   {
    "duration": 11,
    "start_time": "2022-09-16T11:38:13.324Z"
   },
   {
    "duration": 12,
    "start_time": "2022-09-16T11:38:15.940Z"
   },
   {
    "duration": 1174,
    "start_time": "2022-09-16T11:38:39.886Z"
   },
   {
    "duration": 2013,
    "start_time": "2022-09-16T11:38:41.062Z"
   },
   {
    "duration": 31,
    "start_time": "2022-09-16T11:38:43.077Z"
   },
   {
    "duration": 108,
    "start_time": "2022-09-16T11:38:43.110Z"
   },
   {
    "duration": 202,
    "start_time": "2022-09-16T11:38:43.220Z"
   },
   {
    "duration": 10,
    "start_time": "2022-09-16T11:38:43.423Z"
   },
   {
    "duration": 13,
    "start_time": "2022-09-16T11:38:43.434Z"
   },
   {
    "duration": 36,
    "start_time": "2022-09-16T11:38:43.449Z"
   },
   {
    "duration": 6,
    "start_time": "2022-09-16T11:38:43.487Z"
   },
   {
    "duration": 10,
    "start_time": "2022-09-16T11:38:43.494Z"
   },
   {
    "duration": 8,
    "start_time": "2022-09-16T11:38:43.505Z"
   },
   {
    "duration": 197,
    "start_time": "2022-09-16T11:38:43.514Z"
   },
   {
    "duration": 6,
    "start_time": "2022-09-16T11:38:43.713Z"
   },
   {
    "duration": 9,
    "start_time": "2022-09-16T11:38:43.721Z"
   },
   {
    "duration": 15,
    "start_time": "2022-09-16T11:38:43.732Z"
   },
   {
    "duration": 4,
    "start_time": "2022-09-16T11:38:43.749Z"
   },
   {
    "duration": 97,
    "start_time": "2022-09-16T11:38:43.755Z"
   },
   {
    "duration": 66,
    "start_time": "2022-09-16T11:38:43.855Z"
   },
   {
    "duration": 27,
    "start_time": "2022-09-16T11:38:43.923Z"
   },
   {
    "duration": 4,
    "start_time": "2022-09-16T11:38:43.952Z"
   },
   {
    "duration": 4,
    "start_time": "2022-09-16T11:38:43.977Z"
   },
   {
    "duration": 29,
    "start_time": "2022-09-16T11:38:43.983Z"
   },
   {
    "duration": 13,
    "start_time": "2022-09-16T11:38:44.013Z"
   },
   {
    "duration": 8,
    "start_time": "2022-09-16T11:38:44.028Z"
   },
   {
    "duration": 4,
    "start_time": "2022-09-16T11:38:44.038Z"
   },
   {
    "duration": 12,
    "start_time": "2022-09-16T11:38:44.076Z"
   },
   {
    "duration": 10,
    "start_time": "2022-09-16T11:38:44.090Z"
   },
   {
    "duration": 108,
    "start_time": "2022-09-16T11:38:44.102Z"
   },
   {
    "duration": 12,
    "start_time": "2022-09-16T11:38:44.212Z"
   },
   {
    "duration": 2784,
    "start_time": "2022-09-16T11:38:44.225Z"
   },
   {
    "duration": 7,
    "start_time": "2022-09-16T11:38:47.011Z"
   },
   {
    "duration": 30,
    "start_time": "2022-09-16T11:38:47.019Z"
   },
   {
    "duration": 8,
    "start_time": "2022-09-16T11:38:47.051Z"
   },
   {
    "duration": 24,
    "start_time": "2022-09-16T11:38:47.060Z"
   },
   {
    "duration": 130,
    "start_time": "2022-09-16T11:38:47.085Z"
   },
   {
    "duration": 332,
    "start_time": "2022-09-16T11:38:47.216Z"
   },
   {
    "duration": 10,
    "start_time": "2022-09-16T11:38:47.549Z"
   },
   {
    "duration": 19,
    "start_time": "2022-09-16T11:38:47.561Z"
   },
   {
    "duration": 135,
    "start_time": "2022-09-16T11:38:47.582Z"
   },
   {
    "duration": 974,
    "start_time": "2022-09-16T11:38:47.719Z"
   },
   {
    "duration": 9,
    "start_time": "2022-09-16T11:38:48.697Z"
   },
   {
    "duration": 18,
    "start_time": "2022-09-16T11:38:48.707Z"
   },
   {
    "duration": 91,
    "start_time": "2022-09-16T11:38:48.727Z"
   },
   {
    "duration": 323,
    "start_time": "2022-09-16T11:38:48.819Z"
   },
   {
    "duration": 7,
    "start_time": "2022-09-16T11:38:49.144Z"
   },
   {
    "duration": 18,
    "start_time": "2022-09-16T11:38:49.153Z"
   },
   {
    "duration": 92,
    "start_time": "2022-09-16T11:38:49.177Z"
   },
   {
    "duration": 1280,
    "start_time": "2022-09-16T11:38:49.277Z"
   },
   {
    "duration": 10,
    "start_time": "2022-09-16T11:38:50.558Z"
   },
   {
    "duration": 7,
    "start_time": "2022-09-16T11:38:50.577Z"
   },
   {
    "duration": 122,
    "start_time": "2022-09-16T11:38:50.586Z"
   },
   {
    "duration": 157,
    "start_time": "2022-09-16T11:38:50.709Z"
   },
   {
    "duration": 294,
    "start_time": "2022-09-16T11:38:50.868Z"
   },
   {
    "duration": 4042,
    "start_time": "2022-09-16T11:38:51.163Z"
   },
   {
    "duration": 1114,
    "start_time": "2022-09-16T11:38:55.207Z"
   },
   {
    "duration": 315,
    "start_time": "2022-09-16T11:38:56.322Z"
   },
   {
    "duration": 735,
    "start_time": "2022-09-16T11:38:56.639Z"
   },
   {
    "duration": 731,
    "start_time": "2022-09-16T11:38:57.376Z"
   },
   {
    "duration": 673,
    "start_time": "2022-09-16T11:38:58.109Z"
   },
   {
    "duration": 4,
    "start_time": "2022-09-16T11:38:58.783Z"
   },
   {
    "duration": 9,
    "start_time": "2022-09-16T11:38:58.789Z"
   },
   {
    "duration": 325,
    "start_time": "2022-09-16T11:38:58.800Z"
   },
   {
    "duration": 4,
    "start_time": "2022-09-16T11:38:59.178Z"
   },
   {
    "duration": 11,
    "start_time": "2022-09-16T11:38:59.183Z"
   },
   {
    "duration": 12,
    "start_time": "2022-09-16T11:38:59.196Z"
   },
   {
    "duration": 79,
    "start_time": "2022-09-16T11:38:59.210Z"
   },
   {
    "duration": 25,
    "start_time": "2022-09-16T11:38:59.290Z"
   },
   {
    "duration": 71,
    "start_time": "2022-09-16T11:38:59.317Z"
   },
   {
    "duration": 599,
    "start_time": "2022-09-16T11:38:59.390Z"
   },
   {
    "duration": 533,
    "start_time": "2022-09-16T11:38:59.990Z"
   },
   {
    "duration": 169,
    "start_time": "2022-09-16T11:39:00.525Z"
   },
   {
    "duration": 6,
    "start_time": "2022-09-16T11:39:00.695Z"
   },
   {
    "duration": 175,
    "start_time": "2022-09-16T11:39:00.702Z"
   },
   {
    "duration": 6,
    "start_time": "2022-09-16T11:39:00.878Z"
   },
   {
    "duration": 18,
    "start_time": "2022-09-16T11:39:00.886Z"
   },
   {
    "duration": 25,
    "start_time": "2022-09-16T11:39:00.905Z"
   },
   {
    "duration": 14,
    "start_time": "2022-09-16T11:39:00.932Z"
   },
   {
    "duration": 6,
    "start_time": "2022-09-16T11:39:00.947Z"
   },
   {
    "duration": 27,
    "start_time": "2022-09-16T11:39:00.954Z"
   },
   {
    "duration": 11,
    "start_time": "2022-09-16T11:39:00.983Z"
   },
   {
    "duration": 18,
    "start_time": "2022-09-16T11:39:00.995Z"
   },
   {
    "duration": 216,
    "start_time": "2022-09-16T11:39:01.014Z"
   },
   {
    "duration": 9,
    "start_time": "2022-09-16T11:39:01.231Z"
   },
   {
    "duration": 13,
    "start_time": "2022-09-16T11:39:01.241Z"
   },
   {
    "duration": 22,
    "start_time": "2022-09-16T11:39:01.256Z"
   },
   {
    "duration": 275,
    "start_time": "2022-09-16T11:39:01.279Z"
   },
   {
    "duration": 400,
    "start_time": "2022-09-16T11:39:01.556Z"
   },
   {
    "duration": 278,
    "start_time": "2022-09-16T11:39:01.957Z"
   },
   {
    "duration": 280,
    "start_time": "2022-09-16T11:39:02.237Z"
   },
   {
    "duration": 169,
    "start_time": "2022-09-16T11:39:02.518Z"
   },
   {
    "duration": 139,
    "start_time": "2022-09-16T11:39:02.689Z"
   },
   {
    "duration": 175,
    "start_time": "2022-09-16T11:39:02.829Z"
   },
   {
    "duration": 181,
    "start_time": "2022-09-16T11:39:03.006Z"
   },
   {
    "duration": 179,
    "start_time": "2022-09-16T11:39:03.188Z"
   },
   {
    "duration": 179,
    "start_time": "2022-09-16T11:39:03.369Z"
   },
   {
    "duration": 316,
    "start_time": "2022-09-16T11:39:03.549Z"
   },
   {
    "duration": 189,
    "start_time": "2022-09-16T11:39:03.867Z"
   },
   {
    "duration": 177,
    "start_time": "2022-09-16T11:39:04.057Z"
   },
   {
    "duration": 170,
    "start_time": "2022-09-16T11:39:04.236Z"
   },
   {
    "duration": 484,
    "start_time": "2022-09-16T11:39:04.408Z"
   },
   {
    "duration": 472,
    "start_time": "2022-09-16T11:39:04.894Z"
   },
   {
    "duration": 329,
    "start_time": "2022-09-16T11:39:05.368Z"
   },
   {
    "duration": 14,
    "start_time": "2022-09-16T11:39:05.699Z"
   },
   {
    "duration": 366,
    "start_time": "2022-09-16T11:39:05.716Z"
   },
   {
    "duration": 232,
    "start_time": "2022-09-16T11:39:06.084Z"
   },
   {
    "duration": 234,
    "start_time": "2022-09-16T11:39:06.317Z"
   },
   {
    "duration": 158,
    "start_time": "2022-09-16T11:39:06.553Z"
   },
   {
    "duration": 155,
    "start_time": "2022-09-16T11:39:06.713Z"
   },
   {
    "duration": 182,
    "start_time": "2022-09-16T11:39:06.870Z"
   },
   {
    "duration": 263,
    "start_time": "2022-09-16T11:39:07.053Z"
   },
   {
    "duration": 163,
    "start_time": "2022-09-16T11:39:07.318Z"
   },
   {
    "duration": 171,
    "start_time": "2022-09-16T11:39:07.482Z"
   },
   {
    "duration": 188,
    "start_time": "2022-09-16T11:39:07.655Z"
   },
   {
    "duration": 146,
    "start_time": "2022-09-16T11:39:07.845Z"
   },
   {
    "duration": 165,
    "start_time": "2022-09-16T11:39:07.992Z"
   },
   {
    "duration": 23,
    "start_time": "2022-09-16T11:39:08.159Z"
   },
   {
    "duration": 7,
    "start_time": "2022-09-16T11:39:08.183Z"
   },
   {
    "duration": 10,
    "start_time": "2022-09-16T11:39:08.192Z"
   },
   {
    "duration": 159,
    "start_time": "2022-09-16T11:39:08.204Z"
   },
   {
    "duration": 2,
    "start_time": "2022-09-16T11:39:08.365Z"
   },
   {
    "duration": 3,
    "start_time": "2022-09-16T11:39:27.416Z"
   },
   {
    "duration": 9421,
    "start_time": "2022-09-16T11:39:27.422Z"
   },
   {
    "duration": 395,
    "start_time": "2022-09-16T11:39:36.845Z"
   },
   {
    "duration": 109,
    "start_time": "2022-09-16T11:39:37.241Z"
   },
   {
    "duration": 88,
    "start_time": "2022-09-16T11:39:37.352Z"
   },
   {
    "duration": 154,
    "start_time": "2022-09-16T11:43:30.874Z"
   },
   {
    "duration": 73,
    "start_time": "2022-09-16T11:43:52.213Z"
   },
   {
    "duration": 1164,
    "start_time": "2022-09-16T11:43:59.127Z"
   },
   {
    "duration": 1924,
    "start_time": "2022-09-16T11:44:00.292Z"
   },
   {
    "duration": 36,
    "start_time": "2022-09-16T11:44:02.218Z"
   },
   {
    "duration": 94,
    "start_time": "2022-09-16T11:44:02.256Z"
   },
   {
    "duration": 219,
    "start_time": "2022-09-16T11:44:02.352Z"
   },
   {
    "duration": 11,
    "start_time": "2022-09-16T11:44:02.572Z"
   },
   {
    "duration": 17,
    "start_time": "2022-09-16T11:44:02.584Z"
   },
   {
    "duration": 18,
    "start_time": "2022-09-16T11:44:02.602Z"
   },
   {
    "duration": 9,
    "start_time": "2022-09-16T11:44:02.622Z"
   },
   {
    "duration": 9,
    "start_time": "2022-09-16T11:44:02.635Z"
   },
   {
    "duration": 9,
    "start_time": "2022-09-16T11:44:02.646Z"
   },
   {
    "duration": 188,
    "start_time": "2022-09-16T11:44:02.678Z"
   },
   {
    "duration": 14,
    "start_time": "2022-09-16T11:44:02.868Z"
   },
   {
    "duration": 6,
    "start_time": "2022-09-16T11:44:02.883Z"
   },
   {
    "duration": 15,
    "start_time": "2022-09-16T11:44:02.890Z"
   },
   {
    "duration": 5,
    "start_time": "2022-09-16T11:44:02.906Z"
   },
   {
    "duration": 96,
    "start_time": "2022-09-16T11:44:02.912Z"
   },
   {
    "duration": 53,
    "start_time": "2022-09-16T11:44:03.010Z"
   },
   {
    "duration": 38,
    "start_time": "2022-09-16T11:44:03.065Z"
   },
   {
    "duration": 4,
    "start_time": "2022-09-16T11:44:03.105Z"
   },
   {
    "duration": 8,
    "start_time": "2022-09-16T11:44:03.110Z"
   },
   {
    "duration": 33,
    "start_time": "2022-09-16T11:44:03.119Z"
   },
   {
    "duration": 27,
    "start_time": "2022-09-16T11:44:03.154Z"
   },
   {
    "duration": 8,
    "start_time": "2022-09-16T11:44:03.183Z"
   },
   {
    "duration": 5,
    "start_time": "2022-09-16T11:44:03.192Z"
   },
   {
    "duration": 13,
    "start_time": "2022-09-16T11:44:03.199Z"
   },
   {
    "duration": 14,
    "start_time": "2022-09-16T11:44:03.214Z"
   },
   {
    "duration": 118,
    "start_time": "2022-09-16T11:44:03.232Z"
   },
   {
    "duration": 12,
    "start_time": "2022-09-16T11:44:03.351Z"
   },
   {
    "duration": 3343,
    "start_time": "2022-09-16T11:44:03.377Z"
   },
   {
    "duration": 11,
    "start_time": "2022-09-16T11:44:06.722Z"
   },
   {
    "duration": 45,
    "start_time": "2022-09-16T11:44:06.735Z"
   },
   {
    "duration": 6,
    "start_time": "2022-09-16T11:44:06.782Z"
   },
   {
    "duration": 16,
    "start_time": "2022-09-16T11:44:06.790Z"
   },
   {
    "duration": 121,
    "start_time": "2022-09-16T11:44:06.808Z"
   },
   {
    "duration": 360,
    "start_time": "2022-09-16T11:44:06.931Z"
   },
   {
    "duration": 10,
    "start_time": "2022-09-16T11:44:07.292Z"
   },
   {
    "duration": 7,
    "start_time": "2022-09-16T11:44:07.304Z"
   },
   {
    "duration": 120,
    "start_time": "2022-09-16T11:44:07.312Z"
   },
   {
    "duration": 1057,
    "start_time": "2022-09-16T11:44:07.434Z"
   },
   {
    "duration": 10,
    "start_time": "2022-09-16T11:44:08.494Z"
   },
   {
    "duration": 8,
    "start_time": "2022-09-16T11:44:08.506Z"
   },
   {
    "duration": 113,
    "start_time": "2022-09-16T11:44:08.515Z"
   },
   {
    "duration": 340,
    "start_time": "2022-09-16T11:44:08.630Z"
   },
   {
    "duration": 9,
    "start_time": "2022-09-16T11:44:08.977Z"
   },
   {
    "duration": 9,
    "start_time": "2022-09-16T11:44:08.988Z"
   },
   {
    "duration": 105,
    "start_time": "2022-09-16T11:44:08.998Z"
   },
   {
    "duration": 1319,
    "start_time": "2022-09-16T11:44:09.105Z"
   },
   {
    "duration": 13,
    "start_time": "2022-09-16T11:44:10.427Z"
   },
   {
    "duration": 18,
    "start_time": "2022-09-16T11:44:10.442Z"
   },
   {
    "duration": 123,
    "start_time": "2022-09-16T11:44:10.462Z"
   },
   {
    "duration": 165,
    "start_time": "2022-09-16T11:44:10.587Z"
   },
   {
    "duration": 294,
    "start_time": "2022-09-16T11:44:10.754Z"
   },
   {
    "duration": 4127,
    "start_time": "2022-09-16T11:44:11.050Z"
   },
   {
    "duration": 1124,
    "start_time": "2022-09-16T11:44:15.179Z"
   },
   {
    "duration": 284,
    "start_time": "2022-09-16T11:44:16.305Z"
   },
   {
    "duration": 688,
    "start_time": "2022-09-16T11:44:16.591Z"
   },
   {
    "duration": 723,
    "start_time": "2022-09-16T11:44:17.280Z"
   },
   {
    "duration": 606,
    "start_time": "2022-09-16T11:44:18.005Z"
   },
   {
    "duration": 5,
    "start_time": "2022-09-16T11:44:18.613Z"
   },
   {
    "duration": 13,
    "start_time": "2022-09-16T11:44:18.620Z"
   },
   {
    "duration": 178,
    "start_time": "2022-09-16T11:44:18.635Z"
   },
   {
    "duration": 3,
    "start_time": "2022-09-16T11:44:18.815Z"
   },
   {
    "duration": 11,
    "start_time": "2022-09-16T11:44:18.820Z"
   },
   {
    "duration": 28,
    "start_time": "2022-09-16T11:44:18.832Z"
   },
   {
    "duration": 26,
    "start_time": "2022-09-16T11:44:18.861Z"
   },
   {
    "duration": 24,
    "start_time": "2022-09-16T11:44:18.888Z"
   },
   {
    "duration": 13,
    "start_time": "2022-09-16T11:44:18.913Z"
   },
   {
    "duration": 344,
    "start_time": "2022-09-16T11:44:18.928Z"
   },
   {
    "duration": 316,
    "start_time": "2022-09-16T11:44:19.277Z"
   },
   {
    "duration": 168,
    "start_time": "2022-09-16T11:44:19.595Z"
   },
   {
    "duration": 14,
    "start_time": "2022-09-16T11:44:19.764Z"
   },
   {
    "duration": 180,
    "start_time": "2022-09-16T11:44:19.779Z"
   },
   {
    "duration": 17,
    "start_time": "2022-09-16T11:44:19.960Z"
   },
   {
    "duration": 14,
    "start_time": "2022-09-16T11:44:19.979Z"
   },
   {
    "duration": 17,
    "start_time": "2022-09-16T11:44:19.995Z"
   },
   {
    "duration": 20,
    "start_time": "2022-09-16T11:44:20.015Z"
   },
   {
    "duration": 8,
    "start_time": "2022-09-16T11:44:20.037Z"
   },
   {
    "duration": 41,
    "start_time": "2022-09-16T11:44:20.047Z"
   },
   {
    "duration": 11,
    "start_time": "2022-09-16T11:44:20.089Z"
   },
   {
    "duration": 11,
    "start_time": "2022-09-16T11:44:20.101Z"
   },
   {
    "duration": 249,
    "start_time": "2022-09-16T11:44:20.117Z"
   },
   {
    "duration": 10,
    "start_time": "2022-09-16T11:44:20.368Z"
   },
   {
    "duration": 14,
    "start_time": "2022-09-16T11:44:20.380Z"
   },
   {
    "duration": 15,
    "start_time": "2022-09-16T11:44:20.396Z"
   },
   {
    "duration": 326,
    "start_time": "2022-09-16T11:44:20.412Z"
   },
   {
    "duration": 459,
    "start_time": "2022-09-16T11:44:20.741Z"
   },
   {
    "duration": 294,
    "start_time": "2022-09-16T11:44:21.201Z"
   },
   {
    "duration": 294,
    "start_time": "2022-09-16T11:44:21.497Z"
   },
   {
    "duration": 188,
    "start_time": "2022-09-16T11:44:21.792Z"
   },
   {
    "duration": 141,
    "start_time": "2022-09-16T11:44:21.982Z"
   },
   {
    "duration": 180,
    "start_time": "2022-09-16T11:44:22.124Z"
   },
   {
    "duration": 189,
    "start_time": "2022-09-16T11:44:22.305Z"
   },
   {
    "duration": 190,
    "start_time": "2022-09-16T11:44:22.496Z"
   },
   {
    "duration": 204,
    "start_time": "2022-09-16T11:44:22.687Z"
   },
   {
    "duration": 334,
    "start_time": "2022-09-16T11:44:22.893Z"
   },
   {
    "duration": 196,
    "start_time": "2022-09-16T11:44:23.228Z"
   },
   {
    "duration": 183,
    "start_time": "2022-09-16T11:44:23.425Z"
   },
   {
    "duration": 182,
    "start_time": "2022-09-16T11:44:23.609Z"
   },
   {
    "duration": 500,
    "start_time": "2022-09-16T11:44:23.793Z"
   },
   {
    "duration": 478,
    "start_time": "2022-09-16T11:44:24.295Z"
   },
   {
    "duration": 372,
    "start_time": "2022-09-16T11:44:24.776Z"
   },
   {
    "duration": 16,
    "start_time": "2022-09-16T11:44:25.149Z"
   },
   {
    "duration": 334,
    "start_time": "2022-09-16T11:44:25.178Z"
   },
   {
    "duration": 220,
    "start_time": "2022-09-16T11:44:25.513Z"
   },
   {
    "duration": 213,
    "start_time": "2022-09-16T11:44:25.734Z"
   },
   {
    "duration": 192,
    "start_time": "2022-09-16T11:44:25.948Z"
   },
   {
    "duration": 185,
    "start_time": "2022-09-16T11:44:26.141Z"
   },
   {
    "duration": 197,
    "start_time": "2022-09-16T11:44:26.328Z"
   },
   {
    "duration": 240,
    "start_time": "2022-09-16T11:44:26.526Z"
   },
   {
    "duration": 159,
    "start_time": "2022-09-16T11:44:26.767Z"
   },
   {
    "duration": 161,
    "start_time": "2022-09-16T11:44:26.928Z"
   },
   {
    "duration": 141,
    "start_time": "2022-09-16T11:44:27.091Z"
   },
   {
    "duration": 126,
    "start_time": "2022-09-16T11:44:27.234Z"
   },
   {
    "duration": 164,
    "start_time": "2022-09-16T11:44:27.362Z"
   },
   {
    "duration": 22,
    "start_time": "2022-09-16T11:44:27.528Z"
   },
   {
    "duration": 6,
    "start_time": "2022-09-16T11:44:27.552Z"
   },
   {
    "duration": 7,
    "start_time": "2022-09-16T11:44:27.578Z"
   },
   {
    "duration": 202,
    "start_time": "2022-09-16T11:44:27.586Z"
   },
   {
    "duration": 3,
    "start_time": "2022-09-16T11:44:27.790Z"
   },
   {
    "duration": 8858,
    "start_time": "2022-09-16T11:44:27.795Z"
   },
   {
    "duration": 389,
    "start_time": "2022-09-16T11:44:36.655Z"
   },
   {
    "duration": 107,
    "start_time": "2022-09-16T11:44:37.046Z"
   },
   {
    "duration": 87,
    "start_time": "2022-09-16T11:44:37.155Z"
   },
   {
    "duration": 75,
    "start_time": "2022-09-16T11:44:37.246Z"
   },
   {
    "duration": 12,
    "start_time": "2022-09-16T11:44:37.323Z"
   },
   {
    "duration": 70,
    "start_time": "2022-09-16T11:44:59.650Z"
   },
   {
    "duration": 15,
    "start_time": "2022-09-16T11:45:00.103Z"
   },
   {
    "duration": 71,
    "start_time": "2022-09-16T11:45:05.038Z"
   },
   {
    "duration": 13,
    "start_time": "2022-09-16T11:45:05.767Z"
   },
   {
    "duration": 35,
    "start_time": "2022-09-16T11:49:12.422Z"
   },
   {
    "duration": 27,
    "start_time": "2022-09-16T11:49:43.116Z"
   },
   {
    "duration": 4,
    "start_time": "2022-09-16T11:49:43.574Z"
   },
   {
    "duration": 3,
    "start_time": "2022-09-16T11:49:44.113Z"
   },
   {
    "duration": 4,
    "start_time": "2022-09-16T11:49:48.476Z"
   },
   {
    "duration": 3,
    "start_time": "2022-09-16T11:49:48.819Z"
   },
   {
    "duration": 28,
    "start_time": "2022-09-16T11:49:49.170Z"
   },
   {
    "duration": 4,
    "start_time": "2022-09-16T11:49:49.515Z"
   },
   {
    "duration": 4,
    "start_time": "2022-09-16T11:49:50.526Z"
   },
   {
    "duration": 3,
    "start_time": "2022-09-16T11:49:53.208Z"
   },
   {
    "duration": 4,
    "start_time": "2022-09-16T11:49:53.902Z"
   },
   {
    "duration": 29,
    "start_time": "2022-09-16T11:49:54.422Z"
   },
   {
    "duration": 4,
    "start_time": "2022-09-16T11:49:56.555Z"
   },
   {
    "duration": 4,
    "start_time": "2022-09-16T11:49:59.105Z"
   },
   {
    "duration": 7,
    "start_time": "2022-09-16T11:50:49.350Z"
   },
   {
    "duration": 11,
    "start_time": "2022-09-16T11:50:49.547Z"
   },
   {
    "duration": 10,
    "start_time": "2022-09-16T11:50:49.726Z"
   },
   {
    "duration": 12,
    "start_time": "2022-09-16T11:50:49.902Z"
   },
   {
    "duration": 202,
    "start_time": "2022-09-16T11:50:50.072Z"
   },
   {
    "duration": 9,
    "start_time": "2022-09-16T11:50:51.102Z"
   },
   {
    "duration": 6,
    "start_time": "2022-09-16T11:50:51.602Z"
   },
   {
    "duration": 15,
    "start_time": "2022-09-16T11:50:51.874Z"
   },
   {
    "duration": 290,
    "start_time": "2022-09-16T11:50:52.752Z"
   },
   {
    "duration": 270,
    "start_time": "2022-09-16T11:50:53.151Z"
   },
   {
    "duration": 289,
    "start_time": "2022-09-16T11:50:53.422Z"
   },
   {
    "duration": 271,
    "start_time": "2022-09-16T11:50:53.713Z"
   },
   {
    "duration": 843,
    "start_time": "2022-09-16T11:50:54.221Z"
   },
   {
    "duration": 127,
    "start_time": "2022-09-16T11:50:55.066Z"
   },
   {
    "duration": 185,
    "start_time": "2022-09-16T11:50:55.195Z"
   },
   {
    "duration": 179,
    "start_time": "2022-09-16T11:50:55.382Z"
   },
   {
    "duration": 198,
    "start_time": "2022-09-16T11:50:55.563Z"
   },
   {
    "duration": 180,
    "start_time": "2022-09-16T11:50:55.763Z"
   },
   {
    "duration": 187,
    "start_time": "2022-09-16T11:50:55.945Z"
   },
   {
    "duration": 208,
    "start_time": "2022-09-16T11:50:57.269Z"
   },
   {
    "duration": 242,
    "start_time": "2022-09-16T11:50:57.596Z"
   },
   {
    "duration": 168,
    "start_time": "2022-09-16T11:50:57.986Z"
   },
   {
    "duration": 598,
    "start_time": "2022-09-16T11:51:01.080Z"
   },
   {
    "duration": 466,
    "start_time": "2022-09-16T11:51:01.680Z"
   },
   {
    "duration": 326,
    "start_time": "2022-09-16T11:51:02.148Z"
   },
   {
    "duration": 135,
    "start_time": "2022-09-16T11:54:11.344Z"
   },
   {
    "duration": 291,
    "start_time": "2022-09-16T11:58:30.351Z"
   },
   {
    "duration": 442,
    "start_time": "2022-09-16T11:58:30.745Z"
   },
   {
    "duration": 506,
    "start_time": "2022-09-16T12:01:27.148Z"
   },
   {
    "duration": 451,
    "start_time": "2022-09-16T12:02:28.296Z"
   },
   {
    "duration": 472,
    "start_time": "2022-09-16T12:02:32.920Z"
   },
   {
    "duration": 4,
    "start_time": "2022-09-16T12:02:47.036Z"
   },
   {
    "duration": 5,
    "start_time": "2022-09-16T12:02:47.571Z"
   },
   {
    "duration": 33,
    "start_time": "2022-09-16T12:02:47.959Z"
   },
   {
    "duration": 10,
    "start_time": "2022-09-16T12:02:48.380Z"
   },
   {
    "duration": 3,
    "start_time": "2022-09-16T12:02:50.859Z"
   },
   {
    "duration": 3,
    "start_time": "2022-09-16T12:02:51.329Z"
   },
   {
    "duration": 4,
    "start_time": "2022-09-16T12:03:00.445Z"
   },
   {
    "duration": 5,
    "start_time": "2022-09-16T12:03:00.826Z"
   },
   {
    "duration": 29,
    "start_time": "2022-09-16T12:03:01.187Z"
   },
   {
    "duration": 4,
    "start_time": "2022-09-16T12:03:01.643Z"
   },
   {
    "duration": 3,
    "start_time": "2022-09-16T12:03:14.519Z"
   },
   {
    "duration": 4,
    "start_time": "2022-09-16T12:03:14.879Z"
   },
   {
    "duration": 28,
    "start_time": "2022-09-16T12:03:15.153Z"
   },
   {
    "duration": 4,
    "start_time": "2022-09-16T12:03:15.588Z"
   },
   {
    "duration": 3,
    "start_time": "2022-09-16T12:03:44.563Z"
   },
   {
    "duration": 4,
    "start_time": "2022-09-16T12:03:44.989Z"
   },
   {
    "duration": 29,
    "start_time": "2022-09-16T12:03:45.601Z"
   },
   {
    "duration": 4,
    "start_time": "2022-09-16T12:03:46.982Z"
   },
   {
    "duration": 77,
    "start_time": "2022-09-16T12:04:23.641Z"
   },
   {
    "duration": 12,
    "start_time": "2022-09-16T12:04:23.961Z"
   },
   {
    "duration": 1258,
    "start_time": "2022-09-16T23:18:13.695Z"
   },
   {
    "duration": 2157,
    "start_time": "2022-09-16T23:18:14.955Z"
   },
   {
    "duration": 35,
    "start_time": "2022-09-16T23:18:17.114Z"
   },
   {
    "duration": 110,
    "start_time": "2022-09-16T23:18:17.151Z"
   },
   {
    "duration": 237,
    "start_time": "2022-09-16T23:18:17.263Z"
   },
   {
    "duration": 10,
    "start_time": "2022-09-16T23:18:17.502Z"
   },
   {
    "duration": 10,
    "start_time": "2022-09-16T23:18:17.513Z"
   },
   {
    "duration": 20,
    "start_time": "2022-09-16T23:18:17.525Z"
   },
   {
    "duration": 5,
    "start_time": "2022-09-16T23:18:17.546Z"
   },
   {
    "duration": 12,
    "start_time": "2022-09-16T23:18:17.552Z"
   },
   {
    "duration": 9,
    "start_time": "2022-09-16T23:18:17.596Z"
   },
   {
    "duration": 210,
    "start_time": "2022-09-16T23:18:17.607Z"
   },
   {
    "duration": 8,
    "start_time": "2022-09-16T23:18:17.819Z"
   },
   {
    "duration": 5,
    "start_time": "2022-09-16T23:18:17.831Z"
   },
   {
    "duration": 15,
    "start_time": "2022-09-16T23:18:17.838Z"
   },
   {
    "duration": 5,
    "start_time": "2022-09-16T23:18:17.855Z"
   },
   {
    "duration": 115,
    "start_time": "2022-09-16T23:18:17.861Z"
   },
   {
    "duration": 71,
    "start_time": "2022-09-16T23:18:17.978Z"
   },
   {
    "duration": 48,
    "start_time": "2022-09-16T23:18:18.050Z"
   },
   {
    "duration": 5,
    "start_time": "2022-09-16T23:18:18.100Z"
   },
   {
    "duration": 7,
    "start_time": "2022-09-16T23:18:18.107Z"
   },
   {
    "duration": 28,
    "start_time": "2022-09-16T23:18:18.116Z"
   },
   {
    "duration": 13,
    "start_time": "2022-09-16T23:18:18.146Z"
   },
   {
    "duration": 35,
    "start_time": "2022-09-16T23:18:18.160Z"
   },
   {
    "duration": 4,
    "start_time": "2022-09-16T23:18:18.197Z"
   },
   {
    "duration": 12,
    "start_time": "2022-09-16T23:18:18.203Z"
   },
   {
    "duration": 12,
    "start_time": "2022-09-16T23:18:18.217Z"
   },
   {
    "duration": 102,
    "start_time": "2022-09-16T23:18:18.230Z"
   },
   {
    "duration": 12,
    "start_time": "2022-09-16T23:18:18.333Z"
   },
   {
    "duration": 3053,
    "start_time": "2022-09-16T23:18:18.347Z"
   },
   {
    "duration": 9,
    "start_time": "2022-09-16T23:18:21.402Z"
   },
   {
    "duration": 27,
    "start_time": "2022-09-16T23:18:21.412Z"
   },
   {
    "duration": 3,
    "start_time": "2022-09-16T23:18:21.441Z"
   },
   {
    "duration": 10,
    "start_time": "2022-09-16T23:18:21.446Z"
   },
   {
    "duration": 144,
    "start_time": "2022-09-16T23:18:21.458Z"
   },
   {
    "duration": 344,
    "start_time": "2022-09-16T23:18:21.604Z"
   },
   {
    "duration": 9,
    "start_time": "2022-09-16T23:18:21.950Z"
   },
   {
    "duration": 8,
    "start_time": "2022-09-16T23:18:21.960Z"
   },
   {
    "duration": 117,
    "start_time": "2022-09-16T23:18:21.970Z"
   },
   {
    "duration": 1021,
    "start_time": "2022-09-16T23:18:22.095Z"
   },
   {
    "duration": 10,
    "start_time": "2022-09-16T23:18:23.121Z"
   },
   {
    "duration": 7,
    "start_time": "2022-09-16T23:18:23.133Z"
   },
   {
    "duration": 112,
    "start_time": "2022-09-16T23:18:23.141Z"
   },
   {
    "duration": 358,
    "start_time": "2022-09-16T23:18:23.255Z"
   },
   {
    "duration": 9,
    "start_time": "2022-09-16T23:18:23.614Z"
   },
   {
    "duration": 9,
    "start_time": "2022-09-16T23:18:23.625Z"
   },
   {
    "duration": 112,
    "start_time": "2022-09-16T23:18:23.636Z"
   },
   {
    "duration": 1503,
    "start_time": "2022-09-16T23:18:23.750Z"
   },
   {
    "duration": 12,
    "start_time": "2022-09-16T23:18:25.255Z"
   },
   {
    "duration": 8,
    "start_time": "2022-09-16T23:18:25.268Z"
   },
   {
    "duration": 130,
    "start_time": "2022-09-16T23:18:25.277Z"
   },
   {
    "duration": 177,
    "start_time": "2022-09-16T23:18:25.409Z"
   },
   {
    "duration": 327,
    "start_time": "2022-09-16T23:18:25.588Z"
   },
   {
    "duration": 4443,
    "start_time": "2022-09-16T23:18:25.916Z"
   },
   {
    "duration": 1195,
    "start_time": "2022-09-16T23:18:30.361Z"
   },
   {
    "duration": 315,
    "start_time": "2022-09-16T23:18:31.558Z"
   },
   {
    "duration": 772,
    "start_time": "2022-09-16T23:18:31.875Z"
   },
   {
    "duration": 676,
    "start_time": "2022-09-16T23:18:32.649Z"
   },
   {
    "duration": 641,
    "start_time": "2022-09-16T23:18:33.326Z"
   },
   {
    "duration": 4,
    "start_time": "2022-09-16T23:18:33.968Z"
   },
   {
    "duration": 8,
    "start_time": "2022-09-16T23:18:33.973Z"
   },
   {
    "duration": 172,
    "start_time": "2022-09-16T23:18:33.983Z"
   },
   {
    "duration": 4,
    "start_time": "2022-09-16T23:18:34.157Z"
   },
   {
    "duration": 5,
    "start_time": "2022-09-16T23:18:34.163Z"
   },
   {
    "duration": 27,
    "start_time": "2022-09-16T23:18:34.169Z"
   },
   {
    "duration": 23,
    "start_time": "2022-09-16T23:18:34.197Z"
   },
   {
    "duration": 21,
    "start_time": "2022-09-16T23:18:34.222Z"
   },
   {
    "duration": 12,
    "start_time": "2022-09-16T23:18:34.244Z"
   },
   {
    "duration": 320,
    "start_time": "2022-09-16T23:18:34.257Z"
   },
   {
    "duration": 296,
    "start_time": "2022-09-16T23:18:34.578Z"
   },
   {
    "duration": 166,
    "start_time": "2022-09-16T23:18:34.877Z"
   },
   {
    "duration": 6,
    "start_time": "2022-09-16T23:18:35.044Z"
   },
   {
    "duration": 170,
    "start_time": "2022-09-16T23:18:35.051Z"
   },
   {
    "duration": 8,
    "start_time": "2022-09-16T23:18:35.223Z"
   },
   {
    "duration": 14,
    "start_time": "2022-09-16T23:18:35.233Z"
   },
   {
    "duration": 18,
    "start_time": "2022-09-16T23:18:35.249Z"
   },
   {
    "duration": 15,
    "start_time": "2022-09-16T23:18:35.294Z"
   },
   {
    "duration": 7,
    "start_time": "2022-09-16T23:18:35.311Z"
   },
   {
    "duration": 11,
    "start_time": "2022-09-16T23:18:35.319Z"
   },
   {
    "duration": 11,
    "start_time": "2022-09-16T23:18:35.332Z"
   },
   {
    "duration": 12,
    "start_time": "2022-09-16T23:18:35.344Z"
   },
   {
    "duration": 247,
    "start_time": "2022-09-16T23:18:35.357Z"
   },
   {
    "duration": 8,
    "start_time": "2022-09-16T23:18:35.606Z"
   },
   {
    "duration": 7,
    "start_time": "2022-09-16T23:18:35.616Z"
   },
   {
    "duration": 15,
    "start_time": "2022-09-16T23:18:35.624Z"
   },
   {
    "duration": 315,
    "start_time": "2022-09-16T23:18:35.641Z"
   },
   {
    "duration": 402,
    "start_time": "2022-09-16T23:18:35.958Z"
   },
   {
    "duration": 325,
    "start_time": "2022-09-16T23:18:36.361Z"
   },
   {
    "duration": 300,
    "start_time": "2022-09-16T23:18:36.688Z"
   },
   {
    "duration": 189,
    "start_time": "2022-09-16T23:18:36.994Z"
   },
   {
    "duration": 138,
    "start_time": "2022-09-16T23:18:37.185Z"
   },
   {
    "duration": 191,
    "start_time": "2022-09-16T23:18:37.325Z"
   },
   {
    "duration": 184,
    "start_time": "2022-09-16T23:18:37.518Z"
   },
   {
    "duration": 177,
    "start_time": "2022-09-16T23:18:37.704Z"
   },
   {
    "duration": 190,
    "start_time": "2022-09-16T23:18:37.882Z"
   },
   {
    "duration": 322,
    "start_time": "2022-09-16T23:18:38.074Z"
   },
   {
    "duration": 184,
    "start_time": "2022-09-16T23:18:38.398Z"
   },
   {
    "duration": 186,
    "start_time": "2022-09-16T23:18:38.584Z"
   },
   {
    "duration": 186,
    "start_time": "2022-09-16T23:18:38.772Z"
   },
   {
    "duration": 507,
    "start_time": "2022-09-16T23:18:38.959Z"
   },
   {
    "duration": 335,
    "start_time": "2022-09-16T23:18:39.468Z"
   },
   {
    "duration": 15,
    "start_time": "2022-09-16T23:18:39.804Z"
   },
   {
    "duration": 210,
    "start_time": "2022-09-16T23:18:39.820Z"
   },
   {
    "duration": 213,
    "start_time": "2022-09-16T23:18:40.032Z"
   },
   {
    "duration": 202,
    "start_time": "2022-09-16T23:18:40.247Z"
   },
   {
    "duration": 295,
    "start_time": "2022-09-16T23:18:40.450Z"
   },
   {
    "duration": 152,
    "start_time": "2022-09-16T23:18:40.747Z"
   },
   {
    "duration": 187,
    "start_time": "2022-09-16T23:18:40.901Z"
   },
   {
    "duration": 249,
    "start_time": "2022-09-16T23:18:41.094Z"
   },
   {
    "duration": 181,
    "start_time": "2022-09-16T23:18:41.345Z"
   },
   {
    "duration": 175,
    "start_time": "2022-09-16T23:18:41.529Z"
   },
   {
    "duration": 175,
    "start_time": "2022-09-16T23:18:41.706Z"
   },
   {
    "duration": 140,
    "start_time": "2022-09-16T23:18:41.883Z"
   },
   {
    "duration": 172,
    "start_time": "2022-09-16T23:18:42.025Z"
   },
   {
    "duration": 23,
    "start_time": "2022-09-16T23:18:42.198Z"
   },
   {
    "duration": 7,
    "start_time": "2022-09-16T23:18:42.223Z"
   },
   {
    "duration": 8,
    "start_time": "2022-09-16T23:18:42.232Z"
   },
   {
    "duration": 193,
    "start_time": "2022-09-16T23:18:42.242Z"
   },
   {
    "duration": 2,
    "start_time": "2022-09-16T23:18:42.437Z"
   },
   {
    "duration": 8819,
    "start_time": "2022-09-16T23:18:42.440Z"
   },
   {
    "duration": 413,
    "start_time": "2022-09-16T23:18:51.260Z"
   },
   {
    "duration": 575,
    "start_time": "2022-09-16T23:18:51.680Z"
   },
   {
    "duration": 96,
    "start_time": "2022-09-16T23:18:52.257Z"
   },
   {
    "duration": 18,
    "start_time": "2022-09-16T23:39:48.346Z"
   },
   {
    "duration": 17,
    "start_time": "2022-09-16T23:40:02.603Z"
   },
   {
    "duration": 201,
    "start_time": "2022-09-16T23:42:28.598Z"
   },
   {
    "duration": 1243,
    "start_time": "2022-09-16T23:44:36.114Z"
   },
   {
    "duration": 2124,
    "start_time": "2022-09-16T23:44:37.359Z"
   },
   {
    "duration": 36,
    "start_time": "2022-09-16T23:44:39.485Z"
   },
   {
    "duration": 94,
    "start_time": "2022-09-16T23:44:39.523Z"
   },
   {
    "duration": 226,
    "start_time": "2022-09-16T23:44:39.619Z"
   },
   {
    "duration": 9,
    "start_time": "2022-09-16T23:44:39.847Z"
   },
   {
    "duration": 10,
    "start_time": "2022-09-16T23:44:39.857Z"
   },
   {
    "duration": 39,
    "start_time": "2022-09-16T23:44:39.868Z"
   },
   {
    "duration": 6,
    "start_time": "2022-09-16T23:44:39.908Z"
   },
   {
    "duration": 14,
    "start_time": "2022-09-16T23:44:39.916Z"
   },
   {
    "duration": 10,
    "start_time": "2022-09-16T23:44:39.931Z"
   },
   {
    "duration": 219,
    "start_time": "2022-09-16T23:44:39.943Z"
   },
   {
    "duration": 7,
    "start_time": "2022-09-16T23:44:40.164Z"
   },
   {
    "duration": 21,
    "start_time": "2022-09-16T23:44:40.174Z"
   },
   {
    "duration": 15,
    "start_time": "2022-09-16T23:44:40.197Z"
   },
   {
    "duration": 4,
    "start_time": "2022-09-16T23:44:40.214Z"
   },
   {
    "duration": 101,
    "start_time": "2022-09-16T23:44:40.220Z"
   },
   {
    "duration": 57,
    "start_time": "2022-09-16T23:44:40.323Z"
   },
   {
    "duration": 41,
    "start_time": "2022-09-16T23:44:40.381Z"
   },
   {
    "duration": 5,
    "start_time": "2022-09-16T23:44:40.424Z"
   },
   {
    "duration": 9,
    "start_time": "2022-09-16T23:44:40.431Z"
   },
   {
    "duration": 28,
    "start_time": "2022-09-16T23:44:40.442Z"
   },
   {
    "duration": 17,
    "start_time": "2022-09-16T23:44:40.494Z"
   },
   {
    "duration": 10,
    "start_time": "2022-09-16T23:44:40.513Z"
   },
   {
    "duration": 5,
    "start_time": "2022-09-16T23:44:40.524Z"
   },
   {
    "duration": 9,
    "start_time": "2022-09-16T23:44:40.531Z"
   },
   {
    "duration": 12,
    "start_time": "2022-09-16T23:44:40.542Z"
   },
   {
    "duration": 141,
    "start_time": "2022-09-16T23:44:40.556Z"
   },
   {
    "duration": 12,
    "start_time": "2022-09-16T23:44:40.699Z"
   },
   {
    "duration": 3024,
    "start_time": "2022-09-16T23:44:40.713Z"
   },
   {
    "duration": 8,
    "start_time": "2022-09-16T23:44:43.739Z"
   },
   {
    "duration": 28,
    "start_time": "2022-09-16T23:44:43.748Z"
   },
   {
    "duration": 18,
    "start_time": "2022-09-16T23:44:43.778Z"
   },
   {
    "duration": 11,
    "start_time": "2022-09-16T23:44:43.797Z"
   },
   {
    "duration": 116,
    "start_time": "2022-09-16T23:44:43.810Z"
   },
   {
    "duration": 343,
    "start_time": "2022-09-16T23:44:43.928Z"
   },
   {
    "duration": 12,
    "start_time": "2022-09-16T23:44:44.273Z"
   },
   {
    "duration": 8,
    "start_time": "2022-09-16T23:44:44.296Z"
   },
   {
    "duration": 109,
    "start_time": "2022-09-16T23:44:44.306Z"
   },
   {
    "duration": 967,
    "start_time": "2022-09-16T23:44:44.417Z"
   },
   {
    "duration": 10,
    "start_time": "2022-09-16T23:44:45.394Z"
   },
   {
    "duration": 8,
    "start_time": "2022-09-16T23:44:45.405Z"
   },
   {
    "duration": 108,
    "start_time": "2022-09-16T23:44:45.414Z"
   },
   {
    "duration": 333,
    "start_time": "2022-09-16T23:44:45.524Z"
   },
   {
    "duration": 8,
    "start_time": "2022-09-16T23:44:45.859Z"
   },
   {
    "duration": 9,
    "start_time": "2022-09-16T23:44:45.869Z"
   },
   {
    "duration": 102,
    "start_time": "2022-09-16T23:44:45.879Z"
   },
   {
    "duration": 1365,
    "start_time": "2022-09-16T23:44:45.983Z"
   },
   {
    "duration": 10,
    "start_time": "2022-09-16T23:44:47.350Z"
   },
   {
    "duration": 8,
    "start_time": "2022-09-16T23:44:47.361Z"
   },
   {
    "duration": 134,
    "start_time": "2022-09-16T23:44:47.370Z"
   },
   {
    "duration": 180,
    "start_time": "2022-09-16T23:44:47.506Z"
   },
   {
    "duration": 334,
    "start_time": "2022-09-16T23:44:47.688Z"
   },
   {
    "duration": 4383,
    "start_time": "2022-09-16T23:44:48.024Z"
   },
   {
    "duration": 1176,
    "start_time": "2022-09-16T23:44:52.408Z"
   },
   {
    "duration": 312,
    "start_time": "2022-09-16T23:44:53.585Z"
   },
   {
    "duration": 748,
    "start_time": "2022-09-16T23:44:53.899Z"
   },
   {
    "duration": 680,
    "start_time": "2022-09-16T23:44:54.649Z"
   },
   {
    "duration": 675,
    "start_time": "2022-09-16T23:44:55.331Z"
   },
   {
    "duration": 4,
    "start_time": "2022-09-16T23:44:56.008Z"
   },
   {
    "duration": 10,
    "start_time": "2022-09-16T23:44:56.013Z"
   },
   {
    "duration": 180,
    "start_time": "2022-09-16T23:44:56.025Z"
   },
   {
    "duration": 3,
    "start_time": "2022-09-16T23:44:56.207Z"
   },
   {
    "duration": 8,
    "start_time": "2022-09-16T23:44:56.212Z"
   },
   {
    "duration": 11,
    "start_time": "2022-09-16T23:44:56.221Z"
   },
   {
    "duration": 27,
    "start_time": "2022-09-16T23:44:56.233Z"
   },
   {
    "duration": 47,
    "start_time": "2022-09-16T23:44:56.262Z"
   },
   {
    "duration": 14,
    "start_time": "2022-09-16T23:44:56.310Z"
   },
   {
    "duration": 382,
    "start_time": "2022-09-16T23:44:56.326Z"
   },
   {
    "duration": 341,
    "start_time": "2022-09-16T23:44:56.709Z"
   },
   {
    "duration": 175,
    "start_time": "2022-09-16T23:44:57.052Z"
   },
   {
    "duration": 6,
    "start_time": "2022-09-16T23:44:57.228Z"
   },
   {
    "duration": 186,
    "start_time": "2022-09-16T23:44:57.236Z"
   },
   {
    "duration": 7,
    "start_time": "2022-09-16T23:44:57.424Z"
   },
   {
    "duration": 15,
    "start_time": "2022-09-16T23:44:57.433Z"
   },
   {
    "duration": 19,
    "start_time": "2022-09-16T23:44:57.450Z"
   },
   {
    "duration": 35,
    "start_time": "2022-09-16T23:44:57.471Z"
   },
   {
    "duration": 7,
    "start_time": "2022-09-16T23:44:57.508Z"
   },
   {
    "duration": 15,
    "start_time": "2022-09-16T23:44:57.516Z"
   },
   {
    "duration": 10,
    "start_time": "2022-09-16T23:44:57.533Z"
   },
   {
    "duration": 10,
    "start_time": "2022-09-16T23:44:57.545Z"
   },
   {
    "duration": 259,
    "start_time": "2022-09-16T23:44:57.557Z"
   },
   {
    "duration": 8,
    "start_time": "2022-09-16T23:44:57.818Z"
   },
   {
    "duration": 7,
    "start_time": "2022-09-16T23:44:57.827Z"
   },
   {
    "duration": 14,
    "start_time": "2022-09-16T23:44:57.835Z"
   },
   {
    "duration": 318,
    "start_time": "2022-09-16T23:44:57.850Z"
   },
   {
    "duration": 406,
    "start_time": "2022-09-16T23:44:58.170Z"
   },
   {
    "duration": 299,
    "start_time": "2022-09-16T23:44:58.578Z"
   },
   {
    "duration": 290,
    "start_time": "2022-09-16T23:44:58.878Z"
   },
   {
    "duration": 173,
    "start_time": "2022-09-16T23:44:59.169Z"
   },
   {
    "duration": 126,
    "start_time": "2022-09-16T23:44:59.343Z"
   },
   {
    "duration": 192,
    "start_time": "2022-09-16T23:44:59.471Z"
   },
   {
    "duration": 181,
    "start_time": "2022-09-16T23:44:59.665Z"
   },
   {
    "duration": 192,
    "start_time": "2022-09-16T23:44:59.848Z"
   },
   {
    "duration": 191,
    "start_time": "2022-09-16T23:45:00.042Z"
   },
   {
    "duration": 346,
    "start_time": "2022-09-16T23:45:00.235Z"
   },
   {
    "duration": 213,
    "start_time": "2022-09-16T23:45:00.582Z"
   },
   {
    "duration": 217,
    "start_time": "2022-09-16T23:45:00.797Z"
   },
   {
    "duration": 203,
    "start_time": "2022-09-16T23:45:01.016Z"
   },
   {
    "duration": 530,
    "start_time": "2022-09-16T23:45:01.221Z"
   },
   {
    "duration": 393,
    "start_time": "2022-09-16T23:45:01.753Z"
   },
   {
    "duration": 18,
    "start_time": "2022-09-16T23:45:02.148Z"
   },
   {
    "duration": 241,
    "start_time": "2022-09-16T23:45:02.168Z"
   },
   {
    "duration": 228,
    "start_time": "2022-09-16T23:45:02.411Z"
   },
   {
    "duration": 226,
    "start_time": "2022-09-16T23:45:02.641Z"
   },
   {
    "duration": 312,
    "start_time": "2022-09-16T23:45:02.869Z"
   },
   {
    "duration": 164,
    "start_time": "2022-09-16T23:45:03.182Z"
   },
   {
    "duration": 185,
    "start_time": "2022-09-16T23:45:03.348Z"
   },
   {
    "duration": 256,
    "start_time": "2022-09-16T23:45:03.534Z"
   },
   {
    "duration": 168,
    "start_time": "2022-09-16T23:45:03.794Z"
   },
   {
    "duration": 157,
    "start_time": "2022-09-16T23:45:03.964Z"
   },
   {
    "duration": 163,
    "start_time": "2022-09-16T23:45:04.123Z"
   },
   {
    "duration": 132,
    "start_time": "2022-09-16T23:45:04.295Z"
   },
   {
    "duration": 174,
    "start_time": "2022-09-16T23:45:04.428Z"
   },
   {
    "duration": 23,
    "start_time": "2022-09-16T23:45:04.603Z"
   },
   {
    "duration": 6,
    "start_time": "2022-09-16T23:45:04.628Z"
   },
   {
    "duration": 10,
    "start_time": "2022-09-16T23:45:04.636Z"
   },
   {
    "duration": 179,
    "start_time": "2022-09-16T23:45:04.648Z"
   },
   {
    "duration": 3,
    "start_time": "2022-09-16T23:45:04.829Z"
   },
   {
    "duration": 8909,
    "start_time": "2022-09-16T23:45:04.833Z"
   },
   {
    "duration": 411,
    "start_time": "2022-09-16T23:45:13.744Z"
   },
   {
    "duration": 586,
    "start_time": "2022-09-16T23:45:14.162Z"
   },
   {
    "duration": 108,
    "start_time": "2022-09-16T23:45:14.750Z"
   }
  ],
  "kernelspec": {
   "display_name": "Python 3 (ipykernel)",
   "language": "python",
   "name": "python3"
  },
  "language_info": {
   "codemirror_mode": {
    "name": "ipython",
    "version": 3
   },
   "file_extension": ".py",
   "mimetype": "text/x-python",
   "name": "python",
   "nbconvert_exporter": "python",
   "pygments_lexer": "ipython3",
   "version": "3.9.12"
  },
  "toc": {
   "base_numbering": 1,
   "nav_menu": {},
   "number_sections": true,
   "sideBar": true,
   "skip_h1_title": true,
   "title_cell": "Table of Contents",
   "title_sidebar": "Contents",
   "toc_cell": false,
   "toc_position": {
    "height": "519px",
    "left": "261px",
    "top": "136.125px",
    "width": "259px"
   },
   "toc_section_display": true,
   "toc_window_display": true
  }
 },
 "nbformat": 4,
 "nbformat_minor": 2
}
